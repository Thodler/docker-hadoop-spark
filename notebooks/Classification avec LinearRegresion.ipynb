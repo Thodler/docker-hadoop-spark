{
 "cells": [
  {
   "cell_type": "code",
   "execution_count": 1,
   "id": "initial_id",
   "metadata": {},
   "outputs": [],
   "source": [
    "from pyspark.sql import SparkSession\n",
    "from pyspark.sql.functions import col, when, sum, count, avg, round, udf, corr\n",
    "from pyspark.ml.feature import StringIndexer, OneHotEncoder, VectorAssembler, IndexToString, StandardScaler\n",
    "from pyspark.ml.regression import LinearRegression\n",
    "from pyspark.ml.evaluation import MulticlassClassificationEvaluator, RegressionEvaluator\n",
    "from pyspark.ml.tuning import CrossValidator, ParamGridBuilder\n",
    "from pyspark.sql.types import DoubleType\n",
    "from pyspark.ml.stat import Correlation\n",
    "from pyspark.ml.linalg import VectorUDT"
   ]
  },
  {
   "cell_type": "code",
   "execution_count": 2,
   "id": "ab0bc1ae-9658-433b-8e95-570503bfe684",
   "metadata": {},
   "outputs": [
    {
     "name": "stderr",
     "output_type": "stream",
     "text": [
      "WARNING: An illegal reflective access operation has occurred\n",
      "WARNING: Illegal reflective access by org.apache.spark.unsafe.Platform (file:/usr/local/spark-3.2.0-bin-hadoop3.2/jars/spark-unsafe_2.12-3.2.0.jar) to constructor java.nio.DirectByteBuffer(long,int)\n",
      "WARNING: Please consider reporting this to the maintainers of org.apache.spark.unsafe.Platform\n",
      "WARNING: Use --illegal-access=warn to enable warnings of further illegal reflective access operations\n",
      "WARNING: All illegal access operations will be denied in a future release\n",
      "Using Spark's default log4j profile: org/apache/spark/log4j-defaults.properties\n",
      "Setting default log level to \"WARN\".\n",
      "To adjust logging level use sc.setLogLevel(newLevel). For SparkR, use setLogLevel(newLevel).\n",
      "24/11/18 14:29:21 WARN NativeCodeLoader: Unable to load native-hadoop library for your platform... using builtin-java classes where applicable\n",
      "24/11/18 14:29:22 WARN Utils: Service 'SparkUI' could not bind on port 4040. Attempting port 4041.\n",
      "24/11/18 14:29:22 WARN Utils: Service 'SparkUI' could not bind on port 4041. Attempting port 4042.\n",
      "24/11/18 14:29:22 WARN Utils: Service 'SparkUI' could not bind on port 4042. Attempting port 4043.\n"
     ]
    },
    {
     "data": {
      "text/plain": [
       "DataFrame[]"
      ]
     },
     "execution_count": 2,
     "metadata": {},
     "output_type": "execute_result"
    }
   ],
   "source": [
    "spark = SparkSession.builder\\\n",
    "    .appName(\"Préparation de données\")\\\n",
    "    .enableHiveSupport()\\\n",
    "    .getOrCreate()\n",
    "\n",
    "spark.sparkContext.setLogLevel(\"OFF\")\n",
    "spark.catalog.clearCache()\n",
    "spark.sql(\"USE concessionnaire\")"
   ]
  },
  {
   "cell_type": "code",
   "execution_count": 3,
   "id": "60f4b1ed-bdc8-4e9c-8f95-40586dd17b84",
   "metadata": {},
   "outputs": [
    {
     "name": "stdout",
     "output_type": "stream",
     "text": [
      "root\n",
      " |-- immatriculation: string (nullable = true)\n",
      " |-- age: double (nullable = true)\n",
      " |-- sexe: string (nullable = true)\n",
      " |-- taux: double (nullable = true)\n",
      " |-- situationfamiliale: string (nullable = true)\n",
      " |-- nbenfantacharge: integer (nullable = true)\n",
      " |-- deuxiemevoiture: boolean (nullable = true)\n",
      " |-- taux_eligible: boolean (nullable = true)\n",
      " |-- marque: string (nullable = true)\n",
      " |-- modele: string (nullable = true)\n",
      " |-- puissance: integer (nullable = true)\n",
      " |-- longueur: string (nullable = true)\n",
      " |-- nbplaces: integer (nullable = true)\n",
      " |-- nbportes: integer (nullable = true)\n",
      " |-- couleur: string (nullable = true)\n",
      " |-- occasion: boolean (nullable = true)\n",
      " |-- prix: integer (nullable = true)\n",
      " |-- categorie: string (nullable = true)\n",
      "\n"
     ]
    }
   ],
   "source": [
    "clients_immatriculations = spark.sql(\"SELECT * FROM clients_immatriculations\")\n",
    "clients_immatriculations.printSchema()"
   ]
  },
  {
   "cell_type": "markdown",
   "id": "9407675b-70b3-4f9c-9697-5692f69d1408",
   "metadata": {},
   "source": [
    "### Verification des doublons"
   ]
  },
  {
   "cell_type": "code",
   "execution_count": 4,
   "id": "8c56f420-ef98-4a2c-acce-87665cc20510",
   "metadata": {},
   "outputs": [
    {
     "name": "stderr",
     "output_type": "stream",
     "text": [
      "                                                                                \r"
     ]
    },
    {
     "name": "stdout",
     "output_type": "stream",
     "text": [
      "+---------------+---+----+----+------------------+---------------+---------------+-------------+------+------+---------+--------+--------+--------+-------+--------+----+---------+-----+\n",
      "|immatriculation|age|sexe|taux|situationfamiliale|nbenfantacharge|deuxiemevoiture|taux_eligible|marque|modele|puissance|longueur|nbplaces|nbportes|couleur|occasion|prix|categorie|count|\n",
      "+---------------+---+----+----+------------------+---------------+---------------+-------------+------+------+---------+--------+--------+--------+-------+--------+----+---------+-----+\n",
      "+---------------+---+----+----+------------------+---------------+---------------+-------------+------+------+---------+--------+--------+--------+-------+--------+----+---------+-----+\n",
      "\n"
     ]
    }
   ],
   "source": [
    "doublons = clients_immatriculations.groupBy(*clients_immatriculations.columns).agg(count(\"*\").alias(\"count\")).filter(\"count > 1\")\n",
    "doublons.show(truncate=False)"
   ]
  },
  {
   "cell_type": "markdown",
   "id": "38ba59e5-8312-46f6-ad8c-7dcaeaaff557",
   "metadata": {},
   "source": [
    "### Analyse des **null**"
   ]
  },
  {
   "cell_type": "code",
   "execution_count": 5,
   "id": "3e63acba-9679-4d7f-8b39-77945e1d9951",
   "metadata": {},
   "outputs": [
    {
     "name": "stderr",
     "output_type": "stream",
     "text": [
      "[Stage 7:=====================================================>   (15 + 1) / 16]\r"
     ]
    },
    {
     "name": "stdout",
     "output_type": "stream",
     "text": [
      "+---------------+-----+\n",
      "|nbenfantacharge|count|\n",
      "+---------------+-----+\n",
      "|              1|16425|\n",
      "|              3|11451|\n",
      "|              4| 9960|\n",
      "|              2|16592|\n",
      "|              0|44973|\n",
      "+---------------+-----+\n",
      "\n"
     ]
    },
    {
     "name": "stderr",
     "output_type": "stream",
     "text": [
      "                                                                                \r"
     ]
    }
   ],
   "source": [
    "doublons = clients_immatriculations.groupBy('nbenfantacharge').count().show()"
   ]
  },
  {
   "cell_type": "markdown",
   "id": "4b2dbdd6-31ac-4a42-a66e-3cc563d97178",
   "metadata": {},
   "source": [
    "### Supprimer les colones innutiles"
   ]
  },
  {
   "cell_type": "code",
   "execution_count": 6,
   "id": "2c1b5453-dd53-4be0-be94-d9cca673f60c",
   "metadata": {},
   "outputs": [],
   "source": [
    "clients_immatriculations = clients_immatriculations.drop('immatriculation')\n",
    "clients_immatriculations = clients_immatriculations.drop('couleur')"
   ]
  },
  {
   "cell_type": "markdown",
   "id": "3c8b60cd-5374-46a8-9c79-d076d6116249",
   "metadata": {},
   "source": [
    "### OneHotEncoder"
   ]
  },
  {
   "cell_type": "code",
   "execution_count": 7,
   "id": "d2511917-dd2e-4baf-98a0-1274f9cb99af",
   "metadata": {},
   "outputs": [
    {
     "name": "stderr",
     "output_type": "stream",
     "text": [
      "                                                                                \r"
     ]
    }
   ],
   "source": [
    "indexer_marque = StringIndexer(inputCol=\"marque\", outputCol=\"marque_index\")\n",
    "indexer_marque = indexer_marque.fit(clients_immatriculations)\n",
    "clients_immatriculations = indexer_marque.transform(clients_immatriculations)\n",
    "\n",
    "encoder_marque = OneHotEncoder(inputCol=\"marque_index\", outputCol=\"marque_encoded\")\n",
    "clients_immatriculations = encoder_marque.fit(clients_immatriculations).transform(clients_immatriculations)"
   ]
  },
  {
   "cell_type": "code",
   "execution_count": 8,
   "id": "d3ddd877-5a4d-46f1-b09d-8817ae8c105f",
   "metadata": {},
   "outputs": [
    {
     "name": "stderr",
     "output_type": "stream",
     "text": [
      "                                                                                \r"
     ]
    }
   ],
   "source": [
    "indexer_sexe = StringIndexer(inputCol=\"sexe\", outputCol=\"sexe_index\")\n",
    "indexer_sexe = indexer_sexe.fit(clients_immatriculations)\n",
    "clients_immatriculations = indexer_sexe.transform(clients_immatriculations)\n",
    "\n",
    "encoder_sexe = OneHotEncoder(inputCol=\"sexe_index\", outputCol=\"sexe_encoded\")\n",
    "clients_immatriculations = encoder_sexe.fit(clients_immatriculations).transform(clients_immatriculations)"
   ]
  },
  {
   "cell_type": "code",
   "execution_count": 9,
   "id": "b09d7ca6-0af0-4d2c-9dc3-bc6bb6797749",
   "metadata": {},
   "outputs": [
    {
     "name": "stderr",
     "output_type": "stream",
     "text": [
      "                                                                                \r"
     ]
    }
   ],
   "source": [
    "indexer_situationfamiliale = StringIndexer(inputCol=\"situationfamiliale\", outputCol=\"situationfamiliale_index\")\n",
    "indexer_situationfamiliale = indexer_situationfamiliale.fit(clients_immatriculations)\n",
    "clients_immatriculations = indexer_situationfamiliale.transform(clients_immatriculations)\n",
    "\n",
    "encoder_situationfamiliale = OneHotEncoder(inputCol=\"situationfamiliale_index\", outputCol=\"situationfamiliale_encoded\")\n",
    "clients_immatriculations = encoder_situationfamiliale.fit(clients_immatriculations).transform(clients_immatriculations)"
   ]
  },
  {
   "cell_type": "code",
   "execution_count": 10,
   "id": "2b2f949a-769a-4f30-b54e-e7c83769d91e",
   "metadata": {},
   "outputs": [],
   "source": [
    "clients_immatriculations = clients_immatriculations.drop('marque') \n",
    "clients_immatriculations = clients_immatriculations.drop('marque_index')\n",
    "clients_immatriculations = clients_immatriculations.drop('sexe') \n",
    "clients_immatriculations = clients_immatriculations.drop('sexe_index')\n",
    "clients_immatriculations = clients_immatriculations.drop('situationfamiliale') \n",
    "clients_immatriculations = clients_immatriculations.drop('situationfamiliale_index')\n",
    "\n",
    "clients_immatriculations = clients_immatriculations.withColumnRenamed('marque_encoded', 'marque')\n",
    "clients_immatriculations = clients_immatriculations.withColumnRenamed('sexe_encoded', 'sexe')\n",
    "clients_immatriculations = clients_immatriculations.withColumnRenamed('situationfamiliale_encoded', 'situationfamiliale')"
   ]
  },
  {
   "cell_type": "markdown",
   "id": "8b60109f-41b4-47be-8a43-5fd09cc9a4cc",
   "metadata": {},
   "source": [
    "## Changer des Boolean en Int"
   ]
  },
  {
   "cell_type": "code",
   "execution_count": 11,
   "id": "ae7c2346-4801-4f04-8687-4c9840fc92f5",
   "metadata": {},
   "outputs": [
    {
     "name": "stdout",
     "output_type": "stream",
     "text": [
      "+----+-----+---------------+---------------+-------------+----------------+---------+-----------+--------+--------+--------+-----+-------------------+---------------+-------------+------------------+\n",
      "| age| taux|nbenfantacharge|deuxiemevoiture|taux_eligible|          modele|puissance|   longueur|nbplaces|nbportes|occasion| prix|          categorie|         marque|         sexe|situationfamiliale|\n",
      "+----+-----+---------------+---------------+-------------+----------------+---------+-----------+--------+--------+--------+-----+-------------------+---------------+-------------+------------------+\n",
      "|61.0|188.0|              0|              0|            0|     picanto 1.1|       65|     courte|       5|       5|       0| 8990|citadine economique|(18,[13],[1.0])|(1,[0],[1.0])|     (3,[1],[1.0])|\n",
      "|50.0|460.0|              3|              0|            0|vel satis 3.5 v6|      245|tres longue|       5|       5|       0|49200|      suv/crossover| (18,[2],[1.0])|    (1,[],[])|     (3,[0],[1.0])|\n",
      "|54.0|403.0|              0|              0|            0|     polo 1.2 6v|       55|     courte|       5|       3|       0|12200|citadine economique| (18,[4],[1.0])|(1,[0],[1.0])|     (3,[1],[1.0])|\n",
      "|74.0|531.0|              4|              1|            0|            s500|      306|tres longue|       5|       5|       1|70910|      suv/crossover| (18,[5],[1.0])|(1,[0],[1.0])|     (3,[0],[1.0])|\n",
      "+----+-----+---------------+---------------+-------------+----------------+---------+-----------+--------+--------+--------+-----+-------------------+---------------+-------------+------------------+\n",
      "only showing top 4 rows\n",
      "\n"
     ]
    }
   ],
   "source": [
    "clients_immatriculations = clients_immatriculations.withColumn(\n",
    "    \"deuxiemevoiture\",\n",
    "    when(col(\"deuxiemevoiture\") == False, 0)\n",
    "    .when(col(\"deuxiemevoiture\") == True, 1)\n",
    "    .otherwise(col(\"deuxiemevoiture\").cast(\"int\"))\n",
    ")\n",
    "\n",
    "clients_immatriculations = clients_immatriculations.withColumn(\n",
    "    \"taux_eligible\",\n",
    "    when(col(\"taux_eligible\") == False, 0)\n",
    "    .when(col(\"taux_eligible\") == True, 1)\n",
    "    .otherwise(col(\"taux_eligible\").cast(\"int\"))\n",
    ")\n",
    "\n",
    "clients_immatriculations = clients_immatriculations.withColumn(\n",
    "    \"occasion\",\n",
    "    when(col(\"occasion\") == False, 0)\n",
    "    .when(col(\"occasion\") == True, 1)\n",
    "    .otherwise(col(\"occasion\").cast(\"int\"))\n",
    ")\n",
    "\n",
    "clients_immatriculations.show(4)"
   ]
  },
  {
   "cell_type": "markdown",
   "id": "7e6da3bb-b8ec-479b-b5d1-8626a64731fd",
   "metadata": {},
   "source": [
    "### Analyse de **Modele**"
   ]
  },
  {
   "cell_type": "code",
   "execution_count": 12,
   "id": "23fcbc78-c94f-42bc-a8a5-4737ead6ca80",
   "metadata": {},
   "outputs": [
    {
     "name": "stderr",
     "output_type": "stream",
     "text": [
      "[Stage 20:==========================================>             (12 + 4) / 16]\r"
     ]
    },
    {
     "name": "stdout",
     "output_type": "stream",
     "text": [
      "Il y a 28 modeles.\n"
     ]
    },
    {
     "name": "stderr",
     "output_type": "stream",
     "text": [
      "                                                                                \r"
     ]
    }
   ],
   "source": [
    "count_modele = clients_immatriculations.select(\"modele\").distinct().count()\n",
    "print(f\"Il y a {count_modele} modeles.\")"
   ]
  },
  {
   "cell_type": "markdown",
   "id": "07adbd44-5a6e-4d2a-9453-7fed2c76ddd9",
   "metadata": {},
   "source": [
    "On travail uniquement sur les catégories, les modèles spécifiques n'ajoutent pas de valeur.\n",
    "L'analyse est simplifier en se concentrant sur des regroupements plus larges."
   ]
  },
  {
   "cell_type": "code",
   "execution_count": 13,
   "id": "f91c13bc-01ad-48f1-a4f4-82264235620f",
   "metadata": {},
   "outputs": [
    {
     "name": "stdout",
     "output_type": "stream",
     "text": [
      "+----+-----+---------------+---------------+-------------+---------+-----------+--------+--------+--------+-----+-------------------+---------------+-------------+------------------+\n",
      "| age| taux|nbenfantacharge|deuxiemevoiture|taux_eligible|puissance|   longueur|nbplaces|nbportes|occasion| prix|          categorie|         marque|         sexe|situationfamiliale|\n",
      "+----+-----+---------------+---------------+-------------+---------+-----------+--------+--------+--------+-----+-------------------+---------------+-------------+------------------+\n",
      "|61.0|188.0|              0|              0|            0|       65|     courte|       5|       5|       0| 8990|citadine economique|(18,[13],[1.0])|(1,[0],[1.0])|     (3,[1],[1.0])|\n",
      "|50.0|460.0|              3|              0|            0|      245|tres longue|       5|       5|       0|49200|      suv/crossover| (18,[2],[1.0])|    (1,[],[])|     (3,[0],[1.0])|\n",
      "+----+-----+---------------+---------------+-------------+---------+-----------+--------+--------+--------+-----+-------------------+---------------+-------------+------------------+\n",
      "only showing top 2 rows\n",
      "\n"
     ]
    }
   ],
   "source": [
    "clients_immatriculations = clients_immatriculations.drop('modele') \n",
    "\n",
    "clients_immatriculations.show(n=2)"
   ]
  },
  {
   "cell_type": "markdown",
   "id": "93bc7289-eb6b-46ed-984f-965ac2c914f4",
   "metadata": {},
   "source": [
    "### Analyse de **longueur**"
   ]
  },
  {
   "cell_type": "code",
   "execution_count": 14,
   "id": "23193ea7-3f01-4c2a-a3bc-e396783e59e9",
   "metadata": {},
   "outputs": [
    {
     "name": "stderr",
     "output_type": "stream",
     "text": [
      "[Stage 27:=================================================>      (14 + 2) / 16]\r"
     ]
    },
    {
     "name": "stdout",
     "output_type": "stream",
     "text": [
      "+-----------+\n",
      "|   longueur|\n",
      "+-----------+\n",
      "|    moyenne|\n",
      "|tres longue|\n",
      "|     courte|\n",
      "|     longue|\n",
      "+-----------+\n",
      "\n"
     ]
    },
    {
     "name": "stderr",
     "output_type": "stream",
     "text": [
      "                                                                                \r"
     ]
    }
   ],
   "source": [
    "clients_immatriculations.select(\"longueur\").distinct().show()"
   ]
  },
  {
   "cell_type": "code",
   "execution_count": 15,
   "id": "18e07efe-5500-4c10-bf38-57617cd2f7d4",
   "metadata": {},
   "outputs": [
    {
     "name": "stderr",
     "output_type": "stream",
     "text": [
      "                                                                                \r"
     ]
    },
    {
     "name": "stdout",
     "output_type": "stream",
     "text": [
      "+----+-----+---------------+---------------+-------------+---------+--------+--------+--------+-----+-------------------+---------------+-------------+------------------+--------+\n",
      "| age| taux|nbenfantacharge|deuxiemevoiture|taux_eligible|puissance|nbplaces|nbportes|occasion| prix|          categorie|         marque|         sexe|situationfamiliale|longueur|\n",
      "+----+-----+---------------+---------------+-------------+---------+--------+--------+--------+-----+-------------------+---------------+-------------+------------------+--------+\n",
      "|61.0|188.0|              0|              0|            0|       65|       5|       5|       0| 8990|citadine economique|(18,[13],[1.0])|(1,[0],[1.0])|     (3,[1],[1.0])|     1.0|\n",
      "|50.0|460.0|              3|              0|            0|      245|       5|       5|       0|49200|      suv/crossover| (18,[2],[1.0])|    (1,[],[])|     (3,[0],[1.0])|     0.0|\n",
      "|54.0|403.0|              0|              0|            0|       55|       5|       3|       0|12200|citadine economique| (18,[4],[1.0])|(1,[0],[1.0])|     (3,[1],[1.0])|     1.0|\n",
      "|74.0|531.0|              4|              1|            0|      306|       5|       5|       1|70910|      suv/crossover| (18,[5],[1.0])|(1,[0],[1.0])|     (3,[0],[1.0])|     0.0|\n",
      "+----+-----+---------------+---------------+-------------+---------+--------+--------+--------+-----+-------------------+---------------+-------------+------------------+--------+\n",
      "only showing top 4 rows\n",
      "\n"
     ]
    }
   ],
   "source": [
    "indexer_longueur = StringIndexer(inputCol=\"longueur\", outputCol=\"longueur_indexed\")\n",
    "indexer_model_longueur = indexer_longueur.fit(clients_immatriculations)\n",
    "clients_immatriculations = indexer_model_longueur.transform(clients_immatriculations)\n",
    "\n",
    "clients_immatriculations = clients_immatriculations.drop('longueur')\n",
    "clients_immatriculations = clients_immatriculations.withColumnRenamed('longueur_indexed', 'longueur')\n",
    "\n",
    "clients_immatriculations.show(n=4)"
   ]
  },
  {
   "cell_type": "markdown",
   "id": "9e2b35f0-5bb5-408b-aede-34976f3aca06",
   "metadata": {},
   "source": [
    "### Nombre de place"
   ]
  },
  {
   "cell_type": "code",
   "execution_count": 16,
   "id": "20902f3b-6f51-46da-87b4-843097f18b5e",
   "metadata": {},
   "outputs": [
    {
     "name": "stderr",
     "output_type": "stream",
     "text": [
      "[Stage 34:===>                                                    (1 + 15) / 16]\r"
     ]
    },
    {
     "name": "stdout",
     "output_type": "stream",
     "text": [
      "+--------+-----+\n",
      "|nbplaces|count|\n",
      "+--------+-----+\n",
      "|       5|99401|\n",
      "+--------+-----+\n",
      "\n"
     ]
    },
    {
     "name": "stderr",
     "output_type": "stream",
     "text": [
      "                                                                                \r"
     ]
    }
   ],
   "source": [
    "clients_immatriculations.groupBy(\"nbplaces\").count().show()"
   ]
  },
  {
   "cell_type": "markdown",
   "id": "283ca56a-b030-4cb8-af40-ef7520a64a72",
   "metadata": {},
   "source": [
    "Nombre de place ne dispose d'aucune variation, elle n'apporte rien au modele."
   ]
  },
  {
   "cell_type": "code",
   "execution_count": 17,
   "id": "89f4433e-fc09-42d3-9544-9f3a1dd17d24",
   "metadata": {},
   "outputs": [],
   "source": [
    "clients_immatriculations = clients_immatriculations.drop('nbplaces')"
   ]
  },
  {
   "cell_type": "markdown",
   "id": "cb6255f3-c5ba-40fe-80f6-e102ecca58ab",
   "metadata": {},
   "source": [
    "## Normalisation"
   ]
  },
  {
   "cell_type": "code",
   "execution_count": 18,
   "id": "56277c64-b994-4af0-b78f-6f35824725ef",
   "metadata": {},
   "outputs": [
    {
     "name": "stdout",
     "output_type": "stream",
     "text": [
      "+-------------------+-----+\n",
      "|          categorie|count|\n",
      "+-------------------+-----+\n",
      "|              autre| 5795|\n",
      "|          familiale|30361|\n",
      "|citadine economique|26778|\n",
      "|      suv/crossover|36467|\n",
      "+-------------------+-----+\n",
      "\n"
     ]
    },
    {
     "name": "stderr",
     "output_type": "stream",
     "text": [
      "                                                                                \r"
     ]
    }
   ],
   "source": [
    "clients_immatriculations.groupBy(\"categorie\").count().show()"
   ]
  },
  {
   "cell_type": "code",
   "execution_count": 19,
   "id": "d32c8ff4-6042-4155-a441-88c7b7c99e82",
   "metadata": {},
   "outputs": [
    {
     "name": "stdout",
     "output_type": "stream",
     "text": [
      "root\n",
      " |-- age: double (nullable = true)\n",
      " |-- taux: double (nullable = true)\n",
      " |-- nbenfantacharge: integer (nullable = true)\n",
      " |-- deuxiemevoiture: integer (nullable = true)\n",
      " |-- taux_eligible: integer (nullable = true)\n",
      " |-- puissance: integer (nullable = true)\n",
      " |-- nbportes: integer (nullable = true)\n",
      " |-- occasion: integer (nullable = true)\n",
      " |-- prix: integer (nullable = true)\n",
      " |-- categorie: string (nullable = true)\n",
      " |-- marque: vector (nullable = true)\n",
      " |-- sexe: vector (nullable = true)\n",
      " |-- situationfamiliale: vector (nullable = true)\n",
      " |-- longueur: double (nullable = false)\n",
      "\n",
      "+----+------+---------------+---------------+-------------+---------+--------+--------+------+-------------------+---------------+-------------+------------------+--------+\n",
      "| age|  taux|nbenfantacharge|deuxiemevoiture|taux_eligible|puissance|nbportes|occasion|  prix|          categorie|         marque|         sexe|situationfamiliale|longueur|\n",
      "+----+------+---------------+---------------+-------------+---------+--------+--------+------+-------------------+---------------+-------------+------------------+--------+\n",
      "|61.0| 188.0|              0|              0|            0|       65|       5|       0|  8990|citadine economique|(18,[13],[1.0])|(1,[0],[1.0])|     (3,[1],[1.0])|     1.0|\n",
      "|50.0| 460.0|              3|              0|            0|      245|       5|       0| 49200|      suv/crossover| (18,[2],[1.0])|    (1,[],[])|     (3,[0],[1.0])|     0.0|\n",
      "|54.0| 403.0|              0|              0|            0|       55|       3|       0| 12200|citadine economique| (18,[4],[1.0])|(1,[0],[1.0])|     (3,[1],[1.0])|     1.0|\n",
      "|74.0| 531.0|              4|              1|            0|      306|       5|       1| 70910|      suv/crossover| (18,[5],[1.0])|(1,[0],[1.0])|     (3,[0],[1.0])|     0.0|\n",
      "|35.0| 208.0|              0|              0|            0|      150|       5|       1| 16029|          familiale| (18,[4],[1.0])|(1,[0],[1.0])|     (3,[1],[1.0])|     3.0|\n",
      "|66.0| 960.0|              1|              0|            1|      150|       5|       0| 38600|      suv/crossover| (18,[8],[1.0])|(1,[0],[1.0])|     (3,[0],[1.0])|     2.0|\n",
      "|65.0| 199.0|              0|              0|            0|      102|       5|       0| 18880|          familiale|(18,[15],[1.0])|    (1,[],[])|     (3,[0],[1.0])|     2.0|\n",
      "|67.0|1072.0|              0|              0|            1|      306|       5|       0|101300|      suv/crossover| (18,[5],[1.0])|(1,[0],[1.0])|     (3,[0],[1.0])|     0.0|\n",
      "|34.0| 411.0|              4|              0|            0|      245|       5|       0| 49200|      suv/crossover| (18,[2],[1.0])|(1,[0],[1.0])|     (3,[0],[1.0])|     0.0|\n",
      "|51.0|1281.0|              2|              0|            1|      197|       5|       0| 37100|      suv/crossover| (18,[3],[1.0])|(1,[0],[1.0])|     (3,[0],[1.0])|     2.0|\n",
      "|81.0|1091.0|              1|              0|            1|      150|       5|       0| 38600|      suv/crossover| (18,[8],[1.0])|(1,[0],[1.0])|     (3,[0],[1.0])|     2.0|\n",
      "|28.0| 583.0|              0|              0|            1|      150|       5|       0| 22900|          familiale| (18,[4],[1.0])|(1,[0],[1.0])|     (3,[1],[1.0])|     3.0|\n",
      "|22.0|1125.0|              3|              0|            1|      197|       5|       0| 37100|      suv/crossover| (18,[3],[1.0])|    (1,[],[])|     (3,[1],[1.0])|     2.0|\n",
      "|48.0| 991.0|              4|              0|            1|      507|       5|       0| 94800|      suv/crossover| (18,[1],[1.0])|(1,[0],[1.0])|     (3,[0],[1.0])|     0.0|\n",
      "|32.0| 156.0|              2|              0|            0|      272|       5|       1| 35350|      suv/crossover| (18,[6],[1.0])|    (1,[],[])|     (3,[0],[1.0])|     0.0|\n",
      "|41.0| 429.0|              1|              0|            0|      147|       5|       0| 24780|          familiale|(18,[10],[1.0])|(1,[0],[1.0])|     (3,[0],[1.0])|     2.0|\n",
      "|20.0|1120.0|              3|              0|            1|      507|       5|       0| 94800|      suv/crossover| (18,[1],[1.0])|(1,[0],[1.0])|     (3,[1],[1.0])|     0.0|\n",
      "|52.0| 847.0|              0|              0|            1|       75|       5|       0| 18310|citadine economique| (18,[0],[1.0])|    (1,[],[])|     (3,[1],[1.0])|     1.0|\n",
      "|66.0| 236.0|              4|              0|            0|      200|       5|       0| 30000|              autre|(18,[11],[1.0])|(1,[0],[1.0])|     (3,[0],[1.0])|     0.0|\n",
      "|23.0| 493.0|              0|              0|            0|      150|       5|       1| 25060|          familiale| (18,[1],[1.0])|(1,[0],[1.0])|     (3,[1],[1.0])|     3.0|\n",
      "+----+------+---------------+---------------+-------------+---------+--------+--------+------+-------------------+---------------+-------------+------------------+--------+\n",
      "only showing top 20 rows\n",
      "\n"
     ]
    }
   ],
   "source": [
    "clients_immatriculations.printSchema()\n",
    "clients_immatriculations.show()"
   ]
  },
  {
   "cell_type": "markdown",
   "id": "85b53327-4841-467d-95f9-ace9e02d2258",
   "metadata": {
    "tags": []
   },
   "source": [
    "## Classificateur"
   ]
  },
  {
   "cell_type": "code",
   "execution_count": 20,
   "id": "2852a30d-3822-463d-bb84-5402c33e5afc",
   "metadata": {},
   "outputs": [],
   "source": [
    "# Encodage des colonnes catégoriques (si la cible est catégorique)\n",
    "indexer = StringIndexer(inputCol=\"categorie\", outputCol=\"label\")\n",
    "data = indexer.fit(clients_immatriculations).transform(clients_immatriculations)\n",
    "\n",
    "# Assembler les colonnes de caractéristiques\n",
    "feature_cols = [col for col in data.columns if col != \"categorie\" and col != \"label\"]\n",
    "assembler = VectorAssembler(inputCols=feature_cols, outputCol=\"features\")\n",
    "data = assembler.transform(data).select(\"features\", \"label\")"
   ]
  },
  {
   "cell_type": "code",
   "execution_count": 21,
   "id": "170e7b65-e632-4b4c-9854-98e3006de093",
   "metadata": {},
   "outputs": [
    {
     "name": "stderr",
     "output_type": "stream",
     "text": [
      "                                                                                \r"
     ]
    },
    {
     "name": "stdout",
     "output_type": "stream",
     "text": [
      "Taille de l'ensemble d'entraînement : 60060\n"
     ]
    },
    {
     "name": "stderr",
     "output_type": "stream",
     "text": [
      "[Stage 47:=======>                                                (2 + 14) / 16]\r"
     ]
    },
    {
     "name": "stdout",
     "output_type": "stream",
     "text": [
      "Taille de l'ensemble de validation : 19739\n"
     ]
    },
    {
     "name": "stderr",
     "output_type": "stream",
     "text": [
      "                                                                                \r"
     ]
    },
    {
     "name": "stdout",
     "output_type": "stream",
     "text": [
      "Taille de l'ensemble de test : 19602\n"
     ]
    },
    {
     "name": "stderr",
     "output_type": "stream",
     "text": [
      "                                                                                \r"
     ]
    },
    {
     "name": "stdout",
     "output_type": "stream",
     "text": [
      "Coefficients :  [0.00047031268159792114,0.0001805321731593393,-0.003283797793364148,0.03922042821243353,0.026775825498363964,-0.002029972650726769,-0.007751789597702686,0.194009292473186,-1.947121006998374e-05,-8.732150585933771e-05,-0.06458842676474034,-0.2820462408852232,-0.7664752474585373,-0.05147172570894013,-0.45535548334247006,-1.1732420882695298,0.032891029089999094,-0.6171954068342261,-0.33475766724322903,-0.27581551926914083,0.5845944935950161,1.4741967942237546,0.029685774171510804,-0.002963666063063168,-0.3455737124975541,1.0474376366969986,-0.3397734340530555,-0.0022397554089655623,0.13418897535479635,0.19353993461303012,0.1486636696752328,-0.30926766744819817]\n",
      "Intercept :  2.386038671270097\n"
     ]
    }
   ],
   "source": [
    "# Diviser les données en 60% entraînement, 20% validation et 20% test\n",
    "(trainingData, validationData, testData) = data.randomSplit([0.6, 0.2, 0.2], seed=42)\n",
    "\n",
    "print(f\"Taille de l'ensemble d'entraînement : {trainingData.count()}\")\n",
    "print(f\"Taille de l'ensemble de validation : {validationData.count()}\")\n",
    "print(f\"Taille de l'ensemble de test : {testData.count()}\")\n",
    "\n",
    "# Définir le modèle de régression linéaire\n",
    "lr = LinearRegression(featuresCol=\"features\", labelCol=\"label\")\n",
    "\n",
    "# Entraîner le modèle\n",
    "lr_model = lr.fit(trainingData)\n",
    "\n",
    "# Afficher les coefficients du modèle\n",
    "print(\"Coefficients : \", lr_model.coefficients)\n",
    "print(\"Intercept : \", lr_model.intercept)"
   ]
  },
  {
   "cell_type": "code",
   "execution_count": 22,
   "id": "be282b75-af7f-49e5-8033-291d3be5cbe0",
   "metadata": {},
   "outputs": [
    {
     "name": "stderr",
     "output_type": "stream",
     "text": [
      "                                                                                \r"
     ]
    },
    {
     "name": "stdout",
     "output_type": "stream",
     "text": [
      "Root Mean Squared Error (RMSE) : 39.28%\n",
      "+--------------------+-----+------------------+\n",
      "|            features|label|        prediction|\n",
      "+--------------------+-----+------------------+\n",
      "|(32,[0,1,2,3,4,5,...|  2.0|2.1422969604064086|\n",
      "|(32,[0,1,2,3,4,5,...|  2.0| 2.166870859162601|\n",
      "|(32,[0,1,2,3,4,5,...|  2.0|2.1376089552183424|\n",
      "|(32,[0,1,2,3,4,5,...|  2.0|2.1486362525878318|\n",
      "|(32,[0,1,2,3,4,5,...|  0.0|0.4594176618777621|\n",
      "|(32,[0,1,2,3,4,5,...|  0.0|0.4652048810687126|\n",
      "|(32,[0,1,2,3,4,5,...|  0.0|0.4009656213469235|\n",
      "|(32,[0,1,2,3,4,5,...|  2.0|1.9348433315584215|\n",
      "|(32,[0,1,2,3,4,5,...|  2.0|1.9127138032546211|\n",
      "|(32,[0,1,2,3,4,5,...|  2.0|1.9727967982401848|\n",
      "|(32,[0,1,2,3,4,5,...|  2.0|1.9151357511644758|\n",
      "|(32,[0,1,2,3,4,5,...|  2.0|1.8618416949210865|\n",
      "|(32,[0,1,2,3,4,5,...|  2.0|1.9405537224185583|\n",
      "|(32,[0,1,2,3,4,5,...|  2.0|1.9260056460514352|\n",
      "|(32,[0,1,2,3,4,5,...|  2.0| 1.983848124636319|\n",
      "|(32,[0,1,2,3,4,5,...|  2.0|1.9279961451131062|\n",
      "|(32,[0,1,2,3,4,5,...|  2.0|1.9862034338652115|\n",
      "|(32,[0,1,2,3,4,5,...|  2.0|1.9404010611869082|\n",
      "|(32,[0,1,2,3,4,5,...|  2.0|1.9370941337029146|\n",
      "|(32,[0,1,2,3,4,5,...|  2.0|1.9775379856475248|\n",
      "+--------------------+-----+------------------+\n",
      "only showing top 20 rows\n",
      "\n"
     ]
    }
   ],
   "source": [
    "# Faire des prédictions\n",
    "predictions = lr_model.transform(testData)\n",
    "\n",
    "# Évaluer les prédictions\n",
    "evaluator = RegressionEvaluator(labelCol=\"label\", predictionCol=\"prediction\", metricName=\"rmse\")\n",
    "rmse = evaluator.evaluate(predictions)\n",
    "print(f\"Root Mean Squared Error (RMSE) : {rmse * 100:.2f}%\")\n",
    "\n",
    "# Afficher les prédictions\n",
    "predictions.select(\"features\", \"label\", \"prediction\").show()"
   ]
  },
  {
   "cell_type": "code",
   "execution_count": null,
   "id": "49cee7e5-887b-4b42-a51f-06c7747e47c5",
   "metadata": {},
   "outputs": [],
   "source": []
  }
 ],
 "metadata": {
  "kernelspec": {
   "display_name": "Python 3 (ipykernel)",
   "language": "python",
   "name": "python3"
  },
  "language_info": {
   "codemirror_mode": {
    "name": "ipython",
    "version": 3
   },
   "file_extension": ".py",
   "mimetype": "text/x-python",
   "name": "python",
   "nbconvert_exporter": "python",
   "pygments_lexer": "ipython3",
   "version": "3.9.7"
  }
 },
 "nbformat": 4,
 "nbformat_minor": 5
}
