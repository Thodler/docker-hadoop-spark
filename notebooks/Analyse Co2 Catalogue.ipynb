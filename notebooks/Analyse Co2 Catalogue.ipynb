{
 "cells": [
  {
   "cell_type": "code",
   "execution_count": null,
   "id": "68f297d2-fc7f-424b-96d1-85b506bd6465",
   "metadata": {},
   "outputs": [],
   "source": [
    "from pyspark.sql import SparkSession\n",
    "from pyspark.sql import functions as F\n",
    "from pyspark.sql.window import Window\n",
    "from pyspark.sql.functions import avg, when, trim, split, regexp_replace, round, lower, col, encode, count, levenshtein, row_number, broadcast, coalesce"
   ]
  },
  {
   "cell_type": "code",
   "execution_count": null,
   "id": "eaf8a651-7e16-4c1e-a41f-4ca6c15dd7fa",
   "metadata": {
    "jupyter": {
     "is_executing": true
    }
   },
   "outputs": [],
   "source": [
    "spark = SparkSession.builder\\\n",
    "    .appName(\"AggregateCatalogueCo2\")\\\n",
    "    .enableHiveSupport()\\\n",
    "    .getOrCreate()\n"
   ]
  },
  {
   "cell_type": "code",
   "execution_count": null,
   "id": "3d7b29db-3cb9-4751-9610-455528ce8afa",
   "metadata": {},
   "outputs": [],
   "source": [
    "spark.sparkContext.setLogLevel(\"OFF\")\n",
    "spark.catalog.clearCache()\n",
    "spark.sql(\"USE concessionnaire\")\n",
    "\n",
    "df_catalogue = spark.sql(\"SELECT * FROM catalogue_ext\")\n",
    "df_co2 = spark.sql(\"SELECT * FROM crit_air_ext\")\n",
    "\n",
    "df_catalogue = df_catalogue.filter(df_catalogue['marque'] != 'marque') # A GERER DANS L'IMPORT DE HIVE ???"
   ]
  },
  {
   "cell_type": "code",
   "execution_count": null,
   "id": "ff07c299-378e-41ae-9b6a-0732275f3e36",
   "metadata": {},
   "outputs": [],
   "source": [
    "df_co2.show()\n",
    "df_catalogue.show()"
   ]
  },
  {
   "cell_type": "markdown",
   "id": "9e2374f4-958a-46c3-9fc9-d6dc00ca1206",
   "metadata": {},
   "source": [
    "### Remarque 001\n",
    "\n",
    "- **co2** dispose de marque et modele dans la meme colone\n",
    "- La colone **nom** du catalogue n'est pas nommée **modele** dans **co2**\n",
    "- La colone **modele** dans les 2 tableaux n'ont pas la meme casse.\n",
    "- La colone **marque** dans les 2 tableaux n'ont pas la meme casse.\n",
    "- Le signe **€** est mentionné dans la colone **bonus_malus** de co2.\n",
    "- Le signe **€** est mentionné dans la colone **cout_energie** de co2.\n",
    "- Le chiffre 1 peut apparaitre après le signe **€** dans la colone **bonus_malus** de co2.\n",
    "- Le symbole \"�\" apparaît dans la colonne **longueur**.\n"
   ]
  },
  {
   "cell_type": "code",
   "execution_count": null,
   "id": "945b82f8-bc0b-4bc8-ba91-b45cee93fa67",
   "metadata": {},
   "outputs": [],
   "source": [
    "# co2 dispose de marque et modele dans la meme colone\n",
    "df_co2 = df_co2.withColumn(\"marque\", split(df_co2[\"marque_modele\"], \" \", 2).getItem(0))\n",
    "df_co2 = df_co2.withColumn(\"modele\", split(df_co2[\"marque_modele\"], \" \", 2).getItem(1))\n",
    "df_co2 = df_co2.drop('marque_modele')\n",
    "\n",
    "# La colone **nom** du catalogue n'est pas nommée **modele** dans dans **co2**\n",
    "df_catalogue = df_catalogue.withColumnRenamed(\"nom\", \"modele\")\n",
    "\n",
    "# La colone modele dans les 2 tableaux n’ont pas la meme casse.\n",
    "df_co2 = df_co2.withColumn(\"marque\", lower(trim(col(\"marque\"))))\n",
    "df_catalogue = df_catalogue.withColumn(\"marque\", lower(trim(col(\"marque\"))))\n",
    "\n",
    "# La colone modele dans les 2 tableaux n’ont pas la meme casse.\n",
    "df_co2 = df_co2.withColumn(\"modele\", lower(trim(col(\"modele\"))))\n",
    "df_catalogue = df_catalogue.withColumn(\"modele\", lower(trim(col(\"modele\"))))\n",
    "\n",
    "# Le signe € est mentionné dans la colone bonus_malus de co2.\n",
    "df_co2 = df_co2.withColumn(\"bonus_malus\", split(trim(df_co2[\"bonus_malus\"]), \"€\").getItem(0))\n",
    "# Le signe € est mentionné dans la colone cout_energie de co2.\n",
    "df_co2 = df_co2.withColumn(\"cout_energie\", split(trim(df_co2[\"cout_energie\"]), \"€\").getItem(0))\n",
    "\n",
    "# Le chiffre 1 peut apparaitre après le signe € dans la colone bonus_malus de co2.\n",
    "df_co2 = df_co2.withColumn(\"bonus_malus\", regexp_replace(trim(df_co2[\"bonus_malus\"]), \"[^0-9-]\", \"\").cast(\"float\"))\n",
    "\n",
    "#Le symbole \"�\" apparaît dans la colonne longueur.\n",
    "df_catalogue = df_catalogue.withColumn(\"longueur\", regexp_replace(col(\"longueur\"), \"�\", \"e\"))\n",
    "\n"
   ]
  },
  {
   "cell_type": "code",
   "execution_count": null,
   "id": "11c98e08-cdfb-468e-8528-fdf898336bd9",
   "metadata": {},
   "outputs": [],
   "source": [
    "df_co2.show()\n",
    "df_catalogue.show()"
   ]
  },
  {
   "cell_type": "markdown",
   "id": "91515def-af48-46cb-9c69-9d001756bcbe",
   "metadata": {},
   "source": [
    "### Remarque 002\n",
    "\n",
    "- Recherche d'éventuel autre \"�\".\n",
    "- Correction suivant résultat des recherches de \"�\""
   ]
  },
  {
   "cell_type": "code",
   "execution_count": null,
   "id": "2fba0124-0445-417c-b412-50f46da4842f",
   "metadata": {},
   "outputs": [],
   "source": [
    "#Recherche d'éventuel autre \"�\".\n",
    "df_search_special_char_catalogue = df_catalogue.filter(\n",
    "    col(\"marque\").like(\"%�%\") | \n",
    "    col(\"modele\").like(\"%�%\") | \n",
    "    col(\"couleur\").like(\"%�%\") | \n",
    "    col(\"longueur\").like(\"%�%\")\n",
    ")\n",
    "\n",
    "df_search_special_char_co2 = df_co2.filter(\n",
    "    col(\"marque\").like(\"%�%\") | \n",
    "    col(\"modele\").like(\"%�%\") \n",
    ")\n",
    "\n",
    "\n",
    "df_search_special_char_catalogue.show()\n",
    "df_search_special_char_co2.show()\n"
   ]
  },
  {
   "cell_type": "code",
   "execution_count": null,
   "id": "557d319d-e63e-4eb7-b8e4-ff04bfd1ea4f",
   "metadata": {},
   "outputs": [],
   "source": [
    "# Étape 1: Extraire les marques correctes de df_co2\n",
    "marques_correctes_df = df_co2.select('marque').distinct().alias('marques_correctes')\n",
    "\n",
    "# Étape 2: Extraire les marques du catalogue\n",
    "marques_catalogue_df = df_catalogue.select('marque').distinct().alias('marques_catalogue')\n",
    "\n",
    "# Étape 3: Créer le mapping des marques\n",
    "df_cross = marques_catalogue_df.crossJoin(broadcast(marques_correctes_df))\n",
    "\n",
    "df_cross = df_cross.withColumn('distance', levenshtein(col('marques_catalogue.marque'), col('marques_correctes.marque')))\n",
    "\n",
    "window = Window.partitionBy('marques_catalogue.marque').orderBy(col('distance'))\n",
    "df_min_distance = df_cross.withColumn('rn', row_number().over(window)).filter(col('rn') == 1)\n",
    "\n",
    "marque_mapping = df_min_distance.select(\n",
    "    col('marques_catalogue.marque').alias('marque_catalogue'),\n",
    "    col('marques_correctes.marque').alias('marque_correcte'),\n",
    "    'distance'\n",
    ").filter(col('distance') <= 2)\n",
    "\n",
    "# Étape 4: Appliquer le mapping à df_catalogue\n",
    "df_catalogue_corrected = df_catalogue.join(\n",
    "    marque_mapping,\n",
    "    df_catalogue.marque == marque_mapping.marque_catalogue,\n",
    "    how='left'\n",
    ")\n",
    "\n",
    "df_catalogue_corrected = df_catalogue_corrected.withColumn(\n",
    "    'marque',\n",
    "    coalesce(col('marque_correcte'), col('marque'))\n",
    ").drop('marque_catalogue', 'marque_correcte', 'distance')\n",
    "\n",
    "# Vérification du résultat\n",
    "df_catalogue_corrected.printSchema()\n",
    "df_catalogue_corrected.show(n=1000, truncate=False)\n",
    "\n",
    "# Optionnel : Remplacer df_catalogue par le DataFrame corrigé\n",
    "df_catalogue = df_catalogue_corrected"
   ]
  },
  {
   "cell_type": "code",
   "execution_count": null,
   "id": "9e8b63e0-6402-4813-87b8-29689a0385a5",
   "metadata": {},
   "outputs": [],
   "source": [
    "marques_count_catalogue = df_catalogue.groupBy(\"marque\").count()\n",
    "marques_count_co2 = df_co2.groupBy(\"marque\").count()\n",
    "\n",
    "marques_count_catalogue = marques_count_catalogue.withColumnRenamed(\"count\", \"count_catalogue\")\n",
    "marques_count_co2 = marques_count_co2.withColumnRenamed(\"count\", \"count_co2\")\n",
    "\n",
    "marques_count_joined = marques_count_catalogue.join(\n",
    "    marques_count_co2,\n",
    "    on=\"marque\",\n",
    "    how=\"outer\"  # Utilise \"left\", \"right\", ou \"outer\" si nécessaire\n",
    ").select(\n",
    "    \"marque\",\n",
    "    F.col(\"count_catalogue\"),\n",
    "    F.col(\"count_co2\")\n",
    ")\n",
    "\n",
    "marques_count_joined = marques_count_joined.fillna(0, subset=[\"count_catalogue\", \"count_co2\"])\n",
    "\n",
    "\n",
    "marques_count_joined.show(n=1000)"
   ]
  },
  {
   "cell_type": "code",
   "execution_count": null,
   "id": "c27b6e75-fcf0-471a-9a72-d28bea848b7e",
   "metadata": {},
   "outputs": [],
   "source": [
    "modele_count_catalogue = df_catalogue.groupBy(\"modele\").count()\n",
    "modele_count_co2 = df_co2.groupBy(\"modele\").count()\n",
    "\n",
    "modele_count_catalogue = modele_count_catalogue.withColumnRenamed(\"count\", \"count_catalogue\")\n",
    "modele_count_co2 = modele_count_co2.withColumnRenamed(\"count\", \"count_co2\")\n",
    "\n",
    "modele_count_joined = modele_count_catalogue.join(\n",
    "    modele_count_co2,\n",
    "    on=\"modele\",\n",
    "    how=\"outer\"  # Utilise \"left\", \"right\", ou \"outer\" si nécessaire\n",
    ").select(\n",
    "    \"modele\",\n",
    "    F.col(\"count_catalogue\"),\n",
    "    F.col(\"count_co2\")\n",
    ")\n",
    "\n",
    "modele_count_joined_match = modele_count_catalogue.join(\n",
    "    modele_count_co2,\n",
    "    on=\"modele\",\n",
    "    how=\"inner\"  # Utilise \"left\", \"right\", ou \"outer\" si nécessaire\n",
    ").select(\n",
    "    \"modele\",\n",
    "    F.col(\"count_catalogue\"),\n",
    "    F.col(\"count_co2\")\n",
    ")\n",
    "\n",
    "modele_count_joined = modele_count_joined.fillna(0, subset=[\"count_catalogue\", \"count_co2\"])\n",
    "\n",
    "\n",
    "modele_count_joined.show(n=1000, truncate=False)\n",
    "modele_count_joined_match.show(n=1000, truncate=False)"
   ]
  },
  {
   "cell_type": "code",
   "execution_count": null,
   "id": "b3fe88c1-c47a-4b01-83e5-5133231ec1ee",
   "metadata": {},
   "outputs": [],
   "source": [
    "df_normalized = marques_count_joined.withColumn(\"marque_normalisee\", lower(regexp_replace(\"marque\", \"ï\", \"i\")))\n",
    "df_normalized.show(n=1000)"
   ]
  },
  {
   "cell_type": "code",
   "execution_count": null,
   "id": "75110427-0d53-4ea9-af60-ddb15e7ae8f7",
   "metadata": {},
   "outputs": [],
   "source": []
  }
 ],
 "metadata": {
  "kernelspec": {
   "display_name": "Python 3 (ipykernel)",
   "language": "python",
   "name": "python3"
  },
  "language_info": {
   "codemirror_mode": {
    "name": "ipython",
    "version": 3
   },
   "file_extension": ".py",
   "mimetype": "text/x-python",
   "name": "python",
   "nbconvert_exporter": "python",
   "pygments_lexer": "ipython3",
   "version": "3.9.7"
  }
 },
 "nbformat": 4,
 "nbformat_minor": 5
}
