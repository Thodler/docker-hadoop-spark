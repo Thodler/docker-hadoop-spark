{
 "cells": [
  {
   "cell_type": "code",
   "execution_count": 1,
   "id": "68f297d2-fc7f-424b-96d1-85b506bd6465",
   "metadata": {},
   "outputs": [],
   "source": [
    "from pyspark.sql import SparkSession\n",
    "from pyspark.sql import functions as F\n",
    "from pyspark.sql.functions import avg, when, trim, split, regexp_replace, round, lower, col, encode, decode, count, udf, levenshtein, row_number\n",
    "from pyspark.sql.window import Window\n",
    "from pyspark.sql.types import StringType"
   ]
  },
  {
   "cell_type": "code",
   "execution_count": null,
   "id": "323442fc-52dc-490c-943a-18caa1fbedba",
   "metadata": {},
   "outputs": [],
   "source": []
  },
  {
   "cell_type": "code",
   "execution_count": 2,
   "id": "eaf8a651-7e16-4c1e-a41f-4ca6c15dd7fa",
   "metadata": {
    "jupyter": {
     "is_executing": true
    }
   },
   "outputs": [
    {
     "name": "stderr",
     "output_type": "stream",
     "text": [
      "WARNING: An illegal reflective access operation has occurred\n",
      "WARNING: Illegal reflective access by org.apache.spark.unsafe.Platform (file:/usr/local/spark-3.2.0-bin-hadoop3.2/jars/spark-unsafe_2.12-3.2.0.jar) to constructor java.nio.DirectByteBuffer(long,int)\n",
      "WARNING: Please consider reporting this to the maintainers of org.apache.spark.unsafe.Platform\n",
      "WARNING: Use --illegal-access=warn to enable warnings of further illegal reflective access operations\n",
      "WARNING: All illegal access operations will be denied in a future release\n",
      "Using Spark's default log4j profile: org/apache/spark/log4j-defaults.properties\n",
      "Setting default log level to \"WARN\".\n",
      "To adjust logging level use sc.setLogLevel(newLevel). For SparkR, use setLogLevel(newLevel).\n",
      "24/11/13 14:41:15 WARN NativeCodeLoader: Unable to load native-hadoop library for your platform... using builtin-java classes where applicable\n"
     ]
    }
   ],
   "source": [
    "spark = SparkSession.builder\\\n",
    "    .appName(\"AggregateCatalogueCo2\")\\\n",
    "    .enableHiveSupport()\\\n",
    "    .getOrCreate()\n"
   ]
  },
  {
   "cell_type": "code",
   "execution_count": 3,
   "id": "3d7b29db-3cb9-4751-9610-455528ce8afa",
   "metadata": {},
   "outputs": [],
   "source": [
    "spark.sparkContext.setLogLevel(\"OFF\")\n",
    "spark.catalog.clearCache()\n",
    "spark.sql(\"USE concessionnaire\")\n",
    "\n",
    "df_catalogue = spark.sql(\"SELECT * FROM catalogue_ext\")\n",
    "df_co2 = spark.sql(\"SELECT * FROM crit_air_ext\")\n",
    "\n",
    "df_catalogue = df_catalogue.filter(df_catalogue['marque'] != 'marque') # A GERER DANS L'IMPORT DE HIVE ???"
   ]
  },
  {
   "cell_type": "code",
   "execution_count": 4,
   "id": "ff07c299-378e-41ae-9b6a-0732275f3e36",
   "metadata": {},
   "outputs": [
    {
     "name": "stderr",
     "output_type": "stream",
     "text": [
      "                                                                                \r"
     ]
    },
    {
     "name": "stdout",
     "output_type": "stream",
     "text": [
      "+--------------------+-----------+----------+------------+\n",
      "|       marque_modele|bonus_malus|rejets_co2|cout_energie|\n",
      "+--------------------+-----------+----------+------------+\n",
      "|      CITROEN C-ZERO|  -6 000€ 1|       0.0|       491 €|\n",
      "|MERCEDES SPRINTER...|    +8 753€|     200.0|       799 €|\n",
      "|VOLKSWAGEN Passat...|          -|      31.0|        56 €|\n",
      "|    SMART EQ FORFOUR|  -6 000€ 1|       0.0|       175 €|\n",
      "|BENTLEY BENTAYGA ...|          -|      84.0|       102 €|\n",
      "|SMART EQ FORTWO C...|  -6 000€ 1|       0.0|       175 €|\n",
      "|SMART EQ FORFOUR ...|  -6 000€ 1|       0.0|       213 €|\n",
      "|AUDI Q5 50 TFSI e...|          -|      49.0|       105 €|\n",
      "|MERCEDES SPRINTER...|    +8 753€|     255.0|       988 €|\n",
      "|MERCEDES SPRINTER...|    +8 753€|     200.0|       799 €|\n",
      "|KIA SOUL Moteur Ã...|  -6 000€ 1|       0.0|       214 €|\n",
      "|MERCEDES VITO Tou...|  -6 000€ 1|       0.0|       411 €|\n",
      "|MERCEDES SPRINTER...|    +8 753€|     262.0|       999 €|\n",
      "|SMART EQ FORFOUR ...|  -6 000€ 1|       0.0|       213 €|\n",
      "|TESLA MODEL S (16...|  -6 000€ 1|       0.0|       247 €|\n",
      "|MERCEDES SPRINTER...|    +8 753€|     255.0|       988 €|\n",
      "|MINI MINI Cooper ...|  -6 000€ 1|       0.0|       199 €|\n",
      "|VOLKSWAGEN Passat...|          -|      31.0|        56 €|\n",
      "|PEUGEOT ION elect...|  -6 000€ 1|       0.0|       241 €|\n",
      "|MITSUBISHI OUTLAN...|          -|      40.0|        98 €|\n",
      "+--------------------+-----------+----------+------------+\n",
      "only showing top 20 rows\n",
      "\n",
      "+----------+--------------+---------+-----------+--------+--------+-------+--------+-------+\n",
      "|    marque|           nom|puissance|   longueur|nbplaces|nbportes|couleur|occasion|   prix|\n",
      "+----------+--------------+---------+-----------+--------+--------+-------+--------+-------+\n",
      "|     Volvo|        S80 T6|      272|tr�s longue|       5|       5|  blanc|   false|50500.0|\n",
      "|     Volvo|        S80 T6|      272|tr�s longue|       5|       5|   noir|   false|50500.0|\n",
      "|     Volvo|        S80 T6|      272|tr�s longue|       5|       5|  rouge|   false|50500.0|\n",
      "|     Volvo|        S80 T6|      272|tr�s longue|       5|       5|   gris|    true|35350.0|\n",
      "|     Volvo|        S80 T6|      272|tr�s longue|       5|       5|   bleu|    true|35350.0|\n",
      "|     Volvo|        S80 T6|      272|tr�s longue|       5|       5|   gris|   false|50500.0|\n",
      "|     Volvo|        S80 T6|      272|tr�s longue|       5|       5|   bleu|   false|50500.0|\n",
      "|     Volvo|        S80 T6|      272|tr�s longue|       5|       5|  rouge|    true|35350.0|\n",
      "|     Volvo|        S80 T6|      272|tr�s longue|       5|       5|  blanc|    true|35350.0|\n",
      "|     Volvo|        S80 T6|      272|tr�s longue|       5|       5|   noir|    true|35350.0|\n",
      "|Volkswagen|Touran 2.0 FSI|      150|     longue|       7|       5|  rouge|   false|27340.0|\n",
      "|Volkswagen|Touran 2.0 FSI|      150|     longue|       7|       5|   gris|    true|19138.0|\n",
      "|Volkswagen|Touran 2.0 FSI|      150|     longue|       7|       5|   bleu|    true|19138.0|\n",
      "|Volkswagen|Touran 2.0 FSI|      150|     longue|       7|       5|   gris|   false|27340.0|\n",
      "|Volkswagen|Touran 2.0 FSI|      150|     longue|       7|       5|   bleu|   false|27340.0|\n",
      "|Volkswagen|Touran 2.0 FSI|      150|     longue|       7|       5|  blanc|    true|19138.0|\n",
      "|Volkswagen|Touran 2.0 FSI|      150|     longue|       7|       5|   noir|    true|19138.0|\n",
      "|Volkswagen|Touran 2.0 FSI|      150|     longue|       7|       5|  rouge|    true|19138.0|\n",
      "|Volkswagen|Touran 2.0 FSI|      150|     longue|       7|       5|  blanc|   false|27340.0|\n",
      "|Volkswagen|Touran 2.0 FSI|      150|     longue|       7|       5|   noir|   false|27340.0|\n",
      "+----------+--------------+---------+-----------+--------+--------+-------+--------+-------+\n",
      "only showing top 20 rows\n",
      "\n"
     ]
    }
   ],
   "source": [
    "df_co2.show()\n",
    "df_catalogue.show()"
   ]
  },
  {
   "cell_type": "markdown",
   "id": "9e2374f4-958a-46c3-9fc9-d6dc00ca1206",
   "metadata": {},
   "source": [
    "### Remarque 001\n",
    "\n",
    "- **co2** dispose de marque et modele dans la meme colone\n",
    "- La colone **nom** du catalogue n'est pas nommée **modele** dans **co2**\n",
    "- La colone **modele** dans les 2 tableaux n'ont pas la meme casse.\n",
    "- La colone **marque** dans les 2 tableaux n'ont pas la meme casse.\n",
    "- Le signe **€** est mentionné dans la colone **bonus_malus** de co2.\n",
    "- Le signe **€** est mentionné dans la colone **cout_energie** de co2.\n",
    "- Le chiffre 1 peut apparaitre après le signe **€** dans la colone **bonus_malus** de co2."
   ]
  },
  {
   "cell_type": "code",
   "execution_count": 5,
   "id": "945b82f8-bc0b-4bc8-ba91-b45cee93fa67",
   "metadata": {},
   "outputs": [],
   "source": [
    "# co2 dispose de marque et modele dans la meme colone\n",
    "df_co2 = df_co2.withColumn(\"marque\", split(df_co2[\"marque_modele\"], \" \", 2).getItem(0))\n",
    "df_co2 = df_co2.withColumn(\"modele\", split(df_co2[\"marque_modele\"], \" \", 2).getItem(1))\n",
    "df_co2 = df_co2.drop('marque_modele')\n",
    "\n",
    "# La colone **nom** du catalogue n'est pas nommée **modele** dans dans **co2**\n",
    "df_catalogue = df_catalogue.withColumnRenamed(\"nom\", \"modele\")\n",
    "\n",
    "# La colone modele dans les 2 tableaux n’ont pas la meme casse.\n",
    "df_co2 = df_co2.withColumn(\"marque\", lower(trim(col(\"marque\"))))\n",
    "df_catalogue = df_catalogue.withColumn(\"marque\", lower(trim(col(\"marque\"))))\n",
    "\n",
    "# La colone modele dans les 2 tableaux n’ont pas la meme casse.\n",
    "df_co2 = df_co2.withColumn(\"modele\", lower(trim(col(\"modele\"))))\n",
    "df_catalogue = df_catalogue.withColumn(\"modele\", lower(trim(col(\"modele\"))))\n",
    "\n",
    "# Le signe € est mentionné dans la colone bonus_malus de co2.\n",
    "df_co2 = df_co2.withColumn(\"bonus_malus\", split(trim(df_co2[\"bonus_malus\"]), \"€\").getItem(0))\n",
    "# Le signe € est mentionné dans la colone cout_energie de co2.\n",
    "df_co2 = df_co2.withColumn(\"cout_energie\", split(trim(df_co2[\"cout_energie\"]), \"€\").getItem(0))\n",
    "\n",
    "# Le chiffre 1 peut apparaitre après le signe € dans la colone bonus_malus de co2.\n",
    "df_co2 = df_co2.withColumn(\"bonus_malus\", regexp_replace(trim(df_co2[\"bonus_malus\"]), \"[^0-9-]\", \"\").cast(\"float\"))"
   ]
  },
  {
   "cell_type": "code",
   "execution_count": 6,
   "id": "557d319d-e63e-4eb7-b8e4-ff04bfd1ea4f",
   "metadata": {},
   "outputs": [
    {
     "name": "stdout",
     "output_type": "stream",
     "text": [
      "+-----------+----------+------------+----------+--------------------+\n",
      "|bonus_malus|rejets_co2|cout_energie|    marque|              modele|\n",
      "+-----------+----------+------------+----------+--------------------+\n",
      "|    -6000.0|       0.0|        491 |   citroen|              c-zero|\n",
      "|     8753.0|     200.0|        799 |  mercedes|sprinter combi 31...|\n",
      "|       null|      31.0|         56 |volkswagen|passat sw 1.4 tsi...|\n",
      "|    -6000.0|       0.0|        175 |     smart|          eq forfour|\n",
      "|       null|      84.0|        102 |   bentley|     bentayga hybrid|\n",
      "|    -6000.0|       0.0|        175 |     smart|eq fortwo cabrio ...|\n",
      "|    -6000.0|       0.0|        213 |     smart|eq forfour 7 kw m...|\n",
      "|       null|      49.0|        105 |      audi|q5 50 tfsi e (299...|\n",
      "|     8753.0|     255.0|        988 |  mercedes|sprinter combi 31...|\n",
      "|     8753.0|     200.0|        799 |  mercedes|sprinter combi 31...|\n",
      "|    -6000.0|       0.0|        214 |       kia|soul moteur ã©lec...|\n",
      "|    -6000.0|       0.0|        411 |  mercedes|vito tourer long ...|\n",
      "|     8753.0|     262.0|        999 |  mercedes|sprinter combi 31...|\n",
      "|    -6000.0|       0.0|        213 |     smart|eq forfour 22 kw ...|\n",
      "|    -6000.0|       0.0|        247 |     tesla|     model s (169kw)|\n",
      "|     8753.0|     255.0|        988 |  mercedes|sprinter combi 31...|\n",
      "|    -6000.0|       0.0|        199 |      mini|mini cooper se ha...|\n",
      "|       null|      31.0|         56 |volkswagen|passat 1.4 tsi + ...|\n",
      "|    -6000.0|       0.0|        241 |   peugeot|ion electrique (6...|\n",
      "|       null|      40.0|         98 |mitsubishi|outlander phev in...|\n",
      "+-----------+----------+------------+----------+--------------------+\n",
      "only showing top 20 rows\n",
      "\n",
      "+----------+--------------+---------+-----------+--------+--------+-------+--------+-------+\n",
      "|    marque|        modele|puissance|   longueur|nbplaces|nbportes|couleur|occasion|   prix|\n",
      "+----------+--------------+---------+-----------+--------+--------+-------+--------+-------+\n",
      "|     volvo|        s80 t6|      272|tr�s longue|       5|       5|  blanc|   false|50500.0|\n",
      "|     volvo|        s80 t6|      272|tr�s longue|       5|       5|   noir|   false|50500.0|\n",
      "|     volvo|        s80 t6|      272|tr�s longue|       5|       5|  rouge|   false|50500.0|\n",
      "|     volvo|        s80 t6|      272|tr�s longue|       5|       5|   gris|    true|35350.0|\n",
      "|     volvo|        s80 t6|      272|tr�s longue|       5|       5|   bleu|    true|35350.0|\n",
      "|     volvo|        s80 t6|      272|tr�s longue|       5|       5|   gris|   false|50500.0|\n",
      "|     volvo|        s80 t6|      272|tr�s longue|       5|       5|   bleu|   false|50500.0|\n",
      "|     volvo|        s80 t6|      272|tr�s longue|       5|       5|  rouge|    true|35350.0|\n",
      "|     volvo|        s80 t6|      272|tr�s longue|       5|       5|  blanc|    true|35350.0|\n",
      "|     volvo|        s80 t6|      272|tr�s longue|       5|       5|   noir|    true|35350.0|\n",
      "|volkswagen|touran 2.0 fsi|      150|     longue|       7|       5|  rouge|   false|27340.0|\n",
      "|volkswagen|touran 2.0 fsi|      150|     longue|       7|       5|   gris|    true|19138.0|\n",
      "|volkswagen|touran 2.0 fsi|      150|     longue|       7|       5|   bleu|    true|19138.0|\n",
      "|volkswagen|touran 2.0 fsi|      150|     longue|       7|       5|   gris|   false|27340.0|\n",
      "|volkswagen|touran 2.0 fsi|      150|     longue|       7|       5|   bleu|   false|27340.0|\n",
      "|volkswagen|touran 2.0 fsi|      150|     longue|       7|       5|  blanc|    true|19138.0|\n",
      "|volkswagen|touran 2.0 fsi|      150|     longue|       7|       5|   noir|    true|19138.0|\n",
      "|volkswagen|touran 2.0 fsi|      150|     longue|       7|       5|  rouge|    true|19138.0|\n",
      "|volkswagen|touran 2.0 fsi|      150|     longue|       7|       5|  blanc|   false|27340.0|\n",
      "|volkswagen|touran 2.0 fsi|      150|     longue|       7|       5|   noir|   false|27340.0|\n",
      "+----------+--------------+---------+-----------+--------+--------+-------+--------+-------+\n",
      "only showing top 20 rows\n",
      "\n"
     ]
    }
   ],
   "source": [
    "df_co2.show()\n",
    "df_catalogue.show()"
   ]
  },
  {
   "cell_type": "code",
   "execution_count": 7,
   "id": "9e8b63e0-6402-4813-87b8-29689a0385a5",
   "metadata": {},
   "outputs": [
    {
     "name": "stdout",
     "output_type": "stream",
     "text": [
      "+----------+---------------+---------+\n",
      "|    marque|count_catalogue|count_co2|\n",
      "+----------+---------------+---------+\n",
      "|      audi|             20|        8|\n",
      "|   bentley|              0|        1|\n",
      "|       bmw|             20|       12|\n",
      "|   citroen|              0|        2|\n",
      "|     dacia|              5|        0|\n",
      "|  daihatsu|              5|        0|\n",
      "|        ds|              0|        2|\n",
      "|      fiat|             10|        0|\n",
      "|      ford|             10|        0|\n",
      "|     honda|              5|        0|\n",
      "|   hyundai|              0|        3|\n",
      "|   hyunda�|              5|        0|\n",
      "|    jaguar|             10|        1|\n",
      "|       kia|              5|        6|\n",
      "|    lancia|             10|        0|\n",
      "|      land|              0|        5|\n",
      "|  mercedes|             20|       42|\n",
      "|      mini|             10|        2|\n",
      "|mitsubishi|              0|        2|\n",
      "|    nissan|             15|        9|\n",
      "|   peugeot|             10|        5|\n",
      "|   porsche|              0|        4|\n",
      "|   renault|             40|        3|\n",
      "|      saab|             10|        0|\n",
      "|      seat|              5|        0|\n",
      "|     skoda|              5|        9|\n",
      "|     smart|              0|       11|\n",
      "|     tesla|              0|        9|\n",
      "|    toyota|              0|        1|\n",
      "|volkswagen|             40|       14|\n",
      "|     volvo|             10|        8|\n",
      "+----------+---------------+---------+\n",
      "\n"
     ]
    }
   ],
   "source": []
  },
  {
   "cell_type": "code",
   "execution_count": 8,
   "id": "d25c1e18-f31b-4cdb-b1dd-5d7da70cfb7d",
   "metadata": {},
   "outputs": [
    {
     "ename": "AnalysisException",
     "evalue": "cannot resolve 'df2.marque_corrected' given input columns: [df1.bonus_malus, df2.couleur, df1.cout_energie, df2.longueur, df1.marque, df2.marque, df1.marque_corrected, df1.modele, df2.modele, df2.nbplaces, df2.nbportes, df2.occasion, df2.prix, df2.puissance, df1.rejets_co2];\n'Project [bonus_malus#156, rejets_co2#20, cout_energie#150, marque#112, modele#128, marque_corrected#280, marque#118, modele#134, puissance#2, longueur#3, nbplaces#4, nbportes#5, couleur#6, occasion#7, prix#8, levenshtein(marque_corrected#280, 'df2.marque_corrected) AS distance#303]\n+- Join Cross\n   :- SubqueryAlias df1\n   :  +- Project [bonus_malus#156, rejets_co2#20, cout_energie#150, marque#112, modele#128, regexp_replace(marque#112, \\?, i, 1) AS marque_corrected#280]\n   :     +- Project [cast(regexp_replace(trim(bonus_malus#144, None), [^0-9-], , 1) as float) AS bonus_malus#156, rejets_co2#20, cout_energie#150, marque#112, modele#128]\n   :        +- Project [bonus_malus#144, rejets_co2#20, split(trim(cout_energie#21, None), €, -1)[0] AS cout_energie#150, marque#112, modele#128]\n   :           +- Project [split(trim(bonus_malus#19, None), €, -1)[0] AS bonus_malus#144, rejets_co2#20, cout_energie#21, marque#112, modele#128]\n   :              +- Project [bonus_malus#19, rejets_co2#20, cout_energie#21, marque#112, lower(trim(modele#90, None)) AS modele#128]\n   :                 +- Project [bonus_malus#19, rejets_co2#20, cout_energie#21, lower(trim(marque#84, None)) AS marque#112, modele#90]\n   :                    +- Project [bonus_malus#19, rejets_co2#20, cout_energie#21, marque#84, modele#90]\n   :                       +- Project [marque_modele#18, bonus_malus#19, rejets_co2#20, cout_energie#21, marque#84, split(marque_modele#18,  , 2)[1] AS modele#90]\n   :                          +- Project [marque_modele#18, bonus_malus#19, rejets_co2#20, cout_energie#21, split(marque_modele#18,  , 2)[0] AS marque#84]\n   :                             +- Project [marque_modele#18, bonus_malus#19, rejets_co2#20, cout_energie#21]\n   :                                +- SubqueryAlias spark_catalog.concessionnaire.crit_air_ext\n   :                                   +- Relation concessionnaire.crit_air_ext[marque_modele#18,bonus_malus#19,rejets_co2#20,cout_energie#21] parquet\n   +- SubqueryAlias df2\n      +- Project [marque#118, lower(trim(modele#102, None)) AS modele#134, puissance#2, longueur#3, nbplaces#4, nbportes#5, couleur#6, occasion#7, prix#8]\n         +- Project [lower(trim(marque#0, None)) AS marque#118, modele#102, puissance#2, longueur#3, nbplaces#4, nbportes#5, couleur#6, occasion#7, prix#8]\n            +- Project [marque#0, nom#1 AS modele#102, puissance#2, longueur#3, nbplaces#4, nbportes#5, couleur#6, occasion#7, prix#8]\n               +- Filter NOT (marque#0 = marque)\n                  +- Project [marque#0, nom#1, puissance#2, longueur#3, nbplaces#4, nbportes#5, couleur#6, occasion#7, prix#8]\n                     +- SubqueryAlias spark_catalog.concessionnaire.catalogue_ext\n                        +- HiveTableRelation [`concessionnaire`.`catalogue_ext`, org.apache.hadoop.hive.serde2.lazy.LazySimpleSerDe, Data Cols: [marque#0, nom#1, puissance#2, longueur#3, nbplaces#4, nbportes#5, couleur#6, occasion#7, prix#8], Partition Cols: []]\n",
     "output_type": "error",
     "traceback": [
      "\u001b[0;31m---------------------------------------------------------------------------\u001b[0m",
      "\u001b[0;31mAnalysisException\u001b[0m                         Traceback (most recent call last)",
      "\u001b[0;32m/tmp/ipykernel_8222/4181030834.py\u001b[0m in \u001b[0;36m<module>\u001b[0;34m\u001b[0m\n\u001b[1;32m     11\u001b[0m \u001b[0;34m\u001b[0m\u001b[0m\n\u001b[1;32m     12\u001b[0m \u001b[0;31m# Étape 4: Calculer la distance de Levenshtein entre les marques\u001b[0m\u001b[0;34m\u001b[0m\u001b[0;34m\u001b[0m\u001b[0m\n\u001b[0;32m---> 13\u001b[0;31m \u001b[0mdf_cross\u001b[0m \u001b[0;34m=\u001b[0m \u001b[0mdf_cross\u001b[0m\u001b[0;34m.\u001b[0m\u001b[0mwithColumn\u001b[0m\u001b[0;34m(\u001b[0m\u001b[0;34m'distance'\u001b[0m\u001b[0;34m,\u001b[0m \u001b[0mlevenshtein\u001b[0m\u001b[0;34m(\u001b[0m\u001b[0mcol\u001b[0m\u001b[0;34m(\u001b[0m\u001b[0;34m'df1.marque_corrected'\u001b[0m\u001b[0;34m)\u001b[0m\u001b[0;34m,\u001b[0m \u001b[0mcol\u001b[0m\u001b[0;34m(\u001b[0m\u001b[0;34m'df2.marque_corrected'\u001b[0m\u001b[0;34m)\u001b[0m\u001b[0;34m)\u001b[0m\u001b[0;34m)\u001b[0m\u001b[0;34m\u001b[0m\u001b[0;34m\u001b[0m\u001b[0m\n\u001b[0m\u001b[1;32m     14\u001b[0m \u001b[0;34m\u001b[0m\u001b[0m\n\u001b[1;32m     15\u001b[0m \u001b[0;31m# Étape 5: Trouver la marque correcte avec la distance minimale\u001b[0m\u001b[0;34m\u001b[0m\u001b[0;34m\u001b[0m\u001b[0m\n",
      "\u001b[0;32m/usr/local/spark/python/pyspark/sql/dataframe.py\u001b[0m in \u001b[0;36mwithColumn\u001b[0;34m(self, colName, col)\u001b[0m\n\u001b[1;32m   2476\u001b[0m         \u001b[0;32mif\u001b[0m \u001b[0;32mnot\u001b[0m \u001b[0misinstance\u001b[0m\u001b[0;34m(\u001b[0m\u001b[0mcol\u001b[0m\u001b[0;34m,\u001b[0m \u001b[0mColumn\u001b[0m\u001b[0;34m)\u001b[0m\u001b[0;34m:\u001b[0m\u001b[0;34m\u001b[0m\u001b[0;34m\u001b[0m\u001b[0m\n\u001b[1;32m   2477\u001b[0m             \u001b[0;32mraise\u001b[0m \u001b[0mTypeError\u001b[0m\u001b[0;34m(\u001b[0m\u001b[0;34m\"col should be Column\"\u001b[0m\u001b[0;34m)\u001b[0m\u001b[0;34m\u001b[0m\u001b[0;34m\u001b[0m\u001b[0m\n\u001b[0;32m-> 2478\u001b[0;31m         \u001b[0;32mreturn\u001b[0m \u001b[0mDataFrame\u001b[0m\u001b[0;34m(\u001b[0m\u001b[0mself\u001b[0m\u001b[0;34m.\u001b[0m\u001b[0m_jdf\u001b[0m\u001b[0;34m.\u001b[0m\u001b[0mwithColumn\u001b[0m\u001b[0;34m(\u001b[0m\u001b[0mcolName\u001b[0m\u001b[0;34m,\u001b[0m \u001b[0mcol\u001b[0m\u001b[0;34m.\u001b[0m\u001b[0m_jc\u001b[0m\u001b[0;34m)\u001b[0m\u001b[0;34m,\u001b[0m \u001b[0mself\u001b[0m\u001b[0;34m.\u001b[0m\u001b[0msql_ctx\u001b[0m\u001b[0;34m)\u001b[0m\u001b[0;34m\u001b[0m\u001b[0;34m\u001b[0m\u001b[0m\n\u001b[0m\u001b[1;32m   2479\u001b[0m \u001b[0;34m\u001b[0m\u001b[0m\n\u001b[1;32m   2480\u001b[0m     \u001b[0;32mdef\u001b[0m \u001b[0mwithColumnRenamed\u001b[0m\u001b[0;34m(\u001b[0m\u001b[0mself\u001b[0m\u001b[0;34m,\u001b[0m \u001b[0mexisting\u001b[0m\u001b[0;34m,\u001b[0m \u001b[0mnew\u001b[0m\u001b[0;34m)\u001b[0m\u001b[0;34m:\u001b[0m\u001b[0;34m\u001b[0m\u001b[0;34m\u001b[0m\u001b[0m\n",
      "\u001b[0;32m/usr/local/spark/python/lib/py4j-0.10.9.2-src.zip/py4j/java_gateway.py\u001b[0m in \u001b[0;36m__call__\u001b[0;34m(self, *args)\u001b[0m\n\u001b[1;32m   1307\u001b[0m \u001b[0;34m\u001b[0m\u001b[0m\n\u001b[1;32m   1308\u001b[0m         \u001b[0manswer\u001b[0m \u001b[0;34m=\u001b[0m \u001b[0mself\u001b[0m\u001b[0;34m.\u001b[0m\u001b[0mgateway_client\u001b[0m\u001b[0;34m.\u001b[0m\u001b[0msend_command\u001b[0m\u001b[0;34m(\u001b[0m\u001b[0mcommand\u001b[0m\u001b[0;34m)\u001b[0m\u001b[0;34m\u001b[0m\u001b[0;34m\u001b[0m\u001b[0m\n\u001b[0;32m-> 1309\u001b[0;31m         return_value = get_return_value(\n\u001b[0m\u001b[1;32m   1310\u001b[0m             answer, self.gateway_client, self.target_id, self.name)\n\u001b[1;32m   1311\u001b[0m \u001b[0;34m\u001b[0m\u001b[0m\n",
      "\u001b[0;32m/usr/local/spark/python/pyspark/sql/utils.py\u001b[0m in \u001b[0;36mdeco\u001b[0;34m(*a, **kw)\u001b[0m\n\u001b[1;32m    115\u001b[0m                 \u001b[0;31m# Hide where the exception came from that shows a non-Pythonic\u001b[0m\u001b[0;34m\u001b[0m\u001b[0;34m\u001b[0m\u001b[0m\n\u001b[1;32m    116\u001b[0m                 \u001b[0;31m# JVM exception message.\u001b[0m\u001b[0;34m\u001b[0m\u001b[0;34m\u001b[0m\u001b[0m\n\u001b[0;32m--> 117\u001b[0;31m                 \u001b[0;32mraise\u001b[0m \u001b[0mconverted\u001b[0m \u001b[0;32mfrom\u001b[0m \u001b[0;32mNone\u001b[0m\u001b[0;34m\u001b[0m\u001b[0;34m\u001b[0m\u001b[0m\n\u001b[0m\u001b[1;32m    118\u001b[0m             \u001b[0;32melse\u001b[0m\u001b[0;34m:\u001b[0m\u001b[0;34m\u001b[0m\u001b[0;34m\u001b[0m\u001b[0m\n\u001b[1;32m    119\u001b[0m                 \u001b[0;32mraise\u001b[0m\u001b[0;34m\u001b[0m\u001b[0;34m\u001b[0m\u001b[0m\n",
      "\u001b[0;31mAnalysisException\u001b[0m: cannot resolve 'df2.marque_corrected' given input columns: [df1.bonus_malus, df2.couleur, df1.cout_energie, df2.longueur, df1.marque, df2.marque, df1.marque_corrected, df1.modele, df2.modele, df2.nbplaces, df2.nbportes, df2.occasion, df2.prix, df2.puissance, df1.rejets_co2];\n'Project [bonus_malus#156, rejets_co2#20, cout_energie#150, marque#112, modele#128, marque_corrected#280, marque#118, modele#134, puissance#2, longueur#3, nbplaces#4, nbportes#5, couleur#6, occasion#7, prix#8, levenshtein(marque_corrected#280, 'df2.marque_corrected) AS distance#303]\n+- Join Cross\n   :- SubqueryAlias df1\n   :  +- Project [bonus_malus#156, rejets_co2#20, cout_energie#150, marque#112, modele#128, regexp_replace(marque#112, \\?, i, 1) AS marque_corrected#280]\n   :     +- Project [cast(regexp_replace(trim(bonus_malus#144, None), [^0-9-], , 1) as float) AS bonus_malus#156, rejets_co2#20, cout_energie#150, marque#112, modele#128]\n   :        +- Project [bonus_malus#144, rejets_co2#20, split(trim(cout_energie#21, None), €, -1)[0] AS cout_energie#150, marque#112, modele#128]\n   :           +- Project [split(trim(bonus_malus#19, None), €, -1)[0] AS bonus_malus#144, rejets_co2#20, cout_energie#21, marque#112, modele#128]\n   :              +- Project [bonus_malus#19, rejets_co2#20, cout_energie#21, marque#112, lower(trim(modele#90, None)) AS modele#128]\n   :                 +- Project [bonus_malus#19, rejets_co2#20, cout_energie#21, lower(trim(marque#84, None)) AS marque#112, modele#90]\n   :                    +- Project [bonus_malus#19, rejets_co2#20, cout_energie#21, marque#84, modele#90]\n   :                       +- Project [marque_modele#18, bonus_malus#19, rejets_co2#20, cout_energie#21, marque#84, split(marque_modele#18,  , 2)[1] AS modele#90]\n   :                          +- Project [marque_modele#18, bonus_malus#19, rejets_co2#20, cout_energie#21, split(marque_modele#18,  , 2)[0] AS marque#84]\n   :                             +- Project [marque_modele#18, bonus_malus#19, rejets_co2#20, cout_energie#21]\n   :                                +- SubqueryAlias spark_catalog.concessionnaire.crit_air_ext\n   :                                   +- Relation concessionnaire.crit_air_ext[marque_modele#18,bonus_malus#19,rejets_co2#20,cout_energie#21] parquet\n   +- SubqueryAlias df2\n      +- Project [marque#118, lower(trim(modele#102, None)) AS modele#134, puissance#2, longueur#3, nbplaces#4, nbportes#5, couleur#6, occasion#7, prix#8]\n         +- Project [lower(trim(marque#0, None)) AS marque#118, modele#102, puissance#2, longueur#3, nbplaces#4, nbportes#5, couleur#6, occasion#7, prix#8]\n            +- Project [marque#0, nom#1 AS modele#102, puissance#2, longueur#3, nbplaces#4, nbportes#5, couleur#6, occasion#7, prix#8]\n               +- Filter NOT (marque#0 = marque)\n                  +- Project [marque#0, nom#1, puissance#2, longueur#3, nbplaces#4, nbportes#5, couleur#6, occasion#7, prix#8]\n                     +- SubqueryAlias spark_catalog.concessionnaire.catalogue_ext\n                        +- HiveTableRelation [`concessionnaire`.`catalogue_ext`, org.apache.hadoop.hive.serde2.lazy.LazySimpleSerDe, Data Cols: [marque#0, nom#1, puissance#2, longueur#3, nbplaces#4, nbportes#5, couleur#6, occasion#7, prix#8], Partition Cols: []]\n"
     ]
    }
   ],
   "source": [
    "# Étape 1: Remplacer '?' par 'i'\n",
    "df_co2 = df_co2.withColumn('marque_corrected', regexp_replace(col('marque'), '\\?', 'i'))\n",
    "\n",
    "# Étape 2: Obtenir les marques correctes (sans caractères mal encodés)\n",
    "marques_correctes_df = df_co2.filter(~col('marque_corrected').like('%�%')) \\\n",
    "                                   .select('marque_corrected').distinct() \\\n",
    "                                   .alias('marques_correctes')\n",
    "\n",
    "# Étape 3: Cross join pour comparer chaque marque avec les marques correctes\n",
    "df_cross = df_co2.alias('df1').crossJoin(marques_correctes_df.alias('df2'))\n",
    "\n",
    "# Étape 4: Calculer la distance de Levenshtein entre les marques\n",
    "df_cross = df_cross.withColumn('distance', levenshtein(col('df1.marque_corrected'), col('df2.marque_corrected')))\n",
    "\n",
    "# Étape 5: Trouver la marque correcte avec la distance minimale\n",
    "window = Window.partitionBy('df1.marque').orderBy(col('distance'))\n",
    "df_min_distance = df_cross.withColumn('rn', row_number().over(window)).filter(col('rn') == 1)\n",
    "\n",
    "# Étape 6: Remplacer les marques incorrectes si la distance est inférieure ou égale à 1\n",
    "df_min_distance = df_min_distance.withColumn('marque_normalisee',\n",
    "                                             when(col('distance') <= 1, col('df2.marque_corrected'))\n",
    "                                             .otherwise(col('df1.marque_corrected')))\n",
    "\n",
    "# Étape 7: Sélectionner les colonnes finales\n",
    "df_result = df_min_distance.select('df1.*', 'marque_normalisee')\n",
    "\n",
    "# Afficher le résultat\n",
    "df_result.select('marque', 'marque_normalisee').show(truncate=False)"
   ]
  },
  {
   "cell_type": "code",
   "execution_count": 9,
   "id": "c27b6e75-fcf0-471a-9a72-d28bea848b7e",
   "metadata": {},
   "outputs": [],
   "source": [
    "modele_count_catalogue = df_catalogue.groupBy(\"modele\").count()\n",
    "modele_count_co2 = df_co2.groupBy(\"modele\").count()\n",
    "\n",
    "modele_count_catalogue = modele_count_catalogue.withColumnRenamed(\"count\", \"count_catalogue\")\n",
    "modele_count_co2 = modele_count_co2.withColumnRenamed(\"count\", \"count_co2\")\n",
    "\n",
    "modele_count_joined = modele_count_catalogue.join(\n",
    "    modele_count_co2,\n",
    "    on=\"modele\",\n",
    "    how=\"outer\"  # Utilise \"left\", \"right\", ou \"outer\" si nécessaire\n",
    ").select(\n",
    "    \"modele\",\n",
    "    F.col(\"count_catalogue\"),\n",
    "    F.col(\"count_co2\")\n",
    ")\n",
    "\n",
    "modele_count_joined_match = modele_count_catalogue.join(\n",
    "    modele_count_co2,\n",
    "    on=\"modele\",\n",
    "    how=\"inner\"  # Utilise \"left\", \"right\", ou \"outer\" si nécessaire\n",
    ").select(\n",
    "    \"modele\",\n",
    "    F.col(\"count_catalogue\"),\n",
    "    F.col(\"count_co2\")\n",
    ")\n",
    "\n",
    "modele_count_joined = modele_count_joined.fillna(0, subset=[\"count_catalogue\", \"count_co2\"])\n",
    "\n",
    "\n",
    "modele_count_joined.show(n=1000, truncate=False)\n",
    "modele_count_joined_match.show(n=1000, truncate=False)"
   ]
  },
  {
   "cell_type": "code",
   "execution_count": 10,
   "id": "b3fe88c1-c47a-4b01-83e5-5133231ec1ee",
   "metadata": {},
   "outputs": [],
   "source": [
    "marques_count_joined = marques_count_joined.withColumn(\"marque_binary\", encode(col('marque'), 'ISO-8859-1')) \n",
    "df_normalized = marques_count_joined.withColumn(\"marque_normalisee\", decode(col('marque_binary'), 'UTF-8')) \n",
    "\n",
    "\n",
    "df_normalized.show(n=1000)"
   ]
  },
  {
   "cell_type": "code",
   "execution_count": null,
   "id": "e838ec38-947a-4e7f-b2c4-74a4990a7b28",
   "metadata": {},
   "outputs": [],
   "source": []
  }
 ],
 "metadata": {
  "kernelspec": {
   "display_name": "Python 3 (ipykernel)",
   "language": "python",
   "name": "python3"
  },
  "language_info": {
   "codemirror_mode": {
    "name": "ipython",
    "version": 3
   },
   "file_extension": ".py",
   "mimetype": "text/x-python",
   "name": "python",
   "nbconvert_exporter": "python",
   "pygments_lexer": "ipython3",
   "version": "3.9.7"
  }
 },
 "nbformat": 4,
 "nbformat_minor": 5
}
