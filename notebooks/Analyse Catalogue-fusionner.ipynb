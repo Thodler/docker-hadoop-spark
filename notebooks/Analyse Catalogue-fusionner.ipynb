{
 "cells": [
  {
   "cell_type": "code",
   "execution_count": 1,
   "id": "68f297d2-fc7f-424b-96d1-85b506bd6465",
   "metadata": {},
   "outputs": [],
   "source": [
    "from pyspark.sql import SparkSession\n",
    "from pyspark.sql.types import StringType\n",
    "from pyspark.sql.window import Window\n",
    "from pyspark.sql import functions as F\n",
    "from pyspark.sql.functions import avg, when, trim, split, regexp_replace, round, lower, col, encode, count, levenshtein, row_number, broadcast, coalesce, udf, lit\n",
    "\n",
    "import re\n"
   ]
  },
  {
   "cell_type": "code",
   "execution_count": 2,
   "id": "e2d63220-f405-4c59-9696-4ea0ff699eee",
   "metadata": {},
   "outputs": [],
   "source": [
    "### FUNCTIONS ###\n",
    "\n",
    "# Définir la fonction pour extraire le modèle\n",
    "def extract_model(modele_str):\n",
    "    words = modele_str.strip().split()\n",
    "    model_words = []\n",
    "    # Liste de mots à arrêter\n",
    "    stopwords = set([\n",
    "        'berline',\n",
    "        'e-tense',\n",
    "        'hyb.',\n",
    "        'hybrid',\n",
    "        'hybride',\n",
    "        'e-hybrid',\n",
    "        'moteur',\n",
    "        'active',\n",
    "        'sportback',\n",
    "        'xdrive',\n",
    "        'moteur',\n",
    "        's-phev',\n",
    "        'crossback',\n",
    "        'electrique',\n",
    "        'cabrio',\n",
    "        'coupe',\n",
    "        '4matic',\n",
    "        'roadster',\n",
    "        'electric',\n",
    "        'plug-in',\n",
    "        'se',\n",
    "        'phev',\n",
    "        'sw',\n",
    "        'tourer'\n",
    "    ])\n",
    "    for word in words:\n",
    "        word_clean = word.lower().strip('()')\n",
    "        if word_clean in stopwords:\n",
    "            break\n",
    "        elif re.match(r'^\\d+\\.\\d+(ch|kw|t)?$', word_clean):  # nombres décimaux\n",
    "            break\n",
    "        elif re.match(r'^\\d+(ch|kw|t)$', word_clean):  # nombres avec suffixes\n",
    "            break\n",
    "        else:\n",
    "            model_words.append(word)\n",
    "    return ' '.join(model_words)\n",
    "# Cette fonction supprime tout après un mot choisi\n",
    "def extract_model_after(modele_str):\n",
    "    words = modele_str.strip().split()\n",
    "    model_words = []\n",
    "    # Liste de mots à arrêter\n",
    "    stopwords = set([\n",
    "        'forfour',\n",
    "        'ev400',\n",
    "        'c 300',\n",
    "        't8',\n",
    "        't6',\n",
    "        't5'\n",
    "    ])\n",
    "\n",
    "    for word in words:\n",
    "        word_clean = word.lower().strip('()')\n",
    "        model_words.append(word)  # Ajouter le mot au modèle\n",
    "\n",
    "        # Si le mot est un stopword, arrêter après l'avoir ajouté\n",
    "        if word_clean in stopwords:\n",
    "            break\n",
    "        # Si le mot correspond aux formats numériques, arrêter sans l'ajouter\n",
    "        elif re.match(r'^\\d+\\.\\d+(ch|kw|t)?$', word_clean) or re.match(r'^\\d+(ch|kw|t)$', word_clean):\n",
    "            model_words.pop()  # Enlever le dernier mot ajouté (le numéro) et arrêter\n",
    "            break\n",
    "\n",
    "    return ' '.join(model_words)"
   ]
  },
  {
   "cell_type": "code",
   "execution_count": 3,
   "id": "6de8f154-d567-4c4c-95d0-0f90c2323a15",
   "metadata": {},
   "outputs": [
    {
     "name": "stderr",
     "output_type": "stream",
     "text": [
      "Warning: Ignoring non-Spark config property: hive.metastore.uris\n",
      "Warning: Ignoring non-Spark config property: hive.metastore.warehouse.dir\n",
      "WARNING: An illegal reflective access operation has occurred\n",
      "WARNING: Illegal reflective access by org.apache.spark.unsafe.Platform (file:/usr/local/spark-3.2.0-bin-hadoop3.2/jars/spark-unsafe_2.12-3.2.0.jar) to constructor java.nio.DirectByteBuffer(long,int)\n",
      "WARNING: Please consider reporting this to the maintainers of org.apache.spark.unsafe.Platform\n",
      "WARNING: Use --illegal-access=warn to enable warnings of further illegal reflective access operations\n",
      "WARNING: All illegal access operations will be denied in a future release\n",
      "Using Spark's default log4j profile: org/apache/spark/log4j-defaults.properties\n",
      "Setting default log level to \"WARN\".\n",
      "To adjust logging level use sc.setLogLevel(newLevel). For SparkR, use setLogLevel(newLevel).\n",
      "24/11/16 20:14:21 WARN NativeCodeLoader: Unable to load native-hadoop library for your platform... using builtin-java classes where applicable\n",
      "24/11/16 20:14:22 WARN Utils: Service 'SparkUI' could not bind on port 4040. Attempting port 4041.\n",
      "24/11/16 20:14:22 WARN Utils: Service 'SparkUI' could not bind on port 4041. Attempting port 4042.\n"
     ]
    },
    {
     "data": {
      "text/plain": [
       "DataFrame[]"
      ]
     },
     "execution_count": 3,
     "metadata": {},
     "output_type": "execute_result"
    }
   ],
   "source": [
    "spark = SparkSession.builder\\\n",
    "    .appName(\"AggregateCatalogueCo2\")\\\n",
    "    .config('hive.metastore.warehouse.dir', '/user/hive/warehouse')\\\n",
    "    .config('hive.metastore.uris', 'thrift://hive-metastore:9083')\\\n",
    "    .enableHiveSupport()\\\n",
    "    .getOrCreate()\n",
    "\n",
    "spark.sparkContext.setLogLevel(\"OFF\")\n",
    "spark.catalog.clearCache()\n",
    "spark.sql(\"USE concessionnaire\")"
   ]
  },
  {
   "cell_type": "markdown",
   "id": "e9cda2bc-d5cf-44de-9f2f-21a3b67c6f83",
   "metadata": {},
   "source": [
    "## Analyse du catalogue"
   ]
  },
  {
   "cell_type": "code",
   "execution_count": 4,
   "id": "1e49a4f8-b788-463a-a670-d3fb423c1973",
   "metadata": {},
   "outputs": [
    {
     "name": "stderr",
     "output_type": "stream",
     "text": [
      "                                                                                \r"
     ]
    },
    {
     "name": "stdout",
     "output_type": "stream",
     "text": [
      "+----------+--------------+---------+--------+--------+--------+-------+--------+-------+-----------+----------+------------+\n",
      "|    marque|        modele|puissance|longueur|nbplaces|nbportes|couleur|occasion|   prix|bonus_malus|rejets_co2|cout_energie|\n",
      "+----------+--------------+---------+--------+--------+--------+-------+--------+-------+-----------+----------+------------+\n",
      "|volkswagen|touran 2.0 fsi|      150|  longue|       7|       5|  rouge|   false|27340.0|    -6000.0|       0.0|       185.0|\n",
      "|volkswagen|touran 2.0 fsi|      150|  longue|       7|       5|  rouge|   false|27340.0|    -6000.0|       0.0|       209.0|\n",
      "|volkswagen|touran 2.0 fsi|      150|  longue|       7|       5|  rouge|   false|27340.0|    -6000.0|      31.0|        56.0|\n",
      "|volkswagen|touran 2.0 fsi|      150|  longue|       7|       5|  rouge|   false|27340.0|    -6000.0|      40.0|        54.0|\n",
      "|volkswagen|touran 2.0 fsi|      150|  longue|       7|       5|  rouge|   false|27340.0|    -6000.0|      31.0|        56.0|\n",
      "|volkswagen|touran 2.0 fsi|      150|  longue|       7|       5|  rouge|   false|27340.0|    -6000.0|      31.0|        56.0|\n",
      "|volkswagen|touran 2.0 fsi|      150|  longue|       7|       5|  rouge|   false|27340.0|    -6000.0|      31.0|        56.0|\n",
      "|volkswagen|touran 2.0 fsi|      150|  longue|       7|       5|  rouge|   false|27340.0|    -6000.0|      40.0|        54.0|\n",
      "|volkswagen|touran 2.0 fsi|      150|  longue|       7|       5|  rouge|   false|27340.0|    -6000.0|      31.0|        56.0|\n",
      "|volkswagen|touran 2.0 fsi|      150|  longue|       7|       5|  rouge|   false|27340.0|    -6000.0|      31.0|        56.0|\n",
      "|volkswagen|touran 2.0 fsi|      150|  longue|       7|       5|  rouge|   false|27340.0|    -6000.0|       0.0|       185.0|\n",
      "|volkswagen|touran 2.0 fsi|      150|  longue|       7|       5|  rouge|   false|27340.0|    -6000.0|      31.0|        56.0|\n",
      "|volkswagen|touran 2.0 fsi|      150|  longue|       7|       5|  rouge|   false|27340.0|    -6000.0|       0.0|       209.0|\n",
      "|volkswagen|touran 2.0 fsi|      150|  longue|       7|       5|  rouge|   false|27340.0|    -6000.0|      31.0|        56.0|\n",
      "|volkswagen|touran 2.0 fsi|      150|  longue|       7|       5|   gris|    true|19138.0|    -6000.0|       0.0|       185.0|\n",
      "|volkswagen|touran 2.0 fsi|      150|  longue|       7|       5|   gris|    true|19138.0|    -6000.0|       0.0|       209.0|\n",
      "|volkswagen|touran 2.0 fsi|      150|  longue|       7|       5|   gris|    true|19138.0|    -6000.0|      31.0|        56.0|\n",
      "|volkswagen|touran 2.0 fsi|      150|  longue|       7|       5|   gris|    true|19138.0|    -6000.0|      40.0|        54.0|\n",
      "|volkswagen|touran 2.0 fsi|      150|  longue|       7|       5|   gris|    true|19138.0|    -6000.0|      31.0|        56.0|\n",
      "|volkswagen|touran 2.0 fsi|      150|  longue|       7|       5|   gris|    true|19138.0|    -6000.0|      31.0|        56.0|\n",
      "+----------+--------------+---------+--------+--------+--------+-------+--------+-------+-----------+----------+------------+\n",
      "only showing top 20 rows\n",
      "\n"
     ]
    }
   ],
   "source": [
    "# Chargement des données\n",
    "df_catalogue = spark.sql(\"SELECT * FROM catalogue_ext\")\n",
    "df_co2 = spark.sql(\"SELECT * FROM crit_air_ext\")\n",
    "\n",
    "df_catalogue = df_catalogue.filter(df_catalogue['marque'] != 'marque') # A GERER DANS L'IMPORT DE HIVE ???\n",
    "\n",
    "# co2 dispose de marque et modele dans la meme colonne\n",
    "df_co2 = df_co2.withColumn(\"marque\", split(df_co2[\"marque_modele\"], \" \", 2).getItem(0))\n",
    "df_co2 = df_co2.withColumn(\"modele\", split(df_co2[\"marque_modele\"], \" \", 2).getItem(1))\n",
    "df_co2 = df_co2.drop('marque_modele')\n",
    "\n",
    "# La colonne **nom** du catalogue est renommée en **modele**\n",
    "df_catalogue = df_catalogue.withColumnRenamed(\"nom\", \"modele\")\n",
    "\n",
    "# Les colonnes 'marque' et 'modele' dans les 2 tableaux n’ont pas la même casse.\n",
    "df_co2 = df_co2.withColumn(\"marque\", lower(trim(col(\"marque\"))))\n",
    "df_catalogue = df_catalogue.withColumn(\"marque\", lower(trim(col(\"marque\"))))\n",
    "\n",
    "df_co2 = df_co2.withColumn(\"modele\", lower(trim(col(\"modele\"))))\n",
    "df_catalogue = df_catalogue.withColumn(\"modele\", lower(trim(col(\"modele\"))))\n",
    "\n",
    "# Nettoyage des données spécifiques\n",
    "df_co2 = df_co2.withColumn(\"bonus_malus\", split(trim(df_co2[\"bonus_malus\"]), \"€\").getItem(0))\n",
    "df_co2 = df_co2.withColumn(\"cout_energie\", split(trim(df_co2[\"cout_energie\"]), \"€\").getItem(0))\n",
    "df_co2 = df_co2.withColumn(\"bonus_malus\", regexp_replace(trim(df_co2[\"bonus_malus\"]), \"[^0-9-]\", \"\").cast(\"float\"))\n",
    "df_catalogue = df_catalogue.withColumn(\"longueur\", regexp_replace(col(\"longueur\"), \"�\", \"e\"))\n",
    "df_co2 = df_co2.withColumn(\"modele\", regexp_replace(\"modele\", \"ã©\", \"e\"))\n",
    "df_co2 = df_co2.withColumn(\"modele\", regexp_replace(\"modele\", \"ã\", \"a\"))\n",
    "df_co2 = df_co2.withColumn(\"modele\", regexp_replace(\"modele\", \"copper\", \"cooper\"))\n",
    "df_co2 = df_co2.withColumn(\"modele\", regexp_replace(\"modele\", \"e- tense\", \"e-tense\"))\n",
    "df_co2 = df_co2.withColumn(\"modele\", regexp_replace(\"modele\", \"5p\", \"\"))\n",
    "df_co2 = df_co2.withColumn(\"modele\", regexp_replace(\"modele\", \"eq \", \"\"))\n",
    "df_co2 = df_co2.withColumn(\"modele\", regexp_replace(\"modele\", \"120 ah\", \"\"))\n",
    "df_co2 = df_co2.withColumn(\"modele\", regexp_replace(\"modele\", \"nouvelle\", \"\"))\n",
    "df_co2 = df_co2.withColumn(\"modele\", regexp_replace(\"modele\", \"nissan\", \"\"))\n",
    "df_co2 = df_co2.withColumn(\"modele\", regexp_replace(\"modele\", \"tfsi e\", \"tfsie\"))\n",
    "df_co2 = df_co2.withColumn(\"modele\", regexp_replace(\"modele\", \"rover range\", \"range\"))\n",
    "df_co2 = df_co2.withColumn(\"modele\", regexp_replace(\"modele\", \"rover lwb\", \"rover\"))\n",
    "df_co2 = df_co2.withColumn(\"modele\", regexp_replace(\"modele\", \"rover sport\", \"rover\"))\n",
    "df_co2 = df_co2.withColumn(\"modele\", regexp_replace(\"modele\", \"rover swb\", \"rover\"))\n",
    "df_co2 = df_co2.withColumn(\"modele\", regexp_replace(\"modele\", \"xdrive\", \"\"))\n",
    "df_co2 = df_co2.withColumn(\"modele\", regexp_replace(\"modele\", \"combi\", \"\"))\n",
    "\n",
    "df_co2 = df_co2.withColumn(\n",
    "    \"cout_energie\",\n",
    "    regexp_replace(col(\"cout_energie\"), \"\\u00A0\", \"\")\n",
    ")\n",
    "df_co2 = df_co2.withColumn(\"cout_energie\", col(\"cout_energie\").cast(\"float\"))\n",
    "\n",
    "marques_correctes_df = df_co2.select('marque').distinct().alias('marques_correctes')\n",
    "marques_catalogue_df = df_catalogue.select('marque').distinct().alias('marques_catalogue')\n",
    "\n",
    "df_cross = marques_catalogue_df.crossJoin(broadcast(marques_correctes_df))\n",
    "\n",
    "df_cross = df_cross.withColumn('distance', levenshtein(col('marques_catalogue.marque'), col('marques_correctes.marque')))\n",
    "\n",
    "window = Window.partitionBy('marques_catalogue.marque').orderBy(col('distance'))\n",
    "df_min_distance = df_cross.withColumn('rn', row_number().over(window)).filter(col('rn') == 1)\n",
    "\n",
    "marque_mapping = df_min_distance.select(\n",
    "    col('marques_catalogue.marque').alias('marque_catalogue'),\n",
    "    col('marques_correctes.marque').alias('marque_correcte'),\n",
    "    'distance'\n",
    ").filter(col('distance') <= 2)\n",
    "\n",
    "df_catalogue_corrected = df_catalogue.join(\n",
    "    marque_mapping,\n",
    "    df_catalogue.marque == marque_mapping.marque_catalogue,\n",
    "    how='left'\n",
    ")\n",
    "\n",
    "df_catalogue = df_catalogue_corrected.withColumn(\n",
    "    'marque',\n",
    "    coalesce(col('marque_correcte'), col('marque'))\n",
    ").drop('marque_catalogue', 'marque_correcte', 'distance')\n",
    "\n",
    "# Calcul des moyennes par marque\n",
    "df_co2_agg_bonus_malus_marque = df_co2.groupby(\"marque\").agg(round(avg(\"bonus_malus\")).alias(\"moyenne_bonus_malus_marque\"))\n",
    "df_co2_agg_rejets_co2_marque = df_co2.groupby(\"marque\").agg(round(avg(\"rejets_co2\")).alias(\"moyenne_rejets_co2_marque\"))\n",
    "df_co2_agg_cout_energie_marque = df_co2.groupby(\"marque\").agg(round(avg(\"cout_energie\")).alias(\"moyenne_cout_energie_marque\"))\n",
    "\n",
    "extract_model_udf = udf(extract_model, StringType())\n",
    "extract_model_after_udf = udf(extract_model_after, StringType())\n",
    "\n",
    "df_co2 = df_co2.withColumn('modele', extract_model_udf(df_co2.modele))\n",
    "df_co2 = df_co2.withColumn('modele', extract_model_after_udf(df_co2.modele))\n",
    "\n",
    "# Calcul des moyennes par modèle\n",
    "df_catalogue_result_model = df_catalogue.withColumn('modele', split(df_catalogue['modele'], ' ').getItem(0))\n",
    "df_catalogue_co2_model = df_co2.withColumn('modele', split(df_co2['modele'], ' ').getItem(0))\n",
    "\n",
    "df_co2_agg_bonus_malus_modele = df_catalogue_co2_model.groupby(\"modele\").agg(round(avg(\"bonus_malus\")).alias(\"moyenne_bonus_malus_modele\"))\n",
    "df_co2_agg_rejets_co2_modele = df_catalogue_co2_model.groupby(\"modele\").agg(round(avg(\"rejets_co2\")).alias(\"moyenne_rejets_co2_modele\"))\n",
    "df_co2_agg_cout_energie_modele = df_catalogue_co2_model.groupby(\"modele\").agg(round(avg(\"cout_energie\")).alias(\"moyenne_cout_energie_modele\"))\n",
    "\n",
    "# Calcul des moyennes globales\n",
    "moyenne_bonus_malus_global = df_co2_agg_bonus_malus_modele.agg(round(avg('moyenne_bonus_malus_modele'), 2)).collect()[0][0]\n",
    "moyenne_rejets_co2_global = df_co2_agg_rejets_co2_modele.agg(round(avg('moyenne_rejets_co2_modele'), 2)).collect()[0][0]\n",
    "moyenne_cout_energie_global = df_co2_agg_cout_energie_modele.agg(round(avg('moyenne_cout_energie_modele'), 2)).collect()[0][0]\n",
    "\n",
    "# Jointure des données du catalogue avec celles de CO2\n",
    "df_co2 = df_co2.withColumnRenamed(\"modele\", \"modele_co2\")\n",
    "df_catalogue_with_co2 = df_catalogue.join(df_co2, on=\"marque\", how=\"left\")\n",
    "\n",
    "# Joindre les moyennes par marque\n",
    "df_catalogue_with_co2 = df_catalogue_with_co2.join(df_co2_agg_bonus_malus_marque, on=\"marque\", how=\"left\")\n",
    "df_catalogue_with_co2 = df_catalogue_with_co2.join(df_co2_agg_rejets_co2_marque, on=\"marque\", how=\"left\")\n",
    "df_catalogue_with_co2 = df_catalogue_with_co2.join(df_co2_agg_cout_energie_marque, on=\"marque\", how=\"left\")\n",
    "\n",
    "# Remplir les valeurss manquantes selon les consignes\n",
    "df_catalogue_with_moyennes = df_catalogue_with_co2.withColumn(\n",
    "    'bonus_malus',\n",
    "    when(\n",
    "        col('bonus_malus').isNull() & col('moyenne_bonus_malus_marque').isNotNull(),\n",
    "        col('moyenne_bonus_malus_marque')\n",
    "    ).when(\n",
    "        col('bonus_malus').isNull() & col('moyenne_bonus_malus_marque').isNull(),\n",
    "        lit(moyenne_bonus_malus_global)\n",
    "    ).otherwise(col('bonus_malus'))\n",
    ").withColumn(\n",
    "    'rejets_co2',\n",
    "    when(\n",
    "        col('rejets_co2').isNull() & col('moyenne_rejets_co2_marque').isNotNull(),\n",
    "        col('moyenne_rejets_co2_marque')\n",
    "    ).when(\n",
    "        col('rejets_co2').isNull() & col('moyenne_rejets_co2_marque').isNull(),\n",
    "        lit(moyenne_rejets_co2_global)\n",
    "    ).otherwise(col('rejets_co2'))\n",
    ").withColumn(\n",
    "    'cout_energie',\n",
    "    when(\n",
    "        col('cout_energie').isNull() & col('moyenne_cout_energie_marque').isNotNull(),\n",
    "        col('moyenne_cout_energie_marque')\n",
    "    ).when(\n",
    "        col('cout_energie').isNull() & col('moyenne_cout_energie_marque').isNull(),\n",
    "        lit(moyenne_cout_energie_global)\n",
    "    ).otherwise(col('cout_energie'))\n",
    ")\n",
    "\n",
    "# Nettoyer les colonnes inutiles\n",
    "df_catalogue_with_moyennes = df_catalogue_with_moyennes.drop(\"modele_co2\", \"moyenne_bonus_malus_marque\", \"moyenne_rejets_co2_marque\", \"moyenne_cout_energie_marque\")\n",
    "\n",
    "df_catalogue_with_moyennes.show()"
   ]
  },
  {
   "cell_type": "markdown",
   "id": "2fb6562f-7738-4131-b8bc-9401ee190c21",
   "metadata": {},
   "source": [
    "### Remarque 001\n",
    "- Des doublons sont constaté sans inclure les moyenne apporté par **Co2**."
   ]
  },
  {
   "cell_type": "code",
   "execution_count": 5,
   "id": "329bbfb1-464b-4803-b4b3-faf3cebaedc0",
   "metadata": {},
   "outputs": [
    {
     "name": "stdout",
     "output_type": "stream",
     "text": [
      "+----------+----------------+---------+-----------+--------+--------+-------+--------+--------+-----+\n",
      "|    marque|          modele|puissance|   longueur|nbplaces|nbportes|couleur|occasion|    prix|count|\n",
      "+----------+----------------+---------+-----------+--------+--------+-------+--------+--------+-----+\n",
      "|volkswagen|     polo 1.2 6v|       55|     courte|       5|       3|   bleu|   false| 12200.0|   14|\n",
      "|   renault|vel satis 3.5 v6|      245|tres longue|       5|       5|   noir|    true| 34440.0|    3|\n",
      "|   renault|  megane 2.0 16v|      135|    moyenne|       5|       5|  rouge|   false| 22350.0|    3|\n",
      "|     skoda|   superb 2.8 v6|      193|tres longue|       5|       5|   noir|   false| 31790.0|    9|\n",
      "|volkswagen|  touran 2.0 fsi|      150|     longue|       7|       5|   gris|    true| 19138.0|   14|\n",
      "|       kia|       croma 2.2|      147|     longue|       5|       5|  blanc|    true| 17346.0|    6|\n",
      "|      audi|      a3 2.0 fsi|      150|    moyenne|       5|       5|  rouge|    true| 19950.0|    8|\n",
      "|volkswagen|     polo 1.2 6v|       55|     courte|       5|       3|  blanc|   false| 12200.0|   14|\n",
      "|  mercedes|            s500|      306|tres longue|       5|       5|   bleu|   false|101300.0|   42|\n",
      "|  mercedes|            s500|      306|tres longue|       5|       5|   noir|    true| 70910.0|   42|\n",
      "|   peugeot|        1007 1.4|       75|     courte|       5|       5|   gris|    true|  9625.0|    5|\n",
      "|       bmw|            120i|      150|    moyenne|       5|       5|  blanc|    true| 25060.0|   12|\n",
      "|   renault|     laguna 2.0t|      170|     longue|       5|       5|   gris|   false| 27300.0|    3|\n",
      "|       bmw|            120i|      150|    moyenne|       5|       5|   bleu|    true| 25060.0|   12|\n",
      "|   renault|vel satis 3.5 v6|      245|tres longue|       5|       5|  blanc|    true| 34440.0|    3|\n",
      "|    nissan|   maxima 3.0 v6|      200|tres longue|       5|       5|   bleu|   false| 30000.0|    9|\n",
      "|       bmw|              m5|      507|tres longue|       5|       5|   bleu|   false| 94800.0|   12|\n",
      "|    nissan|     primera 1.6|      109|     longue|       5|       5|  rouge|   false| 18650.0|    9|\n",
      "|      audi|      a3 2.0 fsi|      150|    moyenne|       5|       5|   gris|    true| 19950.0|    8|\n",
      "|       kia|       croma 2.2|      147|     longue|       5|       5|   gris|    true| 17346.0|    6|\n",
      "+----------+----------------+---------+-----------+--------+--------+-------+--------+--------+-----+\n",
      "only showing top 20 rows\n",
      "\n"
     ]
    }
   ],
   "source": [
    "doublons = df_catalogue_with_co2.groupBy(\"marque\", \"modele\", \"puissance\", \"longueur\", \"nbplaces\", \"nbportes\", \"couleur\", \"occasion\", \"prix\") \\\n",
    "    .agg(count(\"*\").alias(\"count\")) \\\n",
    "    .filter(col(\"count\") > 1)\n",
    "\n",
    "# Afficher les doublons\n",
    "doublons.show()"
   ]
  },
  {
   "cell_type": "markdown",
   "id": "b84c5b15-bf9b-4773-ab49-559d1e419e06",
   "metadata": {},
   "source": [
    "## Vérification du Domaine de valeurs"
   ]
  },
  {
   "cell_type": "code",
   "execution_count": 6,
   "id": "b3c77985-c9e4-4cb3-8c84-eace166a6aa6",
   "metadata": {},
   "outputs": [
    {
     "name": "stdout",
     "output_type": "stream",
     "text": [
      "+----------+----------------+-----------+-------+--------+--------+-------------------+-----------+----------+------------+---------+\n",
      "|    marque|          modele|   longueur|couleur|nbplaces|nbportes|          categorie|bonus_malus|rejets_co2|cout_energie|puissance|\n",
      "+----------+----------------+-----------+-------+--------+--------+-------------------+-----------+----------+------------+---------+\n",
      "|  daihatsu|       cuore 1.0|     courte|   noir|       5|       3|citadine economique|    -4865.0|      33.0|       158.0|     58.0|\n",
      "|       bmw|              m5|tres longue|   bleu|       5|       5|      suv/crossover|    -6000.0|      39.0|        88.0|    507.0|\n",
      "|     dacia|   logan 1.6 mpi|    moyenne|   noir|       5|       5|          familiale|    -4865.0|      33.0|       158.0|     90.0|\n",
      "|   renault|vel satis 3.5 v6|tres longue|  blanc|       5|       5|      suv/crossover|    -6000.0|       0.0|       206.0|    245.0|\n",
      "|       bmw|            120i|    moyenne|   gris|       5|       5|          familiale|    -6000.0|      39.0|        88.0|    150.0|\n",
      "|     skoda|   superb 2.8 v6|tres longue|   noir|       5|       5|              autre|    -6000.0|      28.0|        99.0|    193.0|\n",
      "|   renault|     laguna 2.0t|     longue|   noir|       5|       5|          familiale|    -6000.0|       0.0|       206.0|    170.0|\n",
      "|   renault|     espace 2.0t|     longue|   bleu|       7|       5|          familiale|    -6000.0|       0.0|       206.0|    165.0|\n",
      "|    nissan|   maxima 3.0 v6|tres longue|  rouge|       5|       5|              autre|     7114.0|     178.0|       740.0|    200.0|\n",
      "|      seat|      toledo 1.6|     longue|   noir|       5|       5|          familiale|    -4865.0|      33.0|       158.0|    102.0|\n",
      "|      seat|      toledo 1.6|     longue|   gris|       5|       5|          familiale|    -4865.0|      33.0|       158.0|    102.0|\n",
      "|     volvo|          s80 t6|tres longue|   noir|       5|       5|      suv/crossover|    -4865.0|      42.0|        72.0|    272.0|\n",
      "|     honda|        fr-v 1.7|     longue|  rouge|       7|       5|          familiale|    -4865.0|      33.0|       158.0|    125.0|\n",
      "|      saab|        9.3 1.8t|     longue|  blanc|       5|       5|          familiale|    -4865.0|      33.0|       158.0|    150.0|\n",
      "|   peugeot|        1007 1.4|     courte|  blanc|       5|       5|citadine economique|    -6000.0|      13.0|       160.0|     75.0|\n",
      "|volkswagen|    golf 2.0 fsi|    moyenne|   noir|       5|       5|          familiale|    -6000.0|      23.0|        96.0|    150.0|\n",
      "|      mini|  cooper 1.6 16v|     courte|   gris|       5|       5|              autre|    -6000.0|      22.0|       126.0|    115.0|\n",
      "|  mercedes|            s500|tres longue|  rouge|       5|       5|      suv/crossover|     7412.0|     160.0|       645.0|    306.0|\n",
      "|   renault|vel satis 3.5 v6|tres longue|  rouge|       5|       5|      suv/crossover|    -6000.0|       0.0|       206.0|    245.0|\n",
      "|      saab|        9.3 1.8t|     longue|   gris|       5|       5|          familiale|    -4865.0|      33.0|       158.0|    150.0|\n",
      "+----------+----------------+-----------+-------+--------+--------+-------------------+-----------+----------+------------+---------+\n",
      "only showing top 20 rows\n",
      "\n"
     ]
    }
   ],
   "source": [
    "df_catalogue_officiel = spark.sql(\"SELECT * FROM catalogue\")\n",
    "df_catalogue_officiel.show()"
   ]
  },
  {
   "cell_type": "code",
   "execution_count": 7,
   "id": "356cb83d-3c8c-46e0-a775-f7d087638303",
   "metadata": {},
   "outputs": [
    {
     "name": "stdout",
     "output_type": "stream",
     "text": [
      "+----------+\n",
      "|    marque|\n",
      "+----------+\n",
      "|      audi|\n",
      "|       bmw|\n",
      "|     dacia|\n",
      "|  daihatsu|\n",
      "|      ford|\n",
      "|     honda|\n",
      "|   hyundai|\n",
      "|    jaguar|\n",
      "|       kia|\n",
      "|    lancia|\n",
      "|  mercedes|\n",
      "|      mini|\n",
      "|    nissan|\n",
      "|   peugeot|\n",
      "|   renault|\n",
      "|      saab|\n",
      "|     skoda|\n",
      "|     smart|\n",
      "|volkswagen|\n",
      "|     volvo|\n",
      "+----------+\n",
      "\n"
     ]
    },
    {
     "data": {
      "text/plain": [
       "20"
      ]
     },
     "execution_count": 7,
     "metadata": {},
     "output_type": "execute_result"
    }
   ],
   "source": [
    "marques_catalogue_ext = df_catalogue.select(\"marque\").distinct().orderBy(\"marque\")\n",
    "marques_catalogue_ext.show()\n",
    "marques_catalogue_ext.count()"
   ]
  },
  {
   "cell_type": "code",
   "execution_count": 8,
   "id": "3eb46273-0904-47e9-8b08-863c7072f244",
   "metadata": {},
   "outputs": [
    {
     "name": "stdout",
     "output_type": "stream",
     "text": [
      "+----------+\n",
      "|    marque|\n",
      "+----------+\n",
      "|      audi|\n",
      "|       bmw|\n",
      "|     dacia|\n",
      "|  daihatsu|\n",
      "|      fiat|\n",
      "|      ford|\n",
      "|     honda|\n",
      "|   hyundai|\n",
      "|    jaguar|\n",
      "|       kia|\n",
      "|    lancia|\n",
      "|  mercedes|\n",
      "|      mini|\n",
      "|    nissan|\n",
      "|   peugeot|\n",
      "|   renault|\n",
      "|      saab|\n",
      "|      seat|\n",
      "|     skoda|\n",
      "|volkswagen|\n",
      "|     volvo|\n",
      "+----------+\n",
      "\n"
     ]
    },
    {
     "data": {
      "text/plain": [
       "21"
      ]
     },
     "execution_count": 8,
     "metadata": {},
     "output_type": "execute_result"
    }
   ],
   "source": [
    "marques_catalogue_ext = df_catalogue_officiel.select(\"marque\").distinct().orderBy(\"marque\")\n",
    "marques_catalogue_ext.show(n=30)\n",
    "marques_catalogue_ext.count()"
   ]
  },
  {
   "cell_type": "code",
   "execution_count": 9,
   "id": "3d972bd7-e828-4746-a844-f97ec4424970",
   "metadata": {},
   "outputs": [
    {
     "name": "stdout",
     "output_type": "stream",
     "text": [
      "+----------------+\n",
      "|          modele|\n",
      "+----------------+\n",
      "|        1007 1.4|\n",
      "|            120i|\n",
      "|        9.3 1.8t|\n",
      "|          a2 1.4|\n",
      "|            a200|\n",
      "|      a3 2.0 fsi|\n",
      "|      almera 1.8|\n",
      "|  copper 1.6 16v|\n",
      "|       croma 2.2|\n",
      "|       cuore 1.0|\n",
      "|     espace 2.0t|\n",
      "|        fr-v 1.7|\n",
      "|    golf 2.0 fsi|\n",
      "|     laguna 2.0t|\n",
      "|   logan 1.6 mpi|\n",
      "|              m5|\n",
      "|      matrix 1.6|\n",
      "|   maxima 3.0 v6|\n",
      "|  megane 2.0 16v|\n",
      "|      mondeo 1.8|\n",
      "|  new beatle 1.8|\n",
      "|     picanto 1.1|\n",
      "|     polo 1.2 6v|\n",
      "|     primera 1.6|\n",
      "|            s500|\n",
      "|          s80 t6|\n",
      "|   superb 2.8 v6|\n",
      "|      toledo 1.6|\n",
      "|  touran 2.0 fsi|\n",
      "|vel satis 3.5 v6|\n",
      "|   x-type 2.5 v6|\n",
      "| ypsilon 1.4 16v|\n",
      "+----------------+\n",
      "\n",
      "+----------------+\n",
      "|          modele|\n",
      "+----------------+\n",
      "|        1007 1.4|\n",
      "|            120i|\n",
      "|        9.3 1.8t|\n",
      "|          a2 1.4|\n",
      "|            a200|\n",
      "|      a3 2.0 fsi|\n",
      "|      almera 1.8|\n",
      "|  cooper 1.6 16v|\n",
      "|       croma 2.2|\n",
      "|       cuore 1.0|\n",
      "|     espace 2.0t|\n",
      "|        fr-v 1.7|\n",
      "|    golf 2.0 fsi|\n",
      "|     laguna 2.0t|\n",
      "|   logan 1.6 mpi|\n",
      "|              m5|\n",
      "|      matrix 1.6|\n",
      "|   maxima 3.0 v6|\n",
      "|  megane 2.0 16v|\n",
      "|      mondeo 1.8|\n",
      "|  new beatle 1.8|\n",
      "|     picanto 1.1|\n",
      "|     polo 1.2 6v|\n",
      "|     primera 1.6|\n",
      "|            s500|\n",
      "|          s80 t6|\n",
      "|   superb 2.8 v6|\n",
      "|      toledo 1.6|\n",
      "|  touran 2.0 fsi|\n",
      "|vel satis 3.5 v6|\n",
      "|   x-type 2.5 v6|\n",
      "| ypsilon 1.4 16v|\n",
      "+----------------+\n",
      "\n"
     ]
    },
    {
     "data": {
      "text/plain": [
       "32"
      ]
     },
     "execution_count": 9,
     "metadata": {},
     "output_type": "execute_result"
    }
   ],
   "source": [
    "modele_catalogue_ext = df_catalogue.select(\"modele\").distinct().orderBy(\"modele\")\n",
    "modele_catalogue_ext.show(n=100)\n",
    "modele_catalogue_ext.count()\n",
    "\n",
    "modele_catalogue_ext = df_catalogue_officiel.select(\"modele\").distinct().orderBy(\"modele\")\n",
    "modele_catalogue_ext.show(n=100)\n",
    "modele_catalogue_ext.count()"
   ]
  },
  {
   "cell_type": "code",
   "execution_count": 10,
   "id": "d0bb0654-ccfa-4d6a-aad6-d7f19a77d5ec",
   "metadata": {},
   "outputs": [
    {
     "name": "stdout",
     "output_type": "stream",
     "text": [
      "Puissance inférieure à 55: 0\n",
      "Puissance supérieure à 507: 0\n"
     ]
    }
   ],
   "source": [
    "puissance_inf = 55\n",
    "puissance_supp = 507\n",
    "\n",
    "result = df_catalogue_officiel.filter(df_catalogue_officiel['puissance'] < puissance_inf).count()\n",
    "print(f'Puissance inférieure à {puissance_inf}: {result}')\n",
    "\n",
    "result = df_catalogue_officiel.filter(df_catalogue_officiel['puissance'] > puissance_supp).count()\n",
    "print(f'Puissance supérieure à {puissance_supp}: {result}')"
   ]
  },
  {
   "cell_type": "code",
   "execution_count": 11,
   "id": "19312abf-fadd-4cdd-890b-a3ce71df902c",
   "metadata": {},
   "outputs": [
    {
     "name": "stdout",
     "output_type": "stream",
     "text": [
      "Nombre d'enregistrements qui n'inclus pas le domaine de valeur 'longeur' : 0\n"
     ]
    }
   ],
   "source": [
    "list_longueur_value = [\n",
    "    'courte',\n",
    "    'moyenne',\n",
    "    'longue',\n",
    "    'tres longue'\n",
    "]\n",
    "\n",
    "result = df_catalogue_officiel.filter(~df_catalogue_officiel['longueur'].isin(list_longueur_value)).count()\n",
    "print(f\"Nombre d'enregistrements qui n'inclus pas le domaine de valeurs 'longeur' : {result}\")"
   ]
  },
  {
   "cell_type": "code",
   "execution_count": 12,
   "id": "c8509999-1774-4439-be46-bbd702d650b1",
   "metadata": {},
   "outputs": [
    {
     "name": "stdout",
     "output_type": "stream",
     "text": [
      "Nombre de places inférieure à 5: 0\n",
      "Nombre de places supérieure à 7: 0\n"
     ]
    }
   ],
   "source": [
    "place_inf = 5\n",
    "place_supp = 7\n",
    "\n",
    "result = df_catalogue_officiel.filter(df_catalogue_officiel['nbplaces'] < place_inf).count()\n",
    "print(f'Nombre de places inférieure à {place_inf}: {result}')\n",
    "\n",
    "result = df_catalogue_officiel.filter(df_catalogue_officiel['nbplaces'] > place_supp).count()\n",
    "print(f'Nombre de places supérieure à {place_supp}: {result}')"
   ]
  },
  {
   "cell_type": "code",
   "execution_count": 13,
   "id": "d744ef88-e4c9-45e5-9adb-f4dc3b7af753",
   "metadata": {},
   "outputs": [
    {
     "name": "stdout",
     "output_type": "stream",
     "text": [
      "Nombre de portes inférieure à 3: 0\n",
      "Nombre de portes supérieure à 5: 0\n"
     ]
    }
   ],
   "source": [
    "porte_inf = 3\n",
    "porte_supp = 5\n",
    "\n",
    "result = df_catalogue_officiel.filter(df_catalogue_officiel['nbportes'] < porte_inf).count()\n",
    "print(f'Nombre de portes inférieure à {porte_inf}: {result}')\n",
    "\n",
    "result = df_catalogue_officiel.filter(df_catalogue_officiel['nbportes'] > porte_supp).count()\n",
    "print(f'Nombre de portes supérieure à {porte_supp}: {result}')"
   ]
  },
  {
   "cell_type": "code",
   "execution_count": 14,
   "id": "6d1f10d9-ccf9-4b2a-a95e-79d2e8c40fba",
   "metadata": {},
   "outputs": [
    {
     "name": "stdout",
     "output_type": "stream",
     "text": [
      "Couleurs qui ne sont pas inclus dans le domaine de valeur 'longeur' : 0\n"
     ]
    }
   ],
   "source": [
    "list_couleur_value = [\n",
    "    'blanc',\n",
    "    'bleu',\n",
    "    'gris',\n",
    "    'noir',\n",
    "    'rouge'\n",
    "]\n",
    "\n",
    "result = df_catalogue_officiel.filter(~df_catalogue_officiel['couleur'].isin(list_couleur_value)).count()\n",
    "print(f\"Couleurs qui ne sont pas inclus dans le domaine de valeurs 'longeur' : {result}\")"
   ]
  },
  {
   "cell_type": "code",
   "execution_count": null,
   "id": "4cebf68e-aeb1-4b6d-bb99-31b6299dab20",
   "metadata": {},
   "outputs": [],
   "source": []
  }
 ],
 "metadata": {
  "kernelspec": {
   "display_name": "Python 3 (ipykernel)",
   "language": "python",
   "name": "python3"
  },
  "language_info": {
   "codemirror_mode": {
    "name": "ipython",
    "version": 3
   },
   "file_extension": ".py",
   "mimetype": "text/x-python",
   "name": "python",
   "nbconvert_exporter": "python",
   "pygments_lexer": "ipython3",
   "version": "3.9.7"
  }
 },
 "nbformat": 4,
 "nbformat_minor": 5
}
