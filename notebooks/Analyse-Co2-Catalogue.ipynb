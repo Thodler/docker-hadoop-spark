﻿{
 "metadata": {
  "name": "Analyse-Co2-Catalogue",
  "kernelspec": {
   "language": "scala",
   "name": "spark2-scala"
  },
  "language_info": {
   "codemirror_mode": "text/x-scala",
   "file_extension": ".scala",
   "mimetype": "text/x-scala",
   "name": "scala",
   "pygments_lexer": "scala"
  }
 },
 "nbformat": 4,
 "nbformat_minor": 2,
 "cells": [
  {
   "cell_type": "code",
   "execution_count": 0,
   "metadata": {
    "autoscroll": "auto"
   },
   "outputs": [],
   "source": [
    "%pyspark\n",
    "\n",
    "from pyspark.sql import SparkSession\n",
    "from pyspark.sql import functions as F\n",
    "from pyspark.sql.functions import avg, when, trim, split, regexp_replace, round, lower, col\n",
    "\n",
    "spark = SparkSession.builder\\\n",
    "    .appName(\"AggregateCatalogueCo2\") \\\n",
    "    .enableHiveSupport()\\\n",
    "    .getOrCreate()"
   ]
  },
  {
   "cell_type": "code",
   "execution_count": 1,
   "metadata": {
    "autoscroll": "auto"
   },
   "outputs": [],
   "source": "%pyspark\nspark.sparkContext.setLogLevel(\"OFF\")\nspark.catalog.clearCache()\nspark.sql(\"USE concessionnaire\")\n\ndf_catalogue = spark.sql(\"SELECT * FROM catalogue_ext\")\ndf_co2 = spark.sql(\"SELECT * FROM crit_air_ext\")"
  },
  {
   "cell_type": "code",
   "execution_count": 2,
   "metadata": {
    "autoscroll": "auto"
   },
   "outputs": [],
   "source": "%pyspark\ndf_catalogue = spark.sql(\"SELECT * FROM catalogue_ext\")\ndf_co2 = spark.sql(\"SELECT * FROM crit_air_ext\")"
  },
  {
   "cell_type": "code",
   "execution_count": 3,
   "metadata": {
    "autoscroll": "auto"
   },
   "outputs": [],
   "source": "%pyspark\ndf_catalogue = df_catalogue.filter(df_catalogue['marque'] != 'marque')\ndf_catalogue = df_catalogue.withColumnRenamed(\"nom\", \"modele\")\n\ndf_catalogue = df_catalogue.withColumn(\"marque\", lower(trim(col(\"marque\")))) \\\n                            .withColumn(\"modele\", lower(trim(col(\"modele\"))))\n\ndf_co2 = df_co2.withColumn(\"marque_modele\", lower(trim(col(\"marque_modele\"))))"
  },
  {
   "cell_type": "code",
   "execution_count": 4,
   "metadata": {
    "autoscroll": "auto"
   },
   "outputs": [],
   "source": "%pyspark\ndf_catalogue.show()\n"
  },
  {
   "cell_type": "code",
   "execution_count": 5,
   "metadata": {
    "autoscroll": "auto"
   },
   "outputs": [],
   "source": "%pyspark\ndf_co2 = df_co2.withColumn(\"marque\", split(df_co2[\"marque_modele\"], \" \", 2).getItem(0))\ndf_co2 = df_co2.withColumn(\"modele\", split(df_co2[\"marque_modele\"], \" \", 2).getItem(1))\ndf_co2 = df_co2.drop('marque_modele')\n"
  },
  {
   "cell_type": "code",
   "execution_count": 6,
   "metadata": {
    "autoscroll": "auto"
   },
   "outputs": [],
   "source": "%pyspark\ndf_co2.show()"
  },
  {
   "cell_type": "code",
   "execution_count": 7,
   "metadata": {
    "autoscroll": "auto"
   },
   "outputs": [],
   "source": "%pyspark\n\n# Faire la jointure en ajoutant une colonne indicatrice de correspondance\n#df_joined_check = df_catalogue.join(df_co2, on=[\"marque\"], how=\"left\")\n\n#df_joined_check.count()\n\n"
  },
  {
   "cell_type": "code",
   "execution_count": 8,
   "metadata": {
    "autoscroll": "auto"
   },
   "outputs": [],
   "source": "%pyspark\ncatParMarque = df_catalogue.groupBy(\"marque\").count()\nco2ParMarque= df_co2.groupBy(\"marque\").count()\ncatParMarque.show()\ncatParMarque.count()\nco2ParMarque.show()\nco2ParMarque.count()"
  },
  {
   "cell_type": "code",
   "execution_count": 9,
   "metadata": {
    "autoscroll": "auto"
   },
   "outputs": [],
   "source": "%pyspark\n\ndf_comparatif= catParMarque.join(co2ParMarque, on=[\"marque\"])\n\ndf_comparatif.show()\ndf_comparatif.count()"
  },
  {
   "cell_type": "code",
   "execution_count": 10,
   "metadata": {
    "autoscroll": "auto"
   },
   "outputs": [],
   "source": "%pyspark\nspark.stop()"
  },
  {
   "cell_type": "raw",
   "metadata": {
    "format": "text/plain"
   },
   "source": "%pyspark\n"
  }
 ]
}
