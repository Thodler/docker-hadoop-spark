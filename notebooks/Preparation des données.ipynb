{
 "cells": [
  {
   "cell_type": "code",
   "execution_count": 1,
   "id": "initial_id",
   "metadata": {},
   "outputs": [],
   "source": [
    "from pyspark.sql import SparkSession\n",
    "from pyspark.sql.functions import col, when, sum, count, avg, round, udf, corr\n",
    "from pyspark.ml.feature import StringIndexer, OneHotEncoder, VectorAssembler, IndexToString, StandardScaler\n",
    "from pyspark.ml.classification import RandomForestClassifier, DecisionTreeClassifier, GBTClassifier\n",
    "from pyspark.ml.evaluation import MulticlassClassificationEvaluator\n",
    "from pyspark.ml.tuning import CrossValidator, ParamGridBuilder\n",
    "from pyspark.sql.types import DoubleType\n"
   ]
  },
  {
   "cell_type": "code",
   "execution_count": 2,
   "id": "ab0bc1ae-9658-433b-8e95-570503bfe684",
   "metadata": {},
   "outputs": [
    {
     "name": "stderr",
     "output_type": "stream",
     "text": [
      "WARNING: An illegal reflective access operation has occurred\n",
      "WARNING: Illegal reflective access by org.apache.spark.unsafe.Platform (file:/usr/local/spark-3.2.0-bin-hadoop3.2/jars/spark-unsafe_2.12-3.2.0.jar) to constructor java.nio.DirectByteBuffer(long,int)\n",
      "WARNING: Please consider reporting this to the maintainers of org.apache.spark.unsafe.Platform\n",
      "WARNING: Use --illegal-access=warn to enable warnings of further illegal reflective access operations\n",
      "WARNING: All illegal access operations will be denied in a future release\n",
      "Using Spark's default log4j profile: org/apache/spark/log4j-defaults.properties\n",
      "Setting default log level to \"WARN\".\n",
      "To adjust logging level use sc.setLogLevel(newLevel). For SparkR, use setLogLevel(newLevel).\n",
      "24/11/18 08:01:35 WARN NativeCodeLoader: Unable to load native-hadoop library for your platform... using builtin-java classes where applicable\n"
     ]
    },
    {
     "data": {
      "text/plain": [
       "DataFrame[]"
      ]
     },
     "execution_count": 2,
     "metadata": {},
     "output_type": "execute_result"
    }
   ],
   "source": [
    "spark = SparkSession.builder\\\n",
    "    .appName(\"Préparation de données\")\\\n",
    "    .enableHiveSupport()\\\n",
    "    .getOrCreate()\n",
    "\n",
    "spark.sparkContext.setLogLevel(\"OFF\")\n",
    "spark.catalog.clearCache()\n",
    "spark.sql(\"USE concessionnaire\")"
   ]
  },
  {
   "cell_type": "code",
   "execution_count": 3,
   "id": "60f4b1ed-bdc8-4e9c-8f95-40586dd17b84",
   "metadata": {},
   "outputs": [
    {
     "ename": "AnalysisException",
     "evalue": "Table or view not found: clients_immatriculations; line 1 pos 14;\n'Project [*]\n+- 'UnresolvedRelation [clients_immatriculations], [], false\n",
     "output_type": "error",
     "traceback": [
      "\u001b[0;31m---------------------------------------------------------------------------\u001b[0m",
      "\u001b[0;31mAnalysisException\u001b[0m                         Traceback (most recent call last)",
      "\u001b[0;32m/tmp/ipykernel_403/2814096224.py\u001b[0m in \u001b[0;36m<module>\u001b[0;34m\u001b[0m\n\u001b[0;32m----> 1\u001b[0;31m \u001b[0mclients_immatriculations\u001b[0m \u001b[0;34m=\u001b[0m \u001b[0mspark\u001b[0m\u001b[0;34m.\u001b[0m\u001b[0msql\u001b[0m\u001b[0;34m(\u001b[0m\u001b[0;34m\"SELECT * FROM clients_immatriculations\"\u001b[0m\u001b[0;34m)\u001b[0m\u001b[0;34m\u001b[0m\u001b[0;34m\u001b[0m\u001b[0m\n\u001b[0m\u001b[1;32m      2\u001b[0m \u001b[0mclients_immatriculations\u001b[0m\u001b[0;34m.\u001b[0m\u001b[0mprintSchema\u001b[0m\u001b[0;34m(\u001b[0m\u001b[0;34m)\u001b[0m\u001b[0;34m\u001b[0m\u001b[0;34m\u001b[0m\u001b[0m\n",
      "\u001b[0;32m/usr/local/spark/python/pyspark/sql/session.py\u001b[0m in \u001b[0;36msql\u001b[0;34m(self, sqlQuery)\u001b[0m\n\u001b[1;32m    721\u001b[0m         \u001b[0;34m[\u001b[0m\u001b[0mRow\u001b[0m\u001b[0;34m(\u001b[0m\u001b[0mf1\u001b[0m\u001b[0;34m=\u001b[0m\u001b[0;36m1\u001b[0m\u001b[0;34m,\u001b[0m \u001b[0mf2\u001b[0m\u001b[0;34m=\u001b[0m\u001b[0;34m'row1'\u001b[0m\u001b[0;34m)\u001b[0m\u001b[0;34m,\u001b[0m \u001b[0mRow\u001b[0m\u001b[0;34m(\u001b[0m\u001b[0mf1\u001b[0m\u001b[0;34m=\u001b[0m\u001b[0;36m2\u001b[0m\u001b[0;34m,\u001b[0m \u001b[0mf2\u001b[0m\u001b[0;34m=\u001b[0m\u001b[0;34m'row2'\u001b[0m\u001b[0;34m)\u001b[0m\u001b[0;34m,\u001b[0m \u001b[0mRow\u001b[0m\u001b[0;34m(\u001b[0m\u001b[0mf1\u001b[0m\u001b[0;34m=\u001b[0m\u001b[0;36m3\u001b[0m\u001b[0;34m,\u001b[0m \u001b[0mf2\u001b[0m\u001b[0;34m=\u001b[0m\u001b[0;34m'row3'\u001b[0m\u001b[0;34m)\u001b[0m\u001b[0;34m]\u001b[0m\u001b[0;34m\u001b[0m\u001b[0;34m\u001b[0m\u001b[0m\n\u001b[1;32m    722\u001b[0m         \"\"\"\n\u001b[0;32m--> 723\u001b[0;31m         \u001b[0;32mreturn\u001b[0m \u001b[0mDataFrame\u001b[0m\u001b[0;34m(\u001b[0m\u001b[0mself\u001b[0m\u001b[0;34m.\u001b[0m\u001b[0m_jsparkSession\u001b[0m\u001b[0;34m.\u001b[0m\u001b[0msql\u001b[0m\u001b[0;34m(\u001b[0m\u001b[0msqlQuery\u001b[0m\u001b[0;34m)\u001b[0m\u001b[0;34m,\u001b[0m \u001b[0mself\u001b[0m\u001b[0;34m.\u001b[0m\u001b[0m_wrapped\u001b[0m\u001b[0;34m)\u001b[0m\u001b[0;34m\u001b[0m\u001b[0;34m\u001b[0m\u001b[0m\n\u001b[0m\u001b[1;32m    724\u001b[0m \u001b[0;34m\u001b[0m\u001b[0m\n\u001b[1;32m    725\u001b[0m     \u001b[0;32mdef\u001b[0m \u001b[0mtable\u001b[0m\u001b[0;34m(\u001b[0m\u001b[0mself\u001b[0m\u001b[0;34m,\u001b[0m \u001b[0mtableName\u001b[0m\u001b[0;34m)\u001b[0m\u001b[0;34m:\u001b[0m\u001b[0;34m\u001b[0m\u001b[0;34m\u001b[0m\u001b[0m\n",
      "\u001b[0;32m/usr/local/spark/python/lib/py4j-0.10.9.2-src.zip/py4j/java_gateway.py\u001b[0m in \u001b[0;36m__call__\u001b[0;34m(self, *args)\u001b[0m\n\u001b[1;32m   1307\u001b[0m \u001b[0;34m\u001b[0m\u001b[0m\n\u001b[1;32m   1308\u001b[0m         \u001b[0manswer\u001b[0m \u001b[0;34m=\u001b[0m \u001b[0mself\u001b[0m\u001b[0;34m.\u001b[0m\u001b[0mgateway_client\u001b[0m\u001b[0;34m.\u001b[0m\u001b[0msend_command\u001b[0m\u001b[0;34m(\u001b[0m\u001b[0mcommand\u001b[0m\u001b[0;34m)\u001b[0m\u001b[0;34m\u001b[0m\u001b[0;34m\u001b[0m\u001b[0m\n\u001b[0;32m-> 1309\u001b[0;31m         return_value = get_return_value(\n\u001b[0m\u001b[1;32m   1310\u001b[0m             answer, self.gateway_client, self.target_id, self.name)\n\u001b[1;32m   1311\u001b[0m \u001b[0;34m\u001b[0m\u001b[0m\n",
      "\u001b[0;32m/usr/local/spark/python/pyspark/sql/utils.py\u001b[0m in \u001b[0;36mdeco\u001b[0;34m(*a, **kw)\u001b[0m\n\u001b[1;32m    115\u001b[0m                 \u001b[0;31m# Hide where the exception came from that shows a non-Pythonic\u001b[0m\u001b[0;34m\u001b[0m\u001b[0;34m\u001b[0m\u001b[0m\n\u001b[1;32m    116\u001b[0m                 \u001b[0;31m# JVM exception message.\u001b[0m\u001b[0;34m\u001b[0m\u001b[0;34m\u001b[0m\u001b[0m\n\u001b[0;32m--> 117\u001b[0;31m                 \u001b[0;32mraise\u001b[0m \u001b[0mconverted\u001b[0m \u001b[0;32mfrom\u001b[0m \u001b[0;32mNone\u001b[0m\u001b[0;34m\u001b[0m\u001b[0;34m\u001b[0m\u001b[0m\n\u001b[0m\u001b[1;32m    118\u001b[0m             \u001b[0;32melse\u001b[0m\u001b[0;34m:\u001b[0m\u001b[0;34m\u001b[0m\u001b[0;34m\u001b[0m\u001b[0m\n\u001b[1;32m    119\u001b[0m                 \u001b[0;32mraise\u001b[0m\u001b[0;34m\u001b[0m\u001b[0;34m\u001b[0m\u001b[0m\n",
      "\u001b[0;31mAnalysisException\u001b[0m: Table or view not found: clients_immatriculations; line 1 pos 14;\n'Project [*]\n+- 'UnresolvedRelation [clients_immatriculations], [], false\n"
     ]
    }
   ],
   "source": [
    "clients_immatriculations = spark.sql(\"SELECT * FROM clients_immatriculations\")\n",
    "clients_immatriculations.printSchema()"
   ]
  },
  {
   "cell_type": "markdown",
   "id": "9407675b-70b3-4f9c-9697-5692f69d1408",
   "metadata": {},
   "source": [
    "### Verification des doublons"
   ]
  },
  {
   "cell_type": "code",
   "execution_count": null,
   "id": "8c56f420-ef98-4a2c-acce-87665cc20510",
   "metadata": {},
   "outputs": [],
   "source": [
    "doublons = clients_immatriculations.groupBy(*clients_immatriculations.columns).agg(count(\"*\").alias(\"count\")).filter(\"count > 1\")\n",
    "doublons.show(truncate=False)"
   ]
  },
  {
   "cell_type": "markdown",
   "id": "38ba59e5-8312-46f6-ad8c-7dcaeaaff557",
   "metadata": {},
   "source": [
    "### Analyse des **null**"
   ]
  },
  {
   "cell_type": "code",
   "execution_count": null,
   "id": "3e63acba-9679-4d7f-8b39-77945e1d9951",
   "metadata": {},
   "outputs": [],
   "source": [
    "from pyspark.sql.functions import col, when, sum\n",
    "\n",
    "null_counts = clients_immatriculations.select(\n",
    "    *[sum(when(col(c).isNull(), 1).otherwise(0)).alias(c) for c in clients_immatriculations.columns]\n",
    ")\n",
    "\n",
    "null_counts_dict = null_counts.collect()[0].asDict()\n",
    "\n",
    "columns_with_nulls = [(col_name, count) for col_name, count in null_counts_dict.items() if count > 0]\n",
    "\n",
    "nulls_df = spark.createDataFrame(columns_with_nulls, [\"Column\", \"Null Count\"])\n",
    "\n",
    "nulls_df.show()"
   ]
  },
  {
   "cell_type": "code",
   "execution_count": null,
   "id": "809655c8-7007-4e44-9b52-f4be951e3aa5",
   "metadata": {},
   "outputs": [],
   "source": [
    "clients_immatriculations = clients_immatriculations.fillna(0)"
   ]
  },
  {
   "cell_type": "markdown",
   "id": "4b2dbdd6-31ac-4a42-a66e-3cc563d97178",
   "metadata": {},
   "source": [
    "### Supprimer les colones innutiles"
   ]
  },
  {
   "cell_type": "code",
   "execution_count": null,
   "id": "2c1b5453-dd53-4be0-be94-d9cca673f60c",
   "metadata": {},
   "outputs": [],
   "source": [
    "clients_immatriculations = clients_immatriculations.drop('immatriculation')"
   ]
  },
  {
   "cell_type": "markdown",
   "id": "3c8b60cd-5374-46a8-9c79-d076d6116249",
   "metadata": {},
   "source": [
    "### OneHotEncoder"
   ]
  },
  {
   "cell_type": "code",
   "execution_count": null,
   "id": "d2511917-dd2e-4baf-98a0-1274f9cb99af",
   "metadata": {},
   "outputs": [],
   "source": [
    "indexer_marque = StringIndexer(inputCol=\"marque\", outputCol=\"marque_index\")\n",
    "indexer_marque = indexer_marque.fit(clients_immatriculations)\n",
    "clients_immatriculations = indexer_marque.transform(clients_immatriculations)\n",
    "\n",
    "encoder_marque = OneHotEncoder(inputCol=\"marque_index\", outputCol=\"marque_encoded\")\n",
    "clients_immatriculations = encoder_marque.fit(clients_immatriculations).transform(clients_immatriculations)"
   ]
  },
  {
   "cell_type": "code",
   "execution_count": null,
   "id": "d3ddd877-5a4d-46f1-b09d-8817ae8c105f",
   "metadata": {},
   "outputs": [],
   "source": [
    "indexer_sexe = StringIndexer(inputCol=\"sexe\", outputCol=\"sexe_index\")\n",
    "indexer_sexe = indexer_sexe.fit(clients_immatriculations)\n",
    "clients_immatriculations = indexer_sexe.transform(clients_immatriculations)\n",
    "\n",
    "encoder_sexe = OneHotEncoder(inputCol=\"sexe_index\", outputCol=\"sexe_encoded\")\n",
    "clients_immatriculations = encoder_sexe.fit(clients_immatriculations).transform(clients_immatriculations)"
   ]
  },
  {
   "cell_type": "code",
   "execution_count": null,
   "id": "463b999c-e54e-4270-a7b4-3175b74df5fe",
   "metadata": {},
   "outputs": [],
   "source": [
    "indexer_couleur = StringIndexer(inputCol=\"couleur\", outputCol=\"couleur_index\")\n",
    "indexer_couleur = indexer_couleur.fit(clients_immatriculations)\n",
    "clients_immatriculations = indexer_couleur.transform(clients_immatriculations)\n",
    "\n",
    "encoder_couleur = OneHotEncoder(inputCol=\"couleur_index\", outputCol=\"couleur_encoded\")\n",
    "clients_immatriculations = encoder_couleur.fit(clients_immatriculations).transform(clients_immatriculations)"
   ]
  },
  {
   "cell_type": "code",
   "execution_count": null,
   "id": "b09d7ca6-0af0-4d2c-9dc3-bc6bb6797749",
   "metadata": {},
   "outputs": [],
   "source": [
    "indexer_situationfamiliale = StringIndexer(inputCol=\"situationfamiliale\", outputCol=\"situationfamiliale_index\")\n",
    "indexer_situationfamiliale = indexer_situationfamiliale.fit(clients_immatriculations)\n",
    "clients_immatriculations = indexer_situationfamiliale.transform(clients_immatriculations)\n",
    "\n",
    "encoder_situationfamiliale = OneHotEncoder(inputCol=\"situationfamiliale_index\", outputCol=\"situationfamiliale_encoded\")\n",
    "clients_immatriculations = encoder_situationfamiliale.fit(clients_immatriculations).transform(clients_immatriculations)"
   ]
  },
  {
   "cell_type": "code",
   "execution_count": null,
   "id": "2b2f949a-769a-4f30-b54e-e7c83769d91e",
   "metadata": {},
   "outputs": [],
   "source": [
    "clients_immatriculations = clients_immatriculations.drop('marque') \n",
    "clients_immatriculations = clients_immatriculations.drop('marque_index')\n",
    "clients_immatriculations = clients_immatriculations.drop('sexe') \n",
    "clients_immatriculations = clients_immatriculations.drop('sexe_index')\n",
    "clients_immatriculations = clients_immatriculations.drop('couleur') \n",
    "clients_immatriculations = clients_immatriculations.drop('couleur_index')\n",
    "clients_immatriculations = clients_immatriculations.drop('situationfamiliale') \n",
    "clients_immatriculations = clients_immatriculations.drop('situationfamiliale_index')\n",
    "\n",
    "clients_immatriculations = clients_immatriculations.withColumnRenamed('marque_encoded', 'marque')\n",
    "clients_immatriculations = clients_immatriculations.withColumnRenamed('sexe_encoded', 'sexe')\n",
    "clients_immatriculations = clients_immatriculations.withColumnRenamed('couleur_encoded', 'couleur')\n",
    "clients_immatriculations = clients_immatriculations.withColumnRenamed('situationfamiliale_encoded', 'situationfamiliale')"
   ]
  },
  {
   "cell_type": "code",
   "execution_count": null,
   "id": "a8434675-10ec-408a-b307-afed399a8809",
   "metadata": {},
   "outputs": [],
   "source": [
    "clients_immatriculations.show()"
   ]
  },
  {
   "cell_type": "markdown",
   "id": "8b60109f-41b4-47be-8a43-5fd09cc9a4cc",
   "metadata": {},
   "source": [
    "## Changer des Boolean en Int"
   ]
  },
  {
   "cell_type": "code",
   "execution_count": null,
   "id": "ae7c2346-4801-4f04-8687-4c9840fc92f5",
   "metadata": {},
   "outputs": [],
   "source": [
    "clients_immatriculations = clients_immatriculations.withColumn(\n",
    "    \"deuxiemevoiture\",\n",
    "    when(col(\"deuxiemevoiture\") == False, 0)\n",
    "    .when(col(\"deuxiemevoiture\") == True, 1)\n",
    "    .otherwise(col(\"deuxiemevoiture\").cast(\"int\"))\n",
    ")\n",
    "\n",
    "clients_immatriculations = clients_immatriculations.withColumn(\n",
    "    \"taux_eligible\",\n",
    "    when(col(\"taux_eligible\") == False, 0)\n",
    "    .when(col(\"taux_eligible\") == True, 1)\n",
    "    .otherwise(col(\"taux_eligible\").cast(\"int\"))\n",
    ")\n",
    "\n",
    "clients_immatriculations = clients_immatriculations.withColumn(\n",
    "    \"occasion\",\n",
    "    when(col(\"occasion\") == False, 0)\n",
    "    .when(col(\"occasion\") == True, 1)\n",
    "    .otherwise(col(\"occasion\").cast(\"int\"))\n",
    ")\n",
    "\n",
    "clients_immatriculations.show(4)"
   ]
  },
  {
   "cell_type": "markdown",
   "id": "7e6da3bb-b8ec-479b-b5d1-8626a64731fd",
   "metadata": {},
   "source": [
    "### Analyse de **Modele**"
   ]
  },
  {
   "cell_type": "code",
   "execution_count": null,
   "id": "23fcbc78-c94f-42bc-a8a5-4737ead6ca80",
   "metadata": {},
   "outputs": [],
   "source": [
    "count_modele = clients_immatriculations.select(\"modele\").distinct().count()\n",
    "print(f\"Il y a {count_modele} modeles.\")"
   ]
  },
  {
   "cell_type": "markdown",
   "id": "07adbd44-5a6e-4d2a-9453-7fed2c76ddd9",
   "metadata": {},
   "source": [
    "On travail uniquement sur les catégories, les modèles spécifiques n'ajoutent pas de valeur.\n",
    "L'analyse est simplifier en se concentrant sur des regroupements plus larges."
   ]
  },
  {
   "cell_type": "code",
   "execution_count": null,
   "id": "f91c13bc-01ad-48f1-a4f4-82264235620f",
   "metadata": {},
   "outputs": [],
   "source": [
    "indexer = StringIndexer(inputCol=\"categorie\", outputCol=\"categorie_indexed\")\n",
    "indexer_model = indexer.fit(clients_immatriculations)\n",
    "clients_immatriculations = indexer_model.transform(clients_immatriculations)\n",
    "\n",
    "clients_immatriculations = clients_immatriculations.drop('modele') \n",
    "clients_immatriculations = clients_immatriculations.drop('categorie') \n",
    "\n",
    "clients_immatriculations = clients_immatriculations.withColumnRenamed('categorie_indexed', 'categorie')\n",
    "\n",
    "clients_immatriculations.show(n=10)"
   ]
  },
  {
   "cell_type": "markdown",
   "id": "93bc7289-eb6b-46ed-984f-965ac2c914f4",
   "metadata": {},
   "source": [
    "### Analyse de **longueur**"
   ]
  },
  {
   "cell_type": "code",
   "execution_count": null,
   "id": "23193ea7-3f01-4c2a-a3bc-e396783e59e9",
   "metadata": {},
   "outputs": [],
   "source": [
    "clients_immatriculations.select(\"longueur\").distinct().show()"
   ]
  },
  {
   "cell_type": "code",
   "execution_count": null,
   "id": "18e07efe-5500-4c10-bf38-57617cd2f7d4",
   "metadata": {},
   "outputs": [],
   "source": [
    "indexer_longueur = StringIndexer(inputCol=\"longueur\", outputCol=\"longueur_indexed\")\n",
    "indexer_model_longueur = indexer_longueur.fit(clients_immatriculations)\n",
    "clients_immatriculations = indexer_model_longueur.transform(clients_immatriculations)\n",
    "\n",
    "clients_immatriculations = clients_immatriculations.drop('longueur')\n",
    "clients_immatriculations = clients_immatriculations.withColumnRenamed('longueur_indexed', 'longueur')\n",
    "\n",
    "clients_immatriculations.show(n=4)"
   ]
  },
  {
   "cell_type": "markdown",
   "id": "cb6255f3-c5ba-40fe-80f6-e102ecca58ab",
   "metadata": {},
   "source": [
    "## Normalisation"
   ]
  },
  {
   "cell_type": "code",
   "execution_count": null,
   "id": "56277c64-b994-4af0-b78f-6f35824725ef",
   "metadata": {},
   "outputs": [],
   "source": [
    "clients_immatriculations.groupBy(\"categorie\").count().show()"
   ]
  },
  {
   "cell_type": "code",
   "execution_count": null,
   "id": "d32c8ff4-6042-4155-a441-88c7b7c99e82",
   "metadata": {},
   "outputs": [],
   "source": [
    "clients_immatriculations.printSchema()"
   ]
  },
  {
   "cell_type": "code",
   "execution_count": null,
   "id": "8d405563-eb6e-4f1b-9f96-5c832782bfab",
   "metadata": {},
   "outputs": [],
   "source": [
    "# Étape 1: Identifier les colonnes numériques\n",
    "numerical_cols = ['age', 'taux', 'nbenfantacharge', 'puissance', 'nbplaces', 'nbportes', 'prix', 'categorie', 'longueur']\n",
    "\n",
    "# Étape 2: Assembler les colonnes numériques\n",
    "numerical_assembler = VectorAssembler(\n",
    "    inputCols=numerical_cols,\n",
    "    outputCol=\"numerical_features\"\n",
    ")\n",
    "df_numeric = numerical_assembler.transform(clients_immatriculations)\n",
    "\n",
    "# Étape 3: Normaliser les données numériques\n",
    "scaler = StandardScaler(\n",
    "    inputCol=\"numerical_features\",\n",
    "    outputCol=\"scaled_numerical_features\",\n",
    "    withMean=True,\n",
    "    withStd=True\n",
    ")\n",
    "scaler_model = scaler.fit(df_numeric)\n",
    "df_scaled = scaler_model.transform(df_numeric)\n",
    "\n",
    "# Étape 4: Assembler les caractéristiques normalisées avec les variables catégorielles\n",
    "categorical_vector_cols = ['marque', 'sexe', 'couleur', 'situationfamiliale']\n",
    "\n",
    "final_assembler = VectorAssembler(\n",
    "    inputCols=['scaled_numerical_features'] + categorical_vector_cols,\n",
    "    outputCol=\"features\"\n",
    ")\n",
    "df_final = final_assembler.transform(df_scaled)\n",
    "\n",
    "# Afficher le résultat\n",
    "df_final.select(\"features\").show(truncate=False)"
   ]
  },
  {
   "cell_type": "markdown",
   "id": "85b53327-4841-467d-95f9-ace9e02d2258",
   "metadata": {
    "tags": []
   },
   "source": [
    "## Classificateur"
   ]
  },
  {
   "cell_type": "markdown",
   "id": "b538e223-1563-487e-9461-15140c74d504",
   "metadata": {},
   "source": [
    "Entrainement du modele"
   ]
  },
  {
   "cell_type": "code",
   "execution_count": null,
   "id": "eb86638e-fe02-4b76-8f11-1a0624bb05bb",
   "metadata": {},
   "outputs": [],
   "source": [
    "(trainingData, testData) = df_final.randomSplit([0.8, 0.2], seed=42)\n",
    "\n",
    "gbt = GBTClassifier(labelCol=\"categorie\", featuresCol=\"features\", maxIter=10)\n",
    "model = gbt.fit(trainingData)"
   ]
  },
  {
   "cell_type": "markdown",
   "id": "f1a6d942-cf7f-47eb-8bf2-5c29653ee1da",
   "metadata": {},
   "source": [
    "Évaluation initiale"
   ]
  },
  {
   "cell_type": "code",
   "execution_count": null,
   "id": "d1957d89-8934-4781-a00a-838b603da6f1",
   "metadata": {},
   "outputs": [],
   "source": [
    "predictions = model.transform(testData)\n",
    "\n",
    "predictions.show()\n",
    "\n",
    "evaluator = MulticlassClassificationEvaluator(\n",
    "    labelCol=\"categorie\", predictionCol=\"prediction\", metricName=\"accuracy\"\n",
    ")\n",
    "\n",
    "accuracy = evaluator.evaluate(predictions)\n",
    "print(f\"Précision du modèle sur l'ensemble de test = {accuracy * 100:.2f}%\")"
   ]
  },
  {
   "cell_type": "markdown",
   "id": "7039a095-444a-4a04-b318-baa0bcf6a204",
   "metadata": {},
   "source": [
    "F1-Score"
   ]
  },
  {
   "cell_type": "code",
   "execution_count": null,
   "id": "f824766c-e114-41b5-8baf-6e7a35177f16",
   "metadata": {},
   "outputs": [],
   "source": [
    "f1_evaluator = MulticlassClassificationEvaluator(\n",
    "    labelCol=\"categorie\", predictionCol=\"prediction\", metricName=\"f1\"\n",
    ")\n",
    "f1_score = f1_evaluator.evaluate(predictions)\n",
    "print(f\"F1-score global : {f1_score * 100:.2f}%\")"
   ]
  },
  {
   "cell_type": "markdown",
   "id": "7d9abb50-6b8b-4631-bde5-12f39188c38d",
   "metadata": {},
   "source": [
    "Matrice de confusion"
   ]
  },
  {
   "cell_type": "code",
   "execution_count": null,
   "id": "f1d0082f-ca77-403a-b4c9-4bc9bf6e9574",
   "metadata": {},
   "outputs": [],
   "source": [
    "labelConverter = IndexToString(inputCol=\"prediction\", outputCol=\"predictedCategorie\", labels=indexer_model.labels)\n",
    "predictions = labelConverter.transform(predictions)\n",
    "\n",
    "# Regroupement\n",
    "predictions.groupBy(\"categorie\", \"predictedCategorie\").count().show()"
   ]
  },
  {
   "cell_type": "markdown",
   "id": "2d246069-4caa-41e4-b4b8-805fe3a61930",
   "metadata": {},
   "source": [
    "Validation croisée"
   ]
  },
  {
   "cell_type": "code",
   "execution_count": null,
   "id": "63e855ba-5260-4401-a25a-786d635748cd",
   "metadata": {},
   "outputs": [],
   "source": [
    "# paramGrid = (ParamGridBuilder()\n",
    "#     .addGrid(rf.numTrees, [10, 20])\n",
    "#     .addGrid(rf.maxDepth, [5, 10])\n",
    "#     .build())\n",
    "\n",
    "# crossval = CrossValidator(\n",
    "#     estimator=rf,\n",
    "#     estimatorParamMaps=paramGrid,\n",
    "#     evaluator=evaluator,\n",
    "#     numFolds=3\n",
    "# )\n",
    "\n",
    "# cvModel = crossval.fit(trainingData)\n",
    "# cv_accuracy = evaluator.evaluate(cvModel.transform(testData))\n",
    "# print(f\"Précision moyenne après validation croisée : {cv_accuracy * 100:.2f}%\")"
   ]
  },
  {
   "cell_type": "markdown",
   "id": "23b5c760-0c40-4e45-8d5e-eb769874250e",
   "metadata": {},
   "source": [
    "Vérification des corrélations entre caractéristiques et catégorie"
   ]
  },
  {
   "cell_type": "code",
   "execution_count": null,
   "id": "a3ca6e00-1a2c-43f5-9a2e-131270703e53",
   "metadata": {},
   "outputs": [],
   "source": [
    "numerical_cols = ['age', 'taux', 'nbenfantacharge', 'puissance', 'nbplaces', 'nbportes', 'prix', 'categorie', 'longueur']\n",
    "print(\"Corrélations entre les colonnes numériques et la catégorie :\")\n",
    "for col_name in numerical_cols:\n",
    "    correlation = clients_immatriculations.select(corr(col_name, \"categorie\")).first()[0]\n",
    "    print(f\"{col_name}: {correlation}\")"
   ]
  },
  {
   "cell_type": "code",
   "execution_count": null,
   "id": "0fcdede2-3a67-4905-8c38-0597b7ae3c8f",
   "metadata": {},
   "outputs": [],
   "source": [
    "# Afficher les importances des caractéristiques\n",
    "importances = model.featureImportances\n",
    "print(\"Importances des caractéristiques :\")\n",
    "for i, col in enumerate(['scaled_numerical_features', 'marque', 'sexe', 'couleur', 'situationfamiliale']):\n",
    "    print(f\"{col}: {importances[i]:.4f}\")"
   ]
  },
  {
   "cell_type": "code",
   "execution_count": null,
   "id": "6001abba-bb71-4957-9dc2-f9cf1a60b64e",
   "metadata": {},
   "outputs": [],
   "source": [
    "clients_immatriculations.groupBy('categorie').count().show()\n",
    "\n",
    "# Taille du jeu de données total\n",
    "print(f\"Taille du jeu de données : {df_final.count()}\")\n",
    "\n",
    "# Taille des ensembles d'entraînement et de test\n",
    "print(f\"Taille de l'ensemble d'entraînement : {trainingData.count()}\")\n",
    "print(f\"Taille de l'ensemble de test : {testData.count()}\")"
   ]
  }
 ],
 "metadata": {
  "kernelspec": {
   "display_name": "Python 3 (ipykernel)",
   "language": "python",
   "name": "python3"
  },
  "language_info": {
   "codemirror_mode": {
    "name": "ipython",
    "version": 3
   },
   "file_extension": ".py",
   "mimetype": "text/x-python",
   "name": "python",
   "nbconvert_exporter": "python",
   "pygments_lexer": "ipython3",
   "version": "3.9.7"
  }
 },
 "nbformat": 4,
 "nbformat_minor": 5
}
