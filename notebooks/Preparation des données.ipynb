{
 "cells": [
  {
   "cell_type": "code",
   "execution_count": 1,
   "id": "initial_id",
   "metadata": {},
   "outputs": [],
   "source": [
    "from pyspark.sql import SparkSession\n"
   ]
  },
  {
   "cell_type": "code",
   "execution_count": 2,
   "id": "ab0bc1ae-9658-433b-8e95-570503bfe684",
   "metadata": {},
   "outputs": [
    {
     "name": "stderr",
     "output_type": "stream",
     "text": [
      "WARNING: An illegal reflective access operation has occurred\n",
      "WARNING: Illegal reflective access by org.apache.spark.unsafe.Platform (file:/usr/local/spark-3.2.0-bin-hadoop3.2/jars/spark-unsafe_2.12-3.2.0.jar) to constructor java.nio.DirectByteBuffer(long,int)\n",
      "WARNING: Please consider reporting this to the maintainers of org.apache.spark.unsafe.Platform\n",
      "WARNING: Use --illegal-access=warn to enable warnings of further illegal reflective access operations\n",
      "WARNING: All illegal access operations will be denied in a future release\n",
      "Using Spark's default log4j profile: org/apache/spark/log4j-defaults.properties\n",
      "Setting default log level to \"WARN\".\n",
      "To adjust logging level use sc.setLogLevel(newLevel). For SparkR, use setLogLevel(newLevel).\n",
      "24/11/15 09:22:37 WARN NativeCodeLoader: Unable to load native-hadoop library for your platform... using builtin-java classes where applicable\n"
     ]
    },
    {
     "data": {
      "text/plain": [
       "DataFrame[]"
      ]
     },
     "execution_count": 2,
     "metadata": {},
     "output_type": "execute_result"
    }
   ],
   "source": [
    "spark = SparkSession.builder\\\n",
    "    .appName(\"Préparation de données\")\\\n",
    "    .enableHiveSupport()\\\n",
    "    .getOrCreate()\n",
    "\n",
    "spark.sparkContext.setLogLevel(\"OFF\")\n",
    "spark.catalog.clearCache()\n",
    "spark.sql(\"USE concessionnaire\")"
   ]
  },
  {
   "cell_type": "code",
   "execution_count": 4,
   "id": "60f4b1ed-bdc8-4e9c-8f95-40586dd17b84",
   "metadata": {},
   "outputs": [
    {
     "name": "stderr",
     "output_type": "stream",
     "text": [
      "[Stage 0:>                                                          (0 + 1) / 1]\r"
     ]
    },
    {
     "name": "stdout",
     "output_type": "stream",
     "text": [
      "+------+-------------+---------+-----------+--------+--------+-------+--------+-------+-----------+----------+------------+\n",
      "|marque|       modele|puissance|   longueur|nbplaces|nbportes|couleur|occasion|   prix|bonus_malus|rejets_co2|cout_energie|\n",
      "+------+-------------+---------+-----------+--------+--------+-------+--------+-------+-----------+----------+------------+\n",
      "|nissan|maxima 3.0 v6|      200|tres longue|       5|       5|  rouge|   false|30000.0|     8753.0|     200.0|       810.0|\n",
      "|nissan|maxima 3.0 v6|      200|tres longue|       5|       5|  rouge|   false|30000.0|     8753.0|     200.0|       810.0|\n",
      "|nissan|maxima 3.0 v6|      200|tres longue|       5|       5|  rouge|   false|30000.0|     8753.0|     200.0|       810.0|\n",
      "|nissan|maxima 3.0 v6|      200|tres longue|       5|       5|  rouge|   false|30000.0|     8753.0|     200.0|       810.0|\n",
      "|nissan|maxima 3.0 v6|      200|tres longue|       5|       5|  rouge|   false|30000.0|     8753.0|     200.0|       810.0|\n",
      "|nissan|maxima 3.0 v6|      200|tres longue|       5|       5|  rouge|   false|30000.0|     8753.0|     200.0|       810.0|\n",
      "|nissan|maxima 3.0 v6|      200|tres longue|       5|       5|  rouge|   false|30000.0|     8753.0|     200.0|       810.0|\n",
      "|nissan|maxima 3.0 v6|      200|tres longue|       5|       5|  rouge|   false|30000.0|     8753.0|     200.0|       810.0|\n",
      "|nissan|maxima 3.0 v6|      200|tres longue|       5|       5|  rouge|   false|30000.0|    -6000.0|       0.0|       177.0|\n",
      "|nissan|maxima 3.0 v6|      200|tres longue|       5|       5|  blanc|   false|30000.0|     8753.0|     200.0|       810.0|\n",
      "|nissan|maxima 3.0 v6|      200|tres longue|       5|       5|  blanc|   false|30000.0|     8753.0|     200.0|       810.0|\n",
      "|nissan|maxima 3.0 v6|      200|tres longue|       5|       5|  blanc|   false|30000.0|     8753.0|     200.0|       810.0|\n",
      "|nissan|maxima 3.0 v6|      200|tres longue|       5|       5|  blanc|   false|30000.0|     8753.0|     200.0|       810.0|\n",
      "|nissan|maxima 3.0 v6|      200|tres longue|       5|       5|  blanc|   false|30000.0|     8753.0|     200.0|       810.0|\n",
      "|nissan|maxima 3.0 v6|      200|tres longue|       5|       5|  blanc|   false|30000.0|     8753.0|     200.0|       810.0|\n",
      "|nissan|maxima 3.0 v6|      200|tres longue|       5|       5|  blanc|   false|30000.0|     8753.0|     200.0|       810.0|\n",
      "|nissan|maxima 3.0 v6|      200|tres longue|       5|       5|  blanc|   false|30000.0|     8753.0|     200.0|       810.0|\n",
      "|nissan|maxima 3.0 v6|      200|tres longue|       5|       5|  blanc|   false|30000.0|    -6000.0|       0.0|       177.0|\n",
      "|nissan|   almera 1.8|      115|    moyenne|       5|       5|   gris|   false|16450.0|     8753.0|     200.0|       810.0|\n",
      "|nissan|   almera 1.8|      115|    moyenne|       5|       5|   gris|   false|16450.0|     8753.0|     200.0|       810.0|\n",
      "+------+-------------+---------+-----------+--------+--------+-------+--------+-------+-----------+----------+------------+\n",
      "only showing top 20 rows\n",
      "\n"
     ]
    },
    {
     "name": "stderr",
     "output_type": "stream",
     "text": [
      "                                                                                \r"
     ]
    }
   ],
   "source": [
    "df_catalogue = spark.sql(\"SELECT * FROM catalogue;\")\n",
    "df_catalogue.show()"
   ]
  },
  {
   "cell_type": "code",
   "execution_count": null,
   "id": "3e63acba-9679-4d7f-8b39-77945e1d9951",
   "metadata": {},
   "outputs": [],
   "source": []
  }
 ],
 "metadata": {
  "kernelspec": {
   "display_name": "Python 3 (ipykernel)",
   "language": "python",
   "name": "python3"
  },
  "language_info": {
   "codemirror_mode": {
    "name": "ipython",
    "version": 3
   },
   "file_extension": ".py",
   "mimetype": "text/x-python",
   "name": "python",
   "nbconvert_exporter": "python",
   "pygments_lexer": "ipython3",
   "version": "3.9.7"
  }
 },
 "nbformat": 4,
 "nbformat_minor": 5
}
