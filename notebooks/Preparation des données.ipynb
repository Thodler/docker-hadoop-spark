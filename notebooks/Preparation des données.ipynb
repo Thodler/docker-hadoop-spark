{
 "cells": [
  {
   "cell_type": "code",
   "execution_count": 1,
   "id": "initial_id",
   "metadata": {},
   "outputs": [],
   "source": [
    "from pyspark.sql import SparkSession\n",
    "from pyspark.sql.functions import col, when, sum, count, avg, round, udf\n",
    "from pyspark.ml.feature import StringIndexer, OneHotEncoder, VectorAssembler, IndexToString\n",
    "from pyspark.ml.classification import RandomForestClassifier, DecisionTreeClassifier\n",
    "from pyspark.ml.evaluation import MulticlassClassificationEvaluator\n",
    "from pyspark.ml.tuning import CrossValidator, ParamGridBuilder\n",
    "from pyspark.sql.types import DoubleType\n"
   ]
  },
  {
   "cell_type": "code",
   "execution_count": 2,
   "id": "ab0bc1ae-9658-433b-8e95-570503bfe684",
   "metadata": {},
   "outputs": [
    {
     "name": "stderr",
     "output_type": "stream",
     "text": [
      "WARNING: An illegal reflective access operation has occurred\n",
      "WARNING: Illegal reflective access by org.apache.spark.unsafe.Platform (file:/usr/local/spark-3.2.0-bin-hadoop3.2/jars/spark-unsafe_2.12-3.2.0.jar) to constructor java.nio.DirectByteBuffer(long,int)\n",
      "WARNING: Please consider reporting this to the maintainers of org.apache.spark.unsafe.Platform\n",
      "WARNING: Use --illegal-access=warn to enable warnings of further illegal reflective access operations\n",
      "WARNING: All illegal access operations will be denied in a future release\n",
      "Using Spark's default log4j profile: org/apache/spark/log4j-defaults.properties\n",
      "Setting default log level to \"WARN\".\n",
      "To adjust logging level use sc.setLogLevel(newLevel). For SparkR, use setLogLevel(newLevel).\n",
      "24/11/15 20:52:57 WARN NativeCodeLoader: Unable to load native-hadoop library for your platform... using builtin-java classes where applicable\n"
     ]
    },
    {
     "data": {
      "text/plain": [
       "DataFrame[]"
      ]
     },
     "execution_count": 2,
     "metadata": {},
     "output_type": "execute_result"
    }
   ],
   "source": [
    "spark = SparkSession.builder\\\n",
    "    .appName(\"Préparation de données\")\\\n",
    "    .enableHiveSupport()\\\n",
    "    .getOrCreate()\n",
    "\n",
    "spark.sparkContext.setLogLevel(\"OFF\")\n",
    "spark.catalog.clearCache()\n",
    "spark.sql(\"USE concessionnaire\")"
   ]
  },
  {
   "cell_type": "code",
   "execution_count": 3,
   "id": "60f4b1ed-bdc8-4e9c-8f95-40586dd17b84",
   "metadata": {},
   "outputs": [
    {
     "name": "stdout",
     "output_type": "stream",
     "text": [
      "+----------+----------------+-----------+--------+--------+-------------------+-----------+----------+------------+\n",
      "|    marque|          modele|   longueur|nbplaces|nbportes|          categorie|bonus_malus|rejets_co2|cout_energie|\n",
      "+----------+----------------+-----------+--------+--------+-------------------+-----------+----------+------------+\n",
      "|   renault|vel satis 3.5 v6|tres longue|       5|       5|      SUV/Crossover|    -6000.0|       0.0|       206.0|\n",
      "|    lancia| ypsilon 1.4 16v|     courte|       5|       3|citadine economique|    -4865.0|      33.0|       158.0|\n",
      "|volkswagen|     polo 1.2 6v|     courte|       5|       3|citadine economique|    -6000.0|      23.0|        96.0|\n",
      "|  daihatsu|       cuore 1.0|     courte|       5|       3|citadine economique|    -4865.0|      33.0|       158.0|\n",
      "|     smart|      toledo 1.6|     longue|       5|       5|          familiale|    -6000.0|       0.0|       191.0|\n",
      "|   renault|vel satis 3.5 v6|tres longue|       5|       5|              autre|    -6000.0|       0.0|       206.0|\n",
      "|      mini|  copper 1.6 16v|     courte|       5|       5|              autre|    -6000.0|      22.0|       126.0|\n",
      "|   peugeot|        1007 1.4|     courte|       5|       5|citadine economique|    -6000.0|      13.0|       160.0|\n",
      "|volkswagen|  new beatle 1.8|    moyenne|       5|       5|          familiale|    -6000.0|      23.0|        96.0|\n",
      "|volkswagen|  touran 2.0 fsi|     longue|       7|       5|          familiale|    -6000.0|      23.0|        96.0|\n",
      "+----------+----------------+-----------+--------+--------+-------------------+-----------+----------+------------+\n",
      "only showing top 10 rows\n",
      "\n"
     ]
    },
    {
     "name": "stderr",
     "output_type": "stream",
     "text": [
      "                                                                                \r"
     ]
    }
   ],
   "source": [
    "df_catalogue = spark.sql(\"SELECT * FROM catalogue;\")\n",
    "df_catalogue.show(n=10)"
   ]
  },
  {
   "cell_type": "markdown",
   "id": "9407675b-70b3-4f9c-9697-5692f69d1408",
   "metadata": {},
   "source": [
    "### Verification des doublons"
   ]
  },
  {
   "cell_type": "code",
   "execution_count": 4,
   "id": "8c56f420-ef98-4a2c-acce-87665cc20510",
   "metadata": {},
   "outputs": [
    {
     "name": "stdout",
     "output_type": "stream",
     "text": [
      "+------+------+--------+--------+--------+---------+-----------+----------+------------+-----+\n",
      "|marque|modele|longueur|nbplaces|nbportes|categorie|bonus_malus|rejets_co2|cout_energie|count|\n",
      "+------+------+--------+--------+--------+---------+-----------+----------+------------+-----+\n",
      "+------+------+--------+--------+--------+---------+-----------+----------+------------+-----+\n",
      "\n"
     ]
    }
   ],
   "source": [
    "doublons = df_catalogue.groupBy(*df_catalogue.columns).agg(count(\"*\").alias(\"count\")).filter(\"count > 1\")\n",
    "doublons.show(truncate=False)"
   ]
  },
  {
   "cell_type": "markdown",
   "id": "38ba59e5-8312-46f6-ad8c-7dcaeaaff557",
   "metadata": {},
   "source": [
    "### Analyse des **null**"
   ]
  },
  {
   "cell_type": "code",
   "execution_count": 5,
   "id": "3e63acba-9679-4d7f-8b39-77945e1d9951",
   "metadata": {},
   "outputs": [
    {
     "name": "stdout",
     "output_type": "stream",
     "text": [
      "+------+------+--------+--------+--------+---------+-----------+----------+------------+\n",
      "|marque|modele|longueur|nbplaces|nbportes|categorie|bonus_malus|rejets_co2|cout_energie|\n",
      "+------+------+--------+--------+--------+---------+-----------+----------+------------+\n",
      "|     0|     0|       0|       0|       0|        0|          0|         0|           0|\n",
      "+------+------+--------+--------+--------+---------+-----------+----------+------------+\n",
      "\n"
     ]
    }
   ],
   "source": [
    "df_catalogue.select(\n",
    "    *[sum(when(col(c).isNull(), 1).otherwise(0)).alias(c) for c in df_catalogue.columns]\n",
    ").show()"
   ]
  },
  {
   "cell_type": "markdown",
   "id": "3c8b60cd-5374-46a8-9c79-d076d6116249",
   "metadata": {},
   "source": [
    "### Normalisation de la **marque**"
   ]
  },
  {
   "cell_type": "code",
   "execution_count": 6,
   "id": "d2511917-dd2e-4baf-98a0-1274f9cb99af",
   "metadata": {},
   "outputs": [
    {
     "name": "stdout",
     "output_type": "stream",
     "text": [
      "+----------------+-----------+--------+--------+-------------------+-----------+----------+------------+---------------+\n",
      "|          modele|   longueur|nbplaces|nbportes|          categorie|bonus_malus|rejets_co2|cout_energie|         marque|\n",
      "+----------------+-----------+--------+--------+-------------------+-----------+----------+------------+---------------+\n",
      "|vel satis 3.5 v6|tres longue|       5|       5|      SUV/Crossover|    -6000.0|       0.0|       206.0| (19,[0],[1.0])|\n",
      "| ypsilon 1.4 16v|     courte|       5|       3|citadine economique|    -4865.0|      33.0|       158.0|(19,[14],[1.0])|\n",
      "|     polo 1.2 6v|     courte|       5|       3|citadine economique|    -6000.0|      23.0|        96.0| (19,[1],[1.0])|\n",
      "|       cuore 1.0|     courte|       5|       3|citadine economique|    -4865.0|      33.0|       158.0|(19,[10],[1.0])|\n",
      "|      toledo 1.6|     longue|       5|       5|          familiale|    -6000.0|       0.0|       191.0|(19,[18],[1.0])|\n",
      "|vel satis 3.5 v6|tres longue|       5|       5|              autre|    -6000.0|       0.0|       206.0| (19,[0],[1.0])|\n",
      "|  copper 1.6 16v|     courte|       5|       5|              autre|    -6000.0|      22.0|       126.0|(19,[15],[1.0])|\n",
      "|        1007 1.4|     courte|       5|       5|citadine economique|    -6000.0|      13.0|       160.0|(19,[16],[1.0])|\n",
      "|  new beatle 1.8|    moyenne|       5|       5|          familiale|    -6000.0|      23.0|        96.0| (19,[1],[1.0])|\n",
      "|  touran 2.0 fsi|     longue|       7|       5|          familiale|    -6000.0|      23.0|        96.0| (19,[1],[1.0])|\n",
      "+----------------+-----------+--------+--------+-------------------+-----------+----------+------------+---------------+\n",
      "only showing top 10 rows\n",
      "\n"
     ]
    }
   ],
   "source": [
    "indexer_marque = StringIndexer(inputCol=\"marque\", outputCol=\"marque_index\")\n",
    "indexer_model_marque = indexer_marque.fit(df_catalogue)\n",
    "df_catalogue = indexer_model_marque.transform(df_catalogue)\n",
    "\n",
    "encoder = OneHotEncoder(inputCol=\"marque_index\", outputCol=\"marque_encoded\")\n",
    "df_catalogue = encoder.fit(df_catalogue).transform(df_catalogue)\n",
    "\n",
    "df_catalogue = df_catalogue.drop('marque') \n",
    "df_catalogue = df_catalogue.drop('marque_index') \n",
    "\n",
    "df_catalogue = df_catalogue.withColumnRenamed('marque_encoded', 'marque')\n",
    "\n",
    "df_catalogue.show(n=10)"
   ]
  },
  {
   "cell_type": "markdown",
   "id": "7e6da3bb-b8ec-479b-b5d1-8626a64731fd",
   "metadata": {},
   "source": [
    "### Analyse de **Modele**"
   ]
  },
  {
   "cell_type": "code",
   "execution_count": 7,
   "id": "23fcbc78-c94f-42bc-a8a5-4737ead6ca80",
   "metadata": {},
   "outputs": [
    {
     "name": "stdout",
     "output_type": "stream",
     "text": [
      "Il y a 32 modeles.\n"
     ]
    }
   ],
   "source": [
    "count_modele = df_catalogue.select(\"modele\").distinct().count()\n",
    "print(f\"Il y a {count_modele} modeles.\")"
   ]
  },
  {
   "cell_type": "markdown",
   "id": "07adbd44-5a6e-4d2a-9453-7fed2c76ddd9",
   "metadata": {},
   "source": [
    "On travail uniquement sur les catégories, les modèles spécifiques n'ajoutent pas de valeur.\n",
    "L'analyse est simplifier en se concentrant sur des regroupements plus larges."
   ]
  },
  {
   "cell_type": "code",
   "execution_count": 8,
   "id": "f91c13bc-01ad-48f1-a4f4-82264235620f",
   "metadata": {},
   "outputs": [
    {
     "name": "stdout",
     "output_type": "stream",
     "text": [
      "+-----------+--------+--------+-----------+----------+------------+---------------+---------+\n",
      "|   longueur|nbplaces|nbportes|bonus_malus|rejets_co2|cout_energie|         marque|categorie|\n",
      "+-----------+--------+--------+-----------+----------+------------+---------------+---------+\n",
      "|tres longue|       5|       5|    -6000.0|       0.0|       206.0| (19,[0],[1.0])|      1.0|\n",
      "|     courte|       5|       3|    -4865.0|      33.0|       158.0|(19,[14],[1.0])|      2.0|\n",
      "|     courte|       5|       3|    -6000.0|      23.0|        96.0| (19,[1],[1.0])|      2.0|\n",
      "|     courte|       5|       3|    -4865.0|      33.0|       158.0|(19,[10],[1.0])|      2.0|\n",
      "|     longue|       5|       5|    -6000.0|       0.0|       191.0|(19,[18],[1.0])|      0.0|\n",
      "|tres longue|       5|       5|    -6000.0|       0.0|       206.0| (19,[0],[1.0])|      3.0|\n",
      "|     courte|       5|       5|    -6000.0|      22.0|       126.0|(19,[15],[1.0])|      3.0|\n",
      "|     courte|       5|       5|    -6000.0|      13.0|       160.0|(19,[16],[1.0])|      2.0|\n",
      "|    moyenne|       5|       5|    -6000.0|      23.0|        96.0| (19,[1],[1.0])|      0.0|\n",
      "|     longue|       7|       5|    -6000.0|      23.0|        96.0| (19,[1],[1.0])|      0.0|\n",
      "+-----------+--------+--------+-----------+----------+------------+---------------+---------+\n",
      "only showing top 10 rows\n",
      "\n"
     ]
    }
   ],
   "source": [
    "indexer = StringIndexer(inputCol=\"categorie\", outputCol=\"categorie_indexed\")\n",
    "indexer_model = indexer.fit(df_catalogue)\n",
    "df_catalogue = indexer_model.transform(df_catalogue)\n",
    "\n",
    "df_catalogue = df_catalogue.drop('modele') \n",
    "df_catalogue = df_catalogue.drop('categorie') \n",
    "\n",
    "df_catalogue = df_catalogue.withColumnRenamed('categorie_indexed', 'categorie')\n",
    "\n",
    "df_catalogue.show(n=10)"
   ]
  },
  {
   "cell_type": "markdown",
   "id": "93bc7289-eb6b-46ed-984f-965ac2c914f4",
   "metadata": {},
   "source": [
    "### Analyse de **longueur**"
   ]
  },
  {
   "cell_type": "code",
   "execution_count": 9,
   "id": "23193ea7-3f01-4c2a-a3bc-e396783e59e9",
   "metadata": {},
   "outputs": [
    {
     "name": "stdout",
     "output_type": "stream",
     "text": [
      "+-----------+\n",
      "|   longueur|\n",
      "+-----------+\n",
      "|tres longue|\n",
      "|     courte|\n",
      "|     longue|\n",
      "|    moyenne|\n",
      "+-----------+\n",
      "\n"
     ]
    }
   ],
   "source": [
    "df_catalogue.select(\"longueur\").distinct().show()"
   ]
  },
  {
   "cell_type": "code",
   "execution_count": 10,
   "id": "18e07efe-5500-4c10-bf38-57617cd2f7d4",
   "metadata": {},
   "outputs": [
    {
     "name": "stdout",
     "output_type": "stream",
     "text": [
      "+--------+--------+-----------+----------+------------+---------------+---------+--------+\n",
      "|nbplaces|nbportes|bonus_malus|rejets_co2|cout_energie|         marque|categorie|longueur|\n",
      "+--------+--------+-----------+----------+------------+---------------+---------+--------+\n",
      "|       5|       5|    -6000.0|       0.0|       206.0| (19,[0],[1.0])|      1.0|     3.0|\n",
      "|       5|       3|    -4865.0|      33.0|       158.0|(19,[14],[1.0])|      2.0|     2.0|\n",
      "|       5|       3|    -6000.0|      23.0|        96.0| (19,[1],[1.0])|      2.0|     2.0|\n",
      "|       5|       3|    -4865.0|      33.0|       158.0|(19,[10],[1.0])|      2.0|     2.0|\n",
      "+--------+--------+-----------+----------+------------+---------------+---------+--------+\n",
      "only showing top 4 rows\n",
      "\n"
     ]
    }
   ],
   "source": [
    "indexer_longueur = StringIndexer(inputCol=\"longueur\", outputCol=\"longueur_indexed\")\n",
    "indexer_model_longueur = indexer_longueur.fit(df_catalogue)\n",
    "df_catalogue = indexer_model_longueur.transform(df_catalogue)\n",
    "\n",
    "df_catalogue = df_catalogue.drop('longueur')\n",
    "df_catalogue = df_catalogue.withColumnRenamed('longueur_indexed', 'longueur')\n",
    "\n",
    "df_catalogue.show(n=4)"
   ]
  },
  {
   "cell_type": "markdown",
   "id": "85b53327-4841-467d-95f9-ace9e02d2258",
   "metadata": {
    "tags": []
   },
   "source": [
    "## Classificateur"
   ]
  },
  {
   "cell_type": "code",
   "execution_count": 11,
   "id": "f824766c-e114-41b5-8baf-6e7a35177f16",
   "metadata": {},
   "outputs": [
    {
     "name": "stdout",
     "output_type": "stream",
     "text": [
      "Précision du modèle sur l'ensemble de test = 50.00%\n",
      "+---------+-------------------+--------------------+\n",
      "|categorie| predictedCategorie|            features|\n",
      "+---------+-------------------+--------------------+\n",
      "|      1.0|          familiale|(25,[0,1,2,4,5,24...|\n",
      "|      2.0|citadine economique|(25,[0,1,2,3,4,15...|\n",
      "|      0.0|          familiale|(25,[0,1,2,3,4,6,...|\n",
      "|      3.0|          familiale|(25,[0,1,2,3,4,8,...|\n",
      "|      0.0|          familiale|(25,[0,1,2,3,4,18...|\n",
      "|      3.0|          familiale|(25,[0,1,2,3,4,7,...|\n",
      "+---------+-------------------+--------------------+\n",
      "\n"
     ]
    }
   ],
   "source": [
    "assembler = VectorAssembler(\n",
    "    inputCols=[\"nbplaces\", \"nbportes\", \"bonus_malus\", \"rejets_co2\", \"cout_energie\", \"marque\", \"longueur\"],\n",
    "    outputCol=\"features\")\n",
    "\n",
    "df_final = assembler.transform(df_catalogue)\n",
    "\n",
    "(trainingData, testData) = df_final.randomSplit([0.8, 0.2], seed=42)\n",
    "\n",
    "rf = RandomForestClassifier(labelCol=\"categorie\", featuresCol=\"features\", numTrees=20)\n",
    "model = rf.fit(trainingData)\n",
    "\n",
    "predictions = model.transform(testData)\n",
    "\n",
    "evaluator = MulticlassClassificationEvaluator(\n",
    "    labelCol=\"categorie\", predictionCol=\"prediction\", metricName=\"accuracy\")\n",
    "\n",
    "accuracy = evaluator.evaluate(predictions)\n",
    "print(\"Précision du modèle sur l'ensemble de test = {:.2f}%\".format(accuracy * 100))\n",
    "\n",
    "# Conversion des prédictions en labels de catégories\n",
    "labelConverter = IndexToString(inputCol=\"prediction\", outputCol=\"predictedCategorie\", labels=indexer_model.labels)\n",
    "predictions = labelConverter.transform(predictions)\n",
    "\n",
    "# Affichage des prédictions avec les catégories réelles et prédites\n",
    "predictions.select(\"categorie\", \"predictedCategorie\", \"features\").show()"
   ]
  },
  {
   "cell_type": "code",
   "execution_count": null,
   "id": "4a128172-1407-46d3-91ab-19e86c1bf33e",
   "metadata": {},
   "outputs": [
    {
     "name": "stdout",
     "output_type": "stream",
     "text": [
      "Précision du modèle Decision Tree sur l'ensemble de test = 50.00%\n"
     ]
    }
   ],
   "source": [
    "dt = DecisionTreeClassifier(labelCol=\"categorie\", featuresCol=\"features\")\n",
    "model_dt = dt.fit(trainingData)\n",
    "predictions_dt = model_dt.transform(testData)\n",
    "\n",
    "accuracy_dt = evaluator.evaluate(predictions_dt)\n",
    "print(\"Précision du modèle Decision Tree sur l'ensemble de test = {:.2f}%\".format(accuracy_dt * 100))"
   ]
  },
  {
   "cell_type": "code",
   "execution_count": 14,
   "id": "6001abba-bb71-4957-9dc2-f9cf1a60b64e",
   "metadata": {},
   "outputs": [
    {
     "name": "stdout",
     "output_type": "stream",
     "text": [
      "+---------+-----+\n",
      "|categorie|count|\n",
      "+---------+-----+\n",
      "|      1.0|    6|\n",
      "|      2.0|    6|\n",
      "|      0.0|   19|\n",
      "|      3.0|    5|\n",
      "+---------+-----+\n",
      "\n",
      "Taille du jeu de données : 36\n",
      "Taille de l'ensemble d'entraînement : 30\n",
      "Taille de l'ensemble de test : 6\n"
     ]
    }
   ],
   "source": [
    "df_catalogue.groupBy('categorie').count().show()\n",
    "\n",
    "# Taille du jeu de données total\n",
    "print(f\"Taille du jeu de données : {df_final.count()}\")\n",
    "\n",
    "# Taille des ensembles d'entraînement et de test\n",
    "print(f\"Taille de l'ensemble d'entraînement : {trainingData.count()}\")\n",
    "print(f\"Taille de l'ensemble de test : {testData.count()}\")"
   ]
  }
 ],
 "metadata": {
  "kernelspec": {
   "display_name": "Python 3 (ipykernel)",
   "language": "python",
   "name": "python3"
  },
  "language_info": {
   "codemirror_mode": {
    "name": "ipython",
    "version": 3
   },
   "file_extension": ".py",
   "mimetype": "text/x-python",
   "name": "python",
   "nbconvert_exporter": "python",
   "pygments_lexer": "ipython3",
   "version": "3.9.7"
  }
 },
 "nbformat": 4,
 "nbformat_minor": 5
}
