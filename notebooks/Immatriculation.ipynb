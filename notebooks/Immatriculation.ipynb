{
 "cells": [
  {
   "cell_type": "markdown",
   "id": "baa2bfe4-7c21-44c4-ac41-e54166fbfac1",
   "metadata": {},
   "source": [
    "# Analyse et nettoyage des données Immatriculation"
   ]
  },
  {
   "cell_type": "markdown",
   "id": "06210231-f09d-4ca9-aef5-36dc5872d4ed",
   "metadata": {},
   "source": [
    "## Import"
   ]
  },
  {
   "cell_type": "code",
   "execution_count": 1,
   "id": "ca8b0861-4e4d-42da-bd93-32914233fdaa",
   "metadata": {},
   "outputs": [],
   "source": [
    "from pyspark.sql import SparkSession\n",
    "from pyspark.sql import functions as F\n",
    "import pandas as pd\n",
    "import seaborn as sns\n",
    "import matplotlib.pyplot as plt\n",
    "from pyspark.sql.types import BooleanType, FloatType\n",
    "from pyspark.sql.functions import trim, lower, upper, col, count, regexp_replace, max, min, when,avg, round, rand"
   ]
  },
  {
   "cell_type": "markdown",
   "id": "73c38c06-6935-4660-9f68-419add6f868e",
   "metadata": {},
   "source": [
    "## Session spark"
   ]
  },
  {
   "cell_type": "code",
   "execution_count": null,
   "id": "e99432de-3a23-4f1f-b10d-79a445a09bf9",
   "metadata": {},
   "outputs": [],
   "source": [
    "spark = SparkSession.builder\\\n",
    "    .appName(\"CleanImmatriculation\")\\\n",
    "    .enableHiveSupport()\\\n",
    "    .getOrCreate()"
   ]
  },
  {
   "cell_type": "markdown",
   "id": "32087677-1413-402e-a97f-3c44e3349093",
   "metadata": {},
   "source": [
    "## Import des données"
   ]
  },
  {
   "cell_type": "code",
   "execution_count": null,
   "id": "5248f82d-c16e-443d-ab23-6b1cc8897f9e",
   "metadata": {},
   "outputs": [],
   "source": [
    "spark.sparkContext.setLogLevel(\"OFF\")\n",
    "spark.catalog.clearCache()\n",
    "spark.sql(\"USE concessionnaire\")\n",
    "\n",
    "df_immat = spark.sql(\"SELECT * FROM immatriculations_ext\")\n",
    "df_client = spark.sql(\"SELECT * FROM clients\")\n"
   ]
  },
  {
   "cell_type": "code",
   "execution_count": null,
   "id": "0d860f2d-233c-4189-9044-f1f2723d1f06",
   "metadata": {},
   "outputs": [],
   "source": [
    "df_immat.show()\n",
    "df_client.show()\n",
    "df_client.count()"
   ]
  },
  {
   "cell_type": "markdown",
   "id": "653d3ebe-8aab-4e6a-8100-123c6838da8d",
   "metadata": {},
   "source": [
    "## Analyse\n",
    "\n",
    "### Casse\n",
    "- Renommage de la colonne \"nom\" en \"modele\" dans la table **immatriculation**\n",
    "- Normalisation des marques de la table **immatriculation**\n",
    "- Normalisation des modèles de la table **immatriculation**\n",
    "- Suppression de la 1ère ligne de la table **clients**"
   ]
  },
  {
   "cell_type": "markdown",
   "id": "a2a0d368-8732-4b4a-b13b-3d826c12dc0a",
   "metadata": {},
   "source": [
    "#### Traitement Immatriculation"
   ]
  },
  {
   "cell_type": "code",
   "execution_count": null,
   "id": "cee58fd9-7b53-4579-afbc-f258b55fd472",
   "metadata": {},
   "outputs": [],
   "source": [
    "#Renommage de la colonne \"nom\" en \"modele\"\n",
    "df_immat = df_immat.withColumnRenamed(\"nom\", \"modele\")"
   ]
  },
  {
   "cell_type": "code",
   "execution_count": null,
   "id": "95313a7e-f568-44f5-9ff6-547ea4fa3d23",
   "metadata": {},
   "outputs": [],
   "source": [
    "df_immat.printSchema()"
   ]
  },
  {
   "cell_type": "code",
   "execution_count": null,
   "id": "c5bb66a6-e6d2-41f5-a174-5f099c1d62d1",
   "metadata": {},
   "outputs": [],
   "source": [
    "#Normalisation des casses\n",
    "df_immat = df_immat.withColumn(\"marque\", lower(trim(col(\"marque\"))))\n",
    "df_immat = df_immat.withColumn(\"modele\", lower(trim(col(\"modele\"))))\n",
    "df_immat = df_immat.withColumn(\"immatriculation\", upper(trim(col(\"immatriculation\"))))"
   ]
  },
  {
   "cell_type": "code",
   "execution_count": null,
   "id": "9760a566-4053-41d4-9a12-b1099def5795",
   "metadata": {},
   "outputs": [],
   "source": [
    "df_immat.show(n=5)"
   ]
  },
  {
   "cell_type": "markdown",
   "id": "febeabe8-5351-40fe-95bd-d1679034e2ba",
   "metadata": {},
   "source": [
    "#### Traitemment Client"
   ]
  },
  {
   "cell_type": "code",
   "execution_count": null,
   "id": "a8ec8cf6-f347-4e79-9a53-426bf33aa894",
   "metadata": {},
   "outputs": [],
   "source": [
    "#Suppression de la 1ère ligne de la table clients\n",
    "df_client = df_client.filter(df_client['immatriculation'] != 'immatriculation')\n",
    "\n",
    "#Normalisation de situation familiale et immatriculation\n",
    "df_client = df_client.withColumn(\"situationfamiliale\", lower(trim(col(\"situationfamiliale\"))))\n",
    "df_client = df_client.withColumn(\"immatriculation\", upper(trim(col(\"immatriculation\"))))"
   ]
  },
  {
   "cell_type": "code",
   "execution_count": null,
   "id": "e1d2b09a-a669-4cc3-a62e-42a94c07167f",
   "metadata": {},
   "outputs": [],
   "source": [
    "df_client.show(n=3)"
   ]
  },
  {
   "cell_type": "markdown",
   "id": "4e8e4b59-ab9b-45aa-8632-1534b815c3aa",
   "metadata": {},
   "source": [
    "### Recherche des caractères spéciaux\n",
    "\n",
    "- Recherche du symbole \"�\"\n",
    "- Recherche du caractère \"ã©\""
   ]
  },
  {
   "cell_type": "code",
   "execution_count": null,
   "id": "e6b02c6f-cc82-4b60-b884-b931406e0ebc",
   "metadata": {},
   "outputs": [],
   "source": [
    "df_client.printSchema()"
   ]
  },
  {
   "cell_type": "code",
   "execution_count": null,
   "id": "c5179236-fad3-4252-8126-25d761e83fac",
   "metadata": {},
   "outputs": [],
   "source": [
    "#Recherche du symbole \"�\"\n",
    "\n",
    "#table immatriculation\n",
    "df_search_special_char_immat = df_immat.filter(\n",
    "    col(\"immatriculation\").like(\"%�%\") | \n",
    "    col(\"marque\").like(\"%�%\") | \n",
    "    col(\"modele\").like(\"%�%\") | \n",
    "    col(\"longueur\").like(\"%�%\") |\n",
    "    col(\"couleur\").like(\"%�%\") | \n",
    "    col(\"occasion\").like(\"%�%\")\n",
    ")\n",
    "\n",
    "#table clients\n",
    "df_search_special_char_client = df_client.filter(\n",
    "    col(\"sexe\").like(\"%�%\") |\n",
    "    col(\"immatriculation\").like(\"%�%\")\n",
    ")\n",
    "\n",
    "value_client = df_client.groupBy(\"situationfamiliale\").count()\n"
   ]
  },
  {
   "cell_type": "code",
   "execution_count": null,
   "id": "a87e1d8d-df04-4612-a9c0-81f40e5d9e94",
   "metadata": {},
   "outputs": [],
   "source": [
    "df_search_special_char_immat.show()\n",
    "df_search_special_char_client.show()\n",
    "value_client.show()"
   ]
  },
  {
   "cell_type": "code",
   "execution_count": null,
   "id": "34ceecba-7ea6-4fa1-8ce2-fe49ad93ef0b",
   "metadata": {},
   "outputs": [],
   "source": [
    "#Recherche du caractère \"ã©\"\n",
    "\n",
    "#table immatriculation\n",
    "df_search_special_char_2_immat = df_immat.filter(\n",
    "    col(\"immatriculation\").like(\"%ã©%\") | \n",
    "    col(\"marque\").like(\"%ã©%\") | \n",
    "    col(\"modele\").like(\"%ã©%\") | \n",
    "    col(\"longueur\").like(\"%ã©%\") |\n",
    "    col(\"couleur\").like(\"%ã©%\") | \n",
    "    col(\"occasion\").like(\"%ã©%\")\n",
    ")\n",
    "\n",
    "#table clients\n",
    "df_search_special_char_2_client = df_client.filter(\n",
    "    col(\"sexe\").like(\"%ã©%\") | \n",
    "    col(\"situationfamiliale\").like(\"%ã©%\") | \n",
    "    col(\"immatriculation\").like(\"%ã©%\")\n",
    ")"
   ]
  },
  {
   "cell_type": "code",
   "execution_count": null,
   "id": "c15b8bbd-ea84-46f6-9a7d-0cb61ef51e8a",
   "metadata": {},
   "outputs": [],
   "source": [
    "df_search_special_char_2_immat.show()\n",
    "df_search_special_char_2_client.show()"
   ]
  },
  {
   "cell_type": "markdown",
   "id": "94f266c9-4bd6-479a-819d-f5290ba6eb8d",
   "metadata": {},
   "source": [
    "### Correction des caractères spéciaux\n",
    "\n",
    "- Correction du symbole \"�\" dans la colonne \"longueur\".\n"
   ]
  },
  {
   "cell_type": "code",
   "execution_count": null,
   "id": "7a604c7f-8a55-43a4-bc3d-4556e4e48317",
   "metadata": {},
   "outputs": [],
   "source": [
    "#Correction du symbole \"�\" dans la colonne \"longueur\"\n",
    "\n",
    "df_immat = df_immat.withColumn(\"longueur\", regexp_replace(col(\"longueur\"), \"�\", \"e\"))\n",
    "\n",
    "df_client = df_client.withColumn(\"situationfamiliale\", regexp_replace(col(\"situationfamiliale\"), \"�\", \"e\"))\n"
   ]
  },
  {
   "cell_type": "code",
   "execution_count": null,
   "id": "ab073229-fca2-4d82-91ed-e649bf3120fc",
   "metadata": {},
   "outputs": [],
   "source": [
    "\n",
    "df_search_special_char_immat = df_immat.filter(\n",
    "    col(\"immatriculation\").like(\"%�%\") | \n",
    "    col(\"marque\").like(\"%�%\") | \n",
    "    col(\"modele\").like(\"%�%\") | \n",
    "    col(\"longueur\").like(\"%�%\") |\n",
    "    col(\"couleur\").like(\"%�%\") | \n",
    "    col(\"occasion\").like(\"%�%\")\n",
    ")\n",
    "\n",
    "value_client = df_client.groupBy(\"situationfamiliale\").count()\n",
    "\n",
    "value_client.show()\n",
    "\n",
    "df_search_special_char_immat.show()"
   ]
  },
  {
   "cell_type": "markdown",
   "id": "8f59c20c-2b9f-43cf-baf1-f2163a12ed07",
   "metadata": {},
   "source": [
    "## Recherche et correction des Null\n",
    "\n",
    "- Recherche des null"
   ]
  },
  {
   "cell_type": "code",
   "execution_count": null,
   "id": "e576ac3b-bc6b-4108-b379-75b0f6207b61",
   "metadata": {},
   "outputs": [],
   "source": [
    "\n",
    "#Recherche des null\n",
    "\n",
    "# Liste des colonnes du DataFrame\n",
    "colonnes_immat = df_immat.columns\n",
    "\n",
    "# Filtrer pour conserver uniquement les lignes où au moins une colonne est nulle\n",
    "df_immat_nulls = df_immat.filter(\n",
    "    sum(col(colonne_immat).isNull().cast(\"int\") for colonne_immat in colonnes_immat) > 0\n",
    ")\n",
    "\n",
    "# Liste des colonnes du DataFrame\n",
    "colonnes_client = df_client.columns\n",
    "\n",
    "# Filtrer pour conserver uniquement les lignes où au moins une colonne est nulle\n",
    "df_client_nulls = df_client.filter(\n",
    "    sum(col(colonne_client).isNull().cast(\"int\") for colonne_client in colonnes_client) > 0\n",
    ")"
   ]
  },
  {
   "cell_type": "code",
   "execution_count": null,
   "id": "a4fe5464-e10a-46ad-add1-fa61f6aa56ab",
   "metadata": {},
   "outputs": [],
   "source": [
    "# Afficher les lignes avec des valeurs nulles\n",
    "df_immat_nulls.show()\n",
    "df_client_nulls.show()"
   ]
  },
  {
   "cell_type": "markdown",
   "id": "e947bd8f-61cd-4d70-91fc-dc8bf02f010c",
   "metadata": {},
   "source": [
    "## Traitement des nulls dans la table **age**\n",
    "\n",
    "- Analyse des valeurs inférieur à 18.\n",
    "- Mettre à null les valeurs inférieures à 18 ans.\n",
    "- Calculer la médiane.\n",
    "- Remplacer les nulls par la médiane."
   ]
  },
  {
   "cell_type": "code",
   "execution_count": null,
   "id": "2f898c6a-173c-45c5-8b34-086a308f0c9e",
   "metadata": {},
   "outputs": [],
   "source": [
    "#Analyse des valeurs inférieur à 18.\n",
    "\n",
    "# Ajouter une colonne qui spécifie si l'âge est inférieur à 18\n",
    "df_client_age = df_client.withColumn(\"age_below_18\", when(col(\"age\") < 18, 1).otherwise(0))\n",
    "\n",
    "# Compter les lignes où \"age_below_18\" est 1\n",
    "count_grouped = df_client_age.groupBy(\"age_below_18\").count()\n",
    "\n"
   ]
  },
  {
   "cell_type": "code",
   "execution_count": null,
   "id": "b28acbbe-62ce-4ca2-96ff-6b4aed3c0806",
   "metadata": {},
   "outputs": [],
   "source": [
    "# Afficher les résultats\n",
    "count_grouped.show()\n"
   ]
  },
  {
   "cell_type": "code",
   "execution_count": null,
   "id": "d4c6a035-4f38-41d0-ba6d-7d5bdf7da6ce",
   "metadata": {},
   "outputs": [],
   "source": [
    "#Mettre à null les valeurs inférieures à 18 ans.\n",
    "df_client = df_client.withColumn(\"age\", when(col(\"age\") == -1, None).otherwise(col(\"age\")))\n",
    "df_client = df_client.withColumn(\"age\", when(col(\"age\") == 0, None).otherwise(col(\"age\")))\n",
    "\n",
    "#Calculer la médiane.\n",
    "mediane = df_client.approxQuantile(\"age\", [0.5], 0.01)[0]\n",
    "\n",
    "#Remplacer les nulls par la médiane.\n",
    "df_client = df_client.withColumn(\"age\", when(col(\"age\").isNull(), mediane).otherwise(col(\"age\")))"
   ]
  },
  {
   "cell_type": "code",
   "execution_count": null,
   "id": "0c18637a-71f2-42f8-a3bc-f016a6e7455c",
   "metadata": {},
   "outputs": [],
   "source": [
    "# Afficher la médiane\n",
    "print(\"Médiane:\", mediane)\n",
    "\n",
    "value_client = df_client.groupBy(\"age\").count()\n",
    "value_client.show()"
   ]
  },
  {
   "cell_type": "code",
   "execution_count": null,
   "id": "4d8a654f-e67c-4c99-afe9-07bf12aca229",
   "metadata": {},
   "outputs": [],
   "source": [
    "#Analyse des données hors domaine\n",
    "\n",
    "valeurs_hors_champs_min = df_client.filter(col(\"age\") < 18)\n",
    "valeurs_hors_champs_max = df_client.filter(col(\"age\") > 84)\n",
    "\n",
    "# Comptage des valeurs hors champ\n",
    "valeurs_hors_champs_min.count()"
   ]
  },
  {
   "cell_type": "markdown",
   "id": "a8ce819d-4af8-4974-ba8f-ac995e2f050d",
   "metadata": {
    "tags": []
   },
   "source": [
    "## Traitement de **taux**\n",
    "\n",
    "- Nettoyer situation familiale\n",
    "    - Fusionner seul/seule en Celibataire\n",
    "    - Remplacer les null/? par N/D\n",
    "    - Analyser les différentes proportions\n",
    "    - Supprimer les N/D si les proportions le permettent\n",
    "\n",
    "- Faire la moyenne des taux par valeur de situation familiale\n",
    "- Analyser la pertinence de ces moyennes\n",
    "- Remplacer les nulls\n",
    "- Analyse des données hors domaine\n",
    "- Correction des valeurs hors domaine (Création d'une colonne \"taux_eligible\")"
   ]
  },
  {
   "cell_type": "code",
   "execution_count": null,
   "id": "8738fb5a-7d0e-464e-87b4-ab518c5973c7",
   "metadata": {},
   "outputs": [],
   "source": [
    "#Nettoyer situation familiale\n",
    "\n",
    "#Fusionner seul/seule en Celibataire\n",
    "df_client = df_client.withColumn(\"situationfamiliale\", regexp_replace(col(\"situationfamiliale\"), \"seule\", \"celibataire\"))\n",
    "df_client = df_client.withColumn(\"situationfamiliale\", regexp_replace(col(\"situationfamiliale\"), \"seul\", \"celibataire\"))\n",
    "df_client = df_client.withColumn(\"situationfamiliale\", regexp_replace(col(\"situationfamiliale\"), \"divorcee\", \"divorce(e)\"))\n",
    "\n",
    "# Remplacer \"N/D\" par null dans la colonne situationfamiliale\n",
    "df_client = df_client.withColumn(\n",
    "    \"situationfamiliale\",\n",
    "    when(col(\"situationfamiliale\") == None, \"n/d\").otherwise(col(\"situationfamiliale\"))\n",
    ")\n",
    "df_client = df_client.withColumn(\n",
    "    \"situationfamiliale\",\n",
    "    when(trim(col(\"situationfamiliale\")) == \"\", \"n/d\").otherwise(col(\"situationfamiliale\"))\n",
    ")\n",
    "# Remplacer \"?\" par \"N/D\" dans la colonne situationfamiliale\n",
    "df_client = df_client.withColumn(\n",
    "    \"situationfamiliale\",\n",
    "    regexp_replace(col(\"situationfamiliale\"), r\"\\?\", \"n/d\")\n",
    ")\n"
   ]
  },
  {
   "cell_type": "code",
   "execution_count": null,
   "id": "e8fc2e01-db10-447e-a952-3e122ef98b17",
   "metadata": {},
   "outputs": [],
   "source": [
    "value_client = df_client.groupBy(\"situationfamiliale\").count()\n",
    "value_client.show()"
   ]
  },
  {
   "cell_type": "code",
   "execution_count": null,
   "id": "957e2b61-82f1-46fe-9746-d92d7fe9350a",
   "metadata": {},
   "outputs": [],
   "source": [
    "#Analyser les différentes proportions\n",
    "\n",
    "df_counts = df_client.groupBy(\"situationfamiliale\").agg(count(\"*\").alias(\"count\"))\n",
    "total_count = df_counts.selectExpr(\"SUM(count) as total\").collect()[0][\"total\"]\n",
    "\n",
    "df_percentages = df_counts.withColumn(\"percentage\", (col(\"count\") / total_count) * 100)\n",
    "\n",
    "# Collecter les données dans un format utilisable pour Matplotlib\n",
    "data = df_percentages.collect()\n",
    "labels = [row[\"situationfamiliale\"] if row[\"situationfamiliale\"] else \"Inconnue\" for row in data]\n",
    "sizes = [row[\"percentage\"] for row in data]\n",
    "df_percentages.show()\n",
    "\n",
    "# Étape 2 : Créer le diagramme camembert\n",
    "plt.figure(figsize=(8, 8))\n",
    "plt.pie(\n",
    "    sizes, \n",
    "    labels=labels, \n",
    "    autopct=\"%1.1f%%\", \n",
    "    startangle=90, \n",
    "    colors=plt.cm.Paired.colors\n",
    ")\n",
    "\n",
    "plt.axis(\"equal\")\n",
    "\n",
    "plt.show()"
   ]
  },
  {
   "cell_type": "code",
   "execution_count": null,
   "id": "a4d52513-f8ff-411d-80ea-4aabf028186a",
   "metadata": {},
   "outputs": [],
   "source": [
    "#Supprimer les N/D car les proportions le permettent\n",
    "df_client= df_client.filter(col(\"situationfamiliale\") != \"n/d\")\n"
   ]
  },
  {
   "cell_type": "code",
   "execution_count": null,
   "id": "76a6be2a-9479-40d5-944a-c2d8fbcf079b",
   "metadata": {},
   "outputs": [],
   "source": [
    "df_counts = df_client.groupBy(\"situationfamiliale\").agg(count(\"*\").alias(\"count\"))\n",
    "total_count = df_counts.selectExpr(\"SUM(count) as total\").collect()[0][\"total\"]\n",
    "\n",
    "df_percentages = df_counts.withColumn(\"percentage\", (col(\"count\") / total_count) * 100)\n",
    "\n",
    "# Collecter les données dans un format utilisable pour Matplotlib\n",
    "data = df_percentages.collect()\n",
    "labels = [row[\"situationfamiliale\"] if row[\"situationfamiliale\"] else \"Inconnue\" for row in data]\n",
    "sizes = [row[\"percentage\"] for row in data]\n",
    "df_percentages.show()"
   ]
  },
  {
   "cell_type": "code",
   "execution_count": null,
   "id": "a5817419-0d14-4090-a348-b590a535844e",
   "metadata": {},
   "outputs": [],
   "source": [
    "# Faire la moyenne des taux par valeur de situation familiale\n",
    "mediane_taux = df_client.groupBy(\"situationfamiliale\").agg(\n",
    "    F.expr(\"percentile_approx(taux, 0.5, 100)\").alias(\"mediane_taux\")\n",
    ")\n"
   ]
  },
  {
   "cell_type": "code",
   "execution_count": null,
   "id": "2aa1fbf1-b7a4-42ba-998a-6b17efe123dc",
   "metadata": {},
   "outputs": [],
   "source": [
    "#Analyser la pertinence de ces moyennes\n",
    "\n",
    "# Récupération des moyennes pour afficher dans un histogramme\n",
    "data = mediane_taux.collect()\n",
    "categories = [row[\"situationfamiliale\"] for row in data]\n",
    "mediane_taux = [row[\"mediane_taux\"] for row in data]\n",
    "\n",
    "plt.figure(figsize=(10, 6))\n",
    "bars = plt.bar(categories, mediane_taux, color='skyblue')\n",
    "\n",
    "for bar in bars:\n",
    "    height = bar.get_height()\n",
    "    plt.text(bar.get_x() + bar.get_width() / 2, height, f'{height:.2f}', \n",
    "             ha='center', va='bottom', fontsize=10)\n",
    "\n",
    "plt.xlabel(\"Situation Familiale\")\n",
    "plt.ylabel(\"Taux Médian\")\n",
    "plt.title(\"Taux Médian par Situation Familiale\")\n",
    "plt.xticks(rotation=45)\n",
    "plt.tight_layout() \n",
    "plt.show()\n"
   ]
  },
  {
   "cell_type": "code",
   "execution_count": null,
   "id": "fc9d6bdc-a6f2-4c37-8d46-75547cffa9c3",
   "metadata": {},
   "outputs": [],
   "source": [
    "# Remplacer les nulls\n",
    "\n",
    "mediane_taux = df_client.approxQuantile(\"taux\", [0.5], 0.01)[0]\n",
    "df_client = df_client.withColumn(\"taux\", when(col(\"taux\").isNull(), mediane).otherwise(col(\"taux\")))"
   ]
  },
  {
   "cell_type": "code",
   "execution_count": null,
   "id": "079bec64-f66d-4d0d-9585-491a4ae00f90",
   "metadata": {},
   "outputs": [],
   "source": [
    "print(\"Médiane:\", mediane_taux)"
   ]
  },
  {
   "cell_type": "code",
   "execution_count": null,
   "id": "cf6667ec-0f65-4078-bc51-14db0db5a02f",
   "metadata": {},
   "outputs": [],
   "source": [
    "#Analyse des données hors domaine\n",
    "\n",
    "valeurs_hors_champs_min = df_client.filter(col(\"taux\") < 544)\n",
    "valeurs_hors_champs_max = df_client.filter(col(\"taux\") > 74185)\n",
    "\n",
    "# Comptage des valeurs hors champ\n",
    "valeurs_hors_champs_min.count()\n",
    "\n"
   ]
  },
  {
   "cell_type": "code",
   "execution_count": null,
   "id": "90f98e2f-7402-47dc-99f5-75990638b3fc",
   "metadata": {},
   "outputs": [],
   "source": [
    "valeurs_hors_champs_max.count()"
   ]
  },
  {
   "cell_type": "code",
   "execution_count": null,
   "id": "cc56cf36-712a-47b1-9926-1d8af2510adb",
   "metadata": {},
   "outputs": [],
   "source": [
    "#Correction des valeurs hors domaine (Création d'une colonne \"taux_eligible\")\n",
    "df_client = df_client.withColumn(\n",
    "    \"taux_eligible\",\n",
    "    when((col(\"taux\") >= 544) & (col(\"taux\") <= 74185), True).otherwise(False)\n",
    ")"
   ]
  },
  {
   "cell_type": "code",
   "execution_count": null,
   "id": "e5cf0cd2-4631-4d27-baed-23028d69a7a9",
   "metadata": {},
   "outputs": [],
   "source": [
    "# Affichage des résultats\n",
    "df_client.show()"
   ]
  },
  {
   "cell_type": "markdown",
   "id": "a0a12bed-3914-44b7-84be-78b980941247",
   "metadata": {},
   "source": [
    "## Traitement des null dans **nbenfantacharge**\n",
    "\n",
    "- Faire la moyenne des enfants à charges par valeur de situation familiale\n",
    "- Analyser la pertinence de ces moyennes\n",
    "- Remplacer les nulls"
   ]
  },
  {
   "cell_type": "code",
   "execution_count": null,
   "id": "e81dea06-9e78-47bc-8551-67ea0598ded6",
   "metadata": {},
   "outputs": [],
   "source": [
    "# Faire la moyenne des enfants à charges par valeur de situation familiale\n",
    "moyenne_enfant = df_client.groupBy(\"situationfamiliale\").agg(\n",
    "    round(avg(\"nbenfantacharge\"), 0).cast(\"int\").alias(\"moyenne_enfant\")\n",
    ")"
   ]
  },
  {
   "cell_type": "code",
   "execution_count": null,
   "id": "ad8f34de-d5dd-4d7a-9c64-cb711f04d565",
   "metadata": {},
   "outputs": [],
   "source": [
    "#Analyser la pertinence de ces moyennes\n",
    "\n",
    "# Récupération des moyennes pour afficher dans un histogramme\n",
    "data = moyenne_enfant.collect()\n",
    "categories = [row[\"situationfamiliale\"] for row in data]\n",
    "moyenne_enfant = [row[\"moyenne_enfant\"] for row in data]\n",
    "\n",
    "plt.figure(figsize=(10, 6))\n",
    "bars = plt.bar(categories, moyenne_enfant, color='skyblue')\n",
    "plt.xlabel(\"Situation Familiale\")\n",
    "plt.ylabel(\"Nombre enfant moyen\")\n",
    "plt.title(\"Nombre d'enfant moyen par Situation Familiale\")\n",
    "plt.xticks(rotation=45)\n",
    "plt.tight_layout() \n",
    "plt.show()\n"
   ]
  },
  {
   "cell_type": "code",
   "execution_count": null,
   "id": "e198aadc-b510-494c-b65b-7eb456f648d7",
   "metadata": {},
   "outputs": [],
   "source": [
    "# Filtrer les données pour les célibataires et compter les valeurs non nulles de 'nbenfantacharge'\n",
    "\n",
    "df_celibataire = df_client.filter(col(\"situationfamiliale\") == \"celibataire\")\n",
    "value_client = df_celibataire.groupBy(\"nbenfantacharge\").count()"
   ]
  },
  {
   "cell_type": "code",
   "execution_count": null,
   "id": "bd31caa8-2309-46cc-8ef2-6e6e8b2ba008",
   "metadata": {},
   "outputs": [],
   "source": [
    "value_client.show()"
   ]
  },
  {
   "cell_type": "code",
   "execution_count": null,
   "id": "9ca52108-c99f-40d2-82f1-e0b5d870e19e",
   "metadata": {},
   "outputs": [],
   "source": [
    "df_client = df_client.withColumn(\n",
    "    \"nbenfantacharge\",\n",
    "    when(\n",
    "        (col(\"situationfamiliale\") == \"celibataire\") & (col(\"nbenfantacharge\").isNull() | (col(\"nbenfantacharge\") == -1)),\n",
    "        0\n",
    "    ).otherwise(col(\"nbenfantacharge\"))\n",
    ")\n",
    "\n",
    "df_client = df_client.withColumn(\n",
    "    \"nbenfantacharge\",\n",
    "    when(\n",
    "        (col(\"situationfamiliale\").isin(\"marie(e)\", \"divorce(e)\", \"en couple\")) & \n",
    "        (col(\"nbenfantacharge\").isNull() | (col(\"nbenfantacharge\") == -1)),\n",
    "        2\n",
    "    ).otherwise(col(\"nbenfantacharge\"))\n",
    ")\n"
   ]
  },
  {
   "cell_type": "code",
   "execution_count": null,
   "id": "6f1f92d0-3f33-41d6-88a9-44d6d0e38b7c",
   "metadata": {},
   "outputs": [],
   "source": [
    "value_client = df_client.groupBy(\"nbenfantacharge\").count()\n",
    "value_client.show()"
   ]
  },
  {
   "cell_type": "markdown",
   "id": "61f66ea3-92a0-4c3d-b751-28122cb60783",
   "metadata": {},
   "source": [
    "## Traitement des null dans **sexe**\n",
    "\n",
    "- Fusionner F/F�minin/Femme en F\n",
    "- Fusionner H/Masculin/Hommme en H\n",
    "- Remplacer les null/? par N/D\n",
    "- Analyser les différentes proportions\n",
    "- Supprimer les N/D si les proportions le permettent"
   ]
  },
  {
   "cell_type": "code",
   "execution_count": null,
   "id": "f825bce4-86a3-4f1c-924c-6f3c408a77b7",
   "metadata": {},
   "outputs": [],
   "source": [
    "value_client = df_client.groupBy(\"sexe\").count()\n",
    "value_client.show()"
   ]
  },
  {
   "cell_type": "code",
   "execution_count": null,
   "id": "c3ef533e-d970-4438-a7d4-0328e0ff0594",
   "metadata": {},
   "outputs": [],
   "source": [
    "#Fusionner F/F�minin/Femme en F\n",
    "df_client = df_client.withColumn(\"sexe\", regexp_replace(col(\"sexe\"), \"Femme\", \"f\"))\n",
    "df_client = df_client.withColumn(\"sexe\", regexp_replace(col(\"sexe\"), \"F�minin\", \"f\"))\n",
    "df_client = df_client.withColumn(\"sexe\", regexp_replace(col(\"sexe\"), \"F\", \"f\"))\n",
    "\n",
    "#Fusionner H/M/Masculin/Hommme en H\n",
    "df_client = df_client.withColumn(\"sexe\", regexp_replace(col(\"sexe\"), \"Masculin\", \"h\"))\n",
    "df_client = df_client.withColumn(\"sexe\", regexp_replace(col(\"sexe\"), \"M\", \"h\"))\n",
    "df_client = df_client.withColumn(\"sexe\", regexp_replace(col(\"sexe\"), \"Homme\", \"h\"))\n",
    "df_client = df_client.withColumn(\"sexe\", regexp_replace(col(\"sexe\"), \"H\", \"h\"))\n",
    "\n",
    "#Remplacer les null/? par N/D\n",
    "df_client = df_client.withColumn(\"sexe\", when(col(\"sexe\") == None, \"n/d\").otherwise(col(\"sexe\")))\n",
    "df_client = df_client.withColumn(\"sexe\",when(trim(col(\"sexe\")) == \"\", \"n/d\").otherwise(col(\"sexe\")))\n",
    "df_client = df_client.withColumn(\"sexe\",when(trim(col(\"sexe\")) == \"N/D\", \"n/d\").otherwise(col(\"sexe\")))\n",
    "df_client = df_client.withColumn(\"sexe\",regexp_replace(col(\"sexe\"), r\"\\?\", \"n/d\"))"
   ]
  },
  {
   "cell_type": "code",
   "execution_count": null,
   "id": "1fa113c7-8569-4bca-8ce3-53733d87239c",
   "metadata": {},
   "outputs": [],
   "source": [
    "value_client = df_client.groupBy(\"sexe\").count()\n",
    "value_client.show()"
   ]
  },
  {
   "cell_type": "code",
   "execution_count": null,
   "id": "bc877fa4-d17b-4e86-aec4-8eb2023394c3",
   "metadata": {},
   "outputs": [],
   "source": [
    "#Analyser les différentes proportions\n",
    "\n",
    "df_counts = df_client.groupBy(\"sexe\").agg(count(\"*\").alias(\"count\"))\n",
    "total_count = df_counts.selectExpr(\"SUM(count) as total\").collect()[0][\"total\"]\n",
    "\n",
    "df_percentages = df_counts.withColumn(\"percentage\", (col(\"count\") / total_count) * 100)\n",
    "\n",
    "# Collecter les données dans un format utilisable pour Matplotlib\n",
    "data = df_percentages.collect()\n",
    "labels = [row[\"sexe\"] if row[\"sexe\"] else \"Inconnue\" for row in data]\n",
    "sizes = [row[\"percentage\"] for row in data]\n",
    "df_percentages.show()\n",
    "\n",
    "# Étape 2 : Créer le diagramme camembert\n",
    "plt.figure(figsize=(8, 8))\n",
    "plt.pie(\n",
    "    sizes, \n",
    "    labels=labels, \n",
    "    autopct=\"%1.1f%%\", \n",
    "    startangle=90, \n",
    "    colors=plt.cm.Paired.colors\n",
    ")\n",
    "\n",
    "plt.axis(\"equal\")\n",
    "\n",
    "plt.show()"
   ]
  },
  {
   "cell_type": "code",
   "execution_count": null,
   "id": "044a89a6-0552-4bbb-b06c-55d7ebab9d90",
   "metadata": {},
   "outputs": [],
   "source": [
    "#Supprimer les N/D si les proportions le permettent\n",
    "\n",
    "df_client= df_client.filter(col(\"sexe\") != \"n/d\")"
   ]
  },
  {
   "cell_type": "code",
   "execution_count": null,
   "id": "96d1aa90-8d61-4e4f-a648-a1be2b6ee037",
   "metadata": {},
   "outputs": [],
   "source": [
    "value_client = df_client.groupBy(\"sexe\").count()\n",
    "value_client.show()"
   ]
  },
  {
   "cell_type": "markdown",
   "id": "f2e2a93f-2497-43de-9930-cc26b43bef9b",
   "metadata": {},
   "source": [
    "## Traitement des null dans **deuxiemevoiture**\n",
    "\n",
    "- Calculer le pourcentage true/false\n",
    "- Remplacer les null en true et false en fonction des pourcentage de chacun."
   ]
  },
  {
   "cell_type": "code",
   "execution_count": null,
   "id": "55c5b302-a022-463f-8741-0ed8a4e0790c",
   "metadata": {},
   "outputs": [],
   "source": [
    "value_client = df_client.groupBy(\"deuxiemevoiture\").count()\n",
    "value_client.show()"
   ]
  },
  {
   "cell_type": "code",
   "execution_count": null,
   "id": "43b86ecd-da79-44d7-9c36-72f7389d49d3",
   "metadata": {},
   "outputs": [],
   "source": [
    "#Calculer le pourcentage true/false\n",
    "\n",
    "df_filtered = df_client.filter(col(\"deuxiemevoiture\").isNotNull())\n",
    "df_counts = df_filtered.groupBy(\"deuxiemevoiture\").agg(count(\"*\").alias(\"count\"))\n",
    "total_count = df_counts.selectExpr(\"SUM(count) as total\").collect()[0][\"total\"]\n",
    "\n",
    "df_percentages = df_counts.withColumn(\"percentage\", (col(\"count\") / total_count) * 100)\n",
    "\n",
    "df_percentages.show()"
   ]
  },
  {
   "cell_type": "code",
   "execution_count": null,
   "id": "75534c4d-2408-42dc-987e-8a1e4da506fc",
   "metadata": {},
   "outputs": [],
   "source": [
    "#Remplacer les null en true et false en fonction des pourcentage de chacun.\n",
    "\n",
    "df_nulls = df_client.filter(col(\"deuxiemevoiture\").isNull())\n",
    "\n",
    "# Ajouter une colonne aléatoire et assigner 'true' ou 'false' selon les proportions\n",
    "df_nulls_replaced = df_nulls.withColumn(\n",
    "    \"deuxiemevoiture\",\n",
    "    when(rand() < 0.13, True).otherwise(False)\n",
    ")\n",
    "\n",
    "# Filtrer les lignes sans 'null' dans 'deuxiemevoiture'\n",
    "df_non_nulls = df_client.filter(col(\"deuxiemevoiture\").isNotNull())\n",
    "\n",
    "# Combiner les deux DataFrames\n",
    "df_client = df_non_nulls.union(df_nulls_replaced)\n"
   ]
  },
  {
   "cell_type": "code",
   "execution_count": null,
   "id": "b99f5ef2-c534-4c88-8ad1-755e8232f6a8",
   "metadata": {},
   "outputs": [],
   "source": [
    "df_counts = df_client.groupBy(\"deuxiemevoiture\").agg(count(\"*\").alias(\"count\"))\n",
    "total_count = df_counts.selectExpr(\"SUM(count) as total\").collect()[0][\"total\"]\n",
    "\n",
    "df_percentages = df_counts.withColumn(\"percentage\", (col(\"count\") / total_count) * 100)\n",
    "\n",
    "df_percentages.show()"
   ]
  },
  {
   "cell_type": "markdown",
   "id": "bbcaee0f-5eda-4199-928a-e537fe7f36ca",
   "metadata": {},
   "source": [
    "## Traitement des null dans **immatriculation**\n",
    "\n",
    "- Compter les null\n",
    "- Compter les doublons\n",
    "- Analyser les doublons\n",
    "- Suppression des doublons"
   ]
  },
  {
   "cell_type": "code",
   "execution_count": null,
   "id": "e55d08b5-350c-4d03-b406-ec3d5a2a3ba6",
   "metadata": {},
   "outputs": [],
   "source": [
    "#Compter les null\n",
    "df_null_counts = df_client.select(\n",
    "    count(col(\"immatriculation\")).alias(\"non_null\"),\n",
    "    count(when(col(\"immatriculation\").isNull(), 1)).alias(\"null\")\n",
    ")\n",
    "\n",
    "# Afficher le résultat\n",
    "df_null_counts.show()"
   ]
  },
  {
   "cell_type": "code",
   "execution_count": null,
   "id": "fd20daea-89c7-45ae-ae83-dc977d2fc7af",
   "metadata": {},
   "outputs": [],
   "source": [
    "#Compter les doublons\n",
    "\n",
    "df_duplicates = (\n",
    "    df_client.groupBy(\"immatriculation\")\n",
    "    .agg(count(\"*\").alias(\"count\"))\n",
    "    .filter(col(\"count\") > 1)  # Filtrer les doublons (où le compte est > 1)\n",
    ")\n",
    "\n",
    "# Afficher les résultats\n",
    "df_duplicates.show()\n",
    "\n",
    "#Analyser les doublons\n",
    "\n",
    "duplicate_values = (\n",
    "    df_client.groupBy(\"immatriculation\")\n",
    "    .agg(count(\"*\").alias(\"count\"))\n",
    "    .filter(col(\"count\") > 1)  # Garde seulement les doublons\n",
    "    .select(\"immatriculation\")  # Récupère uniquement la colonne des doublons\n",
    ")\n",
    "\n",
    "df_duplicate_rows = df_client.join(\n",
    "    duplicate_values, on=\"immatriculation\", how=\"inner\"\n",
    ")\n",
    "\n",
    "# Afficher les lignes des doublons\n",
    "df_duplicate_rows.show()"
   ]
  },
  {
   "cell_type": "code",
   "execution_count": null,
   "id": "cf1fd2dc-3445-4378-877f-0b8520eaa867",
   "metadata": {},
   "outputs": [],
   "source": [
    "#Suppression des doublons\n",
    "df_client= df_client.dropDuplicates([\"immatriculation\"])"
   ]
  },
  {
   "cell_type": "code",
   "execution_count": null,
   "id": "fa37d623-df67-4dc6-88e5-45c89cd80c01",
   "metadata": {},
   "outputs": [],
   "source": [
    "df_duplicates = (\n",
    "    df_client.groupBy(\"immatriculation\")\n",
    "    .agg(count(\"*\").alias(\"count\"))\n",
    "    .filter(col(\"count\") > 1)  # Filtrer les doublons (où le compte est > 1)\n",
    ")\n",
    "\n",
    "# Afficher les résultats\n",
    "df_duplicates.show()\n"
   ]
  },
  {
   "cell_type": "markdown",
   "id": "7dcc0458-b79f-41bc-b993-e596134802bb",
   "metadata": {},
   "source": [
    "## Modification du type des colonnes occasion\n",
    "\n",
    "- Recherche des valeurs d'occasion\n",
    "- Changer le type de la colonne"
   ]
  },
  {
   "cell_type": "code",
   "execution_count": null,
   "id": "50f16b99-7b86-42e0-96a1-8e11a5758723",
   "metadata": {},
   "outputs": [],
   "source": [
    "#Recherche des valeurs d'occasion\n",
    "value_count_occasion = df_immat.groupBy(\"occasion\").count()\n",
    "\n",
    "value_count_occasion.show()"
   ]
  },
  {
   "cell_type": "code",
   "execution_count": null,
   "id": "2a22e105-629c-4609-bbc3-31738c389a45",
   "metadata": {},
   "outputs": [],
   "source": [
    "#Changer le type de la colonne\n",
    "df_immat = df_immat.withColumn(\"occasion\", df_immat[\"occasion\"].cast(BooleanType()))\n",
    "\n",
    "df_immat.printSchema()"
   ]
  },
  {
   "cell_type": "markdown",
   "id": "ac5e1bab-a73c-4398-a764-47eb58c2d483",
   "metadata": {},
   "source": [
    "## Recherche de valeurs aberrantes\n",
    "\n",
    "- Modéliser les valeurs dans un diagramme à moustaches pour mettre en avant les valeurs aberrantes.\n",
    "- Afficher les valeurs suspectes."
   ]
  },
  {
   "cell_type": "code",
   "execution_count": null,
   "id": "11a57d6b-965d-4548-b132-e273f573ed7c",
   "metadata": {},
   "outputs": [],
   "source": [
    "#Modéliser les valeurs dans un diagramme à moustaches pour mettre en avant les valeurs aberrantes.\n",
    "\n",
    "# 2. Sélectionner uniquement les colonnes numériques nécessaires\n",
    "\n",
    "df_place_porte = df_immat.select([\"nbplaces\", \"nbportes\"])\n",
    "df_prix = df_immat.select([\"prix\"])\n",
    "df_puissance = df_immat.select([\"puissance\"])\n",
    "\n",
    "# 3. Convertir le DataFrame PySpark en DataFrame Pandas\n",
    "df_place_porte= df_place_porte.toPandas()\n",
    "df_prix= df_prix.toPandas()\n",
    "df_puissance= df_puissance.toPandas()\n",
    "\n",
    "# 4. Tracer le diagramme à moustaches pour chaque colonne\n",
    "plt.figure(figsize=(12, 8))\n",
    "sns.boxplot(data=df_place_porte)\n",
    "plt.title(\"Diagramme à moustache pour détecter les valeurs aberrantes places/portes\")\n",
    "plt.xticks(rotation=45)\n",
    "plt.show()\n",
    "\n",
    "plt.figure(figsize=(12, 8))\n",
    "sns.boxplot(data=df_puissance)\n",
    "plt.title(\"Diagramme à moustache pour détecter les valeurs aberrantes puissance\")\n",
    "plt.xticks(rotation=45)\n",
    "plt.show()\n",
    "\n",
    "plt.figure(figsize=(12, 8))\n",
    "sns.boxplot(data=df_prix)\n",
    "plt.title(\"Diagramme à moustache pour détecter les valeurs aberrantes prix\")\n",
    "plt.xticks(rotation=45)\n",
    "plt.show()"
   ]
  },
  {
   "cell_type": "code",
   "execution_count": null,
   "id": "bf5a8efd-f876-4ec1-a53a-97a3af926caa",
   "metadata": {},
   "outputs": [],
   "source": [
    "#Afficher les valeurs suspectes.\n",
    "\n",
    "# Trouver la valeur maximale de la colonne \"prix\"\n",
    "prix_max = df_immat.select(max(\"prix\")).collect()[0][0]\n",
    "\n",
    "# Filtrer le DataFrame pour afficher les lignes ayant cette valeur\n",
    "df_max_prix = df_immat.filter(df_immat[\"prix\"] == prix_max)\n",
    "\n",
    "# Afficher les lignes avec le prix maximum\n",
    "df_max_prix.show()\n",
    "\n",
    "# Trouver la valeur maximale de la colonne \"prix\"\n",
    "prix_min = df_immat.select(min(\"prix\")).collect()[0][0]\n",
    "\n",
    "# Filtrer le DataFrame pour afficher les lignes ayant cette valeur\n",
    "df_min_prix = df_immat.filter(df_immat[\"prix\"] == prix_min)\n",
    "\n",
    "# Afficher les lignes avec le prix maximum\n",
    "df_min_prix.show()"
   ]
  },
  {
   "cell_type": "markdown",
   "id": "6adb29ab-eb88-42ae-a49f-0ba3b2952d21",
   "metadata": {},
   "source": [
    "## Fusion des tables **client** et **immatriculation**"
   ]
  },
  {
   "cell_type": "code",
   "execution_count": null,
   "id": "b2a93007-a313-42d7-8358-97e452d15387",
   "metadata": {},
   "outputs": [],
   "source": [
    "#Fusion des tables\n",
    "df_client_immat= df_client.join(df_immat, on= \"immatriculation\")"
   ]
  },
  {
   "cell_type": "code",
   "execution_count": null,
   "id": "3e651861-992f-4619-a760-2edd2b580743",
   "metadata": {},
   "outputs": [],
   "source": [
    "df_client_immat.show()\n",
    "df_client.count()"
   ]
  },
  {
   "cell_type": "code",
   "execution_count": null,
   "id": "28c46a1d-7554-49fd-b5ee-ad0af7556c40",
   "metadata": {},
   "outputs": [],
   "source": [
    "#Nombre de match\n",
    "match_count=df_client_immat.count()\n",
    "\n",
    "print(f\"Nombre de correspondances (matchs) : {match_count}\")"
   ]
  },
  {
   "cell_type": "code",
   "execution_count": null,
   "id": "196789f6-de20-4567-a9a7-33604006467f",
   "metadata": {},
   "outputs": [],
   "source": [
    "#Compter les doublons\n",
    "df_duplicates = (\n",
    "    df_client_immat.groupBy(\"immatriculation\")\n",
    "    .agg(count(\"*\").alias(\"count\"))\n",
    "    .filter(col(\"count\") > 1)  # Filtrer les doublons (où le compte est > 1)\n",
    ")\n",
    "\n",
    "# Afficher les résultats\n",
    "df_duplicates.count()\n"
   ]
  },
  {
   "cell_type": "code",
   "execution_count": null,
   "id": "904d583e-11c0-4b1d-9642-d5c03021fec8",
   "metadata": {},
   "outputs": [],
   "source": [
    "#Analyser les doublons\n",
    "duplicate_values = (\n",
    "    df_client_immat.groupBy(\"immatriculation\")\n",
    "    .agg(count(\"*\").alias(\"count\"))\n",
    "    .filter(col(\"count\") > 1)  # Filtrer les doublons\n",
    "    .select(\"immatriculation\")  # Récupérer les valeurs des doublons\n",
    ")\n",
    "\n",
    "# Étape 2 : Joindre pour récupérer les lignes correspondantes\n",
    "df_duplicate_rows = df_client_immat.join(\n",
    "    duplicate_values, on=\"immatriculation\", how=\"inner\"\n",
    ")\n",
    "\n",
    "# Étape 3 : Ordonnancer par 'immatriculation' et afficher une seule ligne\n",
    "df_duplicate_rows.orderBy(\"immatriculation\").show(10)"
   ]
  },
  {
   "cell_type": "code",
   "execution_count": null,
   "id": "b2f56d76-814b-4857-bd42-ed7cbaeec1d9",
   "metadata": {},
   "outputs": [],
   "source": [
    "#Supression des doublons\n",
    "df_client_immat= df_client_immat.dropDuplicates([\"immatriculation\"])"
   ]
  },
  {
   "cell_type": "code",
   "execution_count": null,
   "id": "9ecb8b34-c08d-49aa-8b69-cb0c290e412b",
   "metadata": {},
   "outputs": [],
   "source": [
    "df_duplicates = (\n",
    "    df_client_immat.groupBy(\"immatriculation\")\n",
    "    .agg(count(\"*\").alias(\"count\"))\n",
    "    .filter(col(\"count\") > 1)  # Filtrer les doublons (où le compte est > 1)\n",
    ")\n",
    "\n",
    "# Afficher les résultats\n",
    "df_duplicates.count()"
   ]
  },
  {
   "cell_type": "code",
   "execution_count": null,
   "id": "47b9e545-fd29-44a3-8a12-88468517a614",
   "metadata": {},
   "outputs": [],
   "source": [
    "df_client_immat.printSchema()"
   ]
  },
  {
   "cell_type": "code",
   "execution_count": null,
   "id": "503d7374-7ed5-4ab6-8d1b-8c64a4551d01",
   "metadata": {},
   "outputs": [],
   "source": [
    "# Ajout de la colonne 'categorie' avec des critères précis\n",
    "df_client_immat= df_client_immat.withColumn(\n",
    "    \"categorie\",\n",
    "    when(\n",
    "        (col(\"longueur\") == \"courte\") & (col(\"puissance\") < 100) & (col(\"prix\") < 20000),\n",
    "        \"citadine economique\"\n",
    "    )\n",
    "    .when(\n",
    "        (col(\"longueur\") == \"courte\") & (col(\"puissance\") >= 100) & (col(\"prix\") >= 20000),\n",
    "        \"citadine standard\"\n",
    "    )\n",
    "    .when(\n",
    "        (col(\"longueur\").isin(\"moyenne\", \"longue\")) & (col(\"nbplaces\") >= 5) & (col(\"prix\") < 35000),\n",
    "        \"familiale\"\n",
    "    )\n",
    "    .when(\n",
    "        (col(\"longueur\").isin(\"longue\", \"tres longue\")) & (col(\"nbplaces\") >= 5) & (col(\"prix\") >= 35000),\n",
    "        \"suv/crossover\"\n",
    "    )\n",
    "    .when(\n",
    "        (col(\"puissance\") >= 200) & (col(\"prix\") >= 40000),\n",
    "        \"sportive\"\n",
    "    )\n",
    "    .when(\n",
    "        (col(\"prix\") >= 50000),\n",
    "        \"luxe\"\n",
    "    )\n",
    "    .otherwise(\"autre\")\n",
    ")"
   ]
  },
  {
   "cell_type": "code",
   "execution_count": null,
   "id": "f7682629-e0c5-4291-9c77-f760b404f709",
   "metadata": {},
   "outputs": [],
   "source": [
    "df_client_immat.show()"
   ]
  },
  {
   "cell_type": "code",
   "execution_count": null,
   "id": "06c92ce2-0229-4e30-ba6c-a2c168922384",
   "metadata": {},
   "outputs": [],
   "source": [
    "value_client = df_client_immat.groupBy(\"nbenfantacharge\").count()\n",
    "value_client.show()"
   ]
  },
  {
   "cell_type": "code",
   "execution_count": null,
   "id": "a3e66371-ee0f-4e68-b9c5-7cbbbca7afaf",
   "metadata": {},
   "outputs": [],
   "source": []
  }
 ],
 "metadata": {
  "kernelspec": {
   "display_name": "Python 3 (ipykernel)",
   "language": "python",
   "name": "python3"
  },
  "language_info": {
   "codemirror_mode": {
    "name": "ipython",
    "version": 3
   },
   "file_extension": ".py",
   "mimetype": "text/x-python",
   "name": "python",
   "nbconvert_exporter": "python",
   "pygments_lexer": "ipython3",
   "version": "3.9.7"
  }
 },
 "nbformat": 4,
 "nbformat_minor": 5
}
