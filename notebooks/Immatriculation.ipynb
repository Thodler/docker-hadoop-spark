{
 "cells": [
  {
   "cell_type": "markdown",
   "id": "baa2bfe4-7c21-44c4-ac41-e54166fbfac1",
   "metadata": {},
   "source": [
    "# Analyse et nettoyage des données Immatriculation"
   ]
  },
  {
   "cell_type": "markdown",
   "id": "06210231-f09d-4ca9-aef5-36dc5872d4ed",
   "metadata": {},
   "source": [
    "## Import"
   ]
  },
  {
   "cell_type": "code",
   "execution_count": 1,
   "id": "ca8b0861-4e4d-42da-bd93-32914233fdaa",
   "metadata": {},
   "outputs": [],
   "source": [
    "from pyspark.sql import SparkSession\n",
    "import pandas as pd\n",
    "import seaborn as sns\n",
    "import matplotlib.pyplot as plt\n",
    "from pyspark.sql.types import BooleanType, FloatType\n",
    "from pyspark.sql.functions import trim, lower, col, count, regexp_replace, max, min, when"
   ]
  },
  {
   "cell_type": "markdown",
   "id": "73c38c06-6935-4660-9f68-419add6f868e",
   "metadata": {},
   "source": [
    "## Session spark"
   ]
  },
  {
   "cell_type": "code",
   "execution_count": 2,
   "id": "e99432de-3a23-4f1f-b10d-79a445a09bf9",
   "metadata": {},
   "outputs": [
    {
     "name": "stderr",
     "output_type": "stream",
     "text": [
      "WARNING: An illegal reflective access operation has occurred\n",
      "WARNING: Illegal reflective access by org.apache.spark.unsafe.Platform (file:/usr/local/spark-3.2.0-bin-hadoop3.2/jars/spark-unsafe_2.12-3.2.0.jar) to constructor java.nio.DirectByteBuffer(long,int)\n",
      "WARNING: Please consider reporting this to the maintainers of org.apache.spark.unsafe.Platform\n",
      "WARNING: Use --illegal-access=warn to enable warnings of further illegal reflective access operations\n",
      "WARNING: All illegal access operations will be denied in a future release\n",
      "Using Spark's default log4j profile: org/apache/spark/log4j-defaults.properties\n",
      "Setting default log level to \"WARN\".\n",
      "To adjust logging level use sc.setLogLevel(newLevel). For SparkR, use setLogLevel(newLevel).\n",
      "24/11/14 16:13:58 WARN NativeCodeLoader: Unable to load native-hadoop library for your platform... using builtin-java classes where applicable\n"
     ]
    }
   ],
   "source": [
    "spark = SparkSession.builder\\\n",
    "    .appName(\"CleanImmatriculation\")\\\n",
    "    .enableHiveSupport()\\\n",
    "    .getOrCreate()"
   ]
  },
  {
   "cell_type": "markdown",
   "id": "32087677-1413-402e-a97f-3c44e3349093",
   "metadata": {},
   "source": [
    "## Import des données"
   ]
  },
  {
   "cell_type": "code",
   "execution_count": 3,
   "id": "5248f82d-c16e-443d-ab23-6b1cc8897f9e",
   "metadata": {},
   "outputs": [
    {
     "name": "stderr",
     "output_type": "stream",
     "text": [
      "                                                                                \r"
     ]
    },
    {
     "name": "stdout",
     "output_type": "stream",
     "text": [
      "+---------------+----------+----------------+---------+-----------+--------+--------+-------+--------+-----+\n",
      "|immatriculation|    marque|             nom|puissance|   longueur|nbplaces|nbportes|couleur|occasion| prix|\n",
      "+---------------+----------+----------------+---------+-----------+--------+--------+-------+--------+-----+\n",
      "|     9113 ZK 61|      Saab|        9.3 1.8T|      150|     longue|       5|       5|  blanc|   false|38600|\n",
      "|     9088 UW 52|    Nissan|   Maxima 3.0 V6|      200|tr�s longue|       5|       5|   bleu|   false|30000|\n",
      "|     3594 DX 21|Volkswagen|     Polo 1.2 6V|       55|     courte|       5|       3|   gris|    true| 8540|\n",
      "|     9665 OD 25|   Renault|Vel Satis 3.5 V6|      245|tr�s longue|       5|       5|  rouge|   false|49200|\n",
      "|     3745 QT 98|      Saab|        9.3 1.8T|      150|     longue|       5|       5|   gris|    true|27020|\n",
      "|      110 UO 91|    Nissan|      Almera 1.8|      115|    moyenne|       5|       5|   bleu|   false|16450|\n",
      "|     3024 NS 68|     Volvo|          S80 T6|      272|tr�s longue|       5|       5|  rouge|   false|50500|\n",
      "|     1433 QH 77|Volkswagen|    Golf 2.0 FSI|      150|    moyenne|       5|       5|   bleu|   false|22900|\n",
      "|     4865 ID 89|      Audi|          A2 1.4|       75|     courte|       5|       5|  blanc|   false|18310|\n",
      "|     5334 AL 69|Volkswagen|    Golf 2.0 FSI|      150|    moyenne|       5|       5|  blanc|    true|16029|\n",
      "|     7326 XP 98|      Saab|        9.3 1.8T|      150|     longue|       5|       5|  rouge|    true|27020|\n",
      "|     4307 XJ 84|      Audi|          A2 1.4|       75|     courte|       5|       5|   gris|   false|18310|\n",
      "|      985 ZD 20|       BMW|              M5|      507|tr�s longue|       5|       5|  rouge|   false|94800|\n",
      "|     4908 PQ 39|      Audi|          A2 1.4|       75|     courte|       5|       5|  rouge|    true|12817|\n",
      "|     1988 QH 68|   Renault|Vel Satis 3.5 V6|      245|tr�s longue|       5|       5|   noir|   false|49200|\n",
      "|     3470 IL 96|      Ford|      Mondeo 1.8|      125|     longue|       5|       5|   bleu|   false|23900|\n",
      "|     7526 DQ 31|       BMW|              M5|      507|tr�s longue|       5|       5|   bleu|   false|94800|\n",
      "|     3108 PG 59|      Audi|          A2 1.4|       75|     courte|       5|       5|   noir|    true|12817|\n",
      "|     3099 QU 84|    Jaguar|   X-Type 2.5 V6|      197|     longue|       5|       5|  rouge|   false|37100|\n",
      "|     8557 XV 50|       BMW|              M5|      507|tr�s longue|       5|       5|   gris|   false|94800|\n",
      "+---------------+----------+----------------+---------+-----------+--------+--------+-------+--------+-----+\n",
      "only showing top 20 rows\n",
      "\n",
      "+----+----+----+------------------+---------------+---------------+---------------+\n",
      "| age|sexe|taux|situationfamiliale|nbenfantacharge|deuxiemevoiture|immatriculation|\n",
      "+----+----+----+------------------+---------------+---------------+---------------+\n",
      "|null|sexe|null|situationFamiliale|           null|           null|immatriculation|\n",
      "|  40|   M| 400|         En Couple|              1|          false|     7982 PU 33|\n",
      "|  42|   M| 525|         En Couple|              1|          false|     7501 DZ 26|\n",
      "|  28|   M|1066|       C�libataire|              0|          false|     6461 JH 46|\n",
      "|  44|   F| 237|       C�libataire|              0|          false|     8430 FZ 18|\n",
      "|  75|   M| 563|       C�libataire|              0|          false|     4429 QQ 61|\n",
      "|  56|   M| 840|         En Couple|              0|          false|     3509 CA 60|\n",
      "|  28|   M| 414|         En Couple|              2|          false|     5010 JT 73|\n",
      "|  42|   M| 209|       C�libataire|              0|          false|     6353 BI 12|\n",
      "|  59|   M| 775|         En Couple|              1|          false|     8452 QA 32|\n",
      "|  43|   M| 438|       C�libataire|              0|          false|     6369 FT 49|\n",
      "|  53|   M|1056|         En Couple|              0|          false|      378 QN 86|\n",
      "|  37|   M|1206|         En Couple|              2|           true|     3271 YD 50|\n",
      "|  58|   M| 150|       C�libataire|              0|          false|       79 XA 39|\n",
      "|  80|   M| 221|         En Couple|              0|          false|     1574 EU 28|\n",
      "|  32|   M| 173|         En Couple|              2|          false|     8768 QS 95|\n",
      "|  56|   M| 466|       C�libataire|              0|          false|      548 HQ 47|\n",
      "|  48|   M| 973|             Seule|              1|          false|     2940 CE 72|\n",
      "|  18|   F|1175|         En Couple|              3|           true|     5816 HM 54|\n",
      "|  59|   M|1064|         En Couple|              0|          false|     5250 ZW 33|\n",
      "+----+----+----+------------------+---------------+---------------+---------------+\n",
      "only showing top 20 rows\n",
      "\n"
     ]
    },
    {
     "data": {
      "text/plain": [
       "100001"
      ]
     },
     "execution_count": 3,
     "metadata": {},
     "output_type": "execute_result"
    }
   ],
   "source": [
    "spark.sparkContext.setLogLevel(\"OFF\")\n",
    "spark.catalog.clearCache()\n",
    "spark.sql(\"USE concessionnaire\")\n",
    "\n",
    "df_immat = spark.sql(\"SELECT * FROM immatriculations_ext\")\n",
    "df_client = spark.sql(\"SELECT * FROM clients\")\n",
    "\n",
    "df_immat.show()\n",
    "df_client.show()\n",
    "df_client.count()"
   ]
  },
  {
   "cell_type": "markdown",
   "id": "653d3ebe-8aab-4e6a-8100-123c6838da8d",
   "metadata": {},
   "source": [
    "## Analyse\n",
    "\n",
    "### Casse\n",
    "- Renommage de la colonne \"nom\" en \"modele\" dans la table **immatriculation**\n",
    "- Normalisation des marques de la table **immatriculation**\n",
    "- Normalisation des modèles de la table **immatriculation**\n",
    "- Suppression de la 1ère ligne de la table **clients**"
   ]
  },
  {
   "cell_type": "markdown",
   "id": "a2a0d368-8732-4b4a-b13b-3d826c12dc0a",
   "metadata": {},
   "source": [
    "#### Traitement Immatriculation"
   ]
  },
  {
   "cell_type": "code",
   "execution_count": 4,
   "id": "cee58fd9-7b53-4579-afbc-f258b55fd472",
   "metadata": {},
   "outputs": [
    {
     "name": "stdout",
     "output_type": "stream",
     "text": [
      "root\n",
      " |-- immatriculation: string (nullable = true)\n",
      " |-- marque: string (nullable = true)\n",
      " |-- modele: string (nullable = true)\n",
      " |-- puissance: integer (nullable = true)\n",
      " |-- longueur: string (nullable = true)\n",
      " |-- nbplaces: integer (nullable = true)\n",
      " |-- nbportes: integer (nullable = true)\n",
      " |-- couleur: string (nullable = true)\n",
      " |-- occasion: string (nullable = true)\n",
      " |-- prix: integer (nullable = true)\n",
      "\n"
     ]
    }
   ],
   "source": [
    "#Renommage de la colonne \"nom\" en \"modele\"\n",
    "df_immat = df_immat.withColumnRenamed(\"nom\", \"modele\")\n",
    "\n",
    "df_immat.printSchema()"
   ]
  },
  {
   "cell_type": "code",
   "execution_count": 5,
   "id": "c5bb66a6-e6d2-41f5-a174-5f099c1d62d1",
   "metadata": {},
   "outputs": [],
   "source": [
    "#Normalisation des marques\n",
    "df_immat = df_immat.withColumn(\"marque\", lower(trim(col(\"marque\"))))\n",
    "\n",
    "#Normalisation des modèles\n",
    "df_immat = df_immat.withColumn(\"modele\", lower(trim(col(\"modele\"))))"
   ]
  },
  {
   "cell_type": "code",
   "execution_count": 6,
   "id": "9760a566-4053-41d4-9a12-b1099def5795",
   "metadata": {},
   "outputs": [
    {
     "name": "stdout",
     "output_type": "stream",
     "text": [
      "+---------------+----------+----------------+---------+-----------+--------+--------+-------+--------+-----+\n",
      "|immatriculation|    marque|          modele|puissance|   longueur|nbplaces|nbportes|couleur|occasion| prix|\n",
      "+---------------+----------+----------------+---------+-----------+--------+--------+-------+--------+-----+\n",
      "|     9113 ZK 61|      saab|        9.3 1.8t|      150|     longue|       5|       5|  blanc|   false|38600|\n",
      "|     9088 UW 52|    nissan|   maxima 3.0 v6|      200|tr�s longue|       5|       5|   bleu|   false|30000|\n",
      "|     3594 DX 21|volkswagen|     polo 1.2 6v|       55|     courte|       5|       3|   gris|    true| 8540|\n",
      "|     9665 OD 25|   renault|vel satis 3.5 v6|      245|tr�s longue|       5|       5|  rouge|   false|49200|\n",
      "|     3745 QT 98|      saab|        9.3 1.8t|      150|     longue|       5|       5|   gris|    true|27020|\n",
      "+---------------+----------+----------------+---------+-----------+--------+--------+-------+--------+-----+\n",
      "only showing top 5 rows\n",
      "\n"
     ]
    }
   ],
   "source": [
    "df_immat.show(n=5)"
   ]
  },
  {
   "cell_type": "markdown",
   "id": "febeabe8-5351-40fe-95bd-d1679034e2ba",
   "metadata": {},
   "source": [
    "#### Traitemment Client"
   ]
  },
  {
   "cell_type": "code",
   "execution_count": 7,
   "id": "a8ec8cf6-f347-4e79-9a53-426bf33aa894",
   "metadata": {},
   "outputs": [
    {
     "name": "stdout",
     "output_type": "stream",
     "text": [
      "+---+----+----+------------------+---------------+---------------+---------------+\n",
      "|age|sexe|taux|situationfamiliale|nbenfantacharge|deuxiemevoiture|immatriculation|\n",
      "+---+----+----+------------------+---------------+---------------+---------------+\n",
      "| 40|   M| 400|         En Couple|              1|          false|     7982 PU 33|\n",
      "| 42|   M| 525|         En Couple|              1|          false|     7501 DZ 26|\n",
      "| 28|   M|1066|       C�libataire|              0|          false|     6461 JH 46|\n",
      "+---+----+----+------------------+---------------+---------------+---------------+\n",
      "only showing top 3 rows\n",
      "\n"
     ]
    }
   ],
   "source": [
    "#Suppression de la 1ère ligne de la table clients\n",
    "\n",
    "df_client = df_client.filter(df_client['immatriculation'] != 'immatriculation')\n",
    "\n",
    "df_client.show(n=3)"
   ]
  },
  {
   "cell_type": "markdown",
   "id": "4e8e4b59-ab9b-45aa-8632-1534b815c3aa",
   "metadata": {},
   "source": [
    "### Recherche des caractères spéciaux\n",
    "\n",
    "- Recherche du symbole \"�\"\n",
    "- Recherche du caractère \"ã©\""
   ]
  },
  {
   "cell_type": "code",
   "execution_count": 8,
   "id": "e6b02c6f-cc82-4b60-b884-b931406e0ebc",
   "metadata": {},
   "outputs": [
    {
     "name": "stdout",
     "output_type": "stream",
     "text": [
      "root\n",
      " |-- age: integer (nullable = true)\n",
      " |-- sexe: string (nullable = true)\n",
      " |-- taux: integer (nullable = true)\n",
      " |-- situationfamiliale: string (nullable = true)\n",
      " |-- nbenfantacharge: integer (nullable = true)\n",
      " |-- deuxiemevoiture: boolean (nullable = true)\n",
      " |-- immatriculation: string (nullable = true)\n",
      "\n"
     ]
    }
   ],
   "source": [
    "df_client.printSchema()"
   ]
  },
  {
   "cell_type": "code",
   "execution_count": 9,
   "id": "c5179236-fad3-4252-8126-25d761e83fac",
   "metadata": {},
   "outputs": [],
   "source": [
    "#Recherche du symbole \"�\"\n",
    "\n",
    "#table immatriculation\n",
    "df_search_special_char_immat = df_immat.filter(\n",
    "    col(\"immatriculation\").like(\"%�%\") | \n",
    "    col(\"marque\").like(\"%�%\") | \n",
    "    col(\"modele\").like(\"%�%\") | \n",
    "    col(\"longueur\").like(\"%�%\") |\n",
    "    col(\"couleur\").like(\"%�%\") | \n",
    "    col(\"occasion\").like(\"%�%\")\n",
    ")\n",
    "\n",
    "#table clients\n",
    "df_search_special_char_client = df_client.filter(\n",
    "    col(\"sexe\").like(\"%�%\") |\n",
    "    col(\"immatriculation\").like(\"%�%\")\n",
    ")\n",
    "\n",
    "value_client = df_client.groupBy(\"situationfamiliale\").count()\n"
   ]
  },
  {
   "cell_type": "code",
   "execution_count": 10,
   "id": "a87e1d8d-df04-4612-a9c0-81f40e5d9e94",
   "metadata": {},
   "outputs": [
    {
     "name": "stdout",
     "output_type": "stream",
     "text": [
      "+---------------+--------+----------------+---------+-----------+--------+--------+-------+--------+-----+\n",
      "|immatriculation|  marque|          modele|puissance|   longueur|nbplaces|nbportes|couleur|occasion| prix|\n",
      "+---------------+--------+----------------+---------+-----------+--------+--------+-------+--------+-----+\n",
      "|     9088 UW 52|  nissan|   maxima 3.0 v6|      200|tr�s longue|       5|       5|   bleu|   false|30000|\n",
      "|     9665 OD 25| renault|vel satis 3.5 v6|      245|tr�s longue|       5|       5|  rouge|   false|49200|\n",
      "|     3024 NS 68|   volvo|          s80 t6|      272|tr�s longue|       5|       5|  rouge|   false|50500|\n",
      "|      985 ZD 20|     bmw|              m5|      507|tr�s longue|       5|       5|  rouge|   false|94800|\n",
      "|     1988 QH 68| renault|vel satis 3.5 v6|      245|tr�s longue|       5|       5|   noir|   false|49200|\n",
      "|     7526 DQ 31|     bmw|              m5|      507|tr�s longue|       5|       5|   bleu|   false|94800|\n",
      "|     8557 XV 50|     bmw|              m5|      507|tr�s longue|       5|       5|   gris|   false|94800|\n",
      "|     5000 HE 92|     bmw|              m5|      507|tr�s longue|       5|       5|   noir|    true|66360|\n",
      "|     2185 BF 30| renault|vel satis 3.5 v6|      245|tr�s longue|       5|       5|  rouge|   false|49200|\n",
      "|      486 EH 20|     bmw|              m5|      507|tr�s longue|       5|       5|  rouge|   false|94800|\n",
      "|     3549 SJ 14|   volvo|          s80 t6|      272|tr�s longue|       5|       5|   gris|   false|50500|\n",
      "|      317 OP 55|     bmw|              m5|      507|tr�s longue|       5|       5|   noir|   false|94800|\n",
      "|     8785 QE 92| renault|vel satis 3.5 v6|      245|tr�s longue|       5|       5|  blanc|   false|49200|\n",
      "|     9465 EB 93|   volvo|          s80 t6|      272|tr�s longue|       5|       5|   noir|   false|50500|\n",
      "|     4773 KD 13| renault|vel satis 3.5 v6|      245|tr�s longue|       5|       5|   gris|    true|34440|\n",
      "|     9858 ZB 92|     bmw|              m5|      507|tr�s longue|       5|       5|  blanc|    true|66360|\n",
      "|     2485 AN 29|     bmw|              m5|      507|tr�s longue|       5|       5|  blanc|   false|94800|\n",
      "|      191 AK 76|     bmw|              m5|      507|tr�s longue|       5|       5|  rouge|   false|94800|\n",
      "|     3447 SV 20|   skoda|   superb 2.8 v6|      193|tr�s longue|       5|       5|   bleu|   false|31790|\n",
      "|     5062 NA 45|mercedes|            s500|      306|tr�s longue|       5|       5|  rouge|    true|70910|\n",
      "+---------------+--------+----------------+---------+-----------+--------+--------+-------+--------+-----+\n",
      "only showing top 20 rows\n",
      "\n"
     ]
    },
    {
     "name": "stderr",
     "output_type": "stream",
     "text": [
      "                                                                                \r"
     ]
    },
    {
     "name": "stdout",
     "output_type": "stream",
     "text": [
      "+---+----+----+------------------+---------------+---------------+---------------+\n",
      "|age|sexe|taux|situationfamiliale|nbenfantacharge|deuxiemevoiture|immatriculation|\n",
      "+---+----+----+------------------+---------------+---------------+---------------+\n",
      "+---+----+----+------------------+---------------+---------------+---------------+\n",
      "\n",
      "+------------------+-----+\n",
      "|situationfamiliale|count|\n",
      "+------------------+-----+\n",
      "|          Divorc�e|   56|\n",
      "|          Mari�(e)|  635|\n",
      "|              Seul|  298|\n",
      "|       C�libataire|29862|\n",
      "|             Seule| 4787|\n",
      "|               N/D|   94|\n",
      "|                  |   97|\n",
      "|         En Couple|64056|\n",
      "|                 ?|  115|\n",
      "+------------------+-----+\n",
      "\n"
     ]
    }
   ],
   "source": [
    "df_search_special_char_immat.show()\n",
    "df_search_special_char_client.show()\n",
    "value_client.show()"
   ]
  },
  {
   "cell_type": "code",
   "execution_count": 11,
   "id": "34ceecba-7ea6-4fa1-8ce2-fe49ad93ef0b",
   "metadata": {},
   "outputs": [],
   "source": [
    "#Recherche du caractère \"ã©\"\n",
    "\n",
    "#table immatriculation\n",
    "df_search_special_char_2_immat = df_immat.filter(\n",
    "    col(\"immatriculation\").like(\"%ã©%\") | \n",
    "    col(\"marque\").like(\"%ã©%\") | \n",
    "    col(\"modele\").like(\"%ã©%\") | \n",
    "    col(\"longueur\").like(\"%ã©%\") |\n",
    "    col(\"couleur\").like(\"%ã©%\") | \n",
    "    col(\"occasion\").like(\"%ã©%\")\n",
    ")\n",
    "\n",
    "#table clients\n",
    "df_search_special_char_2_client = df_client.filter(\n",
    "    col(\"sexe\").like(\"%ã©%\") | \n",
    "    col(\"situationfamiliale\").like(\"%ã©%\") | \n",
    "    col(\"immatriculation\").like(\"%ã©%\")\n",
    ")"
   ]
  },
  {
   "cell_type": "code",
   "execution_count": 12,
   "id": "c15b8bbd-ea84-46f6-9a7d-0cb61ef51e8a",
   "metadata": {},
   "outputs": [
    {
     "name": "stderr",
     "output_type": "stream",
     "text": [
      "                                                                                \r"
     ]
    },
    {
     "name": "stdout",
     "output_type": "stream",
     "text": [
      "+---------------+------+------+---------+--------+--------+--------+-------+--------+----+\n",
      "|immatriculation|marque|modele|puissance|longueur|nbplaces|nbportes|couleur|occasion|prix|\n",
      "+---------------+------+------+---------+--------+--------+--------+-------+--------+----+\n",
      "+---------------+------+------+---------+--------+--------+--------+-------+--------+----+\n",
      "\n",
      "+---+----+----+------------------+---------------+---------------+---------------+\n",
      "|age|sexe|taux|situationfamiliale|nbenfantacharge|deuxiemevoiture|immatriculation|\n",
      "+---+----+----+------------------+---------------+---------------+---------------+\n",
      "+---+----+----+------------------+---------------+---------------+---------------+\n",
      "\n"
     ]
    }
   ],
   "source": [
    "df_search_special_char_2_immat.show()\n",
    "df_search_special_char_2_client.show()"
   ]
  },
  {
   "cell_type": "markdown",
   "id": "94f266c9-4bd6-479a-819d-f5290ba6eb8d",
   "metadata": {},
   "source": [
    "### Correction des caractères spéciaux\n",
    "\n",
    "- Correction du symbole \"�\" dans la colonne \"longueur\".\n"
   ]
  },
  {
   "cell_type": "code",
   "execution_count": 13,
   "id": "7a604c7f-8a55-43a4-bc3d-4556e4e48317",
   "metadata": {},
   "outputs": [],
   "source": [
    "#Correction du symbole \"�\" dans la colonne \"longueur\"\n",
    "\n",
    "df_immat = df_immat.withColumn(\"longueur\", regexp_replace(col(\"longueur\"), \"�\", \"e\"))\n",
    "\n",
    "df_client = df_client.withColumn(\"situationfamiliale\", regexp_replace(col(\"situationfamiliale\"), \"�\", \"e\"))\n"
   ]
  },
  {
   "cell_type": "code",
   "execution_count": 14,
   "id": "ab073229-fca2-4d82-91ed-e649bf3120fc",
   "metadata": {},
   "outputs": [
    {
     "name": "stdout",
     "output_type": "stream",
     "text": [
      "+------------------+-----+\n",
      "|situationfamiliale|count|\n",
      "+------------------+-----+\n",
      "|              Seul|  298|\n",
      "|       Celibataire|29862|\n",
      "|             Seule| 4787|\n",
      "|          Marie(e)|  635|\n",
      "|               N/D|   94|\n",
      "|                  |   97|\n",
      "|         En Couple|64056|\n",
      "|                 ?|  115|\n",
      "|          Divorcee|   56|\n",
      "+------------------+-----+\n",
      "\n"
     ]
    },
    {
     "name": "stderr",
     "output_type": "stream",
     "text": [
      "[Stage 19:===================>                                      (1 + 2) / 3]\r"
     ]
    },
    {
     "name": "stdout",
     "output_type": "stream",
     "text": [
      "+---------------+------+------+---------+--------+--------+--------+-------+--------+----+\n",
      "|immatriculation|marque|modele|puissance|longueur|nbplaces|nbportes|couleur|occasion|prix|\n",
      "+---------------+------+------+---------+--------+--------+--------+-------+--------+----+\n",
      "+---------------+------+------+---------+--------+--------+--------+-------+--------+----+\n",
      "\n"
     ]
    },
    {
     "name": "stderr",
     "output_type": "stream",
     "text": [
      "                                                                                \r"
     ]
    }
   ],
   "source": [
    "\n",
    "df_search_special_char_immat = df_immat.filter(\n",
    "    col(\"immatriculation\").like(\"%�%\") | \n",
    "    col(\"marque\").like(\"%�%\") | \n",
    "    col(\"modele\").like(\"%�%\") | \n",
    "    col(\"longueur\").like(\"%�%\") |\n",
    "    col(\"couleur\").like(\"%�%\") | \n",
    "    col(\"occasion\").like(\"%�%\")\n",
    ")\n",
    "\n",
    "value_client = df_client.groupBy(\"situationfamiliale\").count()\n",
    "\n",
    "value_client.show()\n",
    "\n",
    "df_search_special_char_immat.show()"
   ]
  },
  {
   "cell_type": "markdown",
   "id": "8f59c20c-2b9f-43cf-baf1-f2163a12ed07",
   "metadata": {},
   "source": [
    "## Recherche et correction des Null\n",
    "\n",
    "- Recherche des null"
   ]
  },
  {
   "cell_type": "code",
   "execution_count": 15,
   "id": "e576ac3b-bc6b-4108-b379-75b0f6207b61",
   "metadata": {},
   "outputs": [],
   "source": [
    "\n",
    "#Recherche des null\n",
    "\n",
    "# Liste des colonnes du DataFrame\n",
    "colonnes_immat = df_immat.columns\n",
    "\n",
    "# Filtrer pour conserver uniquement les lignes où au moins une colonne est nulle\n",
    "df_immat_nulls = df_immat.filter(\n",
    "    sum(col(colonne_immat).isNull().cast(\"int\") for colonne_immat in colonnes_immat) > 0\n",
    ")\n",
    "\n",
    "# Liste des colonnes du DataFrame\n",
    "colonnes_client = df_client.columns\n",
    "\n",
    "# Filtrer pour conserver uniquement les lignes où au moins une colonne est nulle\n",
    "df_client_nulls = df_client.filter(\n",
    "    sum(col(colonne_client).isNull().cast(\"int\") for colonne_client in colonnes_client) > 0\n",
    ")"
   ]
  },
  {
   "cell_type": "code",
   "execution_count": 16,
   "id": "a4fe5464-e10a-46ad-add1-fa61f6aa56ab",
   "metadata": {},
   "outputs": [
    {
     "name": "stderr",
     "output_type": "stream",
     "text": [
      "                                                                                \r"
     ]
    },
    {
     "name": "stdout",
     "output_type": "stream",
     "text": [
      "+---------------+------+------+---------+--------+--------+--------+-------+--------+----+\n",
      "|immatriculation|marque|modele|puissance|longueur|nbplaces|nbportes|couleur|occasion|prix|\n",
      "+---------------+------+------+---------+--------+--------+--------+-------+--------+----+\n",
      "+---------------+------+------+---------+--------+--------+--------+-------+--------+----+\n",
      "\n",
      "+----+----+----+------------------+---------------+---------------+---------------+\n",
      "| age|sexe|taux|situationfamiliale|nbenfantacharge|deuxiemevoiture|immatriculation|\n",
      "+----+----+----+------------------+---------------+---------------+---------------+\n",
      "|null|   M|1179|       Celibataire|              0|          false|     4277 VS 97|\n",
      "|null|   M| 426|         En Couple|              1|          false|     1192 RE 88|\n",
      "|  37|   M|null|       Celibataire|              0|          false|     8980 MQ 19|\n",
      "|  26|   M|null|         En Couple|              3|          false|     5356 OE 81|\n",
      "|  45|   M| 408|         En Couple|           null|           true|     1477 YN 25|\n",
      "|  52|   M|1230|         En Couple|              3|           null|     9068 VL 70|\n",
      "|  56|   M|1283|       Celibataire|           null|          false|     2034 MN 96|\n",
      "|null|   M| 419|         En Couple|              1|          false|     3657 DE 89|\n",
      "|  40|   F|null|         En Couple|              3|          false|     6464 UK 41|\n",
      "|  53|   F| 724|             Seule|           null|          false|     5104 HS 33|\n",
      "|null|   M| 543|         En Couple|              4|          false|     4012 KC 78|\n",
      "|  57|   M|1042|         En Couple|              2|           null|     5989 UD 46|\n",
      "|  57|   M|1321|         En Couple|           null|          false|     3749 EE 21|\n",
      "|  25|   F| 400|         En Couple|           null|          false|     9038 JZ 85|\n",
      "|  34|   M|null|       Celibataire|              0|          false|     5328 QS 83|\n",
      "|  55|   F| 510|         En Couple|           null|          false|     7332 QH 31|\n",
      "|  19|   M| 829|       Celibataire|              0|           null|     6775 VI 36|\n",
      "|null|   F| 163|         En Couple|              4|           true|     6391 JG 28|\n",
      "|  67|   M| 862|       Celibataire|              0|           null|     7913 XB 24|\n",
      "|  53|   M|1220|         En Couple|           null|          false|      905 YY 25|\n",
      "+----+----+----+------------------+---------------+---------------+---------------+\n",
      "only showing top 20 rows\n",
      "\n"
     ]
    }
   ],
   "source": [
    "# Afficher les lignes avec des valeurs nulles\n",
    "df_immat_nulls.show()\n",
    "df_client_nulls.show()"
   ]
  },
  {
   "cell_type": "markdown",
   "id": "e947bd8f-61cd-4d70-91fc-dc8bf02f010c",
   "metadata": {},
   "source": [
    "## Traitement des nulls dans la table **age**\n",
    "\n",
    "- Analyse des valeurs inférieur à 18.\n",
    "- Mettre à null les valeurs inférieures à 18 ans.\n",
    "- Calculer la médiane.\n",
    "- Remplacer les nulls par la médiane."
   ]
  },
  {
   "cell_type": "code",
   "execution_count": 17,
   "id": "2f898c6a-173c-45c5-8b34-086a308f0c9e",
   "metadata": {},
   "outputs": [],
   "source": [
    "#Analyse des valeurs inférieur à 18.\n",
    "\n",
    "# Ajouter une colonne qui spécifie si l'âge est inférieur à 18\n",
    "df_client = df_client.withColumn(\"age_below_18\", when(col(\"age\") < 18, 1).otherwise(0))\n",
    "\n",
    "# Compter les lignes où \"age_below_18\" est 1\n",
    "count_grouped = df_client.groupBy(\"age_below_18\").count()\n",
    "\n"
   ]
  },
  {
   "cell_type": "code",
   "execution_count": 18,
   "id": "b28acbbe-62ce-4ca2-96ff-6b4aed3c0806",
   "metadata": {},
   "outputs": [
    {
     "name": "stdout",
     "output_type": "stream",
     "text": [
      "+------------+-----+\n",
      "|age_below_18|count|\n",
      "+------------+-----+\n",
      "|           1|  103|\n",
      "|           0|99897|\n",
      "+------------+-----+\n",
      "\n"
     ]
    }
   ],
   "source": [
    "# Afficher les résultats\n",
    "count_grouped.show()\n"
   ]
  },
  {
   "cell_type": "code",
   "execution_count": 19,
   "id": "d4c6a035-4f38-41d0-ba6d-7d5bdf7da6ce",
   "metadata": {},
   "outputs": [],
   "source": [
    "#Mettre à null les valeurs inférieures à 18 ans.\n",
    "\n",
    "df_client = df_client.withColumn(\"age\", when(col(\"age\") == -1, None).otherwise(col(\"age\")))\n",
    "df_client = df_client.withColumn(\"age\", when(col(\"age\") == 0, None).otherwise(col(\"age\")))\n",
    "\n",
    "#Calculer la médiane.\n",
    "mediane = df_client.approxQuantile(\"age\", [0.5], 0.01)[0]\n",
    "\n",
    "#Remplacer les nulls par la médiane.\n",
    "df_client = df_client.withColumn(\"age\", when(col(\"age\").isNull(), mediane).otherwise(col(\"age\")))\n",
    "\n",
    "\n"
   ]
  },
  {
   "cell_type": "code",
   "execution_count": 20,
   "id": "0c18637a-71f2-42f8-a3bc-f016a6e7455c",
   "metadata": {},
   "outputs": [
    {
     "name": "stdout",
     "output_type": "stream",
     "text": [
      "Médiane: 42.0\n"
     ]
    },
    {
     "name": "stderr",
     "output_type": "stream",
     "text": [
      "[Stage 27:>                                                         (0 + 1) / 1]\r"
     ]
    },
    {
     "name": "stdout",
     "output_type": "stream",
     "text": [
      "+----+-----+\n",
      "| age|count|\n",
      "+----+-----+\n",
      "|70.0|  763|\n",
      "|67.0|  789|\n",
      "|69.0|  801|\n",
      "|49.0| 1645|\n",
      "|29.0| 2464|\n",
      "|75.0|  795|\n",
      "|64.0|  869|\n",
      "|47.0| 1667|\n",
      "|42.0| 1978|\n",
      "|44.0| 1604|\n",
      "|35.0| 1592|\n",
      "|62.0|  810|\n",
      "|18.0| 2516|\n",
      "|80.0|  785|\n",
      "|39.0| 1700|\n",
      "|37.0| 1655|\n",
      "|34.0| 1661|\n",
      "|25.0| 2461|\n",
      "|36.0| 1676|\n",
      "|41.0| 1637|\n",
      "+----+-----+\n",
      "only showing top 20 rows\n",
      "\n"
     ]
    },
    {
     "name": "stderr",
     "output_type": "stream",
     "text": [
      "                                                                                \r"
     ]
    }
   ],
   "source": [
    "# Afficher la médiane\n",
    "print(\"Médiane:\", mediane)\n",
    "\n",
    "value_client = df_client.groupBy(\"age\").count()\n",
    "\n",
    "\n",
    "value_client.show()"
   ]
  },
  {
   "cell_type": "markdown",
   "id": "a8ce819d-4af8-4974-ba8f-ac995e2f050d",
   "metadata": {},
   "source": [
    "## traitement des null dans **taux**\n",
    "\n",
    "- Nettoyer situation familiale\n",
    "    -- Fusionner seul/seule en Celibataire\n",
    "    -- Remplacer les null/? par N/D\n",
    "\n",
    "- faire la moyenne des taux par valeur de situation familiale\n",
    "- Remplacer les nulls"
   ]
  },
  {
   "cell_type": "code",
   "execution_count": 21,
   "id": "8738fb5a-7d0e-464e-87b4-ab518c5973c7",
   "metadata": {},
   "outputs": [
    {
     "ename": "NameError",
     "evalue": "name 'replace' is not defined",
     "output_type": "error",
     "traceback": [
      "\u001b[0;31m---------------------------------------------------------------------------\u001b[0m",
      "\u001b[0;31mNameError\u001b[0m                                 Traceback (most recent call last)",
      "\u001b[0;32m/tmp/ipykernel_8525/3399244356.py\u001b[0m in \u001b[0;36m<module>\u001b[0;34m\u001b[0m\n\u001b[1;32m      6\u001b[0m \u001b[0mdf_client\u001b[0m \u001b[0;34m=\u001b[0m \u001b[0mdf_client\u001b[0m\u001b[0;34m.\u001b[0m\u001b[0mwithColumn\u001b[0m\u001b[0;34m(\u001b[0m\u001b[0;34m\"situationfamiliale\"\u001b[0m\u001b[0;34m,\u001b[0m \u001b[0mregexp_replace\u001b[0m\u001b[0;34m(\u001b[0m\u001b[0mcol\u001b[0m\u001b[0;34m(\u001b[0m\u001b[0;34m\"situationfamiliale\"\u001b[0m\u001b[0;34m)\u001b[0m\u001b[0;34m,\u001b[0m \u001b[0;34m\"Divorcee\"\u001b[0m\u001b[0;34m,\u001b[0m \u001b[0;34m\"Divorce\"\u001b[0m\u001b[0;34m)\u001b[0m\u001b[0;34m)\u001b[0m\u001b[0;34m\u001b[0m\u001b[0;34m\u001b[0m\u001b[0m\n\u001b[1;32m      7\u001b[0m \u001b[0;34m\u001b[0m\u001b[0m\n\u001b[0;32m----> 8\u001b[0;31m \u001b[0mdf_client\u001b[0m \u001b[0;34m=\u001b[0m \u001b[0mdf_client\u001b[0m\u001b[0;34m.\u001b[0m\u001b[0mwithColumn\u001b[0m\u001b[0;34m(\u001b[0m\u001b[0;34m\"situationfamiliale\"\u001b[0m\u001b[0;34m,\u001b[0m \u001b[0mreplace\u001b[0m\u001b[0;34m(\u001b[0m\u001b[0mcol\u001b[0m\u001b[0;34m(\u001b[0m\u001b[0;34m\"situationfamiliale\"\u001b[0m\u001b[0;34m)\u001b[0m\u001b[0;34m,\u001b[0m \u001b[0;34m\"N/D\"\u001b[0m\u001b[0;34m,\u001b[0m \u001b[0mnull\u001b[0m\u001b[0;34m)\u001b[0m\u001b[0;34m)\u001b[0m\u001b[0;34m\u001b[0m\u001b[0;34m\u001b[0m\u001b[0m\n\u001b[0m\u001b[1;32m      9\u001b[0m \u001b[0;31m#df_client = df_client.withColumn(\"situationfamiliale\", regexp_replace(col(\"situationfamiliale\"), \"?\", \"N/D\"))\u001b[0m\u001b[0;34m\u001b[0m\u001b[0;34m\u001b[0m\u001b[0m\n",
      "\u001b[0;31mNameError\u001b[0m: name 'replace' is not defined"
     ]
    }
   ],
   "source": [
    "#Nettoyer situation familiale\n",
    "\n",
    "#Fusionner seul/seule en Celibataire\n",
    "df_client = df_client.withColumn(\"situationfamiliale\", regexp_replace(col(\"situationfamiliale\"), \"Seule\", \"Celibataire\"))\n",
    "df_client = df_client.withColumn(\"situationfamiliale\", regexp_replace(col(\"situationfamiliale\"), \"Seul\", \"Celibataire\"))\n",
    "df_client = df_client.withColumn(\"situationfamiliale\", regexp_replace(col(\"situationfamiliale\"), \"Divorcee\", \"Divorce\"))\n",
    "\n",
    "df_client = df_client.withColumn(\"situationfamiliale\", replace(col(\"situationfamiliale\"), \"N/D\", null))\n",
    "#df_client = df_client.withColumn(\"situationfamiliale\", regexp_replace(col(\"situationfamiliale\"), \"?\", \"N/D\"))"
   ]
  },
  {
   "cell_type": "code",
   "execution_count": null,
   "id": "45cf7e09-f77b-4c9f-9bd6-1d2df5c3cd83",
   "metadata": {},
   "outputs": [],
   "source": [
    "value_client = df_client.groupBy(\"situationfamiliale\").count()\n",
    "value_client.show()"
   ]
  },
  {
   "cell_type": "markdown",
   "id": "7dcc0458-b79f-41bc-b993-e596134802bb",
   "metadata": {},
   "source": [
    "## Modification du type des colonnes occasion\n",
    "\n",
    "- Recherche des valeurs d'occasion\n",
    "- Changer le type de la colonne"
   ]
  },
  {
   "cell_type": "code",
   "execution_count": null,
   "id": "50f16b99-7b86-42e0-96a1-8e11a5758723",
   "metadata": {},
   "outputs": [],
   "source": [
    "#Recherche des valeurs d'occasion\n",
    "value_count_occasion = df_immat.groupBy(\"occasion\").count()\n",
    "\n",
    "value_count_occasion.show()"
   ]
  },
  {
   "cell_type": "code",
   "execution_count": null,
   "id": "2a22e105-629c-4609-bbc3-31738c389a45",
   "metadata": {},
   "outputs": [],
   "source": [
    "#Changer le type de la colonne\n",
    "df_immat = df_immat.withColumn(\"occasion\", df_immat[\"occasion\"].cast(BooleanType()))\n",
    "\n",
    "df_immat.printSchema()"
   ]
  },
  {
   "cell_type": "markdown",
   "id": "ac5e1bab-a73c-4398-a764-47eb58c2d483",
   "metadata": {},
   "source": [
    "## Recherche de valeurs aberrantes\n",
    "\n",
    "- Modéliser les valeurs dans un diagramme à moustaches pour mettre en avant les valeurs aberrantes.\n",
    "- Afficher les valeurs suspectes."
   ]
  },
  {
   "cell_type": "code",
   "execution_count": null,
   "id": "11a57d6b-965d-4548-b132-e273f573ed7c",
   "metadata": {},
   "outputs": [],
   "source": [
    "#Modéliser les valeurs dans un diagramme à moustaches pour mettre en avant les valeurs aberrantes.\n",
    "\n",
    "# 2. Sélectionner uniquement les colonnes numériques nécessaires\n",
    "\n",
    "df_place_porte = df_immat.select([\"nbplaces\", \"nbportes\"])\n",
    "df_prix = df_immat.select([\"prix\"])\n",
    "df_puissance = df_immat.select([\"puissance\"])\n",
    "\n",
    "# 3. Convertir le DataFrame PySpark en DataFrame Pandas\n",
    "df_place_porte= df_place_porte.toPandas()\n",
    "df_prix= df_prix.toPandas()\n",
    "df_puissance= df_puissance.toPandas()\n",
    "\n",
    "# 4. Tracer le diagramme à moustaches pour chaque colonne\n",
    "plt.figure(figsize=(12, 8))\n",
    "sns.boxplot(data=df_place_porte)\n",
    "plt.title(\"Diagramme à moustache pour détecter les valeurs aberrantes places/portes\")\n",
    "plt.xticks(rotation=45)\n",
    "plt.show()\n",
    "\n",
    "plt.figure(figsize=(12, 8))\n",
    "sns.boxplot(data=df_puissance)\n",
    "plt.title(\"Diagramme à moustache pour détecter les valeurs aberrantes puissance\")\n",
    "plt.xticks(rotation=45)\n",
    "plt.show()\n",
    "\n",
    "plt.figure(figsize=(12, 8))\n",
    "sns.boxplot(data=df_prix)\n",
    "plt.title(\"Diagramme à moustache pour détecter les valeurs aberrantes prix\")\n",
    "plt.xticks(rotation=45)\n",
    "plt.show()"
   ]
  },
  {
   "cell_type": "code",
   "execution_count": null,
   "id": "bf5a8efd-f876-4ec1-a53a-97a3af926caa",
   "metadata": {},
   "outputs": [],
   "source": [
    "#Afficher les valeurs suspectes.\n",
    "\n",
    "# Trouver la valeur maximale de la colonne \"prix\"\n",
    "prix_max = df_immat.select(max(\"prix\")).collect()[0][0]\n",
    "\n",
    "# Filtrer le DataFrame pour afficher les lignes ayant cette valeur\n",
    "df_max_prix = df_immat.filter(df_immat[\"prix\"] == prix_max)\n",
    "\n",
    "# Afficher les lignes avec le prix maximum\n",
    "df_max_prix.show()\n",
    "\n",
    "# Trouver la valeur maximale de la colonne \"prix\"\n",
    "prix_min = df_immat.select(min(\"prix\")).collect()[0][0]\n",
    "\n",
    "# Filtrer le DataFrame pour afficher les lignes ayant cette valeur\n",
    "df_min_prix = df_immat.filter(df_immat[\"prix\"] == prix_min)\n",
    "\n",
    "# Afficher les lignes avec le prix maximum\n",
    "df_min_prix.show()"
   ]
  }
 ],
 "metadata": {
  "kernelspec": {
   "display_name": "Python 3 (ipykernel)",
   "language": "python",
   "name": "python3"
  },
  "language_info": {
   "codemirror_mode": {
    "name": "ipython",
    "version": 3
   },
   "file_extension": ".py",
   "mimetype": "text/x-python",
   "name": "python",
   "nbconvert_exporter": "python",
   "pygments_lexer": "ipython3",
   "version": "3.9.7"
  }
 },
 "nbformat": 4,
 "nbformat_minor": 5
}
