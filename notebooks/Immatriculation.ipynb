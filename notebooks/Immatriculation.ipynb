{
 "cells": [
  {
   "cell_type": "markdown",
   "id": "baa2bfe4-7c21-44c4-ac41-e54166fbfac1",
   "metadata": {},
   "source": [
    "# Analyse et nettoyage des données Immatriculation"
   ]
  },
  {
   "cell_type": "markdown",
   "id": "06210231-f09d-4ca9-aef5-36dc5872d4ed",
   "metadata": {},
   "source": [
    "## Import"
   ]
  },
  {
   "cell_type": "code",
   "execution_count": 1,
   "id": "ca8b0861-4e4d-42da-bd93-32914233fdaa",
   "metadata": {},
   "outputs": [],
   "source": [
    "from pyspark.sql import SparkSession\n",
    "from pyspark.sql import functions as F\n",
    "import pandas as pd\n",
    "import seaborn as sns\n",
    "import matplotlib.pyplot as plt\n",
    "from pyspark.sql.types import BooleanType, FloatType\n",
    "from pyspark.sql.functions import trim, lower, upper, col, count, regexp_replace, max, min, when,avg, round, rand"
   ]
  },
  {
   "cell_type": "markdown",
   "id": "73c38c06-6935-4660-9f68-419add6f868e",
   "metadata": {},
   "source": [
    "## Session spark"
   ]
  },
  {
   "cell_type": "code",
   "execution_count": 2,
   "id": "e99432de-3a23-4f1f-b10d-79a445a09bf9",
   "metadata": {},
   "outputs": [
    {
     "name": "stderr",
     "output_type": "stream",
     "text": [
      "WARNING: An illegal reflective access operation has occurred\n",
      "WARNING: Illegal reflective access by org.apache.spark.unsafe.Platform (file:/usr/local/spark-3.2.0-bin-hadoop3.2/jars/spark-unsafe_2.12-3.2.0.jar) to constructor java.nio.DirectByteBuffer(long,int)\n",
      "WARNING: Please consider reporting this to the maintainers of org.apache.spark.unsafe.Platform\n",
      "WARNING: Use --illegal-access=warn to enable warnings of further illegal reflective access operations\n",
      "WARNING: All illegal access operations will be denied in a future release\n",
      "Using Spark's default log4j profile: org/apache/spark/log4j-defaults.properties\n",
      "Setting default log level to \"WARN\".\n",
      "To adjust logging level use sc.setLogLevel(newLevel). For SparkR, use setLogLevel(newLevel).\n",
      "24/11/18 09:29:39 WARN NativeCodeLoader: Unable to load native-hadoop library for your platform... using builtin-java classes where applicable\n"
     ]
    }
   ],
   "source": [
    "spark = SparkSession.builder\\\n",
    "    .appName(\"CleanImmatriculation\")\\\n",
    "    .enableHiveSupport()\\\n",
    "    .getOrCreate()"
   ]
  },
  {
   "cell_type": "markdown",
   "id": "32087677-1413-402e-a97f-3c44e3349093",
   "metadata": {},
   "source": [
    "## Import des données"
   ]
  },
  {
   "cell_type": "code",
   "execution_count": 3,
   "id": "5248f82d-c16e-443d-ab23-6b1cc8897f9e",
   "metadata": {},
   "outputs": [],
   "source": [
    "spark.sparkContext.setLogLevel(\"OFF\")\n",
    "spark.catalog.clearCache()\n",
    "spark.sql(\"USE concessionnaire\")\n",
    "\n",
    "df_immat = spark.sql(\"SELECT * FROM immatriculations_ext\")\n",
    "df_client = spark.sql(\"SELECT * FROM clients\")\n"
   ]
  },
  {
   "cell_type": "code",
   "execution_count": 4,
   "id": "0d860f2d-233c-4189-9044-f1f2723d1f06",
   "metadata": {},
   "outputs": [
    {
     "name": "stderr",
     "output_type": "stream",
     "text": [
      "                                                                                \r"
     ]
    },
    {
     "name": "stdout",
     "output_type": "stream",
     "text": [
      "+---------------+----------+----------------+---------+-----------+--------+--------+-------+--------+-----+\n",
      "|immatriculation|    marque|             nom|puissance|   longueur|nbplaces|nbportes|couleur|occasion| prix|\n",
      "+---------------+----------+----------------+---------+-----------+--------+--------+-------+--------+-----+\n",
      "|     9046 WY 64|     Volvo|          S80 T6|      272|tr�s longue|       5|       5|   bleu|   false|50500|\n",
      "|     2140 LD 19|      Audi|          A2 1.4|       75|     courte|       5|       5|   bleu|   false|18310|\n",
      "|     2313 HC 20|    Nissan|   Maxima 3.0 V6|      200|tr�s longue|       5|       5|  blanc|   false|30000|\n",
      "|     6582 PQ 39|      Audi|          A2 1.4|       75|     courte|       5|       5|   noir|    true|12817|\n",
      "|     4947 HE 79|   Peugeot|        1007 1.4|       75|     courte|       5|       5|   gris|   false|13750|\n",
      "|     3072 VZ 55|      Audi|          A2 1.4|       75|     courte|       5|       5|   noir|   false|18310|\n",
      "|     6074 VK 88|Volkswagen|    Golf 2.0 FSI|      150|    moyenne|       5|       5|  blanc|   false|22900|\n",
      "|     3898 VD 88|Volkswagen|     Polo 1.2 6V|       55|     courte|       5|       3|  blanc|   false|12200|\n",
      "|     1046 WD 32|      Ford|      Mondeo 1.8|      125|     longue|       5|       5|   noir|   false|23900|\n",
      "|     2341 PE 19|    Nissan|   Maxima 3.0 V6|      200|tr�s longue|       5|       5|  rouge|   false|30000|\n",
      "|     1980 SI 38|     Skoda|   Superb 2.8 V6|      193|tr�s longue|       5|       5|   bleu|   false|31790|\n",
      "|     8903 JY 59|  Mercedes|            S500|      306|tr�s longue|       5|       5|   noir|    true|70910|\n",
      "|     6493 FU 73|       BMW|              M5|      507|tr�s longue|       5|       5|   bleu|    true|66360|\n",
      "|     8008 KU 25|Volkswagen|     Polo 1.2 6V|       55|     courte|       5|       3|   gris|   false|12200|\n",
      "|     9537 BF 14|   Renault|Vel Satis 3.5 V6|      245|tr�s longue|       5|       5|   noir|   false|49200|\n",
      "|     6964 KU 78|    Nissan|      Almera 1.8|      115|    moyenne|       5|       5|  blanc|   false|16450|\n",
      "|      999 HC 33|      Audi|          A2 1.4|       75|     courte|       5|       5|  blanc|   false|18310|\n",
      "|     9900 LK 60|      Mini|  Copper 1.6 16V|      115|     courte|       5|       5|  blanc|   false|18200|\n",
      "|     7115 CE 84|      Seat|      Toledo 1.6|      102|     longue|       5|       5|  rouge|   false|18880|\n",
      "|     9327 MI 16|      Ford|      Mondeo 1.8|      125|     longue|       5|       5|  rouge|   false|23900|\n",
      "+---------------+----------+----------------+---------+-----------+--------+--------+-------+--------+-----+\n",
      "only showing top 20 rows\n",
      "\n",
      "+----+----+----+------------------+---------------+---------------+---------------+\n",
      "| age|sexe|taux|situationfamiliale|nbenfantacharge|deuxiemevoiture|immatriculation|\n",
      "+----+----+----+------------------+---------------+---------------+---------------+\n",
      "|null|sexe|null|situationFamiliale|           null|           null|immatriculation|\n",
      "|  40|   M| 400|         En Couple|              1|          false|     7982 PU 33|\n",
      "|  42|   M| 525|         En Couple|              1|          false|     7501 DZ 26|\n",
      "|  28|   M|1066|       C�libataire|              0|          false|     6461 JH 46|\n",
      "|  44|   F| 237|       C�libataire|              0|          false|     8430 FZ 18|\n",
      "|  75|   M| 563|       C�libataire|              0|          false|     4429 QQ 61|\n",
      "|  56|   M| 840|         En Couple|              0|          false|     3509 CA 60|\n",
      "|  28|   M| 414|         En Couple|              2|          false|     5010 JT 73|\n",
      "|  42|   M| 209|       C�libataire|              0|          false|     6353 BI 12|\n",
      "|  59|   M| 775|         En Couple|              1|          false|     8452 QA 32|\n",
      "|  43|   M| 438|       C�libataire|              0|          false|     6369 FT 49|\n",
      "|  53|   M|1056|         En Couple|              0|          false|      378 QN 86|\n",
      "|  37|   M|1206|         En Couple|              2|           true|     3271 YD 50|\n",
      "|  58|   M| 150|       C�libataire|              0|          false|       79 XA 39|\n",
      "|  80|   M| 221|         En Couple|              0|          false|     1574 EU 28|\n",
      "|  32|   M| 173|         En Couple|              2|          false|     8768 QS 95|\n",
      "|  56|   M| 466|       C�libataire|              0|          false|      548 HQ 47|\n",
      "|  48|   M| 973|             Seule|              1|          false|     2940 CE 72|\n",
      "|  18|   F|1175|         En Couple|              3|           true|     5816 HM 54|\n",
      "|  59|   M|1064|         En Couple|              0|          false|     5250 ZW 33|\n",
      "+----+----+----+------------------+---------------+---------------+---------------+\n",
      "only showing top 20 rows\n",
      "\n"
     ]
    },
    {
     "data": {
      "text/plain": [
       "100001"
      ]
     },
     "execution_count": 4,
     "metadata": {},
     "output_type": "execute_result"
    }
   ],
   "source": [
    "df_immat.show()\n",
    "df_client.show()\n",
    "df_client.count()"
   ]
  },
  {
   "cell_type": "markdown",
   "id": "653d3ebe-8aab-4e6a-8100-123c6838da8d",
   "metadata": {},
   "source": [
    "## Analyse\n",
    "\n",
    "### Casse\n",
    "- Renommage de la colonne \"nom\" en \"modele\" dans la table **immatriculation**\n",
    "- Normalisation des marques de la table **immatriculation**\n",
    "- Normalisation des modèles de la table **immatriculation**\n",
    "- Suppression de la 1ère ligne de la table **clients**"
   ]
  },
  {
   "cell_type": "markdown",
   "id": "a2a0d368-8732-4b4a-b13b-3d826c12dc0a",
   "metadata": {},
   "source": [
    "#### Traitement Immatriculation"
   ]
  },
  {
   "cell_type": "code",
   "execution_count": 5,
   "id": "cee58fd9-7b53-4579-afbc-f258b55fd472",
   "metadata": {},
   "outputs": [],
   "source": [
    "#Renommage de la colonne \"nom\" en \"modele\"\n",
    "df_immat = df_immat.withColumnRenamed(\"nom\", \"modele\")"
   ]
  },
  {
   "cell_type": "code",
   "execution_count": 6,
   "id": "95313a7e-f568-44f5-9ff6-547ea4fa3d23",
   "metadata": {},
   "outputs": [
    {
     "name": "stdout",
     "output_type": "stream",
     "text": [
      "root\n",
      " |-- immatriculation: string (nullable = true)\n",
      " |-- marque: string (nullable = true)\n",
      " |-- modele: string (nullable = true)\n",
      " |-- puissance: integer (nullable = true)\n",
      " |-- longueur: string (nullable = true)\n",
      " |-- nbplaces: integer (nullable = true)\n",
      " |-- nbportes: integer (nullable = true)\n",
      " |-- couleur: string (nullable = true)\n",
      " |-- occasion: string (nullable = true)\n",
      " |-- prix: integer (nullable = true)\n",
      "\n"
     ]
    }
   ],
   "source": [
    "df_immat.printSchema()"
   ]
  },
  {
   "cell_type": "code",
   "execution_count": 7,
   "id": "c5bb66a6-e6d2-41f5-a174-5f099c1d62d1",
   "metadata": {},
   "outputs": [],
   "source": [
    "#Normalisation des casses\n",
    "df_immat = df_immat.withColumn(\"marque\", lower(trim(col(\"marque\"))))\n",
    "df_immat = df_immat.withColumn(\"modele\", lower(trim(col(\"modele\"))))\n",
    "df_immat = df_immat.withColumn(\"immatriculation\", upper(trim(col(\"immatriculation\"))))"
   ]
  },
  {
   "cell_type": "code",
   "execution_count": 8,
   "id": "9760a566-4053-41d4-9a12-b1099def5795",
   "metadata": {},
   "outputs": [
    {
     "name": "stdout",
     "output_type": "stream",
     "text": [
      "+---------------+-------+-------------+---------+-----------+--------+--------+-------+--------+-----+\n",
      "|immatriculation| marque|       modele|puissance|   longueur|nbplaces|nbportes|couleur|occasion| prix|\n",
      "+---------------+-------+-------------+---------+-----------+--------+--------+-------+--------+-----+\n",
      "|     9046 WY 64|  volvo|       s80 t6|      272|tr�s longue|       5|       5|   bleu|   false|50500|\n",
      "|     2140 LD 19|   audi|       a2 1.4|       75|     courte|       5|       5|   bleu|   false|18310|\n",
      "|     2313 HC 20| nissan|maxima 3.0 v6|      200|tr�s longue|       5|       5|  blanc|   false|30000|\n",
      "|     6582 PQ 39|   audi|       a2 1.4|       75|     courte|       5|       5|   noir|    true|12817|\n",
      "|     4947 HE 79|peugeot|     1007 1.4|       75|     courte|       5|       5|   gris|   false|13750|\n",
      "+---------------+-------+-------------+---------+-----------+--------+--------+-------+--------+-----+\n",
      "only showing top 5 rows\n",
      "\n"
     ]
    }
   ],
   "source": [
    "df_immat.show(n=5)"
   ]
  },
  {
   "cell_type": "markdown",
   "id": "febeabe8-5351-40fe-95bd-d1679034e2ba",
   "metadata": {},
   "source": [
    "#### Traitemment Client"
   ]
  },
  {
   "cell_type": "code",
   "execution_count": 9,
   "id": "a8ec8cf6-f347-4e79-9a53-426bf33aa894",
   "metadata": {},
   "outputs": [],
   "source": [
    "#Suppression de la 1ère ligne de la table clients\n",
    "df_client = df_client.filter(df_client['immatriculation'] != 'immatriculation')\n",
    "\n",
    "#Normalisation de situation familiale et immatriculation\n",
    "df_client = df_client.withColumn(\"situationfamiliale\", lower(trim(col(\"situationfamiliale\"))))\n",
    "df_client = df_client.withColumn(\"immatriculation\", upper(trim(col(\"immatriculation\"))))"
   ]
  },
  {
   "cell_type": "code",
   "execution_count": 10,
   "id": "e1d2b09a-a669-4cc3-a62e-42a94c07167f",
   "metadata": {},
   "outputs": [
    {
     "name": "stdout",
     "output_type": "stream",
     "text": [
      "+---+----+----+------------------+---------------+---------------+---------------+\n",
      "|age|sexe|taux|situationfamiliale|nbenfantacharge|deuxiemevoiture|immatriculation|\n",
      "+---+----+----+------------------+---------------+---------------+---------------+\n",
      "| 40|   M| 400|         en couple|              1|          false|     7982 PU 33|\n",
      "| 42|   M| 525|         en couple|              1|          false|     7501 DZ 26|\n",
      "| 28|   M|1066|       c�libataire|              0|          false|     6461 JH 46|\n",
      "+---+----+----+------------------+---------------+---------------+---------------+\n",
      "only showing top 3 rows\n",
      "\n"
     ]
    }
   ],
   "source": [
    "df_client.show(n=3)"
   ]
  },
  {
   "cell_type": "markdown",
   "id": "4e8e4b59-ab9b-45aa-8632-1534b815c3aa",
   "metadata": {},
   "source": [
    "### Recherche des caractères spéciaux\n",
    "\n",
    "- Recherche du symbole \"�\"\n",
    "- Recherche du caractère \"ã©\""
   ]
  },
  {
   "cell_type": "code",
   "execution_count": 11,
   "id": "e6b02c6f-cc82-4b60-b884-b931406e0ebc",
   "metadata": {},
   "outputs": [
    {
     "name": "stdout",
     "output_type": "stream",
     "text": [
      "root\n",
      " |-- age: integer (nullable = true)\n",
      " |-- sexe: string (nullable = true)\n",
      " |-- taux: integer (nullable = true)\n",
      " |-- situationfamiliale: string (nullable = true)\n",
      " |-- nbenfantacharge: integer (nullable = true)\n",
      " |-- deuxiemevoiture: boolean (nullable = true)\n",
      " |-- immatriculation: string (nullable = true)\n",
      "\n"
     ]
    }
   ],
   "source": [
    "df_client.printSchema()"
   ]
  },
  {
   "cell_type": "code",
   "execution_count": 12,
   "id": "c5179236-fad3-4252-8126-25d761e83fac",
   "metadata": {},
   "outputs": [],
   "source": [
    "#Recherche du symbole \"�\"\n",
    "\n",
    "#table immatriculation\n",
    "df_search_special_char_immat = df_immat.filter(\n",
    "    col(\"immatriculation\").like(\"%�%\") | \n",
    "    col(\"marque\").like(\"%�%\") | \n",
    "    col(\"modele\").like(\"%�%\") | \n",
    "    col(\"longueur\").like(\"%�%\") |\n",
    "    col(\"couleur\").like(\"%�%\") | \n",
    "    col(\"occasion\").like(\"%�%\")\n",
    ")\n",
    "\n",
    "#table clients\n",
    "df_search_special_char_client = df_client.filter(\n",
    "    col(\"sexe\").like(\"%�%\") |\n",
    "    col(\"immatriculation\").like(\"%�%\")\n",
    ")\n",
    "\n",
    "value_client = df_client.groupBy(\"situationfamiliale\").count()\n"
   ]
  },
  {
   "cell_type": "code",
   "execution_count": 13,
   "id": "a87e1d8d-df04-4612-a9c0-81f40e5d9e94",
   "metadata": {},
   "outputs": [
    {
     "name": "stdout",
     "output_type": "stream",
     "text": [
      "+---------------+--------+----------------+---------+-----------+--------+--------+-------+--------+-----+\n",
      "|immatriculation|  marque|          modele|puissance|   longueur|nbplaces|nbportes|couleur|occasion| prix|\n",
      "+---------------+--------+----------------+---------+-----------+--------+--------+-------+--------+-----+\n",
      "|     9046 WY 64|   volvo|          s80 t6|      272|tr�s longue|       5|       5|   bleu|   false|50500|\n",
      "|     2313 HC 20|  nissan|   maxima 3.0 v6|      200|tr�s longue|       5|       5|  blanc|   false|30000|\n",
      "|     2341 PE 19|  nissan|   maxima 3.0 v6|      200|tr�s longue|       5|       5|  rouge|   false|30000|\n",
      "|     1980 SI 38|   skoda|   superb 2.8 v6|      193|tr�s longue|       5|       5|   bleu|   false|31790|\n",
      "|     8903 JY 59|mercedes|            s500|      306|tr�s longue|       5|       5|   noir|    true|70910|\n",
      "|     6493 FU 73|     bmw|              m5|      507|tr�s longue|       5|       5|   bleu|    true|66360|\n",
      "|     9537 BF 14| renault|vel satis 3.5 v6|      245|tr�s longue|       5|       5|   noir|   false|49200|\n",
      "|     4028 QT 73| renault|vel satis 3.5 v6|      245|tr�s longue|       5|       5|   noir|   false|49200|\n",
      "|     1706 CN 98|     bmw|              m5|      507|tr�s longue|       5|       5|   gris|   false|94800|\n",
      "|     8445 PJ 29|     bmw|              m5|      507|tr�s longue|       5|       5|  rouge|    true|66360|\n",
      "|     3101 VY 94|   volvo|          s80 t6|      272|tr�s longue|       5|       5|  blanc|   false|50500|\n",
      "|     2318 FE 37|     bmw|              m5|      507|tr�s longue|       5|       5|  blanc|    true|66360|\n",
      "|     1332 NJ 43|     bmw|              m5|      507|tr�s longue|       5|       5|  blanc|   false|94800|\n",
      "|     5497 PZ 50|     bmw|              m5|      507|tr�s longue|       5|       5|   bleu|   false|94800|\n",
      "|     9573 MY 14|     bmw|              m5|      507|tr�s longue|       5|       5|   noir|   false|94800|\n",
      "|     6639 RB 26|   volvo|          s80 t6|      272|tr�s longue|       5|       5|  rouge|   false|50500|\n",
      "|     8332 IN 53|     bmw|              m5|      507|tr�s longue|       5|       5|  blanc|   false|94800|\n",
      "|     3157 UI 11|     bmw|              m5|      507|tr�s longue|       5|       5|  blanc|   false|94800|\n",
      "|      389 PJ 10|     bmw|              m5|      507|tr�s longue|       5|       5|   bleu|   false|94800|\n",
      "|     1680 RY 88|   volvo|          s80 t6|      272|tr�s longue|       5|       5|   gris|   false|50500|\n",
      "+---------------+--------+----------------+---------+-----------+--------+--------+-------+--------+-----+\n",
      "only showing top 20 rows\n",
      "\n"
     ]
    },
    {
     "name": "stderr",
     "output_type": "stream",
     "text": [
      "                                                                                \r"
     ]
    },
    {
     "name": "stdout",
     "output_type": "stream",
     "text": [
      "+---+----+----+------------------+---------------+---------------+---------------+\n",
      "|age|sexe|taux|situationfamiliale|nbenfantacharge|deuxiemevoiture|immatriculation|\n",
      "+---+----+----+------------------+---------------+---------------+---------------+\n",
      "+---+----+----+------------------+---------------+---------------+---------------+\n",
      "\n"
     ]
    },
    {
     "name": "stderr",
     "output_type": "stream",
     "text": [
      "[Stage 9:>                                                          (0 + 1) / 1]\r"
     ]
    },
    {
     "name": "stdout",
     "output_type": "stream",
     "text": [
      "+------------------+-----+\n",
      "|situationfamiliale|count|\n",
      "+------------------+-----+\n",
      "|          mari�(e)|  635|\n",
      "|             seule| 4787|\n",
      "|       c�libataire|29862|\n",
      "|              seul|  298|\n",
      "|               n/d|   94|\n",
      "|                  |   97|\n",
      "|          divorc�e|   56|\n",
      "|                 ?|  115|\n",
      "|         en couple|64056|\n",
      "+------------------+-----+\n",
      "\n"
     ]
    },
    {
     "name": "stderr",
     "output_type": "stream",
     "text": [
      "                                                                                \r"
     ]
    }
   ],
   "source": [
    "df_search_special_char_immat.show()\n",
    "df_search_special_char_client.show()\n",
    "value_client.show()"
   ]
  },
  {
   "cell_type": "code",
   "execution_count": 14,
   "id": "34ceecba-7ea6-4fa1-8ce2-fe49ad93ef0b",
   "metadata": {},
   "outputs": [],
   "source": [
    "#Recherche du caractère \"ã©\"\n",
    "\n",
    "#table immatriculation\n",
    "df_search_special_char_2_immat = df_immat.filter(\n",
    "    col(\"immatriculation\").like(\"%ã©%\") | \n",
    "    col(\"marque\").like(\"%ã©%\") | \n",
    "    col(\"modele\").like(\"%ã©%\") | \n",
    "    col(\"longueur\").like(\"%ã©%\") |\n",
    "    col(\"couleur\").like(\"%ã©%\") | \n",
    "    col(\"occasion\").like(\"%ã©%\")\n",
    ")\n",
    "\n",
    "#table clients\n",
    "df_search_special_char_2_client = df_client.filter(\n",
    "    col(\"sexe\").like(\"%ã©%\") | \n",
    "    col(\"situationfamiliale\").like(\"%ã©%\") | \n",
    "    col(\"immatriculation\").like(\"%ã©%\")\n",
    ")"
   ]
  },
  {
   "cell_type": "code",
   "execution_count": 15,
   "id": "c15b8bbd-ea84-46f6-9a7d-0cb61ef51e8a",
   "metadata": {},
   "outputs": [
    {
     "name": "stderr",
     "output_type": "stream",
     "text": [
      "                                                                                \r"
     ]
    },
    {
     "name": "stdout",
     "output_type": "stream",
     "text": [
      "+---------------+------+------+---------+--------+--------+--------+-------+--------+----+\n",
      "|immatriculation|marque|modele|puissance|longueur|nbplaces|nbportes|couleur|occasion|prix|\n",
      "+---------------+------+------+---------+--------+--------+--------+-------+--------+----+\n",
      "+---------------+------+------+---------+--------+--------+--------+-------+--------+----+\n",
      "\n",
      "+---+----+----+------------------+---------------+---------------+---------------+\n",
      "|age|sexe|taux|situationfamiliale|nbenfantacharge|deuxiemevoiture|immatriculation|\n",
      "+---+----+----+------------------+---------------+---------------+---------------+\n",
      "+---+----+----+------------------+---------------+---------------+---------------+\n",
      "\n"
     ]
    }
   ],
   "source": [
    "df_search_special_char_2_immat.show()\n",
    "df_search_special_char_2_client.show()"
   ]
  },
  {
   "cell_type": "markdown",
   "id": "94f266c9-4bd6-479a-819d-f5290ba6eb8d",
   "metadata": {},
   "source": [
    "### Correction des caractères spéciaux\n",
    "\n",
    "- Correction du symbole \"�\" dans la colonne \"longueur\".\n"
   ]
  },
  {
   "cell_type": "code",
   "execution_count": 16,
   "id": "7a604c7f-8a55-43a4-bc3d-4556e4e48317",
   "metadata": {},
   "outputs": [],
   "source": [
    "#Correction du symbole \"�\" dans la colonne \"longueur\"\n",
    "\n",
    "df_immat = df_immat.withColumn(\"longueur\", regexp_replace(col(\"longueur\"), \"�\", \"e\"))\n",
    "\n",
    "df_client = df_client.withColumn(\"situationfamiliale\", regexp_replace(col(\"situationfamiliale\"), \"�\", \"e\"))\n"
   ]
  },
  {
   "cell_type": "code",
   "execution_count": 17,
   "id": "ab073229-fca2-4d82-91ed-e649bf3120fc",
   "metadata": {},
   "outputs": [
    {
     "name": "stdout",
     "output_type": "stream",
     "text": [
      "+------------------+-----+\n",
      "|situationfamiliale|count|\n",
      "+------------------+-----+\n",
      "|          marie(e)|  635|\n",
      "|       celibataire|29862|\n",
      "|             seule| 4787|\n",
      "|              seul|  298|\n",
      "|               n/d|   94|\n",
      "|                  |   97|\n",
      "|                 ?|  115|\n",
      "|         en couple|64056|\n",
      "|          divorcee|   56|\n",
      "+------------------+-----+\n",
      "\n"
     ]
    },
    {
     "name": "stderr",
     "output_type": "stream",
     "text": [
      "[Stage 19:===================>                                      (1 + 2) / 3]\r"
     ]
    },
    {
     "name": "stdout",
     "output_type": "stream",
     "text": [
      "+---------------+------+------+---------+--------+--------+--------+-------+--------+----+\n",
      "|immatriculation|marque|modele|puissance|longueur|nbplaces|nbportes|couleur|occasion|prix|\n",
      "+---------------+------+------+---------+--------+--------+--------+-------+--------+----+\n",
      "+---------------+------+------+---------+--------+--------+--------+-------+--------+----+\n",
      "\n"
     ]
    },
    {
     "name": "stderr",
     "output_type": "stream",
     "text": [
      "                                                                                \r"
     ]
    }
   ],
   "source": [
    "\n",
    "df_search_special_char_immat = df_immat.filter(\n",
    "    col(\"immatriculation\").like(\"%�%\") | \n",
    "    col(\"marque\").like(\"%�%\") | \n",
    "    col(\"modele\").like(\"%�%\") | \n",
    "    col(\"longueur\").like(\"%�%\") |\n",
    "    col(\"couleur\").like(\"%�%\") | \n",
    "    col(\"occasion\").like(\"%�%\")\n",
    ")\n",
    "\n",
    "value_client = df_client.groupBy(\"situationfamiliale\").count()\n",
    "\n",
    "value_client.show()\n",
    "\n",
    "df_search_special_char_immat.show()"
   ]
  },
  {
   "cell_type": "markdown",
   "id": "8f59c20c-2b9f-43cf-baf1-f2163a12ed07",
   "metadata": {},
   "source": [
    "## Recherche et correction des Null\n",
    "\n",
    "- Recherche des null"
   ]
  },
  {
   "cell_type": "code",
   "execution_count": 18,
   "id": "e576ac3b-bc6b-4108-b379-75b0f6207b61",
   "metadata": {},
   "outputs": [],
   "source": [
    "\n",
    "#Recherche des null\n",
    "\n",
    "# Liste des colonnes du DataFrame\n",
    "colonnes_immat = df_immat.columns\n",
    "\n",
    "# Filtrer pour conserver uniquement les lignes où au moins une colonne est nulle\n",
    "df_immat_nulls = df_immat.filter(\n",
    "    sum(col(colonne_immat).isNull().cast(\"int\") for colonne_immat in colonnes_immat) > 0\n",
    ")\n",
    "\n",
    "# Liste des colonnes du DataFrame\n",
    "colonnes_client = df_client.columns\n",
    "\n",
    "# Filtrer pour conserver uniquement les lignes où au moins une colonne est nulle\n",
    "df_client_nulls = df_client.filter(\n",
    "    sum(col(colonne_client).isNull().cast(\"int\") for colonne_client in colonnes_client) > 0\n",
    ")"
   ]
  },
  {
   "cell_type": "code",
   "execution_count": 19,
   "id": "a4fe5464-e10a-46ad-add1-fa61f6aa56ab",
   "metadata": {},
   "outputs": [
    {
     "name": "stderr",
     "output_type": "stream",
     "text": [
      "                                                                                \r"
     ]
    },
    {
     "name": "stdout",
     "output_type": "stream",
     "text": [
      "+---------------+------+------+---------+--------+--------+--------+-------+--------+----+\n",
      "|immatriculation|marque|modele|puissance|longueur|nbplaces|nbportes|couleur|occasion|prix|\n",
      "+---------------+------+------+---------+--------+--------+--------+-------+--------+----+\n",
      "+---------------+------+------+---------+--------+--------+--------+-------+--------+----+\n",
      "\n",
      "+----+----+----+------------------+---------------+---------------+---------------+\n",
      "| age|sexe|taux|situationfamiliale|nbenfantacharge|deuxiemevoiture|immatriculation|\n",
      "+----+----+----+------------------+---------------+---------------+---------------+\n",
      "|null|   M|1179|       celibataire|              0|          false|     4277 VS 97|\n",
      "|null|   M| 426|         en couple|              1|          false|     1192 RE 88|\n",
      "|  37|   M|null|       celibataire|              0|          false|     8980 MQ 19|\n",
      "|  26|   M|null|         en couple|              3|          false|     5356 OE 81|\n",
      "|  45|   M| 408|         en couple|           null|           true|     1477 YN 25|\n",
      "|  52|   M|1230|         en couple|              3|           null|     9068 VL 70|\n",
      "|  56|   M|1283|       celibataire|           null|          false|     2034 MN 96|\n",
      "|null|   M| 419|         en couple|              1|          false|     3657 DE 89|\n",
      "|  40|   F|null|         en couple|              3|          false|     6464 UK 41|\n",
      "|  53|   F| 724|             seule|           null|          false|     5104 HS 33|\n",
      "|null|   M| 543|         en couple|              4|          false|     4012 KC 78|\n",
      "|  57|   M|1042|         en couple|              2|           null|     5989 UD 46|\n",
      "|  57|   M|1321|         en couple|           null|          false|     3749 EE 21|\n",
      "|  25|   F| 400|         en couple|           null|          false|     9038 JZ 85|\n",
      "|  34|   M|null|       celibataire|              0|          false|     5328 QS 83|\n",
      "|  55|   F| 510|         en couple|           null|          false|     7332 QH 31|\n",
      "|  19|   M| 829|       celibataire|              0|           null|     6775 VI 36|\n",
      "|null|   F| 163|         en couple|              4|           true|     6391 JG 28|\n",
      "|  67|   M| 862|       celibataire|              0|           null|     7913 XB 24|\n",
      "|  53|   M|1220|         en couple|           null|          false|      905 YY 25|\n",
      "+----+----+----+------------------+---------------+---------------+---------------+\n",
      "only showing top 20 rows\n",
      "\n"
     ]
    }
   ],
   "source": [
    "# Afficher les lignes avec des valeurs nulles\n",
    "df_immat_nulls.show()\n",
    "df_client_nulls.show()"
   ]
  },
  {
   "cell_type": "markdown",
   "id": "e947bd8f-61cd-4d70-91fc-dc8bf02f010c",
   "metadata": {},
   "source": [
    "## Traitement des nulls dans la table **age**\n",
    "\n",
    "- Analyse des valeurs inférieur à 18.\n",
    "- Mettre à null les valeurs inférieures à 18 ans.\n",
    "- Calculer la médiane.\n",
    "- Remplacer les nulls par la médiane."
   ]
  },
  {
   "cell_type": "code",
   "execution_count": 20,
   "id": "2f898c6a-173c-45c5-8b34-086a308f0c9e",
   "metadata": {},
   "outputs": [],
   "source": [
    "#Analyse des valeurs inférieur à 18.\n",
    "\n",
    "# Ajouter une colonne qui spécifie si l'âge est inférieur à 18\n",
    "df_client_age = df_client.withColumn(\"age_below_18\", when(col(\"age\") < 18, 1).otherwise(0))\n",
    "\n",
    "# Compter les lignes où \"age_below_18\" est 1\n",
    "count_grouped = df_client_age.groupBy(\"age_below_18\").count()\n",
    "\n"
   ]
  },
  {
   "cell_type": "code",
   "execution_count": 21,
   "id": "b28acbbe-62ce-4ca2-96ff-6b4aed3c0806",
   "metadata": {},
   "outputs": [
    {
     "name": "stdout",
     "output_type": "stream",
     "text": [
      "+------------+-----+\n",
      "|age_below_18|count|\n",
      "+------------+-----+\n",
      "|           1|  103|\n",
      "|           0|99897|\n",
      "+------------+-----+\n",
      "\n"
     ]
    }
   ],
   "source": [
    "# Afficher les résultats\n",
    "count_grouped.show()\n"
   ]
  },
  {
   "cell_type": "code",
   "execution_count": 22,
   "id": "d4c6a035-4f38-41d0-ba6d-7d5bdf7da6ce",
   "metadata": {},
   "outputs": [],
   "source": [
    "#Mettre à null les valeurs inférieures à 18 ans.\n",
    "df_client = df_client.withColumn(\"age\", when(col(\"age\") == -1, None).otherwise(col(\"age\")))\n",
    "df_client = df_client.withColumn(\"age\", when(col(\"age\") == 0, None).otherwise(col(\"age\")))\n",
    "\n",
    "#Calculer la médiane.\n",
    "mediane = df_client.approxQuantile(\"age\", [0.5], 0.01)[0]\n",
    "\n",
    "#Remplacer les nulls par la médiane.\n",
    "df_client = df_client.withColumn(\"age\", when(col(\"age\").isNull(), mediane).otherwise(col(\"age\")))"
   ]
  },
  {
   "cell_type": "code",
   "execution_count": 23,
   "id": "0c18637a-71f2-42f8-a3bc-f016a6e7455c",
   "metadata": {},
   "outputs": [
    {
     "name": "stdout",
     "output_type": "stream",
     "text": [
      "Médiane: 42.0\n"
     ]
    },
    {
     "name": "stderr",
     "output_type": "stream",
     "text": [
      "[Stage 27:>                                                         (0 + 1) / 1]\r"
     ]
    },
    {
     "name": "stdout",
     "output_type": "stream",
     "text": [
      "+----+-----+\n",
      "| age|count|\n",
      "+----+-----+\n",
      "|70.0|  763|\n",
      "|67.0|  789|\n",
      "|69.0|  801|\n",
      "|49.0| 1645|\n",
      "|29.0| 2464|\n",
      "|75.0|  795|\n",
      "|64.0|  869|\n",
      "|47.0| 1667|\n",
      "|42.0| 1978|\n",
      "|44.0| 1604|\n",
      "|35.0| 1592|\n",
      "|62.0|  810|\n",
      "|18.0| 2516|\n",
      "|80.0|  785|\n",
      "|39.0| 1700|\n",
      "|37.0| 1655|\n",
      "|34.0| 1661|\n",
      "|25.0| 2461|\n",
      "|36.0| 1676|\n",
      "|41.0| 1637|\n",
      "+----+-----+\n",
      "only showing top 20 rows\n",
      "\n"
     ]
    },
    {
     "name": "stderr",
     "output_type": "stream",
     "text": [
      "                                                                                \r"
     ]
    }
   ],
   "source": [
    "# Afficher la médiane\n",
    "print(\"Médiane:\", mediane)\n",
    "\n",
    "value_client = df_client.groupBy(\"age\").count()\n",
    "value_client.show()"
   ]
  },
  {
   "cell_type": "markdown",
   "id": "a8ce819d-4af8-4974-ba8f-ac995e2f050d",
   "metadata": {
    "tags": []
   },
   "source": [
    "## Traitement de **taux**\n",
    "\n",
    "- Nettoyer situation familiale\n",
    "    - Fusionner seul/seule en Celibataire\n",
    "    - Remplacer les null/? par N/D\n",
    "    - Analyser les différentes proportions\n",
    "    - Supprimer les N/D si les proportions le permettent\n",
    "\n",
    "- Faire la moyenne des taux par valeur de situation familiale\n",
    "- Analyser la pertinence de ces moyennes\n",
    "- Remplacer les nulls\n",
    "- Analyse des données hors domaine\n",
    "- Correction des valeurs hors domaine (Création d'une colonne \"taux_eligible\")"
   ]
  },
  {
   "cell_type": "code",
   "execution_count": 24,
   "id": "8738fb5a-7d0e-464e-87b4-ab518c5973c7",
   "metadata": {},
   "outputs": [],
   "source": [
    "#Nettoyer situation familiale\n",
    "\n",
    "#Fusionner seul/seule en Celibataire\n",
    "df_client = df_client.withColumn(\"situationfamiliale\", regexp_replace(col(\"situationfamiliale\"), \"seule\", \"celibataire\"))\n",
    "df_client = df_client.withColumn(\"situationfamiliale\", regexp_replace(col(\"situationfamiliale\"), \"seul\", \"celibataire\"))\n",
    "df_client = df_client.withColumn(\"situationfamiliale\", regexp_replace(col(\"situationfamiliale\"), \"divorcee\", \"divorce(e)\"))\n",
    "\n",
    "# Remplacer \"N/D\" par null dans la colonne situationfamiliale\n",
    "df_client = df_client.withColumn(\n",
    "    \"situationfamiliale\",\n",
    "    when(col(\"situationfamiliale\") == None, \"n/d\").otherwise(col(\"situationfamiliale\"))\n",
    ")\n",
    "df_client = df_client.withColumn(\n",
    "    \"situationfamiliale\",\n",
    "    when(trim(col(\"situationfamiliale\")) == \"\", \"n/d\").otherwise(col(\"situationfamiliale\"))\n",
    ")\n",
    "# Remplacer \"?\" par \"N/D\" dans la colonne situationfamiliale\n",
    "df_client = df_client.withColumn(\n",
    "    \"situationfamiliale\",\n",
    "    regexp_replace(col(\"situationfamiliale\"), r\"\\?\", \"n/d\")\n",
    ")\n"
   ]
  },
  {
   "cell_type": "code",
   "execution_count": 25,
   "id": "e8fc2e01-db10-447e-a952-3e122ef98b17",
   "metadata": {},
   "outputs": [
    {
     "name": "stderr",
     "output_type": "stream",
     "text": [
      "[Stage 30:>                                                         (0 + 1) / 1]\r"
     ]
    },
    {
     "name": "stdout",
     "output_type": "stream",
     "text": [
      "+------------------+-----+\n",
      "|situationfamiliale|count|\n",
      "+------------------+-----+\n",
      "|          marie(e)|  635|\n",
      "|       celibataire|34947|\n",
      "|        divorce(e)|   56|\n",
      "|               n/d|  306|\n",
      "|         en couple|64056|\n",
      "+------------------+-----+\n",
      "\n"
     ]
    },
    {
     "name": "stderr",
     "output_type": "stream",
     "text": [
      "                                                                                \r"
     ]
    }
   ],
   "source": [
    "value_client = df_client.groupBy(\"situationfamiliale\").count()\n",
    "value_client.show()"
   ]
  },
  {
   "cell_type": "code",
   "execution_count": 26,
   "id": "957e2b61-82f1-46fe-9746-d92d7fe9350a",
   "metadata": {},
   "outputs": [
    {
     "name": "stderr",
     "output_type": "stream",
     "text": [
      "[Stage 42:>                                                         (0 + 1) / 1]\r"
     ]
    },
    {
     "name": "stdout",
     "output_type": "stream",
     "text": [
      "+------------------+-----+--------------------+\n",
      "|situationfamiliale|count|          percentage|\n",
      "+------------------+-----+--------------------+\n",
      "|          marie(e)|  635|               0.635|\n",
      "|       celibataire|34947|              34.947|\n",
      "|        divorce(e)|   56|0.055999999999999994|\n",
      "|               n/d|  306|               0.306|\n",
      "|         en couple|64056|              64.056|\n",
      "+------------------+-----+--------------------+\n",
      "\n"
     ]
    },
    {
     "name": "stderr",
     "output_type": "stream",
     "text": [
      "                                                                                \r"
     ]
    },
    {
     "data": {
      "image/png": "[encoded data removed]",
      "text/plain": [
       "<Figure size 576x576 with 1 Axes>"
      ]
     },
     "metadata": {},
     "output_type": "display_data"
    }
   ],
   "source": [
    "#Analyser les différentes proportions\n",
    "\n",
    "df_counts = df_client.groupBy(\"situationfamiliale\").agg(count(\"*\").alias(\"count\"))\n",
    "total_count = df_counts.selectExpr(\"SUM(count) as total\").collect()[0][\"total\"]\n",
    "\n",
    "df_percentages = df_counts.withColumn(\"percentage\", (col(\"count\") / total_count) * 100)\n",
    "\n",
    "# Collecter les données dans un format utilisable pour Matplotlib\n",
    "data = df_percentages.collect()\n",
    "labels = [row[\"situationfamiliale\"] if row[\"situationfamiliale\"] else \"Inconnue\" for row in data]\n",
    "sizes = [row[\"percentage\"] for row in data]\n",
    "df_percentages.show()\n",
    "\n",
    "# Étape 2 : Créer le diagramme camembert\n",
    "plt.figure(figsize=(8, 8))\n",
    "plt.pie(\n",
    "    sizes, \n",
    "    labels=labels, \n",
    "    autopct=\"%1.1f%%\", \n",
    "    startangle=90, \n",
    "    colors=plt.cm.Paired.colors\n",
    ")\n",
    "\n",
    "plt.axis(\"equal\")\n",
    "\n",
    "plt.show()"
   ]
  },
  {
   "cell_type": "code",
   "execution_count": 27,
   "id": "a4d52513-f8ff-411d-80ea-4aabf028186a",
   "metadata": {},
   "outputs": [],
   "source": [
    "#Supprimer les N/D car les proportions le permettent\n",
    "df_client= df_client.filter(col(\"situationfamiliale\") != \"n/d\")\n"
   ]
  },
  {
   "cell_type": "code",
   "execution_count": 28,
   "id": "76a6be2a-9479-40d5-944a-c2d8fbcf079b",
   "metadata": {},
   "outputs": [
    {
     "name": "stderr",
     "output_type": "stream",
     "text": [
      "[Stage 54:>                                                         (0 + 1) / 1]\r"
     ]
    },
    {
     "name": "stdout",
     "output_type": "stream",
     "text": [
      "+------------------+-----+--------------------+\n",
      "|situationfamiliale|count|          percentage|\n",
      "+------------------+-----+--------------------+\n",
      "|          marie(e)|  635|   0.636949064136257|\n",
      "|       celibataire|34947|   35.05426605412563|\n",
      "|        divorce(e)|   56|0.056171885971071485|\n",
      "|         en couple|64056|   64.25261299576704|\n",
      "+------------------+-----+--------------------+\n",
      "\n"
     ]
    },
    {
     "name": "stderr",
     "output_type": "stream",
     "text": [
      "                                                                                \r"
     ]
    }
   ],
   "source": [
    "df_counts = df_client.groupBy(\"situationfamiliale\").agg(count(\"*\").alias(\"count\"))\n",
    "total_count = df_counts.selectExpr(\"SUM(count) as total\").collect()[0][\"total\"]\n",
    "\n",
    "df_percentages = df_counts.withColumn(\"percentage\", (col(\"count\") / total_count) * 100)\n",
    "\n",
    "# Collecter les données dans un format utilisable pour Matplotlib\n",
    "data = df_percentages.collect()\n",
    "labels = [row[\"situationfamiliale\"] if row[\"situationfamiliale\"] else \"Inconnue\" for row in data]\n",
    "sizes = [row[\"percentage\"] for row in data]\n",
    "df_percentages.show()"
   ]
  },
  {
   "cell_type": "code",
   "execution_count": 29,
   "id": "a5817419-0d14-4090-a348-b590a535844e",
   "metadata": {},
   "outputs": [],
   "source": [
    "# Faire la moyenne des taux par valeur de situation familiale\n",
    "mediane_taux = df_client.groupBy(\"situationfamiliale\").agg(\n",
    "    F.expr(\"percentile_approx(taux, 0.5, 100)\").alias(\"mediane_taux\")\n",
    ")\n"
   ]
  },
  {
   "cell_type": "code",
   "execution_count": 30,
   "id": "2aa1fbf1-b7a4-42ba-998a-6b17efe123dc",
   "metadata": {},
   "outputs": [
    {
     "name": "stderr",
     "output_type": "stream",
     "text": [
      "                                                                                \r"
     ]
    },
    {
     "data": {
      "image/png": "[encoded data removed]",
      "text/plain": [
       "<Figure size 720x432 with 1 Axes>"
      ]
     },
     "metadata": {
      "needs_background": "light"
     },
     "output_type": "display_data"
    }
   ],
   "source": [
    "#Analyser la pertinence de ces moyennes\n",
    "\n",
    "# Récupération des moyennes pour afficher dans un histogramme\n",
    "data = mediane_taux.collect()\n",
    "categories = [row[\"situationfamiliale\"] for row in data]\n",
    "mediane_taux = [row[\"mediane_taux\"] for row in data]\n",
    "\n",
    "plt.figure(figsize=(10, 6))\n",
    "bars = plt.bar(categories, mediane_taux, color='skyblue')\n",
    "\n",
    "for bar in bars:\n",
    "    height = bar.get_height()\n",
    "    plt.text(bar.get_x() + bar.get_width() / 2, height, f'{height:.2f}', \n",
    "             ha='center', va='bottom', fontsize=10)\n",
    "\n",
    "plt.xlabel(\"Situation Familiale\")\n",
    "plt.ylabel(\"Taux Médian\")\n",
    "plt.title(\"Taux Médian par Situation Familiale\")\n",
    "plt.xticks(rotation=45)\n",
    "plt.tight_layout() \n",
    "plt.show()\n"
   ]
  },
  {
   "cell_type": "code",
   "execution_count": 31,
   "id": "fc9d6bdc-a6f2-4c37-8d46-75547cffa9c3",
   "metadata": {},
   "outputs": [
    {
     "name": "stderr",
     "output_type": "stream",
     "text": [
      "                                                                                \r"
     ]
    }
   ],
   "source": [
    "# Remplacer les nulls\n",
    "\n",
    "mediane_taux = df_client.approxQuantile(\"taux\", [0.5], 0.01)[0]\n",
    "df_client = df_client.withColumn(\"taux\", when(col(\"taux\").isNull(), mediane).otherwise(col(\"taux\")))"
   ]
  },
  {
   "cell_type": "code",
   "execution_count": 32,
   "id": "079bec64-f66d-4d0d-9585-491a4ae00f90",
   "metadata": {},
   "outputs": [
    {
     "name": "stdout",
     "output_type": "stream",
     "text": [
      "Médiane: 521.0\n"
     ]
    }
   ],
   "source": [
    "print(\"Médiane:\", mediane_taux)"
   ]
  },
  {
   "cell_type": "code",
   "execution_count": 33,
   "id": "cf6667ec-0f65-4078-bc51-14db0db5a02f",
   "metadata": {},
   "outputs": [
    {
     "name": "stderr",
     "output_type": "stream",
     "text": [
      "                                                                                \r"
     ]
    },
    {
     "data": {
      "text/plain": [
       "55431"
      ]
     },
     "execution_count": 33,
     "metadata": {},
     "output_type": "execute_result"
    }
   ],
   "source": [
    "#Analyse des données hors domaine\n",
    "\n",
    "valeurs_hors_champs_min = df_client.filter(col(\"taux\") < 544)\n",
    "valeurs_hors_champs_max = df_client.filter(col(\"taux\") > 74185)\n",
    "\n",
    "# Comptage des valeurs hors champ\n",
    "valeurs_hors_champs_min.count()\n",
    "\n"
   ]
  },
  {
   "cell_type": "code",
   "execution_count": 34,
   "id": "90f98e2f-7402-47dc-99f5-75990638b3fc",
   "metadata": {},
   "outputs": [
    {
     "name": "stderr",
     "output_type": "stream",
     "text": [
      "                                                                                \r"
     ]
    },
    {
     "data": {
      "text/plain": [
       "0"
      ]
     },
     "execution_count": 34,
     "metadata": {},
     "output_type": "execute_result"
    }
   ],
   "source": [
    "valeurs_hors_champs_max.count()"
   ]
  },
  {
   "cell_type": "code",
   "execution_count": 35,
   "id": "cc56cf36-712a-47b1-9926-1d8af2510adb",
   "metadata": {},
   "outputs": [],
   "source": [
    "#Correction des valeurs hors domaine (Création d'une colonne \"taux_eligible\")\n",
    "df_client = df_client.withColumn(\n",
    "    \"taux_eligible\",\n",
    "    when((col(\"taux\") >= 544) & (col(\"taux\") <= 74185), True).otherwise(False)\n",
    ")"
   ]
  },
  {
   "cell_type": "code",
   "execution_count": 36,
   "id": "e5cf0cd2-4631-4d27-baed-23028d69a7a9",
   "metadata": {},
   "outputs": [
    {
     "name": "stdout",
     "output_type": "stream",
     "text": [
      "+----+----+------+------------------+---------------+---------------+---------------+-------------+\n",
      "| age|sexe|  taux|situationfamiliale|nbenfantacharge|deuxiemevoiture|immatriculation|taux_eligible|\n",
      "+----+----+------+------------------+---------------+---------------+---------------+-------------+\n",
      "|40.0|   M| 400.0|         en couple|              1|          false|     7982 PU 33|        false|\n",
      "|42.0|   M| 525.0|         en couple|              1|          false|     7501 DZ 26|        false|\n",
      "|28.0|   M|1066.0|       celibataire|              0|          false|     6461 JH 46|         true|\n",
      "|44.0|   F| 237.0|       celibataire|              0|          false|     8430 FZ 18|        false|\n",
      "|75.0|   M| 563.0|       celibataire|              0|          false|     4429 QQ 61|         true|\n",
      "|56.0|   M| 840.0|         en couple|              0|          false|     3509 CA 60|         true|\n",
      "|28.0|   M| 414.0|         en couple|              2|          false|     5010 JT 73|        false|\n",
      "|42.0|   M| 209.0|       celibataire|              0|          false|     6353 BI 12|        false|\n",
      "|59.0|   M| 775.0|         en couple|              1|          false|     8452 QA 32|         true|\n",
      "|43.0|   M| 438.0|       celibataire|              0|          false|     6369 FT 49|        false|\n",
      "|53.0|   M|1056.0|         en couple|              0|          false|      378 QN 86|         true|\n",
      "|37.0|   M|1206.0|         en couple|              2|           true|     3271 YD 50|         true|\n",
      "|58.0|   M| 150.0|       celibataire|              0|          false|       79 XA 39|        false|\n",
      "|80.0|   M| 221.0|         en couple|              0|          false|     1574 EU 28|        false|\n",
      "|32.0|   M| 173.0|         en couple|              2|          false|     8768 QS 95|        false|\n",
      "|56.0|   M| 466.0|       celibataire|              0|          false|      548 HQ 47|        false|\n",
      "|48.0|   M| 973.0|       celibataire|              1|          false|     2940 CE 72|         true|\n",
      "|18.0|   F|1175.0|         en couple|              3|           true|     5816 HM 54|         true|\n",
      "|59.0|   M|1064.0|         en couple|              0|          false|     5250 ZW 33|         true|\n",
      "|18.0|   F| 427.0|         en couple|              3|          false|     9804 EI 73|        false|\n",
      "+----+----+------+------------------+---------------+---------------+---------------+-------------+\n",
      "only showing top 20 rows\n",
      "\n"
     ]
    }
   ],
   "source": [
    "# Affichage des résultats\n",
    "df_client.show()"
   ]
  },
  {
   "cell_type": "markdown",
   "id": "a0a12bed-3914-44b7-84be-78b980941247",
   "metadata": {},
   "source": [
    "## Traitement des null dans **nbenfantacharge**\n",
    "\n",
    "- Faire la moyenne des enfants à charges par valeur de situation familiale\n",
    "- Analyser la pertinence de ces moyennes\n",
    "- Remplacer les nulls"
   ]
  },
  {
   "cell_type": "code",
   "execution_count": 37,
   "id": "e81dea06-9e78-47bc-8551-67ea0598ded6",
   "metadata": {},
   "outputs": [],
   "source": [
    "# Faire la moyenne des enfants à charges par valeur de situation familiale\n",
    "moyenne_enfant = df_client.groupBy(\"situationfamiliale\").agg(\n",
    "    round(avg(\"nbenfantacharge\"), 0).cast(\"int\").alias(\"moyenne_enfant\")\n",
    ")"
   ]
  },
  {
   "cell_type": "code",
   "execution_count": 38,
   "id": "ad8f34de-d5dd-4d7a-9c64-cb711f04d565",
   "metadata": {},
   "outputs": [
    {
     "name": "stderr",
     "output_type": "stream",
     "text": [
      "                                                                                \r"
     ]
    },
    {
     "data": {
      "image/png": "[encoded data removed]",
      "text/plain": [
       "<Figure size 720x432 with 1 Axes>"
      ]
     },
     "metadata": {
      "needs_background": "light"
     },
     "output_type": "display_data"
    }
   ],
   "source": [
    "#Analyser la pertinence de ces moyennes\n",
    "\n",
    "# Récupération des moyennes pour afficher dans un histogramme\n",
    "data = moyenne_enfant.collect()\n",
    "categories = [row[\"situationfamiliale\"] for row in data]\n",
    "moyenne_enfant = [row[\"moyenne_enfant\"] for row in data]\n",
    "\n",
    "plt.figure(figsize=(10, 6))\n",
    "bars = plt.bar(categories, moyenne_enfant, color='skyblue')\n",
    "plt.xlabel(\"Situation Familiale\")\n",
    "plt.ylabel(\"Nombre enfant moyen\")\n",
    "plt.title(\"Nombre d'enfant moyen par Situation Familiale\")\n",
    "plt.xticks(rotation=45)\n",
    "plt.tight_layout() \n",
    "plt.show()\n"
   ]
  },
  {
   "cell_type": "code",
   "execution_count": 39,
   "id": "e198aadc-b510-494c-b65b-7eb456f648d7",
   "metadata": {},
   "outputs": [],
   "source": [
    "# Filtrer les données pour les célibataires et compter les valeurs non nulles de 'nbenfantacharge'\n",
    "\n",
    "df_celibataire = df_client.filter(col(\"situationfamiliale\") == \"celibataire\")\n",
    "value_client = df_celibataire.groupBy(\"nbenfantacharge\").count()"
   ]
  },
  {
   "cell_type": "code",
   "execution_count": 40,
   "id": "bd31caa8-2309-46cc-8ef2-6e6e8b2ba008",
   "metadata": {},
   "outputs": [
    {
     "name": "stderr",
     "output_type": "stream",
     "text": [
      "[Stage 71:>                                                         (0 + 1) / 1]\r"
     ]
    },
    {
     "name": "stdout",
     "output_type": "stream",
     "text": [
      "+---------------+-----+\n",
      "|nbenfantacharge|count|\n",
      "+---------------+-----+\n",
      "|             -1|   28|\n",
      "|              1| 1576|\n",
      "|              3| 1613|\n",
      "|              2| 1583|\n",
      "|              0|30072|\n",
      "|           null|   75|\n",
      "+---------------+-----+\n",
      "\n"
     ]
    },
    {
     "name": "stderr",
     "output_type": "stream",
     "text": [
      "                                                                                \r"
     ]
    }
   ],
   "source": [
    "value_client.show()"
   ]
  },
  {
   "cell_type": "code",
   "execution_count": 41,
   "id": "9ca52108-c99f-40d2-82f1-e0b5d870e19e",
   "metadata": {},
   "outputs": [],
   "source": [
    "df_client = df_client.withColumn(\n",
    "    \"nbenfantacharge\",\n",
    "    when(\n",
    "        (col(\"situationfamiliale\") == \"celibataire\") & (col(\"nbenfantacharge\").isNull() | (col(\"nbenfantacharge\") == -1)),\n",
    "        0\n",
    "    ).otherwise(col(\"nbenfantacharge\"))\n",
    ")\n",
    "\n",
    "df_client = df_client.withColumn(\n",
    "    \"nbenfantacharge\",\n",
    "    when(\n",
    "        (col(\"situationfamiliale\").isin(\"marie(e)\", \"divorce(e)\", \"en couple\")) & \n",
    "        (col(\"nbenfantacharge\").isNull() | (col(\"nbenfantacharge\") == -1)),\n",
    "        2\n",
    "    ).otherwise(col(\"nbenfantacharge\"))\n",
    ")\n"
   ]
  },
  {
   "cell_type": "code",
   "execution_count": 42,
   "id": "6f1f92d0-3f33-41d6-88a9-44d6d0e38b7c",
   "metadata": {},
   "outputs": [
    {
     "name": "stderr",
     "output_type": "stream",
     "text": [
      "[Stage 74:>                                                         (0 + 1) / 1]\r"
     ]
    },
    {
     "name": "stdout",
     "output_type": "stream",
     "text": [
      "+---------------+-----+\n",
      "|nbenfantacharge|count|\n",
      "+---------------+-----+\n",
      "|              1|16482|\n",
      "|              3|11486|\n",
      "|              4| 9987|\n",
      "|              2|16638|\n",
      "|              0|45101|\n",
      "+---------------+-----+\n",
      "\n"
     ]
    },
    {
     "name": "stderr",
     "output_type": "stream",
     "text": [
      "                                                                                \r"
     ]
    }
   ],
   "source": [
    "value_client = df_client.groupBy(\"nbenfantacharge\").count()\n",
    "value_client.show()"
   ]
  },
  {
   "cell_type": "markdown",
   "id": "61f66ea3-92a0-4c3d-b751-28122cb60783",
   "metadata": {},
   "source": [
    "## Traitement des null dans **sexe**\n",
    "\n",
    "- Fusionner F/F�minin/Femme en F\n",
    "- Fusionner H/Masculin/Hommme en H\n",
    "- Remplacer les null/? par N/D\n",
    "- Analyser les différentes proportions\n",
    "- Supprimer les N/D si les proportions le permettent"
   ]
  },
  {
   "cell_type": "code",
   "execution_count": 43,
   "id": "f825bce4-86a3-4f1c-924c-6f3c408a77b7",
   "metadata": {},
   "outputs": [
    {
     "name": "stderr",
     "output_type": "stream",
     "text": [
      "[Stage 77:>                                                         (0 + 1) / 1]\r"
     ]
    },
    {
     "name": "stdout",
     "output_type": "stream",
     "text": [
      "+--------+-----+\n",
      "|    sexe|count|\n",
      "+--------+-----+\n",
      "|       F|29400|\n",
      "|Masculin|  701|\n",
      "| F�minin|  297|\n",
      "|       M|68012|\n",
      "|     N/D|   87|\n",
      "|   Femme|  311|\n",
      "|        |   93|\n",
      "|   Homme|  689|\n",
      "|       ?|  104|\n",
      "+--------+-----+\n",
      "\n"
     ]
    },
    {
     "name": "stderr",
     "output_type": "stream",
     "text": [
      "                                                                                \r"
     ]
    }
   ],
   "source": [
    "value_client = df_client.groupBy(\"sexe\").count()\n",
    "value_client.show()"
   ]
  },
  {
   "cell_type": "code",
   "execution_count": 44,
   "id": "c3ef533e-d970-4438-a7d4-0328e0ff0594",
   "metadata": {},
   "outputs": [],
   "source": [
    "#Fusionner F/F�minin/Femme en F\n",
    "df_client = df_client.withColumn(\"sexe\", regexp_replace(col(\"sexe\"), \"Femme\", \"f\"))\n",
    "df_client = df_client.withColumn(\"sexe\", regexp_replace(col(\"sexe\"), \"F�minin\", \"f\"))\n",
    "df_client = df_client.withColumn(\"sexe\", regexp_replace(col(\"sexe\"), \"F\", \"f\"))\n",
    "\n",
    "#Fusionner H/M/Masculin/Hommme en H\n",
    "df_client = df_client.withColumn(\"sexe\", regexp_replace(col(\"sexe\"), \"Masculin\", \"h\"))\n",
    "df_client = df_client.withColumn(\"sexe\", regexp_replace(col(\"sexe\"), \"M\", \"h\"))\n",
    "df_client = df_client.withColumn(\"sexe\", regexp_replace(col(\"sexe\"), \"Homme\", \"h\"))\n",
    "df_client = df_client.withColumn(\"sexe\", regexp_replace(col(\"sexe\"), \"H\", \"h\"))\n",
    "\n",
    "#Remplacer les null/? par N/D\n",
    "df_client = df_client.withColumn(\"sexe\", when(col(\"sexe\") == None, \"n/d\").otherwise(col(\"sexe\")))\n",
    "df_client = df_client.withColumn(\"sexe\",when(trim(col(\"sexe\")) == \"\", \"n/d\").otherwise(col(\"sexe\")))\n",
    "df_client = df_client.withColumn(\"sexe\",when(trim(col(\"sexe\")) == \"N/D\", \"n/d\").otherwise(col(\"sexe\")))\n",
    "df_client = df_client.withColumn(\"sexe\",regexp_replace(col(\"sexe\"), r\"\\?\", \"n/d\"))"
   ]
  },
  {
   "cell_type": "code",
   "execution_count": 45,
   "id": "1fa113c7-8569-4bca-8ce3-53733d87239c",
   "metadata": {},
   "outputs": [
    {
     "name": "stderr",
     "output_type": "stream",
     "text": [
      "[Stage 80:>                                                         (0 + 1) / 1]\r"
     ]
    },
    {
     "name": "stdout",
     "output_type": "stream",
     "text": [
      "+----+-----+\n",
      "|sexe|count|\n",
      "+----+-----+\n",
      "|   f|30008|\n",
      "|   h|69402|\n",
      "| n/d|  284|\n",
      "+----+-----+\n",
      "\n"
     ]
    },
    {
     "name": "stderr",
     "output_type": "stream",
     "text": [
      "                                                                                \r"
     ]
    }
   ],
   "source": [
    "value_client = df_client.groupBy(\"sexe\").count()\n",
    "value_client.show()"
   ]
  },
  {
   "cell_type": "code",
   "execution_count": 46,
   "id": "bc877fa4-d17b-4e86-aec4-8eb2023394c3",
   "metadata": {},
   "outputs": [
    {
     "name": "stderr",
     "output_type": "stream",
     "text": [
      "[Stage 92:>                                                         (0 + 1) / 1]\r"
     ]
    },
    {
     "name": "stdout",
     "output_type": "stream",
     "text": [
      "+----+-----+------------------+\n",
      "|sexe|count|        percentage|\n",
      "+----+-----+------------------+\n",
      "|   f|30008|30.100106325355586|\n",
      "|   h|69402| 69.61502196721969|\n",
      "| n/d|  284|0.2848717074247196|\n",
      "+----+-----+------------------+\n",
      "\n"
     ]
    },
    {
     "name": "stderr",
     "output_type": "stream",
     "text": [
      "                                                                                \r"
     ]
    },
    {
     "data": {
      "image/png": "[encoded data removed]",
      "text/plain": [
       "<Figure size 576x576 with 1 Axes>"
      ]
     },
     "metadata": {},
     "output_type": "display_data"
    }
   ],
   "source": [
    "#Analyser les différentes proportions\n",
    "\n",
    "df_counts = df_client.groupBy(\"sexe\").agg(count(\"*\").alias(\"count\"))\n",
    "total_count = df_counts.selectExpr(\"SUM(count) as total\").collect()[0][\"total\"]\n",
    "\n",
    "df_percentages = df_counts.withColumn(\"percentage\", (col(\"count\") / total_count) * 100)\n",
    "\n",
    "# Collecter les données dans un format utilisable pour Matplotlib\n",
    "data = df_percentages.collect()\n",
    "labels = [row[\"sexe\"] if row[\"sexe\"] else \"Inconnue\" for row in data]\n",
    "sizes = [row[\"percentage\"] for row in data]\n",
    "df_percentages.show()\n",
    "\n",
    "# Étape 2 : Créer le diagramme camembert\n",
    "plt.figure(figsize=(8, 8))\n",
    "plt.pie(\n",
    "    sizes, \n",
    "    labels=labels, \n",
    "    autopct=\"%1.1f%%\", \n",
    "    startangle=90, \n",
    "    colors=plt.cm.Paired.colors\n",
    ")\n",
    "\n",
    "plt.axis(\"equal\")\n",
    "\n",
    "plt.show()"
   ]
  },
  {
   "cell_type": "code",
   "execution_count": 47,
   "id": "044a89a6-0552-4bbb-b06c-55d7ebab9d90",
   "metadata": {},
   "outputs": [],
   "source": [
    "#Supprimer les N/D si les proportions le permettent\n",
    "\n",
    "df_client= df_client.filter(col(\"sexe\") != \"n/d\")"
   ]
  },
  {
   "cell_type": "code",
   "execution_count": 48,
   "id": "96d1aa90-8d61-4e4f-a648-a1be2b6ee037",
   "metadata": {},
   "outputs": [
    {
     "name": "stderr",
     "output_type": "stream",
     "text": [
      "[Stage 95:>                                                         (0 + 1) / 1]\r"
     ]
    },
    {
     "name": "stdout",
     "output_type": "stream",
     "text": [
      "+----+-----+\n",
      "|sexe|count|\n",
      "+----+-----+\n",
      "|   f|30008|\n",
      "|   h|69402|\n",
      "+----+-----+\n",
      "\n"
     ]
    },
    {
     "name": "stderr",
     "output_type": "stream",
     "text": [
      "                                                                                \r"
     ]
    }
   ],
   "source": [
    "value_client = df_client.groupBy(\"sexe\").count()\n",
    "value_client.show()"
   ]
  },
  {
   "cell_type": "markdown",
   "id": "f2e2a93f-2497-43de-9930-cc26b43bef9b",
   "metadata": {},
   "source": [
    "## Traitement des null dans **deuxiemevoiture**\n",
    "\n",
    "- Calculer le pourcentage true/false\n",
    "- Remplacer les null en true et false en fonction des pourcentage de chacun."
   ]
  },
  {
   "cell_type": "code",
   "execution_count": 49,
   "id": "55c5b302-a022-463f-8741-0ed8a4e0790c",
   "metadata": {},
   "outputs": [
    {
     "name": "stderr",
     "output_type": "stream",
     "text": [
      "[Stage 98:>                                                         (0 + 1) / 1]\r"
     ]
    },
    {
     "name": "stdout",
     "output_type": "stream",
     "text": [
      "+---------------+-----+\n",
      "|deuxiemevoiture|count|\n",
      "+---------------+-----+\n",
      "|           true|12916|\n",
      "|          false|86301|\n",
      "|           null|  193|\n",
      "+---------------+-----+\n",
      "\n"
     ]
    },
    {
     "name": "stderr",
     "output_type": "stream",
     "text": [
      "                                                                                \r"
     ]
    }
   ],
   "source": [
    "value_client = df_client.groupBy(\"deuxiemevoiture\").count()\n",
    "value_client.show()"
   ]
  },
  {
   "cell_type": "code",
   "execution_count": 50,
   "id": "43b86ecd-da79-44d7-9c36-72f7389d49d3",
   "metadata": {},
   "outputs": [
    {
     "name": "stderr",
     "output_type": "stream",
     "text": [
      "[Stage 107:>                                                        (0 + 1) / 1]\r"
     ]
    },
    {
     "name": "stdout",
     "output_type": "stream",
     "text": [
      "+---------------+-----+------------------+\n",
      "|deuxiemevoiture|count|        percentage|\n",
      "+---------------+-----+------------------+\n",
      "|           true|12916|13.017930394992794|\n",
      "|          false|86301| 86.98206960500721|\n",
      "+---------------+-----+------------------+\n",
      "\n"
     ]
    },
    {
     "name": "stderr",
     "output_type": "stream",
     "text": [
      "                                                                                \r"
     ]
    }
   ],
   "source": [
    "#Calculer le pourcentage true/false\n",
    "\n",
    "df_filtered = df_client.filter(col(\"deuxiemevoiture\").isNotNull())\n",
    "df_counts = df_filtered.groupBy(\"deuxiemevoiture\").agg(count(\"*\").alias(\"count\"))\n",
    "total_count = df_counts.selectExpr(\"SUM(count) as total\").collect()[0][\"total\"]\n",
    "\n",
    "df_percentages = df_counts.withColumn(\"percentage\", (col(\"count\") / total_count) * 100)\n",
    "\n",
    "df_percentages.show()"
   ]
  },
  {
   "cell_type": "code",
   "execution_count": 51,
   "id": "75534c4d-2408-42dc-987e-8a1e4da506fc",
   "metadata": {},
   "outputs": [],
   "source": [
    "#Remplacer les null en true et false en fonction des pourcentage de chacun.\n",
    "\n",
    "df_nulls = df_client.filter(col(\"deuxiemevoiture\").isNull())\n",
    "\n",
    "# Ajouter une colonne aléatoire et assigner 'true' ou 'false' selon les proportions\n",
    "df_nulls_replaced = df_nulls.withColumn(\n",
    "    \"deuxiemevoiture\",\n",
    "    when(rand() < 0.13, True).otherwise(False)\n",
    ")\n",
    "\n",
    "# Filtrer les lignes sans 'null' dans 'deuxiemevoiture'\n",
    "df_non_nulls = df_client.filter(col(\"deuxiemevoiture\").isNotNull())\n",
    "\n",
    "# Combiner les deux DataFrames\n",
    "df_client = df_non_nulls.union(df_nulls_replaced)\n"
   ]
  },
  {
   "cell_type": "code",
   "execution_count": 52,
   "id": "b99f5ef2-c534-4c88-8ad1-755e8232f6a8",
   "metadata": {},
   "outputs": [
    {
     "name": "stderr",
     "output_type": "stream",
     "text": [
      "[Stage 116:>                                                        (0 + 2) / 2]\r"
     ]
    },
    {
     "name": "stdout",
     "output_type": "stream",
     "text": [
      "+---------------+-----+------------------+\n",
      "|deuxiemevoiture|count|        percentage|\n",
      "+---------------+-----+------------------+\n",
      "|           true|12932|13.008751634644403|\n",
      "|          false|86478|  86.9912483653556|\n",
      "+---------------+-----+------------------+\n",
      "\n"
     ]
    },
    {
     "name": "stderr",
     "output_type": "stream",
     "text": [
      "                                                                                \r"
     ]
    }
   ],
   "source": [
    "df_counts = df_client.groupBy(\"deuxiemevoiture\").agg(count(\"*\").alias(\"count\"))\n",
    "total_count = df_counts.selectExpr(\"SUM(count) as total\").collect()[0][\"total\"]\n",
    "\n",
    "df_percentages = df_counts.withColumn(\"percentage\", (col(\"count\") / total_count) * 100)\n",
    "\n",
    "df_percentages.show()"
   ]
  },
  {
   "cell_type": "markdown",
   "id": "bbcaee0f-5eda-4199-928a-e537fe7f36ca",
   "metadata": {},
   "source": [
    "## Traitement des null dans **immatriculation**\n",
    "\n",
    "- Compter les null\n",
    "- Compter les doublons\n",
    "- Analyser les doublons\n",
    "- Suppression des doublons"
   ]
  },
  {
   "cell_type": "code",
   "execution_count": 53,
   "id": "e55d08b5-350c-4d03-b406-ec3d5a2a3ba6",
   "metadata": {},
   "outputs": [
    {
     "name": "stderr",
     "output_type": "stream",
     "text": [
      "[Stage 119:============================>                            (1 + 1) / 2]\r"
     ]
    },
    {
     "name": "stdout",
     "output_type": "stream",
     "text": [
      "+--------+----+\n",
      "|non_null|null|\n",
      "+--------+----+\n",
      "|   99410|   0|\n",
      "+--------+----+\n",
      "\n"
     ]
    },
    {
     "name": "stderr",
     "output_type": "stream",
     "text": [
      "                                                                                \r"
     ]
    }
   ],
   "source": [
    "#Compter les null\n",
    "df_null_counts = df_client.select(\n",
    "    count(col(\"immatriculation\")).alias(\"non_null\"),\n",
    "    count(when(col(\"immatriculation\").isNull(), 1)).alias(\"null\")\n",
    ")\n",
    "\n",
    "# Afficher le résultat\n",
    "df_null_counts.show()"
   ]
  },
  {
   "cell_type": "code",
   "execution_count": 54,
   "id": "fd20daea-89c7-45ae-ae83-dc977d2fc7af",
   "metadata": {},
   "outputs": [
    {
     "name": "stderr",
     "output_type": "stream",
     "text": [
      "                                                                                \r"
     ]
    },
    {
     "name": "stdout",
     "output_type": "stream",
     "text": [
      "+---------------+-----+\n",
      "|immatriculation|count|\n",
      "+---------------+-----+\n",
      "|     8521 UI 89|    2|\n",
      "|     5823 ED 28|    2|\n",
      "|     8415 YL 81|    2|\n",
      "|     7397 EO 93|    2|\n",
      "|     8468 FV 64|    2|\n",
      "|     1033 TS 14|    2|\n",
      "|     8688 PZ 88|    2|\n",
      "|     2246 KE 86|    2|\n",
      "|     4177 DH 15|    2|\n",
      "+---------------+-----+\n",
      "\n"
     ]
    },
    {
     "name": "stderr",
     "output_type": "stream",
     "text": [
      "[Stage 129:>                                                        (0 + 1) / 1]\r"
     ]
    },
    {
     "name": "stdout",
     "output_type": "stream",
     "text": [
      "+---------------+----+----+------+------------------+---------------+---------------+-------------+\n",
      "|immatriculation| age|sexe|  taux|situationfamiliale|nbenfantacharge|deuxiemevoiture|taux_eligible|\n",
      "+---------------+----+----+------+------------------+---------------+---------------+-------------+\n",
      "|     7397 EO 93|26.0|   h| 480.0|         en couple|              2|          false|        false|\n",
      "|     5823 ED 28|53.0|   f| 585.0|         en couple|              1|          false|         true|\n",
      "|     8521 UI 89|56.0|   h| 516.0|       celibataire|              0|          false|        false|\n",
      "|     1033 TS 14|65.0|   h| 590.0|       celibataire|              0|          false|         true|\n",
      "|     4177 DH 15|52.0|   h| 464.0|         en couple|              1|          false|        false|\n",
      "|     2246 KE 86|55.0|   h| 155.0|         en couple|              2|          false|        false|\n",
      "|     8468 FV 64|44.0|   h| 408.0|         en couple|              3|          false|        false|\n",
      "|     8415 YL 81|44.0|   h| 509.0|       celibataire|              0|          false|        false|\n",
      "|     1033 TS 14|34.0|   h| 467.0|         en couple|              2|           true|        false|\n",
      "|     8688 PZ 88|37.0|   h| 222.0|         en couple|              2|          false|        false|\n",
      "|     4177 DH 15|50.0|   f| 580.0|       celibataire|              0|          false|         true|\n",
      "|     8688 PZ 88|81.0|   h| 458.0|         en couple|              2|          false|        false|\n",
      "|     7397 EO 93|45.0|   h|1065.0|         en couple|              2|          false|         true|\n",
      "|     8468 FV 64|56.0|   h| 976.0|         en couple|              2|           true|         true|\n",
      "|     8415 YL 81|50.0|   h| 867.0|         en couple|              2|          false|         true|\n",
      "|     5823 ED 28|44.0|   f| 198.0|         en couple|              1|          false|        false|\n",
      "|     2246 KE 86|52.0|   f| 415.0|         en couple|              0|           true|        false|\n",
      "|     8521 UI 89|53.0|   h| 199.0|       celibataire|              3|          false|        false|\n",
      "+---------------+----+----+------+------------------+---------------+---------------+-------------+\n",
      "\n"
     ]
    },
    {
     "name": "stderr",
     "output_type": "stream",
     "text": [
      "                                                                                \r"
     ]
    }
   ],
   "source": [
    "#Compter les doublons\n",
    "\n",
    "df_duplicates = (\n",
    "    df_client.groupBy(\"immatriculation\")\n",
    "    .agg(count(\"*\").alias(\"count\"))\n",
    "    .filter(col(\"count\") > 1)  # Filtrer les doublons (où le compte est > 1)\n",
    ")\n",
    "\n",
    "# Afficher les résultats\n",
    "df_duplicates.show()\n",
    "\n",
    "#Analyser les doublons\n",
    "\n",
    "duplicate_values = (\n",
    "    df_client.groupBy(\"immatriculation\")\n",
    "    .agg(count(\"*\").alias(\"count\"))\n",
    "    .filter(col(\"count\") > 1)  # Garde seulement les doublons\n",
    "    .select(\"immatriculation\")  # Récupère uniquement la colonne des doublons\n",
    ")\n",
    "\n",
    "df_duplicate_rows = df_client.join(\n",
    "    duplicate_values, on=\"immatriculation\", how=\"inner\"\n",
    ")\n",
    "\n",
    "# Afficher les lignes des doublons\n",
    "df_duplicate_rows.show()"
   ]
  },
  {
   "cell_type": "code",
   "execution_count": 55,
   "id": "cf1fd2dc-3445-4378-877f-0b8520eaa867",
   "metadata": {},
   "outputs": [],
   "source": [
    "#Suppression des doublons\n",
    "df_client= df_client.dropDuplicates([\"immatriculation\"])"
   ]
  },
  {
   "cell_type": "code",
   "execution_count": 56,
   "id": "fa37d623-df67-4dc6-88e5-45c89cd80c01",
   "metadata": {},
   "outputs": [
    {
     "name": "stderr",
     "output_type": "stream",
     "text": [
      "[Stage 130:============================>                            (1 + 1) / 2]\r"
     ]
    },
    {
     "name": "stdout",
     "output_type": "stream",
     "text": [
      "+---------------+-----+\n",
      "|immatriculation|count|\n",
      "+---------------+-----+\n",
      "+---------------+-----+\n",
      "\n"
     ]
    },
    {
     "name": "stderr",
     "output_type": "stream",
     "text": [
      "                                                                                \r"
     ]
    }
   ],
   "source": [
    "df_duplicates = (\n",
    "    df_client.groupBy(\"immatriculation\")\n",
    "    .agg(count(\"*\").alias(\"count\"))\n",
    "    .filter(col(\"count\") > 1)  # Filtrer les doublons (où le compte est > 1)\n",
    ")\n",
    "\n",
    "# Afficher les résultats\n",
    "df_duplicates.show()\n"
   ]
  },
  {
   "cell_type": "markdown",
   "id": "7dcc0458-b79f-41bc-b993-e596134802bb",
   "metadata": {},
   "source": [
    "## Modification du type des colonnes occasion\n",
    "\n",
    "- Recherche des valeurs d'occasion\n",
    "- Changer le type de la colonne"
   ]
  },
  {
   "cell_type": "code",
   "execution_count": 57,
   "id": "50f16b99-7b86-42e0-96a1-8e11a5758723",
   "metadata": {},
   "outputs": [
    {
     "name": "stderr",
     "output_type": "stream",
     "text": [
      "[Stage 133:============================>                            (2 + 2) / 4]\r"
     ]
    },
    {
     "name": "stdout",
     "output_type": "stream",
     "text": [
      "+--------+-------+\n",
      "|occasion|  count|\n",
      "+--------+-------+\n",
      "|   false|1374510|\n",
      "|    true| 625490|\n",
      "+--------+-------+\n",
      "\n"
     ]
    },
    {
     "name": "stderr",
     "output_type": "stream",
     "text": [
      "                                                                                \r"
     ]
    }
   ],
   "source": [
    "#Recherche des valeurs d'occasion\n",
    "value_count_occasion = df_immat.groupBy(\"occasion\").count()\n",
    "\n",
    "value_count_occasion.show()"
   ]
  },
  {
   "cell_type": "code",
   "execution_count": 58,
   "id": "2a22e105-629c-4609-bbc3-31738c389a45",
   "metadata": {},
   "outputs": [
    {
     "name": "stdout",
     "output_type": "stream",
     "text": [
      "root\n",
      " |-- immatriculation: string (nullable = true)\n",
      " |-- marque: string (nullable = true)\n",
      " |-- modele: string (nullable = true)\n",
      " |-- puissance: integer (nullable = true)\n",
      " |-- longueur: string (nullable = true)\n",
      " |-- nbplaces: integer (nullable = true)\n",
      " |-- nbportes: integer (nullable = true)\n",
      " |-- couleur: string (nullable = true)\n",
      " |-- occasion: boolean (nullable = true)\n",
      " |-- prix: integer (nullable = true)\n",
      "\n"
     ]
    }
   ],
   "source": [
    "#Changer le type de la colonne\n",
    "df_immat = df_immat.withColumn(\"occasion\", df_immat[\"occasion\"].cast(BooleanType()))\n",
    "\n",
    "df_immat.printSchema()"
   ]
  },
  {
   "cell_type": "markdown",
   "id": "ac5e1bab-a73c-4398-a764-47eb58c2d483",
   "metadata": {},
   "source": [
    "## Recherche de valeurs aberrantes\n",
    "\n",
    "- Modéliser les valeurs dans un diagramme à moustaches pour mettre en avant les valeurs aberrantes.\n",
    "- Afficher les valeurs suspectes."
   ]
  },
  {
   "cell_type": "code",
   "execution_count": 59,
   "id": "11a57d6b-965d-4548-b132-e273f573ed7c",
   "metadata": {},
   "outputs": [
    {
     "name": "stderr",
     "output_type": "stream",
     "text": [
      "                                                                                \r"
     ]
    },
    {
     "data": {
      "image/png": "[encoded data removed]",
      "text/plain": [
       "<Figure size 864x576 with 1 Axes>"
      ]
     },
     "metadata": {
      "needs_background": "light"
     },
     "output_type": "display_data"
    },
    {
     "data": {
      "image/png": "[encoded data removed]",
      "text/plain": [
       "<Figure size 864x576 with 1 Axes>"
      ]
     },
     "metadata": {
      "needs_background": "light"
     },
     "output_type": "display_data"
    },
    {
     "data": {
      "image/png": "[encoded data removed]",
      "text/plain": [
       "<Figure size 864x576 with 1 Axes>"
      ]
     },
     "metadata": {
      "needs_background": "light"
     },
     "output_type": "display_data"
    }
   ],
   "source": [
    "#Modéliser les valeurs dans un diagramme à moustaches pour mettre en avant les valeurs aberrantes.\n",
    "\n",
    "# 2. Sélectionner uniquement les colonnes numériques nécessaires\n",
    "\n",
    "df_place_porte = df_immat.select([\"nbplaces\", \"nbportes\"])\n",
    "df_prix = df_immat.select([\"prix\"])\n",
    "df_puissance = df_immat.select([\"puissance\"])\n",
    "\n",
    "# 3. Convertir le DataFrame PySpark en DataFrame Pandas\n",
    "df_place_porte= df_place_porte.toPandas()\n",
    "df_prix= df_prix.toPandas()\n",
    "df_puissance= df_puissance.toPandas()\n",
    "\n",
    "# 4. Tracer le diagramme à moustaches pour chaque colonne\n",
    "plt.figure(figsize=(12, 8))\n",
    "sns.boxplot(data=df_place_porte)\n",
    "plt.title(\"Diagramme à moustache pour détecter les valeurs aberrantes places/portes\")\n",
    "plt.xticks(rotation=45)\n",
    "plt.show()\n",
    "\n",
    "plt.figure(figsize=(12, 8))\n",
    "sns.boxplot(data=df_puissance)\n",
    "plt.title(\"Diagramme à moustache pour détecter les valeurs aberrantes puissance\")\n",
    "plt.xticks(rotation=45)\n",
    "plt.show()\n",
    "\n",
    "plt.figure(figsize=(12, 8))\n",
    "sns.boxplot(data=df_prix)\n",
    "plt.title(\"Diagramme à moustache pour détecter les valeurs aberrantes prix\")\n",
    "plt.xticks(rotation=45)\n",
    "plt.show()"
   ]
  },
  {
   "cell_type": "code",
   "execution_count": 60,
   "id": "bf5a8efd-f876-4ec1-a53a-97a3af926caa",
   "metadata": {},
   "outputs": [
    {
     "name": "stdout",
     "output_type": "stream",
     "text": [
      "+---------------+--------+------+---------+-----------+--------+--------+-------+--------+------+\n",
      "|immatriculation|  marque|modele|puissance|   longueur|nbplaces|nbportes|couleur|occasion|  prix|\n",
      "+---------------+--------+------+---------+-----------+--------+--------+-------+--------+------+\n",
      "|     3138 PY 76|mercedes|  s500|      306|tres longue|       5|       5|  rouge|   false|101300|\n",
      "|     1442 FF 73|mercedes|  s500|      306|tres longue|       5|       5|   noir|   false|101300|\n",
      "|     4765 XY 48|mercedes|  s500|      306|tres longue|       5|       5|  blanc|   false|101300|\n",
      "|     2223 XE 76|mercedes|  s500|      306|tres longue|       5|       5|  rouge|   false|101300|\n",
      "|     6694 KP 49|mercedes|  s500|      306|tres longue|       5|       5|   noir|   false|101300|\n",
      "|     9581 UG 51|mercedes|  s500|      306|tres longue|       5|       5|   gris|   false|101300|\n",
      "|     6247 XB 98|mercedes|  s500|      306|tres longue|       5|       5|   noir|   false|101300|\n",
      "|     3200 FP 58|mercedes|  s500|      306|tres longue|       5|       5|  blanc|   false|101300|\n",
      "|     8258 HJ 46|mercedes|  s500|      306|tres longue|       5|       5|  blanc|   false|101300|\n",
      "|     3337 DT 77|mercedes|  s500|      306|tres longue|       5|       5|  rouge|   false|101300|\n",
      "|     8183 PV 27|mercedes|  s500|      306|tres longue|       5|       5|   noir|   false|101300|\n",
      "|     3763 IP 55|mercedes|  s500|      306|tres longue|       5|       5|  rouge|   false|101300|\n",
      "|     3499 AK 51|mercedes|  s500|      306|tres longue|       5|       5|  rouge|   false|101300|\n",
      "|     8320 BT 64|mercedes|  s500|      306|tres longue|       5|       5|   bleu|   false|101300|\n",
      "|      372 HA 78|mercedes|  s500|      306|tres longue|       5|       5|   noir|   false|101300|\n",
      "|     8967 RM 91|mercedes|  s500|      306|tres longue|       5|       5|  rouge|   false|101300|\n",
      "|      328 TE 19|mercedes|  s500|      306|tres longue|       5|       5|   bleu|   false|101300|\n",
      "|     1645 CA 78|mercedes|  s500|      306|tres longue|       5|       5|   gris|   false|101300|\n",
      "|     3574 PY 18|mercedes|  s500|      306|tres longue|       5|       5|   noir|   false|101300|\n",
      "|     4577 IJ 93|mercedes|  s500|      306|tres longue|       5|       5|   gris|   false|101300|\n",
      "+---------------+--------+------+---------+-----------+--------+--------+-------+--------+------+\n",
      "only showing top 20 rows\n",
      "\n",
      "+---------------+------+-------------+---------+--------+--------+--------+-------+--------+----+\n",
      "|immatriculation|marque|       modele|puissance|longueur|nbplaces|nbportes|couleur|occasion|prix|\n",
      "+---------------+------+-------------+---------+--------+--------+--------+-------+--------+----+\n",
      "|     8183 ZY 18| dacia|logan 1.6 mpi|       90| moyenne|       5|       5|  rouge|   false|7500|\n",
      "|     8651 BG 92| dacia|logan 1.6 mpi|       90| moyenne|       5|       5|  rouge|   false|7500|\n",
      "|     9117 IO 27| dacia|logan 1.6 mpi|       90| moyenne|       5|       5|   bleu|   false|7500|\n",
      "|     3515 LD 89| dacia|logan 1.6 mpi|       90| moyenne|       5|       5|   noir|   false|7500|\n",
      "|     5928 UK 38| dacia|logan 1.6 mpi|       90| moyenne|       5|       5|   gris|   false|7500|\n",
      "|     7318 MB 44| dacia|logan 1.6 mpi|       90| moyenne|       5|       5|   noir|   false|7500|\n",
      "|     2759 PB 12| dacia|logan 1.6 mpi|       90| moyenne|       5|       5|   noir|   false|7500|\n",
      "|     3749 LP 97| dacia|logan 1.6 mpi|       90| moyenne|       5|       5|   noir|   false|7500|\n",
      "|      944 NI 85| dacia|logan 1.6 mpi|       90| moyenne|       5|       5|   bleu|   false|7500|\n",
      "|      798 MN 52| dacia|logan 1.6 mpi|       90| moyenne|       5|       5|  rouge|   false|7500|\n",
      "|     6771 IJ 46| dacia|logan 1.6 mpi|       90| moyenne|       5|       5|  rouge|   false|7500|\n",
      "|     1547 CE 68| dacia|logan 1.6 mpi|       90| moyenne|       5|       5|  blanc|   false|7500|\n",
      "|     7298 VQ 35| dacia|logan 1.6 mpi|       90| moyenne|       5|       5|  blanc|   false|7500|\n",
      "|     2001 FZ 85| dacia|logan 1.6 mpi|       90| moyenne|       5|       5|  blanc|   false|7500|\n",
      "|     4087 KP 88| dacia|logan 1.6 mpi|       90| moyenne|       5|       5|   bleu|   false|7500|\n",
      "|     5027 KE 85| dacia|logan 1.6 mpi|       90| moyenne|       5|       5|  rouge|   false|7500|\n",
      "|     2738 PM 82| dacia|logan 1.6 mpi|       90| moyenne|       5|       5|   noir|   false|7500|\n",
      "|     8354 HX 44| dacia|logan 1.6 mpi|       90| moyenne|       5|       5|   gris|   false|7500|\n",
      "|     6810 SU 51| dacia|logan 1.6 mpi|       90| moyenne|       5|       5|  rouge|   false|7500|\n",
      "|     7901 DK 27| dacia|logan 1.6 mpi|       90| moyenne|       5|       5|   gris|   false|7500|\n",
      "+---------------+------+-------------+---------+--------+--------+--------+-------+--------+----+\n",
      "only showing top 20 rows\n",
      "\n"
     ]
    }
   ],
   "source": [
    "#Afficher les valeurs suspectes.\n",
    "\n",
    "# Trouver la valeur maximale de la colonne \"prix\"\n",
    "prix_max = df_immat.select(max(\"prix\")).collect()[0][0]\n",
    "\n",
    "# Filtrer le DataFrame pour afficher les lignes ayant cette valeur\n",
    "df_max_prix = df_immat.filter(df_immat[\"prix\"] == prix_max)\n",
    "\n",
    "# Afficher les lignes avec le prix maximum\n",
    "df_max_prix.show()\n",
    "\n",
    "# Trouver la valeur maximale de la colonne \"prix\"\n",
    "prix_min = df_immat.select(min(\"prix\")).collect()[0][0]\n",
    "\n",
    "# Filtrer le DataFrame pour afficher les lignes ayant cette valeur\n",
    "df_min_prix = df_immat.filter(df_immat[\"prix\"] == prix_min)\n",
    "\n",
    "# Afficher les lignes avec le prix maximum\n",
    "df_min_prix.show()"
   ]
  },
  {
   "cell_type": "markdown",
   "id": "6adb29ab-eb88-42ae-a49f-0ba3b2952d21",
   "metadata": {},
   "source": [
    "## Fusion des tables **client** et **immatriculation**"
   ]
  },
  {
   "cell_type": "code",
   "execution_count": 61,
   "id": "b2a93007-a313-42d7-8358-97e452d15387",
   "metadata": {},
   "outputs": [],
   "source": [
    "#Fusion des tables\n",
    "df_client_immat= df_client.join(df_immat, on= \"immatriculation\")"
   ]
  },
  {
   "cell_type": "code",
   "execution_count": 62,
   "id": "3e651861-992f-4619-a760-2edd2b580743",
   "metadata": {},
   "outputs": [
    {
     "name": "stderr",
     "output_type": "stream",
     "text": [
      "                                                                                \r"
     ]
    },
    {
     "name": "stdout",
     "output_type": "stream",
     "text": [
      "+---------------+----+----+------+------------------+---------------+---------------+-------------+----------+----------------+---------+-----------+--------+--------+-------+--------+------+\n",
      "|immatriculation| age|sexe|  taux|situationfamiliale|nbenfantacharge|deuxiemevoiture|taux_eligible|    marque|          modele|puissance|   longueur|nbplaces|nbportes|couleur|occasion|  prix|\n",
      "+---------------+----+----+------+------------------+---------------+---------------+-------------+----------+----------------+---------+-----------+--------+--------+-------+--------+------+\n",
      "|     9175 TL 69|23.0|   h| 591.0|         en couple|              1|          false|         true|      saab|        9.3 1.8t|      150|     longue|       5|       5|   bleu|    true| 27020|\n",
      "|     3706 ZJ 29|51.0|   h| 506.0|         en couple|              1|           true|        false|   renault|vel satis 3.5 v6|      245|tres longue|       5|       5|   bleu|   false| 49200|\n",
      "|     9196 GA 50|23.0|   h| 531.0|       celibataire|              0|          false|        false|      saab|        9.3 1.8t|      150|     longue|       5|       5|   bleu|    true| 27020|\n",
      "|      783 HG 48|46.0|   h| 454.0|       celibataire|              0|          false|        false|volkswagen|     polo 1.2 6v|       55|     courte|       5|       3|   noir|    true|  8540|\n",
      "|     4287 XT 29|44.0|   h| 248.0|         en couple|              2|           true|        false|       bmw|            120i|      150|    moyenne|       5|       5|  rouge|    true| 25060|\n",
      "|     2203 KD 36|69.0|   h| 447.0|         en couple|              2|          false|        false|       bmw|              m5|      507|tres longue|       5|       5|  rouge|   false| 94800|\n",
      "|     9715 XS 38|80.0|   f| 518.0|       celibataire|              3|          false|        false|volkswagen|     polo 1.2 6v|       55|     courte|       5|       3|   gris|   false| 12200|\n",
      "|     7376 GW 89|45.0|   f| 163.0|       celibataire|              0|          false|        false|     volvo|          s80 t6|      272|tres longue|       5|       5|   bleu|    true| 35350|\n",
      "|     9141 EW 66|57.0|   h| 244.0|         en couple|              1|          false|        false|    nissan|      almera 1.8|      115|    moyenne|       5|       5|   noir|   false| 16450|\n",
      "|     4959 VH 69|24.0|   h| 582.0|         en couple|              0|           true|         true|       bmw|              m5|      507|tres longue|       5|       5|  blanc|   false| 94800|\n",
      "|     9558 WK 96|20.0|   f| 185.0|         en couple|              2|          false|        false|      saab|        9.3 1.8t|      150|     longue|       5|       5|   bleu|    true| 27020|\n",
      "|     5894 DV 51|69.0|   h| 474.0|       celibataire|              0|          false|        false|     volvo|          s80 t6|      272|tres longue|       5|       5|   noir|   false| 50500|\n",
      "|     6116 KN 34|50.0|   h|1058.0|       celibataire|              0|          false|         true|   renault|vel satis 3.5 v6|      245|tres longue|       5|       5|  blanc|   false| 49200|\n",
      "|     8854 WE 77|18.0|   h| 201.0|       celibataire|              0|          false|        false|     skoda|   superb 2.8 v6|      193|tres longue|       5|       5|   bleu|   false| 31790|\n",
      "|     3486 SN 90|47.0|   f|1141.0|       celibataire|              0|          false|         true|      fiat|       croma 2.2|      147|     longue|       5|       5|   gris|   false| 24780|\n",
      "|     2476 ZD 70|82.0|   h| 156.0|         en couple|              3|          false|        false|  mercedes|            s500|      306|tres longue|       5|       5|   noir|    true| 70910|\n",
      "|     7071 EP 50|42.0|   h| 444.0|         en couple|              1|          false|        false|    jaguar|   x-type 2.5 v6|      197|     longue|       5|       5|   noir|    true| 25970|\n",
      "|     3356 PQ 45|81.0|   h|1244.0|          marie(e)|              3|          false|         true|  mercedes|            s500|      306|tres longue|       5|       5|   bleu|   false|101300|\n",
      "|     6812 LE 61|74.0|   h| 172.0|       celibataire|              0|          false|        false|volkswagen|     polo 1.2 6v|       55|     courte|       5|       3|   noir|   false| 12200|\n",
      "|     2330 YQ 78|26.0|   h| 180.0|         en couple|              2|          false|        false|     volvo|          s80 t6|      272|tres longue|       5|       5|   gris|   false| 50500|\n",
      "+---------------+----+----+------+------------------+---------------+---------------+-------------+----------+----------------+---------+-----------+--------+--------+-------+--------+------+\n",
      "only showing top 20 rows\n",
      "\n"
     ]
    },
    {
     "name": "stderr",
     "output_type": "stream",
     "text": [
      "                                                                                \r"
     ]
    },
    {
     "data": {
      "text/plain": [
       "99401"
      ]
     },
     "execution_count": 62,
     "metadata": {},
     "output_type": "execute_result"
    }
   ],
   "source": [
    "df_client_immat.show()\n",
    "df_client.count()"
   ]
  },
  {
   "cell_type": "code",
   "execution_count": 63,
   "id": "28c46a1d-7554-49fd-b5ee-ad0af7556c40",
   "metadata": {},
   "outputs": [
    {
     "name": "stderr",
     "output_type": "stream",
     "text": [
      "                                                                                \r"
     ]
    },
    {
     "name": "stdout",
     "output_type": "stream",
     "text": [
      "Nombre de correspondances (matchs) : 99733\n"
     ]
    },
    {
     "name": "stderr",
     "output_type": "stream",
     "text": [
      "                                                                                \r"
     ]
    }
   ],
   "source": [
    "#Nombre de match\n",
    "match_count=df_client_immat.count()\n",
    "\n",
    "print(f\"Nombre de correspondances (matchs) : {match_count}\")"
   ]
  },
  {
   "cell_type": "code",
   "execution_count": 64,
   "id": "196789f6-de20-4567-a9a7-33604006467f",
   "metadata": {},
   "outputs": [
    {
     "name": "stderr",
     "output_type": "stream",
     "text": [
      "                                                                                \r"
     ]
    },
    {
     "data": {
      "text/plain": [
       "332"
      ]
     },
     "execution_count": 64,
     "metadata": {},
     "output_type": "execute_result"
    }
   ],
   "source": [
    "#Compter les doublons\n",
    "df_duplicates = (\n",
    "    df_client_immat.groupBy(\"immatriculation\")\n",
    "    .agg(count(\"*\").alias(\"count\"))\n",
    "    .filter(col(\"count\") > 1)  # Filtrer les doublons (où le compte est > 1)\n",
    ")\n",
    "\n",
    "# Afficher les résultats\n",
    "df_duplicates.count()\n"
   ]
  },
  {
   "cell_type": "code",
   "execution_count": 65,
   "id": "904d583e-11c0-4b1d-9642-d5c03021fec8",
   "metadata": {},
   "outputs": [
    {
     "name": "stderr",
     "output_type": "stream",
     "text": [
      "[Stage 181:==============>                                          (1 + 3) / 4]\r"
     ]
    },
    {
     "name": "stdout",
     "output_type": "stream",
     "text": [
      "+---------------+----+----+-----+------------------+---------------+---------------+-------------+----------+-------------+---------+-----------+--------+--------+-------+--------+-----+\n",
      "|immatriculation| age|sexe| taux|situationfamiliale|nbenfantacharge|deuxiemevoiture|taux_eligible|    marque|       modele|puissance|   longueur|nbplaces|nbportes|couleur|occasion| prix|\n",
      "+---------------+----+----+-----+------------------+---------------+---------------+-------------+----------+-------------+---------+-----------+--------+--------+-------+--------+-----+\n",
      "|     1033 TS 14|65.0|   h|590.0|       celibataire|              0|          false|         true|  mercedes|         a200|      136|    moyenne|       5|       5|  blanc|    true|18130|\n",
      "|     1033 TS 14|65.0|   h|590.0|       celibataire|              0|          false|         true|   peugeot|     1007 1.4|       75|     courte|       5|       5|   bleu|   false|13750|\n",
      "|     1044 ZL 59|23.0|   h|762.0|         en couple|              2|          false|         true|    jaguar|x-type 2.5 v6|      197|     longue|       5|       5|  rouge|   false|37100|\n",
      "|     1044 ZL 59|23.0|   h|762.0|         en couple|              2|          false|         true|  mercedes|         a200|      136|    moyenne|       5|       5|   gris|    true|18130|\n",
      "|     1110 CR 17|34.0|   h|526.0|       celibataire|              1|          false|        false|     volvo|       s80 t6|      272|tres longue|       5|       5|   gris|   false|50500|\n",
      "|     1110 CR 17|34.0|   h|526.0|       celibataire|              1|          false|        false|      ford|   mondeo 1.8|      125|     longue|       5|       5|  blanc|   false|23900|\n",
      "|      124 YR 59|32.0|   h|553.0|       celibataire|              0|          false|         true|      ford|   mondeo 1.8|      125|     longue|       5|       5|   bleu|   false|23900|\n",
      "|      124 YR 59|32.0|   h|553.0|       celibataire|              0|          false|         true|volkswagen| golf 2.0 fsi|      150|    moyenne|       5|       5|  blanc|   false|22900|\n",
      "|     1262 GN 39|62.0|   f|150.0|         en couple|              3|          false|        false|      audi|       a2 1.4|       75|     courte|       5|       5|   bleu|   false|18310|\n",
      "|     1262 GN 39|62.0|   f|150.0|         en couple|              3|          false|        false|     volvo|       s80 t6|      272|tres longue|       5|       5|  blanc|    true|35350|\n",
      "+---------------+----+----+-----+------------------+---------------+---------------+-------------+----------+-------------+---------+-----------+--------+--------+-------+--------+-----+\n",
      "only showing top 10 rows\n",
      "\n"
     ]
    },
    {
     "name": "stderr",
     "output_type": "stream",
     "text": [
      "                                                                                \r"
     ]
    }
   ],
   "source": [
    "#Analyser les doublons\n",
    "duplicate_values = (\n",
    "    df_client_immat.groupBy(\"immatriculation\")\n",
    "    .agg(count(\"*\").alias(\"count\"))\n",
    "    .filter(col(\"count\") > 1)  # Filtrer les doublons\n",
    "    .select(\"immatriculation\")  # Récupérer les valeurs des doublons\n",
    ")\n",
    "\n",
    "# Étape 2 : Joindre pour récupérer les lignes correspondantes\n",
    "df_duplicate_rows = df_client_immat.join(\n",
    "    duplicate_values, on=\"immatriculation\", how=\"inner\"\n",
    ")\n",
    "\n",
    "# Étape 3 : Ordonnancer par 'immatriculation' et afficher une seule ligne\n",
    "df_duplicate_rows.orderBy(\"immatriculation\").show(10)"
   ]
  },
  {
   "cell_type": "code",
   "execution_count": 66,
   "id": "b2f56d76-814b-4857-bd42-ed7cbaeec1d9",
   "metadata": {},
   "outputs": [],
   "source": [
    "#Supression des doublons\n",
    "df_client_immat= df_client_immat.dropDuplicates([\"immatriculation\"])"
   ]
  },
  {
   "cell_type": "code",
   "execution_count": 67,
   "id": "9ecb8b34-c08d-49aa-8b69-cb0c290e412b",
   "metadata": {},
   "outputs": [
    {
     "name": "stderr",
     "output_type": "stream",
     "text": [
      "                                                                                \r"
     ]
    },
    {
     "data": {
      "text/plain": [
       "0"
      ]
     },
     "execution_count": 67,
     "metadata": {},
     "output_type": "execute_result"
    }
   ],
   "source": [
    "df_duplicates = (\n",
    "    df_client_immat.groupBy(\"immatriculation\")\n",
    "    .agg(count(\"*\").alias(\"count\"))\n",
    "    .filter(col(\"count\") > 1)  # Filtrer les doublons (où le compte est > 1)\n",
    ")\n",
    "\n",
    "# Afficher les résultats\n",
    "df_duplicates.count()"
   ]
  },
  {
   "cell_type": "code",
   "execution_count": 68,
   "id": "47b9e545-fd29-44a3-8a12-88468517a614",
   "metadata": {},
   "outputs": [
    {
     "name": "stdout",
     "output_type": "stream",
     "text": [
      "root\n",
      " |-- immatriculation: string (nullable = true)\n",
      " |-- age: double (nullable = true)\n",
      " |-- sexe: string (nullable = true)\n",
      " |-- taux: double (nullable = true)\n",
      " |-- situationfamiliale: string (nullable = true)\n",
      " |-- nbenfantacharge: integer (nullable = true)\n",
      " |-- deuxiemevoiture: boolean (nullable = true)\n",
      " |-- taux_eligible: boolean (nullable = false)\n",
      " |-- marque: string (nullable = true)\n",
      " |-- modele: string (nullable = true)\n",
      " |-- puissance: integer (nullable = true)\n",
      " |-- longueur: string (nullable = true)\n",
      " |-- nbplaces: integer (nullable = true)\n",
      " |-- nbportes: integer (nullable = true)\n",
      " |-- couleur: string (nullable = true)\n",
      " |-- occasion: boolean (nullable = true)\n",
      " |-- prix: integer (nullable = true)\n",
      "\n"
     ]
    }
   ],
   "source": [
    "df_client_immat.printSchema()"
   ]
  },
  {
   "cell_type": "code",
   "execution_count": 69,
   "id": "503d7374-7ed5-4ab6-8d1b-8c64a4551d01",
   "metadata": {},
   "outputs": [],
   "source": [
    "# Ajout de la colonne 'categorie' avec des critères précis\n",
    "df_client_immat= df_client_immat.withColumn(\n",
    "    \"categorie\",\n",
    "    when(\n",
    "        (col(\"longueur\") == \"courte\") & (col(\"puissance\") < 100) & (col(\"prix\") < 20000),\n",
    "        \"citadine economique\"\n",
    "    )\n",
    "    .when(\n",
    "        (col(\"longueur\") == \"courte\") & (col(\"puissance\") >= 100) & (col(\"prix\") >= 20000),\n",
    "        \"citadine standard\"\n",
    "    )\n",
    "    .when(\n",
    "        (col(\"longueur\").isin(\"moyenne\", \"longue\")) & (col(\"nbplaces\") >= 5) & (col(\"prix\") < 35000),\n",
    "        \"familiale\"\n",
    "    )\n",
    "    .when(\n",
    "        (col(\"longueur\").isin(\"longue\", \"tres longue\")) & (col(\"nbplaces\") >= 5) & (col(\"prix\") >= 35000),\n",
    "        \"suv/crossover\"\n",
    "    )\n",
    "    .when(\n",
    "        (col(\"puissance\") >= 200) & (col(\"prix\") >= 40000),\n",
    "        \"sportive\"\n",
    "    )\n",
    "    .when(\n",
    "        (col(\"prix\") >= 50000),\n",
    "        \"luxe\"\n",
    "    )\n",
    "    .otherwise(\"autre\")\n",
    ")"
   ]
  },
  {
   "cell_type": "code",
   "execution_count": 70,
   "id": "f7682629-e0c5-4291-9c77-f760b404f709",
   "metadata": {},
   "outputs": [
    {
     "name": "stderr",
     "output_type": "stream",
     "text": [
      "[Stage 195:>                                                        (0 + 1) / 1]\r"
     ]
    },
    {
     "name": "stdout",
     "output_type": "stream",
     "text": [
      "+---------------+----+----+------+------------------+---------------+---------------+-------------+----------+--------------+---------+-----------+--------+--------+-------+--------+-----+-------------------+\n",
      "|immatriculation| age|sexe|  taux|situationfamiliale|nbenfantacharge|deuxiemevoiture|taux_eligible|    marque|        modele|puissance|   longueur|nbplaces|nbportes|couleur|occasion| prix|          categorie|\n",
      "+---------------+----+----+------+------------------+---------------+---------------+-------------+----------+--------------+---------+-----------+--------+--------+-------+--------+-----+-------------------+\n",
      "|        0 WQ 28|61.0|   h|1213.0|       celibataire|              0|          false|         true|  mercedes|          a200|      136|    moyenne|       5|       5|   gris|   false|25900|          familiale|\n",
      "|        1 DH 28|84.0|   h| 520.0|       celibataire|              0|          false|        false|   peugeot|      1007 1.4|       75|     courte|       5|       5|   bleu|   false|13750|citadine economique|\n",
      "|        1 DW 68|44.0|   f| 595.0|       celibataire|              0|          false|         true|   renault|megane 2.0 16v|      135|    moyenne|       5|       5|  rouge|   false|22350|          familiale|\n",
      "|        1 JD 57|39.0|   h| 171.0|         en couple|              3|          false|        false|     skoda| superb 2.8 v6|      193|tres longue|       5|       5|  rouge|   false|31790|              autre|\n",
      "|        1 LH 18|52.0|   f| 197.0|         en couple|              4|          false|        false|     volvo|        s80 t6|      272|tres longue|       5|       5|   bleu|    true|35350|      suv/crossover|\n",
      "|       10 HY 79|46.0|   h| 504.0|         en couple|              3|          false|        false|     volvo|        s80 t6|      272|tres longue|       5|       5|   gris|   false|50500|      suv/crossover|\n",
      "|       10 TB 78|37.0|   f| 448.0|         en couple|              2|           true|        false|   peugeot|      1007 1.4|       75|     courte|       5|       5|   bleu|   false|13750|citadine economique|\n",
      "|      100 EW 46|18.0|   h| 993.0|       celibataire|              0|          false|         true|      audi|        a2 1.4|       75|     courte|       5|       5|  blanc|   false|18310|citadine economique|\n",
      "|      100 HA 73|42.0|   f|1126.0|         en couple|              2|          false|         true|    jaguar| x-type 2.5 v6|      197|     longue|       5|       5|  rouge|   false|37100|      suv/crossover|\n",
      "|      100 PP 91|55.0|   f| 245.0|         en couple|              2|          false|        false|     volvo|        s80 t6|      272|tres longue|       5|       5|   noir|    true|35350|      suv/crossover|\n",
      "|      100 XZ 87|33.0|   h| 435.0|         en couple|              1|          false|        false|      fiat|     croma 2.2|      147|     longue|       5|       5|   gris|   false|24780|          familiale|\n",
      "|     1000 AG 15|52.0|   h|1329.0|         en couple|              4|          false|         true|       bmw|            m5|      507|tres longue|       5|       5|   bleu|   false|94800|      suv/crossover|\n",
      "|     1000 RD 14|81.0|   f| 475.0|         en couple|              1|          false|        false|  mercedes|          s500|      306|tres longue|       5|       5|   bleu|    true|70910|      suv/crossover|\n",
      "|     1002 EG 53|30.0|   h| 179.0|         en couple|              4|          false|        false|     skoda| superb 2.8 v6|      193|tres longue|       5|       5|  rouge|   false|31790|              autre|\n",
      "|     1002 UI 97|31.0|   h| 573.0|       celibataire|              0|          false|         true|volkswagen|   polo 1.2 6v|       55|     courte|       5|       3|  blanc|   false|12200|citadine economique|\n",
      "|     1003 AG 94|27.0|   f| 464.0|       celibataire|              0|          false|        false|   peugeot|      1007 1.4|       75|     courte|       5|       5|   bleu|   false|13750|citadine economique|\n",
      "|     1003 XW 11|54.0|   h| 556.0|       celibataire|              0|          false|         true|volkswagen|   polo 1.2 6v|       55|     courte|       5|       3|   gris|   false|12200|citadine economique|\n",
      "|     1004 AC 24|45.0|   f| 486.0|       celibataire|              2|          false|        false|      ford|    mondeo 1.8|      125|     longue|       5|       5|  rouge|   false|23900|          familiale|\n",
      "|     1004 KU 24|52.0|   h| 450.0|         en couple|              1|           true|        false|volkswagen|   polo 1.2 6v|       55|     courte|       5|       3|   gris|   false|12200|citadine economique|\n",
      "|     1005 WO 13|49.0|   f| 538.0|       celibataire|              0|          false|        false|      audi|    a3 2.0 fsi|      150|    moyenne|       5|       5|   noir|    true|19950|          familiale|\n",
      "+---------------+----+----+------+------------------+---------------+---------------+-------------+----------+--------------+---------+-----------+--------+--------+-------+--------+-----+-------------------+\n",
      "only showing top 20 rows\n",
      "\n"
     ]
    },
    {
     "name": "stderr",
     "output_type": "stream",
     "text": [
      "                                                                                \r"
     ]
    }
   ],
   "source": [
    "df_client_immat.show()"
   ]
  },
  {
   "cell_type": "code",
   "execution_count": null,
   "id": "06c92ce2-0229-4e30-ba6c-a2c168922384",
   "metadata": {},
   "outputs": [],
   "source": []
  }
 ],
 "metadata": {
  "kernelspec": {
   "display_name": "Python 3 (ipykernel)",
   "language": "python",
   "name": "python3"
  },
  "language_info": {
   "codemirror_mode": {
    "name": "ipython",
    "version": 3
   },
   "file_extension": ".py",
   "mimetype": "text/x-python",
   "name": "python",
   "nbconvert_exporter": "python",
   "pygments_lexer": "ipython3",
   "version": "3.9.7"
  }
 },
 "nbformat": 4,
 "nbformat_minor": 5
}
