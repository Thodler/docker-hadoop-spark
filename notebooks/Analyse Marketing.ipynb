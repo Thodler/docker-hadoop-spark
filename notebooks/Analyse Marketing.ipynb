{
 "cells": [
  {
   "cell_type": "code",
   "execution_count": 1,
   "id": "68f297d2-fc7f-424b-96d1-85b506bd6465",
   "metadata": {},
   "outputs": [],
   "source": [
    "from pyspark.sql import SparkSession\n",
    "from pyspark.sql.functions import regexp_replace, lower, col"
   ]
  },
  {
   "cell_type": "code",
   "execution_count": 2,
   "id": "eaf8a651-7e16-4c1e-a41f-4ca6c15dd7fa",
   "metadata": {
    "jupyter": {
     "is_executing": true
    }
   },
   "outputs": [
    {
     "name": "stderr",
     "output_type": "stream",
     "text": [
      "WARNING: An illegal reflective access operation has occurred\n",
      "WARNING: Illegal reflective access by org.apache.spark.unsafe.Platform (file:/usr/local/spark-3.2.0-bin-hadoop3.2/jars/spark-unsafe_2.12-3.2.0.jar) to constructor java.nio.DirectByteBuffer(long,int)\n",
      "WARNING: Please consider reporting this to the maintainers of org.apache.spark.unsafe.Platform\n",
      "WARNING: Use --illegal-access=warn to enable warnings of further illegal reflective access operations\n",
      "WARNING: All illegal access operations will be denied in a future release\n",
      "Using Spark's default log4j profile: org/apache/spark/log4j-defaults.properties\n",
      "Setting default log level to \"WARN\".\n",
      "To adjust logging level use sc.setLogLevel(newLevel). For SparkR, use setLogLevel(newLevel).\n",
      "24/11/14 19:08:48 WARN NativeCodeLoader: Unable to load native-hadoop library for your platform... using builtin-java classes where applicable\n"
     ]
    }
   ],
   "source": [
    "spark = SparkSession.builder\\\n",
    "    .appName(\"AggregateCatalogueCo2\")\\\n",
    "    .enableHiveSupport()\\\n",
    "    .getOrCreate()"
   ]
  },
  {
   "cell_type": "code",
   "execution_count": 3,
   "id": "3d7b29db-3cb9-4751-9610-455528ce8afa",
   "metadata": {},
   "outputs": [],
   "source": [
    "spark.sparkContext.setLogLevel(\"OFF\")\n",
    "spark.catalog.clearCache()\n",
    "spark.sql(\"USE concessionnaire\")\n",
    "\n",
    "df_marketing = spark.sql(\"SELECT * FROM marketing_ext\")\n",
    "df_marketing = df_marketing.filter(df_marketing['sexe'] != 'sexe') # A GERER DANS L'IMPORT DE HIVE ???"
   ]
  },
  {
   "cell_type": "code",
   "execution_count": 4,
   "id": "ff07c299-378e-41ae-9b6a-0732275f3e36",
   "metadata": {},
   "outputs": [
    {
     "name": "stdout",
     "output_type": "stream",
     "text": [
      "+---+----+------+------------------+---------------+---------------+\n",
      "|age|sexe|  taux|situationfamiliale|nbenfantacharge|deuxiemevoiture|\n",
      "+---+----+------+------------------+---------------+---------------+\n",
      "| 21|   F|1396.0|       C�libataire|              0|          false|\n",
      "| 35|   M| 223.0|       C�libataire|              0|          false|\n",
      "| 48|   M| 401.0|       C�libataire|              0|          false|\n",
      "| 26|   F| 420.0|         En Couple|              3|           true|\n",
      "| 80|   M| 530.0|         En Couple|              3|          false|\n",
      "| 27|   F| 153.0|         En Couple|              2|          false|\n",
      "| 59|   F| 572.0|         En Couple|              2|          false|\n",
      "| 43|   F| 431.0|       C�libataire|              0|          false|\n",
      "| 64|   M| 559.0|       C�libataire|              0|          false|\n",
      "| 22|   M| 154.0|         En Couple|              1|          false|\n",
      "| 79|   F| 981.0|         En Couple|              2|          false|\n",
      "| 55|   M| 588.0|       C�libataire|              0|          false|\n",
      "| 19|   F| 212.0|       C�libataire|              0|          false|\n",
      "| 34|   F|1112.0|         En Couple|              0|          false|\n",
      "| 60|   M| 524.0|         En Couple|              0|           true|\n",
      "| 22|   M| 411.0|         En Couple|              3|           true|\n",
      "| 58|   M|1192.0|         En Couple|              0|          false|\n",
      "| 54|   F| 452.0|         En Couple|              3|           true|\n",
      "| 35|   M| 589.0|       C�libataire|              0|          false|\n",
      "| 59|   M| 748.0|         En Couple|              0|           true|\n",
      "+---+----+------+------------------+---------------+---------------+\n",
      "\n"
     ]
    }
   ],
   "source": [
    "df_marketing.show(n=1000)"
   ]
  },
  {
   "cell_type": "markdown",
   "id": "9e2374f4-958a-46c3-9fc9-d6dc00ca1206",
   "metadata": {},
   "source": [
    "### Remarque 001\n",
    "- Le symbole \"�\" apparaît dans la colonne **situationfamiliale**.\n",
    "- Des majuscule sont dans la colonne **situationfamiliale**.\n"
   ]
  },
  {
   "cell_type": "code",
   "execution_count": 5,
   "id": "945b82f8-bc0b-4bc8-ba91-b45cee93fa67",
   "metadata": {},
   "outputs": [],
   "source": [
    "#Le symbole \"�\" apparaît dans la colonne situationfamiliale.\n",
    "df_marketing = df_marketing.withColumn(\"situationfamiliale\", regexp_replace(col(\"situationfamiliale\"), \"�\", \"e\"))\n",
    "df_marketing = df_marketing.withColumn(\"situationfamiliale\", lower(col(\"situationfamiliale\")))"
   ]
  },
  {
   "cell_type": "code",
   "execution_count": 6,
   "id": "11c98e08-cdfb-468e-8528-fdf898336bd9",
   "metadata": {},
   "outputs": [
    {
     "name": "stdout",
     "output_type": "stream",
     "text": [
      "+---+----+------+------------------+---------------+---------------+\n",
      "|age|sexe|  taux|situationfamiliale|nbenfantacharge|deuxiemevoiture|\n",
      "+---+----+------+------------------+---------------+---------------+\n",
      "| 21|   F|1396.0|       celibataire|              0|          false|\n",
      "| 35|   M| 223.0|       celibataire|              0|          false|\n",
      "| 48|   M| 401.0|       celibataire|              0|          false|\n",
      "| 26|   F| 420.0|         en couple|              3|           true|\n",
      "| 80|   M| 530.0|         en couple|              3|          false|\n",
      "| 27|   F| 153.0|         en couple|              2|          false|\n",
      "| 59|   F| 572.0|         en couple|              2|          false|\n",
      "| 43|   F| 431.0|       celibataire|              0|          false|\n",
      "| 64|   M| 559.0|       celibataire|              0|          false|\n",
      "| 22|   M| 154.0|         en couple|              1|          false|\n",
      "| 79|   F| 981.0|         en couple|              2|          false|\n",
      "| 55|   M| 588.0|       celibataire|              0|          false|\n",
      "| 19|   F| 212.0|       celibataire|              0|          false|\n",
      "| 34|   F|1112.0|         en couple|              0|          false|\n",
      "| 60|   M| 524.0|         en couple|              0|           true|\n",
      "| 22|   M| 411.0|         en couple|              3|           true|\n",
      "| 58|   M|1192.0|         en couple|              0|          false|\n",
      "| 54|   F| 452.0|         en couple|              3|           true|\n",
      "| 35|   M| 589.0|       celibataire|              0|          false|\n",
      "| 59|   M| 748.0|         en couple|              0|           true|\n",
      "+---+----+------+------------------+---------------+---------------+\n",
      "\n",
      "root\n",
      " |-- age: integer (nullable = true)\n",
      " |-- sexe: string (nullable = true)\n",
      " |-- taux: float (nullable = true)\n",
      " |-- situationfamiliale: string (nullable = true)\n",
      " |-- nbenfantacharge: integer (nullable = true)\n",
      " |-- deuxiemevoiture: boolean (nullable = true)\n",
      "\n"
     ]
    }
   ],
   "source": [
    "df_marketing.show(n=1000)\n",
    "df_marketing.printSchema()"
   ]
  }
 ],
 "metadata": {
  "kernelspec": {
   "display_name": "Python 3 (ipykernel)",
   "language": "python",
   "name": "python3"
  },
  "language_info": {
   "codemirror_mode": {
    "name": "ipython",
    "version": 3
   },
   "file_extension": ".py",
   "mimetype": "text/x-python",
   "name": "python",
   "nbconvert_exporter": "python",
   "pygments_lexer": "ipython3",
   "version": "3.9.7"
  }
 },
 "nbformat": 4,
 "nbformat_minor": 5
}
