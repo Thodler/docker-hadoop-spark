{
 "cells": [
  {
   "cell_type": "code",
   "execution_count": 1,
   "id": "68f297d2-fc7f-424b-96d1-85b506bd6465",
   "metadata": {},
   "outputs": [],
   "source": [
    "from pyspark.sql import SparkSession\n",
    "from pyspark.sql.functions import regexp_replace, lower, col, when\n",
    "\n",
    "import matplotlib.pyplot as plt"
   ]
  },
  {
   "cell_type": "code",
   "execution_count": 2,
   "id": "eaf8a651-7e16-4c1e-a41f-4ca6c15dd7fa",
   "metadata": {
    "jupyter": {
     "is_executing": true
    }
   },
   "outputs": [
    {
     "name": "stderr",
     "output_type": "stream",
     "text": [
      "WARNING: An illegal reflective access operation has occurred\n",
      "WARNING: Illegal reflective access by org.apache.spark.unsafe.Platform (file:/usr/local/spark-3.2.0-bin-hadoop3.2/jars/spark-unsafe_2.12-3.2.0.jar) to constructor java.nio.DirectByteBuffer(long,int)\n",
      "WARNING: Please consider reporting this to the maintainers of org.apache.spark.unsafe.Platform\n",
      "WARNING: Use --illegal-access=warn to enable warnings of further illegal reflective access operations\n",
      "WARNING: All illegal access operations will be denied in a future release\n",
      "Using Spark's default log4j profile: org/apache/spark/log4j-defaults.properties\n",
      "Setting default log level to \"WARN\".\n",
      "To adjust logging level use sc.setLogLevel(newLevel). For SparkR, use setLogLevel(newLevel).\n",
      "24/11/16 09:17:12 WARN NativeCodeLoader: Unable to load native-hadoop library for your platform... using builtin-java classes where applicable\n"
     ]
    }
   ],
   "source": [
    "spark = SparkSession.builder\\\n",
    "    .appName(\"Nettoyage de Marketing\")\\\n",
    "    .enableHiveSupport()\\\n",
    "    .getOrCreate()"
   ]
  },
  {
   "cell_type": "code",
   "execution_count": 3,
   "id": "3d7b29db-3cb9-4751-9610-455528ce8afa",
   "metadata": {},
   "outputs": [],
   "source": [
    "spark.sparkContext.setLogLevel(\"OFF\")\n",
    "spark.catalog.clearCache()\n",
    "spark.sql(\"USE concessionnaire\")\n",
    "\n",
    "df_marketing = spark.sql(\"SELECT * FROM marketing_ext\")\n",
    "df_marketing = df_marketing.filter(df_marketing['sexe'] != 'sexe') # A GERER DANS L'IMPORT DE HIVE ???"
   ]
  },
  {
   "cell_type": "code",
   "execution_count": 4,
   "id": "ff07c299-378e-41ae-9b6a-0732275f3e36",
   "metadata": {},
   "outputs": [
    {
     "name": "stdout",
     "output_type": "stream",
     "text": [
      "+---+----+------+------------------+---------------+---------------+\n",
      "|age|sexe|  taux|situationfamiliale|nbenfantacharge|deuxiemevoiture|\n",
      "+---+----+------+------------------+---------------+---------------+\n",
      "| 21|   F|1396.0|       C�libataire|              0|          false|\n",
      "| 35|   M| 223.0|       C�libataire|              0|          false|\n",
      "| 48|   M| 401.0|       C�libataire|              0|          false|\n",
      "| 26|   F| 420.0|         En Couple|              3|           true|\n",
      "| 80|   M| 530.0|         En Couple|              3|          false|\n",
      "| 27|   F| 153.0|         En Couple|              2|          false|\n",
      "| 59|   F| 572.0|         En Couple|              2|          false|\n",
      "| 43|   F| 431.0|       C�libataire|              0|          false|\n",
      "| 64|   M| 559.0|       C�libataire|              0|          false|\n",
      "| 22|   M| 154.0|         En Couple|              1|          false|\n",
      "| 79|   F| 981.0|         En Couple|              2|          false|\n",
      "| 55|   M| 588.0|       C�libataire|              0|          false|\n",
      "| 19|   F| 212.0|       C�libataire|              0|          false|\n",
      "| 34|   F|1112.0|         En Couple|              0|          false|\n",
      "| 60|   M| 524.0|         En Couple|              0|           true|\n",
      "| 22|   M| 411.0|         En Couple|              3|           true|\n",
      "| 58|   M|1192.0|         En Couple|              0|          false|\n",
      "| 54|   F| 452.0|         En Couple|              3|           true|\n",
      "| 35|   M| 589.0|       C�libataire|              0|          false|\n",
      "| 59|   M| 748.0|         En Couple|              0|           true|\n",
      "+---+----+------+------------------+---------------+---------------+\n",
      "\n"
     ]
    }
   ],
   "source": [
    "df_marketing.show(n=1000)"
   ]
  },
  {
   "cell_type": "markdown",
   "id": "9e2374f4-958a-46c3-9fc9-d6dc00ca1206",
   "metadata": {},
   "source": [
    "### Remarque 001\n",
    "- Le symbole \"�\" apparaît dans la colonne **situationfamiliale**.\n",
    "- Des majuscule sont dans la colonne **situationfamiliale**.\n"
   ]
  },
  {
   "cell_type": "code",
   "execution_count": 5,
   "id": "945b82f8-bc0b-4bc8-ba91-b45cee93fa67",
   "metadata": {},
   "outputs": [],
   "source": [
    "#Le symbole \"�\" apparaît dans la colonne situationfamiliale.\n",
    "df_marketing = df_marketing.withColumn(\"situationfamiliale\", regexp_replace(col(\"situationfamiliale\"), \"�\", \"e\"))\n",
    "df_marketing = df_marketing.withColumn(\"situationfamiliale\", lower(col(\"situationfamiliale\")))"
   ]
  },
  {
   "cell_type": "code",
   "execution_count": 6,
   "id": "11c98e08-cdfb-468e-8528-fdf898336bd9",
   "metadata": {},
   "outputs": [
    {
     "name": "stdout",
     "output_type": "stream",
     "text": [
      "+---+----+------+------------------+---------------+---------------+\n",
      "|age|sexe|  taux|situationfamiliale|nbenfantacharge|deuxiemevoiture|\n",
      "+---+----+------+------------------+---------------+---------------+\n",
      "| 21|   F|1396.0|       celibataire|              0|          false|\n",
      "| 35|   M| 223.0|       celibataire|              0|          false|\n",
      "| 48|   M| 401.0|       celibataire|              0|          false|\n",
      "| 26|   F| 420.0|         en couple|              3|           true|\n",
      "| 80|   M| 530.0|         en couple|              3|          false|\n",
      "| 27|   F| 153.0|         en couple|              2|          false|\n",
      "| 59|   F| 572.0|         en couple|              2|          false|\n",
      "| 43|   F| 431.0|       celibataire|              0|          false|\n",
      "| 64|   M| 559.0|       celibataire|              0|          false|\n",
      "| 22|   M| 154.0|         en couple|              1|          false|\n",
      "| 79|   F| 981.0|         en couple|              2|          false|\n",
      "| 55|   M| 588.0|       celibataire|              0|          false|\n",
      "| 19|   F| 212.0|       celibataire|              0|          false|\n",
      "| 34|   F|1112.0|         en couple|              0|          false|\n",
      "| 60|   M| 524.0|         en couple|              0|           true|\n",
      "| 22|   M| 411.0|         en couple|              3|           true|\n",
      "| 58|   M|1192.0|         en couple|              0|          false|\n",
      "| 54|   F| 452.0|         en couple|              3|           true|\n",
      "| 35|   M| 589.0|       celibataire|              0|          false|\n",
      "| 59|   M| 748.0|         en couple|              0|           true|\n",
      "+---+----+------+------------------+---------------+---------------+\n",
      "\n",
      "root\n",
      " |-- age: integer (nullable = true)\n",
      " |-- sexe: string (nullable = true)\n",
      " |-- taux: float (nullable = true)\n",
      " |-- situationfamiliale: string (nullable = true)\n",
      " |-- nbenfantacharge: integer (nullable = true)\n",
      " |-- deuxiemevoiture: boolean (nullable = true)\n",
      "\n"
     ]
    }
   ],
   "source": [
    "df_marketing.show(n=1000)\n",
    "df_marketing.printSchema()"
   ]
  },
  {
   "cell_type": "markdown",
   "id": "5b602de3-1a25-4e5a-b78e-e71fd3c48421",
   "metadata": {},
   "source": [
    "## Vérification du domaines de valeurs"
   ]
  },
  {
   "cell_type": "code",
   "execution_count": 7,
   "id": "38e3d38d-ecef-4153-a0be-f577226e9946",
   "metadata": {},
   "outputs": [
    {
     "name": "stdout",
     "output_type": "stream",
     "text": [
      "Age inférieure à 18 ans: 0\n",
      "Age supérieure à 84 ans: 0\n"
     ]
    }
   ],
   "source": [
    "age_inf = 18\n",
    "age_supp = 84\n",
    "\n",
    "result = df_marketing.filter(df_marketing['age'] < age_inf).count()\n",
    "print(f'Age inférieure à {age_inf} ans: {result}')\n",
    "\n",
    "result = df_marketing.filter(df_marketing['age'] > age_supp).count()\n",
    "print(f'Age supérieure à {age_supp} ans: {result}')"
   ]
  },
  {
   "cell_type": "code",
   "execution_count": 8,
   "id": "9cf3bf17-c9c2-4c66-8749-969fb597ee69",
   "metadata": {},
   "outputs": [
    {
     "name": "stdout",
     "output_type": "stream",
     "text": [
      "Sexe différent de 'F' ou 'M': 0\n"
     ]
    }
   ],
   "source": [
    "result = df_marketing.filter((df_marketing['sexe'] != 'F') & (df_marketing['sexe'] != 'M')).count()\n",
    "print(f'Sexe différent de \\'F\\' ou \\'M\\': {result}')"
   ]
  },
  {
   "cell_type": "code",
   "execution_count": 9,
   "id": "2c9fec63-6918-47d7-956b-20ed53ee3713",
   "metadata": {},
   "outputs": [
    {
     "name": "stdout",
     "output_type": "stream",
     "text": [
      "Taux inférieure à 544: 11 (55.00%)\n",
      "Taux supérieure à 74185: 0 (0.00%)\n"
     ]
    }
   ],
   "source": [
    "taux_inf = 544\n",
    "taux_supp = 74185\n",
    "\n",
    "# Total des lignes\n",
    "total = df_marketing.count()\n",
    "\n",
    "# Calculer et afficher les résultats\n",
    "result_inf = df_marketing.filter(df_marketing['taux'] < taux_inf).count()\n",
    "percent_inf = (result_inf / total) * 100\n",
    "print(f'Taux inférieure à {taux_inf}: {result_inf} ({percent_inf:.2f}%)')\n",
    "\n",
    "result_supp = df_marketing.filter(df_marketing['taux'] > taux_supp).count()\n",
    "percent_supp = (result_supp / total) * 100\n",
    "print(f'Taux supérieure à {taux_supp}: {result_supp} ({percent_supp:.2f}%)')"
   ]
  },
  {
   "cell_type": "code",
   "execution_count": 10,
   "id": "3612c792-aa58-4ae1-908c-3c44f4a241cb",
   "metadata": {},
   "outputs": [
    {
     "name": "stdout",
     "output_type": "stream",
     "text": [
      "Nombre d'enregistrements avec 'situation_familiale' valide : 0\n"
     ]
    }
   ],
   "source": [
    "list_situation_familiale_domain_value = [\n",
    "    'celibataire',\n",
    "    'en couple',\n",
    "    'divorce',\n",
    "    'marie(e)',\n",
    "    'seul',\n",
    "    'seule'\n",
    "]\n",
    "\n",
    "result = df_marketing.filter(~df_marketing['situationfamiliale'].isin(list_situation_familiale_domain_value)).count()\n",
    "print(f\"Nombre d'enregistrements avec 'situation_familiale' valide : {result}\")"
   ]
  },
  {
   "cell_type": "code",
   "execution_count": 11,
   "id": "525d5434-859b-49b2-857e-69b846b40629",
   "metadata": {},
   "outputs": [
    {
     "name": "stdout",
     "output_type": "stream",
     "text": [
      "Nombre d'enfant à charge inférieure à 0: 0\n",
      "Nombre d'enfant à charge supérieure à 4: 0\n"
     ]
    }
   ],
   "source": [
    "enfant_inf = 0\n",
    "enfant_supp = 4\n",
    "\n",
    "result = df_marketing.filter(df_marketing['nbenfantacharge'] < enfant_inf).count()\n",
    "print(f'Nombre d\\'enfant à charge inférieure à {enfant_inf}: {result}')\n",
    "\n",
    "result = df_marketing.filter(df_marketing['nbenfantacharge'] > enfant_supp).count()\n",
    "print(f'Nombre d\\'enfant à charge supérieure à {enfant_supp}: {result}')"
   ]
  },
  {
   "cell_type": "markdown",
   "id": "ef3aef3e-25b8-4074-a761-d7d751cac303",
   "metadata": {},
   "source": [
    "### Réorganisation du dataframe marketing"
   ]
  },
  {
   "cell_type": "code",
   "execution_count": 12,
   "id": "46d04478-2187-4bd0-ac46-f7e63dc8af06",
   "metadata": {},
   "outputs": [
    {
     "name": "stdout",
     "output_type": "stream",
     "text": [
      "+---+----+------+------------------+---------------+---------------+-------------+\n",
      "|age|sexe|  taux|situationfamiliale|nbenfantacharge|deuxiemevoiture|taux_eligible|\n",
      "+---+----+------+------------------+---------------+---------------+-------------+\n",
      "| 21|   F|1396.0|       celibataire|              0|          false|        false|\n",
      "| 35|   M| 223.0|       celibataire|              0|          false|         true|\n",
      "| 48|   M| 401.0|       celibataire|              0|          false|         true|\n",
      "| 26|   F| 420.0|         en couple|              3|           true|         true|\n",
      "| 80|   M| 530.0|         en couple|              3|          false|         true|\n",
      "| 27|   F| 153.0|         en couple|              2|          false|         true|\n",
      "| 59|   F| 572.0|         en couple|              2|          false|        false|\n",
      "| 43|   F| 431.0|       celibataire|              0|          false|         true|\n",
      "| 64|   M| 559.0|       celibataire|              0|          false|        false|\n",
      "| 22|   M| 154.0|         en couple|              1|          false|         true|\n",
      "| 79|   F| 981.0|         en couple|              2|          false|        false|\n",
      "| 55|   M| 588.0|       celibataire|              0|          false|        false|\n",
      "| 19|   F| 212.0|       celibataire|              0|          false|         true|\n",
      "| 34|   F|1112.0|         en couple|              0|          false|        false|\n",
      "| 60|   M| 524.0|         en couple|              0|           true|         true|\n",
      "| 22|   M| 411.0|         en couple|              3|           true|         true|\n",
      "| 58|   M|1192.0|         en couple|              0|          false|        false|\n",
      "| 54|   F| 452.0|         en couple|              3|           true|         true|\n",
      "| 35|   M| 589.0|       celibataire|              0|          false|        false|\n",
      "| 59|   M| 748.0|         en couple|              0|           true|        false|\n",
      "+---+----+------+------------------+---------------+---------------+-------------+\n",
      "\n"
     ]
    }
   ],
   "source": [
    "df_marketing = df_marketing.withColumn(\n",
    "    \"taux_eligible\",\n",
    "    when((df_marketing[\"taux\"] < taux_inf) | (df_marketing[\"taux\"] > taux_supp), True).otherwise(False)\n",
    ")\n",
    "\n",
    "df_marketing.show()"
   ]
  },
  {
   "cell_type": "markdown",
   "id": "a1baf9ae-bace-4e2d-be4a-dbcf3777774c",
   "metadata": {},
   "source": [
    "## Création de la table"
   ]
  },
  {
   "cell_type": "code",
   "execution_count": 14,
   "id": "847ee186-c529-4cef-8c92-0d66fe33a6ef",
   "metadata": {},
   "outputs": [
    {
     "name": "stdout",
     "output_type": "stream",
     "text": [
      "Création et enregistrement de la table \"marketing\"\n"
     ]
    }
   ],
   "source": [
    "# Nom de la table cible\n",
    "table_name = \"marketing\"\n",
    "\n",
    "table_exists = spark._jsparkSession.catalog().tableExists(\"concessionnaire\", table_name)\n",
    "\n",
    "if not table_exists:\n",
    "    print('Création et enregistrement de la table \"marketing\"')\n",
    "    df_marketing.write.saveAsTable(table_name)\n",
    "else:\n",
    "    print('Enregistrement dans la table \"marketing\"')\n",
    "    df_marketing.write.mode(\"overwrite\").saveAsTable(table_name)"
   ]
  },
  {
   "cell_type": "code",
   "execution_count": null,
   "id": "afee81cb-6c8b-4d3a-a93b-9ff50d61f01d",
   "metadata": {},
   "outputs": [],
   "source": []
  }
 ],
 "metadata": {
  "kernelspec": {
   "display_name": "Python 3 (ipykernel)",
   "language": "python",
   "name": "python3"
  },
  "language_info": {
   "codemirror_mode": {
    "name": "ipython",
    "version": 3
   },
   "file_extension": ".py",
   "mimetype": "text/x-python",
   "name": "python",
   "nbconvert_exporter": "python",
   "pygments_lexer": "ipython3",
   "version": "3.9.7"
  }
 },
 "nbformat": 4,
 "nbformat_minor": 5
}
