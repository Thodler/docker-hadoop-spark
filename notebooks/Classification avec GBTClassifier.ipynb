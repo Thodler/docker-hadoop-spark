{
 "cells": [
  {
   "cell_type": "code",
   "execution_count": 1,
   "id": "initial_id",
   "metadata": {},
   "outputs": [],
   "source": [
    "from pyspark.sql import SparkSession\n",
    "from pyspark.sql.functions import col, when, sum, count, avg, round, udf, corr\n",
    "from pyspark.ml.feature import StringIndexer, OneHotEncoder, VectorAssembler, IndexToString, StandardScaler\n",
    "from pyspark.ml.classification import RandomForestClassifier, DecisionTreeClassifier\n",
    "from pyspark.ml.evaluation import MulticlassClassificationEvaluator\n",
    "from pyspark.ml.tuning import CrossValidator, ParamGridBuilder\n",
    "from pyspark.sql.types import DoubleType\n",
    "from pyspark.ml.stat import Correlation\n",
    "from pyspark.ml.linalg import VectorUDT\n",
    "\n",
    "\n",
    "import pandas as pd\n",
    "import seaborn as sns\n",
    "import matplotlib.pyplot as plt\n"
   ]
  },
  {
   "cell_type": "code",
   "execution_count": 2,
   "id": "ab0bc1ae-9658-433b-8e95-570503bfe684",
   "metadata": {},
   "outputs": [
    {
     "name": "stderr",
     "output_type": "stream",
     "text": [
      "WARNING: An illegal reflective access operation has occurred\n",
      "WARNING: Illegal reflective access by org.apache.spark.unsafe.Platform (file:/usr/local/spark-3.2.0-bin-hadoop3.2/jars/spark-unsafe_2.12-3.2.0.jar) to constructor java.nio.DirectByteBuffer(long,int)\n",
      "WARNING: Please consider reporting this to the maintainers of org.apache.spark.unsafe.Platform\n",
      "WARNING: Use --illegal-access=warn to enable warnings of further illegal reflective access operations\n",
      "WARNING: All illegal access operations will be denied in a future release\n",
      "Using Spark's default log4j profile: org/apache/spark/log4j-defaults.properties\n",
      "Setting default log level to \"WARN\".\n",
      "To adjust logging level use sc.setLogLevel(newLevel). For SparkR, use setLogLevel(newLevel).\n",
      "24/11/18 13:24:08 WARN NativeCodeLoader: Unable to load native-hadoop library for your platform... using builtin-java classes where applicable\n",
      "24/11/18 13:24:09 WARN Utils: Service 'SparkUI' could not bind on port 4040. Attempting port 4041.\n"
     ]
    },
    {
     "data": {
      "text/plain": [
       "DataFrame[]"
      ]
     },
     "execution_count": 2,
     "metadata": {},
     "output_type": "execute_result"
    }
   ],
   "source": [
    "spark = SparkSession.builder\\\n",
    "    .appName(\"Préparation de données\")\\\n",
    "    .enableHiveSupport()\\\n",
    "    .getOrCreate()\n",
    "\n",
    "spark.sparkContext.setLogLevel(\"OFF\")\n",
    "spark.catalog.clearCache()\n",
    "spark.sql(\"USE concessionnaire\")"
   ]
  },
  {
   "cell_type": "code",
   "execution_count": 3,
   "id": "60f4b1ed-bdc8-4e9c-8f95-40586dd17b84",
   "metadata": {},
   "outputs": [
    {
     "name": "stdout",
     "output_type": "stream",
     "text": [
      "root\n",
      " |-- immatriculation: string (nullable = true)\n",
      " |-- age: double (nullable = true)\n",
      " |-- sexe: string (nullable = true)\n",
      " |-- taux: double (nullable = true)\n",
      " |-- situationfamiliale: string (nullable = true)\n",
      " |-- nbenfantacharge: integer (nullable = true)\n",
      " |-- deuxiemevoiture: boolean (nullable = true)\n",
      " |-- taux_eligible: boolean (nullable = true)\n",
      " |-- marque: string (nullable = true)\n",
      " |-- modele: string (nullable = true)\n",
      " |-- puissance: integer (nullable = true)\n",
      " |-- longueur: string (nullable = true)\n",
      " |-- nbplaces: integer (nullable = true)\n",
      " |-- nbportes: integer (nullable = true)\n",
      " |-- couleur: string (nullable = true)\n",
      " |-- occasion: boolean (nullable = true)\n",
      " |-- prix: integer (nullable = true)\n",
      " |-- categorie: string (nullable = true)\n",
      "\n"
     ]
    }
   ],
   "source": [
    "clients_immatriculations = spark.sql(\"SELECT * FROM clients_immatriculations\")\n",
    "clients_immatriculations.printSchema()"
   ]
  },
  {
   "cell_type": "markdown",
   "id": "9407675b-70b3-4f9c-9697-5692f69d1408",
   "metadata": {},
   "source": [
    "### Verification des doublons"
   ]
  },
  {
   "cell_type": "code",
   "execution_count": 4,
   "id": "8c56f420-ef98-4a2c-acce-87665cc20510",
   "metadata": {},
   "outputs": [
    {
     "name": "stderr",
     "output_type": "stream",
     "text": [
      "                                                                                \r"
     ]
    },
    {
     "name": "stdout",
     "output_type": "stream",
     "text": [
      "+---------------+---+----+----+------------------+---------------+---------------+-------------+------+------+---------+--------+--------+--------+-------+--------+----+---------+-----+\n",
      "|immatriculation|age|sexe|taux|situationfamiliale|nbenfantacharge|deuxiemevoiture|taux_eligible|marque|modele|puissance|longueur|nbplaces|nbportes|couleur|occasion|prix|categorie|count|\n",
      "+---------------+---+----+----+------------------+---------------+---------------+-------------+------+------+---------+--------+--------+--------+-------+--------+----+---------+-----+\n",
      "+---------------+---+----+----+------------------+---------------+---------------+-------------+------+------+---------+--------+--------+--------+-------+--------+----+---------+-----+\n",
      "\n"
     ]
    }
   ],
   "source": [
    "doublons = clients_immatriculations.groupBy(*clients_immatriculations.columns).agg(count(\"*\").alias(\"count\")).filter(\"count > 1\")\n",
    "doublons.show(truncate=False)"
   ]
  },
  {
   "cell_type": "markdown",
   "id": "38ba59e5-8312-46f6-ad8c-7dcaeaaff557",
   "metadata": {},
   "source": [
    "### Analyse des **null**"
   ]
  },
  {
   "cell_type": "code",
   "execution_count": 5,
   "id": "3e63acba-9679-4d7f-8b39-77945e1d9951",
   "metadata": {},
   "outputs": [
    {
     "name": "stderr",
     "output_type": "stream",
     "text": [
      "                                                                                \r"
     ]
    },
    {
     "name": "stdout",
     "output_type": "stream",
     "text": [
      "+---------------+-----+\n",
      "|nbenfantacharge|count|\n",
      "+---------------+-----+\n",
      "|              1|16425|\n",
      "|              3|11451|\n",
      "|              4| 9960|\n",
      "|              2|16592|\n",
      "|              0|44973|\n",
      "+---------------+-----+\n",
      "\n"
     ]
    }
   ],
   "source": [
    "doublons = clients_immatriculations.groupBy('nbenfantacharge').count().show()"
   ]
  },
  {
   "cell_type": "code",
   "execution_count": 6,
   "id": "809655c8-7007-4e44-9b52-f4be951e3aa5",
   "metadata": {},
   "outputs": [],
   "source": [
    "clients_immatriculations = clients_immatriculations.fillna(0)"
   ]
  },
  {
   "cell_type": "markdown",
   "id": "4b2dbdd6-31ac-4a42-a66e-3cc563d97178",
   "metadata": {},
   "source": [
    "### Supprimer les colones innutiles"
   ]
  },
  {
   "cell_type": "code",
   "execution_count": 7,
   "id": "2c1b5453-dd53-4be0-be94-d9cca673f60c",
   "metadata": {},
   "outputs": [],
   "source": [
    "clients_immatriculations = clients_immatriculations.drop('immatriculation')\n",
    "clients_immatriculations = clients_immatriculations.drop('couleur')"
   ]
  },
  {
   "cell_type": "markdown",
   "id": "3c8b60cd-5374-46a8-9c79-d076d6116249",
   "metadata": {},
   "source": [
    "### OneHotEncoder"
   ]
  },
  {
   "cell_type": "code",
   "execution_count": 8,
   "id": "d2511917-dd2e-4baf-98a0-1274f9cb99af",
   "metadata": {},
   "outputs": [
    {
     "name": "stderr",
     "output_type": "stream",
     "text": [
      "                                                                                \r"
     ]
    }
   ],
   "source": [
    "indexer_marque = StringIndexer(inputCol=\"marque\", outputCol=\"marque_index\")\n",
    "indexer_marque = indexer_marque.fit(clients_immatriculations)\n",
    "clients_immatriculations = indexer_marque.transform(clients_immatriculations)\n",
    "\n",
    "encoder_marque = OneHotEncoder(inputCol=\"marque_index\", outputCol=\"marque_encoded\")\n",
    "clients_immatriculations = encoder_marque.fit(clients_immatriculations).transform(clients_immatriculations)"
   ]
  },
  {
   "cell_type": "code",
   "execution_count": 9,
   "id": "d3ddd877-5a4d-46f1-b09d-8817ae8c105f",
   "metadata": {},
   "outputs": [],
   "source": [
    "indexer_sexe = StringIndexer(inputCol=\"sexe\", outputCol=\"sexe_index\")\n",
    "indexer_sexe = indexer_sexe.fit(clients_immatriculations)\n",
    "clients_immatriculations = indexer_sexe.transform(clients_immatriculations)\n",
    "\n",
    "encoder_sexe = OneHotEncoder(inputCol=\"sexe_index\", outputCol=\"sexe_encoded\")\n",
    "clients_immatriculations = encoder_sexe.fit(clients_immatriculations).transform(clients_immatriculations)"
   ]
  },
  {
   "cell_type": "code",
   "execution_count": 10,
   "id": "b09d7ca6-0af0-4d2c-9dc3-bc6bb6797749",
   "metadata": {},
   "outputs": [],
   "source": [
    "indexer_situationfamiliale = StringIndexer(inputCol=\"situationfamiliale\", outputCol=\"situationfamiliale_index\")\n",
    "indexer_situationfamiliale = indexer_situationfamiliale.fit(clients_immatriculations)\n",
    "clients_immatriculations = indexer_situationfamiliale.transform(clients_immatriculations)\n",
    "\n",
    "encoder_situationfamiliale = OneHotEncoder(inputCol=\"situationfamiliale_index\", outputCol=\"situationfamiliale_encoded\")\n",
    "clients_immatriculations = encoder_situationfamiliale.fit(clients_immatriculations).transform(clients_immatriculations)"
   ]
  },
  {
   "cell_type": "code",
   "execution_count": 11,
   "id": "2b2f949a-769a-4f30-b54e-e7c83769d91e",
   "metadata": {},
   "outputs": [],
   "source": [
    "clients_immatriculations = clients_immatriculations.drop('marque') \n",
    "clients_immatriculations = clients_immatriculations.drop('marque_index')\n",
    "clients_immatriculations = clients_immatriculations.drop('sexe') \n",
    "clients_immatriculations = clients_immatriculations.drop('sexe_index')\n",
    "clients_immatriculations = clients_immatriculations.drop('situationfamiliale') \n",
    "clients_immatriculations = clients_immatriculations.drop('situationfamiliale_index')\n",
    "\n",
    "clients_immatriculations = clients_immatriculations.withColumnRenamed('marque_encoded', 'marque')\n",
    "clients_immatriculations = clients_immatriculations.withColumnRenamed('sexe_encoded', 'sexe')\n",
    "clients_immatriculations = clients_immatriculations.withColumnRenamed('situationfamiliale_encoded', 'situationfamiliale')"
   ]
  },
  {
   "cell_type": "markdown",
   "id": "8b60109f-41b4-47be-8a43-5fd09cc9a4cc",
   "metadata": {},
   "source": [
    "## Changer des Boolean en Int"
   ]
  },
  {
   "cell_type": "code",
   "execution_count": 12,
   "id": "ae7c2346-4801-4f04-8687-4c9840fc92f5",
   "metadata": {},
   "outputs": [
    {
     "name": "stdout",
     "output_type": "stream",
     "text": [
      "+----+-----+---------------+---------------+-------------+----------------+---------+-----------+--------+--------+--------+-----+-------------------+---------------+-------------+------------------+\n",
      "| age| taux|nbenfantacharge|deuxiemevoiture|taux_eligible|          modele|puissance|   longueur|nbplaces|nbportes|occasion| prix|          categorie|         marque|         sexe|situationfamiliale|\n",
      "+----+-----+---------------+---------------+-------------+----------------+---------+-----------+--------+--------+--------+-----+-------------------+---------------+-------------+------------------+\n",
      "|61.0|188.0|              0|              0|            0|     picanto 1.1|       65|     courte|       5|       5|       0| 8990|citadine economique|(18,[13],[1.0])|(1,[0],[1.0])|     (3,[1],[1.0])|\n",
      "|50.0|460.0|              3|              0|            0|vel satis 3.5 v6|      245|tres longue|       5|       5|       0|49200|      suv/crossover| (18,[2],[1.0])|    (1,[],[])|     (3,[0],[1.0])|\n",
      "|54.0|403.0|              0|              0|            0|     polo 1.2 6v|       55|     courte|       5|       3|       0|12200|citadine economique| (18,[4],[1.0])|(1,[0],[1.0])|     (3,[1],[1.0])|\n",
      "|74.0|531.0|              4|              1|            0|            s500|      306|tres longue|       5|       5|       1|70910|      suv/crossover| (18,[5],[1.0])|(1,[0],[1.0])|     (3,[0],[1.0])|\n",
      "+----+-----+---------------+---------------+-------------+----------------+---------+-----------+--------+--------+--------+-----+-------------------+---------------+-------------+------------------+\n",
      "only showing top 4 rows\n",
      "\n"
     ]
    }
   ],
   "source": [
    "clients_immatriculations = clients_immatriculations.withColumn(\n",
    "    \"deuxiemevoiture\",\n",
    "    when(col(\"deuxiemevoiture\") == False, 0)\n",
    "    .when(col(\"deuxiemevoiture\") == True, 1)\n",
    "    .otherwise(col(\"deuxiemevoiture\").cast(\"int\"))\n",
    ")\n",
    "\n",
    "clients_immatriculations = clients_immatriculations.withColumn(\n",
    "    \"taux_eligible\",\n",
    "    when(col(\"taux_eligible\") == False, 0)\n",
    "    .when(col(\"taux_eligible\") == True, 1)\n",
    "    .otherwise(col(\"taux_eligible\").cast(\"int\"))\n",
    ")\n",
    "\n",
    "clients_immatriculations = clients_immatriculations.withColumn(\n",
    "    \"occasion\",\n",
    "    when(col(\"occasion\") == False, 0)\n",
    "    .when(col(\"occasion\") == True, 1)\n",
    "    .otherwise(col(\"occasion\").cast(\"int\"))\n",
    ")\n",
    "\n",
    "clients_immatriculations.show(4)"
   ]
  },
  {
   "cell_type": "markdown",
   "id": "7e6da3bb-b8ec-479b-b5d1-8626a64731fd",
   "metadata": {},
   "source": [
    "### Analyse de **Modele**"
   ]
  },
  {
   "cell_type": "code",
   "execution_count": 13,
   "id": "61d2a605-7c11-4b12-b855-ab2537ec0124",
   "metadata": {},
   "outputs": [
    {
     "name": "stdout",
     "output_type": "stream",
     "text": [
      "+----+------+---------------+---------------+-------------+----------------+---------+-----------+--------+--------+--------+------+-------------------+---------------+-------------+------------------+\n",
      "| age|  taux|nbenfantacharge|deuxiemevoiture|taux_eligible|          modele|puissance|   longueur|nbplaces|nbportes|occasion|  prix|          categorie|         marque|         sexe|situationfamiliale|\n",
      "+----+------+---------------+---------------+-------------+----------------+---------+-----------+--------+--------+--------+------+-------------------+---------------+-------------+------------------+\n",
      "|61.0| 188.0|              0|              0|            0|     picanto 1.1|       65|     courte|       5|       5|       0|  8990|citadine economique|(18,[13],[1.0])|(1,[0],[1.0])|     (3,[1],[1.0])|\n",
      "|50.0| 460.0|              3|              0|            0|vel satis 3.5 v6|      245|tres longue|       5|       5|       0| 49200|      suv/crossover| (18,[2],[1.0])|    (1,[],[])|     (3,[0],[1.0])|\n",
      "|54.0| 403.0|              0|              0|            0|     polo 1.2 6v|       55|     courte|       5|       3|       0| 12200|citadine economique| (18,[4],[1.0])|(1,[0],[1.0])|     (3,[1],[1.0])|\n",
      "|74.0| 531.0|              4|              1|            0|            s500|      306|tres longue|       5|       5|       1| 70910|      suv/crossover| (18,[5],[1.0])|(1,[0],[1.0])|     (3,[0],[1.0])|\n",
      "|35.0| 208.0|              0|              0|            0|    golf 2.0 fsi|      150|    moyenne|       5|       5|       1| 16029|          familiale| (18,[4],[1.0])|(1,[0],[1.0])|     (3,[1],[1.0])|\n",
      "|66.0| 960.0|              1|              0|            1|        9.3 1.8t|      150|     longue|       5|       5|       0| 38600|      suv/crossover| (18,[8],[1.0])|(1,[0],[1.0])|     (3,[0],[1.0])|\n",
      "|65.0| 199.0|              0|              0|            0|      toledo 1.6|      102|     longue|       5|       5|       0| 18880|          familiale|(18,[15],[1.0])|    (1,[],[])|     (3,[0],[1.0])|\n",
      "|67.0|1072.0|              0|              0|            1|            s500|      306|tres longue|       5|       5|       0|101300|      suv/crossover| (18,[5],[1.0])|(1,[0],[1.0])|     (3,[0],[1.0])|\n",
      "|34.0| 411.0|              4|              0|            0|vel satis 3.5 v6|      245|tres longue|       5|       5|       0| 49200|      suv/crossover| (18,[2],[1.0])|(1,[0],[1.0])|     (3,[0],[1.0])|\n",
      "|51.0|1281.0|              2|              0|            1|   x-type 2.5 v6|      197|     longue|       5|       5|       0| 37100|      suv/crossover| (18,[3],[1.0])|(1,[0],[1.0])|     (3,[0],[1.0])|\n",
      "|81.0|1091.0|              1|              0|            1|        9.3 1.8t|      150|     longue|       5|       5|       0| 38600|      suv/crossover| (18,[8],[1.0])|(1,[0],[1.0])|     (3,[0],[1.0])|\n",
      "|28.0| 583.0|              0|              0|            1|    golf 2.0 fsi|      150|    moyenne|       5|       5|       0| 22900|          familiale| (18,[4],[1.0])|(1,[0],[1.0])|     (3,[1],[1.0])|\n",
      "|22.0|1125.0|              3|              0|            1|   x-type 2.5 v6|      197|     longue|       5|       5|       0| 37100|      suv/crossover| (18,[3],[1.0])|    (1,[],[])|     (3,[1],[1.0])|\n",
      "|48.0| 991.0|              4|              0|            1|              m5|      507|tres longue|       5|       5|       0| 94800|      suv/crossover| (18,[1],[1.0])|(1,[0],[1.0])|     (3,[0],[1.0])|\n",
      "|32.0| 156.0|              2|              0|            0|          s80 t6|      272|tres longue|       5|       5|       1| 35350|      suv/crossover| (18,[6],[1.0])|    (1,[],[])|     (3,[0],[1.0])|\n",
      "|41.0| 429.0|              1|              0|            0|       croma 2.2|      147|     longue|       5|       5|       0| 24780|          familiale|(18,[10],[1.0])|(1,[0],[1.0])|     (3,[0],[1.0])|\n",
      "|20.0|1120.0|              3|              0|            1|              m5|      507|tres longue|       5|       5|       0| 94800|      suv/crossover| (18,[1],[1.0])|(1,[0],[1.0])|     (3,[1],[1.0])|\n",
      "|52.0| 847.0|              0|              0|            1|          a2 1.4|       75|     courte|       5|       5|       0| 18310|citadine economique| (18,[0],[1.0])|    (1,[],[])|     (3,[1],[1.0])|\n",
      "|66.0| 236.0|              4|              0|            0|   maxima 3.0 v6|      200|tres longue|       5|       5|       0| 30000|              autre|(18,[11],[1.0])|(1,[0],[1.0])|     (3,[0],[1.0])|\n",
      "|23.0| 493.0|              0|              0|            0|            120i|      150|    moyenne|       5|       5|       1| 25060|          familiale| (18,[1],[1.0])|(1,[0],[1.0])|     (3,[1],[1.0])|\n",
      "+----+------+---------------+---------------+-------------+----------------+---------+-----------+--------+--------+--------+------+-------------------+---------------+-------------+------------------+\n",
      "only showing top 20 rows\n",
      "\n"
     ]
    }
   ],
   "source": [
    "clients_immatriculations.show()"
   ]
  },
  {
   "cell_type": "code",
   "execution_count": 14,
   "id": "23fcbc78-c94f-42bc-a8a5-4737ead6ca80",
   "metadata": {},
   "outputs": [
    {
     "name": "stdout",
     "output_type": "stream",
     "text": [
      "Il y a 28 modeles.\n"
     ]
    }
   ],
   "source": [
    "count_modele = clients_immatriculations.select(\"modele\").distinct().count()\n",
    "print(f\"Il y a {count_modele} modeles.\")"
   ]
  },
  {
   "cell_type": "markdown",
   "id": "07adbd44-5a6e-4d2a-9453-7fed2c76ddd9",
   "metadata": {},
   "source": [
    "On travail uniquement sur les catégories, les modèles spécifiques n'ajoutent pas de valeur.\n",
    "L'analyse est simplifier en se concentrant sur des regroupements plus larges."
   ]
  },
  {
   "cell_type": "code",
   "execution_count": 15,
   "id": "f91c13bc-01ad-48f1-a4f4-82264235620f",
   "metadata": {},
   "outputs": [
    {
     "name": "stdout",
     "output_type": "stream",
     "text": [
      "+----+------+---------------+---------------+-------------+---------+-----------+--------+--------+--------+------+---------------+-------------+------------------+---------+\n",
      "| age|  taux|nbenfantacharge|deuxiemevoiture|taux_eligible|puissance|   longueur|nbplaces|nbportes|occasion|  prix|         marque|         sexe|situationfamiliale|categorie|\n",
      "+----+------+---------------+---------------+-------------+---------+-----------+--------+--------+--------+------+---------------+-------------+------------------+---------+\n",
      "|61.0| 188.0|              0|              0|            0|       65|     courte|       5|       5|       0|  8990|(18,[13],[1.0])|(1,[0],[1.0])|     (3,[1],[1.0])|      2.0|\n",
      "|50.0| 460.0|              3|              0|            0|      245|tres longue|       5|       5|       0| 49200| (18,[2],[1.0])|    (1,[],[])|     (3,[0],[1.0])|      0.0|\n",
      "|54.0| 403.0|              0|              0|            0|       55|     courte|       5|       3|       0| 12200| (18,[4],[1.0])|(1,[0],[1.0])|     (3,[1],[1.0])|      2.0|\n",
      "|74.0| 531.0|              4|              1|            0|      306|tres longue|       5|       5|       1| 70910| (18,[5],[1.0])|(1,[0],[1.0])|     (3,[0],[1.0])|      0.0|\n",
      "|35.0| 208.0|              0|              0|            0|      150|    moyenne|       5|       5|       1| 16029| (18,[4],[1.0])|(1,[0],[1.0])|     (3,[1],[1.0])|      1.0|\n",
      "|66.0| 960.0|              1|              0|            1|      150|     longue|       5|       5|       0| 38600| (18,[8],[1.0])|(1,[0],[1.0])|     (3,[0],[1.0])|      0.0|\n",
      "|65.0| 199.0|              0|              0|            0|      102|     longue|       5|       5|       0| 18880|(18,[15],[1.0])|    (1,[],[])|     (3,[0],[1.0])|      1.0|\n",
      "|67.0|1072.0|              0|              0|            1|      306|tres longue|       5|       5|       0|101300| (18,[5],[1.0])|(1,[0],[1.0])|     (3,[0],[1.0])|      0.0|\n",
      "|34.0| 411.0|              4|              0|            0|      245|tres longue|       5|       5|       0| 49200| (18,[2],[1.0])|(1,[0],[1.0])|     (3,[0],[1.0])|      0.0|\n",
      "|51.0|1281.0|              2|              0|            1|      197|     longue|       5|       5|       0| 37100| (18,[3],[1.0])|(1,[0],[1.0])|     (3,[0],[1.0])|      0.0|\n",
      "+----+------+---------------+---------------+-------------+---------+-----------+--------+--------+--------+------+---------------+-------------+------------------+---------+\n",
      "only showing top 10 rows\n",
      "\n"
     ]
    }
   ],
   "source": [
    "indexer = StringIndexer(inputCol=\"categorie\", outputCol=\"categorie_indexed\")\n",
    "indexer_model = indexer.fit(clients_immatriculations)\n",
    "clients_immatriculations = indexer_model.transform(clients_immatriculations)\n",
    "\n",
    "clients_immatriculations = clients_immatriculations.drop('modele') \n",
    "clients_immatriculations = clients_immatriculations.drop('categorie') \n",
    "\n",
    "clients_immatriculations = clients_immatriculations.withColumnRenamed('categorie_indexed', 'categorie')\n",
    "\n",
    "clients_immatriculations.show(n=10)"
   ]
  },
  {
   "cell_type": "markdown",
   "id": "93bc7289-eb6b-46ed-984f-965ac2c914f4",
   "metadata": {},
   "source": [
    "### Analyse de **longueur**"
   ]
  },
  {
   "cell_type": "code",
   "execution_count": 16,
   "id": "23193ea7-3f01-4c2a-a3bc-e396783e59e9",
   "metadata": {},
   "outputs": [
    {
     "name": "stdout",
     "output_type": "stream",
     "text": [
      "+-----------+\n",
      "|   longueur|\n",
      "+-----------+\n",
      "|    moyenne|\n",
      "|tres longue|\n",
      "|     courte|\n",
      "|     longue|\n",
      "+-----------+\n",
      "\n"
     ]
    }
   ],
   "source": [
    "clients_immatriculations.select(\"longueur\").distinct().show()"
   ]
  },
  {
   "cell_type": "code",
   "execution_count": 17,
   "id": "18e07efe-5500-4c10-bf38-57617cd2f7d4",
   "metadata": {},
   "outputs": [
    {
     "name": "stdout",
     "output_type": "stream",
     "text": [
      "+----+-----+---------------+---------------+-------------+---------+--------+--------+--------+-----+---------------+-------------+------------------+---------+--------+\n",
      "| age| taux|nbenfantacharge|deuxiemevoiture|taux_eligible|puissance|nbplaces|nbportes|occasion| prix|         marque|         sexe|situationfamiliale|categorie|longueur|\n",
      "+----+-----+---------------+---------------+-------------+---------+--------+--------+--------+-----+---------------+-------------+------------------+---------+--------+\n",
      "|61.0|188.0|              0|              0|            0|       65|       5|       5|       0| 8990|(18,[13],[1.0])|(1,[0],[1.0])|     (3,[1],[1.0])|      2.0|     1.0|\n",
      "|50.0|460.0|              3|              0|            0|      245|       5|       5|       0|49200| (18,[2],[1.0])|    (1,[],[])|     (3,[0],[1.0])|      0.0|     0.0|\n",
      "|54.0|403.0|              0|              0|            0|       55|       5|       3|       0|12200| (18,[4],[1.0])|(1,[0],[1.0])|     (3,[1],[1.0])|      2.0|     1.0|\n",
      "|74.0|531.0|              4|              1|            0|      306|       5|       5|       1|70910| (18,[5],[1.0])|(1,[0],[1.0])|     (3,[0],[1.0])|      0.0|     0.0|\n",
      "+----+-----+---------------+---------------+-------------+---------+--------+--------+--------+-----+---------------+-------------+------------------+---------+--------+\n",
      "only showing top 4 rows\n",
      "\n"
     ]
    }
   ],
   "source": [
    "indexer_longueur = StringIndexer(inputCol=\"longueur\", outputCol=\"longueur_indexed\")\n",
    "indexer_model_longueur = indexer_longueur.fit(clients_immatriculations)\n",
    "clients_immatriculations = indexer_model_longueur.transform(clients_immatriculations)\n",
    "\n",
    "clients_immatriculations = clients_immatriculations.drop('longueur')\n",
    "clients_immatriculations = clients_immatriculations.withColumnRenamed('longueur_indexed', 'longueur')\n",
    "\n",
    "clients_immatriculations.show(n=4)"
   ]
  },
  {
   "cell_type": "markdown",
   "id": "9e2b35f0-5bb5-408b-aede-34976f3aca06",
   "metadata": {},
   "source": [
    "### Nombre de place"
   ]
  },
  {
   "cell_type": "code",
   "execution_count": 18,
   "id": "20902f3b-6f51-46da-87b4-843097f18b5e",
   "metadata": {},
   "outputs": [
    {
     "name": "stdout",
     "output_type": "stream",
     "text": [
      "+--------+-----+\n",
      "|nbplaces|count|\n",
      "+--------+-----+\n",
      "|       5|99401|\n",
      "+--------+-----+\n",
      "\n"
     ]
    }
   ],
   "source": [
    "clients_immatriculations.groupBy(\"nbplaces\").count().show()"
   ]
  },
  {
   "cell_type": "markdown",
   "id": "283ca56a-b030-4cb8-af40-ef7520a64a72",
   "metadata": {},
   "source": [
    "Nombre de place ne dispose d'aucune variation, elle n'apporte rien au modele."
   ]
  },
  {
   "cell_type": "code",
   "execution_count": 19,
   "id": "89f4433e-fc09-42d3-9544-9f3a1dd17d24",
   "metadata": {},
   "outputs": [],
   "source": [
    "clients_immatriculations = clients_immatriculations.drop('nbplaces')"
   ]
  },
  {
   "cell_type": "markdown",
   "id": "cb6255f3-c5ba-40fe-80f6-e102ecca58ab",
   "metadata": {},
   "source": [
    "## Normalisation"
   ]
  },
  {
   "cell_type": "code",
   "execution_count": 20,
   "id": "56277c64-b994-4af0-b78f-6f35824725ef",
   "metadata": {},
   "outputs": [
    {
     "name": "stdout",
     "output_type": "stream",
     "text": [
      "+---------+-----+\n",
      "|categorie|count|\n",
      "+---------+-----+\n",
      "|      0.0|36467|\n",
      "|      1.0|30361|\n",
      "|      3.0| 5795|\n",
      "|      2.0|26778|\n",
      "+---------+-----+\n",
      "\n"
     ]
    }
   ],
   "source": [
    "clients_immatriculations.groupBy(\"categorie\").count().show()"
   ]
  },
  {
   "cell_type": "code",
   "execution_count": 21,
   "id": "d32c8ff4-6042-4155-a441-88c7b7c99e82",
   "metadata": {},
   "outputs": [
    {
     "name": "stdout",
     "output_type": "stream",
     "text": [
      "root\n",
      " |-- age: double (nullable = false)\n",
      " |-- taux: double (nullable = false)\n",
      " |-- nbenfantacharge: integer (nullable = true)\n",
      " |-- deuxiemevoiture: integer (nullable = true)\n",
      " |-- taux_eligible: integer (nullable = true)\n",
      " |-- puissance: integer (nullable = true)\n",
      " |-- nbportes: integer (nullable = true)\n",
      " |-- occasion: integer (nullable = true)\n",
      " |-- prix: integer (nullable = true)\n",
      " |-- marque: vector (nullable = true)\n",
      " |-- sexe: vector (nullable = true)\n",
      " |-- situationfamiliale: vector (nullable = true)\n",
      " |-- categorie: double (nullable = false)\n",
      " |-- longueur: double (nullable = false)\n",
      "\n",
      "+----+------+---------------+---------------+-------------+---------+--------+--------+------+---------------+-------------+------------------+---------+--------+\n",
      "| age|  taux|nbenfantacharge|deuxiemevoiture|taux_eligible|puissance|nbportes|occasion|  prix|         marque|         sexe|situationfamiliale|categorie|longueur|\n",
      "+----+------+---------------+---------------+-------------+---------+--------+--------+------+---------------+-------------+------------------+---------+--------+\n",
      "|61.0| 188.0|              0|              0|            0|       65|       5|       0|  8990|(18,[13],[1.0])|(1,[0],[1.0])|     (3,[1],[1.0])|      2.0|     1.0|\n",
      "|50.0| 460.0|              3|              0|            0|      245|       5|       0| 49200| (18,[2],[1.0])|    (1,[],[])|     (3,[0],[1.0])|      0.0|     0.0|\n",
      "|54.0| 403.0|              0|              0|            0|       55|       3|       0| 12200| (18,[4],[1.0])|(1,[0],[1.0])|     (3,[1],[1.0])|      2.0|     1.0|\n",
      "|74.0| 531.0|              4|              1|            0|      306|       5|       1| 70910| (18,[5],[1.0])|(1,[0],[1.0])|     (3,[0],[1.0])|      0.0|     0.0|\n",
      "|35.0| 208.0|              0|              0|            0|      150|       5|       1| 16029| (18,[4],[1.0])|(1,[0],[1.0])|     (3,[1],[1.0])|      1.0|     3.0|\n",
      "|66.0| 960.0|              1|              0|            1|      150|       5|       0| 38600| (18,[8],[1.0])|(1,[0],[1.0])|     (3,[0],[1.0])|      0.0|     2.0|\n",
      "|65.0| 199.0|              0|              0|            0|      102|       5|       0| 18880|(18,[15],[1.0])|    (1,[],[])|     (3,[0],[1.0])|      1.0|     2.0|\n",
      "|67.0|1072.0|              0|              0|            1|      306|       5|       0|101300| (18,[5],[1.0])|(1,[0],[1.0])|     (3,[0],[1.0])|      0.0|     0.0|\n",
      "|34.0| 411.0|              4|              0|            0|      245|       5|       0| 49200| (18,[2],[1.0])|(1,[0],[1.0])|     (3,[0],[1.0])|      0.0|     0.0|\n",
      "|51.0|1281.0|              2|              0|            1|      197|       5|       0| 37100| (18,[3],[1.0])|(1,[0],[1.0])|     (3,[0],[1.0])|      0.0|     2.0|\n",
      "|81.0|1091.0|              1|              0|            1|      150|       5|       0| 38600| (18,[8],[1.0])|(1,[0],[1.0])|     (3,[0],[1.0])|      0.0|     2.0|\n",
      "|28.0| 583.0|              0|              0|            1|      150|       5|       0| 22900| (18,[4],[1.0])|(1,[0],[1.0])|     (3,[1],[1.0])|      1.0|     3.0|\n",
      "|22.0|1125.0|              3|              0|            1|      197|       5|       0| 37100| (18,[3],[1.0])|    (1,[],[])|     (3,[1],[1.0])|      0.0|     2.0|\n",
      "|48.0| 991.0|              4|              0|            1|      507|       5|       0| 94800| (18,[1],[1.0])|(1,[0],[1.0])|     (3,[0],[1.0])|      0.0|     0.0|\n",
      "|32.0| 156.0|              2|              0|            0|      272|       5|       1| 35350| (18,[6],[1.0])|    (1,[],[])|     (3,[0],[1.0])|      0.0|     0.0|\n",
      "|41.0| 429.0|              1|              0|            0|      147|       5|       0| 24780|(18,[10],[1.0])|(1,[0],[1.0])|     (3,[0],[1.0])|      1.0|     2.0|\n",
      "|20.0|1120.0|              3|              0|            1|      507|       5|       0| 94800| (18,[1],[1.0])|(1,[0],[1.0])|     (3,[1],[1.0])|      0.0|     0.0|\n",
      "|52.0| 847.0|              0|              0|            1|       75|       5|       0| 18310| (18,[0],[1.0])|    (1,[],[])|     (3,[1],[1.0])|      2.0|     1.0|\n",
      "|66.0| 236.0|              4|              0|            0|      200|       5|       0| 30000|(18,[11],[1.0])|(1,[0],[1.0])|     (3,[0],[1.0])|      3.0|     0.0|\n",
      "|23.0| 493.0|              0|              0|            0|      150|       5|       1| 25060| (18,[1],[1.0])|(1,[0],[1.0])|     (3,[1],[1.0])|      1.0|     3.0|\n",
      "+----+------+---------------+---------------+-------------+---------+--------+--------+------+---------------+-------------+------------------+---------+--------+\n",
      "only showing top 20 rows\n",
      "\n"
     ]
    }
   ],
   "source": [
    "clients_immatriculations.printSchema()\n",
    "clients_immatriculations.show()"
   ]
  },
  {
   "cell_type": "markdown",
   "id": "85b53327-4841-467d-95f9-ace9e02d2258",
   "metadata": {
    "tags": []
   },
   "source": [
    "## Classificateur"
   ]
  },
  {
   "cell_type": "code",
   "execution_count": 22,
   "id": "77fd00d9-9361-4901-a360-eae1e72b3311",
   "metadata": {},
   "outputs": [
    {
     "name": "stdout",
     "output_type": "stream",
     "text": [
      "+--------------------------------------------------------------------------------------+\n",
      "|features                                                                              |\n",
      "+--------------------------------------------------------------------------------------+\n",
      "|(30,[0,1,3,4,5,6,7,21,26,28],[61.0,188.0,65.0,5.0,8990.0,2.0,1.0,1.0,1.0,1.0])        |\n",
      "|(30,[0,1,2,3,4,5,10,27],[50.0,460.0,3.0,245.0,5.0,49200.0,1.0,1.0])                   |\n",
      "|(30,[0,1,3,4,5,6,7,12,26,28],[54.0,403.0,55.0,3.0,12200.0,2.0,1.0,1.0,1.0,1.0])       |\n",
      "|(30,[0,1,2,3,4,5,13,26,27],[74.0,531.0,4.0,306.0,5.0,70910.0,1.0,1.0,1.0])            |\n",
      "|(30,[0,1,3,4,5,6,7,12,26,28],[35.0,208.0,150.0,5.0,16029.0,1.0,3.0,1.0,1.0,1.0])      |\n",
      "|(30,[0,1,2,3,4,5,7,16,26,27],[66.0,960.0,1.0,150.0,5.0,38600.0,2.0,1.0,1.0,1.0])      |\n",
      "|(30,[0,1,3,4,5,6,7,23,27],[65.0,199.0,102.0,5.0,18880.0,1.0,2.0,1.0,1.0])             |\n",
      "|(30,[0,1,3,4,5,13,26,27],[67.0,1072.0,306.0,5.0,101300.0,1.0,1.0,1.0])                |\n",
      "|(30,[0,1,2,3,4,5,10,26,27],[34.0,411.0,4.0,245.0,5.0,49200.0,1.0,1.0,1.0])            |\n",
      "|(30,[0,1,2,3,4,5,7,11,26,27],[51.0,1281.0,2.0,197.0,5.0,37100.0,2.0,1.0,1.0,1.0])     |\n",
      "|(30,[0,1,2,3,4,5,7,16,26,27],[81.0,1091.0,1.0,150.0,5.0,38600.0,2.0,1.0,1.0,1.0])     |\n",
      "|(30,[0,1,3,4,5,6,7,12,26,28],[28.0,583.0,150.0,5.0,22900.0,1.0,3.0,1.0,1.0,1.0])      |\n",
      "|(30,[0,1,2,3,4,5,7,11,28],[22.0,1125.0,3.0,197.0,5.0,37100.0,2.0,1.0,1.0])            |\n",
      "|(30,[0,1,2,3,4,5,9,26,27],[48.0,991.0,4.0,507.0,5.0,94800.0,1.0,1.0,1.0])             |\n",
      "|(30,[0,1,2,3,4,5,14,27],[32.0,156.0,2.0,272.0,5.0,35350.0,1.0,1.0])                   |\n",
      "|(30,[0,1,2,3,4,5,6,7,18,26,27],[41.0,429.0,1.0,147.0,5.0,24780.0,1.0,2.0,1.0,1.0,1.0])|\n",
      "|(30,[0,1,2,3,4,5,9,26,28],[20.0,1120.0,3.0,507.0,5.0,94800.0,1.0,1.0,1.0])            |\n",
      "|(30,[0,1,3,4,5,6,7,8,28],[52.0,847.0,75.0,5.0,18310.0,2.0,1.0,1.0,1.0])               |\n",
      "|(30,[0,1,2,3,4,5,6,19,26,27],[66.0,236.0,4.0,200.0,5.0,30000.0,3.0,1.0,1.0,1.0])      |\n",
      "|(30,[0,1,3,4,5,6,7,9,26,28],[23.0,493.0,150.0,5.0,25060.0,1.0,3.0,1.0,1.0,1.0])       |\n",
      "+--------------------------------------------------------------------------------------+\n",
      "only showing top 20 rows\n",
      "\n"
     ]
    }
   ],
   "source": [
    "# Étape 1 : Identifier les colonnes numériques\n",
    "numerical_cols = ['age', 'taux', 'nbenfantacharge', 'puissance', 'nbportes', 'prix', 'categorie', 'longueur']\n",
    "\n",
    "# Étape 2 : Assembler directement les colonnes numériques et catégorielles\n",
    "categorical_vector_cols = ['marque', 'sexe', 'situationfamiliale']\n",
    "\n",
    "final_assembler = VectorAssembler(\n",
    "    inputCols=numerical_cols + categorical_vector_cols,\n",
    "    outputCol=\"features\"\n",
    ")\n",
    "df_final = final_assembler.transform(clients_immatriculations)\n",
    "\n",
    "# Afficher les résultats\n",
    "df_final.select(\"features\").show(truncate=False)\n"
   ]
  },
  {
   "cell_type": "markdown",
   "id": "b538e223-1563-487e-9461-15140c74d504",
   "metadata": {},
   "source": [
    "Entrainement du modele"
   ]
  },
  {
   "cell_type": "code",
   "execution_count": 23,
   "id": "eb86638e-fe02-4b76-8f11-1a0624bb05bb",
   "metadata": {},
   "outputs": [
    {
     "name": "stderr",
     "output_type": "stream",
     "text": [
      "                                                                                \r"
     ]
    }
   ],
   "source": [
    "(trainingData, testData) = df_final.randomSplit([0.8, 0.2], seed=42)\n",
    "\n",
    "rf = RandomForestClassifier(labelCol=\"categorie\", featuresCol=\"features\", numTrees=20)\n",
    "model = rf.fit(trainingData)"
   ]
  },
  {
   "cell_type": "markdown",
   "id": "f1a6d942-cf7f-47eb-8bf2-5c29653ee1da",
   "metadata": {},
   "source": [
    "Évaluation initiale"
   ]
  },
  {
   "cell_type": "code",
   "execution_count": 24,
   "id": "d1957d89-8934-4781-a00a-838b603da6f1",
   "metadata": {},
   "outputs": [
    {
     "name": "stdout",
     "output_type": "stream",
     "text": [
      "+----+-----+---------------+---------------+-------------+---------+--------+--------+-----+---------------+-------------+------------------+---------+--------+--------------------+--------------------+--------------------+----------+\n",
      "| age| taux|nbenfantacharge|deuxiemevoiture|taux_eligible|puissance|nbportes|occasion| prix|         marque|         sexe|situationfamiliale|categorie|longueur|            features|       rawPrediction|         probability|prediction|\n",
      "+----+-----+---------------+---------------+-------------+---------+--------+--------+-----+---------------+-------------+------------------+---------+--------+--------------------+--------------------+--------------------+----------+\n",
      "|18.0|156.0|              3|              0|            0|      200|       5|       0|30000|(18,[11],[1.0])|    (1,[],[])|     (3,[0],[1.0])|      3.0|     0.0|(30,[0,1,2,3,4,5,...|[0.43259532539156...|[0.02162976626957...|       3.0|\n",
      "|18.0|161.0|              0|              0|            0|      200|       5|       0|30000|(18,[11],[1.0])|(1,[0],[1.0])|     (3,[0],[1.0])|      3.0|     0.0|(30,[0,1,3,4,5,6,...|[1.60009468187592...|[0.08000473409379...|       3.0|\n",
      "|18.0|171.0|              0|              0|            0|       75|       5|       1| 9625| (18,[7],[1.0])|    (1,[],[])|     (3,[1],[1.0])|      2.0|     1.0|(30,[0,1,3,4,5,6,...|[0.16496830380946...|[0.00824841519047...|       2.0|\n",
      "|18.0|179.0|              3|              0|            0|      245|       5|       1|34440| (18,[2],[1.0])|    (1,[],[])|     (3,[0],[1.0])|      3.0|     0.0|(30,[0,1,2,3,4,5,...|[0.91610605480093...|[0.04580530274004...|       3.0|\n",
      "|18.0|198.0|              0|              0|            0|       58|       3|       0| 8850|(18,[14],[1.0])|(1,[0],[1.0])|     (3,[1],[1.0])|      2.0|     1.0|(30,[0,1,3,4,5,6,...|[0.16496830380946...|[0.00824841519047...|       2.0|\n",
      "|18.0|211.0|              1|              0|            0|      245|       5|       1|34440| (18,[2],[1.0])|(1,[0],[1.0])|     (3,[0],[1.0])|      3.0|     0.0|(30,[0,1,2,3,4,5,...|[1.60414326487187...|[0.08020716324359...|       3.0|\n",
      "|18.0|222.0|              4|              0|            0|      193|       5|       0|31790|(18,[12],[1.0])|(1,[0],[1.0])|     (3,[0],[1.0])|      3.0|     0.0|(30,[0,1,2,3,4,5,...|[0.43259532539156...|[0.02162976626957...|       3.0|\n",
      "|18.0|239.0|              2|              0|            0|      102|       5|       0|18880|(18,[15],[1.0])|(1,[0],[1.0])|     (3,[0],[1.0])|      1.0|     2.0|(30,[0,1,2,3,4,5,...|[0.47781152933426...|[0.02389057646671...|       1.0|\n",
      "|18.0|403.0|              2|              1|            0|       75|       5|       1|12817| (18,[0],[1.0])|    (1,[],[])|     (3,[0],[1.0])|      2.0|     1.0|(30,[0,1,2,3,4,5,...|[0.00889503854516...|[4.44751927258351...|       2.0|\n",
      "|18.0|406.0|              2|              1|            0|       75|       5|       1|12817| (18,[0],[1.0])|(1,[0],[1.0])|     (3,[0],[1.0])|      2.0|     1.0|(30,[0,1,2,3,4,5,...|[0.00889503854516...|[4.44751927258351...|       2.0|\n",
      "|18.0|408.0|              2|              0|            0|      197|       5|       1|25970| (18,[3],[1.0])|(1,[0],[1.0])|     (3,[1],[1.0])|      1.0|     2.0|(30,[0,1,2,3,4,5,...|[0.67428559247048...|[0.03371427962352...|       1.0|\n",
      "|18.0|412.0|              0|              0|            0|      150|       5|       1|25060| (18,[1],[1.0])|(1,[0],[1.0])|     (3,[1],[1.0])|      1.0|     3.0|(30,[0,1,3,4,5,6,...|[0.44586723543834...|[0.02229336177191...|       1.0|\n",
      "|18.0|414.0|              0|              0|            0|       75|       5|       1|12817| (18,[0],[1.0])|(1,[0],[1.0])|     (3,[1],[1.0])|      2.0|     1.0|(30,[0,1,3,4,5,6,...|[0.0,0.5298460768...|[0.0,0.0264923038...|       2.0|\n",
      "|18.0|421.0|              3|              0|            0|      245|       5|       0|49200| (18,[2],[1.0])|    (1,[],[])|     (3,[0],[1.0])|      0.0|     0.0|(30,[0,1,2,3,4,5,...|  [20.0,0.0,0.0,0.0]|   [1.0,0.0,0.0,0.0]|       0.0|\n",
      "|18.0|430.0|              1|              0|            0|      272|       5|       0|50500| (18,[6],[1.0])|    (1,[],[])|     (3,[0],[1.0])|      0.0|     0.0|(30,[0,1,2,3,4,5,...|[18.1687946932719...|[0.90843973466359...|       0.0|\n",
      "|18.0|437.0|              3|              0|            0|      245|       5|       0|49200| (18,[2],[1.0])|(1,[0],[1.0])|     (3,[0],[1.0])|      0.0|     0.0|(30,[0,1,2,3,4,5,...|  [20.0,0.0,0.0,0.0]|   [1.0,0.0,0.0,0.0]|       0.0|\n",
      "|18.0|464.0|              0|              0|            0|      135|       5|       0|22350| (18,[2],[1.0])|(1,[0],[1.0])|     (3,[1],[1.0])|      1.0|     3.0|(30,[0,1,3,4,5,6,...|[0.44522703057278...|[0.02226135152863...|       1.0|\n",
      "|18.0|527.0|              1|              0|            0|      197|       5|       1|25970| (18,[3],[1.0])|(1,[0],[1.0])|     (3,[1],[1.0])|      1.0|     2.0|(30,[0,1,2,3,4,5,...|[0.67428559247048...|[0.03371427962352...|       1.0|\n",
      "|18.0|546.0|              1|              0|            1|      507|       5|       1|66360| (18,[1],[1.0])|(1,[0],[1.0])|     (3,[0],[1.0])|      0.0|     0.0|(30,[0,1,2,3,4,5,...|[18.1687946932719...|[0.90843973466359...|       0.0|\n",
      "|18.0|554.0|              0|              0|            1|      150|       5|       0|22900| (18,[4],[1.0])|(1,[0],[1.0])|     (3,[1],[1.0])|      1.0|     3.0|(30,[0,1,3,4,5,6,...|[0.28025872676331...|[0.01401293633816...|       1.0|\n",
      "+----+-----+---------------+---------------+-------------+---------+--------+--------+-----+---------------+-------------+------------------+---------+--------+--------------------+--------------------+--------------------+----------+\n",
      "only showing top 20 rows\n",
      "\n",
      "Précision du modèle sur l'ensemble de test = 100.00%\n"
     ]
    },
    {
     "name": "stderr",
     "output_type": "stream",
     "text": [
      "                                                                                \r"
     ]
    }
   ],
   "source": [
    "predictions = model.transform(testData)\n",
    "\n",
    "predictions.show()\n",
    "\n",
    "evaluator = MulticlassClassificationEvaluator(\n",
    "    labelCol=\"categorie\", predictionCol=\"prediction\", metricName=\"accuracy\"\n",
    ")\n",
    "\n",
    "accuracy = evaluator.evaluate(predictions)\n",
    "print(f\"Précision du modèle sur l'ensemble de test = {accuracy * 100:.2f}%\")"
   ]
  },
  {
   "cell_type": "markdown",
   "id": "7039a095-444a-4a04-b318-baa0bcf6a204",
   "metadata": {},
   "source": [
    "F1-Score"
   ]
  },
  {
   "cell_type": "code",
   "execution_count": 25,
   "id": "f824766c-e114-41b5-8baf-6e7a35177f16",
   "metadata": {},
   "outputs": [
    {
     "name": "stdout",
     "output_type": "stream",
     "text": [
      "F1-score global : 100.00%\n"
     ]
    }
   ],
   "source": [
    "f1_evaluator = MulticlassClassificationEvaluator(\n",
    "    labelCol=\"categorie\", predictionCol=\"prediction\", metricName=\"f1\"\n",
    ")\n",
    "f1_score = f1_evaluator.evaluate(predictions)\n",
    "print(f\"F1-score global : {f1_score * 100:.2f}%\")"
   ]
  },
  {
   "cell_type": "markdown",
   "id": "7d9abb50-6b8b-4631-bde5-12f39188c38d",
   "metadata": {},
   "source": [
    "Matrice de confusion"
   ]
  },
  {
   "cell_type": "code",
   "execution_count": 26,
   "id": "f1d0082f-ca77-403a-b4c9-4bc9bf6e9574",
   "metadata": {},
   "outputs": [
    {
     "name": "stdout",
     "output_type": "stream",
     "text": [
      "+---------+-------------------+-----+\n",
      "|categorie| predictedCategorie|count|\n",
      "+---------+-------------------+-----+\n",
      "|      2.0|citadine economique| 5272|\n",
      "|      3.0|              autre| 1117|\n",
      "|      0.0|      suv/crossover| 7230|\n",
      "|      1.0|          familiale| 5983|\n",
      "+---------+-------------------+-----+\n",
      "\n"
     ]
    },
    {
     "name": "stderr",
     "output_type": "stream",
     "text": [
      "                                                                                \r"
     ]
    }
   ],
   "source": [
    "labelConverter = IndexToString(inputCol=\"prediction\", outputCol=\"predictedCategorie\", labels=indexer_model.labels)\n",
    "predictions = labelConverter.transform(predictions)\n",
    "\n",
    "# Regroupement\n",
    "predictions.groupBy(\"categorie\", \"predictedCategorie\").count().show()"
   ]
  },
  {
   "cell_type": "markdown",
   "id": "2d246069-4caa-41e4-b4b8-805fe3a61930",
   "metadata": {},
   "source": [
    "Validation croisée"
   ]
  },
  {
   "cell_type": "markdown",
   "id": "23b5c760-0c40-4e45-8d5e-eb769874250e",
   "metadata": {},
   "source": [
    "Vérification des corrélations entre caractéristiques et catégorie"
   ]
  },
  {
   "cell_type": "code",
   "execution_count": 27,
   "id": "b8803276-7c5a-408c-a9ed-f9456889aaea",
   "metadata": {},
   "outputs": [
    {
     "ename": "AnalysisException",
     "evalue": "cannot resolve 'scaled_numerical_features' given input columns: [age, categorie, deuxiemevoiture, features, longueur, marque, nbenfantacharge, nbportes, occasion, prix, puissance, sexe, situationfamiliale, taux, taux_eligible];\n'Project ['scaled_numerical_features]\n+- Project [age#205, taux#206, nbenfantacharge#207, deuxiemevoiture#857, taux_eligible#874, puissance#208, nbportes#210, occasion#891, prix#211, marque#806, sexe#823, situationfamiliale#840, categorie#1187, longueur#1395, UDF(struct(age, age#205, taux, taux#206, nbenfantacharge_double_VectorAssembler_4894c645e38d, cast(nbenfantacharge#207 as double), puissance_double_VectorAssembler_4894c645e38d, cast(puissance#208 as double), nbportes_double_VectorAssembler_4894c645e38d, cast(nbportes#210 as double), prix_double_VectorAssembler_4894c645e38d, cast(prix#211 as double), categorie, categorie#1187, longueur, longueur#1395, marque, marque#806, sexe, sexe#823, situationfamiliale, situationfamiliale#840)) AS features#1607]\n   +- Project [age#205, taux#206, nbenfantacharge#207, deuxiemevoiture#857, taux_eligible#874, puissance#208, nbportes#210, occasion#891, prix#211, marque#806, sexe#823, situationfamiliale#840, categorie#1187, longueur#1395]\n      +- Project [age#205, taux#206, nbenfantacharge#207, deuxiemevoiture#857, taux_eligible#874, puissance#208, nbplaces#209, nbportes#210, occasion#891, prix#211, marque#806, sexe#823, situationfamiliale#840, categorie#1187, longueur_indexed#1360 AS longueur#1395]\n         +- Project [age#205, taux#206, nbenfantacharge#207, deuxiemevoiture#857, taux_eligible#874, puissance#208, nbplaces#209, nbportes#210, occasion#891, prix#211, marque#806, sexe#823, situationfamiliale#840, categorie#1187, longueur_indexed#1360]\n            +- Project [age#205, taux#206, nbenfantacharge#207, deuxiemevoiture#857, taux_eligible#874, puissance#208, longueur#11, nbplaces#209, nbportes#210, occasion#891, prix#211, marque#806, sexe#823, situationfamiliale#840, categorie#1187, UDF(cast(longueur#11 as string)) AS longueur_indexed#1360]\n               +- Project [age#205, taux#206, nbenfantacharge#207, deuxiemevoiture#857, taux_eligible#874, puissance#208, longueur#11, nbplaces#209, nbportes#210, occasion#891, prix#211, marque#806, sexe#823, situationfamiliale#840, categorie_indexed#1135 AS categorie#1187]\n                  +- Project [age#205, taux#206, nbenfantacharge#207, deuxiemevoiture#857, taux_eligible#874, puissance#208, longueur#11, nbplaces#209, nbportes#210, occasion#891, prix#211, marque#806, sexe#823, situationfamiliale#840, categorie_indexed#1135]\n                     +- Project [age#205, taux#206, nbenfantacharge#207, deuxiemevoiture#857, taux_eligible#874, puissance#208, longueur#11, nbplaces#209, nbportes#210, occasion#891, prix#211, categorie#17, marque#806, sexe#823, situationfamiliale#840, categorie_indexed#1135]\n                        +- Project [age#205, taux#206, nbenfantacharge#207, deuxiemevoiture#857, taux_eligible#874, modele#9, puissance#208, longueur#11, nbplaces#209, nbportes#210, occasion#891, prix#211, categorie#17, marque#806, sexe#823, situationfamiliale#840, UDF(cast(categorie#17 as string)) AS categorie_indexed#1135]\n                           +- Project [age#205, taux#206, nbenfantacharge#207, deuxiemevoiture#857, taux_eligible#874, modele#9, puissance#208, longueur#11, nbplaces#209, nbportes#210, CASE WHEN (occasion#15 = false) THEN 0 WHEN (occasion#15 = true) THEN 1 ELSE cast(occasion#15 as int) END AS occasion#891, prix#211, categorie#17, marque#806, sexe#823, situationfamiliale#840]\n                              +- Project [age#205, taux#206, nbenfantacharge#207, deuxiemevoiture#857, CASE WHEN (taux_eligible#7 = false) THEN 0 WHEN (taux_eligible#7 = true) THEN 1 ELSE cast(taux_eligible#7 as int) END AS taux_eligible#874, modele#9, puissance#208, longueur#11, nbplaces#209, nbportes#210, occasion#15, prix#211, categorie#17, marque#806, sexe#823, situationfamiliale#840]\n                                 +- Project [age#205, taux#206, nbenfantacharge#207, CASE WHEN (deuxiemevoiture#6 = false) THEN 0 WHEN (deuxiemevoiture#6 = true) THEN 1 ELSE cast(deuxiemevoiture#6 as int) END AS deuxiemevoiture#857, taux_eligible#7, modele#9, puissance#208, longueur#11, nbplaces#209, nbportes#210, occasion#15, prix#211, categorie#17, marque#806, sexe#823, situationfamiliale#840]\n                                    +- Project [age#205, taux#206, nbenfantacharge#207, deuxiemevoiture#6, taux_eligible#7, modele#9, puissance#208, longueur#11, nbplaces#209, nbportes#210, occasion#15, prix#211, categorie#17, marque#806, sexe#823, situationfamiliale_encoded#666 AS situationfamiliale#840]\n                                       +- Project [age#205, taux#206, nbenfantacharge#207, deuxiemevoiture#6, taux_eligible#7, modele#9, puissance#208, longueur#11, nbplaces#209, nbportes#210, occasion#15, prix#211, categorie#17, marque#806, sexe_encoded#520 AS sexe#823, situationfamiliale_encoded#666]\n                                          +- Project [age#205, taux#206, nbenfantacharge#207, deuxiemevoiture#6, taux_eligible#7, modele#9, puissance#208, longueur#11, nbplaces#209, nbportes#210, occasion#15, prix#211, categorie#17, marque_encoded#378 AS marque#806, sexe_encoded#520, situationfamiliale_encoded#666]\n                                             +- Project [age#205, taux#206, nbenfantacharge#207, deuxiemevoiture#6, taux_eligible#7, modele#9, puissance#208, longueur#11, nbplaces#209, nbportes#210, occasion#15, prix#211, categorie#17, marque_encoded#378, sexe_encoded#520, situationfamiliale_encoded#666]\n                                                +- Project [age#205, taux#206, nbenfantacharge#207, deuxiemevoiture#6, taux_eligible#7, modele#9, puissance#208, longueur#11, nbplaces#209, nbportes#210, occasion#15, prix#211, categorie#17, marque_encoded#378, sexe_encoded#520, situationfamiliale_index#637, situationfamiliale_encoded#666]\n                                                   +- Project [age#205, taux#206, situationfamiliale#4, nbenfantacharge#207, deuxiemevoiture#6, taux_eligible#7, modele#9, puissance#208, longueur#11, nbplaces#209, nbportes#210, occasion#15, prix#211, categorie#17, marque_encoded#378, sexe_encoded#520, situationfamiliale_index#637, situationfamiliale_encoded#666]\n                                                      +- Project [age#205, taux#206, situationfamiliale#4, nbenfantacharge#207, deuxiemevoiture#6, taux_eligible#7, modele#9, puissance#208, longueur#11, nbplaces#209, nbportes#210, occasion#15, prix#211, categorie#17, marque_encoded#378, sexe_index#493, sexe_encoded#520, situationfamiliale_index#637, situationfamiliale_encoded#666]\n                                                         +- Project [age#205, sexe#2, taux#206, situationfamiliale#4, nbenfantacharge#207, deuxiemevoiture#6, taux_eligible#7, modele#9, puissance#208, longueur#11, nbplaces#209, nbportes#210, occasion#15, prix#211, categorie#17, marque_encoded#378, sexe_index#493, sexe_encoded#520, situationfamiliale_index#637, situationfamiliale_encoded#666]\n                                                            +- Project [age#205, sexe#2, taux#206, situationfamiliale#4, nbenfantacharge#207, deuxiemevoiture#6, taux_eligible#7, modele#9, puissance#208, longueur#11, nbplaces#209, nbportes#210, occasion#15, prix#211, categorie#17, marque_index#353, marque_encoded#378, sexe_index#493, sexe_encoded#520, situationfamiliale_index#637, situationfamiliale_encoded#666]\n                                                               +- Project [age#205, sexe#2, taux#206, situationfamiliale#4, nbenfantacharge#207, deuxiemevoiture#6, taux_eligible#7, marque#8, modele#9, puissance#208, longueur#11, nbplaces#209, nbportes#210, occasion#15, prix#211, categorie#17, marque_index#353, marque_encoded#378, sexe_index#493, sexe_encoded#520, situationfamiliale_index#637, UDF(cast(situationfamiliale_index#637 as double), 0) AS situationfamiliale_encoded#666]\n                                                                  +- Project [age#205, sexe#2, taux#206, situationfamiliale#4, nbenfantacharge#207, deuxiemevoiture#6, taux_eligible#7, marque#8, modele#9, puissance#208, longueur#11, nbplaces#209, nbportes#210, occasion#15, prix#211, categorie#17, marque_index#353, marque_encoded#378, sexe_index#493, sexe_encoded#520, UDF(cast(situationfamiliale#4 as string)) AS situationfamiliale_index#637]\n                                                                     +- Project [age#205, sexe#2, taux#206, situationfamiliale#4, nbenfantacharge#207, deuxiemevoiture#6, taux_eligible#7, marque#8, modele#9, puissance#208, longueur#11, nbplaces#209, nbportes#210, occasion#15, prix#211, categorie#17, marque_index#353, marque_encoded#378, sexe_index#493, UDF(cast(sexe_index#493 as double), 0) AS sexe_encoded#520]\n                                                                        +- Project [age#205, sexe#2, taux#206, situationfamiliale#4, nbenfantacharge#207, deuxiemevoiture#6, taux_eligible#7, marque#8, modele#9, puissance#208, longueur#11, nbplaces#209, nbportes#210, occasion#15, prix#211, categorie#17, marque_index#353, marque_encoded#378, UDF(cast(sexe#2 as string)) AS sexe_index#493]\n                                                                           +- Project [age#205, sexe#2, taux#206, situationfamiliale#4, nbenfantacharge#207, deuxiemevoiture#6, taux_eligible#7, marque#8, modele#9, puissance#208, longueur#11, nbplaces#209, nbportes#210, occasion#15, prix#211, categorie#17, marque_index#353, UDF(cast(marque_index#353 as double), 0) AS marque_encoded#378]\n                                                                              +- Project [age#205, sexe#2, taux#206, situationfamiliale#4, nbenfantacharge#207, deuxiemevoiture#6, taux_eligible#7, marque#8, modele#9, puissance#208, longueur#11, nbplaces#209, nbportes#210, occasion#15, prix#211, categorie#17, UDF(cast(marque#8 as string)) AS marque_index#353]\n                                                                                 +- Project [age#205, sexe#2, taux#206, situationfamiliale#4, nbenfantacharge#207, deuxiemevoiture#6, taux_eligible#7, marque#8, modele#9, puissance#208, longueur#11, nbplaces#209, nbportes#210, occasion#15, prix#211, categorie#17]\n                                                                                    +- Project [age#205, sexe#2, taux#206, situationfamiliale#4, nbenfantacharge#207, deuxiemevoiture#6, taux_eligible#7, marque#8, modele#9, puissance#208, longueur#11, nbplaces#209, nbportes#210, couleur#14, occasion#15, prix#211, categorie#17]\n                                                                                       +- Project [immatriculation#0, coalesce(nanvl(age#1, cast(null as double)), cast(0.0 as double)) AS age#205, sexe#2, coalesce(nanvl(taux#3, cast(null as double)), cast(0.0 as double)) AS taux#206, situationfamiliale#4, coalesce(nbenfantacharge#5, cast(0.0 as int)) AS nbenfantacharge#207, deuxiemevoiture#6, taux_eligible#7, marque#8, modele#9, coalesce(puissance#10, cast(0.0 as int)) AS puissance#208, longueur#11, coalesce(nbplaces#12, cast(0.0 as int)) AS nbplaces#209, coalesce(nbportes#13, cast(0.0 as int)) AS nbportes#210, couleur#14, occasion#15, coalesce(prix#16, cast(0.0 as int)) AS prix#211, categorie#17]\n                                                                                          +- Project [immatriculation#0, age#1, sexe#2, taux#3, situationfamiliale#4, nbenfantacharge#5, deuxiemevoiture#6, taux_eligible#7, marque#8, modele#9, puissance#10, longueur#11, nbplaces#12, nbportes#13, couleur#14, occasion#15, prix#16, categorie#17]\n                                                                                             +- SubqueryAlias spark_catalog.concessionnaire.clients_immatriculations\n                                                                                                +- Relation concessionnaire.clients_immatriculations[immatriculation#0,age#1,sexe#2,taux#3,situationfamiliale#4,nbenfantacharge#5,deuxiemevoiture#6,taux_eligible#7,marque#8,modele#9,puissance#10,longueur#11,nbplaces#12,nbportes#13,couleur#14,occasion#15,prix#16,categorie#17] parquet\n",
     "output_type": "error",
     "traceback": [
      "\u001b[0;31m---------------------------------------------------------------------------\u001b[0m",
      "\u001b[0;31mAnalysisException\u001b[0m                         Traceback (most recent call last)",
      "\u001b[0;32m/tmp/ipykernel_25680/2075344044.py\u001b[0m in \u001b[0;36m<module>\u001b[0;34m\u001b[0m\n\u001b[0;32m----> 1\u001b[0;31m \u001b[0mdf_final\u001b[0m\u001b[0;34m.\u001b[0m\u001b[0mselect\u001b[0m\u001b[0;34m(\u001b[0m\u001b[0;34m\"scaled_numerical_features\"\u001b[0m\u001b[0;34m)\u001b[0m\u001b[0;34m.\u001b[0m\u001b[0mshow\u001b[0m\u001b[0;34m(\u001b[0m\u001b[0;36m5\u001b[0m\u001b[0;34m,\u001b[0m \u001b[0mtruncate\u001b[0m\u001b[0;34m=\u001b[0m\u001b[0;32mFalse\u001b[0m\u001b[0;34m)\u001b[0m\u001b[0;34m\u001b[0m\u001b[0;34m\u001b[0m\u001b[0m\n\u001b[0m",
      "\u001b[0;32m/usr/local/spark/python/pyspark/sql/dataframe.py\u001b[0m in \u001b[0;36mselect\u001b[0;34m(self, *cols)\u001b[0m\n\u001b[1;32m   1683\u001b[0m         \u001b[0;34m[\u001b[0m\u001b[0mRow\u001b[0m\u001b[0;34m(\u001b[0m\u001b[0mname\u001b[0m\u001b[0;34m=\u001b[0m\u001b[0;34m'Alice'\u001b[0m\u001b[0;34m,\u001b[0m \u001b[0mage\u001b[0m\u001b[0;34m=\u001b[0m\u001b[0;36m12\u001b[0m\u001b[0;34m)\u001b[0m\u001b[0;34m,\u001b[0m \u001b[0mRow\u001b[0m\u001b[0;34m(\u001b[0m\u001b[0mname\u001b[0m\u001b[0;34m=\u001b[0m\u001b[0;34m'Bob'\u001b[0m\u001b[0;34m,\u001b[0m \u001b[0mage\u001b[0m\u001b[0;34m=\u001b[0m\u001b[0;36m15\u001b[0m\u001b[0;34m)\u001b[0m\u001b[0;34m]\u001b[0m\u001b[0;34m\u001b[0m\u001b[0;34m\u001b[0m\u001b[0m\n\u001b[1;32m   1684\u001b[0m         \"\"\"\n\u001b[0;32m-> 1685\u001b[0;31m         \u001b[0mjdf\u001b[0m \u001b[0;34m=\u001b[0m \u001b[0mself\u001b[0m\u001b[0;34m.\u001b[0m\u001b[0m_jdf\u001b[0m\u001b[0;34m.\u001b[0m\u001b[0mselect\u001b[0m\u001b[0;34m(\u001b[0m\u001b[0mself\u001b[0m\u001b[0;34m.\u001b[0m\u001b[0m_jcols\u001b[0m\u001b[0;34m(\u001b[0m\u001b[0;34m*\u001b[0m\u001b[0mcols\u001b[0m\u001b[0;34m)\u001b[0m\u001b[0;34m)\u001b[0m\u001b[0;34m\u001b[0m\u001b[0;34m\u001b[0m\u001b[0m\n\u001b[0m\u001b[1;32m   1686\u001b[0m         \u001b[0;32mreturn\u001b[0m \u001b[0mDataFrame\u001b[0m\u001b[0;34m(\u001b[0m\u001b[0mjdf\u001b[0m\u001b[0;34m,\u001b[0m \u001b[0mself\u001b[0m\u001b[0;34m.\u001b[0m\u001b[0msql_ctx\u001b[0m\u001b[0;34m)\u001b[0m\u001b[0;34m\u001b[0m\u001b[0;34m\u001b[0m\u001b[0m\n\u001b[1;32m   1687\u001b[0m \u001b[0;34m\u001b[0m\u001b[0m\n",
      "\u001b[0;32m/usr/local/spark/python/lib/py4j-0.10.9.2-src.zip/py4j/java_gateway.py\u001b[0m in \u001b[0;36m__call__\u001b[0;34m(self, *args)\u001b[0m\n\u001b[1;32m   1307\u001b[0m \u001b[0;34m\u001b[0m\u001b[0m\n\u001b[1;32m   1308\u001b[0m         \u001b[0manswer\u001b[0m \u001b[0;34m=\u001b[0m \u001b[0mself\u001b[0m\u001b[0;34m.\u001b[0m\u001b[0mgateway_client\u001b[0m\u001b[0;34m.\u001b[0m\u001b[0msend_command\u001b[0m\u001b[0;34m(\u001b[0m\u001b[0mcommand\u001b[0m\u001b[0;34m)\u001b[0m\u001b[0;34m\u001b[0m\u001b[0;34m\u001b[0m\u001b[0m\n\u001b[0;32m-> 1309\u001b[0;31m         return_value = get_return_value(\n\u001b[0m\u001b[1;32m   1310\u001b[0m             answer, self.gateway_client, self.target_id, self.name)\n\u001b[1;32m   1311\u001b[0m \u001b[0;34m\u001b[0m\u001b[0m\n",
      "\u001b[0;32m/usr/local/spark/python/pyspark/sql/utils.py\u001b[0m in \u001b[0;36mdeco\u001b[0;34m(*a, **kw)\u001b[0m\n\u001b[1;32m    115\u001b[0m                 \u001b[0;31m# Hide where the exception came from that shows a non-Pythonic\u001b[0m\u001b[0;34m\u001b[0m\u001b[0;34m\u001b[0m\u001b[0m\n\u001b[1;32m    116\u001b[0m                 \u001b[0;31m# JVM exception message.\u001b[0m\u001b[0;34m\u001b[0m\u001b[0;34m\u001b[0m\u001b[0m\n\u001b[0;32m--> 117\u001b[0;31m                 \u001b[0;32mraise\u001b[0m \u001b[0mconverted\u001b[0m \u001b[0;32mfrom\u001b[0m \u001b[0;32mNone\u001b[0m\u001b[0;34m\u001b[0m\u001b[0;34m\u001b[0m\u001b[0m\n\u001b[0m\u001b[1;32m    118\u001b[0m             \u001b[0;32melse\u001b[0m\u001b[0;34m:\u001b[0m\u001b[0;34m\u001b[0m\u001b[0;34m\u001b[0m\u001b[0m\n\u001b[1;32m    119\u001b[0m                 \u001b[0;32mraise\u001b[0m\u001b[0;34m\u001b[0m\u001b[0;34m\u001b[0m\u001b[0m\n",
      "\u001b[0;31mAnalysisException\u001b[0m: cannot resolve 'scaled_numerical_features' given input columns: [age, categorie, deuxiemevoiture, features, longueur, marque, nbenfantacharge, nbportes, occasion, prix, puissance, sexe, situationfamiliale, taux, taux_eligible];\n'Project ['scaled_numerical_features]\n+- Project [age#205, taux#206, nbenfantacharge#207, deuxiemevoiture#857, taux_eligible#874, puissance#208, nbportes#210, occasion#891, prix#211, marque#806, sexe#823, situationfamiliale#840, categorie#1187, longueur#1395, UDF(struct(age, age#205, taux, taux#206, nbenfantacharge_double_VectorAssembler_4894c645e38d, cast(nbenfantacharge#207 as double), puissance_double_VectorAssembler_4894c645e38d, cast(puissance#208 as double), nbportes_double_VectorAssembler_4894c645e38d, cast(nbportes#210 as double), prix_double_VectorAssembler_4894c645e38d, cast(prix#211 as double), categorie, categorie#1187, longueur, longueur#1395, marque, marque#806, sexe, sexe#823, situationfamiliale, situationfamiliale#840)) AS features#1607]\n   +- Project [age#205, taux#206, nbenfantacharge#207, deuxiemevoiture#857, taux_eligible#874, puissance#208, nbportes#210, occasion#891, prix#211, marque#806, sexe#823, situationfamiliale#840, categorie#1187, longueur#1395]\n      +- Project [age#205, taux#206, nbenfantacharge#207, deuxiemevoiture#857, taux_eligible#874, puissance#208, nbplaces#209, nbportes#210, occasion#891, prix#211, marque#806, sexe#823, situationfamiliale#840, categorie#1187, longueur_indexed#1360 AS longueur#1395]\n         +- Project [age#205, taux#206, nbenfantacharge#207, deuxiemevoiture#857, taux_eligible#874, puissance#208, nbplaces#209, nbportes#210, occasion#891, prix#211, marque#806, sexe#823, situationfamiliale#840, categorie#1187, longueur_indexed#1360]\n            +- Project [age#205, taux#206, nbenfantacharge#207, deuxiemevoiture#857, taux_eligible#874, puissance#208, longueur#11, nbplaces#209, nbportes#210, occasion#891, prix#211, marque#806, sexe#823, situationfamiliale#840, categorie#1187, UDF(cast(longueur#11 as string)) AS longueur_indexed#1360]\n               +- Project [age#205, taux#206, nbenfantacharge#207, deuxiemevoiture#857, taux_eligible#874, puissance#208, longueur#11, nbplaces#209, nbportes#210, occasion#891, prix#211, marque#806, sexe#823, situationfamiliale#840, categorie_indexed#1135 AS categorie#1187]\n                  +- Project [age#205, taux#206, nbenfantacharge#207, deuxiemevoiture#857, taux_eligible#874, puissance#208, longueur#11, nbplaces#209, nbportes#210, occasion#891, prix#211, marque#806, sexe#823, situationfamiliale#840, categorie_indexed#1135]\n                     +- Project [age#205, taux#206, nbenfantacharge#207, deuxiemevoiture#857, taux_eligible#874, puissance#208, longueur#11, nbplaces#209, nbportes#210, occasion#891, prix#211, categorie#17, marque#806, sexe#823, situationfamiliale#840, categorie_indexed#1135]\n                        +- Project [age#205, taux#206, nbenfantacharge#207, deuxiemevoiture#857, taux_eligible#874, modele#9, puissance#208, longueur#11, nbplaces#209, nbportes#210, occasion#891, prix#211, categorie#17, marque#806, sexe#823, situationfamiliale#840, UDF(cast(categorie#17 as string)) AS categorie_indexed#1135]\n                           +- Project [age#205, taux#206, nbenfantacharge#207, deuxiemevoiture#857, taux_eligible#874, modele#9, puissance#208, longueur#11, nbplaces#209, nbportes#210, CASE WHEN (occasion#15 = false) THEN 0 WHEN (occasion#15 = true) THEN 1 ELSE cast(occasion#15 as int) END AS occasion#891, prix#211, categorie#17, marque#806, sexe#823, situationfamiliale#840]\n                              +- Project [age#205, taux#206, nbenfantacharge#207, deuxiemevoiture#857, CASE WHEN (taux_eligible#7 = false) THEN 0 WHEN (taux_eligible#7 = true) THEN 1 ELSE cast(taux_eligible#7 as int) END AS taux_eligible#874, modele#9, puissance#208, longueur#11, nbplaces#209, nbportes#210, occasion#15, prix#211, categorie#17, marque#806, sexe#823, situationfamiliale#840]\n                                 +- Project [age#205, taux#206, nbenfantacharge#207, CASE WHEN (deuxiemevoiture#6 = false) THEN 0 WHEN (deuxiemevoiture#6 = true) THEN 1 ELSE cast(deuxiemevoiture#6 as int) END AS deuxiemevoiture#857, taux_eligible#7, modele#9, puissance#208, longueur#11, nbplaces#209, nbportes#210, occasion#15, prix#211, categorie#17, marque#806, sexe#823, situationfamiliale#840]\n                                    +- Project [age#205, taux#206, nbenfantacharge#207, deuxiemevoiture#6, taux_eligible#7, modele#9, puissance#208, longueur#11, nbplaces#209, nbportes#210, occasion#15, prix#211, categorie#17, marque#806, sexe#823, situationfamiliale_encoded#666 AS situationfamiliale#840]\n                                       +- Project [age#205, taux#206, nbenfantacharge#207, deuxiemevoiture#6, taux_eligible#7, modele#9, puissance#208, longueur#11, nbplaces#209, nbportes#210, occasion#15, prix#211, categorie#17, marque#806, sexe_encoded#520 AS sexe#823, situationfamiliale_encoded#666]\n                                          +- Project [age#205, taux#206, nbenfantacharge#207, deuxiemevoiture#6, taux_eligible#7, modele#9, puissance#208, longueur#11, nbplaces#209, nbportes#210, occasion#15, prix#211, categorie#17, marque_encoded#378 AS marque#806, sexe_encoded#520, situationfamiliale_encoded#666]\n                                             +- Project [age#205, taux#206, nbenfantacharge#207, deuxiemevoiture#6, taux_eligible#7, modele#9, puissance#208, longueur#11, nbplaces#209, nbportes#210, occasion#15, prix#211, categorie#17, marque_encoded#378, sexe_encoded#520, situationfamiliale_encoded#666]\n                                                +- Project [age#205, taux#206, nbenfantacharge#207, deuxiemevoiture#6, taux_eligible#7, modele#9, puissance#208, longueur#11, nbplaces#209, nbportes#210, occasion#15, prix#211, categorie#17, marque_encoded#378, sexe_encoded#520, situationfamiliale_index#637, situationfamiliale_encoded#666]\n                                                   +- Project [age#205, taux#206, situationfamiliale#4, nbenfantacharge#207, deuxiemevoiture#6, taux_eligible#7, modele#9, puissance#208, longueur#11, nbplaces#209, nbportes#210, occasion#15, prix#211, categorie#17, marque_encoded#378, sexe_encoded#520, situationfamiliale_index#637, situationfamiliale_encoded#666]\n                                                      +- Project [age#205, taux#206, situationfamiliale#4, nbenfantacharge#207, deuxiemevoiture#6, taux_eligible#7, modele#9, puissance#208, longueur#11, nbplaces#209, nbportes#210, occasion#15, prix#211, categorie#17, marque_encoded#378, sexe_index#493, sexe_encoded#520, situationfamiliale_index#637, situationfamiliale_encoded#666]\n                                                         +- Project [age#205, sexe#2, taux#206, situationfamiliale#4, nbenfantacharge#207, deuxiemevoiture#6, taux_eligible#7, modele#9, puissance#208, longueur#11, nbplaces#209, nbportes#210, occasion#15, prix#211, categorie#17, marque_encoded#378, sexe_index#493, sexe_encoded#520, situationfamiliale_index#637, situationfamiliale_encoded#666]\n                                                            +- Project [age#205, sexe#2, taux#206, situationfamiliale#4, nbenfantacharge#207, deuxiemevoiture#6, taux_eligible#7, modele#9, puissance#208, longueur#11, nbplaces#209, nbportes#210, occasion#15, prix#211, categorie#17, marque_index#353, marque_encoded#378, sexe_index#493, sexe_encoded#520, situationfamiliale_index#637, situationfamiliale_encoded#666]\n                                                               +- Project [age#205, sexe#2, taux#206, situationfamiliale#4, nbenfantacharge#207, deuxiemevoiture#6, taux_eligible#7, marque#8, modele#9, puissance#208, longueur#11, nbplaces#209, nbportes#210, occasion#15, prix#211, categorie#17, marque_index#353, marque_encoded#378, sexe_index#493, sexe_encoded#520, situationfamiliale_index#637, UDF(cast(situationfamiliale_index#637 as double), 0) AS situationfamiliale_encoded#666]\n                                                                  +- Project [age#205, sexe#2, taux#206, situationfamiliale#4, nbenfantacharge#207, deuxiemevoiture#6, taux_eligible#7, marque#8, modele#9, puissance#208, longueur#11, nbplaces#209, nbportes#210, occasion#15, prix#211, categorie#17, marque_index#353, marque_encoded#378, sexe_index#493, sexe_encoded#520, UDF(cast(situationfamiliale#4 as string)) AS situationfamiliale_index#637]\n                                                                     +- Project [age#205, sexe#2, taux#206, situationfamiliale#4, nbenfantacharge#207, deuxiemevoiture#6, taux_eligible#7, marque#8, modele#9, puissance#208, longueur#11, nbplaces#209, nbportes#210, occasion#15, prix#211, categorie#17, marque_index#353, marque_encoded#378, sexe_index#493, UDF(cast(sexe_index#493 as double), 0) AS sexe_encoded#520]\n                                                                        +- Project [age#205, sexe#2, taux#206, situationfamiliale#4, nbenfantacharge#207, deuxiemevoiture#6, taux_eligible#7, marque#8, modele#9, puissance#208, longueur#11, nbplaces#209, nbportes#210, occasion#15, prix#211, categorie#17, marque_index#353, marque_encoded#378, UDF(cast(sexe#2 as string)) AS sexe_index#493]\n                                                                           +- Project [age#205, sexe#2, taux#206, situationfamiliale#4, nbenfantacharge#207, deuxiemevoiture#6, taux_eligible#7, marque#8, modele#9, puissance#208, longueur#11, nbplaces#209, nbportes#210, occasion#15, prix#211, categorie#17, marque_index#353, UDF(cast(marque_index#353 as double), 0) AS marque_encoded#378]\n                                                                              +- Project [age#205, sexe#2, taux#206, situationfamiliale#4, nbenfantacharge#207, deuxiemevoiture#6, taux_eligible#7, marque#8, modele#9, puissance#208, longueur#11, nbplaces#209, nbportes#210, occasion#15, prix#211, categorie#17, UDF(cast(marque#8 as string)) AS marque_index#353]\n                                                                                 +- Project [age#205, sexe#2, taux#206, situationfamiliale#4, nbenfantacharge#207, deuxiemevoiture#6, taux_eligible#7, marque#8, modele#9, puissance#208, longueur#11, nbplaces#209, nbportes#210, occasion#15, prix#211, categorie#17]\n                                                                                    +- Project [age#205, sexe#2, taux#206, situationfamiliale#4, nbenfantacharge#207, deuxiemevoiture#6, taux_eligible#7, marque#8, modele#9, puissance#208, longueur#11, nbplaces#209, nbportes#210, couleur#14, occasion#15, prix#211, categorie#17]\n                                                                                       +- Project [immatriculation#0, coalesce(nanvl(age#1, cast(null as double)), cast(0.0 as double)) AS age#205, sexe#2, coalesce(nanvl(taux#3, cast(null as double)), cast(0.0 as double)) AS taux#206, situationfamiliale#4, coalesce(nbenfantacharge#5, cast(0.0 as int)) AS nbenfantacharge#207, deuxiemevoiture#6, taux_eligible#7, marque#8, modele#9, coalesce(puissance#10, cast(0.0 as int)) AS puissance#208, longueur#11, coalesce(nbplaces#12, cast(0.0 as int)) AS nbplaces#209, coalesce(nbportes#13, cast(0.0 as int)) AS nbportes#210, couleur#14, occasion#15, coalesce(prix#16, cast(0.0 as int)) AS prix#211, categorie#17]\n                                                                                          +- Project [immatriculation#0, age#1, sexe#2, taux#3, situationfamiliale#4, nbenfantacharge#5, deuxiemevoiture#6, taux_eligible#7, marque#8, modele#9, puissance#10, longueur#11, nbplaces#12, nbportes#13, couleur#14, occasion#15, prix#16, categorie#17]\n                                                                                             +- SubqueryAlias spark_catalog.concessionnaire.clients_immatriculations\n                                                                                                +- Relation concessionnaire.clients_immatriculations[immatriculation#0,age#1,sexe#2,taux#3,situationfamiliale#4,nbenfantacharge#5,deuxiemevoiture#6,taux_eligible#7,marque#8,modele#9,puissance#10,longueur#11,nbplaces#12,nbportes#13,couleur#14,occasion#15,prix#16,categorie#17] parquet\n"
     ]
    }
   ],
   "source": [
    "df_final.select(\"scaled_numerical_features\").show(5, truncate=False)"
   ]
  },
  {
   "cell_type": "code",
   "execution_count": null,
   "id": "6001abba-bb71-4957-9dc2-f9cf1a60b64e",
   "metadata": {},
   "outputs": [],
   "source": [
    "clients_immatriculations.groupBy('categorie').count().show()\n",
    "\n",
    "# Taille du jeu de données total\n",
    "print(f\"Taille du jeu de données : {df_final.count()}\")\n",
    "\n",
    "# Taille des ensembles d'entraînement et de test\n",
    "print(f\"Taille de l'ensemble d'entraînement : {trainingData.count()}\")\n",
    "print(f\"Taille de l'ensemble de test : {testData.count()}\")"
   ]
  },
  {
   "cell_type": "code",
   "execution_count": null,
   "id": "2e0198ec-19c3-4527-88a9-131a109504a0",
   "metadata": {},
   "outputs": [],
   "source": []
  }
 ],
 "metadata": {
  "kernelspec": {
   "display_name": "Python 3 (ipykernel)",
   "language": "python",
   "name": "python3"
  },
  "language_info": {
   "codemirror_mode": {
    "name": "ipython",
    "version": 3
   },
   "file_extension": ".py",
   "mimetype": "text/x-python",
   "name": "python",
   "nbconvert_exporter": "python",
   "pygments_lexer": "ipython3",
   "version": "3.9.7"
  }
 },
 "nbformat": 4,
 "nbformat_minor": 5
}
