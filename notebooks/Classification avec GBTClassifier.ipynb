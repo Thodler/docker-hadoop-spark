{
 "cells": [
  {
   "cell_type": "code",
   "execution_count": 1,
   "id": "initial_id",
   "metadata": {},
   "outputs": [],
   "source": [
    "from pyspark.sql import SparkSession\n",
    "from pyspark.sql.functions import col, when, sum, count, avg, round, udf, corr\n",
    "from pyspark.ml.feature import StringIndexer, OneHotEncoder, VectorAssembler, IndexToString, StandardScaler\n",
    "from pyspark.ml.classification import RandomForestClassifier, DecisionTreeClassifier\n",
    "from pyspark.ml.evaluation import MulticlassClassificationEvaluator\n",
    "from pyspark.ml.tuning import CrossValidator, ParamGridBuilder\n",
    "from pyspark.sql.types import DoubleType\n",
    "from pyspark.ml.stat import Correlation\n",
    "from pyspark.ml.linalg import VectorUDT\n",
    "\n",
    "\n",
    "import pandas as pd\n",
    "import seaborn as sns\n",
    "import matplotlib.pyplot as plt\n"
   ]
  },
  {
   "cell_type": "code",
   "execution_count": 2,
   "id": "ab0bc1ae-9658-433b-8e95-570503bfe684",
   "metadata": {},
   "outputs": [
    {
     "name": "stderr",
     "output_type": "stream",
     "text": [
      "WARNING: An illegal reflective access operation has occurred\n",
      "WARNING: Illegal reflective access by org.apache.spark.unsafe.Platform (file:/usr/local/spark-3.2.0-bin-hadoop3.2/jars/spark-unsafe_2.12-3.2.0.jar) to constructor java.nio.DirectByteBuffer(long,int)\n",
      "WARNING: Please consider reporting this to the maintainers of org.apache.spark.unsafe.Platform\n",
      "WARNING: Use --illegal-access=warn to enable warnings of further illegal reflective access operations\n",
      "WARNING: All illegal access operations will be denied in a future release\n",
      "Using Spark's default log4j profile: org/apache/spark/log4j-defaults.properties\n",
      "Setting default log level to \"WARN\".\n",
      "To adjust logging level use sc.setLogLevel(newLevel). For SparkR, use setLogLevel(newLevel).\n",
      "24/11/18 09:46:21 WARN NativeCodeLoader: Unable to load native-hadoop library for your platform... using builtin-java classes where applicable\n",
      "24/11/18 09:46:22 WARN Utils: Service 'SparkUI' could not bind on port 4040. Attempting port 4041.\n"
     ]
    },
    {
     "data": {
      "text/plain": [
       "DataFrame[]"
      ]
     },
     "execution_count": 2,
     "metadata": {},
     "output_type": "execute_result"
    }
   ],
   "source": [
    "spark = SparkSession.builder\\\n",
    "    .appName(\"Préparation de données\")\\\n",
    "    .enableHiveSupport()\\\n",
    "    .getOrCreate()\n",
    "\n",
    "spark.sparkContext.setLogLevel(\"OFF\")\n",
    "spark.catalog.clearCache()\n",
    "spark.sql(\"USE concessionnaire\")"
   ]
  },
  {
   "cell_type": "code",
   "execution_count": 3,
   "id": "60f4b1ed-bdc8-4e9c-8f95-40586dd17b84",
   "metadata": {},
   "outputs": [
    {
     "name": "stdout",
     "output_type": "stream",
     "text": [
      "root\n",
      " |-- immatriculation: string (nullable = true)\n",
      " |-- age: double (nullable = true)\n",
      " |-- sexe: string (nullable = true)\n",
      " |-- taux: double (nullable = true)\n",
      " |-- situationfamiliale: string (nullable = true)\n",
      " |-- nbenfantacharge: integer (nullable = true)\n",
      " |-- deuxiemevoiture: boolean (nullable = true)\n",
      " |-- taux_eligible: boolean (nullable = true)\n",
      " |-- marque: string (nullable = true)\n",
      " |-- modele: string (nullable = true)\n",
      " |-- puissance: integer (nullable = true)\n",
      " |-- longueur: string (nullable = true)\n",
      " |-- nbplaces: integer (nullable = true)\n",
      " |-- nbportes: integer (nullable = true)\n",
      " |-- couleur: string (nullable = true)\n",
      " |-- occasion: boolean (nullable = true)\n",
      " |-- prix: integer (nullable = true)\n",
      " |-- categorie: string (nullable = true)\n",
      "\n"
     ]
    }
   ],
   "source": [
    "clients_immatriculations = spark.sql(\"SELECT * FROM clients_immatriculations\")\n",
    "clients_immatriculations.printSchema()"
   ]
  },
  {
   "cell_type": "markdown",
   "id": "9407675b-70b3-4f9c-9697-5692f69d1408",
   "metadata": {},
   "source": [
    "### Verification des doublons"
   ]
  },
  {
   "cell_type": "code",
   "execution_count": 4,
   "id": "8c56f420-ef98-4a2c-acce-87665cc20510",
   "metadata": {},
   "outputs": [
    {
     "name": "stderr",
     "output_type": "stream",
     "text": [
      "                                                                                \r"
     ]
    },
    {
     "name": "stdout",
     "output_type": "stream",
     "text": [
      "+---------------+---+----+----+------------------+---------------+---------------+-------------+------+------+---------+--------+--------+--------+-------+--------+----+---------+-----+\n",
      "|immatriculation|age|sexe|taux|situationfamiliale|nbenfantacharge|deuxiemevoiture|taux_eligible|marque|modele|puissance|longueur|nbplaces|nbportes|couleur|occasion|prix|categorie|count|\n",
      "+---------------+---+----+----+------------------+---------------+---------------+-------------+------+------+---------+--------+--------+--------+-------+--------+----+---------+-----+\n",
      "+---------------+---+----+----+------------------+---------------+---------------+-------------+------+------+---------+--------+--------+--------+-------+--------+----+---------+-----+\n",
      "\n"
     ]
    }
   ],
   "source": [
    "doublons = clients_immatriculations.groupBy(*clients_immatriculations.columns).agg(count(\"*\").alias(\"count\")).filter(\"count > 1\")\n",
    "doublons.show(truncate=False)"
   ]
  },
  {
   "cell_type": "markdown",
   "id": "38ba59e5-8312-46f6-ad8c-7dcaeaaff557",
   "metadata": {},
   "source": [
    "### Analyse des **null**"
   ]
  },
  {
   "cell_type": "code",
   "execution_count": 5,
   "id": "3e63acba-9679-4d7f-8b39-77945e1d9951",
   "metadata": {},
   "outputs": [
    {
     "name": "stderr",
     "output_type": "stream",
     "text": [
      "                                                                                \r"
     ]
    },
    {
     "name": "stdout",
     "output_type": "stream",
     "text": [
      "+---------------+----------+\n",
      "|         Column|Null Count|\n",
      "+---------------+----------+\n",
      "|nbenfantacharge|       190|\n",
      "+---------------+----------+\n",
      "\n"
     ]
    }
   ],
   "source": [
    "from pyspark.sql.functions import col, when, sum\n",
    "\n",
    "null_counts = clients_immatriculations.select(\n",
    "    *[sum(when(col(c).isNull(), 1).otherwise(0)).alias(c) for c in clients_immatriculations.columns]\n",
    ")\n",
    "\n",
    "null_counts_dict = null_counts.collect()[0].asDict()\n",
    "\n",
    "columns_with_nulls = [(col_name, count) for col_name, count in null_counts_dict.items() if count > 0]\n",
    "\n",
    "nulls_df = spark.createDataFrame(columns_with_nulls, [\"Column\", \"Null Count\"])\n",
    "\n",
    "nulls_df.show()"
   ]
  },
  {
   "cell_type": "code",
   "execution_count": 6,
   "id": "809655c8-7007-4e44-9b52-f4be951e3aa5",
   "metadata": {},
   "outputs": [],
   "source": [
    "clients_immatriculations = clients_immatriculations.fillna(0)"
   ]
  },
  {
   "cell_type": "markdown",
   "id": "4b2dbdd6-31ac-4a42-a66e-3cc563d97178",
   "metadata": {},
   "source": [
    "### Supprimer les colones innutiles"
   ]
  },
  {
   "cell_type": "code",
   "execution_count": 7,
   "id": "2c1b5453-dd53-4be0-be94-d9cca673f60c",
   "metadata": {},
   "outputs": [],
   "source": [
    "clients_immatriculations = clients_immatriculations.drop('immatriculation')"
   ]
  },
  {
   "cell_type": "markdown",
   "id": "3c8b60cd-5374-46a8-9c79-d076d6116249",
   "metadata": {},
   "source": [
    "### OneHotEncoder"
   ]
  },
  {
   "cell_type": "code",
   "execution_count": 8,
   "id": "d2511917-dd2e-4baf-98a0-1274f9cb99af",
   "metadata": {},
   "outputs": [
    {
     "name": "stderr",
     "output_type": "stream",
     "text": [
      "                                                                                \r"
     ]
    }
   ],
   "source": [
    "indexer_marque = StringIndexer(inputCol=\"marque\", outputCol=\"marque_index\")\n",
    "indexer_marque = indexer_marque.fit(clients_immatriculations)\n",
    "clients_immatriculations = indexer_marque.transform(clients_immatriculations)\n",
    "\n",
    "encoder_marque = OneHotEncoder(inputCol=\"marque_index\", outputCol=\"marque_encoded\")\n",
    "clients_immatriculations = encoder_marque.fit(clients_immatriculations).transform(clients_immatriculations)"
   ]
  },
  {
   "cell_type": "code",
   "execution_count": 9,
   "id": "d3ddd877-5a4d-46f1-b09d-8817ae8c105f",
   "metadata": {},
   "outputs": [],
   "source": [
    "indexer_sexe = StringIndexer(inputCol=\"sexe\", outputCol=\"sexe_index\")\n",
    "indexer_sexe = indexer_sexe.fit(clients_immatriculations)\n",
    "clients_immatriculations = indexer_sexe.transform(clients_immatriculations)\n",
    "\n",
    "encoder_sexe = OneHotEncoder(inputCol=\"sexe_index\", outputCol=\"sexe_encoded\")\n",
    "clients_immatriculations = encoder_sexe.fit(clients_immatriculations).transform(clients_immatriculations)"
   ]
  },
  {
   "cell_type": "code",
   "execution_count": 10,
   "id": "463b999c-e54e-4270-a7b4-3175b74df5fe",
   "metadata": {},
   "outputs": [],
   "source": [
    "indexer_couleur = StringIndexer(inputCol=\"couleur\", outputCol=\"couleur_index\")\n",
    "indexer_couleur = indexer_couleur.fit(clients_immatriculations)\n",
    "clients_immatriculations = indexer_couleur.transform(clients_immatriculations)"
   ]
  },
  {
   "cell_type": "code",
   "execution_count": 11,
   "id": "b09d7ca6-0af0-4d2c-9dc3-bc6bb6797749",
   "metadata": {},
   "outputs": [],
   "source": [
    "indexer_situationfamiliale = StringIndexer(inputCol=\"situationfamiliale\", outputCol=\"situationfamiliale_index\")\n",
    "indexer_situationfamiliale = indexer_situationfamiliale.fit(clients_immatriculations)\n",
    "clients_immatriculations = indexer_situationfamiliale.transform(clients_immatriculations)\n",
    "\n",
    "encoder_situationfamiliale = OneHotEncoder(inputCol=\"situationfamiliale_index\", outputCol=\"situationfamiliale_encoded\")\n",
    "clients_immatriculations = encoder_situationfamiliale.fit(clients_immatriculations).transform(clients_immatriculations)"
   ]
  },
  {
   "cell_type": "code",
   "execution_count": 12,
   "id": "2b2f949a-769a-4f30-b54e-e7c83769d91e",
   "metadata": {},
   "outputs": [],
   "source": [
    "clients_immatriculations = clients_immatriculations.drop('marque') \n",
    "clients_immatriculations = clients_immatriculations.drop('marque_index')\n",
    "clients_immatriculations = clients_immatriculations.drop('sexe') \n",
    "clients_immatriculations = clients_immatriculations.drop('sexe_index')\n",
    "clients_immatriculations = clients_immatriculations.drop('couleur') \n",
    "clients_immatriculations = clients_immatriculations.drop('situationfamiliale') \n",
    "clients_immatriculations = clients_immatriculations.drop('situationfamiliale_index')\n",
    "\n",
    "clients_immatriculations = clients_immatriculations.withColumnRenamed('marque_encoded', 'marque')\n",
    "clients_immatriculations = clients_immatriculations.withColumnRenamed('sexe_encoded', 'sexe')\n",
    "clients_immatriculations = clients_immatriculations.withColumnRenamed('couleur_indexed', 'couleur')\n",
    "clients_immatriculations = clients_immatriculations.withColumnRenamed('situationfamiliale_encoded', 'situationfamiliale')"
   ]
  },
  {
   "cell_type": "markdown",
   "id": "8b60109f-41b4-47be-8a43-5fd09cc9a4cc",
   "metadata": {},
   "source": [
    "## Changer des Boolean en Int"
   ]
  },
  {
   "cell_type": "code",
   "execution_count": 13,
   "id": "ae7c2346-4801-4f04-8687-4c9840fc92f5",
   "metadata": {},
   "outputs": [
    {
     "name": "stdout",
     "output_type": "stream",
     "text": [
      "+----+-----+---------------+---------------+-------------+----------------+---------+-----------+--------+--------+--------+-----+-------------------+---------------+-------------+-------+------------------+\n",
      "| age| taux|nbenfantacharge|deuxiemevoiture|taux_eligible|          modele|puissance|   longueur|nbplaces|nbportes|occasion| prix|          categorie|         marque|         sexe|couleur|situationfamiliale|\n",
      "+----+-----+---------------+---------------+-------------+----------------+---------+-----------+--------+--------+--------+-----+-------------------+---------------+-------------+-------+------------------+\n",
      "|61.0|188.0|              0|              0|            0|     picanto 1.1|       65|     courte|       5|       5|       0| 8990|citadine economique|(18,[13],[1.0])|(1,[0],[1.0])|    3.0|     (6,[1],[1.0])|\n",
      "|50.0|460.0|              3|              0|            0|vel satis 3.5 v6|      245|tres longue|       5|       5|       0|49200|      suv/crossover| (18,[2],[1.0])|    (1,[],[])|    2.0|     (6,[0],[1.0])|\n",
      "|54.0|403.0|              0|              0|            0|     polo 1.2 6v|       55|     courte|       5|       3|       0|12200|citadine economique| (18,[4],[1.0])|(1,[0],[1.0])|    4.0|     (6,[1],[1.0])|\n",
      "|74.0|531.0|              4|              1|            0|            s500|      306|tres longue|       5|       5|       1|70910|      suv/crossover| (18,[5],[1.0])|(1,[0],[1.0])|    1.0|     (6,[0],[1.0])|\n",
      "+----+-----+---------------+---------------+-------------+----------------+---------+-----------+--------+--------+--------+-----+-------------------+---------------+-------------+-------+------------------+\n",
      "only showing top 4 rows\n",
      "\n"
     ]
    }
   ],
   "source": [
    "clients_immatriculations = clients_immatriculations.withColumn(\n",
    "    \"deuxiemevoiture\",\n",
    "    when(col(\"deuxiemevoiture\") == False, 0)\n",
    "    .when(col(\"deuxiemevoiture\") == True, 1)\n",
    "    .otherwise(col(\"deuxiemevoiture\").cast(\"int\"))\n",
    ")\n",
    "\n",
    "clients_immatriculations = clients_immatriculations.withColumn(\n",
    "    \"taux_eligible\",\n",
    "    when(col(\"taux_eligible\") == False, 0)\n",
    "    .when(col(\"taux_eligible\") == True, 1)\n",
    "    .otherwise(col(\"taux_eligible\").cast(\"int\"))\n",
    ")\n",
    "\n",
    "clients_immatriculations = clients_immatriculations.withColumn(\n",
    "    \"occasion\",\n",
    "    when(col(\"occasion\") == False, 0)\n",
    "    .when(col(\"occasion\") == True, 1)\n",
    "    .otherwise(col(\"occasion\").cast(\"int\"))\n",
    ")\n",
    "\n",
    "clients_immatriculations.show(4)"
   ]
  },
  {
   "cell_type": "markdown",
   "id": "7e6da3bb-b8ec-479b-b5d1-8626a64731fd",
   "metadata": {},
   "source": [
    "### Analyse de **Modele**"
   ]
  },
  {
   "cell_type": "code",
   "execution_count": 14,
   "id": "61d2a605-7c11-4b12-b855-ab2537ec0124",
   "metadata": {},
   "outputs": [
    {
     "name": "stdout",
     "output_type": "stream",
     "text": [
      "+----+------+---------------+---------------+-------------+----------------+---------+-----------+--------+--------+--------+------+-------------------+---------------+-------------+-------+------------------+\n",
      "| age|  taux|nbenfantacharge|deuxiemevoiture|taux_eligible|          modele|puissance|   longueur|nbplaces|nbportes|occasion|  prix|          categorie|         marque|         sexe|couleur|situationfamiliale|\n",
      "+----+------+---------------+---------------+-------------+----------------+---------+-----------+--------+--------+--------+------+-------------------+---------------+-------------+-------+------------------+\n",
      "|61.0| 188.0|              0|              0|            0|     picanto 1.1|       65|     courte|       5|       5|       0|  8990|citadine economique|(18,[13],[1.0])|(1,[0],[1.0])|    3.0|     (6,[1],[1.0])|\n",
      "|50.0| 460.0|              3|              0|            0|vel satis 3.5 v6|      245|tres longue|       5|       5|       0| 49200|      suv/crossover| (18,[2],[1.0])|    (1,[],[])|    2.0|     (6,[0],[1.0])|\n",
      "|54.0| 403.0|              0|              0|            0|     polo 1.2 6v|       55|     courte|       5|       3|       0| 12200|citadine economique| (18,[4],[1.0])|(1,[0],[1.0])|    4.0|     (6,[1],[1.0])|\n",
      "|74.0| 531.0|              4|              1|            0|            s500|      306|tres longue|       5|       5|       1| 70910|      suv/crossover| (18,[5],[1.0])|(1,[0],[1.0])|    1.0|     (6,[0],[1.0])|\n",
      "|35.0| 208.0|              0|              0|            0|    golf 2.0 fsi|      150|    moyenne|       5|       5|       1| 16029|          familiale| (18,[4],[1.0])|(1,[0],[1.0])|    1.0|     (6,[1],[1.0])|\n",
      "|66.0| 960.0|              1|              0|            1|        9.3 1.8t|      150|     longue|       5|       5|       0| 38600|      suv/crossover| (18,[8],[1.0])|(1,[0],[1.0])|    1.0|     (6,[0],[1.0])|\n",
      "|65.0| 199.0|              0|              0|            0|      toledo 1.6|      102|     longue|       5|       5|       0| 18880|          familiale|(18,[15],[1.0])|    (1,[],[])|    2.0|     (6,[0],[1.0])|\n",
      "|67.0|1072.0|              0|              0|            1|            s500|      306|tres longue|       5|       5|       0|101300|      suv/crossover| (18,[5],[1.0])|(1,[0],[1.0])|    1.0|     (6,[0],[1.0])|\n",
      "|34.0| 411.0|              4|              0|            0|vel satis 3.5 v6|      245|tres longue|       5|       5|       0| 49200|      suv/crossover| (18,[2],[1.0])|(1,[0],[1.0])|    1.0|     (6,[0],[1.0])|\n",
      "|51.0|1281.0|              2|              0|            1|   x-type 2.5 v6|      197|     longue|       5|       5|       0| 37100|      suv/crossover| (18,[3],[1.0])|(1,[0],[1.0])|    0.0|     (6,[0],[1.0])|\n",
      "|81.0|1091.0|              1|              0|            1|        9.3 1.8t|      150|     longue|       5|       5|       0| 38600|      suv/crossover| (18,[8],[1.0])|(1,[0],[1.0])|    2.0|     (6,[0],[1.0])|\n",
      "|28.0| 583.0|              0|              0|            1|    golf 2.0 fsi|      150|    moyenne|       5|       5|       0| 22900|          familiale| (18,[4],[1.0])|(1,[0],[1.0])|    1.0|     (6,[1],[1.0])|\n",
      "|22.0|1125.0|              3|              0|            1|   x-type 2.5 v6|      197|     longue|       5|       5|       0| 37100|      suv/crossover| (18,[3],[1.0])|    (1,[],[])|    1.0|     (6,[2],[1.0])|\n",
      "|48.0| 991.0|              4|              0|            1|              m5|      507|tres longue|       5|       5|       0| 94800|      suv/crossover| (18,[1],[1.0])|(1,[0],[1.0])|    4.0|     (6,[0],[1.0])|\n",
      "|32.0| 156.0|              2|              0|            0|          s80 t6|      272|tres longue|       5|       5|       1| 35350|      suv/crossover| (18,[6],[1.0])|    (1,[],[])|    2.0|     (6,[0],[1.0])|\n",
      "|41.0| 429.0|              1|              0|            0|       croma 2.2|      147|     longue|       5|       5|       0| 24780|          familiale|(18,[10],[1.0])|(1,[0],[1.0])|    1.0|     (6,[0],[1.0])|\n",
      "|20.0|1120.0|              3|              0|            1|              m5|      507|tres longue|       5|       5|       0| 94800|      suv/crossover| (18,[1],[1.0])|(1,[0],[1.0])|    4.0|     (6,[2],[1.0])|\n",
      "|52.0| 847.0|              0|              0|            1|          a2 1.4|       75|     courte|       5|       5|       0| 18310|citadine economique| (18,[0],[1.0])|    (1,[],[])|    4.0|     (6,[1],[1.0])|\n",
      "|66.0| 236.0|              4|              0|            0|   maxima 3.0 v6|      200|tres longue|       5|       5|       0| 30000|              autre|(18,[11],[1.0])|(1,[0],[1.0])|    4.0|     (6,[0],[1.0])|\n",
      "|23.0| 493.0|              0|              0|            0|            120i|      150|    moyenne|       5|       5|       1| 25060|          familiale| (18,[1],[1.0])|(1,[0],[1.0])|    4.0|     (6,[1],[1.0])|\n",
      "+----+------+---------------+---------------+-------------+----------------+---------+-----------+--------+--------+--------+------+-------------------+---------------+-------------+-------+------------------+\n",
      "only showing top 20 rows\n",
      "\n"
     ]
    }
   ],
   "source": [
    "clients_immatriculations.show()"
   ]
  },
  {
   "cell_type": "code",
   "execution_count": 15,
   "id": "23fcbc78-c94f-42bc-a8a5-4737ead6ca80",
   "metadata": {},
   "outputs": [
    {
     "name": "stdout",
     "output_type": "stream",
     "text": [
      "Il y a 28 modeles.\n"
     ]
    }
   ],
   "source": [
    "count_modele = clients_immatriculations.select(\"modele\").distinct().count()\n",
    "print(f\"Il y a {count_modele} modeles.\")"
   ]
  },
  {
   "cell_type": "markdown",
   "id": "07adbd44-5a6e-4d2a-9453-7fed2c76ddd9",
   "metadata": {},
   "source": [
    "On travail uniquement sur les catégories, les modèles spécifiques n'ajoutent pas de valeur.\n",
    "L'analyse est simplifier en se concentrant sur des regroupements plus larges."
   ]
  },
  {
   "cell_type": "code",
   "execution_count": 16,
   "id": "f91c13bc-01ad-48f1-a4f4-82264235620f",
   "metadata": {},
   "outputs": [
    {
     "name": "stdout",
     "output_type": "stream",
     "text": [
      "+----+------+---------------+---------------+-------------+---------+-----------+--------+--------+--------+------+---------------+-------------+-------+------------------+---------+\n",
      "| age|  taux|nbenfantacharge|deuxiemevoiture|taux_eligible|puissance|   longueur|nbplaces|nbportes|occasion|  prix|         marque|         sexe|couleur|situationfamiliale|categorie|\n",
      "+----+------+---------------+---------------+-------------+---------+-----------+--------+--------+--------+------+---------------+-------------+-------+------------------+---------+\n",
      "|61.0| 188.0|              0|              0|            0|       65|     courte|       5|       5|       0|  8990|(18,[13],[1.0])|(1,[0],[1.0])|    3.0|     (6,[1],[1.0])|      2.0|\n",
      "|50.0| 460.0|              3|              0|            0|      245|tres longue|       5|       5|       0| 49200| (18,[2],[1.0])|    (1,[],[])|    2.0|     (6,[0],[1.0])|      0.0|\n",
      "|54.0| 403.0|              0|              0|            0|       55|     courte|       5|       3|       0| 12200| (18,[4],[1.0])|(1,[0],[1.0])|    4.0|     (6,[1],[1.0])|      2.0|\n",
      "|74.0| 531.0|              4|              1|            0|      306|tres longue|       5|       5|       1| 70910| (18,[5],[1.0])|(1,[0],[1.0])|    1.0|     (6,[0],[1.0])|      0.0|\n",
      "|35.0| 208.0|              0|              0|            0|      150|    moyenne|       5|       5|       1| 16029| (18,[4],[1.0])|(1,[0],[1.0])|    1.0|     (6,[1],[1.0])|      1.0|\n",
      "|66.0| 960.0|              1|              0|            1|      150|     longue|       5|       5|       0| 38600| (18,[8],[1.0])|(1,[0],[1.0])|    1.0|     (6,[0],[1.0])|      0.0|\n",
      "|65.0| 199.0|              0|              0|            0|      102|     longue|       5|       5|       0| 18880|(18,[15],[1.0])|    (1,[],[])|    2.0|     (6,[0],[1.0])|      1.0|\n",
      "|67.0|1072.0|              0|              0|            1|      306|tres longue|       5|       5|       0|101300| (18,[5],[1.0])|(1,[0],[1.0])|    1.0|     (6,[0],[1.0])|      0.0|\n",
      "|34.0| 411.0|              4|              0|            0|      245|tres longue|       5|       5|       0| 49200| (18,[2],[1.0])|(1,[0],[1.0])|    1.0|     (6,[0],[1.0])|      0.0|\n",
      "|51.0|1281.0|              2|              0|            1|      197|     longue|       5|       5|       0| 37100| (18,[3],[1.0])|(1,[0],[1.0])|    0.0|     (6,[0],[1.0])|      0.0|\n",
      "+----+------+---------------+---------------+-------------+---------+-----------+--------+--------+--------+------+---------------+-------------+-------+------------------+---------+\n",
      "only showing top 10 rows\n",
      "\n"
     ]
    }
   ],
   "source": [
    "indexer = StringIndexer(inputCol=\"categorie\", outputCol=\"categorie_indexed\")\n",
    "indexer_model = indexer.fit(clients_immatriculations)\n",
    "clients_immatriculations = indexer_model.transform(clients_immatriculations)\n",
    "\n",
    "clients_immatriculations = clients_immatriculations.drop('modele') \n",
    "clients_immatriculations = clients_immatriculations.drop('categorie') \n",
    "\n",
    "clients_immatriculations = clients_immatriculations.withColumnRenamed('categorie_indexed', 'categorie')\n",
    "\n",
    "clients_immatriculations.show(n=10)"
   ]
  },
  {
   "cell_type": "markdown",
   "id": "93bc7289-eb6b-46ed-984f-965ac2c914f4",
   "metadata": {},
   "source": [
    "### Analyse de **longueur**"
   ]
  },
  {
   "cell_type": "code",
   "execution_count": 17,
   "id": "23193ea7-3f01-4c2a-a3bc-e396783e59e9",
   "metadata": {},
   "outputs": [
    {
     "name": "stdout",
     "output_type": "stream",
     "text": [
      "+-----------+\n",
      "|   longueur|\n",
      "+-----------+\n",
      "|    moyenne|\n",
      "|tres longue|\n",
      "|     courte|\n",
      "|     longue|\n",
      "+-----------+\n",
      "\n"
     ]
    }
   ],
   "source": [
    "clients_immatriculations.select(\"longueur\").distinct().show()"
   ]
  },
  {
   "cell_type": "code",
   "execution_count": 18,
   "id": "18e07efe-5500-4c10-bf38-57617cd2f7d4",
   "metadata": {},
   "outputs": [
    {
     "name": "stdout",
     "output_type": "stream",
     "text": [
      "+----+-----+---------------+---------------+-------------+---------+--------+--------+--------+-----+---------------+-------------+-------+------------------+---------+--------+\n",
      "| age| taux|nbenfantacharge|deuxiemevoiture|taux_eligible|puissance|nbplaces|nbportes|occasion| prix|         marque|         sexe|couleur|situationfamiliale|categorie|longueur|\n",
      "+----+-----+---------------+---------------+-------------+---------+--------+--------+--------+-----+---------------+-------------+-------+------------------+---------+--------+\n",
      "|61.0|188.0|              0|              0|            0|       65|       5|       5|       0| 8990|(18,[13],[1.0])|(1,[0],[1.0])|    3.0|     (6,[1],[1.0])|      2.0|     1.0|\n",
      "|50.0|460.0|              3|              0|            0|      245|       5|       5|       0|49200| (18,[2],[1.0])|    (1,[],[])|    2.0|     (6,[0],[1.0])|      0.0|     0.0|\n",
      "|54.0|403.0|              0|              0|            0|       55|       5|       3|       0|12200| (18,[4],[1.0])|(1,[0],[1.0])|    4.0|     (6,[1],[1.0])|      2.0|     1.0|\n",
      "|74.0|531.0|              4|              1|            0|      306|       5|       5|       1|70910| (18,[5],[1.0])|(1,[0],[1.0])|    1.0|     (6,[0],[1.0])|      0.0|     0.0|\n",
      "+----+-----+---------------+---------------+-------------+---------+--------+--------+--------+-----+---------------+-------------+-------+------------------+---------+--------+\n",
      "only showing top 4 rows\n",
      "\n"
     ]
    }
   ],
   "source": [
    "indexer_longueur = StringIndexer(inputCol=\"longueur\", outputCol=\"longueur_indexed\")\n",
    "indexer_model_longueur = indexer_longueur.fit(clients_immatriculations)\n",
    "clients_immatriculations = indexer_model_longueur.transform(clients_immatriculations)\n",
    "\n",
    "clients_immatriculations = clients_immatriculations.drop('longueur')\n",
    "clients_immatriculations = clients_immatriculations.withColumnRenamed('longueur_indexed', 'longueur')\n",
    "\n",
    "clients_immatriculations.show(n=4)"
   ]
  },
  {
   "cell_type": "markdown",
   "id": "9e2b35f0-5bb5-408b-aede-34976f3aca06",
   "metadata": {},
   "source": [
    "### Nombre de place"
   ]
  },
  {
   "cell_type": "code",
   "execution_count": 19,
   "id": "20902f3b-6f51-46da-87b4-843097f18b5e",
   "metadata": {},
   "outputs": [
    {
     "name": "stdout",
     "output_type": "stream",
     "text": [
      "+--------+-----+\n",
      "|nbplaces|count|\n",
      "+--------+-----+\n",
      "|       5|99495|\n",
      "+--------+-----+\n",
      "\n"
     ]
    }
   ],
   "source": [
    "clients_immatriculations.groupBy(\"nbplaces\").count().show()"
   ]
  },
  {
   "cell_type": "markdown",
   "id": "283ca56a-b030-4cb8-af40-ef7520a64a72",
   "metadata": {},
   "source": [
    "Nombre de place ne dispose d'aucune variation, elle n'apporte rien au modele."
   ]
  },
  {
   "cell_type": "code",
   "execution_count": 20,
   "id": "89f4433e-fc09-42d3-9544-9f3a1dd17d24",
   "metadata": {},
   "outputs": [],
   "source": [
    "clients_immatriculations = clients_immatriculations.drop('nbplaces')"
   ]
  },
  {
   "cell_type": "markdown",
   "id": "cb6255f3-c5ba-40fe-80f6-e102ecca58ab",
   "metadata": {},
   "source": [
    "## Normalisation"
   ]
  },
  {
   "cell_type": "code",
   "execution_count": 21,
   "id": "56277c64-b994-4af0-b78f-6f35824725ef",
   "metadata": {},
   "outputs": [
    {
     "name": "stdout",
     "output_type": "stream",
     "text": [
      "+---------+-----+\n",
      "|categorie|count|\n",
      "+---------+-----+\n",
      "|      0.0|36488|\n",
      "|      1.0|30401|\n",
      "|      3.0| 5794|\n",
      "|      2.0|26812|\n",
      "+---------+-----+\n",
      "\n"
     ]
    }
   ],
   "source": [
    "clients_immatriculations.groupBy(\"categorie\").count().show()"
   ]
  },
  {
   "cell_type": "code",
   "execution_count": 22,
   "id": "d32c8ff4-6042-4155-a441-88c7b7c99e82",
   "metadata": {},
   "outputs": [
    {
     "name": "stdout",
     "output_type": "stream",
     "text": [
      "root\n",
      " |-- age: double (nullable = false)\n",
      " |-- taux: double (nullable = false)\n",
      " |-- nbenfantacharge: integer (nullable = true)\n",
      " |-- deuxiemevoiture: integer (nullable = true)\n",
      " |-- taux_eligible: integer (nullable = true)\n",
      " |-- puissance: integer (nullable = true)\n",
      " |-- nbportes: integer (nullable = true)\n",
      " |-- occasion: integer (nullable = true)\n",
      " |-- prix: integer (nullable = true)\n",
      " |-- marque: vector (nullable = true)\n",
      " |-- sexe: vector (nullable = true)\n",
      " |-- couleur: double (nullable = false)\n",
      " |-- situationfamiliale: vector (nullable = true)\n",
      " |-- categorie: double (nullable = false)\n",
      " |-- longueur: double (nullable = false)\n",
      "\n"
     ]
    }
   ],
   "source": [
    "clients_immatriculations.printSchema()"
   ]
  },
  {
   "cell_type": "code",
   "execution_count": 23,
   "id": "8d405563-eb6e-4f1b-9f96-5c832782bfab",
   "metadata": {},
   "outputs": [
    {
     "name": "stdout",
     "output_type": "stream",
     "text": [
      "+----------------------------------------------------------------------------------------------------------------------------------------------------------------------------------------------------------------------+\n",
      "|features                                                                                                                                                                                                              |\n",
      "+----------------------------------------------------------------------------------------------------------------------------------------------------------------------------------------------------------------------+\n",
      "|(34,[0,1,2,3,4,5,6,7,21,26,27,29],[0.9449358768505604,-1.2473309080800787,-0.8939641042038633,-0.9733097757728637,0.26511664129805995,-1.0365279023544591,1.052242507962002,-0.1650373243627372,1.0,1.0,3.0,1.0])     |\n",
      "|(34,[0,1,2,3,4,5,6,7,10,27,28],[0.34259417467597864,-0.4362663496169611,1.267359700810678,0.3413374478114725,0.26511664129805995,0.5279562371950479,-1.0934768966408357,-1.1453005079022611,1.0,2.0,1.0])             |\n",
      "|(34,[0,1,2,3,4,5,6,7,12,26,27,29],[0.5616275209212811,-0.6062320842948938,-0.8939641042038633,-1.0463457326386603,-3.7718867602860886,-0.9116337444844288,1.052242507962002,-0.1650373243627372,1.0,1.0,4.0,1.0])     |\n",
      "|(34,[0,1,2,3,4,5,6,7,13,26,27,28],[1.6567942521477932,-0.22455464501813255,1.9878009691488585,0.7868567846928309,0.26511664129805995,1.3726453859048164,-1.0934768966408357,-1.1453005079022611,1.0,1.0,1.0,1.0])     |\n",
      "|(34,[0,1,2,3,4,5,6,7,12,26,27,29],[-0.4787808737439055,-1.1876938081930848,-0.8939641042038633,-0.35250414241359385,0.26511664129805995,-0.7626556352992744,-0.0206171943394169,1.7954890427163108,1.0,1.0,1.0,1.0])  |\n",
      "|(34,[0,1,2,3,4,5,6,7,16,26,27,28],[1.2187275596571885,1.0546611475578878,-0.17352283586568285,-0.35250414241359385,0.26511664129805995,0.11553316136254914,-1.0934768966408357,0.8152258591767868,1.0,1.0,1.0,1.0])   |\n",
      "|(34,[0,1,2,3,4,5,6,7,23,27,28],[1.1639692230958627,-1.2145305031422322,-0.8939641042038633,-0.7030767353694168,0.26511664129805995,-0.6517293910352693,-0.0206171943394169,0.8152258591767868,1.0,2.0,1.0])           |\n",
      "|(34,[0,1,2,3,4,5,6,7,13,26,27,28],[1.273485896218514,1.388628906925054,-0.8939641042038633,0.7868567846928309,0.26511664129805995,2.5550545627491217,-1.0934768966408357,-1.1453005079022611,1.0,1.0,1.0,1.0])        |\n",
      "|(34,[0,1,2,3,4,5,6,7,10,26,27,28],[-0.5335392103052311,-0.5823772443400963,1.9878009691488585,0.3413374478114725,0.26511664129805995,0.5279562371950479,-1.0934768966408357,-1.1453005079022611,1.0,1.0,1.0,1.0])     |\n",
      "|(34,[0,1,2,3,4,5,6,7,11,26,28],[0.39735251123730425,2.011836600744141,0.5469184324724976,-0.009235145144350462,0.26511664129805995,0.0571714053485163,-1.0934768966408357,0.8152258591767868,1.0,1.0,1.0])            |\n",
      "|(34,[0,1,2,3,4,5,6,7,16,26,27,28],[2.0401026080770723,1.445284151817698,-0.17352283586568285,-0.35250414241359385,0.26511664129805995,0.11553316136254914,-1.0934768966408357,0.8152258591767868,1.0,1.0,2.0,1.0])    |\n",
      "|(34,[0,1,2,3,4,5,6,7,12,26,27,29],[-0.8620892296731848,-0.06949818531194828,-0.8939641042038633,-0.35250414241359385,0.26511664129805995,-0.49531988491766127,-0.0206171943394169,1.7954890427163108,1.0,1.0,1.0,1.0])|\n",
      "|(34,[0,1,2,3,4,5,6,7,11,27,30],[-1.1906392490411384,1.546667221625588,1.267359700810678,-0.009235145144350462,0.26511664129805995,0.0571714053485163,-1.0934768966408357,0.8152258591767868,1.0,1.0,1.0])             |\n",
      "|(34,[0,1,2,3,4,5,6,7,9,26,27,28],[0.23307750155332743,1.1470986523827282,1.9878009691488585,2.25487951769534,0.26511664129805995,2.302153620021646,-1.0934768966408357,-1.1453005079022611,1.0,1.0,4.0,1.0])          |\n",
      "|(34,[0,1,2,3,4,5,6,7,14,27,28],[-0.6430558834278823,-1.342750267899269,0.5469184324724976,0.538534531349123,0.26511664129805995,-0.01091731000118868,-1.0934768966408357,-1.1453005079022611,1.0,2.0,1.0])            |\n",
      "|(34,[0,1,2,3,4,5,6,7,18,26,27,28],[-0.15023085437595185,-0.5287038544418017,-0.17352283586568285,-0.37441492947333277,0.26511664129805995,-0.4221731507134068,-0.0206171943394169,0.8152258591767868,1.0,1.0,1.0,1.0])|\n",
      "|(34,[0,1,2,3,4,5,6,7,9,26,27,30],[-1.3001559221637897,1.5317579466538394,1.267359700810678,2.25487951769534,0.26511664129805995,2.302153620021646,-1.0934768966408357,-1.1453005079022611,1.0,1.0,4.0,1.0])           |\n",
      "|(34,[0,1,2,3,4,5,6,7,8,27,29],[0.45211084779862987,0.7177115331963719,-0.8939641042038633,-0.9002738189070673,0.26511664129805995,-0.6739068583206017,1.052242507962002,-0.1650373243627372,1.0,4.0,1.0])             |\n",
      "|(34,[0,1,2,3,4,5,6,7,19,26,27,28],[1.2187275596571885,-1.1042018683512933,1.9878009691488585,0.012675641915388475,0.26511664129805995,-0.21907423978457247,2.1251022102634205,-1.1453005079022611,1.0,1.0,4.0,1.0])   |\n",
      "|(34,[0,1,2,3,4,5,6,7,9,26,27,29],[-1.1358809124798128,-0.33786513480342106,-0.8939641042038633,-0.35250414241359385,0.26511664129805995,-0.411278956257454,-0.0206171943394169,1.7954890427163108,1.0,1.0,4.0,1.0])   |\n",
      "+----------------------------------------------------------------------------------------------------------------------------------------------------------------------------------------------------------------------+\n",
      "only showing top 20 rows\n",
      "\n"
     ]
    }
   ],
   "source": [
    "# Étape 1: Identifier les colonnes numériques\n",
    "numerical_cols = ['age', 'taux', 'nbenfantacharge', 'puissance', 'nbportes', 'prix', 'categorie', 'longueur']\n",
    "\n",
    "# Étape 2: Assembler les colonnes numériques\n",
    "numerical_assembler = VectorAssembler(\n",
    "    inputCols=numerical_cols,\n",
    "    outputCol=\"numerical_features\"\n",
    ")\n",
    "df_numeric = numerical_assembler.transform(clients_immatriculations)\n",
    "\n",
    "# Étape 3: Normaliser les données numériques\n",
    "scaler = StandardScaler(\n",
    "    inputCol=\"numerical_features\",\n",
    "    outputCol=\"scaled_numerical_features\",\n",
    "    withMean=True,\n",
    "    withStd=True\n",
    ")\n",
    "scaler_model = scaler.fit(df_numeric)\n",
    "df_scaled = scaler_model.transform(df_numeric)\n",
    "\n",
    "# Étape 4: Assembler les caractéristiques normalisées avec les variables catégorielles\n",
    "categorical_vector_cols = ['marque', 'sexe', 'couleur', 'situationfamiliale']\n",
    "\n",
    "final_assembler = VectorAssembler(\n",
    "    inputCols=['scaled_numerical_features'] + categorical_vector_cols,\n",
    "    outputCol=\"features\"\n",
    ")\n",
    "df_final = final_assembler.transform(df_scaled)\n",
    "\n",
    "# Afficher le résultat\n",
    "df_final.select(\"features\").show(truncate=False)"
   ]
  },
  {
   "cell_type": "markdown",
   "id": "85b53327-4841-467d-95f9-ace9e02d2258",
   "metadata": {
    "tags": []
   },
   "source": [
    "## Classificateur"
   ]
  },
  {
   "cell_type": "markdown",
   "id": "b538e223-1563-487e-9461-15140c74d504",
   "metadata": {},
   "source": [
    "Entrainement du modele"
   ]
  },
  {
   "cell_type": "code",
   "execution_count": 24,
   "id": "eb86638e-fe02-4b76-8f11-1a0624bb05bb",
   "metadata": {},
   "outputs": [
    {
     "name": "stderr",
     "output_type": "stream",
     "text": [
      "                                                                                \r"
     ]
    }
   ],
   "source": [
    "(trainingData, testData) = df_final.randomSplit([0.8, 0.2], seed=42)\n",
    "\n",
    "rf = RandomForestClassifier(labelCol=\"categorie\", featuresCol=\"features\", numTrees=20)\n",
    "model = rf.fit(trainingData)"
   ]
  },
  {
   "cell_type": "markdown",
   "id": "f1a6d942-cf7f-47eb-8bf2-5c29653ee1da",
   "metadata": {},
   "source": [
    "Évaluation initiale"
   ]
  },
  {
   "cell_type": "code",
   "execution_count": 25,
   "id": "d1957d89-8934-4781-a00a-838b603da6f1",
   "metadata": {},
   "outputs": [
    {
     "name": "stdout",
     "output_type": "stream",
     "text": [
      "+----+-----+---------------+---------------+-------------+---------+--------+--------+-----+---------------+-------------+-------+------------------+---------+--------+--------------------+-------------------------+--------------------+--------------------+--------------------+----------+\n",
      "| age| taux|nbenfantacharge|deuxiemevoiture|taux_eligible|puissance|nbportes|occasion| prix|         marque|         sexe|couleur|situationfamiliale|categorie|longueur|  numerical_features|scaled_numerical_features|            features|       rawPrediction|         probability|prediction|\n",
      "+----+-----+---------------+---------------+-------------+---------+--------+--------+-----+---------------+-------------+-------+------------------+---------+--------+--------------------+-------------------------+--------------------+--------------------+--------------------+----------+\n",
      "|18.0|156.0|              3|              0|            0|      200|       5|       0|30000|(18,[11],[1.0])|    (1,[],[])|    3.0|     (6,[0],[1.0])|      3.0|     0.0|[18.0,156.0,3.0,2...|     [-1.4096725952864...|(34,[0,1,2,3,4,5,...|[1.59334791828352...|[0.07966739591417...|       3.0|\n",
      "|18.0|161.0|              0|              0|            0|      200|       5|       0|30000|(18,[11],[1.0])|(1,[0],[1.0])|    1.0|     (6,[0],[1.0])|      3.0|     0.0|[18.0,161.0,0.0,2...|     [-1.4096725952864...|(34,[0,1,2,3,4,5,...|[2.06649343915908...|[0.10332467195795...|       3.0|\n",
      "|18.0|171.0|              0|              0|            0|       75|       5|       1| 9625| (18,[7],[1.0])|    (1,[],[])|    1.0|     (6,[1],[1.0])|      2.0|     1.0|[18.0,171.0,0.0,7...|     [-1.4096725952864...|(34,[0,1,2,3,4,5,...|[4.33839479392624...|[2.16919739696312...|       2.0|\n",
      "|18.0|179.0|              3|              0|            0|      245|       5|       1|34440| (18,[2],[1.0])|    (1,[],[])|    4.0|     (6,[0],[1.0])|      3.0|     0.0|[18.0,179.0,3.0,2...|     [-1.4096725952864...|(34,[0,1,2,3,4,5,...|[3.39992516295629...|[0.16999625814781...|       3.0|\n",
      "|18.0|198.0|              0|              0|            0|       58|       3|       0| 8850|(18,[14],[1.0])|(1,[0],[1.0])|    0.0|     (6,[1],[1.0])|      2.0|     1.0|[18.0,198.0,0.0,5...|     [-1.4096725952864...|(34,[0,1,2,3,4,5,...|[0.0,0.0,19.55116...|[0.0,0.0,0.977558...|       2.0|\n",
      "|18.0|211.0|              1|              0|            0|      245|       5|       1|34440| (18,[2],[1.0])|(1,[0],[1.0])|    0.0|     (6,[0],[1.0])|      3.0|     0.0|[18.0,211.0,1.0,2...|     [-1.4096725952864...|(34,[0,1,2,3,4,5,...|[3.04065717959733...|[0.15203285897986...|       3.0|\n",
      "|18.0|222.0|              4|              0|            0|      193|       5|       0|31790|(18,[12],[1.0])|(1,[0],[1.0])|    0.0|     (6,[0],[1.0])|      3.0|     0.0|[18.0,222.0,4.0,1...|     [-1.4096725952864...|(34,[0,1,2,3,4,5,...|[1.59334791828352...|[0.07966739591417...|       3.0|\n",
      "|18.0|239.0|              2|              0|            0|      102|       5|       0|18880|(18,[15],[1.0])|(1,[0],[1.0])|    3.0|     (6,[0],[1.0])|      1.0|     2.0|[18.0,239.0,2.0,1...|     [-1.4096725952864...|(34,[0,1,2,3,4,5,...|[0.30095535456619...|[0.01504776772830...|       1.0|\n",
      "|18.0|403.0|              2|              1|            0|       75|       5|       1|12817| (18,[0],[1.0])|    (1,[],[])|    0.0|     (6,[0],[1.0])|      2.0|     1.0|[18.0,403.0,2.0,7...|     [-1.4096725952864...|(34,[0,1,2,3,4,5,...|[0.0,0.7980256972...|[0.0,0.0399012848...|       2.0|\n",
      "|18.0|406.0|              2|              1|            0|       75|       5|       1|12817| (18,[0],[1.0])|(1,[0],[1.0])|    3.0|     (6,[0],[1.0])|      2.0|     1.0|[18.0,406.0,2.0,7...|     [-1.4096725952864...|(34,[0,1,2,3,4,5,...|[0.0,0.7980256972...|[0.0,0.0399012848...|       2.0|\n",
      "|18.0|408.0|              2|              0|            0|      197|       5|       1|25970| (18,[3],[1.0])|(1,[0],[1.0])|    0.0|     (6,[2],[1.0])|      1.0|     2.0|[18.0,408.0,2.0,1...|     [-1.4096725952864...|(34,[0,1,2,3,4,5,...|[1.00937353055946...|[0.05046867652797...|       1.0|\n",
      "|18.0|412.0|              0|              0|            0|      150|       5|       1|25060| (18,[1],[1.0])|(1,[0],[1.0])|    4.0|     (6,[1],[1.0])|      1.0|     3.0|[18.0,412.0,0.0,1...|     [-1.4096725952864...|(34,[0,1,2,3,4,5,...|[0.21018361610994...|[0.01050918080549...|       1.0|\n",
      "|18.0|414.0|              0|              0|            0|       75|       5|       1|12817| (18,[0],[1.0])|(1,[0],[1.0])|    2.0|     (6,[1],[1.0])|      2.0|     1.0|[18.0,414.0,0.0,7...|     [-1.4096725952864...|(34,[0,1,2,3,4,5,...|[0.0,0.0387992406...|[0.0,0.0019399620...|       2.0|\n",
      "|18.0|421.0|              3|              0|            0|      245|       5|       0|49200| (18,[2],[1.0])|    (1,[],[])|    2.0|     (6,[0],[1.0])|      0.0|     0.0|[18.0,421.0,3.0,2...|     [-1.4096725952864...|(34,[0,1,2,3,4,5,...|[19.3999251629562...|[0.96999625814781...|       0.0|\n",
      "|18.0|430.0|              1|              0|            0|      272|       5|       0|50500| (18,[6],[1.0])|    (1,[],[])|    0.0|     (6,[0],[1.0])|      0.0|     0.0|[18.0,430.0,1.0,2...|     [-1.4096725952864...|(34,[0,1,2,3,4,5,...|[19.5517983004616...|[0.97758991502308...|       0.0|\n",
      "|18.0|437.0|              3|              0|            0|      245|       5|       0|49200| (18,[2],[1.0])|(1,[0],[1.0])|    1.0|     (6,[0],[1.0])|      0.0|     0.0|[18.0,437.0,3.0,2...|     [-1.4096725952864...|(34,[0,1,2,3,4,5,...|[19.3999251629562...|[0.96999625814781...|       0.0|\n",
      "|18.0|464.0|              0|              0|            0|      135|       5|       0|22350| (18,[2],[1.0])|(1,[0],[1.0])|    3.0|     (6,[1],[1.0])|      1.0|     3.0|[18.0,464.0,0.0,1...|     [-1.4096725952864...|(34,[0,1,2,3,4,5,...|[0.21070027847109...|[0.01053501392355...|       1.0|\n",
      "|18.0|527.0|              1|              0|            0|      197|       5|       1|25970| (18,[3],[1.0])|(1,[0],[1.0])|    3.0|     (6,[2],[1.0])|      1.0|     2.0|[18.0,527.0,1.0,1...|     [-1.4096725952864...|(34,[0,1,2,3,4,5,...|[1.00937353055946...|[0.05046867652797...|       1.0|\n",
      "|18.0|546.0|              1|              0|            1|      507|       5|       1|66360| (18,[1],[1.0])|(1,[0],[1.0])|    0.0|     (6,[0],[1.0])|      0.0|     0.0|[18.0,546.0,1.0,5...|     [-1.4096725952864...|(34,[0,1,2,3,4,5,...|[19.8090500823280...|[0.99045250411640...|       0.0|\n",
      "|18.0|554.0|              0|              0|            1|      150|       5|       0|22900| (18,[4],[1.0])|(1,[0],[1.0])|    3.0|     (6,[1],[1.0])|      1.0|     3.0|[18.0,554.0,0.0,1...|     [-1.4096725952864...|(34,[0,1,2,3,4,5,...|[0.21070027847109...|[0.01053501392355...|       1.0|\n",
      "+----+-----+---------------+---------------+-------------+---------+--------+--------+-----+---------------+-------------+-------+------------------+---------+--------+--------------------+-------------------------+--------------------+--------------------+--------------------+----------+\n",
      "only showing top 20 rows\n",
      "\n"
     ]
    },
    {
     "name": "stderr",
     "output_type": "stream",
     "text": [
      "[Stage 69:===>                                                    (1 + 15) / 16]\r"
     ]
    },
    {
     "name": "stdout",
     "output_type": "stream",
     "text": [
      "Précision du modèle sur l'ensemble de test = 100.00%\n"
     ]
    },
    {
     "name": "stderr",
     "output_type": "stream",
     "text": [
      "                                                                                \r"
     ]
    }
   ],
   "source": [
    "predictions = model.transform(testData)\n",
    "\n",
    "predictions.show()\n",
    "\n",
    "evaluator = MulticlassClassificationEvaluator(\n",
    "    labelCol=\"categorie\", predictionCol=\"prediction\", metricName=\"accuracy\"\n",
    ")\n",
    "\n",
    "accuracy = evaluator.evaluate(predictions)\n",
    "print(f\"Précision du modèle sur l'ensemble de test = {accuracy * 100:.2f}%\")"
   ]
  },
  {
   "cell_type": "markdown",
   "id": "7039a095-444a-4a04-b318-baa0bcf6a204",
   "metadata": {},
   "source": [
    "F1-Score"
   ]
  },
  {
   "cell_type": "code",
   "execution_count": 26,
   "id": "f824766c-e114-41b5-8baf-6e7a35177f16",
   "metadata": {},
   "outputs": [
    {
     "name": "stderr",
     "output_type": "stream",
     "text": [
      "[Stage 71:=============================================>          (13 + 3) / 16]\r"
     ]
    },
    {
     "name": "stdout",
     "output_type": "stream",
     "text": [
      "F1-score global : 100.00%\n"
     ]
    },
    {
     "name": "stderr",
     "output_type": "stream",
     "text": [
      "                                                                                \r"
     ]
    }
   ],
   "source": [
    "f1_evaluator = MulticlassClassificationEvaluator(\n",
    "    labelCol=\"categorie\", predictionCol=\"prediction\", metricName=\"f1\"\n",
    ")\n",
    "f1_score = f1_evaluator.evaluate(predictions)\n",
    "print(f\"F1-score global : {f1_score * 100:.2f}%\")"
   ]
  },
  {
   "cell_type": "markdown",
   "id": "7d9abb50-6b8b-4631-bde5-12f39188c38d",
   "metadata": {},
   "source": [
    "Matrice de confusion"
   ]
  },
  {
   "cell_type": "code",
   "execution_count": 27,
   "id": "f1d0082f-ca77-403a-b4c9-4bc9bf6e9574",
   "metadata": {},
   "outputs": [
    {
     "name": "stderr",
     "output_type": "stream",
     "text": [
      "[Stage 73:===>                                                    (1 + 15) / 16]\r"
     ]
    },
    {
     "name": "stdout",
     "output_type": "stream",
     "text": [
      "+---------+-------------------+-----+\n",
      "|categorie| predictedCategorie|count|\n",
      "+---------+-------------------+-----+\n",
      "|      2.0|citadine economique| 5318|\n",
      "|      3.0|              autre| 1159|\n",
      "|      0.0|      suv/crossover| 7198|\n",
      "|      1.0|          familiale| 5945|\n",
      "+---------+-------------------+-----+\n",
      "\n"
     ]
    },
    {
     "name": "stderr",
     "output_type": "stream",
     "text": [
      "                                                                                \r"
     ]
    }
   ],
   "source": [
    "labelConverter = IndexToString(inputCol=\"prediction\", outputCol=\"predictedCategorie\", labels=indexer_model.labels)\n",
    "predictions = labelConverter.transform(predictions)\n",
    "\n",
    "# Regroupement\n",
    "predictions.groupBy(\"categorie\", \"predictedCategorie\").count().show()"
   ]
  },
  {
   "cell_type": "markdown",
   "id": "2d246069-4caa-41e4-b4b8-805fe3a61930",
   "metadata": {},
   "source": [
    "Validation croisée"
   ]
  },
  {
   "cell_type": "code",
   "execution_count": 28,
   "id": "63e855ba-5260-4401-a25a-786d635748cd",
   "metadata": {},
   "outputs": [],
   "source": [
    "# paramGrid = (ParamGridBuilder()\n",
    "#     .addGrid(rf.numTrees, [10, 20])\n",
    "#     .addGrid(rf.maxDepth, [5, 10])\n",
    "#     .build())\n",
    "\n",
    "# crossval = CrossValidator(\n",
    "#     estimator=rf,\n",
    "#     estimatorParamMaps=paramGrid,\n",
    "#     evaluator=evaluator,\n",
    "#     numFolds=3\n",
    "# )\n",
    "\n",
    "# cvModel = crossval.fit(trainingData)\n",
    "# cv_accuracy = evaluator.evaluate(cvModel.transform(testData))\n",
    "# print(f\"Précision moyenne après validation croisée : {cv_accuracy * 100:.2f}%\")"
   ]
  },
  {
   "cell_type": "markdown",
   "id": "23b5c760-0c40-4e45-8d5e-eb769874250e",
   "metadata": {},
   "source": [
    "Vérification des corrélations entre caractéristiques et catégorie"
   ]
  },
  {
   "cell_type": "code",
   "execution_count": 29,
   "id": "0fcdede2-3a67-4905-8c38-0597b7ae3c8f",
   "metadata": {},
   "outputs": [
    {
     "name": "stdout",
     "output_type": "stream",
     "text": [
      "Importances des caractéristiques :\n",
      "scaled_numerical_features: 0.0000\n",
      "marque: 0.0123\n",
      "sexe: 0.0322\n",
      "couleur: 0.1862\n",
      "situationfamiliale: 0.0091\n"
     ]
    },
    {
     "data": {
      "image/png": "[encoded data removed]",
      "text/plain": [
       "<Figure size 720x432 with 1 Axes>"
      ]
     },
     "metadata": {
      "needs_background": "light"
     },
     "output_type": "display_data"
    }
   ],
   "source": [
    "# Supposons que 'model' soit votre modèle entraîné\n",
    "importances = model.featureImportances\n",
    "\n",
    "# Noms des caractéristiques\n",
    "feature_names = ['scaled_numerical_features', 'marque', 'sexe', 'couleur', 'situationfamiliale']\n",
    "\n",
    "# Afficher les importances des caractéristiques\n",
    "print(\"Importances des caractéristiques :\")\n",
    "for i, col in enumerate(feature_names):\n",
    "    print(f\"{col}: {importances[i]:.4f}\")\n",
    "\n",
    "# Créer une liste de tuples (nom de la caractéristique, importance)\n",
    "feature_importances = [(feature_names[i], importances[i]) for i in range(len(feature_names))]\n",
    "\n",
    "# Créer un DataFrame pandas\n",
    "df_importances = pd.DataFrame(feature_importances, columns=['Caractéristique', 'Importance'])\n",
    "\n",
    "# Initialiser la figure\n",
    "plt.figure(figsize=(10, 6))\n",
    "\n",
    "# Créer le diagramme en barres\n",
    "sns.barplot(x='Importance', y='Caractéristique', data=df_importances, palette='viridis')\n",
    "\n",
    "# Ajouter le titre et les labels\n",
    "plt.title(\"Importances des caractéristiques\")\n",
    "plt.xlabel(\"Importance\")\n",
    "plt.ylabel(\"Caractéristique\")\n",
    "\n",
    "# Afficher le graphique\n",
    "plt.show()"
   ]
  },
  {
   "cell_type": "code",
   "execution_count": 30,
   "id": "a3ca6e00-1a2c-43f5-9a2e-131270703e53",
   "metadata": {},
   "outputs": [
    {
     "name": "stdout",
     "output_type": "stream",
     "text": [
      "Corrélations entre les colonnes numériques et la catégorie :\n",
      "age: -0.013791333882514332\n",
      "taux: -0.2518908324714456\n",
      "nbenfantacharge: -0.376471989894366\n",
      "puissance: -0.6646592503895292\n",
      "nbportes: -0.2789698033994513\n",
      "prix: -0.687898440747515\n",
      "categorie: 1.0\n",
      "couleur_indexed: 0.006054287871478583\n",
      "longueur: 0.10403423973594472\n"
     ]
    },
    {
     "data": {
      "image/png": "[encoded data removed]",
      "text/plain": [
       "<Figure size 720x576 with 2 Axes>"
      ]
     },
     "metadata": {
      "needs_background": "light"
     },
     "output_type": "display_data"
    }
   ],
   "source": [
    "if isinstance(clients_immatriculations.schema[\"couleur\"].dataType, VectorUDT):\n",
    "    # Extraire la première composante si 'couleur' est un vecteur\n",
    "    clients_immatriculations = clients_immatriculations.withColumn(\n",
    "        \"couleur_first_component\", col(\"couleur\").getItem(0)\n",
    "    )\n",
    "    couleur_col = \"couleur_first_component\"\n",
    "else:\n",
    "    # Utiliser StringIndexer si 'couleur' est une chaîne\n",
    "    indexer = StringIndexer(inputCol=\"couleur\", outputCol=\"couleur_indexed\")\n",
    "    clients_immatriculations = indexer.fit(clients_immatriculations).transform(clients_immatriculations)\n",
    "    couleur_col = \"couleur_indexed\"\n",
    "\n",
    "# Construire la liste des colonnes numériques\n",
    "numerical_cols = [\n",
    "    'age', 'taux', 'nbenfantacharge', 'puissance', 'nbportes', 'prix', 'categorie', couleur_col, 'longueur'\n",
    "]\n",
    "\n",
    "# Calcul des corrélations\n",
    "print(\"Corrélations entre les colonnes numériques et la catégorie :\")\n",
    "for col_name in numerical_cols:\n",
    "    correlation = clients_immatriculations.select(corr(col_name, \"categorie\")).first()[0]\n",
    "    print(f\"{col_name}: {correlation}\")\n",
    "\n",
    "# Conversion en pandas pour la heatmap\n",
    "df_pandas = clients_immatriculations.select(numerical_cols).toPandas()\n",
    "\n",
    "# Calcul de la matrice de corrélation\n",
    "corr_matrix = df_pandas.corr()\n",
    "\n",
    "# Tracé de la heatmap\n",
    "plt.figure(figsize=(10, 8))\n",
    "sns.heatmap(corr_matrix, annot=True, cmap='coolwarm', center=0)\n",
    "plt.title('Matrice de corrélation')\n",
    "plt.show()"
   ]
  },
  {
   "cell_type": "code",
   "execution_count": 31,
   "id": "b8803276-7c5a-408c-a9ed-f9456889aaea",
   "metadata": {},
   "outputs": [
    {
     "name": "stdout",
     "output_type": "stream",
     "text": [
      "+-----------------------------------------------------------------------------------------------------------------------------------------------------------------+\n",
      "|scaled_numerical_features                                                                                                                                        |\n",
      "+-----------------------------------------------------------------------------------------------------------------------------------------------------------------+\n",
      "|[0.9449358768505604,-1.2473309080800787,-0.8939641042038633,-0.9733097757728637,0.26511664129805995,-1.0365279023544591,1.052242507962002,-0.1650373243627372]   |\n",
      "|[0.34259417467597864,-0.4362663496169611,1.267359700810678,0.3413374478114725,0.26511664129805995,0.5279562371950479,-1.0934768966408357,-1.1453005079022611]    |\n",
      "|[0.5616275209212811,-0.6062320842948938,-0.8939641042038633,-1.0463457326386603,-3.7718867602860886,-0.9116337444844288,1.052242507962002,-0.1650373243627372]   |\n",
      "|[1.6567942521477932,-0.22455464501813255,1.9878009691488585,0.7868567846928309,0.26511664129805995,1.3726453859048164,-1.0934768966408357,-1.1453005079022611]   |\n",
      "|[-0.4787808737439055,-1.1876938081930848,-0.8939641042038633,-0.35250414241359385,0.26511664129805995,-0.7626556352992744,-0.0206171943394169,1.7954890427163108]|\n",
      "+-----------------------------------------------------------------------------------------------------------------------------------------------------------------+\n",
      "only showing top 5 rows\n",
      "\n"
     ]
    }
   ],
   "source": [
    "df_final.select(\"scaled_numerical_features\").show(5, truncate=False)"
   ]
  },
  {
   "cell_type": "code",
   "execution_count": 32,
   "id": "6001abba-bb71-4957-9dc2-f9cf1a60b64e",
   "metadata": {},
   "outputs": [
    {
     "name": "stdout",
     "output_type": "stream",
     "text": [
      "+---------+-----+\n",
      "|categorie|count|\n",
      "+---------+-----+\n",
      "|      0.0|36488|\n",
      "|      1.0|30401|\n",
      "|      3.0| 5794|\n",
      "|      2.0|26812|\n",
      "+---------+-----+\n",
      "\n",
      "Taille du jeu de données : 99495\n"
     ]
    },
    {
     "name": "stderr",
     "output_type": "stream",
     "text": [
      "                                                                                \r"
     ]
    },
    {
     "name": "stdout",
     "output_type": "stream",
     "text": [
      "Taille de l'ensemble d'entraînement : 79875\n",
      "Taille de l'ensemble de test : 19620\n"
     ]
    },
    {
     "name": "stderr",
     "output_type": "stream",
     "text": [
      "                                                                                \r"
     ]
    }
   ],
   "source": [
    "clients_immatriculations.groupBy('categorie').count().show()\n",
    "\n",
    "# Taille du jeu de données total\n",
    "print(f\"Taille du jeu de données : {df_final.count()}\")\n",
    "\n",
    "# Taille des ensembles d'entraînement et de test\n",
    "print(f\"Taille de l'ensemble d'entraînement : {trainingData.count()}\")\n",
    "print(f\"Taille de l'ensemble de test : {testData.count()}\")"
   ]
  }
 ],
 "metadata": {
  "kernelspec": {
   "display_name": "Python 3 (ipykernel)",
   "language": "python",
   "name": "python3"
  },
  "language_info": {
   "codemirror_mode": {
    "name": "ipython",
    "version": 3
   },
   "file_extension": ".py",
   "mimetype": "text/x-python",
   "name": "python",
   "nbconvert_exporter": "python",
   "pygments_lexer": "ipython3",
   "version": "3.9.7"
  }
 },
 "nbformat": 4,
 "nbformat_minor": 5
}
