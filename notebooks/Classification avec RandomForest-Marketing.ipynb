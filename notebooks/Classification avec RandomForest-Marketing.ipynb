{
 "cells": [
  {
   "cell_type": "code",
   "execution_count": 1,
   "id": "initial_id",
   "metadata": {},
   "outputs": [],
   "source": [
    "from pyspark.sql import SparkSession\n",
    "from pyspark.sql.functions import col, when, count\n",
    "from pyspark.ml.feature import StringIndexer, OneHotEncoder, VectorAssembler, IndexToString\n",
    "from pyspark.ml.evaluation import MulticlassClassificationEvaluator\n",
    "from pyspark.ml.classification import RandomForestClassifier\n",
    "from pyspark.sql.types import DoubleType"
   ]
  },
  {
   "cell_type": "code",
   "execution_count": 2,
   "id": "ab0bc1ae-9658-433b-8e95-570503bfe684",
   "metadata": {},
   "outputs": [
    {
     "name": "stderr",
     "output_type": "stream",
     "text": [
      "WARNING: An illegal reflective access operation has occurred\n",
      "WARNING: Illegal reflective access by org.apache.spark.unsafe.Platform (file:/usr/local/spark-3.2.0-bin-hadoop3.2/jars/spark-unsafe_2.12-3.2.0.jar) to constructor java.nio.DirectByteBuffer(long,int)\n",
      "WARNING: Please consider reporting this to the maintainers of org.apache.spark.unsafe.Platform\n",
      "WARNING: Use --illegal-access=warn to enable warnings of further illegal reflective access operations\n",
      "WARNING: All illegal access operations will be denied in a future release\n",
      "Using Spark's default log4j profile: org/apache/spark/log4j-defaults.properties\n",
      "Setting default log level to \"WARN\".\n",
      "To adjust logging level use sc.setLogLevel(newLevel). For SparkR, use setLogLevel(newLevel).\n",
      "24/11/19 14:22:41 WARN NativeCodeLoader: Unable to load native-hadoop library for your platform... using builtin-java classes where applicable\n"
     ]
    },
    {
     "data": {
      "text/plain": [
       "DataFrame[]"
      ]
     },
     "execution_count": 2,
     "metadata": {},
     "output_type": "execute_result"
    }
   ],
   "source": [
    "spark = SparkSession.builder\\\n",
    "    .appName(\"Classification RandomForest\")\\\n",
    "    .enableHiveSupport()\\\n",
    "    .getOrCreate()\n",
    "\n",
    "spark.sparkContext.setLogLevel(\"OFF\")\n",
    "spark.catalog.clearCache()\n",
    "spark.sql(\"USE concessionnaire\")"
   ]
  },
  {
   "cell_type": "code",
   "execution_count": 3,
   "id": "60f4b1ed-bdc8-4e9c-8f95-40586dd17b84",
   "metadata": {},
   "outputs": [
    {
     "name": "stdout",
     "output_type": "stream",
     "text": [
      "root\n",
      " |-- immatriculation: string (nullable = true)\n",
      " |-- age: double (nullable = true)\n",
      " |-- sexe: string (nullable = true)\n",
      " |-- taux: double (nullable = true)\n",
      " |-- situationfamiliale: string (nullable = true)\n",
      " |-- nbenfantacharge: integer (nullable = true)\n",
      " |-- deuxiemevoiture: boolean (nullable = true)\n",
      " |-- taux_eligible: boolean (nullable = true)\n",
      " |-- marque: string (nullable = true)\n",
      " |-- modele: string (nullable = true)\n",
      " |-- puissance: integer (nullable = true)\n",
      " |-- longueur: string (nullable = true)\n",
      " |-- nbplaces: integer (nullable = true)\n",
      " |-- nbportes: integer (nullable = true)\n",
      " |-- couleur: string (nullable = true)\n",
      " |-- occasion: boolean (nullable = true)\n",
      " |-- prix: integer (nullable = true)\n",
      " |-- categorie: string (nullable = true)\n",
      "\n"
     ]
    }
   ],
   "source": [
    "clients_immatriculations = spark.sql(\"SELECT * FROM clients_immatriculations\")\n",
    "clients_immatriculations.printSchema()"
   ]
  },
  {
   "cell_type": "markdown",
   "id": "9407675b-70b3-4f9c-9697-5692f69d1408",
   "metadata": {},
   "source": [
    "### Verification des doublons"
   ]
  },
  {
   "cell_type": "code",
   "execution_count": 4,
   "id": "8c56f420-ef98-4a2c-acce-87665cc20510",
   "metadata": {},
   "outputs": [
    {
     "name": "stderr",
     "output_type": "stream",
     "text": [
      "                                                                                \r"
     ]
    },
    {
     "name": "stdout",
     "output_type": "stream",
     "text": [
      "+---------------+---+----+----+------------------+---------------+---------------+-------------+------+------+---------+--------+--------+--------+-------+--------+----+---------+-----+\n",
      "|immatriculation|age|sexe|taux|situationfamiliale|nbenfantacharge|deuxiemevoiture|taux_eligible|marque|modele|puissance|longueur|nbplaces|nbportes|couleur|occasion|prix|categorie|count|\n",
      "+---------------+---+----+----+------------------+---------------+---------------+-------------+------+------+---------+--------+--------+--------+-------+--------+----+---------+-----+\n",
      "+---------------+---+----+----+------------------+---------------+---------------+-------------+------+------+---------+--------+--------+--------+-------+--------+----+---------+-----+\n",
      "\n"
     ]
    }
   ],
   "source": [
    "doublons = clients_immatriculations.groupBy(*clients_immatriculations.columns).agg(count(\"*\").alias(\"count\")).filter(\"count > 1\")\n",
    "doublons.show(truncate=False)"
   ]
  },
  {
   "cell_type": "markdown",
   "id": "38ba59e5-8312-46f6-ad8c-7dcaeaaff557",
   "metadata": {},
   "source": [
    "### Analyse des **null**"
   ]
  },
  {
   "cell_type": "code",
   "execution_count": 5,
   "id": "3e63acba-9679-4d7f-8b39-77945e1d9951",
   "metadata": {},
   "outputs": [
    {
     "name": "stderr",
     "output_type": "stream",
     "text": [
      "[Stage 7:===>                                                     (1 + 15) / 16]\r"
     ]
    },
    {
     "name": "stdout",
     "output_type": "stream",
     "text": [
      "+---------------+-----+\n",
      "|nbenfantacharge|count|\n",
      "+---------------+-----+\n",
      "|              1|16425|\n",
      "|              3|11451|\n",
      "|              4| 9960|\n",
      "|              2|16592|\n",
      "|              0|44973|\n",
      "+---------------+-----+\n",
      "\n"
     ]
    },
    {
     "name": "stderr",
     "output_type": "stream",
     "text": [
      "                                                                                \r"
     ]
    }
   ],
   "source": [
    "doublons = clients_immatriculations.groupBy('nbenfantacharge').count().show()"
   ]
  },
  {
   "cell_type": "markdown",
   "id": "4b2dbdd6-31ac-4a42-a66e-3cc563d97178",
   "metadata": {},
   "source": [
    "### Supprimer les colones innutiles"
   ]
  },
  {
   "cell_type": "code",
   "execution_count": 6,
   "id": "2c1b5453-dd53-4be0-be94-d9cca673f60c",
   "metadata": {},
   "outputs": [],
   "source": [
    "clients_immatriculations = clients_immatriculations.drop('immatriculation')\n",
    "clients_immatriculations = clients_immatriculations.drop('couleur')\n",
    "clients_immatriculations = clients_immatriculations.drop('marque')"
   ]
  },
  {
   "cell_type": "markdown",
   "id": "3c8b60cd-5374-46a8-9c79-d076d6116249",
   "metadata": {},
   "source": [
    "### OneHotEncoder"
   ]
  },
  {
   "cell_type": "code",
   "execution_count": 7,
   "id": "d2511917-dd2e-4baf-98a0-1274f9cb99af",
   "metadata": {},
   "outputs": [],
   "source": [
    "# indexer_marque = StringIndexer(inputCol=\"marque\", outputCol=\"marque_index\")\n",
    "# indexer_marque = indexer_marque.fit(clients_immatriculations)\n",
    "# clients_immatriculations = indexer_marque.transform(clients_immatriculations)\n",
    "\n",
    "# encoder_marque = OneHotEncoder(inputCol=\"marque_index\", outputCol=\"marque_encoded\")\n",
    "# clients_immatriculations = encoder_marque.fit(clients_immatriculations).transform(clients_immatriculations)"
   ]
  },
  {
   "cell_type": "code",
   "execution_count": 8,
   "id": "d3ddd877-5a4d-46f1-b09d-8817ae8c105f",
   "metadata": {},
   "outputs": [
    {
     "name": "stderr",
     "output_type": "stream",
     "text": [
      "                                                                                \r"
     ]
    }
   ],
   "source": [
    "indexer_sexe = StringIndexer(inputCol=\"sexe\", outputCol=\"sexe_index\").fit(clients_immatriculations)\n",
    "clients_immatriculations = indexer_sexe.transform(clients_immatriculations)\n",
    "\n",
    "encoder_sexe = OneHotEncoder(inputCol=\"sexe_index\", outputCol=\"sexe_encoded\").fit(clients_immatriculations)\n",
    "clients_immatriculations = encoder_sexe.transform(clients_immatriculations)"
   ]
  },
  {
   "cell_type": "code",
   "execution_count": 9,
   "id": "b09d7ca6-0af0-4d2c-9dc3-bc6bb6797749",
   "metadata": {},
   "outputs": [
    {
     "name": "stderr",
     "output_type": "stream",
     "text": [
      "                                                                                \r"
     ]
    }
   ],
   "source": [
    "indexer_situationfamiliale = StringIndexer(inputCol=\"situationfamiliale\", outputCol=\"situationfamiliale_index\").fit(clients_immatriculations)\n",
    "clients_immatriculations = indexer_situationfamiliale.transform(clients_immatriculations)\n",
    "\n",
    "encoder_situationfamiliale = OneHotEncoder(inputCol=\"situationfamiliale_index\", outputCol=\"situationfamiliale_encoded\").fit(clients_immatriculations)\n",
    "clients_immatriculations = encoder_situationfamiliale.transform(clients_immatriculations)"
   ]
  },
  {
   "cell_type": "code",
   "execution_count": 10,
   "id": "2b2f949a-769a-4f30-b54e-e7c83769d91e",
   "metadata": {},
   "outputs": [],
   "source": [
    "# clients_immatriculations = clients_immatriculations.drop('marque') \n",
    "# clients_immatriculations = clients_immatriculations.drop('marque_index')\n",
    "clients_immatriculations = clients_immatriculations.drop('puissance')\n",
    "clients_immatriculations = clients_immatriculations.drop('nbportes')\n",
    "clients_immatriculations = clients_immatriculations.drop('occasion')\n",
    "clients_immatriculations = clients_immatriculations.drop('prix')\n",
    "clients_immatriculations = clients_immatriculations.drop('nbplaces') \n",
    "clients_immatriculations = clients_immatriculations.drop('modele') \n",
    "clients_immatriculations = clients_immatriculations.drop('longueur')"
   ]
  },
  {
   "cell_type": "markdown",
   "id": "8b60109f-41b4-47be-8a43-5fd09cc9a4cc",
   "metadata": {},
   "source": [
    "## Changer des Boolean en Int"
   ]
  },
  {
   "cell_type": "code",
   "execution_count": 11,
   "id": "ae7c2346-4801-4f04-8687-4c9840fc92f5",
   "metadata": {},
   "outputs": [
    {
     "name": "stdout",
     "output_type": "stream",
     "text": [
      "+----+----+-----+------------------+---------------+---------------+-------------+-------------------+----------+-------------+------------------------+--------------------------+\n",
      "| age|sexe| taux|situationfamiliale|nbenfantacharge|deuxiemevoiture|taux_eligible|          categorie|sexe_index| sexe_encoded|situationfamiliale_index|situationfamiliale_encoded|\n",
      "+----+----+-----+------------------+---------------+---------------+-------------+-------------------+----------+-------------+------------------------+--------------------------+\n",
      "|61.0|   M|188.0|       celibataire|              0|              0|            0|citadine economique|       0.0|(1,[0],[1.0])|                     1.0|             (3,[1],[1.0])|\n",
      "|50.0|   F|460.0|         en couple|              3|              0|            0|      suv/crossover|       1.0|    (1,[],[])|                     0.0|             (3,[0],[1.0])|\n",
      "|54.0|   M|403.0|       celibataire|              0|              0|            0|citadine economique|       0.0|(1,[0],[1.0])|                     1.0|             (3,[1],[1.0])|\n",
      "|74.0|   M|531.0|         en couple|              4|              1|            0|      suv/crossover|       0.0|(1,[0],[1.0])|                     0.0|             (3,[0],[1.0])|\n",
      "+----+----+-----+------------------+---------------+---------------+-------------+-------------------+----------+-------------+------------------------+--------------------------+\n",
      "only showing top 4 rows\n",
      "\n"
     ]
    }
   ],
   "source": [
    "clients_immatriculations = clients_immatriculations.withColumn(\n",
    "    \"deuxiemevoiture\",\n",
    "    when(col(\"deuxiemevoiture\") == False, 0)\n",
    "    .when(col(\"deuxiemevoiture\") == True, 1)\n",
    "    .otherwise(col(\"deuxiemevoiture\").cast(\"int\"))\n",
    ")\n",
    "\n",
    "clients_immatriculations = clients_immatriculations.withColumn(\n",
    "    \"taux_eligible\",\n",
    "    when(col(\"taux_eligible\") == False, 0)\n",
    "    .when(col(\"taux_eligible\") == True, 1)\n",
    "    .otherwise(col(\"taux_eligible\").cast(\"int\"))\n",
    ")\n",
    "\n",
    "clients_immatriculations.show(4)"
   ]
  },
  {
   "cell_type": "markdown",
   "id": "cb6255f3-c5ba-40fe-80f6-e102ecca58ab",
   "metadata": {},
   "source": [
    "## Normalisation"
   ]
  },
  {
   "cell_type": "code",
   "execution_count": 12,
   "id": "56277c64-b994-4af0-b78f-6f35824725ef",
   "metadata": {},
   "outputs": [
    {
     "name": "stderr",
     "output_type": "stream",
     "text": [
      "[Stage 17:==========>                                             (3 + 13) / 16]\r"
     ]
    },
    {
     "name": "stdout",
     "output_type": "stream",
     "text": [
      "+-------------------+-----+\n",
      "|          categorie|count|\n",
      "+-------------------+-----+\n",
      "|              autre| 5795|\n",
      "|          familiale|30361|\n",
      "|citadine economique|26778|\n",
      "|      suv/crossover|36467|\n",
      "+-------------------+-----+\n",
      "\n"
     ]
    },
    {
     "name": "stderr",
     "output_type": "stream",
     "text": [
      "                                                                                \r"
     ]
    }
   ],
   "source": [
    "clients_immatriculations.groupBy(\"categorie\").count().show()"
   ]
  },
  {
   "cell_type": "code",
   "execution_count": 13,
   "id": "d32c8ff4-6042-4155-a441-88c7b7c99e82",
   "metadata": {},
   "outputs": [
    {
     "name": "stdout",
     "output_type": "stream",
     "text": [
      "root\n",
      " |-- age: double (nullable = true)\n",
      " |-- sexe: string (nullable = true)\n",
      " |-- taux: double (nullable = true)\n",
      " |-- situationfamiliale: string (nullable = true)\n",
      " |-- nbenfantacharge: integer (nullable = true)\n",
      " |-- deuxiemevoiture: integer (nullable = true)\n",
      " |-- taux_eligible: integer (nullable = true)\n",
      " |-- categorie: string (nullable = true)\n",
      " |-- sexe_index: double (nullable = false)\n",
      " |-- sexe_encoded: vector (nullable = true)\n",
      " |-- situationfamiliale_index: double (nullable = false)\n",
      " |-- situationfamiliale_encoded: vector (nullable = true)\n",
      "\n",
      "+----+----+------+------------------+---------------+---------------+-------------+-------------------+----------+-------------+------------------------+--------------------------+\n",
      "| age|sexe|  taux|situationfamiliale|nbenfantacharge|deuxiemevoiture|taux_eligible|          categorie|sexe_index| sexe_encoded|situationfamiliale_index|situationfamiliale_encoded|\n",
      "+----+----+------+------------------+---------------+---------------+-------------+-------------------+----------+-------------+------------------------+--------------------------+\n",
      "|61.0|   M| 188.0|       celibataire|              0|              0|            0|citadine economique|       0.0|(1,[0],[1.0])|                     1.0|             (3,[1],[1.0])|\n",
      "|50.0|   F| 460.0|         en couple|              3|              0|            0|      suv/crossover|       1.0|    (1,[],[])|                     0.0|             (3,[0],[1.0])|\n",
      "|54.0|   M| 403.0|       celibataire|              0|              0|            0|citadine economique|       0.0|(1,[0],[1.0])|                     1.0|             (3,[1],[1.0])|\n",
      "|74.0|   M| 531.0|         en couple|              4|              1|            0|      suv/crossover|       0.0|(1,[0],[1.0])|                     0.0|             (3,[0],[1.0])|\n",
      "|35.0|   M| 208.0|       celibataire|              0|              0|            0|          familiale|       0.0|(1,[0],[1.0])|                     1.0|             (3,[1],[1.0])|\n",
      "|66.0|   M| 960.0|         en couple|              1|              0|            1|      suv/crossover|       0.0|(1,[0],[1.0])|                     0.0|             (3,[0],[1.0])|\n",
      "|65.0|   F| 199.0|         en couple|              0|              0|            0|          familiale|       1.0|    (1,[],[])|                     0.0|             (3,[0],[1.0])|\n",
      "|67.0|   M|1072.0|         en couple|              0|              0|            1|      suv/crossover|       0.0|(1,[0],[1.0])|                     0.0|             (3,[0],[1.0])|\n",
      "|34.0|   M| 411.0|         en couple|              4|              0|            0|      suv/crossover|       0.0|(1,[0],[1.0])|                     0.0|             (3,[0],[1.0])|\n",
      "|51.0|   M|1281.0|         en couple|              2|              0|            1|      suv/crossover|       0.0|(1,[0],[1.0])|                     0.0|             (3,[0],[1.0])|\n",
      "|81.0|   M|1091.0|         en couple|              1|              0|            1|      suv/crossover|       0.0|(1,[0],[1.0])|                     0.0|             (3,[0],[1.0])|\n",
      "|28.0|   M| 583.0|       celibataire|              0|              0|            1|          familiale|       0.0|(1,[0],[1.0])|                     1.0|             (3,[1],[1.0])|\n",
      "|22.0|   F|1125.0|       celibataire|              3|              0|            1|      suv/crossover|       1.0|    (1,[],[])|                     1.0|             (3,[1],[1.0])|\n",
      "|48.0|   M| 991.0|         en couple|              4|              0|            1|      suv/crossover|       0.0|(1,[0],[1.0])|                     0.0|             (3,[0],[1.0])|\n",
      "|32.0|   F| 156.0|         en couple|              2|              0|            0|      suv/crossover|       1.0|    (1,[],[])|                     0.0|             (3,[0],[1.0])|\n",
      "|41.0|   M| 429.0|         en couple|              1|              0|            0|          familiale|       0.0|(1,[0],[1.0])|                     0.0|             (3,[0],[1.0])|\n",
      "|20.0|   M|1120.0|       celibataire|              3|              0|            1|      suv/crossover|       0.0|(1,[0],[1.0])|                     1.0|             (3,[1],[1.0])|\n",
      "|52.0|   F| 847.0|       celibataire|              0|              0|            1|citadine economique|       1.0|    (1,[],[])|                     1.0|             (3,[1],[1.0])|\n",
      "|66.0|   M| 236.0|         en couple|              4|              0|            0|              autre|       0.0|(1,[0],[1.0])|                     0.0|             (3,[0],[1.0])|\n",
      "|23.0|   M| 493.0|       celibataire|              0|              0|            0|          familiale|       0.0|(1,[0],[1.0])|                     1.0|             (3,[1],[1.0])|\n",
      "+----+----+------+------------------+---------------+---------------+-------------+-------------------+----------+-------------+------------------------+--------------------------+\n",
      "only showing top 20 rows\n",
      "\n"
     ]
    }
   ],
   "source": [
    "clients_immatriculations.printSchema()\n",
    "clients_immatriculations.show()"
   ]
  },
  {
   "cell_type": "markdown",
   "id": "85b53327-4841-467d-95f9-ace9e02d2258",
   "metadata": {
    "tags": []
   },
   "source": [
    "## Classificateur"
   ]
  },
  {
   "cell_type": "code",
   "execution_count": 14,
   "id": "2852a30d-3822-463d-bb84-5402c33e5afc",
   "metadata": {},
   "outputs": [
    {
     "name": "stderr",
     "output_type": "stream",
     "text": [
      "                                                                                \r"
     ]
    }
   ],
   "source": [
    "# Apprentissage des labels\n",
    "indexer_model = StringIndexer(inputCol=\"categorie\", outputCol=\"label\").fit(clients_immatriculations)\n",
    "\n",
    "data = indexer_model.transform(clients_immatriculations)\n",
    "\n",
    "feature_cols = [col for col in data.columns if col not in [\"categorie\", \"label\", 'sexe', 'situationfamiliale']]\n",
    "assembler = VectorAssembler(inputCols=feature_cols, outputCol=\"features\")\n",
    "data = assembler.transform(data).select(\"features\", \"label\")"
   ]
  },
  {
   "cell_type": "code",
   "execution_count": 15,
   "id": "170e7b65-e632-4b4c-9854-98e3006de093",
   "metadata": {},
   "outputs": [
    {
     "name": "stderr",
     "output_type": "stream",
     "text": [
      "                                                                                \r"
     ]
    },
    {
     "name": "stdout",
     "output_type": "stream",
     "text": [
      "Taille de l'ensemble d'entraînement : 60060\n"
     ]
    },
    {
     "name": "stderr",
     "output_type": "stream",
     "text": [
      "                                                                                \r"
     ]
    },
    {
     "name": "stdout",
     "output_type": "stream",
     "text": [
      "Taille de l'ensemble de validation : 19739\n"
     ]
    },
    {
     "name": "stderr",
     "output_type": "stream",
     "text": [
      "                                                                                \r"
     ]
    },
    {
     "name": "stdout",
     "output_type": "stream",
     "text": [
      "Taille de l'ensemble de test : 19602\n"
     ]
    },
    {
     "name": "stderr",
     "output_type": "stream",
     "text": [
      "                                                                                \r"
     ]
    }
   ],
   "source": [
    "# Diviser les données en 60% entraînement, 20% validation et 20% test\n",
    "(trainingData, validationData, testData) = data.randomSplit([0.6, 0.2, 0.2], seed=42)\n",
    "\n",
    "print(f\"Taille de l'ensemble d'entraînement : {trainingData.count()}\")\n",
    "print(f\"Taille de l'ensemble de validation : {validationData.count()}\")\n",
    "print(f\"Taille de l'ensemble de test : {testData.count()}\")\n",
    "\n",
    "# Définir le modèle de régression linéaire\n",
    "rf = RandomForestClassifier(labelCol=\"label\", featuresCol=\"features\", numTrees=50, maxDepth=20)\n",
    "rf_model = rf.fit(trainingData)"
   ]
  },
  {
   "cell_type": "code",
   "execution_count": 16,
   "id": "be282b75-af7f-49e5-8033-291d3be5cbe0",
   "metadata": {},
   "outputs": [
    {
     "name": "stderr",
     "output_type": "stream",
     "text": [
      "                                                                                \r"
     ]
    },
    {
     "name": "stdout",
     "output_type": "stream",
     "text": [
      "F1-score Train : 77.87%\n"
     ]
    },
    {
     "name": "stderr",
     "output_type": "stream",
     "text": [
      "[Stage 79:==========>                                             (3 + 13) / 16]\r"
     ]
    },
    {
     "name": "stdout",
     "output_type": "stream",
     "text": [
      "F1-score Test : 77.13%\n"
     ]
    },
    {
     "name": "stderr",
     "output_type": "stream",
     "text": [
      "                                                                                \r"
     ]
    }
   ],
   "source": [
    "trainPrediction =  rf_model.transform(trainingData)\n",
    "\n",
    "evaluator = MulticlassClassificationEvaluator(\n",
    "    labelCol=\"label\", predictionCol=\"prediction\", metricName=\"f1\"\n",
    ")\n",
    "\n",
    "f1_score_train = evaluator.evaluate(trainPrediction)\n",
    "print(f\"F1-score Train : {f1_score_train * 100:.2f}%\")\n",
    "\n",
    "# Faire des prédictions\n",
    "testPredictions = rf_model.transform(testData)\n",
    "f1_score_test = evaluator.evaluate(testPredictions)\n",
    "\n",
    "print(f\"F1-score Test : {f1_score_test * 100:.2f}%\")"
   ]
  },
  {
   "cell_type": "markdown",
   "id": "47f403ff-43a0-4a09-a419-f780cef54661",
   "metadata": {},
   "source": [
    "## Prediction de marketing"
   ]
  },
  {
   "cell_type": "code",
   "execution_count": 17,
   "id": "a060c524-53f1-4815-bd80-cef0546281a3",
   "metadata": {},
   "outputs": [
    {
     "name": "stdout",
     "output_type": "stream",
     "text": [
      "root\n",
      " |-- age: integer (nullable = true)\n",
      " |-- sexe: string (nullable = true)\n",
      " |-- taux: float (nullable = true)\n",
      " |-- situationfamiliale: string (nullable = true)\n",
      " |-- nbenfantacharge: integer (nullable = true)\n",
      " |-- deuxiemevoiture: boolean (nullable = true)\n",
      " |-- taux_eligible: boolean (nullable = true)\n",
      "\n"
     ]
    }
   ],
   "source": [
    "df_marketing = spark.sql(\"SELECT * FROM marketing\")\n",
    "df_marketing.printSchema()"
   ]
  },
  {
   "cell_type": "code",
   "execution_count": 18,
   "id": "ff5079d3-2717-46ce-9510-e5cd73c17f02",
   "metadata": {},
   "outputs": [
    {
     "name": "stdout",
     "output_type": "stream",
     "text": [
      "+---+----+------+------------------+---------------+---------------+-------------+----------+-------------+\n",
      "|age|sexe|  taux|situationfamiliale|nbenfantacharge|deuxiemevoiture|taux_eligible|sexe_index| sexe_encoded|\n",
      "+---+----+------+------------------+---------------+---------------+-------------+----------+-------------+\n",
      "| 21|   F|1396.0|       celibataire|              0|          false|        false|       1.0|    (1,[],[])|\n",
      "| 35|   M| 223.0|       celibataire|              0|          false|         true|       0.0|(1,[0],[1.0])|\n",
      "| 48|   M| 401.0|       celibataire|              0|          false|         true|       0.0|(1,[0],[1.0])|\n",
      "| 26|   F| 420.0|         en couple|              3|           true|         true|       1.0|    (1,[],[])|\n",
      "| 80|   M| 530.0|         en couple|              3|          false|         true|       0.0|(1,[0],[1.0])|\n",
      "| 27|   F| 153.0|         en couple|              2|          false|         true|       1.0|    (1,[],[])|\n",
      "| 59|   F| 572.0|         en couple|              2|          false|        false|       1.0|    (1,[],[])|\n",
      "| 43|   F| 431.0|       celibataire|              0|          false|         true|       1.0|    (1,[],[])|\n",
      "| 64|   M| 559.0|       celibataire|              0|          false|        false|       0.0|(1,[0],[1.0])|\n",
      "| 22|   M| 154.0|         en couple|              1|          false|         true|       0.0|(1,[0],[1.0])|\n",
      "| 79|   F| 981.0|         en couple|              2|          false|        false|       1.0|    (1,[],[])|\n",
      "| 55|   M| 588.0|       celibataire|              0|          false|        false|       0.0|(1,[0],[1.0])|\n",
      "| 19|   F| 212.0|       celibataire|              0|          false|         true|       1.0|    (1,[],[])|\n",
      "| 34|   F|1112.0|         en couple|              0|          false|        false|       1.0|    (1,[],[])|\n",
      "| 60|   M| 524.0|         en couple|              0|           true|         true|       0.0|(1,[0],[1.0])|\n",
      "| 22|   M| 411.0|         en couple|              3|           true|         true|       0.0|(1,[0],[1.0])|\n",
      "| 58|   M|1192.0|         en couple|              0|          false|        false|       0.0|(1,[0],[1.0])|\n",
      "| 54|   F| 452.0|         en couple|              3|           true|         true|       1.0|    (1,[],[])|\n",
      "| 35|   M| 589.0|       celibataire|              0|          false|        false|       0.0|(1,[0],[1.0])|\n",
      "| 59|   M| 748.0|         en couple|              0|           true|        false|       0.0|(1,[0],[1.0])|\n",
      "+---+----+------+------------------+---------------+---------------+-------------+----------+-------------+\n",
      "\n"
     ]
    }
   ],
   "source": [
    "df_marketing = indexer_sexe.transform(df_marketing)\n",
    "df_marketing = encoder_sexe.transform(df_marketing)\n",
    "df_marketing.show()"
   ]
  },
  {
   "cell_type": "code",
   "execution_count": 19,
   "id": "50304373-dd19-4dce-9b92-245e5784b695",
   "metadata": {},
   "outputs": [],
   "source": [
    "df_marketing = indexer_situationfamiliale.transform(df_marketing)\n",
    "df_marketing = encoder_situationfamiliale.transform(df_marketing)"
   ]
  },
  {
   "cell_type": "code",
   "execution_count": 20,
   "id": "f1c180cb-75a6-40f2-9f8f-690e3993cd14",
   "metadata": {},
   "outputs": [],
   "source": [
    "df_marketing = df_marketing.withColumn(\n",
    "    \"deuxiemevoiture\",\n",
    "    when(col(\"deuxiemevoiture\") == False, 0)\n",
    "    .when(col(\"deuxiemevoiture\") == True, 1)\n",
    "    .otherwise(col(\"deuxiemevoiture\").cast(\"int\"))\n",
    ")\n",
    "\n",
    "df_marketing = df_marketing.withColumn(\n",
    "    \"taux_eligible\",\n",
    "    when(col(\"taux_eligible\") == False, 0)\n",
    "    .when(col(\"taux_eligible\") == True, 1)\n",
    "    .otherwise(col(\"taux_eligible\").cast(\"int\"))\n",
    ")"
   ]
  },
  {
   "cell_type": "code",
   "execution_count": 21,
   "id": "15516a64-d2bb-411f-bb93-1d6e7463dfb3",
   "metadata": {},
   "outputs": [
    {
     "name": "stdout",
     "output_type": "stream",
     "text": [
      "['age', 'taux', 'nbenfantacharge', 'deuxiemevoiture', 'taux_eligible', 'sexe_index', 'sexe_encoded', 'situationfamiliale_index', 'situationfamiliale_encoded']\n",
      "['age', 'taux', 'nbenfantacharge', 'deuxiemevoiture', 'taux_eligible', 'sexe_index', 'sexe_encoded', 'situationfamiliale_index', 'situationfamiliale_encoded']\n",
      "+--------------------+--------------------+--------------------+----------+-------------------+\n",
      "|            features|       rawPrediction|         probability|prediction| predicted_category|\n",
      "+--------------------+--------------------+--------------------+----------+-------------------+\n",
      "|(11,[0,1,5,7,9],[...|[0.77476877496734...|[0.01549537549934...|       2.0|citadine economique|\n",
      "|(11,[0,1,4,6,7,9]...|[0.19197318460650...|[0.00383946369213...|       2.0|citadine economique|\n",
      "|(11,[0,1,4,6,7,9]...|[0.23602322875861...|[0.00472046457517...|       2.0|citadine economique|\n",
      "|[26.0,420.0,3.0,1...|[46.5807425071005...|[0.93161485014201...|       0.0|      suv/crossover|\n",
      "|(11,[0,1,2,4,6,8]...|[48.5679740763328...|[0.97135948152665...|       0.0|      suv/crossover|\n",
      "|(11,[0,1,2,4,5,8]...|[11.8307621517011...|[0.23661524303402...|       1.0|          familiale|\n",
      "|(11,[0,1,2,5,8],[...|[16.6539322781351...|[0.33307864556270...|       1.0|          familiale|\n",
      "|(11,[0,1,4,5,7,9]...|[0.44252982464149...|[0.00885059649282...|       2.0|citadine economique|\n",
      "|(11,[0,1,6,7,9],[...|[0.18609846751338...|[0.00372196935026...|       2.0|citadine economique|\n",
      "|(11,[0,1,2,4,6,8]...|[12.8097363747617...|[0.25619472749523...|       1.0|          familiale|\n",
      "|(11,[0,1,2,5,8],[...|[41.3744182327632...|[0.82748836465526...|       0.0|      suv/crossover|\n",
      "|(11,[0,1,6,7,9],[...|[0.16559705426225...|[0.00331194108524...|       2.0|citadine economique|\n",
      "|(11,[0,1,4,5,7,9]...|[0.44404327314557...|[0.00888086546291...|       2.0|citadine economique|\n",
      "|(11,[0,1,5,8],[34...|[40.0699988536080...|[0.80139997707216...|       0.0|      suv/crossover|\n",
      "|(11,[0,1,3,4,6,8]...|[1.02693863000143...|[0.02053877260002...|       2.0|citadine economique|\n",
      "|[22.0,411.0,3.0,1...|[48.3977140814530...|[0.96795428162906...|       0.0|      suv/crossover|\n",
      "|(11,[0,1,6,8],[58...|[39.8079815381616...|[0.79615963076323...|       0.0|      suv/crossover|\n",
      "|[54.0,452.0,3.0,1...|[48.0613181983420...|[0.96122636396684...|       0.0|      suv/crossover|\n",
      "|(11,[0,1,6,7,9],[...|[0.21067664494541...|[0.00421353289890...|       2.0|citadine economique|\n",
      "|(11,[0,1,3,6,8],[...|[3.02530483917367...|[0.06050609678347...|       2.0|citadine economique|\n",
      "+--------------------+--------------------+--------------------+----------+-------------------+\n",
      "\n"
     ]
    }
   ],
   "source": [
    "df_marketing = df_marketing.select(feature_cols)\n",
    "\n",
    "print(feature_cols)\n",
    "print(df_marketing.columns)\n",
    "\n",
    "# Assembler les caractéristiques\n",
    "assembler = VectorAssembler(inputCols=feature_cols, outputCol=\"features\")\n",
    "prediction_data = assembler.transform(df_marketing).select(\"features\")\n",
    "\n",
    "\n",
    "# Effectuer les prédictions\n",
    "marketingPrediction = rf_model.transform(prediction_data)\n",
    "\n",
    "# Mapper les prédictions avec les labels\n",
    "label_to_category = IndexToString(\n",
    "    inputCol=\"prediction\",\n",
    "    outputCol=\"predicted_category\",\n",
    "    labels=indexer_model.labels\n",
    ")\n",
    "result = label_to_category.transform(marketingPrediction)\n",
    "\n",
    "# Afficher les résultats\n",
    "result.show()"
   ]
  },
  {
   "cell_type": "code",
   "execution_count": null,
   "id": "0c2959a5-8766-4fff-ac1d-6f444a0e9c9b",
   "metadata": {},
   "outputs": [],
   "source": []
  }
 ],
 "metadata": {
  "kernelspec": {
   "display_name": "Python 3 (ipykernel)",
   "language": "python",
   "name": "python3"
  },
  "language_info": {
   "codemirror_mode": {
    "name": "ipython",
    "version": 3
   },
   "file_extension": ".py",
   "mimetype": "text/x-python",
   "name": "python",
   "nbconvert_exporter": "python",
   "pygments_lexer": "ipython3",
   "version": "3.9.7"
  }
 },
 "nbformat": 4,
 "nbformat_minor": 5
}
