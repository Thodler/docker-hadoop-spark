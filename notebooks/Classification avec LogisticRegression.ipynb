{
 "cells": [
  {
   "cell_type": "code",
   "execution_count": 1,
   "id": "initial_id",
   "metadata": {},
   "outputs": [],
   "source": [
    "from pyspark.sql import SparkSession\n",
    "from pyspark.sql.functions import col, when, count\n",
    "from pyspark.ml.feature import StringIndexer, OneHotEncoder, VectorAssembler, IndexToString, StandardScaler\n",
    "from pyspark.ml.evaluation import MulticlassClassificationEvaluator\n",
    "from pyspark.ml.classification import LogisticRegression\n",
    "from pyspark.sql.types import DoubleType\n",
    "from itertools import product"
   ]
  },
  {
   "cell_type": "code",
   "execution_count": 2,
   "id": "ab0bc1ae-9658-433b-8e95-570503bfe684",
   "metadata": {},
   "outputs": [
    {
     "name": "stderr",
     "output_type": "stream",
     "text": [
      "WARNING: An illegal reflective access operation has occurred\n",
      "WARNING: Illegal reflective access by org.apache.spark.unsafe.Platform (file:/usr/local/spark-3.2.0-bin-hadoop3.2/jars/spark-unsafe_2.12-3.2.0.jar) to constructor java.nio.DirectByteBuffer(long,int)\n",
      "WARNING: Please consider reporting this to the maintainers of org.apache.spark.unsafe.Platform\n",
      "WARNING: Use --illegal-access=warn to enable warnings of further illegal reflective access operations\n",
      "WARNING: All illegal access operations will be denied in a future release\n",
      "Using Spark's default log4j profile: org/apache/spark/log4j-defaults.properties\n",
      "Setting default log level to \"WARN\".\n",
      "To adjust logging level use sc.setLogLevel(newLevel). For SparkR, use setLogLevel(newLevel).\n",
      "24/11/19 15:59:59 WARN NativeCodeLoader: Unable to load native-hadoop library for your platform... using builtin-java classes where applicable\n",
      "24/11/19 16:00:00 WARN Utils: Service 'SparkUI' could not bind on port 4040. Attempting port 4041.\n"
     ]
    },
    {
     "data": {
      "text/plain": [
       "DataFrame[]"
      ]
     },
     "execution_count": 2,
     "metadata": {},
     "output_type": "execute_result"
    }
   ],
   "source": [
    "spark = SparkSession.builder\\\n",
    "    .appName(\"Classification RandomForest\")\\\n",
    "    .enableHiveSupport()\\\n",
    "    .getOrCreate()\n",
    "\n",
    "spark.sparkContext.setLogLevel(\"OFF\")\n",
    "spark.catalog.clearCache()\n",
    "spark.sql(\"USE concessionnaire\")"
   ]
  },
  {
   "cell_type": "code",
   "execution_count": 3,
   "id": "60f4b1ed-bdc8-4e9c-8f95-40586dd17b84",
   "metadata": {},
   "outputs": [
    {
     "name": "stdout",
     "output_type": "stream",
     "text": [
      "root\n",
      " |-- immatriculation: string (nullable = true)\n",
      " |-- age: double (nullable = true)\n",
      " |-- sexe: string (nullable = true)\n",
      " |-- taux: double (nullable = true)\n",
      " |-- situationfamiliale: string (nullable = true)\n",
      " |-- nbenfantacharge: integer (nullable = true)\n",
      " |-- deuxiemevoiture: boolean (nullable = true)\n",
      " |-- taux_eligible: boolean (nullable = true)\n",
      " |-- marque: string (nullable = true)\n",
      " |-- modele: string (nullable = true)\n",
      " |-- puissance: integer (nullable = true)\n",
      " |-- longueur: string (nullable = true)\n",
      " |-- nbplaces: integer (nullable = true)\n",
      " |-- nbportes: integer (nullable = true)\n",
      " |-- couleur: string (nullable = true)\n",
      " |-- occasion: boolean (nullable = true)\n",
      " |-- prix: integer (nullable = true)\n",
      " |-- categorie: string (nullable = true)\n",
      "\n"
     ]
    }
   ],
   "source": [
    "clients_immatriculations = spark.sql(\"SELECT * FROM clients_immatriculations\")\n",
    "clients_immatriculations.printSchema()"
   ]
  },
  {
   "cell_type": "markdown",
   "id": "9407675b-70b3-4f9c-9697-5692f69d1408",
   "metadata": {},
   "source": [
    "### Verification des doublons"
   ]
  },
  {
   "cell_type": "code",
   "execution_count": 4,
   "id": "8c56f420-ef98-4a2c-acce-87665cc20510",
   "metadata": {},
   "outputs": [
    {
     "name": "stderr",
     "output_type": "stream",
     "text": [
      "                                                                                \r"
     ]
    },
    {
     "name": "stdout",
     "output_type": "stream",
     "text": [
      "+---------------+---+----+----+------------------+---------------+---------------+-------------+------+------+---------+--------+--------+--------+-------+--------+----+---------+-----+\n",
      "|immatriculation|age|sexe|taux|situationfamiliale|nbenfantacharge|deuxiemevoiture|taux_eligible|marque|modele|puissance|longueur|nbplaces|nbportes|couleur|occasion|prix|categorie|count|\n",
      "+---------------+---+----+----+------------------+---------------+---------------+-------------+------+------+---------+--------+--------+--------+-------+--------+----+---------+-----+\n",
      "+---------------+---+----+----+------------------+---------------+---------------+-------------+------+------+---------+--------+--------+--------+-------+--------+----+---------+-----+\n",
      "\n"
     ]
    }
   ],
   "source": [
    "doublons = clients_immatriculations.groupBy(*clients_immatriculations.columns).agg(count(\"*\").alias(\"count\")).filter(\"count > 1\")\n",
    "doublons.show(truncate=False)"
   ]
  },
  {
   "cell_type": "markdown",
   "id": "38ba59e5-8312-46f6-ad8c-7dcaeaaff557",
   "metadata": {},
   "source": [
    "### Analyse des **null**"
   ]
  },
  {
   "cell_type": "code",
   "execution_count": 5,
   "id": "3e63acba-9679-4d7f-8b39-77945e1d9951",
   "metadata": {},
   "outputs": [
    {
     "name": "stderr",
     "output_type": "stream",
     "text": [
      "[Stage 7:=======>                                                 (2 + 14) / 16]\r"
     ]
    },
    {
     "name": "stdout",
     "output_type": "stream",
     "text": [
      "+---------------+-----+\n",
      "|nbenfantacharge|count|\n",
      "+---------------+-----+\n",
      "|              1|16425|\n",
      "|              3|11451|\n",
      "|              4| 9960|\n",
      "|              2|16592|\n",
      "|              0|44973|\n",
      "+---------------+-----+\n",
      "\n"
     ]
    },
    {
     "name": "stderr",
     "output_type": "stream",
     "text": [
      "                                                                                \r"
     ]
    }
   ],
   "source": [
    "doublons = clients_immatriculations.groupBy('nbenfantacharge').count().show()"
   ]
  },
  {
   "cell_type": "markdown",
   "id": "4b2dbdd6-31ac-4a42-a66e-3cc563d97178",
   "metadata": {},
   "source": [
    "### Supprimer les colones innutiles"
   ]
  },
  {
   "cell_type": "code",
   "execution_count": 6,
   "id": "2c1b5453-dd53-4be0-be94-d9cca673f60c",
   "metadata": {},
   "outputs": [
    {
     "name": "stdout",
     "output_type": "stream",
     "text": [
      "+----+----+------+------------------+---------------+---------------+-------------+----------------+---------+-----------+--------+--------+--------+------+-------------------+\n",
      "| age|sexe|  taux|situationfamiliale|nbenfantacharge|deuxiemevoiture|taux_eligible|          modele|puissance|   longueur|nbplaces|nbportes|occasion|  prix|          categorie|\n",
      "+----+----+------+------------------+---------------+---------------+-------------+----------------+---------+-----------+--------+--------+--------+------+-------------------+\n",
      "|61.0|   M| 188.0|       celibataire|              0|          false|        false|     picanto 1.1|       65|     courte|       5|       5|   false|  8990|citadine economique|\n",
      "|50.0|   F| 460.0|         en couple|              3|          false|        false|vel satis 3.5 v6|      245|tres longue|       5|       5|   false| 49200|      suv/crossover|\n",
      "|54.0|   M| 403.0|       celibataire|              0|          false|        false|     polo 1.2 6v|       55|     courte|       5|       3|   false| 12200|citadine economique|\n",
      "|74.0|   M| 531.0|         en couple|              4|           true|        false|            s500|      306|tres longue|       5|       5|    true| 70910|      suv/crossover|\n",
      "|35.0|   M| 208.0|       celibataire|              0|          false|        false|    golf 2.0 fsi|      150|    moyenne|       5|       5|    true| 16029|          familiale|\n",
      "|66.0|   M| 960.0|         en couple|              1|          false|         true|        9.3 1.8t|      150|     longue|       5|       5|   false| 38600|      suv/crossover|\n",
      "|65.0|   F| 199.0|         en couple|              0|          false|        false|      toledo 1.6|      102|     longue|       5|       5|   false| 18880|          familiale|\n",
      "|67.0|   M|1072.0|         en couple|              0|          false|         true|            s500|      306|tres longue|       5|       5|   false|101300|      suv/crossover|\n",
      "|34.0|   M| 411.0|         en couple|              4|          false|        false|vel satis 3.5 v6|      245|tres longue|       5|       5|   false| 49200|      suv/crossover|\n",
      "|51.0|   M|1281.0|         en couple|              2|          false|         true|   x-type 2.5 v6|      197|     longue|       5|       5|   false| 37100|      suv/crossover|\n",
      "|81.0|   M|1091.0|         en couple|              1|          false|         true|        9.3 1.8t|      150|     longue|       5|       5|   false| 38600|      suv/crossover|\n",
      "|28.0|   M| 583.0|       celibataire|              0|          false|         true|    golf 2.0 fsi|      150|    moyenne|       5|       5|   false| 22900|          familiale|\n",
      "|22.0|   F|1125.0|       celibataire|              3|          false|         true|   x-type 2.5 v6|      197|     longue|       5|       5|   false| 37100|      suv/crossover|\n",
      "|48.0|   M| 991.0|         en couple|              4|          false|         true|              m5|      507|tres longue|       5|       5|   false| 94800|      suv/crossover|\n",
      "|32.0|   F| 156.0|         en couple|              2|          false|        false|          s80 t6|      272|tres longue|       5|       5|    true| 35350|      suv/crossover|\n",
      "|41.0|   M| 429.0|         en couple|              1|          false|        false|       croma 2.2|      147|     longue|       5|       5|   false| 24780|          familiale|\n",
      "|20.0|   M|1120.0|       celibataire|              3|          false|         true|              m5|      507|tres longue|       5|       5|   false| 94800|      suv/crossover|\n",
      "|52.0|   F| 847.0|       celibataire|              0|          false|         true|          a2 1.4|       75|     courte|       5|       5|   false| 18310|citadine economique|\n",
      "|66.0|   M| 236.0|         en couple|              4|          false|        false|   maxima 3.0 v6|      200|tres longue|       5|       5|   false| 30000|              autre|\n",
      "|23.0|   M| 493.0|       celibataire|              0|          false|        false|            120i|      150|    moyenne|       5|       5|    true| 25060|          familiale|\n",
      "+----+----+------+------------------+---------------+---------------+-------------+----------------+---------+-----------+--------+--------+--------+------+-------------------+\n",
      "only showing top 20 rows\n",
      "\n"
     ]
    }
   ],
   "source": [
    "clients_immatriculations = clients_immatriculations.drop('immatriculation')\n",
    "clients_immatriculations = clients_immatriculations.drop('couleur')\n",
    "clients_immatriculations = clients_immatriculations.drop('marque')\n",
    "\n",
    "clients_immatriculations.show()"
   ]
  },
  {
   "cell_type": "markdown",
   "id": "3c8b60cd-5374-46a8-9c79-d076d6116249",
   "metadata": {},
   "source": [
    "### OneHotEncoder"
   ]
  },
  {
   "cell_type": "code",
   "execution_count": 7,
   "id": "d2511917-dd2e-4baf-98a0-1274f9cb99af",
   "metadata": {},
   "outputs": [],
   "source": [
    "# indexer_marque = StringIndexer(inputCol=\"marque\", outputCol=\"marque_index\")\n",
    "# indexer_marque = indexer_marque.fit(clients_immatriculations)\n",
    "# clients_immatriculations = indexer_marque.transform(clients_immatriculations)\n",
    "\n",
    "# encoder_marque = OneHotEncoder(inputCol=\"marque_index\", outputCol=\"marque_encoded\")\n",
    "# clients_immatriculations = encoder_marque.fit(clients_immatriculations).transform(clients_immatriculations)"
   ]
  },
  {
   "cell_type": "code",
   "execution_count": 8,
   "id": "d3ddd877-5a4d-46f1-b09d-8817ae8c105f",
   "metadata": {},
   "outputs": [
    {
     "name": "stderr",
     "output_type": "stream",
     "text": [
      "                                                                                \r"
     ]
    }
   ],
   "source": [
    "indexer_sexe = StringIndexer(inputCol=\"sexe\", outputCol=\"sexe_index\").fit(clients_immatriculations)\n",
    "clients_immatriculations = indexer_sexe.transform(clients_immatriculations)\n",
    "\n",
    "encoder_sexe = OneHotEncoder(inputCol=\"sexe_index\", outputCol=\"sexe_encoded\").fit(clients_immatriculations)\n",
    "clients_immatriculations = encoder_sexe.transform(clients_immatriculations)"
   ]
  },
  {
   "cell_type": "code",
   "execution_count": 9,
   "id": "b09d7ca6-0af0-4d2c-9dc3-bc6bb6797749",
   "metadata": {},
   "outputs": [
    {
     "name": "stderr",
     "output_type": "stream",
     "text": [
      "                                                                                \r"
     ]
    }
   ],
   "source": [
    "indexer_situationfamiliale = StringIndexer(inputCol=\"situationfamiliale\", outputCol=\"situationfamiliale_index\").fit(clients_immatriculations)\n",
    "clients_immatriculations = indexer_situationfamiliale.transform(clients_immatriculations)\n",
    "\n",
    "encoder_situationfamiliale = OneHotEncoder(inputCol=\"situationfamiliale_index\", outputCol=\"situationfamiliale_encoded\").fit(clients_immatriculations)\n",
    "clients_immatriculations = encoder_situationfamiliale.transform(clients_immatriculations)"
   ]
  },
  {
   "cell_type": "code",
   "execution_count": 10,
   "id": "2b2f949a-769a-4f30-b54e-e7c83769d91e",
   "metadata": {},
   "outputs": [],
   "source": [
    "# clients_immatriculations = clients_immatriculations.drop('marque') \n",
    "# clients_immatriculations = clients_immatriculations.drop('marque_index')\n",
    "clients_immatriculations = clients_immatriculations.drop('puissance')\n",
    "clients_immatriculations = clients_immatriculations.drop('nbportes')\n",
    "clients_immatriculations = clients_immatriculations.drop('occasion')\n",
    "clients_immatriculations = clients_immatriculations.drop('prix')\n",
    "clients_immatriculations = clients_immatriculations.drop('nbplaces') \n",
    "clients_immatriculations = clients_immatriculations.drop('modele') \n",
    "clients_immatriculations = clients_immatriculations.drop('longueur')"
   ]
  },
  {
   "cell_type": "markdown",
   "id": "8b60109f-41b4-47be-8a43-5fd09cc9a4cc",
   "metadata": {},
   "source": [
    "## Changer des Boolean en Int"
   ]
  },
  {
   "cell_type": "code",
   "execution_count": 11,
   "id": "ae7c2346-4801-4f04-8687-4c9840fc92f5",
   "metadata": {},
   "outputs": [
    {
     "name": "stdout",
     "output_type": "stream",
     "text": [
      "+----+----+-----+------------------+---------------+---------------+-------------+-------------------+----------+-------------+------------------------+--------------------------+\n",
      "| age|sexe| taux|situationfamiliale|nbenfantacharge|deuxiemevoiture|taux_eligible|          categorie|sexe_index| sexe_encoded|situationfamiliale_index|situationfamiliale_encoded|\n",
      "+----+----+-----+------------------+---------------+---------------+-------------+-------------------+----------+-------------+------------------------+--------------------------+\n",
      "|61.0|   M|188.0|       celibataire|              0|              0|            0|citadine economique|       0.0|(1,[0],[1.0])|                     1.0|             (3,[1],[1.0])|\n",
      "|50.0|   F|460.0|         en couple|              3|              0|            0|      suv/crossover|       1.0|    (1,[],[])|                     0.0|             (3,[0],[1.0])|\n",
      "|54.0|   M|403.0|       celibataire|              0|              0|            0|citadine economique|       0.0|(1,[0],[1.0])|                     1.0|             (3,[1],[1.0])|\n",
      "|74.0|   M|531.0|         en couple|              4|              1|            0|      suv/crossover|       0.0|(1,[0],[1.0])|                     0.0|             (3,[0],[1.0])|\n",
      "+----+----+-----+------------------+---------------+---------------+-------------+-------------------+----------+-------------+------------------------+--------------------------+\n",
      "only showing top 4 rows\n",
      "\n"
     ]
    }
   ],
   "source": [
    "clients_immatriculations = clients_immatriculations.withColumn(\n",
    "    \"deuxiemevoiture\",\n",
    "    when(col(\"deuxiemevoiture\") == False, 0)\n",
    "    .when(col(\"deuxiemevoiture\") == True, 1)\n",
    "    .otherwise(col(\"deuxiemevoiture\").cast(\"int\"))\n",
    ")\n",
    "\n",
    "clients_immatriculations = clients_immatriculations.withColumn(\n",
    "    \"taux_eligible\",\n",
    "    when(col(\"taux_eligible\") == False, 0)\n",
    "    .when(col(\"taux_eligible\") == True, 1)\n",
    "    .otherwise(col(\"taux_eligible\").cast(\"int\"))\n",
    ")\n",
    "\n",
    "clients_immatriculations.show(4)"
   ]
  },
  {
   "cell_type": "markdown",
   "id": "cb6255f3-c5ba-40fe-80f6-e102ecca58ab",
   "metadata": {},
   "source": [
    "## Normalisation"
   ]
  },
  {
   "cell_type": "code",
   "execution_count": 12,
   "id": "56277c64-b994-4af0-b78f-6f35824725ef",
   "metadata": {},
   "outputs": [
    {
     "name": "stdout",
     "output_type": "stream",
     "text": [
      "+-------------------+-----+\n",
      "|          categorie|count|\n",
      "+-------------------+-----+\n",
      "|              autre| 5795|\n",
      "|          familiale|30361|\n",
      "|citadine economique|26778|\n",
      "|      suv/crossover|36467|\n",
      "+-------------------+-----+\n",
      "\n"
     ]
    }
   ],
   "source": [
    "clients_immatriculations.groupBy(\"categorie\").count().show()"
   ]
  },
  {
   "cell_type": "code",
   "execution_count": 13,
   "id": "d32c8ff4-6042-4155-a441-88c7b7c99e82",
   "metadata": {},
   "outputs": [
    {
     "name": "stdout",
     "output_type": "stream",
     "text": [
      "root\n",
      " |-- age: double (nullable = true)\n",
      " |-- sexe: string (nullable = true)\n",
      " |-- taux: double (nullable = true)\n",
      " |-- situationfamiliale: string (nullable = true)\n",
      " |-- nbenfantacharge: integer (nullable = true)\n",
      " |-- deuxiemevoiture: integer (nullable = true)\n",
      " |-- taux_eligible: integer (nullable = true)\n",
      " |-- categorie: string (nullable = true)\n",
      " |-- sexe_index: double (nullable = false)\n",
      " |-- sexe_encoded: vector (nullable = true)\n",
      " |-- situationfamiliale_index: double (nullable = false)\n",
      " |-- situationfamiliale_encoded: vector (nullable = true)\n",
      "\n",
      "+----+----+------+------------------+---------------+---------------+-------------+-------------------+----------+-------------+------------------------+--------------------------+\n",
      "| age|sexe|  taux|situationfamiliale|nbenfantacharge|deuxiemevoiture|taux_eligible|          categorie|sexe_index| sexe_encoded|situationfamiliale_index|situationfamiliale_encoded|\n",
      "+----+----+------+------------------+---------------+---------------+-------------+-------------------+----------+-------------+------------------------+--------------------------+\n",
      "|61.0|   M| 188.0|       celibataire|              0|              0|            0|citadine economique|       0.0|(1,[0],[1.0])|                     1.0|             (3,[1],[1.0])|\n",
      "|50.0|   F| 460.0|         en couple|              3|              0|            0|      suv/crossover|       1.0|    (1,[],[])|                     0.0|             (3,[0],[1.0])|\n",
      "|54.0|   M| 403.0|       celibataire|              0|              0|            0|citadine economique|       0.0|(1,[0],[1.0])|                     1.0|             (3,[1],[1.0])|\n",
      "|74.0|   M| 531.0|         en couple|              4|              1|            0|      suv/crossover|       0.0|(1,[0],[1.0])|                     0.0|             (3,[0],[1.0])|\n",
      "|35.0|   M| 208.0|       celibataire|              0|              0|            0|          familiale|       0.0|(1,[0],[1.0])|                     1.0|             (3,[1],[1.0])|\n",
      "|66.0|   M| 960.0|         en couple|              1|              0|            1|      suv/crossover|       0.0|(1,[0],[1.0])|                     0.0|             (3,[0],[1.0])|\n",
      "|65.0|   F| 199.0|         en couple|              0|              0|            0|          familiale|       1.0|    (1,[],[])|                     0.0|             (3,[0],[1.0])|\n",
      "|67.0|   M|1072.0|         en couple|              0|              0|            1|      suv/crossover|       0.0|(1,[0],[1.0])|                     0.0|             (3,[0],[1.0])|\n",
      "|34.0|   M| 411.0|         en couple|              4|              0|            0|      suv/crossover|       0.0|(1,[0],[1.0])|                     0.0|             (3,[0],[1.0])|\n",
      "|51.0|   M|1281.0|         en couple|              2|              0|            1|      suv/crossover|       0.0|(1,[0],[1.0])|                     0.0|             (3,[0],[1.0])|\n",
      "|81.0|   M|1091.0|         en couple|              1|              0|            1|      suv/crossover|       0.0|(1,[0],[1.0])|                     0.0|             (3,[0],[1.0])|\n",
      "|28.0|   M| 583.0|       celibataire|              0|              0|            1|          familiale|       0.0|(1,[0],[1.0])|                     1.0|             (3,[1],[1.0])|\n",
      "|22.0|   F|1125.0|       celibataire|              3|              0|            1|      suv/crossover|       1.0|    (1,[],[])|                     1.0|             (3,[1],[1.0])|\n",
      "|48.0|   M| 991.0|         en couple|              4|              0|            1|      suv/crossover|       0.0|(1,[0],[1.0])|                     0.0|             (3,[0],[1.0])|\n",
      "|32.0|   F| 156.0|         en couple|              2|              0|            0|      suv/crossover|       1.0|    (1,[],[])|                     0.0|             (3,[0],[1.0])|\n",
      "|41.0|   M| 429.0|         en couple|              1|              0|            0|          familiale|       0.0|(1,[0],[1.0])|                     0.0|             (3,[0],[1.0])|\n",
      "|20.0|   M|1120.0|       celibataire|              3|              0|            1|      suv/crossover|       0.0|(1,[0],[1.0])|                     1.0|             (3,[1],[1.0])|\n",
      "|52.0|   F| 847.0|       celibataire|              0|              0|            1|citadine economique|       1.0|    (1,[],[])|                     1.0|             (3,[1],[1.0])|\n",
      "|66.0|   M| 236.0|         en couple|              4|              0|            0|              autre|       0.0|(1,[0],[1.0])|                     0.0|             (3,[0],[1.0])|\n",
      "|23.0|   M| 493.0|       celibataire|              0|              0|            0|          familiale|       0.0|(1,[0],[1.0])|                     1.0|             (3,[1],[1.0])|\n",
      "+----+----+------+------------------+---------------+---------------+-------------+-------------------+----------+-------------+------------------------+--------------------------+\n",
      "only showing top 20 rows\n",
      "\n"
     ]
    }
   ],
   "source": [
    "clients_immatriculations.printSchema()\n",
    "clients_immatriculations.show()"
   ]
  },
  {
   "cell_type": "markdown",
   "id": "85b53327-4841-467d-95f9-ace9e02d2258",
   "metadata": {
    "tags": []
   },
   "source": [
    "## Classificateur"
   ]
  },
  {
   "cell_type": "code",
   "execution_count": 14,
   "id": "2852a30d-3822-463d-bb84-5402c33e5afc",
   "metadata": {},
   "outputs": [],
   "source": [
    "# Apprentissage des labels\n",
    "indexer_model = StringIndexer(inputCol=\"categorie\", outputCol=\"label\").fit(clients_immatriculations)\n",
    "\n",
    "data = indexer_model.transform(clients_immatriculations)\n",
    "\n",
    "feature_cols = [col for col in data.columns if col not in [\"categorie\", \"label\", 'sexe', 'situationfamiliale']]\n",
    "assembler = VectorAssembler(inputCols=feature_cols, outputCol=\"features\")\n",
    "data = assembler.transform(data).select(\"features\", \"label\")"
   ]
  },
  {
   "cell_type": "code",
   "execution_count": 15,
   "id": "170e7b65-e632-4b4c-9854-98e3006de093",
   "metadata": {},
   "outputs": [
    {
     "name": "stderr",
     "output_type": "stream",
     "text": [
      "                                                                                \r"
     ]
    },
    {
     "name": "stdout",
     "output_type": "stream",
     "text": [
      "Taille de l'ensemble d'entraînement : 60060\n"
     ]
    },
    {
     "name": "stderr",
     "output_type": "stream",
     "text": [
      "                                                                                \r"
     ]
    },
    {
     "name": "stdout",
     "output_type": "stream",
     "text": [
      "Taille de l'ensemble de validation : 19739\n"
     ]
    },
    {
     "name": "stderr",
     "output_type": "stream",
     "text": [
      "[Stage 31:=======>                                                (2 + 14) / 16]\r"
     ]
    },
    {
     "name": "stdout",
     "output_type": "stream",
     "text": [
      "Taille de l'ensemble de test : 19602\n"
     ]
    },
    {
     "name": "stderr",
     "output_type": "stream",
     "text": [
      "                                                                                \r"
     ]
    }
   ],
   "source": [
    "# Diviser les données en 60% entraînement, 20% validation et 20% test\n",
    "(trainingData, validationData, testData) = data.randomSplit([0.6, 0.2, 0.2], seed=42)\n",
    "\n",
    "print(f\"Taille de l'ensemble d'entraînement : {trainingData.count()}\")\n",
    "print(f\"Taille de l'ensemble de validation : {validationData.count()}\")\n",
    "print(f\"Taille de l'ensemble de test : {testData.count()}\")"
   ]
  },
  {
   "cell_type": "code",
   "execution_count": 17,
   "id": "05328e62-6898-481d-bbec-1167a65b7ebc",
   "metadata": {},
   "outputs": [
    {
     "name": "stderr",
     "output_type": "stream",
     "text": [
      "                                                                                \r"
     ]
    },
    {
     "name": "stdout",
     "output_type": "stream",
     "text": [
      "Meilleurs paramètres : maxIter=100, regParam=0.0, elasticNetParam=0.0 avec précision=0.7327823691460055\n"
     ]
    }
   ],
   "source": [
    "param_grid = {\n",
    "    'maxIter': [10, 50, 100],  # Nombre d'itérations\n",
    "    'regParam': [0.0, 0.1, 0.5],  # Paramètre de régularisation\n",
    "    'elasticNetParam': [0.0, 0.5, 1.0]  # L1/L2 Mix\n",
    "}\n",
    "\n",
    "# Liste pour enregistrer les résultats\n",
    "results = []\n",
    "\n",
    "# Générer toutes les combinaisons d'hyperparamètres\n",
    "for maxIter, regParam, elasticNetParam in product(param_grid['maxIter'], param_grid['regParam'], param_grid['elasticNetParam']):\n",
    "    # Configurer le modèle avec les hyperparamètres\n",
    "    lr = LogisticRegression(maxIter=maxIter, regParam=regParam, elasticNetParam=elasticNetParam, labelCol=\"label\", featuresCol=\"features\")\n",
    "    \n",
    "    # Entraîner le modèle\n",
    "    model = lr.fit(trainingData)\n",
    "    \n",
    "    # Prédire sur les données de test\n",
    "    predictions = model.transform(testData)\n",
    "    \n",
    "    # Évaluer la précision\n",
    "    evaluator = MulticlassClassificationEvaluator(labelCol=\"label\", predictionCol=\"prediction\", metricName=\"accuracy\")\n",
    "    accuracy = evaluator.evaluate(predictions)\n",
    "    \n",
    "    # Enregistrer les résultats\n",
    "    results.append((maxIter, regParam, elasticNetParam, accuracy))\n",
    "\n",
    "# Trouver les meilleurs hyperparamètres\n",
    "best_params = max(results, key=lambda x: x[3])  # Trier par précision\n",
    "print(f\"Meilleurs paramètres : maxIter={best_params[0]}, regParam={best_params[1]}, elasticNetParam={best_params[2]} avec précision={best_params[3]}\")"
   ]
  },
  {
   "cell_type": "code",
   "execution_count": null,
   "id": "c7a287a2-d164-41c4-8254-ee6277dd5b8f",
   "metadata": {},
   "outputs": [],
   "source": []
  }
 ],
 "metadata": {
  "kernelspec": {
   "display_name": "Python 3 (ipykernel)",
   "language": "python",
   "name": "python3"
  },
  "language_info": {
   "codemirror_mode": {
    "name": "ipython",
    "version": 3
   },
   "file_extension": ".py",
   "mimetype": "text/x-python",
   "name": "python",
   "nbconvert_exporter": "python",
   "pygments_lexer": "ipython3",
   "version": "3.9.7"
  }
 },
 "nbformat": 4,
 "nbformat_minor": 5
}
