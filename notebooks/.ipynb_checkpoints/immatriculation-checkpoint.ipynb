{
 "cells": [
  {
   "cell_type": "markdown",
   "id": "baa2bfe4-7c21-44c4-ac41-e54166fbfac1",
   "metadata": {},
   "source": [
    "# Analyse et nettoyage des données Immatriculation"
   ]
  },
  {
   "cell_type": "markdown",
   "id": "06210231-f09d-4ca9-aef5-36dc5872d4ed",
   "metadata": {},
   "source": [
    "## Import"
   ]
  },
  {
   "cell_type": "code",
   "execution_count": 1,
   "id": "ca8b0861-4e4d-42da-bd93-32914233fdaa",
   "metadata": {},
   "outputs": [],
   "source": [
    "from pyspark.sql import SparkSession\n",
    "from pyspark.sql.functions import trim, lower, col, count, regexp_replace"
   ]
  },
  {
   "cell_type": "markdown",
   "id": "73c38c06-6935-4660-9f68-419add6f868e",
   "metadata": {},
   "source": [
    "## Session spark"
   ]
  },
  {
   "cell_type": "code",
   "execution_count": 2,
   "id": "e99432de-3a23-4f1f-b10d-79a445a09bf9",
   "metadata": {},
   "outputs": [
    {
     "name": "stderr",
     "output_type": "stream",
     "text": [
      "WARNING: An illegal reflective access operation has occurred\n",
      "WARNING: Illegal reflective access by org.apache.spark.unsafe.Platform (file:/usr/local/spark-3.2.0-bin-hadoop3.2/jars/spark-unsafe_2.12-3.2.0.jar) to constructor java.nio.DirectByteBuffer(long,int)\n",
      "WARNING: Please consider reporting this to the maintainers of org.apache.spark.unsafe.Platform\n",
      "WARNING: Use --illegal-access=warn to enable warnings of further illegal reflective access operations\n",
      "WARNING: All illegal access operations will be denied in a future release\n",
      "Using Spark's default log4j profile: org/apache/spark/log4j-defaults.properties\n",
      "Setting default log level to \"WARN\".\n",
      "To adjust logging level use sc.setLogLevel(newLevel). For SparkR, use setLogLevel(newLevel).\n",
      "24/11/14 10:03:12 WARN NativeCodeLoader: Unable to load native-hadoop library for your platform... using builtin-java classes where applicable\n"
     ]
    }
   ],
   "source": [
    "spark = SparkSession.builder\\\n",
    "    .appName(\"CleanImmatriculation\")\\\n",
    "    .enableHiveSupport()\\\n",
    "    .getOrCreate()"
   ]
  },
  {
   "cell_type": "markdown",
   "id": "32087677-1413-402e-a97f-3c44e3349093",
   "metadata": {},
   "source": [
    "## Import des données"
   ]
  },
  {
   "cell_type": "code",
   "execution_count": 3,
   "id": "5248f82d-c16e-443d-ab23-6b1cc8897f9e",
   "metadata": {},
   "outputs": [
    {
     "name": "stderr",
     "output_type": "stream",
     "text": [
      "[Stage 0:>                                                          (0 + 1) / 1]\r"
     ]
    },
    {
     "name": "stdout",
     "output_type": "stream",
     "text": [
      "+---------------+----------+----------------+---------+-----------+--------+--------+-------+--------+-----+\n",
      "|immatriculation|    marque|             nom|puissance|   longueur|nbplaces|nbportes|couleur|occasion| prix|\n",
      "+---------------+----------+----------------+---------+-----------+--------+--------+-------+--------+-----+\n",
      "|      167 JA 42|   Peugeot|        1007 1.4|       75|     courte|       5|       5|  rouge|   false|13750|\n",
      "|     6956 HM 76|   Renault|     Laguna 2.0T|      170|     longue|       5|       5|   noir|   false|27300|\n",
      "|      852 KQ 58|    Lancia| Ypsilon 1.4 16V|       90|     courte|       5|       3|   noir|   false|13500|\n",
      "|     2429 ZQ 52|Volkswagen|    Golf 2.0 FSI|      150|    moyenne|       5|       5|   bleu|   false|22900|\n",
      "|     5605 XG 92|Volkswagen|     Polo 1.2 6V|       55|     courte|       5|       3|  rouge|   false|12200|\n",
      "|     4685 DN 33|       BMW|              M5|      507|tr�s longue|       5|       5|  rouge|   false|94800|\n",
      "|     9849 JL 91|Volkswagen|     Polo 1.2 6V|       55|     courte|       5|       3|  rouge|   false|12200|\n",
      "|     9138 JU 10|       BMW|              M5|      507|tr�s longue|       5|       5|   bleu|   false|94800|\n",
      "|     3496 UI 20|  Daihatsu|       Cuore 1.0|       58|     courte|       5|       3|   gris|   false| 8850|\n",
      "|     8187 SB 20|      Audi|          A2 1.4|       75|     courte|       5|       5|  rouge|    true|12817|\n",
      "|     9667 QU 33|  Mercedes|            A200|      136|    moyenne|       5|       5|   bleu|   false|25900|\n",
      "|     4277 YE 78|    Jaguar|   X-Type 2.5 V6|      197|     longue|       5|       5|  blanc|   false|37100|\n",
      "|     8930 WE 91|   Renault|Vel Satis 3.5 V6|      245|tr�s longue|       5|       5|   noir|   false|49200|\n",
      "|     7836 GT 47|      Seat|      Toledo 1.6|      102|     longue|       5|       5|  blanc|   false|18880|\n",
      "|     1958 FY 73|Volkswagen|    Golf 2.0 FSI|      150|    moyenne|       5|       5|   noir|    true|16029|\n",
      "|      713 DR 91|       BMW|              M5|      507|tr�s longue|       5|       5|  blanc|   false|94800|\n",
      "|     2947 VF 36|    Jaguar|   X-Type 2.5 V6|      197|     longue|       5|       5|  blanc|    true|25970|\n",
      "|     3118 UT 20|    Jaguar|   X-Type 2.5 V6|      197|     longue|       5|       5|  blanc|    true|25970|\n",
      "|     3038 QP 89|      Saab|        9.3 1.8T|      150|     longue|       5|       5|   noir|    true|27020|\n",
      "|     6163 BQ 74|  Daihatsu|       Cuore 1.0|       58|     courte|       5|       3|   bleu|   false| 8850|\n",
      "+---------------+----------+----------------+---------+-----------+--------+--------+-------+--------+-----+\n",
      "only showing top 20 rows\n",
      "\n"
     ]
    },
    {
     "name": "stderr",
     "output_type": "stream",
     "text": [
      "                                                                                \r"
     ]
    }
   ],
   "source": [
    "spark.sparkContext.setLogLevel(\"OFF\")\n",
    "spark.catalog.clearCache()\n",
    "spark.sql(\"USE concessionnaire\")\n",
    "\n",
    "df_immat = spark.sql(\"SELECT * FROM immatriculations_ext\")\n",
    "\n",
    "df_immat.show()"
   ]
  },
  {
   "cell_type": "markdown",
   "id": "653d3ebe-8aab-4e6a-8100-123c6838da8d",
   "metadata": {},
   "source": [
    "## Analyse\n",
    "\n",
    "### Casse\n",
    "- Renommage de la colonne \"nom\" en \"modele\"\n",
    "- Normalisation des marques\n",
    "- Normalisation des modèles"
   ]
  },
  {
   "cell_type": "code",
   "execution_count": 4,
   "id": "cee58fd9-7b53-4579-afbc-f258b55fd472",
   "metadata": {},
   "outputs": [
    {
     "name": "stdout",
     "output_type": "stream",
     "text": [
      "root\n",
      " |-- immatriculation: string (nullable = true)\n",
      " |-- marque: string (nullable = true)\n",
      " |-- modele: string (nullable = true)\n",
      " |-- puissance: integer (nullable = true)\n",
      " |-- longueur: string (nullable = true)\n",
      " |-- nbplaces: integer (nullable = true)\n",
      " |-- nbportes: integer (nullable = true)\n",
      " |-- couleur: string (nullable = true)\n",
      " |-- occasion: string (nullable = true)\n",
      " |-- prix: integer (nullable = true)\n",
      "\n"
     ]
    }
   ],
   "source": [
    "#Renommage de la colonne \"nom\" en \"modele\"\n",
    "df_immat = df_immat.withColumnRenamed(\"nom\", \"modele\")\n",
    "\n",
    "df_immat.printSchema()"
   ]
  },
  {
   "cell_type": "code",
   "execution_count": null,
   "id": "5ac3a88b-7618-41ef-a416-b249eb58fc8e",
   "metadata": {},
   "outputs": [],
   "source": []
  },
  {
   "cell_type": "code",
   "execution_count": 5,
   "id": "c5bb66a6-e6d2-41f5-a174-5f099c1d62d1",
   "metadata": {},
   "outputs": [],
   "source": [
    "#Normalisation des marques\n",
    "df_immat = df_immat.withColumn(\"marque\", lower(trim(col(\"marque\"))))\n",
    "\n",
    "#Normalisation des modèles\n",
    "df_immat = df_immat.withColumn(\"modele\", lower(trim(col(\"modele\"))))"
   ]
  },
  {
   "cell_type": "code",
   "execution_count": 6,
   "id": "9760a566-4053-41d4-9a12-b1099def5795",
   "metadata": {},
   "outputs": [
    {
     "name": "stdout",
     "output_type": "stream",
     "text": [
      "+---------------+----------+---------------+---------+--------+--------+--------+-------+--------+-----+\n",
      "|immatriculation|    marque|         modele|puissance|longueur|nbplaces|nbportes|couleur|occasion| prix|\n",
      "+---------------+----------+---------------+---------+--------+--------+--------+-------+--------+-----+\n",
      "|      167 JA 42|   peugeot|       1007 1.4|       75|  courte|       5|       5|  rouge|   false|13750|\n",
      "|     6956 HM 76|   renault|    laguna 2.0t|      170|  longue|       5|       5|   noir|   false|27300|\n",
      "|      852 KQ 58|    lancia|ypsilon 1.4 16v|       90|  courte|       5|       3|   noir|   false|13500|\n",
      "|     2429 ZQ 52|volkswagen|   golf 2.0 fsi|      150| moyenne|       5|       5|   bleu|   false|22900|\n",
      "|     5605 XG 92|volkswagen|    polo 1.2 6v|       55|  courte|       5|       3|  rouge|   false|12200|\n",
      "+---------------+----------+---------------+---------+--------+--------+--------+-------+--------+-----+\n",
      "only showing top 5 rows\n",
      "\n"
     ]
    }
   ],
   "source": [
    "df_immat.show(n=5)"
   ]
  },
  {
   "cell_type": "markdown",
   "id": "4e8e4b59-ab9b-45aa-8632-1534b815c3aa",
   "metadata": {},
   "source": [
    "### Recherche des caractères spéciaux\n",
    "\n",
    "- Recherche du symbole \"�\"\n",
    "- Recherche du caractère \"ã©\""
   ]
  },
  {
   "cell_type": "code",
   "execution_count": 7,
   "id": "c5179236-fad3-4252-8126-25d761e83fac",
   "metadata": {},
   "outputs": [
    {
     "name": "stdout",
     "output_type": "stream",
     "text": [
      "+---------------+--------+----------------+---------+-----------+--------+--------+-------+--------+------+\n",
      "|immatriculation|  marque|          modele|puissance|   longueur|nbplaces|nbportes|couleur|occasion|  prix|\n",
      "+---------------+--------+----------------+---------+-----------+--------+--------+-------+--------+------+\n",
      "|     4685 DN 33|     bmw|              m5|      507|tr�s longue|       5|       5|  rouge|   false| 94800|\n",
      "|     9138 JU 10|     bmw|              m5|      507|tr�s longue|       5|       5|   bleu|   false| 94800|\n",
      "|     8930 WE 91| renault|vel satis 3.5 v6|      245|tr�s longue|       5|       5|   noir|   false| 49200|\n",
      "|      713 DR 91|     bmw|              m5|      507|tr�s longue|       5|       5|  blanc|   false| 94800|\n",
      "|     7043 HC 23|   volvo|          s80 t6|      272|tr�s longue|       5|       5|  rouge|   false| 50500|\n",
      "|     2905 OZ 78|mercedes|            s500|      306|tr�s longue|       5|       5|  rouge|   false|101300|\n",
      "|     6959 JS 88| renault|vel satis 3.5 v6|      245|tr�s longue|       5|       5|  blanc|   false| 49200|\n",
      "|     2831 VY 33|     bmw|              m5|      507|tr�s longue|       5|       5|  blanc|   false| 94800|\n",
      "|      852 EM 76| renault|vel satis 3.5 v6|      245|tr�s longue|       5|       5|   gris|    true| 34440|\n",
      "|     9585 YS 37|   volvo|          s80 t6|      272|tr�s longue|       5|       5|   noir|   false| 50500|\n",
      "|      431 MI 64|     bmw|              m5|      507|tr�s longue|       5|       5|   bleu|   false| 94800|\n",
      "|        3 YG 34| renault|vel satis 3.5 v6|      245|tr�s longue|       5|       5|   gris|   false| 49200|\n",
      "|     2608 EG 90|     bmw|              m5|      507|tr�s longue|       5|       5|  rouge|   false| 94800|\n",
      "|     3011 AK 52|     bmw|              m5|      507|tr�s longue|       5|       5|   gris|   false| 94800|\n",
      "|     1477 EE 19|   skoda|   superb 2.8 v6|      193|tr�s longue|       5|       5|  blanc|   false| 31790|\n",
      "|     2856 VX 71|     bmw|              m5|      507|tr�s longue|       5|       5|   noir|   false| 94800|\n",
      "|     9526 QO 49|  nissan|   maxima 3.0 v6|      200|tr�s longue|       5|       5|   bleu|   false| 30000|\n",
      "|     8525 AO 27|     bmw|              m5|      507|tr�s longue|       5|       5|  blanc|   false| 94800|\n",
      "|     1442 GI 87|   volvo|          s80 t6|      272|tr�s longue|       5|       5|   noir|    true| 35350|\n",
      "|     3323 UO 58|mercedes|            s500|      306|tr�s longue|       5|       5|  rouge|    true| 70910|\n",
      "+---------------+--------+----------------+---------+-----------+--------+--------+-------+--------+------+\n",
      "only showing top 20 rows\n",
      "\n"
     ]
    },
    {
     "name": "stderr",
     "output_type": "stream",
     "text": [
      "[Stage 4:============================================>              (3 + 1) / 4]\r"
     ]
    },
    {
     "name": "stdout",
     "output_type": "stream",
     "text": [
      "+---------------+------+------+---------+--------+--------+--------+-------+--------+----+\n",
      "|immatriculation|marque|modele|puissance|longueur|nbplaces|nbportes|couleur|occasion|prix|\n",
      "+---------------+------+------+---------+--------+--------+--------+-------+--------+----+\n",
      "+---------------+------+------+---------+--------+--------+--------+-------+--------+----+\n",
      "\n"
     ]
    },
    {
     "name": "stderr",
     "output_type": "stream",
     "text": [
      "                                                                                \r"
     ]
    }
   ],
   "source": [
    "#Recherche du symbole \"�\"\n",
    "\n",
    "df_search_special_char_immat = df_immat.filter(\n",
    "    col(\"immatriculation\").like(\"%�%\") | \n",
    "    col(\"marque\").like(\"%�%\") | \n",
    "    col(\"modele\").like(\"%�%\") | \n",
    "    col(\"longueur\").like(\"%�%\") |\n",
    "    col(\"couleur\").like(\"%�%\") | \n",
    "    col(\"occasion\").like(\"%�%\")\n",
    ")\n",
    "\n",
    "#Recherche du caractère \"ã©\"\n",
    "\n",
    "df_search_special_char_2_immat = df_immat.filter(\n",
    "    col(\"immatriculation\").like(\"%ã©%\") | \n",
    "    col(\"marque\").like(\"%ã©%\") | \n",
    "    col(\"modele\").like(\"%ã©%\") | \n",
    "    col(\"longueur\").like(\"%ã©%\") |\n",
    "    col(\"couleur\").like(\"%ã©%\") | \n",
    "    col(\"occasion\").like(\"%ã©%\")\n",
    ")\n",
    "\n",
    "df_search_special_char_immat.show()\n",
    "df_search_special_char_2_immat.show()"
   ]
  },
  {
   "cell_type": "markdown",
   "id": "94f266c9-4bd6-479a-819d-f5290ba6eb8d",
   "metadata": {},
   "source": [
    "### Correction des caractères spéciaux\n",
    "\n",
    "- Correction du symbole \"�\" dans la colonne \"longueur\".\n"
   ]
  },
  {
   "cell_type": "code",
   "execution_count": 8,
   "id": "7a604c7f-8a55-43a4-bc3d-4556e4e48317",
   "metadata": {},
   "outputs": [
    {
     "name": "stderr",
     "output_type": "stream",
     "text": [
      "[Stage 6:============================================>              (3 + 1) / 4]\r"
     ]
    },
    {
     "name": "stdout",
     "output_type": "stream",
     "text": [
      "+---------------+------+------+---------+--------+--------+--------+-------+--------+----+\n",
      "|immatriculation|marque|modele|puissance|longueur|nbplaces|nbportes|couleur|occasion|prix|\n",
      "+---------------+------+------+---------+--------+--------+--------+-------+--------+----+\n",
      "+---------------+------+------+---------+--------+--------+--------+-------+--------+----+\n",
      "\n"
     ]
    },
    {
     "name": "stderr",
     "output_type": "stream",
     "text": [
      "                                                                                \r"
     ]
    }
   ],
   "source": [
    "#Correction du symbole \"�\" dans la colonne \"longueur\"\n",
    "\n",
    "df_immat = df_immat.withColumn(\"longueur\", regexp_replace(col(\"longueur\"), \"�\", \"e\"))\n",
    "\n",
    "df_search_special_char_immat = df_immat.filter(\n",
    "    col(\"immatriculation\").like(\"%�%\") | \n",
    "    col(\"marque\").like(\"%�%\") | \n",
    "    col(\"modele\").like(\"%�%\") | \n",
    "    col(\"longueur\").like(\"%�%\") |\n",
    "    col(\"couleur\").like(\"%�%\") | \n",
    "    col(\"occasion\").like(\"%�%\")\n",
    ")\n",
    "\n",
    "df_search_special_char_immat.show()"
   ]
  },
  {
   "cell_type": "markdown",
   "id": "8f59c20c-2b9f-43cf-baf1-f2163a12ed07",
   "metadata": {},
   "source": [
    "## Recherche et correction des Null\n",
    "\n",
    "- Recherche des null"
   ]
  },
  {
   "cell_type": "code",
   "execution_count": 9,
   "id": "e576ac3b-bc6b-4108-b379-75b0f6207b61",
   "metadata": {},
   "outputs": [
    {
     "name": "stderr",
     "output_type": "stream",
     "text": [
      "[Stage 8:=============================>                             (2 + 2) / 4]\r"
     ]
    },
    {
     "name": "stdout",
     "output_type": "stream",
     "text": [
      "+---------------+------+------+---------+--------+--------+--------+-------+--------+----+\n",
      "|immatriculation|marque|modele|puissance|longueur|nbplaces|nbportes|couleur|occasion|prix|\n",
      "+---------------+------+------+---------+--------+--------+--------+-------+--------+----+\n",
      "+---------------+------+------+---------+--------+--------+--------+-------+--------+----+\n",
      "\n"
     ]
    },
    {
     "name": "stderr",
     "output_type": "stream",
     "text": [
      "                                                                                \r"
     ]
    }
   ],
   "source": [
    "\n",
    "#Recherche des null\n",
    "\n",
    "# Liste des colonnes du DataFrame\n",
    "colonnes = df_immat.columns\n",
    "\n",
    "# Filtrer pour conserver uniquement les lignes où au moins une colonne est nulle\n",
    "df_nulls = df_immat.filter(\n",
    "    sum(col(colonne).isNull().cast(\"int\") for colonne in colonnes) > 0\n",
    ")\n",
    "\n",
    "# Afficher les lignes avec des valeurs nulles\n",
    "df_nulls.show()"
   ]
  }
 ],
 "metadata": {
  "kernelspec": {
   "display_name": "Python 3 (ipykernel)",
   "language": "python",
   "name": "python3"
  },
  "language_info": {
   "codemirror_mode": {
    "name": "ipython",
    "version": 3
   },
   "file_extension": ".py",
   "mimetype": "text/x-python",
   "name": "python",
   "nbconvert_exporter": "python",
   "pygments_lexer": "ipython3",
   "version": "3.9.7"
  }
 },
 "nbformat": 4,
 "nbformat_minor": 5
}
