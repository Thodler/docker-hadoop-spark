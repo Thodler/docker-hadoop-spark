{
 "cells": [
  {
   "cell_type": "code",
   "execution_count": 1,
   "id": "68f297d2-fc7f-424b-96d1-85b506bd6465",
   "metadata": {},
   "outputs": [],
   "source": [
    "from pyspark.sql import SparkSession\n",
    "from pyspark.sql import functions as F\n",
    "from pyspark.sql.window import Window\n",
    "from pyspark.sql.functions import avg, when, trim, split, regexp_replace, round, lower, col, encode, count, levenshtein, row_number, broadcast, coalesce"
   ]
  },
  {
   "cell_type": "code",
   "execution_count": 2,
   "id": "eaf8a651-7e16-4c1e-a41f-4ca6c15dd7fa",
   "metadata": {
    "jupyter": {
     "is_executing": true
    }
   },
   "outputs": [
    {
     "name": "stderr",
     "output_type": "stream",
     "text": [
      "WARNING: An illegal reflective access operation has occurred\n",
      "WARNING: Illegal reflective access by org.apache.spark.unsafe.Platform (file:/usr/local/spark-3.2.0-bin-hadoop3.2/jars/spark-unsafe_2.12-3.2.0.jar) to constructor java.nio.DirectByteBuffer(long,int)\n",
      "WARNING: Please consider reporting this to the maintainers of org.apache.spark.unsafe.Platform\n",
      "WARNING: Use --illegal-access=warn to enable warnings of further illegal reflective access operations\n",
      "WARNING: All illegal access operations will be denied in a future release\n",
      "Using Spark's default log4j profile: org/apache/spark/log4j-defaults.properties\n",
      "Setting default log level to \"WARN\".\n",
      "To adjust logging level use sc.setLogLevel(newLevel). For SparkR, use setLogLevel(newLevel).\n",
      "24/11/13 15:09:26 WARN NativeCodeLoader: Unable to load native-hadoop library for your platform... using builtin-java classes where applicable\n"
     ]
    }
   ],
   "source": [
    "spark = SparkSession.builder\\\n",
    "    .appName(\"AggregateCatalogueCo2\")\\\n",
    "    .enableHiveSupport()\\\n",
    "    .getOrCreate()\n"
   ]
  },
  {
   "cell_type": "code",
   "execution_count": 3,
   "id": "3d7b29db-3cb9-4751-9610-455528ce8afa",
   "metadata": {},
   "outputs": [],
   "source": [
    "spark.sparkContext.setLogLevel(\"OFF\")\n",
    "spark.catalog.clearCache()\n",
    "spark.sql(\"USE concessionnaire\")\n",
    "\n",
    "df_catalogue = spark.sql(\"SELECT * FROM catalogue_ext\")\n",
    "df_co2 = spark.sql(\"SELECT * FROM crit_air_ext\")\n",
    "\n",
    "df_catalogue = df_catalogue.filter(df_catalogue['marque'] != 'marque') # A GERER DANS L'IMPORT DE HIVE ???"
   ]
  },
  {
   "cell_type": "code",
   "execution_count": 4,
   "id": "ff07c299-378e-41ae-9b6a-0732275f3e36",
   "metadata": {},
   "outputs": [
    {
     "name": "stderr",
     "output_type": "stream",
     "text": [
      "                                                                                \r"
     ]
    },
    {
     "name": "stdout",
     "output_type": "stream",
     "text": [
      "+--------------------+-----------+----------+------------+\n",
      "|       marque_modele|bonus_malus|rejets_co2|cout_energie|\n",
      "+--------------------+-----------+----------+------------+\n",
      "|      CITROEN C-ZERO|  -6 000€ 1|       0.0|       491 €|\n",
      "|MERCEDES SPRINTER...|    +8 753€|     200.0|       799 €|\n",
      "|VOLKSWAGEN Passat...|          -|      31.0|        56 €|\n",
      "|    SMART EQ FORFOUR|  -6 000€ 1|       0.0|       175 €|\n",
      "|BENTLEY BENTAYGA ...|          -|      84.0|       102 €|\n",
      "|SMART EQ FORTWO C...|  -6 000€ 1|       0.0|       175 €|\n",
      "|SMART EQ FORFOUR ...|  -6 000€ 1|       0.0|       213 €|\n",
      "|AUDI Q5 50 TFSI e...|          -|      49.0|       105 €|\n",
      "|MERCEDES SPRINTER...|    +8 753€|     255.0|       988 €|\n",
      "|MERCEDES SPRINTER...|    +8 753€|     200.0|       799 €|\n",
      "|KIA SOUL Moteur Ã...|  -6 000€ 1|       0.0|       214 €|\n",
      "|MERCEDES VITO Tou...|  -6 000€ 1|       0.0|       411 €|\n",
      "|MERCEDES SPRINTER...|    +8 753€|     262.0|       999 €|\n",
      "|SMART EQ FORFOUR ...|  -6 000€ 1|       0.0|       213 €|\n",
      "|TESLA MODEL S (16...|  -6 000€ 1|       0.0|       247 €|\n",
      "|MERCEDES SPRINTER...|    +8 753€|     255.0|       988 €|\n",
      "|MINI MINI Cooper ...|  -6 000€ 1|       0.0|       199 €|\n",
      "|VOLKSWAGEN Passat...|          -|      31.0|        56 €|\n",
      "|PEUGEOT ION elect...|  -6 000€ 1|       0.0|       241 €|\n",
      "|MITSUBISHI OUTLAN...|          -|      40.0|        98 €|\n",
      "+--------------------+-----------+----------+------------+\n",
      "only showing top 20 rows\n",
      "\n",
      "+----------+--------------+---------+-----------+--------+--------+-------+--------+-------+\n",
      "|    marque|           nom|puissance|   longueur|nbplaces|nbportes|couleur|occasion|   prix|\n",
      "+----------+--------------+---------+-----------+--------+--------+-------+--------+-------+\n",
      "|     Volvo|        S80 T6|      272|tr�s longue|       5|       5|  blanc|   false|50500.0|\n",
      "|     Volvo|        S80 T6|      272|tr�s longue|       5|       5|   noir|   false|50500.0|\n",
      "|     Volvo|        S80 T6|      272|tr�s longue|       5|       5|  rouge|   false|50500.0|\n",
      "|     Volvo|        S80 T6|      272|tr�s longue|       5|       5|   gris|    true|35350.0|\n",
      "|     Volvo|        S80 T6|      272|tr�s longue|       5|       5|   bleu|    true|35350.0|\n",
      "|     Volvo|        S80 T6|      272|tr�s longue|       5|       5|   gris|   false|50500.0|\n",
      "|     Volvo|        S80 T6|      272|tr�s longue|       5|       5|   bleu|   false|50500.0|\n",
      "|     Volvo|        S80 T6|      272|tr�s longue|       5|       5|  rouge|    true|35350.0|\n",
      "|     Volvo|        S80 T6|      272|tr�s longue|       5|       5|  blanc|    true|35350.0|\n",
      "|     Volvo|        S80 T6|      272|tr�s longue|       5|       5|   noir|    true|35350.0|\n",
      "|Volkswagen|Touran 2.0 FSI|      150|     longue|       7|       5|  rouge|   false|27340.0|\n",
      "|Volkswagen|Touran 2.0 FSI|      150|     longue|       7|       5|   gris|    true|19138.0|\n",
      "|Volkswagen|Touran 2.0 FSI|      150|     longue|       7|       5|   bleu|    true|19138.0|\n",
      "|Volkswagen|Touran 2.0 FSI|      150|     longue|       7|       5|   gris|   false|27340.0|\n",
      "|Volkswagen|Touran 2.0 FSI|      150|     longue|       7|       5|   bleu|   false|27340.0|\n",
      "|Volkswagen|Touran 2.0 FSI|      150|     longue|       7|       5|  blanc|    true|19138.0|\n",
      "|Volkswagen|Touran 2.0 FSI|      150|     longue|       7|       5|   noir|    true|19138.0|\n",
      "|Volkswagen|Touran 2.0 FSI|      150|     longue|       7|       5|  rouge|    true|19138.0|\n",
      "|Volkswagen|Touran 2.0 FSI|      150|     longue|       7|       5|  blanc|   false|27340.0|\n",
      "|Volkswagen|Touran 2.0 FSI|      150|     longue|       7|       5|   noir|   false|27340.0|\n",
      "+----------+--------------+---------+-----------+--------+--------+-------+--------+-------+\n",
      "only showing top 20 rows\n",
      "\n"
     ]
    }
   ],
   "source": [
    "df_co2.show()\n",
    "df_catalogue.show()"
   ]
  },
  {
   "cell_type": "markdown",
   "id": "9e2374f4-958a-46c3-9fc9-d6dc00ca1206",
   "metadata": {},
   "source": [
    "### Remarque 001\n",
    "\n",
    "- **co2** dispose de marque et modele dans la meme colone\n",
    "- La colone **nom** du catalogue n'est pas nommée **modele** dans **co2**\n",
    "- La colone **modele** dans les 2 tableaux n'ont pas la meme casse.\n",
    "- La colone **marque** dans les 2 tableaux n'ont pas la meme casse.\n",
    "- Le signe **€** est mentionné dans la colone **bonus_malus** de co2.\n",
    "- Le signe **€** est mentionné dans la colone **cout_energie** de co2.\n",
    "- Le chiffre 1 peut apparaitre après le signe **€** dans la colone **bonus_malus** de co2.\n",
    "- Le symbole \"�\" apparaît dans la colonne **longueur**.\n"
   ]
  },
  {
   "cell_type": "code",
   "execution_count": 5,
   "id": "945b82f8-bc0b-4bc8-ba91-b45cee93fa67",
   "metadata": {},
   "outputs": [],
   "source": [
    "# co2 dispose de marque et modele dans la meme colone\n",
    "df_co2 = df_co2.withColumn(\"marque\", split(df_co2[\"marque_modele\"], \" \", 2).getItem(0))\n",
    "df_co2 = df_co2.withColumn(\"modele\", split(df_co2[\"marque_modele\"], \" \", 2).getItem(1))\n",
    "df_co2 = df_co2.drop('marque_modele')\n",
    "\n",
    "# La colone **nom** du catalogue n'est pas nommée **modele** dans dans **co2**\n",
    "df_catalogue = df_catalogue.withColumnRenamed(\"nom\", \"modele\")\n",
    "\n",
    "# La colone modele dans les 2 tableaux n’ont pas la meme casse.\n",
    "df_co2 = df_co2.withColumn(\"marque\", lower(trim(col(\"marque\"))))\n",
    "df_catalogue = df_catalogue.withColumn(\"marque\", lower(trim(col(\"marque\"))))\n",
    "\n",
    "# La colone modele dans les 2 tableaux n’ont pas la meme casse.\n",
    "df_co2 = df_co2.withColumn(\"modele\", lower(trim(col(\"modele\"))))\n",
    "df_catalogue = df_catalogue.withColumn(\"modele\", lower(trim(col(\"modele\"))))\n",
    "\n",
    "# Le signe € est mentionné dans la colone bonus_malus de co2.\n",
    "df_co2 = df_co2.withColumn(\"bonus_malus\", split(trim(df_co2[\"bonus_malus\"]), \"€\").getItem(0))\n",
    "# Le signe € est mentionné dans la colone cout_energie de co2.\n",
    "df_co2 = df_co2.withColumn(\"cout_energie\", split(trim(df_co2[\"cout_energie\"]), \"€\").getItem(0))\n",
    "\n",
    "# Le chiffre 1 peut apparaitre après le signe € dans la colone bonus_malus de co2.\n",
    "df_co2 = df_co2.withColumn(\"bonus_malus\", regexp_replace(trim(df_co2[\"bonus_malus\"]), \"[^0-9-]\", \"\").cast(\"float\"))\n",
    "\n",
    "#Le symbole \"�\" apparaît dans la colonne longueur.\n",
    "df_catalogue = df_catalogue.withColumn(\"longueur\", regexp_replace(col(\"longueur\"), \"�\", \"e\"))\n",
    "\n"
   ]
  },
  {
   "cell_type": "code",
   "execution_count": 6,
   "id": "11c98e08-cdfb-468e-8528-fdf898336bd9",
   "metadata": {},
   "outputs": [
    {
     "name": "stdout",
     "output_type": "stream",
     "text": [
      "+-----------+----------+------------+----------+--------------------+\n",
      "|bonus_malus|rejets_co2|cout_energie|    marque|              modele|\n",
      "+-----------+----------+------------+----------+--------------------+\n",
      "|    -6000.0|       0.0|        491 |   citroen|              c-zero|\n",
      "|     8753.0|     200.0|        799 |  mercedes|sprinter combi 31...|\n",
      "|       null|      31.0|         56 |volkswagen|passat sw 1.4 tsi...|\n",
      "|    -6000.0|       0.0|        175 |     smart|          eq forfour|\n",
      "|       null|      84.0|        102 |   bentley|     bentayga hybrid|\n",
      "|    -6000.0|       0.0|        175 |     smart|eq fortwo cabrio ...|\n",
      "|    -6000.0|       0.0|        213 |     smart|eq forfour 7 kw m...|\n",
      "|       null|      49.0|        105 |      audi|q5 50 tfsi e (299...|\n",
      "|     8753.0|     255.0|        988 |  mercedes|sprinter combi 31...|\n",
      "|     8753.0|     200.0|        799 |  mercedes|sprinter combi 31...|\n",
      "|    -6000.0|       0.0|        214 |       kia|soul moteur ã©lec...|\n",
      "|    -6000.0|       0.0|        411 |  mercedes|vito tourer long ...|\n",
      "|     8753.0|     262.0|        999 |  mercedes|sprinter combi 31...|\n",
      "|    -6000.0|       0.0|        213 |     smart|eq forfour 22 kw ...|\n",
      "|    -6000.0|       0.0|        247 |     tesla|     model s (169kw)|\n",
      "|     8753.0|     255.0|        988 |  mercedes|sprinter combi 31...|\n",
      "|    -6000.0|       0.0|        199 |      mini|mini cooper se ha...|\n",
      "|       null|      31.0|         56 |volkswagen|passat 1.4 tsi + ...|\n",
      "|    -6000.0|       0.0|        241 |   peugeot|ion electrique (6...|\n",
      "|       null|      40.0|         98 |mitsubishi|outlander phev in...|\n",
      "+-----------+----------+------------+----------+--------------------+\n",
      "only showing top 20 rows\n",
      "\n",
      "+----------+--------------+---------+-----------+--------+--------+-------+--------+-------+\n",
      "|    marque|        modele|puissance|   longueur|nbplaces|nbportes|couleur|occasion|   prix|\n",
      "+----------+--------------+---------+-----------+--------+--------+-------+--------+-------+\n",
      "|     volvo|        s80 t6|      272|tres longue|       5|       5|  blanc|   false|50500.0|\n",
      "|     volvo|        s80 t6|      272|tres longue|       5|       5|   noir|   false|50500.0|\n",
      "|     volvo|        s80 t6|      272|tres longue|       5|       5|  rouge|   false|50500.0|\n",
      "|     volvo|        s80 t6|      272|tres longue|       5|       5|   gris|    true|35350.0|\n",
      "|     volvo|        s80 t6|      272|tres longue|       5|       5|   bleu|    true|35350.0|\n",
      "|     volvo|        s80 t6|      272|tres longue|       5|       5|   gris|   false|50500.0|\n",
      "|     volvo|        s80 t6|      272|tres longue|       5|       5|   bleu|   false|50500.0|\n",
      "|     volvo|        s80 t6|      272|tres longue|       5|       5|  rouge|    true|35350.0|\n",
      "|     volvo|        s80 t6|      272|tres longue|       5|       5|  blanc|    true|35350.0|\n",
      "|     volvo|        s80 t6|      272|tres longue|       5|       5|   noir|    true|35350.0|\n",
      "|volkswagen|touran 2.0 fsi|      150|     longue|       7|       5|  rouge|   false|27340.0|\n",
      "|volkswagen|touran 2.0 fsi|      150|     longue|       7|       5|   gris|    true|19138.0|\n",
      "|volkswagen|touran 2.0 fsi|      150|     longue|       7|       5|   bleu|    true|19138.0|\n",
      "|volkswagen|touran 2.0 fsi|      150|     longue|       7|       5|   gris|   false|27340.0|\n",
      "|volkswagen|touran 2.0 fsi|      150|     longue|       7|       5|   bleu|   false|27340.0|\n",
      "|volkswagen|touran 2.0 fsi|      150|     longue|       7|       5|  blanc|    true|19138.0|\n",
      "|volkswagen|touran 2.0 fsi|      150|     longue|       7|       5|   noir|    true|19138.0|\n",
      "|volkswagen|touran 2.0 fsi|      150|     longue|       7|       5|  rouge|    true|19138.0|\n",
      "|volkswagen|touran 2.0 fsi|      150|     longue|       7|       5|  blanc|   false|27340.0|\n",
      "|volkswagen|touran 2.0 fsi|      150|     longue|       7|       5|   noir|   false|27340.0|\n",
      "+----------+--------------+---------+-----------+--------+--------+-------+--------+-------+\n",
      "only showing top 20 rows\n",
      "\n"
     ]
    }
   ],
   "source": [
    "df_co2.show()\n",
    "df_catalogue.show()"
   ]
  },
  {
   "cell_type": "markdown",
   "id": "91515def-af48-46cb-9c69-9d001756bcbe",
   "metadata": {},
   "source": [
    "### Remarque 002\n",
    "\n",
    "- Recherche d'éventuel autre \"�\".\n",
    "- Correction suivant résultat des recherches de \"�\""
   ]
  },
  {
   "cell_type": "code",
   "execution_count": 7,
   "id": "2fba0124-0445-417c-b412-50f46da4842f",
   "metadata": {},
   "outputs": [
    {
     "name": "stdout",
     "output_type": "stream",
     "text": [
      "+-------+----------+---------+--------+--------+--------+-------+--------+-------+\n",
      "| marque|    modele|puissance|longueur|nbplaces|nbportes|couleur|occasion|   prix|\n",
      "+-------+----------+---------+--------+--------+--------+-------+--------+-------+\n",
      "|hyunda�|matrix 1.6|      103|  longue|       7|       5|   bleu|   false|15960.0|\n",
      "|hyunda�|matrix 1.6|      103|  longue|       7|       5|  blanc|   false|15960.0|\n",
      "|hyunda�|matrix 1.6|      103|  longue|       7|       5|   gris|   false|15960.0|\n",
      "|hyunda�|matrix 1.6|      103|  longue|       7|       5|   noir|   false|15960.0|\n",
      "|hyunda�|matrix 1.6|      103|  longue|       7|       5|  rouge|   false|15960.0|\n",
      "+-------+----------+---------+--------+--------+--------+-------+--------+-------+\n",
      "\n",
      "+-----------+----------+------------+------+------+\n",
      "|bonus_malus|rejets_co2|cout_energie|marque|modele|\n",
      "+-----------+----------+------------+------+------+\n",
      "+-----------+----------+------------+------+------+\n",
      "\n"
     ]
    }
   ],
   "source": [
    "#Recherche d'éventuel autre \"�\".\n",
    "df_search_special_char_catalogue = df_catalogue.filter(\n",
    "    col(\"marque\").like(\"%�%\") | \n",
    "    col(\"modele\").like(\"%�%\") | \n",
    "    col(\"couleur\").like(\"%�%\") | \n",
    "    col(\"longueur\").like(\"%�%\")\n",
    ")\n",
    "\n",
    "df_search_special_char_co2 = df_co2.filter(\n",
    "    col(\"marque\").like(\"%�%\") | \n",
    "    col(\"modele\").like(\"%�%\") \n",
    ")\n",
    "\n",
    "\n",
    "df_search_special_char_catalogue.show()\n",
    "df_search_special_char_co2.show()\n"
   ]
  },
  {
   "cell_type": "code",
   "execution_count": 8,
   "id": "557d319d-e63e-4eb7-b8e4-ff04bfd1ea4f",
   "metadata": {},
   "outputs": [
    {
     "name": "stderr",
     "output_type": "stream",
     "text": [
      "                                                                                \r"
     ]
    },
    {
     "name": "stdout",
     "output_type": "stream",
     "text": [
      "+----------------+---------------+--------+\n",
      "|marque_catalogue|marque_correcte|distance|\n",
      "+----------------+---------------+--------+\n",
      "|audi            |audi           |0       |\n",
      "|bmw             |bmw            |0       |\n",
      "|fiat            |kia            |2       |\n",
      "|hyunda�         |hyundai        |1       |\n",
      "|jaguar          |jaguar         |0       |\n",
      "|kia             |kia            |0       |\n",
      "|mercedes        |mercedes       |0       |\n",
      "|mini            |mini           |0       |\n",
      "|nissan          |nissan         |0       |\n",
      "|peugeot         |peugeot        |0       |\n",
      "|renault         |renault        |0       |\n",
      "|seat            |smart          |2       |\n",
      "|skoda           |skoda          |0       |\n",
      "|volkswagen      |volkswagen     |0       |\n",
      "|volvo           |volvo          |0       |\n",
      "+----------------+---------------+--------+\n",
      "\n"
     ]
    },
    {
     "ename": "NameError",
     "evalue": "name 'coalesce' is not defined",
     "output_type": "error",
     "traceback": [
      "\u001b[0;31m---------------------------------------------------------------------------\u001b[0m",
      "\u001b[0;31mNameError\u001b[0m                                 Traceback (most recent call last)",
      "\u001b[0;32m/tmp/ipykernel_9879/503736028.py\u001b[0m in \u001b[0;36m<module>\u001b[0;34m\u001b[0m\n\u001b[1;32m     42\u001b[0m df_catalogue_corrected = df_catalogue_corrected.withColumn(\n\u001b[1;32m     43\u001b[0m     \u001b[0;34m'marque'\u001b[0m\u001b[0;34m,\u001b[0m\u001b[0;34m\u001b[0m\u001b[0;34m\u001b[0m\u001b[0m\n\u001b[0;32m---> 44\u001b[0;31m     \u001b[0mcoalesce\u001b[0m\u001b[0;34m(\u001b[0m\u001b[0mcol\u001b[0m\u001b[0;34m(\u001b[0m\u001b[0;34m'marque_correcte'\u001b[0m\u001b[0;34m)\u001b[0m\u001b[0;34m,\u001b[0m \u001b[0mcol\u001b[0m\u001b[0;34m(\u001b[0m\u001b[0;34m'marque'\u001b[0m\u001b[0;34m)\u001b[0m\u001b[0;34m)\u001b[0m\u001b[0;34m\u001b[0m\u001b[0;34m\u001b[0m\u001b[0m\n\u001b[0m\u001b[1;32m     45\u001b[0m )\n\u001b[1;32m     46\u001b[0m \u001b[0;34m\u001b[0m\u001b[0m\n",
      "\u001b[0;31mNameError\u001b[0m: name 'coalesce' is not defined"
     ]
    }
   ],
   "source": [
    "# Étape 1: Extraire les marques correctes de df_co2\n",
    "marques_correctes_df = df_co2.select('marque').distinct().alias('marques_correctes')\n",
    "\n",
    "# Étape 2: Extraire les marques du catalogue\n",
    "marques_catalogue_df = df_catalogue.select('marque').distinct().alias('marques_catalogue')\n",
    "\n",
    "# Étape 3: Créer le mapping des marques\n",
    "df_cross = marques_catalogue_df.crossJoin(broadcast(marques_correctes_df))\n",
    "\n",
    "df_cross = df_cross.withColumn('distance', levenshtein(col('marques_catalogue.marque'), col('marques_correctes.marque')))\n",
    "\n",
    "window = Window.partitionBy('marques_catalogue.marque').orderBy(col('distance'))\n",
    "df_min_distance = df_cross.withColumn('rn', row_number().over(window)).filter(col('rn') == 1)\n",
    "\n",
    "marque_mapping = df_min_distance.select(\n",
    "    col('marques_catalogue.marque').alias('marque_catalogue'),\n",
    "    col('marques_correctes.marque').alias('marque_correcte'),\n",
    "    'distance'\n",
    ").filter(col('distance') <= 2)\n",
    "\n",
    "# Étape 4: Appliquer le mapping à df_catalogue\n",
    "df_catalogue_corrected = df_catalogue.join(\n",
    "    marque_mapping,\n",
    "    df_catalogue.marque == marque_mapping.marque_catalogue,\n",
    "    how='left'\n",
    ")\n",
    "\n",
    "df_catalogue_corrected = df_catalogue_corrected.withColumn(\n",
    "    'marque',\n",
    "    coalesce(col('marque_correcte'), col('marque'))\n",
    ").drop('marque_catalogue', 'marque_correcte', 'distance')\n",
    "\n",
    "# Vérification du résultat\n",
    "df_catalogue_corrected.printSchema()\n",
    "df_catalogue_corrected.show(n=20, truncate=False)\n",
    "\n",
    "# Optionnel : Remplacer df_catalogue par le DataFrame corrigé\n",
    "df_catalogue = df_catalogue_corrected"
   ]
  },
  {
   "cell_type": "code",
   "execution_count": null,
   "id": "9e8b63e0-6402-4813-87b8-29689a0385a5",
   "metadata": {},
   "outputs": [],
   "source": [
    "marques_count_catalogue = df_catalogue.groupBy(\"marque\").count()\n",
    "marques_count_co2 = df_co2.groupBy(\"marque\").count()\n",
    "\n",
    "marques_count_catalogue = marques_count_catalogue.withColumnRenamed(\"count\", \"count_catalogue\")\n",
    "marques_count_co2 = marques_count_co2.withColumnRenamed(\"count\", \"count_co2\")\n",
    "\n",
    "marques_count_joined = marques_count_catalogue.join(\n",
    "    marques_count_co2,\n",
    "    on=\"marque\",\n",
    "    how=\"outer\"  # Utilise \"left\", \"right\", ou \"outer\" si nécessaire\n",
    ").select(\n",
    "    \"marque\",\n",
    "    F.col(\"count_catalogue\"),\n",
    "    F.col(\"count_co2\")\n",
    ")\n",
    "\n",
    "marques_count_joined = marques_count_joined.fillna(0, subset=[\"count_catalogue\", \"count_co2\"])\n",
    "\n",
    "\n",
    "marques_count_joined.show(n=1000)"
   ]
  },
  {
   "cell_type": "code",
   "execution_count": null,
   "id": "c27b6e75-fcf0-471a-9a72-d28bea848b7e",
   "metadata": {},
   "outputs": [],
   "source": [
    "modele_count_catalogue = df_catalogue.groupBy(\"modele\").count()\n",
    "modele_count_co2 = df_co2.groupBy(\"modele\").count()\n",
    "\n",
    "modele_count_catalogue = modele_count_catalogue.withColumnRenamed(\"count\", \"count_catalogue\")\n",
    "modele_count_co2 = modele_count_co2.withColumnRenamed(\"count\", \"count_co2\")\n",
    "\n",
    "modele_count_joined = modele_count_catalogue.join(\n",
    "    modele_count_co2,\n",
    "    on=\"modele\",\n",
    "    how=\"outer\"  # Utilise \"left\", \"right\", ou \"outer\" si nécessaire\n",
    ").select(\n",
    "    \"modele\",\n",
    "    F.col(\"count_catalogue\"),\n",
    "    F.col(\"count_co2\")\n",
    ")\n",
    "\n",
    "modele_count_joined_match = modele_count_catalogue.join(\n",
    "    modele_count_co2,\n",
    "    on=\"modele\",\n",
    "    how=\"inner\"  # Utilise \"left\", \"right\", ou \"outer\" si nécessaire\n",
    ").select(\n",
    "    \"modele\",\n",
    "    F.col(\"count_catalogue\"),\n",
    "    F.col(\"count_co2\")\n",
    ")\n",
    "\n",
    "modele_count_joined = modele_count_joined.fillna(0, subset=[\"count_catalogue\", \"count_co2\"])\n",
    "\n",
    "\n",
    "modele_count_joined.show(n=1000, truncate=False)\n",
    "modele_count_joined_match.show(n=1000, truncate=False)"
   ]
  },
  {
   "cell_type": "code",
   "execution_count": null,
   "id": "b3fe88c1-c47a-4b01-83e5-5133231ec1ee",
   "metadata": {},
   "outputs": [],
   "source": [
    "df_normalized = marques_count_joined.withColumn(\"marque_normalisee\", lower(regexp_replace(\"marque\", \"ï\", \"i\")))\n",
    "df_normalized.show(n=1000)"
   ]
  },
  {
   "cell_type": "code",
   "execution_count": null,
   "id": "75110427-0d53-4ea9-af60-ddb15e7ae8f7",
   "metadata": {},
   "outputs": [],
   "source": []
  }
 ],
 "metadata": {
  "kernelspec": {
   "display_name": "Python 3 (ipykernel)",
   "language": "python",
   "name": "python3"
  },
  "language_info": {
   "codemirror_mode": {
    "name": "ipython",
    "version": 3
   },
   "file_extension": ".py",
   "mimetype": "text/x-python",
   "name": "python",
   "nbconvert_exporter": "python",
   "pygments_lexer": "ipython3",
   "version": "3.9.7"
  }
 },
 "nbformat": 4,
 "nbformat_minor": 5
}
