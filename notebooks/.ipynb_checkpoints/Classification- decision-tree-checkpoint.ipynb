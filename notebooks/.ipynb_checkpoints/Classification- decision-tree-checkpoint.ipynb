{
 "cells": [
  {
   "cell_type": "code",
   "execution_count": 1,
   "id": "60e87f6c-bf62-41db-bab7-147ef6ecda50",
   "metadata": {},
   "outputs": [],
   "source": [
    "from pyspark.sql import SparkSession\n",
    "from pyspark.sql.functions import col, when, sum, count, avg, round, udf, corr"
   ]
  },
  {
   "cell_type": "code",
   "execution_count": 2,
   "id": "ceaa18b5-0760-455f-bbcd-b47e5545dcf5",
   "metadata": {},
   "outputs": [],
   "source": [
<<<<<<< Updated upstream
    "from pyspark.ml.feature import VectorAssembler, StringIndexer,OneHotEncoder\n",
    "from pyspark.ml.classification import RandomForestClassifier\n",
=======
    "from pyspark.ml.feature import VectorAssembler, StringIndexer, OneHotEncoder\n",
    "from pyspark.ml.tuning import CrossValidator, ParamGridBuilder\n",
    "from pyspark.ml.classification import DecisionTreeClassifier\n",
>>>>>>> Stashed changes
    "from pyspark.ml.evaluation import MulticlassClassificationEvaluator"
   ]
  },
  {
   "cell_type": "code",
   "execution_count": 3,
   "id": "7d60c5fe-8ffb-4c38-94c2-ee5bc2017bcd",
   "metadata": {},
   "outputs": [
    {
     "name": "stderr",
     "output_type": "stream",
     "text": [
      "WARNING: An illegal reflective access operation has occurred\n",
      "WARNING: Illegal reflective access by org.apache.spark.unsafe.Platform (file:/usr/local/spark-3.2.0-bin-hadoop3.2/jars/spark-unsafe_2.12-3.2.0.jar) to constructor java.nio.DirectByteBuffer(long,int)\n",
      "WARNING: Please consider reporting this to the maintainers of org.apache.spark.unsafe.Platform\n",
      "WARNING: Use --illegal-access=warn to enable warnings of further illegal reflective access operations\n",
      "WARNING: All illegal access operations will be denied in a future release\n",
      "Using Spark's default log4j profile: org/apache/spark/log4j-defaults.properties\n",
      "Setting default log level to \"WARN\".\n",
      "To adjust logging level use sc.setLogLevel(newLevel). For SparkR, use setLogLevel(newLevel).\n",
<<<<<<< Updated upstream
      "24/11/18 16:22:51 WARN NativeCodeLoader: Unable to load native-hadoop library for your platform... using builtin-java classes where applicable\n"
=======
      "24/11/19 14:06:01 WARN NativeCodeLoader: Unable to load native-hadoop library for your platform... using builtin-java classes where applicable\n"
>>>>>>> Stashed changes
     ]
    },
    {
     "data": {
      "text/plain": [
       "DataFrame[]"
      ]
     },
     "execution_count": 3,
     "metadata": {},
     "output_type": "execute_result"
    }
   ],
   "source": [
    "spark = SparkSession.builder\\\n",
<<<<<<< Updated upstream
    "    .appName(\"Préparation de données\")\\\n",
    "    .enableHiveSupport()\\\n",
=======
    "    .appName(\"My Spark App\") \\\n",
    "    .enableHiveSupport() \\\n",
>>>>>>> Stashed changes
    "    .getOrCreate()\n",
    "\n",
    "spark.sparkContext.setLogLevel(\"OFF\")\n",
    "spark.catalog.clearCache()\n",
    "spark.sql(\"USE concessionnaire\")"
   ]
  },
  {
   "cell_type": "code",
   "execution_count": 4,
   "id": "3e7a73f4-1730-4c16-8d65-ce25846f0a8b",
   "metadata": {},
   "outputs": [],
   "source": [
    "df_client_immat = spark.sql(\"SELECT * FROM clients_immatriculations\")"
   ]
  },
  {
   "cell_type": "code",
   "execution_count": 5,
   "id": "7e16fee0-5b34-44f8-9a1e-cb7b3a91d9a6",
   "metadata": {},
   "outputs": [
    {
     "name": "stdout",
     "output_type": "stream",
     "text": [
      "root\n",
      " |-- immatriculation: string (nullable = true)\n",
      " |-- age: double (nullable = true)\n",
      " |-- sexe: string (nullable = true)\n",
      " |-- taux: double (nullable = true)\n",
      " |-- situationfamiliale: string (nullable = true)\n",
      " |-- nbenfantacharge: integer (nullable = true)\n",
      " |-- deuxiemevoiture: boolean (nullable = true)\n",
      " |-- taux_eligible: boolean (nullable = true)\n",
      " |-- marque: string (nullable = true)\n",
      " |-- modele: string (nullable = true)\n",
      " |-- puissance: integer (nullable = true)\n",
      " |-- longueur: string (nullable = true)\n",
      " |-- nbplaces: integer (nullable = true)\n",
      " |-- nbportes: integer (nullable = true)\n",
      " |-- couleur: string (nullable = true)\n",
      " |-- occasion: boolean (nullable = true)\n",
      " |-- prix: integer (nullable = true)\n",
      " |-- categorie: string (nullable = true)\n",
      "\n"
     ]
    }
   ],
   "source": [
    "df_client_immat.printSchema()"
   ]
  },
  {
   "cell_type": "markdown",
   "id": "5bf174c4-fd3c-459a-ac03-6af26317209e",
   "metadata": {},
   "source": [
    "## Vérification des données :"
   ]
  },
  {
   "cell_type": "markdown",
   "id": "90b5e44f-5fdb-404f-9cd7-8bb6f18062b3",
   "metadata": {},
   "source": [
    "- Vérification des doublons."
   ]
  },
  {
   "cell_type": "code",
   "execution_count": 6,
   "id": "ea1f8bd7-ffa9-42b2-8502-f26ed0c0683f",
   "metadata": {},
   "outputs": [
    {
     "name": "stderr",
     "output_type": "stream",
     "text": [
      "                                                                                \r"
     ]
    },
    {
     "data": {
      "text/plain": [
       "0"
      ]
     },
     "execution_count": 6,
     "metadata": {},
     "output_type": "execute_result"
    }
   ],
   "source": [
    "#Compter les doublons\n",
    "df_duplicates = (\n",
    "    df_client_immat.groupBy(\"immatriculation\")\n",
    "    .agg(count(\"*\").alias(\"count\"))\n",
    "    .filter(col(\"count\") > 1)  # Filtrer les doublons (où le compte est > 1)\n",
    ")\n",
    "\n",
    "# Afficher les résultats\n",
    "df_duplicates.count()"
   ]
  },
  {
   "cell_type": "markdown",
   "id": "3e028553-7a69-4931-9fe9-89ab6ed9b9ad",
   "metadata": {},
   "source": [
    "- Vérification des nulls."
   ]
  },
  {
   "cell_type": "code",
   "execution_count": 7,
   "id": "a5008f41-f279-44de-bbad-f18fdae898e8",
   "metadata": {},
   "outputs": [
    {
     "name": "stderr",
     "output_type": "stream",
     "text": [
<<<<<<< Updated upstream
      "[Stage 6:==================================================>        (6 + 1) / 7]\r"
=======
      "[Stage 6:==========================================>                (5 + 2) / 7]\r"
>>>>>>> Stashed changes
     ]
    },
    {
     "name": "stdout",
     "output_type": "stream",
     "text": [
      "+---------------+---+----+----+------------------+---------------+---------------+-------------+------+------+---------+--------+--------+--------+-------+--------+----+---------+\n",
      "|immatriculation|age|sexe|taux|situationfamiliale|nbenfantacharge|deuxiemevoiture|taux_eligible|marque|modele|puissance|longueur|nbplaces|nbportes|couleur|occasion|prix|categorie|\n",
      "+---------------+---+----+----+------------------+---------------+---------------+-------------+------+------+---------+--------+--------+--------+-------+--------+----+---------+\n",
      "|              0|  0|   0|   0|                 0|              0|              0|            0|     0|     0|        0|       0|       0|       0|      0|       0|   0|        0|\n",
      "+---------------+---+----+----+------------------+---------------+---------------+-------------+------+------+---------+--------+--------+--------+-------+--------+----+---------+\n",
      "\n"
     ]
    },
    {
     "name": "stderr",
     "output_type": "stream",
     "text": [
      "                                                                                \r"
     ]
    }
   ],
   "source": [
    "# Calculer le nombre de nulls pour chaque colonne\n",
    "null_counts = df_client_immat.select(\n",
    "    [sum(col(c).isNull().cast(\"int\")).alias(c) for c in [\n",
    "        \"immatriculation\", \"age\", \"sexe\", \"taux\", \"situationfamiliale\",\n",
    "        \"nbenfantacharge\", \"deuxiemevoiture\", \"taux_eligible\", \"marque\",\n",
    "        \"modele\", \"puissance\", \"longueur\", \"nbplaces\", \"nbportes\",\n",
    "        \"couleur\", \"occasion\", \"prix\", \"categorie\"\n",
    "    ]]\n",
    ")\n",
    "\n",
    "# Afficher les nulls par colonne\n",
    "null_counts.show()"
   ]
  },
  {
   "cell_type": "markdown",
   "id": "6eecc87d-708e-4c15-9352-d47fa91f9a59",
   "metadata": {},
   "source": [
    "## Retrait des colonne non nécessaires"
   ]
  },
  {
   "cell_type": "code",
   "execution_count": 8,
   "id": "ff4454bb-5634-4726-aa8f-00ac92a55ea6",
   "metadata": {},
   "outputs": [],
   "source": [
<<<<<<< Updated upstream
    "df_client_immat = df_client_immat.drop('immatriculation') \n",
    "df_client_immat = df_client_immat.drop('marque') \n",
    "df_client_immat = df_client_immat.drop('modele') \n",
    "df_client_immat = df_client_immat.drop('puissance') \n",
    "df_client_immat = df_client_immat.drop('longueur') \n",
    "df_client_immat = df_client_immat.drop('nbplaces') \n",
    "df_client_immat = df_client_immat.drop('nbportes') \n",
    "df_client_immat = df_client_immat.drop('couleur') \n",
    "df_client_immat = df_client_immat.drop('occasion') \n",
    "df_client_immat = df_client_immat.drop('prix') "
=======
    "columns_to_drop = [\n",
    "    'immatriculation', 'marque', 'modele', 'puissance', 'longueur',\n",
    "    'nbplaces', 'nbportes', 'couleur', 'occasion', 'prix'\n",
    "]\n",
    "df_client_immat = df_client_immat.drop(*columns_to_drop)"
>>>>>>> Stashed changes
   ]
  },
  {
   "cell_type": "code",
   "execution_count": 9,
   "id": "f9b69fe4-4084-4d44-9e3d-5cce3fe46b6e",
   "metadata": {},
   "outputs": [
    {
     "name": "stdout",
     "output_type": "stream",
     "text": [
      "root\n",
      " |-- age: double (nullable = true)\n",
      " |-- sexe: string (nullable = true)\n",
      " |-- taux: double (nullable = true)\n",
      " |-- situationfamiliale: string (nullable = true)\n",
      " |-- nbenfantacharge: integer (nullable = true)\n",
      " |-- deuxiemevoiture: boolean (nullable = true)\n",
      " |-- taux_eligible: boolean (nullable = true)\n",
      " |-- categorie: string (nullable = true)\n",
      "\n"
     ]
    }
   ],
   "source": [
    "df_client_immat.printSchema()"
   ]
  },
  {
   "cell_type": "markdown",
   "id": "2138ed3b-99e0-4680-864f-001d08c20a0c",
   "metadata": {},
   "source": [
    "## Encodage"
   ]
  },
  {
   "cell_type": "code",
   "execution_count": 10,
   "id": "76b8fc2a-8c3d-4def-8081-6d842fb46e0b",
   "metadata": {},
   "outputs": [
    {
     "name": "stderr",
     "output_type": "stream",
     "text": [
      "                                                                                \r"
     ]
    }
   ],
   "source": [
<<<<<<< Updated upstream
    "indexer_sexe = StringIndexer(inputCol=\"sexe\", outputCol=\"sexe_index\")\n",
    "indexer_sexe = indexer_sexe.fit(df_client_immat)\n",
    "df_client_immat = indexer_sexe.transform(df_client_immat)\n",
    "\n",
    "encoder_sexe = OneHotEncoder(inputCol=\"sexe_index\", outputCol=\"sexe_encoded\")\n",
    "df_client_immat = encoder_sexe.fit(df_client_immat).transform(df_client_immat)"
=======
    "indexer_sexe = StringIndexer(inputCol=\"sexe\", outputCol=\"sexe_index\").fit(df_client_immat)\n",
    "df_client_immat = indexer_sexe.transform(df_client_immat)\n",
    "\n",
    "encoder_sexe = OneHotEncoder(inputCol=\"sexe_index\", outputCol=\"sexe_encoded\").fit(df_client_immat)\n",
    "df_client_immat = encoder_sexe.transform(df_client_immat)\n",
    "\n",
    "indexer_categorie = StringIndexer(inputCol=\"categorie\", outputCol=\"label\").fit(df_client_immat)\n",
    "df_client_immat = indexer_categorie.transform(df_client_immat)"
>>>>>>> Stashed changes
   ]
  },
  {
   "cell_type": "code",
   "execution_count": 11,
   "id": "8b2fafa6-d121-4abe-8ca2-b8e861936c00",
   "metadata": {},
   "outputs": [
    {
     "name": "stderr",
     "output_type": "stream",
     "text": [
      "                                                                                \r"
     ]
    }
   ],
   "source": [
<<<<<<< Updated upstream
    "indexer_situationfamiliale = StringIndexer(inputCol=\"situationfamiliale\", outputCol=\"situationfamiliale_index\")\n",
    "indexer_situationfamiliale = indexer_situationfamiliale.fit(df_client_immat)\n",
    "df_client_immat = indexer_situationfamiliale.transform(df_client_immat)\n",
    "\n",
    "encoder_situationfamiliale = OneHotEncoder(inputCol=\"situationfamiliale_index\", outputCol=\"situationfamiliale_encoded\")\n",
    "df_client_immat = encoder_situationfamiliale.fit(df_client_immat).transform(df_client_immat)"
=======
    "indexer_situationfamiliale = StringIndexer(inputCol=\"situationfamiliale\", outputCol=\"situationfamiliale_index\").fit(df_client_immat)\n",
    "df_client_immat = indexer_situationfamiliale.transform(df_client_immat)\n",
    "\n",
    "encoder_situationfamiliale = OneHotEncoder(inputCol=\"situationfamiliale_index\", outputCol=\"situationfamiliale_encoded\").fit(df_client_immat)\n",
    "df_client_immat = encoder_situationfamiliale.transform(df_client_immat)"
>>>>>>> Stashed changes
   ]
  },
  {
   "cell_type": "code",
<<<<<<< Updated upstream
   "execution_count": 15,
   "id": "50b10f99-79f6-44cb-a538-07a2396be530",
   "metadata": {},
   "outputs": [
    {
     "name": "stdout",
     "output_type": "stream",
     "text": [
      "+----+----+------+------------------+---------------+---------------+-------------+-------------------+----------+-------------+------------------------+------------------+\n",
      "| age|sexe|  taux|situationfamiliale|nbenfantacharge|deuxiemevoiture|taux_eligible|          categorie|sexe_index|         sexe|situationfamiliale_index|situationfamiliale|\n",
      "+----+----+------+------------------+---------------+---------------+-------------+-------------------+----------+-------------+------------------------+------------------+\n",
      "|61.0|   M| 188.0|       celibataire|              0|          false|        false|citadine economique|       0.0|(1,[0],[1.0])|                     1.0|     (3,[1],[1.0])|\n",
      "|50.0|   F| 460.0|         en couple|              3|          false|        false|      suv/crossover|       1.0|    (1,[],[])|                     0.0|     (3,[0],[1.0])|\n",
      "|54.0|   M| 403.0|       celibataire|              0|          false|        false|citadine economique|       0.0|(1,[0],[1.0])|                     1.0|     (3,[1],[1.0])|\n",
      "|74.0|   M| 531.0|         en couple|              4|           true|        false|      suv/crossover|       0.0|(1,[0],[1.0])|                     0.0|     (3,[0],[1.0])|\n",
      "|35.0|   M| 208.0|       celibataire|              0|          false|        false|          familiale|       0.0|(1,[0],[1.0])|                     1.0|     (3,[1],[1.0])|\n",
      "|66.0|   M| 960.0|         en couple|              1|          false|         true|      suv/crossover|       0.0|(1,[0],[1.0])|                     0.0|     (3,[0],[1.0])|\n",
      "|65.0|   F| 199.0|         en couple|              0|          false|        false|          familiale|       1.0|    (1,[],[])|                     0.0|     (3,[0],[1.0])|\n",
      "|67.0|   M|1072.0|         en couple|              0|          false|         true|      suv/crossover|       0.0|(1,[0],[1.0])|                     0.0|     (3,[0],[1.0])|\n",
      "|34.0|   M| 411.0|         en couple|              4|          false|        false|      suv/crossover|       0.0|(1,[0],[1.0])|                     0.0|     (3,[0],[1.0])|\n",
      "|51.0|   M|1281.0|         en couple|              2|          false|         true|      suv/crossover|       0.0|(1,[0],[1.0])|                     0.0|     (3,[0],[1.0])|\n",
      "|81.0|   M|1091.0|         en couple|              1|          false|         true|      suv/crossover|       0.0|(1,[0],[1.0])|                     0.0|     (3,[0],[1.0])|\n",
      "|28.0|   M| 583.0|       celibataire|              0|          false|         true|          familiale|       0.0|(1,[0],[1.0])|                     1.0|     (3,[1],[1.0])|\n",
      "|22.0|   F|1125.0|       celibataire|              3|          false|         true|      suv/crossover|       1.0|    (1,[],[])|                     1.0|     (3,[1],[1.0])|\n",
      "|48.0|   M| 991.0|         en couple|              4|          false|         true|      suv/crossover|       0.0|(1,[0],[1.0])|                     0.0|     (3,[0],[1.0])|\n",
      "|32.0|   F| 156.0|         en couple|              2|          false|        false|      suv/crossover|       1.0|    (1,[],[])|                     0.0|     (3,[0],[1.0])|\n",
      "|41.0|   M| 429.0|         en couple|              1|          false|        false|          familiale|       0.0|(1,[0],[1.0])|                     0.0|     (3,[0],[1.0])|\n",
      "|20.0|   M|1120.0|       celibataire|              3|          false|         true|      suv/crossover|       0.0|(1,[0],[1.0])|                     1.0|     (3,[1],[1.0])|\n",
      "|52.0|   F| 847.0|       celibataire|              0|          false|         true|citadine economique|       1.0|    (1,[],[])|                     1.0|     (3,[1],[1.0])|\n",
      "|66.0|   M| 236.0|         en couple|              4|          false|        false|              autre|       0.0|(1,[0],[1.0])|                     0.0|     (3,[0],[1.0])|\n",
      "|23.0|   M| 493.0|       celibataire|              0|          false|        false|          familiale|       0.0|(1,[0],[1.0])|                     1.0|     (3,[1],[1.0])|\n",
      "+----+----+------+------------------+---------------+---------------+-------------+-------------------+----------+-------------+------------------------+------------------+\n",
      "only showing top 20 rows\n",
      "\n"
     ]
    }
   ],
   "source": [
    "df_client_immat = df_client_immat.withColumnRenamed('sexe_encoded', 'sexe')\n",
    "df_client_immat = df_client_immat.withColumnRenamed('situationfamiliale_encoded', 'situationfamiliale')"
=======
   "execution_count": 12,
   "id": "50b10f99-79f6-44cb-a538-07a2396be530",
   "metadata": {},
   "outputs": [],
   "source": [
    "df_client_immat = df_client_immat.drop('situationfamiliale') \n",
    "df_client_immat = df_client_immat.drop('situationfamiliale_index')\n",
    "df_client_immat = df_client_immat.drop('categorie')\n",
    "df_client_immat = df_client_immat.drop('sexe') \n",
    "df_client_immat = df_client_immat.drop('sexe_index') \n",
    "\n",
    "df_client_immat = df_client_immat.withColumnRenamed('sexe_encoded', 'sexe')\n",
    "df_client_immat = df_client_immat.withColumnRenamed('situationfamiliale_encoded', 'situationfamiliale')\n",
    "df_client_immat = df_client_immat.withColumnRenamed('categorie_indexed', 'categorie')\n"
>>>>>>> Stashed changes
   ]
  },
  {
   "cell_type": "code",
<<<<<<< Updated upstream
   "execution_count": 19,
=======
   "execution_count": 13,
>>>>>>> Stashed changes
   "id": "ae97194c-ce22-4af1-a3a4-17c5c9a6dd61",
   "metadata": {},
   "outputs": [
    {
     "name": "stdout",
     "output_type": "stream",
     "text": [
<<<<<<< Updated upstream
      "+----+----+------+------------------+---------------+---------------+-------------+-------------------+----------+-------------+------------------------+------------------+\n",
      "| age|sexe|  taux|situationfamiliale|nbenfantacharge|deuxiemevoiture|taux_eligible|          categorie|sexe_index|         sexe|situationfamiliale_index|situationfamiliale|\n",
      "+----+----+------+------------------+---------------+---------------+-------------+-------------------+----------+-------------+------------------------+------------------+\n",
      "|61.0|   M| 188.0|       celibataire|              0|              0|            0|citadine economique|       0.0|(1,[0],[1.0])|                     1.0|     (3,[1],[1.0])|\n",
      "|50.0|   F| 460.0|         en couple|              3|              0|            0|      suv/crossover|       1.0|    (1,[],[])|                     0.0|     (3,[0],[1.0])|\n",
      "|54.0|   M| 403.0|       celibataire|              0|              0|            0|citadine economique|       0.0|(1,[0],[1.0])|                     1.0|     (3,[1],[1.0])|\n",
      "|74.0|   M| 531.0|         en couple|              4|              1|            0|      suv/crossover|       0.0|(1,[0],[1.0])|                     0.0|     (3,[0],[1.0])|\n",
      "|35.0|   M| 208.0|       celibataire|              0|              0|            0|          familiale|       0.0|(1,[0],[1.0])|                     1.0|     (3,[1],[1.0])|\n",
      "|66.0|   M| 960.0|         en couple|              1|              0|            1|      suv/crossover|       0.0|(1,[0],[1.0])|                     0.0|     (3,[0],[1.0])|\n",
      "|65.0|   F| 199.0|         en couple|              0|              0|            0|          familiale|       1.0|    (1,[],[])|                     0.0|     (3,[0],[1.0])|\n",
      "|67.0|   M|1072.0|         en couple|              0|              0|            1|      suv/crossover|       0.0|(1,[0],[1.0])|                     0.0|     (3,[0],[1.0])|\n",
      "|34.0|   M| 411.0|         en couple|              4|              0|            0|      suv/crossover|       0.0|(1,[0],[1.0])|                     0.0|     (3,[0],[1.0])|\n",
      "|51.0|   M|1281.0|         en couple|              2|              0|            1|      suv/crossover|       0.0|(1,[0],[1.0])|                     0.0|     (3,[0],[1.0])|\n",
      "|81.0|   M|1091.0|         en couple|              1|              0|            1|      suv/crossover|       0.0|(1,[0],[1.0])|                     0.0|     (3,[0],[1.0])|\n",
      "|28.0|   M| 583.0|       celibataire|              0|              0|            1|          familiale|       0.0|(1,[0],[1.0])|                     1.0|     (3,[1],[1.0])|\n",
      "|22.0|   F|1125.0|       celibataire|              3|              0|            1|      suv/crossover|       1.0|    (1,[],[])|                     1.0|     (3,[1],[1.0])|\n",
      "|48.0|   M| 991.0|         en couple|              4|              0|            1|      suv/crossover|       0.0|(1,[0],[1.0])|                     0.0|     (3,[0],[1.0])|\n",
      "|32.0|   F| 156.0|         en couple|              2|              0|            0|      suv/crossover|       1.0|    (1,[],[])|                     0.0|     (3,[0],[1.0])|\n",
      "|41.0|   M| 429.0|         en couple|              1|              0|            0|          familiale|       0.0|(1,[0],[1.0])|                     0.0|     (3,[0],[1.0])|\n",
      "|20.0|   M|1120.0|       celibataire|              3|              0|            1|      suv/crossover|       0.0|(1,[0],[1.0])|                     1.0|     (3,[1],[1.0])|\n",
      "|52.0|   F| 847.0|       celibataire|              0|              0|            1|citadine economique|       1.0|    (1,[],[])|                     1.0|     (3,[1],[1.0])|\n",
      "|66.0|   M| 236.0|         en couple|              4|              0|            0|              autre|       0.0|(1,[0],[1.0])|                     0.0|     (3,[0],[1.0])|\n",
      "|23.0|   M| 493.0|       celibataire|              0|              0|            0|          familiale|       0.0|(1,[0],[1.0])|                     1.0|     (3,[1],[1.0])|\n",
      "+----+----+------+------------------+---------------+---------------+-------------+-------------------+----------+-------------+------------------------+------------------+\n",
      "only showing top 20 rows\n",
=======
      "+----+-----+---------------+---------------+-------------+-------------+-----+------------------+\n",
      "| age| taux|nbenfantacharge|deuxiemevoiture|taux_eligible|         sexe|label|situationfamiliale|\n",
      "+----+-----+---------------+---------------+-------------+-------------+-----+------------------+\n",
      "|61.0|188.0|              0|              0|            0|(1,[0],[1.0])|  2.0|     (3,[1],[1.0])|\n",
      "|50.0|460.0|              3|              0|            0|    (1,[],[])|  0.0|     (3,[0],[1.0])|\n",
      "|54.0|403.0|              0|              0|            0|(1,[0],[1.0])|  2.0|     (3,[1],[1.0])|\n",
      "|74.0|531.0|              4|              1|            0|(1,[0],[1.0])|  0.0|     (3,[0],[1.0])|\n",
      "|35.0|208.0|              0|              0|            0|(1,[0],[1.0])|  1.0|     (3,[1],[1.0])|\n",
      "+----+-----+---------------+---------------+-------------+-------------+-----+------------------+\n",
      "only showing top 5 rows\n",
>>>>>>> Stashed changes
      "\n"
     ]
    }
   ],
   "source": [
    "df_client_immat = df_client_immat.withColumn(\n",
    "    \"deuxiemevoiture\",\n",
    "    when(col(\"deuxiemevoiture\") == False, 0)\n",
    "    .when(col(\"deuxiemevoiture\") == True, 1)\n",
    "    .otherwise(col(\"deuxiemevoiture\").cast(\"int\"))\n",
    ")\n",
    "\n",
    "df_client_immat = df_client_immat.withColumn(\n",
    "    \"taux_eligible\",\n",
    "    when(col(\"taux_eligible\") == False, 0)\n",
    "    .when(col(\"taux_eligible\") == True, 1)\n",
    "    .otherwise(col(\"taux_eligible\").cast(\"int\"))\n",
    ")\n",
    "df_client_immat.show(5)"
   ]
  },
  {
   "cell_type": "code",
<<<<<<< Updated upstream
   "execution_count": null,
=======
   "execution_count": 14,
   "id": "6d8e1801-7808-4633-a284-fde876d990bb",
   "metadata": {},
   "outputs": [],
   "source": [
    "#df_client_immat.groupBy(\"label\").count().show()"
   ]
  },
  {
   "cell_type": "code",
   "execution_count": 15,
>>>>>>> Stashed changes
   "id": "f5277854-fa66-4de0-ad4d-6549e8dc6ac6",
   "metadata": {},
   "outputs": [],
   "source": [
<<<<<<< Updated upstream
    "\n",
    "\n",
    "# Assemblage des colonnes de caractéristiques\n",
    "feature_columns = [\n",
    "    \"age\", \"taux\", \"nbenfantacharge\", \"deuxiemevoiture\", \"taux_eligible\"\n",
    "] + [f\"{col}_indexed\" for col in categorical_columns]\n",
    "\n",
    "assembler = VectorAssembler(inputCols=feature_columns, outputCol=\"features\")\n",
    "data = assembler.transform(data)\n",
    "\n",
    "# Encodage de la colonne cible (si nécessaire)\n",
    "label_indexer = StringIndexer(inputCol=\"categorie\", outputCol=\"label\")\n",
    "data = label_indexer.fit(data).transform(data)\n",
    "\n",
    "# Division des données\n",
    "train_data, test_data = data.randomSplit([0.8, 0.2], seed=42)\n",
    "\n",
    "# Modèle Random Forest\n",
    "rf = RandomForestClassifier(labelCol=\"label\", featuresCol=\"features\", numTrees=100)\n",
    "model = rf.fit(train_data)\n",
    "\n",
    "# Prédictions\n",
    "predictions = model.transform(test_data)\n",
    "\n",
    "# Évaluation\n",
    "evaluator = MulticlassClassificationEvaluator(labelCol=\"label\", predictionCol=\"prediction\", metricName=\"accuracy\")\n",
    "accuracy = evaluator.evaluate(predictions)\n",
    "print(f\"Accuracy: {accuracy}\")\n"
=======
    "# Assemblage des colonnes de caractéristiques\n",
    "feature_columns = [\"age\", \"taux\", \"nbenfantacharge\", \"taux_eligible\", \"sexe\", \"situationfamiliale\"]\n",
    "assembler = VectorAssembler(inputCols=feature_columns, outputCol=\"features\")\n",
    "data = assembler.transform(df_client_immat)\n",
    "\n",
    "train_data, test_data = data.randomSplit([0.8, 0.2], seed=42)\n",
    "\n",
    "# Initialisation du modèle Decision Tree\n",
    "dt = DecisionTreeClassifier(labelCol=\"label\", featuresCol=\"features\")\n"
>>>>>>> Stashed changes
   ]
  },
  {
   "cell_type": "code",
   "execution_count": null,
<<<<<<< Updated upstream
   "id": "a79d15de-e9c6-444c-83a7-75d3c53e7d2c",
   "metadata": {},
   "outputs": [],
   "source": []
=======
   "id": "0cb1019e-9b54-4986-8acd-5397b74346e0",
   "metadata": {},
   "outputs": [],
   "source": []
  },
  {
   "cell_type": "code",
   "execution_count": 16,
   "id": "a79d15de-e9c6-444c-83a7-75d3c53e7d2c",
   "metadata": {},
   "outputs": [],
   "source": [
    "# Définition de la grille des hyperparamètres à tester\n",
    "paramGrid = (ParamGridBuilder()\n",
    "             .addGrid(dt.maxDepth, [5, 10])  # Exemple de plages pour la profondeur de l'arbre\n",
    "             .addGrid(dt.minInstancesPerNode, [1, 2, 5])  # Exemple de plages pour le nombre minimum d'instances par noeud\n",
    "             .addGrid(dt.maxBins, [32, 64, 128])  # Exemple de plages pour le nombre maximal de \"bins\"\n",
    "             .build())"
   ]
  },
  {
   "cell_type": "code",
   "execution_count": 17,
   "id": "9390f0d1-363a-44cc-b0d0-b81e722a8e9e",
   "metadata": {},
   "outputs": [],
   "source": [
    "# Évaluateur pour évaluer les performances du modèle\n",
    "evaluator = MulticlassClassificationEvaluator(labelCol=\"label\", predictionCol=\"prediction\", metricName=\"accuracy\")"
   ]
  },
  {
   "cell_type": "code",
   "execution_count": 18,
   "id": "01f75c8e-5a7e-4edd-9a80-1a4b16c66fd6",
   "metadata": {},
   "outputs": [],
   "source": [
    "# Configuration du CrossValidator\n",
    "cv = CrossValidator(estimator=dt,\n",
    "                    estimatorParamMaps=paramGrid,\n",
    "                    evaluator=evaluator,\n",
    "                    numFolds=3)  # Utilisation de 3 plis pour la validation croisée\n"
   ]
  },
  {
   "cell_type": "code",
   "execution_count": null,
   "id": "69f5fdf2-c0b7-4646-a576-bafb2d365101",
   "metadata": {},
   "outputs": [
    {
     "name": "stderr",
     "output_type": "stream",
     "text": [
      "[Stage 20:========>                                                 (1 + 0) / 7]\r"
     ]
    }
   ],
   "source": [
    "# Entraînement du modèle avec CrossValidation\n",
    "cv_model = cv.fit(train_data)"
   ]
  },
  {
   "cell_type": "code",
   "execution_count": null,
   "id": "2138f1d1-9919-48b0-b3eb-52edac07bb94",
   "metadata": {},
   "outputs": [],
   "source": [
    "# Prédictions avec le meilleur modèle trouvé\n",
    "predictions = cv_model.transform(test_data)\n",
    "\n",
    "# Évaluation de l'accuracy du modèle\n",
    "accuracy = evaluator.evaluate(predictions)\n",
    "print(f\"Best model accuracy: {accuracy}\")\n",
    "\n",
    "# Évaluation de F1 Score\n",
    "f1_evaluator = MulticlassClassificationEvaluator(labelCol=\"label\", predictionCol=\"prediction\", metricName=\"f1\")\n",
    "f1_score = f1_evaluator.evaluate(predictions)\n",
    "print(f\"Best model F1 Score: {f1_score}\")\n",
    "\n",
    "# Affichage des 5 premières lignes des prédictions\n",
    "predictions.show(5)"
   ]
>>>>>>> Stashed changes
  }
 ],
 "metadata": {
  "kernelspec": {
   "display_name": "Python 3 (ipykernel)",
   "language": "python",
   "name": "python3"
  },
  "language_info": {
   "codemirror_mode": {
    "name": "ipython",
    "version": 3
   },
   "file_extension": ".py",
   "mimetype": "text/x-python",
   "name": "python",
   "nbconvert_exporter": "python",
   "pygments_lexer": "ipython3",
   "version": "3.9.7"
  }
 },
 "nbformat": 4,
 "nbformat_minor": 5
}
