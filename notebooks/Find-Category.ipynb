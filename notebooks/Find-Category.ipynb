{
 "cells": [
  {
   "cell_type": "code",
   "execution_count": 1,
   "id": "initial_id",
   "metadata": {
    "jupyter": {
     "is_executing": true
    }
   },
   "outputs": [],
   "source": [
    "from pyspark.sql import SparkSession\n",
    "from pyspark.sql.functions import col, when, count, floor\n",
    "from pyspark.ml.feature import StringIndexer, OneHotEncoder, VectorAssembler, IndexToString, StandardScaler, StringIndexerModel, OneHotEncoderModel\n",
    "from pyspark.ml.evaluation import MulticlassClassificationEvaluator\n",
    "from pyspark.ml.classification import RandomForestClassificationModel\n",
    "from pyspark.sql.types import DoubleType\n",
    "from itertools import product\n",
    "\n",
    "import seaborn as sns\n",
    "import matplotlib.pyplot as plt"
   ]
  },
  {
   "cell_type": "code",
   "execution_count": 2,
   "id": "ab0bc1ae-9658-433b-8e95-570503bfe684",
   "metadata": {},
   "outputs": [
    {
     "name": "stderr",
     "output_type": "stream",
     "text": [
      "WARNING: An illegal reflective access operation has occurred\n",
      "WARNING: Illegal reflective access by org.apache.spark.unsafe.Platform (file:/usr/local/spark-3.2.0-bin-hadoop3.2/jars/spark-unsafe_2.12-3.2.0.jar) to constructor java.nio.DirectByteBuffer(long,int)\n",
      "WARNING: Please consider reporting this to the maintainers of org.apache.spark.unsafe.Platform\n",
      "WARNING: Use --illegal-access=warn to enable warnings of further illegal reflective access operations\n",
      "WARNING: All illegal access operations will be denied in a future release\n",
      "Using Spark's default log4j profile: org/apache/spark/log4j-defaults.properties\n",
      "Setting default log level to \"WARN\".\n",
      "To adjust logging level use sc.setLogLevel(newLevel). For SparkR, use setLogLevel(newLevel).\n",
      "24/11/21 09:57:08 WARN NativeCodeLoader: Unable to load native-hadoop library for your platform... using builtin-java classes where applicable\n",
      "24/11/21 09:57:08 WARN Utils: Service 'SparkUI' could not bind on port 4040. Attempting port 4041.\n"
     ]
    },
    {
     "data": {
      "text/plain": [
       "DataFrame[]"
      ]
     },
     "execution_count": 2,
     "metadata": {},
     "output_type": "execute_result"
    }
   ],
   "source": [
    "spark = SparkSession.builder\\\n",
    "    .appName(\"Classification RandomForest\")\\\n",
    "    .config(\"spark.executor.memory\", \"4g\") \\\n",
    "    .config(\"spark.driver.memory\", \"4g\") \\\n",
    "    .config(\"spark.sql.shuffle.partitions\", \"200\") \\\n",
    "    .enableHiveSupport()\\\n",
    "    .getOrCreate()\n",
    "\n",
    "spark.sparkContext.setLogLevel(\"OFF\")\n",
    "spark.catalog.clearCache()\n",
    "spark.sql(\"USE concessionnaire\")"
   ]
  },
  {
   "cell_type": "code",
   "execution_count": 3,
   "id": "af151f1c-880f-423e-b28c-f76334522594",
   "metadata": {},
   "outputs": [
    {
     "name": "stdout",
     "output_type": "stream",
     "text": [
      "root\n",
      " |-- age: integer (nullable = true)\n",
      " |-- sexe: string (nullable = true)\n",
      " |-- taux: float (nullable = true)\n",
      " |-- situationfamiliale: string (nullable = true)\n",
      " |-- nbenfantacharge: integer (nullable = true)\n",
      " |-- deuxiemevoiture: boolean (nullable = true)\n",
      " |-- taux_eligible: boolean (nullable = true)\n",
      "\n"
     ]
    },
    {
     "name": "stderr",
     "output_type": "stream",
     "text": [
      "                                                                                \r"
     ]
    },
    {
     "name": "stdout",
     "output_type": "stream",
     "text": [
      "+---+----+------+------------------+---------------+---------------+-------------+\n",
      "|age|sexe|  taux|situationfamiliale|nbenfantacharge|deuxiemevoiture|taux_eligible|\n",
      "+---+----+------+------------------+---------------+---------------+-------------+\n",
      "| 21|   F|1396.0|       celibataire|              0|          false|        false|\n",
      "| 35|   M| 223.0|       celibataire|              0|          false|         true|\n",
      "| 48|   M| 401.0|       celibataire|              0|          false|         true|\n",
      "| 26|   F| 420.0|         en couple|              3|           true|         true|\n",
      "| 80|   M| 530.0|         en couple|              3|          false|         true|\n",
      "| 27|   F| 153.0|         en couple|              2|          false|         true|\n",
      "| 59|   F| 572.0|         en couple|              2|          false|        false|\n",
      "| 43|   F| 431.0|       celibataire|              0|          false|         true|\n",
      "| 64|   M| 559.0|       celibataire|              0|          false|        false|\n",
      "| 22|   M| 154.0|         en couple|              1|          false|         true|\n",
      "| 79|   F| 981.0|         en couple|              2|          false|        false|\n",
      "| 55|   M| 588.0|       celibataire|              0|          false|        false|\n",
      "| 19|   F| 212.0|       celibataire|              0|          false|         true|\n",
      "| 34|   F|1112.0|         en couple|              0|          false|        false|\n",
      "| 60|   M| 524.0|         en couple|              0|           true|         true|\n",
      "| 22|   M| 411.0|         en couple|              3|           true|         true|\n",
      "| 58|   M|1192.0|         en couple|              0|          false|        false|\n",
      "| 54|   F| 452.0|         en couple|              3|           true|         true|\n",
      "| 35|   M| 589.0|       celibataire|              0|          false|        false|\n",
      "| 59|   M| 748.0|         en couple|              0|           true|        false|\n",
      "+---+----+------+------------------+---------------+---------------+-------------+\n",
      "\n",
      "+---+----+------+------------------+---------------+---------------+-------------+----------+-------------+------------------------+--------------------------+\n",
      "|age|sexe|  taux|situationfamiliale|nbenfantacharge|deuxiemevoiture|taux_eligible|sexe_index| sexe_encoded|situationfamiliale_index|situationfamiliale_encoded|\n",
      "+---+----+------+------------------+---------------+---------------+-------------+----------+-------------+------------------------+--------------------------+\n",
      "| 21|   F|1396.0|       celibataire|              0|              0|            0|       1.0|    (1,[],[])|                     1.0|             (3,[1],[1.0])|\n",
      "| 35|   M| 223.0|       celibataire|              0|              0|            1|       0.0|(1,[0],[1.0])|                     1.0|             (3,[1],[1.0])|\n",
      "| 48|   M| 401.0|       celibataire|              0|              0|            1|       0.0|(1,[0],[1.0])|                     1.0|             (3,[1],[1.0])|\n",
      "| 26|   F| 420.0|         en couple|              3|              1|            1|       1.0|    (1,[],[])|                     0.0|             (3,[0],[1.0])|\n",
      "| 80|   M| 530.0|         en couple|              3|              0|            1|       0.0|(1,[0],[1.0])|                     0.0|             (3,[0],[1.0])|\n",
      "| 27|   F| 153.0|         en couple|              2|              0|            1|       1.0|    (1,[],[])|                     0.0|             (3,[0],[1.0])|\n",
      "| 59|   F| 572.0|         en couple|              2|              0|            0|       1.0|    (1,[],[])|                     0.0|             (3,[0],[1.0])|\n",
      "| 43|   F| 431.0|       celibataire|              0|              0|            1|       1.0|    (1,[],[])|                     1.0|             (3,[1],[1.0])|\n",
      "| 64|   M| 559.0|       celibataire|              0|              0|            0|       0.0|(1,[0],[1.0])|                     1.0|             (3,[1],[1.0])|\n",
      "| 22|   M| 154.0|         en couple|              1|              0|            1|       0.0|(1,[0],[1.0])|                     0.0|             (3,[0],[1.0])|\n",
      "| 79|   F| 981.0|         en couple|              2|              0|            0|       1.0|    (1,[],[])|                     0.0|             (3,[0],[1.0])|\n",
      "| 55|   M| 588.0|       celibataire|              0|              0|            0|       0.0|(1,[0],[1.0])|                     1.0|             (3,[1],[1.0])|\n",
      "| 19|   F| 212.0|       celibataire|              0|              0|            1|       1.0|    (1,[],[])|                     1.0|             (3,[1],[1.0])|\n",
      "| 34|   F|1112.0|         en couple|              0|              0|            0|       1.0|    (1,[],[])|                     0.0|             (3,[0],[1.0])|\n",
      "| 60|   M| 524.0|         en couple|              0|              1|            1|       0.0|(1,[0],[1.0])|                     0.0|             (3,[0],[1.0])|\n",
      "| 22|   M| 411.0|         en couple|              3|              1|            1|       0.0|(1,[0],[1.0])|                     0.0|             (3,[0],[1.0])|\n",
      "| 58|   M|1192.0|         en couple|              0|              0|            0|       0.0|(1,[0],[1.0])|                     0.0|             (3,[0],[1.0])|\n",
      "| 54|   F| 452.0|         en couple|              3|              1|            1|       1.0|    (1,[],[])|                     0.0|             (3,[0],[1.0])|\n",
      "| 35|   M| 589.0|       celibataire|              0|              0|            0|       0.0|(1,[0],[1.0])|                     1.0|             (3,[1],[1.0])|\n",
      "| 59|   M| 748.0|         en couple|              0|              1|            0|       0.0|(1,[0],[1.0])|                     0.0|             (3,[0],[1.0])|\n",
      "+---+----+------+------------------+---------------+---------------+-------------+----------+-------------+------------------------+--------------------------+\n",
      "\n",
      "root\n",
      " |-- features: vector (nullable = true)\n",
      " |-- rawPrediction: vector (nullable = true)\n",
      " |-- probability: vector (nullable = true)\n",
      " |-- prediction: double (nullable = false)\n",
      " |-- predicted_category: string (nullable = true)\n",
      "\n",
      "+--------------------+----------+------------------+\n",
      "|            features|prediction|predicted_category|\n",
      "+--------------------+----------+------------------+\n",
      "|(11,[0,1,5,7,9],[...|       0.0|          citadine|\n",
      "|(11,[0,1,4,6,7,9]...|       0.0|          citadine|\n",
      "|(11,[0,1,4,6,7,9]...|       0.0|          citadine|\n",
      "|[26.0,420.0,3.0,1...|       1.0|               SUV|\n",
      "|(11,[0,1,2,4,6,8]...|       1.0|               SUV|\n",
      "|(11,[0,1,2,4,5,8]...|       2.0|             break|\n",
      "|(11,[0,1,2,5,8],[...|       2.0|             break|\n",
      "|(11,[0,1,4,5,7,9]...|       0.0|          citadine|\n",
      "|(11,[0,1,6,7,9],[...|       0.0|          citadine|\n",
      "|(11,[0,1,2,4,6,8]...|       2.0|             break|\n",
      "|(11,[0,1,2,5,8],[...|       1.0|               SUV|\n",
      "|(11,[0,1,6,7,9],[...|       0.0|          citadine|\n",
      "|(11,[0,1,4,5,7,9]...|       0.0|          citadine|\n",
      "|(11,[0,1,5,8],[34...|       2.0|             break|\n",
      "|(11,[0,1,3,4,6,8]...|       0.0|          citadine|\n",
      "|[22.0,411.0,3.0,1...|       1.0|               SUV|\n",
      "|(11,[0,1,6,8],[58...|       2.0|             break|\n",
      "|[54.0,452.0,3.0,1...|       1.0|               SUV|\n",
      "|(11,[0,1,6,7,9],[...|       0.0|          citadine|\n",
      "|(11,[0,1,3,6,8],[...|       0.0|          citadine|\n",
      "+--------------------+----------+------------------+\n",
      "\n"
     ]
    }
   ],
   "source": [
    "# Charger les données de la table marketing\n",
    "df_marketing = spark.sql(\"SELECT * FROM marketing\")\n",
    "df_marketing.printSchema()\n",
    "\n",
    "df_marketing.show()\n",
    "\n",
    "# Charger les modèles de transformation\n",
    "indexer_model = StringIndexerModel.load(\"hdfs://namenode:9000/user/model/indexer_model\")\n",
    "indexer_sexe = StringIndexerModel.load(\"hdfs://namenode:9000/user/model/indexer_sexe\")\n",
    "indexer_situationfamiliale = StringIndexerModel.load(\"hdfs://namenode:9000/user/model/indexer_situationfamiliale\")\n",
    "encoder_sexe = OneHotEncoderModel.load(\"hdfs://namenode:9000/user/model/encoder_sexe\")\n",
    "encoder_situationfamiliale = OneHotEncoderModel.load(\"hdfs://namenode:9000/user/model/encoder_situationfamiliale\")\n",
    "\n",
    "# Appliquer les transformations nécessaires (identiques à celles de l'entraînement)\n",
    "df_marketing = indexer_sexe.transform(df_marketing)\n",
    "df_marketing = encoder_sexe.transform(df_marketing)\n",
    "df_marketing = indexer_situationfamiliale.transform(df_marketing)\n",
    "df_marketing = encoder_situationfamiliale.transform(df_marketing)\n",
    "\n",
    "# Transformer les colonnes booléennes en entiers\n",
    "df_marketing = df_marketing.withColumn(\n",
    "    \"deuxiemevoiture\",\n",
    "    when(col(\"deuxiemevoiture\") == False, 0)\n",
    "    .when(col(\"deuxiemevoiture\") == True, 1)\n",
    "    .otherwise(col(\"deuxiemevoiture\").cast(\"int\"))\n",
    ")\n",
    "\n",
    "df_marketing = df_marketing.withColumn(\n",
    "    \"taux_eligible\",\n",
    "    when(col(\"taux_eligible\") == False, 0)\n",
    "    .when(col(\"taux_eligible\") == True, 1)\n",
    "    .otherwise(col(\"taux_eligible\").cast(\"int\"))\n",
    ")\n",
    "\n",
    "# Définir les colonnes utilisées pour les features\n",
    "feature_cols = [col for col in df_marketing.columns if col not in [\"categorie\", \"label\", 'sexe', 'situationfamiliale']]\n",
    "df_marketing.show()\n",
    "\n",
    "\n",
    "# Assembler les caractéristiques en un vecteur de features\n",
    "assembler = VectorAssembler(inputCols=feature_cols, outputCol=\"features\")\n",
    "prediction_data = assembler.transform(df_marketing).select(\"features\")\n",
    "\n",
    "# Charger le modèle depuis HDFS\n",
    "hdfs_path = \"hdfs://namenode:9000/user/model/categorie\"\n",
    "model = RandomForestClassificationModel.load(hdfs_path)\n",
    "\n",
    "# Effectuer les prédictions\n",
    "marketingPrediction = model.transform(prediction_data)\n",
    "\n",
    "# Mapper les prédictions avec les catégories d'origine\n",
    "label_to_category = IndexToString(\n",
    "    inputCol=\"prediction\",\n",
    "    outputCol=\"predicted_category\",\n",
    "    labels=indexer_model.labels\n",
    ")\n",
    "result = label_to_category.transform(marketingPrediction)\n",
    "result.printSchema()\n",
    "# Afficher les résultats\n",
    "result.select(\"features\", \"prediction\", \"predicted_category\").show()\n",
    "\n",
    "# Arrêter la SparkSession\n",
    "spark.stop()"
   ]
  },
  {
   "cell_type": "code",
   "execution_count": null,
   "id": "6e6546d6-ecab-4e16-9c10-24a021ef536d",
   "metadata": {},
   "outputs": [],
   "source": []
  }
 ],
 "metadata": {
  "kernelspec": {
   "display_name": "Python 3 (ipykernel)",
   "language": "python",
   "name": "python3"
  },
  "language_info": {
   "codemirror_mode": {
    "name": "ipython",
    "version": 3
   },
   "file_extension": ".py",
   "mimetype": "text/x-python",
   "name": "python",
   "nbconvert_exporter": "python",
   "pygments_lexer": "ipython3",
   "version": "3.9.7"
  }
 },
 "nbformat": 4,
 "nbformat_minor": 5
}
