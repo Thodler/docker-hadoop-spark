{
 "cells": [
  {
   "cell_type": "code",
   "execution_count": null,
   "id": "initial_id",
   "metadata": {
    "jupyter": {
     "is_executing": true
    }
   },
   "outputs": [],
   "source": [
    "from pyspark.sql import SparkSession\n",
    "from pyspark.sql.functions import col, when, count, floor\n",
    "from pyspark.ml.feature import StringIndexer, OneHotEncoder, VectorAssembler, IndexToString, StandardScaler, StringIndexerModel, OneHotEncoderModel\n",
    "from pyspark.ml.evaluation import MulticlassClassificationEvaluator\n",
    "from pyspark.ml.classification import RandomForestClassifier\n",
    "from pyspark.sql.types import DoubleType\n",
    "from itertools import product\n",
    "\n",
    "import seaborn as sns\n",
    "import matplotlib.pyplot as plt"
   ]
  },
  {
   "cell_type": "code",
   "execution_count": null,
   "id": "ab0bc1ae-9658-433b-8e95-570503bfe684",
   "metadata": {},
   "outputs": [],
   "source": [
    "spark = SparkSession.builder\\\n",
    "    .appName(\"Classification RandomForest\")\\\n",
    "    .config(\"spark.executor.memory\", \"4g\") \\\n",
    "    .config(\"spark.driver.memory\", \"4g\") \\\n",
    "    .config(\"spark.sql.shuffle.partitions\", \"200\") \\\n",
    "    .enableHiveSupport()\\\n",
    "    .getOrCreate()\n",
    "\n",
    "spark.sparkContext.setLogLevel(\"OFF\")\n",
    "spark.catalog.clearCache()\n",
    "spark.sql(\"USE concessionnaire\")"
   ]
  },
  {
   "cell_type": "code",
   "execution_count": null,
   "id": "af151f1c-880f-423e-b28c-f76334522594",
   "metadata": {},
   "outputs": [],
   "source": [
    "# Charger les données de la table marketing\n",
    "df_marketing = spark.sql(\"SELECT * FROM marketing\")\n",
    "df_marketing.printSchema()\n",
    "\n",
    "# Charger les modèles de transformation\n",
    "indexer_model = StringIndexerModel.load(\"hdfs://namenode:9000/user/model/indexer_model\")\n",
    "indexer_sexe = StringIndexerModel.load(\"hdfs://namenode:9000/user/model/indexer_sexe\")\n",
    "indexer_situationfamiliale = StringIndexerModel.load(\"hdfs://namenode:9000/user/model/indexer_situationfamiliale\")\n",
    "encoder_sexe = OneHotEncoderModel.load(\"hdfs://namenode:9000/user/model/encoder_sexe\")\n",
    "encoder_situationfamiliale = OneHotEncoderModel.load(\"hdfs://namenode:9000/user/model/encoder_situationfamiliale\")\n",
    "\n",
    "# Appliquer les transformations nécessaires (identiques à celles de l'entraînement)\n",
    "df_marketing = indexer_sexe.transform(df_marketing)\n",
    "df_marketing = encoder_sexe.transform(df_marketing)\n",
    "df_marketing = indexer_situationfamiliale.transform(df_marketing)\n",
    "df_marketing = encoder_situationfamiliale.transform(df_marketing)\n",
    "\n",
    "# Transformer les colonnes booléennes en entiers\n",
    "df_marketing = df_marketing.withColumn(\n",
    "    \"deuxiemevoiture\",\n",
    "    when(col(\"deuxiemevoiture\") == False, 0)\n",
    "    .when(col(\"deuxiemevoiture\") == True, 1)\n",
    "    .otherwise(col(\"deuxiemevoiture\").cast(\"int\"))\n",
    ")\n",
    "\n",
    "df_marketing = df_marketing.withColumn(\n",
    "    \"taux_eligible\",\n",
    "    when(col(\"taux_eligible\") == False, 0)\n",
    "    .when(col(\"taux_eligible\") == True, 1)\n",
    "    .otherwise(col(\"taux_eligible\").cast(\"int\"))\n",
    ")\n",
    "\n",
    "# Définir les colonnes utilisées pour les features\n",
    "feature_cols = [\"sexe_encoded\", \"situationfamiliale_encoded\", \"deuxiemevoiture\", \"taux_eligible\"]\n",
    "\n",
    "# Vérifier si les colonnes existent dans les données\n",
    "missing_cols = [col for col in feature_cols if col not in df_marketing.columns]\n",
    "if missing_cols:\n",
    "    raise ValueError(f\"Colonnes manquantes dans les données : {missing_cols}\")\n",
    "\n",
    "# Assembler les caractéristiques en un vecteur de features\n",
    "assembler = VectorAssembler(inputCols=feature_cols, outputCol=\"features\")\n",
    "prediction_data = assembler.transform(df_marketing).select(\"features\")\n",
    "\n",
    "# Charger le modèle depuis HDFS\n",
    "hdfs_path = \"hdfs://namenode:9000/user/model/categorie\"\n",
    "model = RandomForestClassificationModel.load(hdfs_path)\n",
    "\n",
    "# Effectuer les prédictions\n",
    "marketingPrediction = model.transform(prediction_data)\n",
    "\n",
    "# Mapper les prédictions avec les catégories d'origine\n",
    "label_to_category = IndexToString(\n",
    "    inputCol=\"prediction\",\n",
    "    outputCol=\"predicted_category\",\n",
    "    labels=indexer_model.labels\n",
    ")\n",
    "result = label_to_category.transform(marketingPrediction)\n",
    "\n",
    "# Afficher les résultats\n",
    "result.select(\"features\", \"prediction\", \"predicted_category\").show()\n",
    "\n",
    "# Arrêter la SparkSession\n",
    "spark.stop()"
   ]
  },
  {
   "cell_type": "code",
   "execution_count": null,
   "id": "6e6546d6-ecab-4e16-9c10-24a021ef536d",
   "metadata": {},
   "outputs": [],
   "source": []
  }
 ],
 "metadata": {
  "kernelspec": {
   "display_name": "Python 3 (ipykernel)",
   "language": "python",
   "name": "python3"
  },
  "language_info": {
   "codemirror_mode": {
    "name": "ipython",
    "version": 3
   },
   "file_extension": ".py",
   "mimetype": "text/x-python",
   "name": "python",
   "nbconvert_exporter": "python",
   "pygments_lexer": "ipython3",
   "version": "3.9.7"
  }
 },
 "nbformat": 4,
 "nbformat_minor": 5
}
