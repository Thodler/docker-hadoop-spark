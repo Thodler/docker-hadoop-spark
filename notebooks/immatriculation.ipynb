{
 "cells": [
  {
   "cell_type": "markdown",
   "id": "baa2bfe4-7c21-44c4-ac41-e54166fbfac1",
   "metadata": {},
   "source": [
    "# Analyse et nettoyage des données Immatriculation"
   ]
  },
  {
   "cell_type": "markdown",
   "id": "06210231-f09d-4ca9-aef5-36dc5872d4ed",
   "metadata": {},
   "source": [
    "## Import"
   ]
  },
  {
   "cell_type": "code",
   "execution_count": 1,
   "id": "ca8b0861-4e4d-42da-bd93-32914233fdaa",
   "metadata": {},
   "outputs": [],
   "source": [
    "from pyspark.sql import SparkSession\n",
    "import pandas as pd\n",
    "import seaborn as sns\n",
    "import matplotlib.pyplot as plt\n",
    "from pyspark.sql.types import BooleanType, FloatType\n",
    "from pyspark.sql.functions import trim, lower, col, count, regexp_replace, max, min"
   ]
  },
  {
   "cell_type": "markdown",
   "id": "73c38c06-6935-4660-9f68-419add6f868e",
   "metadata": {},
   "source": [
    "## Session spark"
   ]
  },
  {
   "cell_type": "code",
   "execution_count": 2,
   "id": "e99432de-3a23-4f1f-b10d-79a445a09bf9",
   "metadata": {},
   "outputs": [
    {
     "name": "stderr",
     "output_type": "stream",
     "text": [
      "WARNING: An illegal reflective access operation has occurred\n",
      "WARNING: Illegal reflective access by org.apache.spark.unsafe.Platform (file:/usr/local/spark-3.2.0-bin-hadoop3.2/jars/spark-unsafe_2.12-3.2.0.jar) to constructor java.nio.DirectByteBuffer(long,int)\n",
      "WARNING: Please consider reporting this to the maintainers of org.apache.spark.unsafe.Platform\n",
      "WARNING: Use --illegal-access=warn to enable warnings of further illegal reflective access operations\n",
      "WARNING: All illegal access operations will be denied in a future release\n",
      "Using Spark's default log4j profile: org/apache/spark/log4j-defaults.properties\n",
      "Setting default log level to \"WARN\".\n",
      "To adjust logging level use sc.setLogLevel(newLevel). For SparkR, use setLogLevel(newLevel).\n",
      "24/11/14 10:58:42 WARN NativeCodeLoader: Unable to load native-hadoop library for your platform... using builtin-java classes where applicable\n"
     ]
    }
   ],
   "source": [
    "spark = SparkSession.builder\\\n",
    "    .appName(\"CleanImmatriculation\")\\\n",
    "    .enableHiveSupport()\\\n",
    "    .getOrCreate()"
   ]
  },
  {
   "cell_type": "markdown",
   "id": "32087677-1413-402e-a97f-3c44e3349093",
   "metadata": {},
   "source": [
    "## Import des données"
   ]
  },
  {
   "cell_type": "code",
   "execution_count": 3,
   "id": "5248f82d-c16e-443d-ab23-6b1cc8897f9e",
   "metadata": {},
   "outputs": [
    {
     "name": "stderr",
     "output_type": "stream",
     "text": [
      "[Stage 0:>                                                          (0 + 1) / 1]\r"
     ]
    },
    {
     "name": "stdout",
     "output_type": "stream",
     "text": [
      "+---------------+----------+----------------+---------+-----------+--------+--------+-------+--------+-----+\n",
      "|immatriculation|    marque|             nom|puissance|   longueur|nbplaces|nbportes|couleur|occasion| prix|\n",
      "+---------------+----------+----------------+---------+-----------+--------+--------+-------+--------+-----+\n",
      "|      167 JA 42|   Peugeot|        1007 1.4|       75|     courte|       5|       5|  rouge|   false|13750|\n",
      "|     6956 HM 76|   Renault|     Laguna 2.0T|      170|     longue|       5|       5|   noir|   false|27300|\n",
      "|      852 KQ 58|    Lancia| Ypsilon 1.4 16V|       90|     courte|       5|       3|   noir|   false|13500|\n",
      "|     2429 ZQ 52|Volkswagen|    Golf 2.0 FSI|      150|    moyenne|       5|       5|   bleu|   false|22900|\n",
      "|     5605 XG 92|Volkswagen|     Polo 1.2 6V|       55|     courte|       5|       3|  rouge|   false|12200|\n",
      "|     4685 DN 33|       BMW|              M5|      507|tr�s longue|       5|       5|  rouge|   false|94800|\n",
      "|     9849 JL 91|Volkswagen|     Polo 1.2 6V|       55|     courte|       5|       3|  rouge|   false|12200|\n",
      "|     9138 JU 10|       BMW|              M5|      507|tr�s longue|       5|       5|   bleu|   false|94800|\n",
      "|     3496 UI 20|  Daihatsu|       Cuore 1.0|       58|     courte|       5|       3|   gris|   false| 8850|\n",
      "|     8187 SB 20|      Audi|          A2 1.4|       75|     courte|       5|       5|  rouge|    true|12817|\n",
      "|     9667 QU 33|  Mercedes|            A200|      136|    moyenne|       5|       5|   bleu|   false|25900|\n",
      "|     4277 YE 78|    Jaguar|   X-Type 2.5 V6|      197|     longue|       5|       5|  blanc|   false|37100|\n",
      "|     8930 WE 91|   Renault|Vel Satis 3.5 V6|      245|tr�s longue|       5|       5|   noir|   false|49200|\n",
      "|     7836 GT 47|      Seat|      Toledo 1.6|      102|     longue|       5|       5|  blanc|   false|18880|\n",
      "|     1958 FY 73|Volkswagen|    Golf 2.0 FSI|      150|    moyenne|       5|       5|   noir|    true|16029|\n",
      "|      713 DR 91|       BMW|              M5|      507|tr�s longue|       5|       5|  blanc|   false|94800|\n",
      "|     2947 VF 36|    Jaguar|   X-Type 2.5 V6|      197|     longue|       5|       5|  blanc|    true|25970|\n",
      "|     3118 UT 20|    Jaguar|   X-Type 2.5 V6|      197|     longue|       5|       5|  blanc|    true|25970|\n",
      "|     3038 QP 89|      Saab|        9.3 1.8T|      150|     longue|       5|       5|   noir|    true|27020|\n",
      "|     6163 BQ 74|  Daihatsu|       Cuore 1.0|       58|     courte|       5|       3|   bleu|   false| 8850|\n",
      "+---------------+----------+----------------+---------+-----------+--------+--------+-------+--------+-----+\n",
      "only showing top 20 rows\n",
      "\n"
     ]
    },
    {
     "name": "stderr",
     "output_type": "stream",
     "text": [
      "                                                                                \r"
     ]
    }
   ],
   "source": [
    "spark.sparkContext.setLogLevel(\"OFF\")\n",
    "spark.catalog.clearCache()\n",
    "spark.sql(\"USE concessionnaire\")\n",
    "\n",
    "df_immat = spark.sql(\"SELECT * FROM immatriculations_ext\")\n",
    "\n",
    "df_immat.show()"
   ]
  },
  {
   "cell_type": "markdown",
   "id": "653d3ebe-8aab-4e6a-8100-123c6838da8d",
   "metadata": {},
   "source": [
    "## Analyse\n",
    "\n",
    "### Casse\n",
    "- Renommage de la colonne \"nom\" en \"modele\"\n",
    "- Normalisation des marques\n",
    "- Normalisation des modèles"
   ]
  },
  {
   "cell_type": "code",
   "execution_count": 4,
   "id": "cee58fd9-7b53-4579-afbc-f258b55fd472",
   "metadata": {},
   "outputs": [
    {
     "name": "stdout",
     "output_type": "stream",
     "text": [
      "root\n",
      " |-- immatriculation: string (nullable = true)\n",
      " |-- marque: string (nullable = true)\n",
      " |-- modele: string (nullable = true)\n",
      " |-- puissance: integer (nullable = true)\n",
      " |-- longueur: string (nullable = true)\n",
      " |-- nbplaces: integer (nullable = true)\n",
      " |-- nbportes: integer (nullable = true)\n",
      " |-- couleur: string (nullable = true)\n",
      " |-- occasion: string (nullable = true)\n",
      " |-- prix: integer (nullable = true)\n",
      "\n"
     ]
    }
   ],
   "source": [
    "#Renommage de la colonne \"nom\" en \"modele\"\n",
    "df_immat = df_immat.withColumnRenamed(\"nom\", \"modele\")\n",
    "\n",
    "df_immat.printSchema()"
   ]
  },
  {
   "cell_type": "code",
   "execution_count": null,
   "id": "5ac3a88b-7618-41ef-a416-b249eb58fc8e",
   "metadata": {},
   "outputs": [],
   "source": []
  },
  {
   "cell_type": "code",
   "execution_count": 5,
   "id": "c5bb66a6-e6d2-41f5-a174-5f099c1d62d1",
   "metadata": {},
   "outputs": [],
   "source": [
    "#Normalisation des marques\n",
    "df_immat = df_immat.withColumn(\"marque\", lower(trim(col(\"marque\"))))\n",
    "\n",
    "#Normalisation des modèles\n",
    "df_immat = df_immat.withColumn(\"modele\", lower(trim(col(\"modele\"))))"
   ]
  },
  {
   "cell_type": "code",
   "execution_count": 6,
   "id": "9760a566-4053-41d4-9a12-b1099def5795",
   "metadata": {},
   "outputs": [
    {
     "name": "stdout",
     "output_type": "stream",
     "text": [
      "+---------------+----------+---------------+---------+--------+--------+--------+-------+--------+-----+\n",
      "|immatriculation|    marque|         modele|puissance|longueur|nbplaces|nbportes|couleur|occasion| prix|\n",
      "+---------------+----------+---------------+---------+--------+--------+--------+-------+--------+-----+\n",
      "|      167 JA 42|   peugeot|       1007 1.4|       75|  courte|       5|       5|  rouge|   false|13750|\n",
      "|     6956 HM 76|   renault|    laguna 2.0t|      170|  longue|       5|       5|   noir|   false|27300|\n",
      "|      852 KQ 58|    lancia|ypsilon 1.4 16v|       90|  courte|       5|       3|   noir|   false|13500|\n",
      "|     2429 ZQ 52|volkswagen|   golf 2.0 fsi|      150| moyenne|       5|       5|   bleu|   false|22900|\n",
      "|     5605 XG 92|volkswagen|    polo 1.2 6v|       55|  courte|       5|       3|  rouge|   false|12200|\n",
      "+---------------+----------+---------------+---------+--------+--------+--------+-------+--------+-----+\n",
      "only showing top 5 rows\n",
      "\n"
     ]
    }
   ],
   "source": [
    "df_immat.show(n=5)"
   ]
  },
  {
   "cell_type": "markdown",
   "id": "4e8e4b59-ab9b-45aa-8632-1534b815c3aa",
   "metadata": {},
   "source": [
    "### Recherche des caractères spéciaux\n",
    "\n",
    "- Recherche du symbole \"�\"\n",
    "- Recherche du caractère \"ã©\""
   ]
  },
  {
   "cell_type": "code",
   "execution_count": 7,
   "id": "c5179236-fad3-4252-8126-25d761e83fac",
   "metadata": {},
   "outputs": [
    {
     "name": "stdout",
     "output_type": "stream",
     "text": [
      "+---------------+--------+----------------+---------+-----------+--------+--------+-------+--------+------+\n",
      "|immatriculation|  marque|          modele|puissance|   longueur|nbplaces|nbportes|couleur|occasion|  prix|\n",
      "+---------------+--------+----------------+---------+-----------+--------+--------+-------+--------+------+\n",
      "|     4685 DN 33|     bmw|              m5|      507|tr�s longue|       5|       5|  rouge|   false| 94800|\n",
      "|     9138 JU 10|     bmw|              m5|      507|tr�s longue|       5|       5|   bleu|   false| 94800|\n",
      "|     8930 WE 91| renault|vel satis 3.5 v6|      245|tr�s longue|       5|       5|   noir|   false| 49200|\n",
      "|      713 DR 91|     bmw|              m5|      507|tr�s longue|       5|       5|  blanc|   false| 94800|\n",
      "|     7043 HC 23|   volvo|          s80 t6|      272|tr�s longue|       5|       5|  rouge|   false| 50500|\n",
      "|     2905 OZ 78|mercedes|            s500|      306|tr�s longue|       5|       5|  rouge|   false|101300|\n",
      "|     6959 JS 88| renault|vel satis 3.5 v6|      245|tr�s longue|       5|       5|  blanc|   false| 49200|\n",
      "|     2831 VY 33|     bmw|              m5|      507|tr�s longue|       5|       5|  blanc|   false| 94800|\n",
      "|      852 EM 76| renault|vel satis 3.5 v6|      245|tr�s longue|       5|       5|   gris|    true| 34440|\n",
      "|     9585 YS 37|   volvo|          s80 t6|      272|tr�s longue|       5|       5|   noir|   false| 50500|\n",
      "|      431 MI 64|     bmw|              m5|      507|tr�s longue|       5|       5|   bleu|   false| 94800|\n",
      "|        3 YG 34| renault|vel satis 3.5 v6|      245|tr�s longue|       5|       5|   gris|   false| 49200|\n",
      "|     2608 EG 90|     bmw|              m5|      507|tr�s longue|       5|       5|  rouge|   false| 94800|\n",
      "|     3011 AK 52|     bmw|              m5|      507|tr�s longue|       5|       5|   gris|   false| 94800|\n",
      "|     1477 EE 19|   skoda|   superb 2.8 v6|      193|tr�s longue|       5|       5|  blanc|   false| 31790|\n",
      "|     2856 VX 71|     bmw|              m5|      507|tr�s longue|       5|       5|   noir|   false| 94800|\n",
      "|     9526 QO 49|  nissan|   maxima 3.0 v6|      200|tr�s longue|       5|       5|   bleu|   false| 30000|\n",
      "|     8525 AO 27|     bmw|              m5|      507|tr�s longue|       5|       5|  blanc|   false| 94800|\n",
      "|     1442 GI 87|   volvo|          s80 t6|      272|tr�s longue|       5|       5|   noir|    true| 35350|\n",
      "|     3323 UO 58|mercedes|            s500|      306|tr�s longue|       5|       5|  rouge|    true| 70910|\n",
      "+---------------+--------+----------------+---------+-----------+--------+--------+-------+--------+------+\n",
      "only showing top 20 rows\n",
      "\n"
     ]
    },
    {
     "name": "stderr",
     "output_type": "stream",
     "text": [
      "[Stage 4:==============>                                            (1 + 3) / 4]\r"
     ]
    },
    {
     "name": "stdout",
     "output_type": "stream",
     "text": [
      "+---------------+------+------+---------+--------+--------+--------+-------+--------+----+\n",
      "|immatriculation|marque|modele|puissance|longueur|nbplaces|nbportes|couleur|occasion|prix|\n",
      "+---------------+------+------+---------+--------+--------+--------+-------+--------+----+\n",
      "+---------------+------+------+---------+--------+--------+--------+-------+--------+----+\n",
      "\n"
     ]
    },
    {
     "name": "stderr",
     "output_type": "stream",
     "text": [
      "                                                                                \r"
     ]
    }
   ],
   "source": [
    "#Recherche du symbole \"�\"\n",
    "\n",
    "df_search_special_char_immat = df_immat.filter(\n",
    "    col(\"immatriculation\").like(\"%�%\") | \n",
    "    col(\"marque\").like(\"%�%\") | \n",
    "    col(\"modele\").like(\"%�%\") | \n",
    "    col(\"longueur\").like(\"%�%\") |\n",
    "    col(\"couleur\").like(\"%�%\") | \n",
    "    col(\"occasion\").like(\"%�%\")\n",
    ")\n",
    "\n",
    "#Recherche du caractère \"ã©\"\n",
    "\n",
    "df_search_special_char_2_immat = df_immat.filter(\n",
    "    col(\"immatriculation\").like(\"%ã©%\") | \n",
    "    col(\"marque\").like(\"%ã©%\") | \n",
    "    col(\"modele\").like(\"%ã©%\") | \n",
    "    col(\"longueur\").like(\"%ã©%\") |\n",
    "    col(\"couleur\").like(\"%ã©%\") | \n",
    "    col(\"occasion\").like(\"%ã©%\")\n",
    ")\n",
    "\n",
    "df_search_special_char_immat.show()\n",
    "df_search_special_char_2_immat.show()"
   ]
  },
  {
   "cell_type": "markdown",
   "id": "94f266c9-4bd6-479a-819d-f5290ba6eb8d",
   "metadata": {},
   "source": [
    "### Correction des caractères spéciaux\n",
    "\n",
    "- Correction du symbole \"�\" dans la colonne \"longueur\".\n"
   ]
  },
  {
   "cell_type": "code",
   "execution_count": 8,
   "id": "7a604c7f-8a55-43a4-bc3d-4556e4e48317",
   "metadata": {},
   "outputs": [
    {
     "name": "stderr",
     "output_type": "stream",
     "text": [
      "[Stage 6:============================================>              (3 + 1) / 4]\r"
     ]
    },
    {
     "name": "stdout",
     "output_type": "stream",
     "text": [
      "+---------------+------+------+---------+--------+--------+--------+-------+--------+----+\n",
      "|immatriculation|marque|modele|puissance|longueur|nbplaces|nbportes|couleur|occasion|prix|\n",
      "+---------------+------+------+---------+--------+--------+--------+-------+--------+----+\n",
      "+---------------+------+------+---------+--------+--------+--------+-------+--------+----+\n",
      "\n"
     ]
    },
    {
     "name": "stderr",
     "output_type": "stream",
     "text": [
      "                                                                                \r"
     ]
    }
   ],
   "source": [
    "#Correction du symbole \"�\" dans la colonne \"longueur\"\n",
    "\n",
    "df_immat = df_immat.withColumn(\"longueur\", regexp_replace(col(\"longueur\"), \"�\", \"e\"))\n",
    "\n",
    "df_search_special_char_immat = df_immat.filter(\n",
    "    col(\"immatriculation\").like(\"%�%\") | \n",
    "    col(\"marque\").like(\"%�%\") | \n",
    "    col(\"modele\").like(\"%�%\") | \n",
    "    col(\"longueur\").like(\"%�%\") |\n",
    "    col(\"couleur\").like(\"%�%\") | \n",
    "    col(\"occasion\").like(\"%�%\")\n",
    ")\n",
    "\n",
    "df_search_special_char_immat.show()"
   ]
  },
  {
   "cell_type": "markdown",
   "id": "8f59c20c-2b9f-43cf-baf1-f2163a12ed07",
   "metadata": {},
   "source": [
    "## Recherche et correction des Null\n",
    "\n",
    "- Recherche des null"
   ]
  },
  {
   "cell_type": "code",
   "execution_count": 9,
   "id": "e576ac3b-bc6b-4108-b379-75b0f6207b61",
   "metadata": {},
   "outputs": [
    {
     "name": "stderr",
     "output_type": "stream",
     "text": [
      "[Stage 8:==============>                                            (1 + 3) / 4]\r"
     ]
    },
    {
     "name": "stdout",
     "output_type": "stream",
     "text": [
      "+---------------+------+------+---------+--------+--------+--------+-------+--------+----+\n",
      "|immatriculation|marque|modele|puissance|longueur|nbplaces|nbportes|couleur|occasion|prix|\n",
      "+---------------+------+------+---------+--------+--------+--------+-------+--------+----+\n",
      "+---------------+------+------+---------+--------+--------+--------+-------+--------+----+\n",
      "\n"
     ]
    },
    {
     "name": "stderr",
     "output_type": "stream",
     "text": [
      "                                                                                \r"
     ]
    }
   ],
   "source": [
    "\n",
    "#Recherche des null\n",
    "\n",
    "# Liste des colonnes du DataFrame\n",
    "colonnes = df_immat.columns\n",
    "\n",
    "# Filtrer pour conserver uniquement les lignes où au moins une colonne est nulle\n",
    "df_nulls = df_immat.filter(\n",
    "    sum(col(colonne).isNull().cast(\"int\") for colonne in colonnes) > 0\n",
    ")\n",
    "\n",
    "# Afficher les lignes avec des valeurs nulles\n",
    "df_nulls.show()"
   ]
  },
  {
   "cell_type": "markdown",
   "id": "7dcc0458-b79f-41bc-b993-e596134802bb",
   "metadata": {},
   "source": [
    "## Modification du type des colonnes occasion\n",
    "\n",
    "- Recherche des valeurs d'occasion\n",
    "- Changer le type de la colonne"
   ]
  },
  {
   "cell_type": "code",
   "execution_count": 10,
   "id": "50f16b99-7b86-42e0-96a1-8e11a5758723",
   "metadata": {},
   "outputs": [
    {
     "name": "stderr",
     "output_type": "stream",
     "text": [
      "[Stage 9:>                                                          (0 + 4) / 5]\r"
     ]
    },
    {
     "name": "stdout",
     "output_type": "stream",
     "text": [
      "+--------+-------+\n",
      "|occasion|  count|\n",
      "+--------+-------+\n",
      "|   false|1374510|\n",
      "|    true| 625490|\n",
      "+--------+-------+\n",
      "\n"
     ]
    },
    {
     "name": "stderr",
     "output_type": "stream",
     "text": [
      "                                                                                \r"
     ]
    }
   ],
   "source": [
    "#Recherche des valeurs d'occasion\n",
    "value_count_occasion = df_immat.groupBy(\"occasion\").count()\n",
    "\n",
    "value_count_occasion.show()"
   ]
  },
  {
   "cell_type": "code",
   "execution_count": 11,
   "id": "2a22e105-629c-4609-bbc3-31738c389a45",
   "metadata": {},
   "outputs": [
    {
     "name": "stdout",
     "output_type": "stream",
     "text": [
      "root\n",
      " |-- immatriculation: string (nullable = true)\n",
      " |-- marque: string (nullable = true)\n",
      " |-- modele: string (nullable = true)\n",
      " |-- puissance: integer (nullable = true)\n",
      " |-- longueur: string (nullable = true)\n",
      " |-- nbplaces: integer (nullable = true)\n",
      " |-- nbportes: integer (nullable = true)\n",
      " |-- couleur: string (nullable = true)\n",
      " |-- occasion: boolean (nullable = true)\n",
      " |-- prix: integer (nullable = true)\n",
      "\n"
     ]
    }
   ],
   "source": [
    "#Changer le type de la colonne\n",
    "df_immat = df_immat.withColumn(\"occasion\", df_immat[\"occasion\"].cast(BooleanType()))\n",
    "\n",
    "df_immat.printSchema()"
   ]
  },
  {
   "cell_type": "markdown",
   "id": "ac5e1bab-a73c-4398-a764-47eb58c2d483",
   "metadata": {},
   "source": [
    "## Recherche de valeurs aberrantes\n",
    "\n",
    "- Modéliser les valeurs dans un diagramme à moustaches pour mettre en avant les valeurs aberrantes.\n",
    "- Afficher les valeurs suspectes."
   ]
  },
  {
   "cell_type": "code",
   "execution_count": 12,
   "id": "11a57d6b-965d-4548-b132-e273f573ed7c",
   "metadata": {},
   "outputs": [
    {
     "name": "stderr",
     "output_type": "stream",
     "text": [
      "                                                                                \r"
     ]
    },
    {
     "data": {
      "image/png": "[encoded data removed]",
      "text/plain": [
       "<Figure size 864x576 with 1 Axes>"
      ]
     },
     "metadata": {
      "needs_background": "light"
     },
     "output_type": "display_data"
    },
    {
     "data": {
      "image/png": "[encoded data removed]",
      "text/plain": [
       "<Figure size 864x576 with 1 Axes>"
      ]
     },
     "metadata": {
      "needs_background": "light"
     },
     "output_type": "display_data"
    },
    {
     "data": {
      "image/png": "[encoded data removed]",
      "text/plain": [
       "<Figure size 864x576 with 1 Axes>"
      ]
     },
     "metadata": {
      "needs_background": "light"
     },
     "output_type": "display_data"
    }
   ],
   "source": [
    "#Modéliser les valeurs dans un diagramme à moustaches pour mettre en avant les valeurs aberrantes.\n",
    "\n",
    "# 2. Sélectionner uniquement les colonnes numériques nécessaires\n",
    "\n",
    "df_place_porte = df_immat.select([\"nbplaces\", \"nbportes\"])\n",
    "df_prix = df_immat.select([\"prix\"])\n",
    "df_puissance = df_immat.select([\"puissance\"])\n",
    "\n",
    "# 3. Convertir le DataFrame PySpark en DataFrame Pandas\n",
    "df_place_porte= df_place_porte.toPandas()\n",
    "df_prix= df_prix.toPandas()\n",
    "df_puissance= df_puissance.toPandas()\n",
    "\n",
    "# 4. Tracer le diagramme à moustaches pour chaque colonne\n",
    "plt.figure(figsize=(12, 8))\n",
    "sns.boxplot(data=df_place_porte)\n",
    "plt.title(\"Diagramme à moustache pour détecter les valeurs aberrantes places/portes\")\n",
    "plt.xticks(rotation=45)\n",
    "plt.show()\n",
    "\n",
    "plt.figure(figsize=(12, 8))\n",
    "sns.boxplot(data=df_puissance)\n",
    "plt.title(\"Diagramme à moustache pour détecter les valeurs aberrantes puissance\")\n",
    "plt.xticks(rotation=45)\n",
    "plt.show()\n",
    "\n",
    "plt.figure(figsize=(12, 8))\n",
    "sns.boxplot(data=df_prix)\n",
    "plt.title(\"Diagramme à moustache pour détecter les valeurs aberrantes prix\")\n",
    "plt.xticks(rotation=45)\n",
    "plt.show()"
   ]
  },
  {
   "cell_type": "code",
   "execution_count": 13,
   "id": "bf5a8efd-f876-4ec1-a53a-97a3af926caa",
   "metadata": {},
   "outputs": [
    {
     "name": "stdout",
     "output_type": "stream",
     "text": [
      "+---------------+--------+------+---------+-----------+--------+--------+-------+--------+------+\n",
      "|immatriculation|  marque|modele|puissance|   longueur|nbplaces|nbportes|couleur|occasion|  prix|\n",
      "+---------------+--------+------+---------+-----------+--------+--------+-------+--------+------+\n",
      "|     2905 OZ 78|mercedes|  s500|      306|tres longue|       5|       5|  rouge|   false|101300|\n",
      "|     6522 GW 32|mercedes|  s500|      306|tres longue|       5|       5|  rouge|   false|101300|\n",
      "|     2382 ZY 91|mercedes|  s500|      306|tres longue|       5|       5|  blanc|   false|101300|\n",
      "|     3144 TP 16|mercedes|  s500|      306|tres longue|       5|       5|   gris|   false|101300|\n",
      "|      445 MM 39|mercedes|  s500|      306|tres longue|       5|       5|   bleu|   false|101300|\n",
      "|     5580 NQ 13|mercedes|  s500|      306|tres longue|       5|       5|   noir|   false|101300|\n",
      "|     6063 JP 83|mercedes|  s500|      306|tres longue|       5|       5|   gris|   false|101300|\n",
      "|     4724 VB 70|mercedes|  s500|      306|tres longue|       5|       5|  blanc|   false|101300|\n",
      "|      328 SS 55|mercedes|  s500|      306|tres longue|       5|       5|   noir|   false|101300|\n",
      "|      559 OF 69|mercedes|  s500|      306|tres longue|       5|       5|  rouge|   false|101300|\n",
      "|     2570 UX 76|mercedes|  s500|      306|tres longue|       5|       5|   gris|   false|101300|\n",
      "|     9977 GM 34|mercedes|  s500|      306|tres longue|       5|       5|   bleu|   false|101300|\n",
      "|     2671 MV 49|mercedes|  s500|      306|tres longue|       5|       5|   noir|   false|101300|\n",
      "|     5674 PF 16|mercedes|  s500|      306|tres longue|       5|       5|   noir|   false|101300|\n",
      "|     5833 HD 92|mercedes|  s500|      306|tres longue|       5|       5|   noir|   false|101300|\n",
      "|     3796 DI 83|mercedes|  s500|      306|tres longue|       5|       5|   bleu|   false|101300|\n",
      "|     5431 NP 77|mercedes|  s500|      306|tres longue|       5|       5|   noir|   false|101300|\n",
      "|     1222 DX 85|mercedes|  s500|      306|tres longue|       5|       5|   noir|   false|101300|\n",
      "|     4923 PJ 95|mercedes|  s500|      306|tres longue|       5|       5|   noir|   false|101300|\n",
      "|     2064 FM 13|mercedes|  s500|      306|tres longue|       5|       5|  rouge|   false|101300|\n",
      "+---------------+--------+------+---------+-----------+--------+--------+-------+--------+------+\n",
      "only showing top 20 rows\n",
      "\n",
      "+---------------+------+-------------+---------+--------+--------+--------+-------+--------+----+\n",
      "|immatriculation|marque|       modele|puissance|longueur|nbplaces|nbportes|couleur|occasion|prix|\n",
      "+---------------+------+-------------+---------+--------+--------+--------+-------+--------+----+\n",
      "|     5778 UN 69| dacia|logan 1.6 mpi|       90| moyenne|       5|       5|   noir|   false|7500|\n",
      "|     4333 AD 87| dacia|logan 1.6 mpi|       90| moyenne|       5|       5|  blanc|   false|7500|\n",
      "|     7092 YZ 22| dacia|logan 1.6 mpi|       90| moyenne|       5|       5|   gris|   false|7500|\n",
      "|     8917 SU 68| dacia|logan 1.6 mpi|       90| moyenne|       5|       5|  blanc|   false|7500|\n",
      "|     2842 FJ 95| dacia|logan 1.6 mpi|       90| moyenne|       5|       5|   noir|   false|7500|\n",
      "|     6470 PI 77| dacia|logan 1.6 mpi|       90| moyenne|       5|       5|   gris|   false|7500|\n",
      "|     6461 ZY 54| dacia|logan 1.6 mpi|       90| moyenne|       5|       5|  blanc|   false|7500|\n",
      "|      589 MX 95| dacia|logan 1.6 mpi|       90| moyenne|       5|       5|  rouge|   false|7500|\n",
      "|     1614 QW 41| dacia|logan 1.6 mpi|       90| moyenne|       5|       5|   gris|   false|7500|\n",
      "|     1381 QY 11| dacia|logan 1.6 mpi|       90| moyenne|       5|       5|  blanc|   false|7500|\n",
      "|     6156 FD 15| dacia|logan 1.6 mpi|       90| moyenne|       5|       5|  blanc|   false|7500|\n",
      "|     2070 UW 91| dacia|logan 1.6 mpi|       90| moyenne|       5|       5|   gris|   false|7500|\n",
      "|     7790 JL 63| dacia|logan 1.6 mpi|       90| moyenne|       5|       5|   gris|   false|7500|\n",
      "|     2034 WT 25| dacia|logan 1.6 mpi|       90| moyenne|       5|       5|  rouge|   false|7500|\n",
      "|     7722 CQ 74| dacia|logan 1.6 mpi|       90| moyenne|       5|       5|   noir|   false|7500|\n",
      "|     7956 YX 72| dacia|logan 1.6 mpi|       90| moyenne|       5|       5|   noir|   false|7500|\n",
      "|     4881 SP 84| dacia|logan 1.6 mpi|       90| moyenne|       5|       5|   gris|   false|7500|\n",
      "|     9153 HH 11| dacia|logan 1.6 mpi|       90| moyenne|       5|       5|  rouge|   false|7500|\n",
      "|     5598 PG 38| dacia|logan 1.6 mpi|       90| moyenne|       5|       5|   bleu|   false|7500|\n",
      "|     3624 KE 36| dacia|logan 1.6 mpi|       90| moyenne|       5|       5|  rouge|   false|7500|\n",
      "+---------------+------+-------------+---------+--------+--------+--------+-------+--------+----+\n",
      "only showing top 20 rows\n",
      "\n"
     ]
    }
   ],
   "source": [
    "#Afficher les valeurs suspectes.\n",
    "\n",
    "# Trouver la valeur maximale de la colonne \"prix\"\n",
    "prix_max = df_immat.select(max(\"prix\")).collect()[0][0]\n",
    "\n",
    "# Filtrer le DataFrame pour afficher les lignes ayant cette valeur\n",
    "df_max_prix = df_immat.filter(df_immat[\"prix\"] == prix_max)\n",
    "\n",
    "# Afficher les lignes avec le prix maximum\n",
    "df_max_prix.show()\n",
    "\n",
    "# Trouver la valeur maximale de la colonne \"prix\"\n",
    "prix_min = df_immat.select(min(\"prix\")).collect()[0][0]\n",
    "\n",
    "# Filtrer le DataFrame pour afficher les lignes ayant cette valeur\n",
    "df_min_prix = df_immat.filter(df_immat[\"prix\"] == prix_min)\n",
    "\n",
    "# Afficher les lignes avec le prix maximum\n",
    "df_min_prix.show()"
   ]
  }
 ],
 "metadata": {
  "kernelspec": {
   "display_name": "Python 3 (ipykernel)",
   "language": "python",
   "name": "python3"
  },
  "language_info": {
   "codemirror_mode": {
    "name": "ipython",
    "version": 3
   },
   "file_extension": ".py",
   "mimetype": "text/x-python",
   "name": "python",
   "nbconvert_exporter": "python",
   "pygments_lexer": "ipython3",
   "version": "3.9.7"
  }
 },
 "nbformat": 4,
 "nbformat_minor": 5
}
