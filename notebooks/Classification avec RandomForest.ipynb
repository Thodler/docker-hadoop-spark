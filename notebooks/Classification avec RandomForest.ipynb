{
 "cells": [
  {
   "cell_type": "code",
   "execution_count": 1,
   "id": "initial_id",
   "metadata": {},
   "outputs": [],
   "source": [
    "from pyspark.sql import SparkSession\n",
    "from pyspark.sql.functions import col, when, count\n",
    "from pyspark.ml.feature import StringIndexer, OneHotEncoder, VectorAssembler\n",
    "from pyspark.ml.evaluation import MulticlassClassificationEvaluator\n",
    "from pyspark.ml.classification import RandomForestClassifier\n",
    "from pyspark.sql.types import DoubleType"
   ]
  },
  {
   "cell_type": "code",
   "execution_count": 2,
   "id": "ab0bc1ae-9658-433b-8e95-570503bfe684",
   "metadata": {},
   "outputs": [
    {
     "name": "stderr",
     "output_type": "stream",
     "text": [
      "WARNING: An illegal reflective access operation has occurred\n",
      "WARNING: Illegal reflective access by org.apache.spark.unsafe.Platform (file:/usr/local/spark-3.2.0-bin-hadoop3.2/jars/spark-unsafe_2.12-3.2.0.jar) to constructor java.nio.DirectByteBuffer(long,int)\n",
      "WARNING: Please consider reporting this to the maintainers of org.apache.spark.unsafe.Platform\n",
      "WARNING: Use --illegal-access=warn to enable warnings of further illegal reflective access operations\n",
      "WARNING: All illegal access operations will be denied in a future release\n",
      "Using Spark's default log4j profile: org/apache/spark/log4j-defaults.properties\n",
      "Setting default log level to \"WARN\".\n",
      "To adjust logging level use sc.setLogLevel(newLevel). For SparkR, use setLogLevel(newLevel).\n",
      "24/11/18 19:38:40 WARN NativeCodeLoader: Unable to load native-hadoop library for your platform... using builtin-java classes where applicable\n"
     ]
    },
    {
     "data": {
      "text/plain": [
       "DataFrame[]"
      ]
     },
     "execution_count": 2,
     "metadata": {},
     "output_type": "execute_result"
    }
   ],
   "source": [
    "spark = SparkSession.builder\\\n",
    "    .appName(\"Préparation de données\")\\\n",
    "    .enableHiveSupport()\\\n",
    "    .getOrCreate()\n",
    "\n",
    "spark.sparkContext.setLogLevel(\"OFF\")\n",
    "spark.catalog.clearCache()\n",
    "spark.sql(\"USE concessionnaire\")"
   ]
  },
  {
   "cell_type": "code",
   "execution_count": 3,
   "id": "60f4b1ed-bdc8-4e9c-8f95-40586dd17b84",
   "metadata": {},
   "outputs": [
    {
     "name": "stdout",
     "output_type": "stream",
     "text": [
      "root\n",
      " |-- immatriculation: string (nullable = true)\n",
      " |-- age: double (nullable = true)\n",
      " |-- sexe: string (nullable = true)\n",
      " |-- taux: double (nullable = true)\n",
      " |-- situationfamiliale: string (nullable = true)\n",
      " |-- nbenfantacharge: integer (nullable = true)\n",
      " |-- deuxiemevoiture: boolean (nullable = true)\n",
      " |-- taux_eligible: boolean (nullable = true)\n",
      " |-- marque: string (nullable = true)\n",
      " |-- modele: string (nullable = true)\n",
      " |-- puissance: integer (nullable = true)\n",
      " |-- longueur: string (nullable = true)\n",
      " |-- nbplaces: integer (nullable = true)\n",
      " |-- nbportes: integer (nullable = true)\n",
      " |-- couleur: string (nullable = true)\n",
      " |-- occasion: boolean (nullable = true)\n",
      " |-- prix: integer (nullable = true)\n",
      " |-- categorie: string (nullable = true)\n",
      "\n"
     ]
    }
   ],
   "source": [
    "clients_immatriculations = spark.sql(\"SELECT * FROM clients_immatriculations\")\n",
    "clients_immatriculations.printSchema()"
   ]
  },
  {
   "cell_type": "markdown",
   "id": "9407675b-70b3-4f9c-9697-5692f69d1408",
   "metadata": {},
   "source": [
    "### Verification des doublons"
   ]
  },
  {
   "cell_type": "code",
   "execution_count": 4,
   "id": "8c56f420-ef98-4a2c-acce-87665cc20510",
   "metadata": {},
   "outputs": [
    {
     "name": "stderr",
     "output_type": "stream",
     "text": [
      "                                                                                \r"
     ]
    },
    {
     "name": "stdout",
     "output_type": "stream",
     "text": [
      "+---------------+---+----+----+------------------+---------------+---------------+-------------+------+------+---------+--------+--------+--------+-------+--------+----+---------+-----+\n",
      "|immatriculation|age|sexe|taux|situationfamiliale|nbenfantacharge|deuxiemevoiture|taux_eligible|marque|modele|puissance|longueur|nbplaces|nbportes|couleur|occasion|prix|categorie|count|\n",
      "+---------------+---+----+----+------------------+---------------+---------------+-------------+------+------+---------+--------+--------+--------+-------+--------+----+---------+-----+\n",
      "+---------------+---+----+----+------------------+---------------+---------------+-------------+------+------+---------+--------+--------+--------+-------+--------+----+---------+-----+\n",
      "\n"
     ]
    }
   ],
   "source": [
    "doublons = clients_immatriculations.groupBy(*clients_immatriculations.columns).agg(count(\"*\").alias(\"count\")).filter(\"count > 1\")\n",
    "doublons.show(truncate=False)"
   ]
  },
  {
   "cell_type": "markdown",
   "id": "38ba59e5-8312-46f6-ad8c-7dcaeaaff557",
   "metadata": {},
   "source": [
    "### Analyse des **null**"
   ]
  },
  {
   "cell_type": "code",
   "execution_count": 5,
   "id": "3e63acba-9679-4d7f-8b39-77945e1d9951",
   "metadata": {},
   "outputs": [
    {
     "name": "stdout",
     "output_type": "stream",
     "text": [
      "+---------------+-----+\n",
      "|nbenfantacharge|count|\n",
      "+---------------+-----+\n",
      "|              1|16425|\n",
      "|              3|11451|\n",
      "|              4| 9960|\n",
      "|              2|16592|\n",
      "|              0|44973|\n",
      "+---------------+-----+\n",
      "\n"
     ]
    }
   ],
   "source": [
    "doublons = clients_immatriculations.groupBy('nbenfantacharge').count().show()"
   ]
  },
  {
   "cell_type": "markdown",
   "id": "4b2dbdd6-31ac-4a42-a66e-3cc563d97178",
   "metadata": {},
   "source": [
    "### Supprimer les colones innutiles"
   ]
  },
  {
   "cell_type": "code",
   "execution_count": 6,
   "id": "2c1b5453-dd53-4be0-be94-d9cca673f60c",
   "metadata": {},
   "outputs": [],
   "source": [
    "clients_immatriculations = clients_immatriculations.drop('immatriculation')\n",
    "clients_immatriculations = clients_immatriculations.drop('couleur')\n",
    "clients_immatriculations = clients_immatriculations.drop('marque')"
   ]
  },
  {
   "cell_type": "markdown",
   "id": "3c8b60cd-5374-46a8-9c79-d076d6116249",
   "metadata": {},
   "source": [
    "### OneHotEncoder"
   ]
  },
  {
   "cell_type": "code",
   "execution_count": 7,
   "id": "d2511917-dd2e-4baf-98a0-1274f9cb99af",
   "metadata": {},
   "outputs": [],
   "source": [
    "# indexer_marque = StringIndexer(inputCol=\"marque\", outputCol=\"marque_index\")\n",
    "# indexer_marque = indexer_marque.fit(clients_immatriculations)\n",
    "# clients_immatriculations = indexer_marque.transform(clients_immatriculations)\n",
    "\n",
    "# encoder_marque = OneHotEncoder(inputCol=\"marque_index\", outputCol=\"marque_encoded\")\n",
    "# clients_immatriculations = encoder_marque.fit(clients_immatriculations).transform(clients_immatriculations)"
   ]
  },
  {
   "cell_type": "code",
   "execution_count": 8,
   "id": "d3ddd877-5a4d-46f1-b09d-8817ae8c105f",
   "metadata": {},
   "outputs": [
    {
     "name": "stderr",
     "output_type": "stream",
     "text": [
      "                                                                                \r"
     ]
    }
   ],
   "source": [
    "indexer_sexe = StringIndexer(inputCol=\"sexe\", outputCol=\"sexe_index\")\n",
    "indexer_sexe_model = indexer_sexe.fit(clients_immatriculations)\n",
    "clients_immatriculations = indexer_sexe_model.transform(clients_immatriculations)\n",
    "\n",
    "encoder_sexe = OneHotEncoder(inputCol=\"sexe_index\", outputCol=\"sexe_encoded\")\n",
    "encoder_sexe_model = encoder_sexe.fit(clients_immatriculations)\n",
    "clients_immatriculations = encoder_sexe_model.transform(clients_immatriculations)"
   ]
  },
  {
   "cell_type": "code",
   "execution_count": 9,
   "id": "b09d7ca6-0af0-4d2c-9dc3-bc6bb6797749",
   "metadata": {},
   "outputs": [],
   "source": [
    "indexer_situationfamiliale = StringIndexer(inputCol=\"situationfamiliale\", outputCol=\"situationfamiliale_index\")\n",
    "indexer_situationfamiliale_model = indexer_situationfamiliale.fit(clients_immatriculations)\n",
    "clients_immatriculations = indexer_situationfamiliale_model.transform(clients_immatriculations)\n",
    "\n",
    "encoder_situationfamiliale = OneHotEncoder(inputCol=\"situationfamiliale_index\", outputCol=\"situationfamiliale_encoded\")\n",
    "encoder_situationfamiliale_model = encoder_situationfamiliale.fit(clients_immatriculations)\n",
    "clients_immatriculations = encoder_situationfamiliale_model.transform(clients_immatriculations)"
   ]
  },
  {
   "cell_type": "code",
   "execution_count": 10,
   "id": "2b2f949a-769a-4f30-b54e-e7c83769d91e",
   "metadata": {},
   "outputs": [],
   "source": [
    "# clients_immatriculations = clients_immatriculations.drop('marque') \n",
    "# clients_immatriculations = clients_immatriculations.drop('marque_index')\n",
    "clients_immatriculations = clients_immatriculations.drop('sexe') \n",
    "clients_immatriculations = clients_immatriculations.drop('sexe_index')\n",
    "clients_immatriculations = clients_immatriculations.drop('situationfamiliale') \n",
    "clients_immatriculations = clients_immatriculations.drop('situationfamiliale_index')\n",
    "clients_immatriculations = clients_immatriculations.drop('puissance')\n",
    "clients_immatriculations = clients_immatriculations.drop('nbportes')\n",
    "clients_immatriculations = clients_immatriculations.drop('occasion')\n",
    "clients_immatriculations = clients_immatriculations.drop('prix')\n",
    "clients_immatriculations = clients_immatriculations.drop('nbplaces') \n",
    "clients_immatriculations = clients_immatriculations.drop('modele') \n",
    "clients_immatriculations = clients_immatriculations.drop('longueur') \n",
    "\n",
    "clients_immatriculations = clients_immatriculations.withColumnRenamed('sexe_encoded', 'sexe')\n",
    "clients_immatriculations = clients_immatriculations.withColumnRenamed('situationfamiliale_encoded', 'situationfamiliale')"
   ]
  },
  {
   "cell_type": "markdown",
   "id": "8b60109f-41b4-47be-8a43-5fd09cc9a4cc",
   "metadata": {},
   "source": [
    "## Changer des Boolean en Int"
   ]
  },
  {
   "cell_type": "code",
   "execution_count": 11,
   "id": "ae7c2346-4801-4f04-8687-4c9840fc92f5",
   "metadata": {},
   "outputs": [
    {
     "name": "stdout",
     "output_type": "stream",
     "text": [
      "+----+-----+---------------+---------------+-------------+-------------------+-------------+------------------+\n",
      "| age| taux|nbenfantacharge|deuxiemevoiture|taux_eligible|          categorie|         sexe|situationfamiliale|\n",
      "+----+-----+---------------+---------------+-------------+-------------------+-------------+------------------+\n",
      "|61.0|188.0|              0|              0|            0|citadine economique|(1,[0],[1.0])|     (3,[1],[1.0])|\n",
      "|50.0|460.0|              3|              0|            0|      suv/crossover|    (1,[],[])|     (3,[0],[1.0])|\n",
      "|54.0|403.0|              0|              0|            0|citadine economique|(1,[0],[1.0])|     (3,[1],[1.0])|\n",
      "|74.0|531.0|              4|              1|            0|      suv/crossover|(1,[0],[1.0])|     (3,[0],[1.0])|\n",
      "+----+-----+---------------+---------------+-------------+-------------------+-------------+------------------+\n",
      "only showing top 4 rows\n",
      "\n"
     ]
    }
   ],
   "source": [
    "clients_immatriculations = clients_immatriculations.withColumn(\n",
    "    \"deuxiemevoiture\",\n",
    "    when(col(\"deuxiemevoiture\") == False, 0)\n",
    "    .when(col(\"deuxiemevoiture\") == True, 1)\n",
    "    .otherwise(col(\"deuxiemevoiture\").cast(\"int\"))\n",
    ")\n",
    "\n",
    "clients_immatriculations = clients_immatriculations.withColumn(\n",
    "    \"taux_eligible\",\n",
    "    when(col(\"taux_eligible\") == False, 0)\n",
    "    .when(col(\"taux_eligible\") == True, 1)\n",
    "    .otherwise(col(\"taux_eligible\").cast(\"int\"))\n",
    ")\n",
    "\n",
    "clients_immatriculations.show(4)"
   ]
  },
  {
   "cell_type": "markdown",
   "id": "cb6255f3-c5ba-40fe-80f6-e102ecca58ab",
   "metadata": {},
   "source": [
    "## Normalisation"
   ]
  },
  {
   "cell_type": "code",
   "execution_count": 12,
   "id": "56277c64-b994-4af0-b78f-6f35824725ef",
   "metadata": {},
   "outputs": [
    {
     "name": "stdout",
     "output_type": "stream",
     "text": [
      "+-------------------+-----+\n",
      "|          categorie|count|\n",
      "+-------------------+-----+\n",
      "|              autre| 5796|\n",
      "|          familiale|30363|\n",
      "|citadine economique|26772|\n",
      "|      suv/crossover|36470|\n",
      "+-------------------+-----+\n",
      "\n"
     ]
    }
   ],
   "source": [
    "clients_immatriculations.groupBy(\"categorie\").count().show()"
   ]
  },
  {
   "cell_type": "code",
   "execution_count": 13,
   "id": "d32c8ff4-6042-4155-a441-88c7b7c99e82",
   "metadata": {},
   "outputs": [
    {
     "name": "stdout",
     "output_type": "stream",
     "text": [
      "root\n",
      " |-- age: double (nullable = true)\n",
      " |-- taux: double (nullable = true)\n",
      " |-- nbenfantacharge: integer (nullable = true)\n",
      " |-- deuxiemevoiture: integer (nullable = true)\n",
      " |-- taux_eligible: integer (nullable = true)\n",
      " |-- categorie: string (nullable = true)\n",
      " |-- sexe: vector (nullable = true)\n",
      " |-- situationfamiliale: vector (nullable = true)\n",
      "\n",
      "+----+------+---------------+---------------+-------------+-------------------+-------------+------------------+\n",
      "| age|  taux|nbenfantacharge|deuxiemevoiture|taux_eligible|          categorie|         sexe|situationfamiliale|\n",
      "+----+------+---------------+---------------+-------------+-------------------+-------------+------------------+\n",
      "|61.0| 188.0|              0|              0|            0|citadine economique|(1,[0],[1.0])|     (3,[1],[1.0])|\n",
      "|50.0| 460.0|              3|              0|            0|      suv/crossover|    (1,[],[])|     (3,[0],[1.0])|\n",
      "|54.0| 403.0|              0|              0|            0|citadine economique|(1,[0],[1.0])|     (3,[1],[1.0])|\n",
      "|74.0| 531.0|              4|              1|            0|      suv/crossover|(1,[0],[1.0])|     (3,[0],[1.0])|\n",
      "|35.0| 208.0|              0|              0|            0|          familiale|(1,[0],[1.0])|     (3,[1],[1.0])|\n",
      "|66.0| 960.0|              1|              0|            1|      suv/crossover|(1,[0],[1.0])|     (3,[0],[1.0])|\n",
      "|65.0| 199.0|              0|              0|            0|          familiale|    (1,[],[])|     (3,[0],[1.0])|\n",
      "|67.0|1072.0|              0|              0|            1|      suv/crossover|(1,[0],[1.0])|     (3,[0],[1.0])|\n",
      "|34.0| 411.0|              4|              0|            0|      suv/crossover|(1,[0],[1.0])|     (3,[0],[1.0])|\n",
      "|51.0|1281.0|              2|              0|            1|      suv/crossover|(1,[0],[1.0])|     (3,[0],[1.0])|\n",
      "|81.0|1091.0|              1|              0|            1|      suv/crossover|(1,[0],[1.0])|     (3,[0],[1.0])|\n",
      "|28.0| 583.0|              0|              0|            1|          familiale|(1,[0],[1.0])|     (3,[1],[1.0])|\n",
      "|22.0|1125.0|              3|              0|            1|      suv/crossover|    (1,[],[])|     (3,[1],[1.0])|\n",
      "|48.0| 991.0|              4|              0|            1|      suv/crossover|(1,[0],[1.0])|     (3,[0],[1.0])|\n",
      "|32.0| 156.0|              2|              0|            0|      suv/crossover|    (1,[],[])|     (3,[0],[1.0])|\n",
      "|41.0| 429.0|              1|              0|            0|          familiale|(1,[0],[1.0])|     (3,[0],[1.0])|\n",
      "|20.0|1120.0|              3|              0|            1|      suv/crossover|(1,[0],[1.0])|     (3,[1],[1.0])|\n",
      "|52.0| 847.0|              0|              0|            1|citadine economique|    (1,[],[])|     (3,[1],[1.0])|\n",
      "|66.0| 236.0|              4|              0|            0|              autre|(1,[0],[1.0])|     (3,[0],[1.0])|\n",
      "|23.0| 493.0|              0|              0|            0|          familiale|(1,[0],[1.0])|     (3,[1],[1.0])|\n",
      "+----+------+---------------+---------------+-------------+-------------------+-------------+------------------+\n",
      "only showing top 20 rows\n",
      "\n"
     ]
    }
   ],
   "source": [
    "clients_immatriculations.printSchema()\n",
    "clients_immatriculations.show()"
   ]
  },
  {
   "cell_type": "markdown",
   "id": "85b53327-4841-467d-95f9-ace9e02d2258",
   "metadata": {
    "tags": []
   },
   "source": [
    "## Classificateur"
   ]
  },
  {
   "cell_type": "code",
   "execution_count": 14,
   "id": "2852a30d-3822-463d-bb84-5402c33e5afc",
   "metadata": {},
   "outputs": [],
   "source": [
    "# Encodage des colonnes catégoriques (si la cible est catégorique)\n",
    "indexer = StringIndexer(inputCol=\"categorie\", outputCol=\"label\")\n",
    "data = indexer.fit(clients_immatriculations).transform(clients_immatriculations)\n",
    "\n",
    "# Assembler les colonnes de caractéristiques\n",
    "feature_cols = [col for col in data.columns if col != \"categorie\" and col != \"label\"]\n",
    "assembler = VectorAssembler(inputCols=feature_cols, outputCol=\"features\")\n",
    "data = assembler.transform(data).select(\"features\", \"label\")"
   ]
  },
  {
   "cell_type": "code",
   "execution_count": 15,
   "id": "170e7b65-e632-4b4c-9854-98e3006de093",
   "metadata": {},
   "outputs": [
    {
     "name": "stderr",
     "output_type": "stream",
     "text": [
      "                                                                                \r"
     ]
    },
    {
     "name": "stdout",
     "output_type": "stream",
     "text": [
      "Taille de l'ensemble d'entraînement : 60059\n",
      "Taille de l'ensemble de validation : 19739\n",
      "Taille de l'ensemble de test : 19603\n"
     ]
    },
    {
     "name": "stderr",
     "output_type": "stream",
     "text": [
      "                                                                                \r"
     ]
    }
   ],
   "source": [
    "# Diviser les données en 60% entraînement, 20% validation et 20% test\n",
    "(trainingData, validationData, testData) = data.randomSplit([0.6, 0.2, 0.2], seed=42)\n",
    "\n",
    "print(f\"Taille de l'ensemble d'entraînement : {trainingData.count()}\")\n",
    "print(f\"Taille de l'ensemble de validation : {validationData.count()}\")\n",
    "print(f\"Taille de l'ensemble de test : {testData.count()}\")\n",
    "\n",
    "# Définir le modèle de régression linéaire\n",
    "rf = RandomForestClassifier(labelCol=\"label\", featuresCol=\"features\", numTrees=100, maxDepth=10)\n",
    "rf_model = rf.fit(trainingData)"
   ]
  },
  {
   "cell_type": "code",
   "execution_count": 16,
   "id": "be282b75-af7f-49e5-8033-291d3be5cbe0",
   "metadata": {},
   "outputs": [
    {
     "name": "stderr",
     "output_type": "stream",
     "text": [
      "                                                                                \r"
     ]
    },
    {
     "name": "stdout",
     "output_type": "stream",
     "text": [
      "F1-score Train : 78.24%\n",
      "F1-score Test : 77.73%\n"
     ]
    },
    {
     "name": "stderr",
     "output_type": "stream",
     "text": [
      "                                                                                \r"
     ]
    }
   ],
   "source": [
    "trainPrediction =  rf_model.transform(trainingData)\n",
    "evaluator = MulticlassClassificationEvaluator(\n",
    "    labelCol=\"label\", predictionCol=\"prediction\", metricName=\"f1\"\n",
    ")\n",
    "\n",
    "f1_score_train = evaluator.evaluate(trainPrediction)\n",
    "print(f\"F1-score Train : {f1_score_train * 100:.2f}%\")\n",
    "\n",
    "# Faire des prédictions\n",
    "testPredictions = rf_model.transform(testData)\n",
    "f1_score_test = evaluator.evaluate(testPredictions)\n",
    "\n",
    "print(f\"F1-score Test : {f1_score_test * 100:.2f}%\")"
   ]
  },
  {
   "cell_type": "markdown",
   "id": "47f403ff-43a0-4a09-a419-f780cef54661",
   "metadata": {},
   "source": [
    "## Prediction de marketing"
   ]
  },
  {
   "cell_type": "code",
   "execution_count": 17,
   "id": "a060c524-53f1-4815-bd80-cef0546281a3",
   "metadata": {},
   "outputs": [
    {
     "name": "stdout",
     "output_type": "stream",
     "text": [
      "root\n",
      " |-- age: integer (nullable = true)\n",
      " |-- sexe: string (nullable = true)\n",
      " |-- taux: float (nullable = true)\n",
      " |-- situationfamiliale: string (nullable = true)\n",
      " |-- nbenfantacharge: integer (nullable = true)\n",
      " |-- deuxiemevoiture: boolean (nullable = true)\n",
      " |-- taux_eligible: boolean (nullable = true)\n",
      "\n"
     ]
    }
   ],
   "source": [
    "df_marketing = spark.sql(\"SELECT * FROM marketing\")\n",
    "df_marketing.printSchema()"
   ]
  },
  {
   "cell_type": "code",
   "execution_count": 18,
   "id": "ff5079d3-2717-46ce-9510-e5cd73c17f02",
   "metadata": {},
   "outputs": [],
   "source": [
    "df_marketing = indexer_sexe_model.transform(df_marketing)\n",
    "df_marketing = encoder_sexe_model.transform(df_marketing)\n",
    "\n",
    "df_marketing = indexer_situationfamiliale_model.transform(df_marketing)\n",
    "df_marketing = encoder_situationfamiliale_model.transform(df_marketing)"
   ]
  },
  {
   "cell_type": "code",
   "execution_count": 19,
   "id": "50304373-dd19-4dce-9b92-245e5784b695",
   "metadata": {},
   "outputs": [],
   "source": [
    "df_marketing = df_marketing.drop('sexe') \n",
    "df_marketing = df_marketing.drop('situationfamiliale') \n",
    "\n",
    "df_marketing = df_marketing.withColumnRenamed('sexe_encoded', 'sexe')\n",
    "df_marketing = df_marketing.withColumnRenamed('situationfamiliale_encoded', 'situationfamiliale')"
   ]
  },
  {
   "cell_type": "code",
   "execution_count": 20,
   "id": "f1c180cb-75a6-40f2-9f8f-690e3993cd14",
   "metadata": {},
   "outputs": [
    {
     "name": "stdout",
     "output_type": "stream",
     "text": [
      "+---+------+---------------+---------------+-------------+----------+-------------+------------------------+------------------+\n",
      "|age|  taux|nbenfantacharge|deuxiemevoiture|taux_eligible|sexe_index|         sexe|situationfamiliale_index|situationfamiliale|\n",
      "+---+------+---------------+---------------+-------------+----------+-------------+------------------------+------------------+\n",
      "| 21|1396.0|              0|              0|            0|       1.0|    (1,[],[])|                     1.0|     (3,[1],[1.0])|\n",
      "| 35| 223.0|              0|              0|            1|       0.0|(1,[0],[1.0])|                     1.0|     (3,[1],[1.0])|\n",
      "| 48| 401.0|              0|              0|            1|       0.0|(1,[0],[1.0])|                     1.0|     (3,[1],[1.0])|\n",
      "| 26| 420.0|              3|              1|            1|       1.0|    (1,[],[])|                     0.0|     (3,[0],[1.0])|\n",
      "+---+------+---------------+---------------+-------------+----------+-------------+------------------------+------------------+\n",
      "only showing top 4 rows\n",
      "\n",
      "+----+-----+---------------+---------------+-------------+-------------------+-------------+------------------+\n",
      "| age| taux|nbenfantacharge|deuxiemevoiture|taux_eligible|          categorie|         sexe|situationfamiliale|\n",
      "+----+-----+---------------+---------------+-------------+-------------------+-------------+------------------+\n",
      "|61.0|188.0|              0|              0|            0|citadine economique|(1,[0],[1.0])|     (3,[1],[1.0])|\n",
      "|50.0|460.0|              3|              0|            0|      suv/crossover|    (1,[],[])|     (3,[0],[1.0])|\n",
      "|54.0|403.0|              0|              0|            0|citadine economique|(1,[0],[1.0])|     (3,[1],[1.0])|\n",
      "|74.0|531.0|              4|              1|            0|      suv/crossover|(1,[0],[1.0])|     (3,[0],[1.0])|\n",
      "+----+-----+---------------+---------------+-------------+-------------------+-------------+------------------+\n",
      "only showing top 4 rows\n",
      "\n",
      "Training data types:\n",
      "root\n",
      " |-- features: vector (nullable = true)\n",
      " |-- label: double (nullable = false)\n",
      "\n",
      "Prediction data types:\n",
      "root\n",
      " |-- age: integer (nullable = true)\n",
      " |-- taux: float (nullable = true)\n",
      " |-- nbenfantacharge: integer (nullable = true)\n",
      " |-- deuxiemevoiture: integer (nullable = true)\n",
      " |-- taux_eligible: integer (nullable = true)\n",
      " |-- sexe_index: double (nullable = false)\n",
      " |-- sexe: vector (nullable = true)\n",
      " |-- situationfamiliale_index: double (nullable = false)\n",
      " |-- situationfamiliale: vector (nullable = true)\n",
      "\n"
     ]
    }
   ],
   "source": [
    "df_marketing = df_marketing.withColumn(\n",
    "    \"deuxiemevoiture\",\n",
    "    when(col(\"deuxiemevoiture\") == False, 0)\n",
    "    .when(col(\"deuxiemevoiture\") == True, 1)\n",
    "    .otherwise(col(\"deuxiemevoiture\").cast(\"int\"))\n",
    ")\n",
    "\n",
    "df_marketing = df_marketing.withColumn(\n",
    "    \"taux_eligible\",\n",
    "    when(col(\"taux_eligible\") == False, 0)\n",
    "    .when(col(\"taux_eligible\") == True, 1)\n",
    "    .otherwise(col(\"taux_eligible\").cast(\"int\"))\n",
    ")\n",
    "\n",
    "df_marketing.show(4)\n",
    "clients_immatriculations.show(4)\n",
    "\n",
    "print(\"Training data types:\")\n",
    "trainingData.printSchema()  # DataFrame de l'entraînement\n",
    "print(\"Prediction data types:\")\n",
    "df_marketing.printSchema()  # DataFrame de prédiction"
   ]
  },
  {
   "cell_type": "code",
   "execution_count": 21,
   "id": "15516a64-d2bb-411f-bb93-1d6e7463dfb3",
   "metadata": {},
   "outputs": [
    {
     "ename": "AnalysisException",
     "evalue": "cannot resolve 'age' given input columns: [features, prediction, probability, rawPrediction];\n'Project ['age, 'taux, 'nbenfantacharge, 'deuxiemevoiture, 'taux_eligible, 'sexe_value, 'situationfamiliale_value, 'predicted_category]\n+- Project [features#1435, rawPrediction#1449, probability#1455, UDF(rawPrediction#1449) AS prediction#1465]\n   +- Project [features#1435, rawPrediction#1449, UDF(rawPrediction#1449) AS probability#1455]\n      +- Project [features#1435, UDF(features#1435) AS rawPrediction#1449]\n         +- Project [features#1435]\n            +- Project [age#1057, taux#1059, nbenfantacharge#1061, deuxiemevoiture#1184, taux_eligible#1194, sexe_index#1074, sexe#1164, situationfamiliale_index#1109, situationfamiliale#1174, UDF(struct(age_double_VectorAssembler_0d33ee4c48e5, cast(age#1057 as double), taux_double_VectorAssembler_0d33ee4c48e5, cast(taux#1059 as double), nbenfantacharge_double_VectorAssembler_0d33ee4c48e5, cast(nbenfantacharge#1061 as double), deuxiemevoiture_double_VectorAssembler_0d33ee4c48e5, cast(deuxiemevoiture#1184 as double), taux_eligible_double_VectorAssembler_0d33ee4c48e5, cast(taux_eligible#1194 as double), sexe, sexe#1164, situationfamiliale, situationfamiliale#1174)) AS features#1435]\n               +- Project [age#1057, taux#1059, nbenfantacharge#1061, deuxiemevoiture#1184, CASE WHEN (taux_eligible#1063 = false) THEN 0 WHEN (taux_eligible#1063 = true) THEN 1 ELSE cast(taux_eligible#1063 as int) END AS taux_eligible#1194, sexe_index#1074, sexe#1164, situationfamiliale_index#1109, situationfamiliale#1174]\n                  +- Project [age#1057, taux#1059, nbenfantacharge#1061, CASE WHEN (deuxiemevoiture#1062 = false) THEN 0 WHEN (deuxiemevoiture#1062 = true) THEN 1 ELSE cast(deuxiemevoiture#1062 as int) END AS deuxiemevoiture#1184, taux_eligible#1063, sexe_index#1074, sexe#1164, situationfamiliale_index#1109, situationfamiliale#1174]\n                     +- Project [age#1057, taux#1059, nbenfantacharge#1061, deuxiemevoiture#1062, taux_eligible#1063, sexe_index#1074, sexe#1164, situationfamiliale_index#1109, situationfamiliale_encoded#1127 AS situationfamiliale#1174]\n                        +- Project [age#1057, taux#1059, nbenfantacharge#1061, deuxiemevoiture#1062, taux_eligible#1063, sexe_index#1074, sexe_encoded#1090 AS sexe#1164, situationfamiliale_index#1109, situationfamiliale_encoded#1127]\n                           +- Project [age#1057, taux#1059, nbenfantacharge#1061, deuxiemevoiture#1062, taux_eligible#1063, sexe_index#1074, sexe_encoded#1090, situationfamiliale_index#1109, situationfamiliale_encoded#1127]\n                              +- Project [age#1057, taux#1059, situationfamiliale#1060, nbenfantacharge#1061, deuxiemevoiture#1062, taux_eligible#1063, sexe_index#1074, sexe_encoded#1090, situationfamiliale_index#1109, situationfamiliale_encoded#1127]\n                                 +- Project [age#1057, sexe#1058, taux#1059, situationfamiliale#1060, nbenfantacharge#1061, deuxiemevoiture#1062, taux_eligible#1063, sexe_index#1074, sexe_encoded#1090, situationfamiliale_index#1109, UDF(cast(situationfamiliale_index#1109 as double), 0) AS situationfamiliale_encoded#1127]\n                                    +- Project [age#1057, sexe#1058, taux#1059, situationfamiliale#1060, nbenfantacharge#1061, deuxiemevoiture#1062, taux_eligible#1063, sexe_index#1074, sexe_encoded#1090, UDF(cast(situationfamiliale#1060 as string)) AS situationfamiliale_index#1109]\n                                       +- Project [age#1057, sexe#1058, taux#1059, situationfamiliale#1060, nbenfantacharge#1061, deuxiemevoiture#1062, taux_eligible#1063, sexe_index#1074, UDF(cast(sexe_index#1074 as double), 0) AS sexe_encoded#1090]\n                                          +- Project [age#1057, sexe#1058, taux#1059, situationfamiliale#1060, nbenfantacharge#1061, deuxiemevoiture#1062, taux_eligible#1063, UDF(cast(sexe#1058 as string)) AS sexe_index#1074]\n                                             +- Project [age#1057, sexe#1058, taux#1059, situationfamiliale#1060, nbenfantacharge#1061, deuxiemevoiture#1062, taux_eligible#1063]\n                                                +- SubqueryAlias spark_catalog.concessionnaire.marketing\n                                                   +- Relation concessionnaire.marketing[age#1057,sexe#1058,taux#1059,situationfamiliale#1060,nbenfantacharge#1061,deuxiemevoiture#1062,taux_eligible#1063] parquet\n",
     "output_type": "error",
     "traceback": [
      "\u001b[0;31m---------------------------------------------------------------------------\u001b[0m",
      "\u001b[0;31mAnalysisException\u001b[0m                         Traceback (most recent call last)",
      "\u001b[0;32m/tmp/ipykernel_8440/452381117.py\u001b[0m in \u001b[0;36m<module>\u001b[0;34m\u001b[0m\n\u001b[1;32m     10\u001b[0m                 'taux_eligible', 'sexe_value', 'situationfamiliale_value', 'predicted_category']\n\u001b[1;32m     11\u001b[0m \u001b[0;34m\u001b[0m\u001b[0m\n\u001b[0;32m---> 12\u001b[0;31m \u001b[0mmarketingPrediction\u001b[0m\u001b[0;34m.\u001b[0m\u001b[0mselect\u001b[0m\u001b[0;34m(\u001b[0m\u001b[0mdisplay_cols\u001b[0m\u001b[0;34m)\u001b[0m\u001b[0;34m.\u001b[0m\u001b[0mshow\u001b[0m\u001b[0;34m(\u001b[0m\u001b[0;34m)\u001b[0m\u001b[0;34m\u001b[0m\u001b[0;34m\u001b[0m\u001b[0m\n\u001b[0m",
      "\u001b[0;32m/usr/local/spark/python/pyspark/sql/dataframe.py\u001b[0m in \u001b[0;36mselect\u001b[0;34m(self, *cols)\u001b[0m\n\u001b[1;32m   1683\u001b[0m         \u001b[0;34m[\u001b[0m\u001b[0mRow\u001b[0m\u001b[0;34m(\u001b[0m\u001b[0mname\u001b[0m\u001b[0;34m=\u001b[0m\u001b[0;34m'Alice'\u001b[0m\u001b[0;34m,\u001b[0m \u001b[0mage\u001b[0m\u001b[0;34m=\u001b[0m\u001b[0;36m12\u001b[0m\u001b[0;34m)\u001b[0m\u001b[0;34m,\u001b[0m \u001b[0mRow\u001b[0m\u001b[0;34m(\u001b[0m\u001b[0mname\u001b[0m\u001b[0;34m=\u001b[0m\u001b[0;34m'Bob'\u001b[0m\u001b[0;34m,\u001b[0m \u001b[0mage\u001b[0m\u001b[0;34m=\u001b[0m\u001b[0;36m15\u001b[0m\u001b[0;34m)\u001b[0m\u001b[0;34m]\u001b[0m\u001b[0;34m\u001b[0m\u001b[0;34m\u001b[0m\u001b[0m\n\u001b[1;32m   1684\u001b[0m         \"\"\"\n\u001b[0;32m-> 1685\u001b[0;31m         \u001b[0mjdf\u001b[0m \u001b[0;34m=\u001b[0m \u001b[0mself\u001b[0m\u001b[0;34m.\u001b[0m\u001b[0m_jdf\u001b[0m\u001b[0;34m.\u001b[0m\u001b[0mselect\u001b[0m\u001b[0;34m(\u001b[0m\u001b[0mself\u001b[0m\u001b[0;34m.\u001b[0m\u001b[0m_jcols\u001b[0m\u001b[0;34m(\u001b[0m\u001b[0;34m*\u001b[0m\u001b[0mcols\u001b[0m\u001b[0;34m)\u001b[0m\u001b[0;34m)\u001b[0m\u001b[0;34m\u001b[0m\u001b[0;34m\u001b[0m\u001b[0m\n\u001b[0m\u001b[1;32m   1686\u001b[0m         \u001b[0;32mreturn\u001b[0m \u001b[0mDataFrame\u001b[0m\u001b[0;34m(\u001b[0m\u001b[0mjdf\u001b[0m\u001b[0;34m,\u001b[0m \u001b[0mself\u001b[0m\u001b[0;34m.\u001b[0m\u001b[0msql_ctx\u001b[0m\u001b[0;34m)\u001b[0m\u001b[0;34m\u001b[0m\u001b[0;34m\u001b[0m\u001b[0m\n\u001b[1;32m   1687\u001b[0m \u001b[0;34m\u001b[0m\u001b[0m\n",
      "\u001b[0;32m/usr/local/spark/python/lib/py4j-0.10.9.2-src.zip/py4j/java_gateway.py\u001b[0m in \u001b[0;36m__call__\u001b[0;34m(self, *args)\u001b[0m\n\u001b[1;32m   1307\u001b[0m \u001b[0;34m\u001b[0m\u001b[0m\n\u001b[1;32m   1308\u001b[0m         \u001b[0manswer\u001b[0m \u001b[0;34m=\u001b[0m \u001b[0mself\u001b[0m\u001b[0;34m.\u001b[0m\u001b[0mgateway_client\u001b[0m\u001b[0;34m.\u001b[0m\u001b[0msend_command\u001b[0m\u001b[0;34m(\u001b[0m\u001b[0mcommand\u001b[0m\u001b[0;34m)\u001b[0m\u001b[0;34m\u001b[0m\u001b[0;34m\u001b[0m\u001b[0m\n\u001b[0;32m-> 1309\u001b[0;31m         return_value = get_return_value(\n\u001b[0m\u001b[1;32m   1310\u001b[0m             answer, self.gateway_client, self.target_id, self.name)\n\u001b[1;32m   1311\u001b[0m \u001b[0;34m\u001b[0m\u001b[0m\n",
      "\u001b[0;32m/usr/local/spark/python/pyspark/sql/utils.py\u001b[0m in \u001b[0;36mdeco\u001b[0;34m(*a, **kw)\u001b[0m\n\u001b[1;32m    115\u001b[0m                 \u001b[0;31m# Hide where the exception came from that shows a non-Pythonic\u001b[0m\u001b[0;34m\u001b[0m\u001b[0;34m\u001b[0m\u001b[0m\n\u001b[1;32m    116\u001b[0m                 \u001b[0;31m# JVM exception message.\u001b[0m\u001b[0;34m\u001b[0m\u001b[0;34m\u001b[0m\u001b[0m\n\u001b[0;32m--> 117\u001b[0;31m                 \u001b[0;32mraise\u001b[0m \u001b[0mconverted\u001b[0m \u001b[0;32mfrom\u001b[0m \u001b[0;32mNone\u001b[0m\u001b[0;34m\u001b[0m\u001b[0;34m\u001b[0m\u001b[0m\n\u001b[0m\u001b[1;32m    118\u001b[0m             \u001b[0;32melse\u001b[0m\u001b[0;34m:\u001b[0m\u001b[0;34m\u001b[0m\u001b[0;34m\u001b[0m\u001b[0m\n\u001b[1;32m    119\u001b[0m                 \u001b[0;32mraise\u001b[0m\u001b[0;34m\u001b[0m\u001b[0;34m\u001b[0m\u001b[0m\n",
      "\u001b[0;31mAnalysisException\u001b[0m: cannot resolve 'age' given input columns: [features, prediction, probability, rawPrediction];\n'Project ['age, 'taux, 'nbenfantacharge, 'deuxiemevoiture, 'taux_eligible, 'sexe_value, 'situationfamiliale_value, 'predicted_category]\n+- Project [features#1435, rawPrediction#1449, probability#1455, UDF(rawPrediction#1449) AS prediction#1465]\n   +- Project [features#1435, rawPrediction#1449, UDF(rawPrediction#1449) AS probability#1455]\n      +- Project [features#1435, UDF(features#1435) AS rawPrediction#1449]\n         +- Project [features#1435]\n            +- Project [age#1057, taux#1059, nbenfantacharge#1061, deuxiemevoiture#1184, taux_eligible#1194, sexe_index#1074, sexe#1164, situationfamiliale_index#1109, situationfamiliale#1174, UDF(struct(age_double_VectorAssembler_0d33ee4c48e5, cast(age#1057 as double), taux_double_VectorAssembler_0d33ee4c48e5, cast(taux#1059 as double), nbenfantacharge_double_VectorAssembler_0d33ee4c48e5, cast(nbenfantacharge#1061 as double), deuxiemevoiture_double_VectorAssembler_0d33ee4c48e5, cast(deuxiemevoiture#1184 as double), taux_eligible_double_VectorAssembler_0d33ee4c48e5, cast(taux_eligible#1194 as double), sexe, sexe#1164, situationfamiliale, situationfamiliale#1174)) AS features#1435]\n               +- Project [age#1057, taux#1059, nbenfantacharge#1061, deuxiemevoiture#1184, CASE WHEN (taux_eligible#1063 = false) THEN 0 WHEN (taux_eligible#1063 = true) THEN 1 ELSE cast(taux_eligible#1063 as int) END AS taux_eligible#1194, sexe_index#1074, sexe#1164, situationfamiliale_index#1109, situationfamiliale#1174]\n                  +- Project [age#1057, taux#1059, nbenfantacharge#1061, CASE WHEN (deuxiemevoiture#1062 = false) THEN 0 WHEN (deuxiemevoiture#1062 = true) THEN 1 ELSE cast(deuxiemevoiture#1062 as int) END AS deuxiemevoiture#1184, taux_eligible#1063, sexe_index#1074, sexe#1164, situationfamiliale_index#1109, situationfamiliale#1174]\n                     +- Project [age#1057, taux#1059, nbenfantacharge#1061, deuxiemevoiture#1062, taux_eligible#1063, sexe_index#1074, sexe#1164, situationfamiliale_index#1109, situationfamiliale_encoded#1127 AS situationfamiliale#1174]\n                        +- Project [age#1057, taux#1059, nbenfantacharge#1061, deuxiemevoiture#1062, taux_eligible#1063, sexe_index#1074, sexe_encoded#1090 AS sexe#1164, situationfamiliale_index#1109, situationfamiliale_encoded#1127]\n                           +- Project [age#1057, taux#1059, nbenfantacharge#1061, deuxiemevoiture#1062, taux_eligible#1063, sexe_index#1074, sexe_encoded#1090, situationfamiliale_index#1109, situationfamiliale_encoded#1127]\n                              +- Project [age#1057, taux#1059, situationfamiliale#1060, nbenfantacharge#1061, deuxiemevoiture#1062, taux_eligible#1063, sexe_index#1074, sexe_encoded#1090, situationfamiliale_index#1109, situationfamiliale_encoded#1127]\n                                 +- Project [age#1057, sexe#1058, taux#1059, situationfamiliale#1060, nbenfantacharge#1061, deuxiemevoiture#1062, taux_eligible#1063, sexe_index#1074, sexe_encoded#1090, situationfamiliale_index#1109, UDF(cast(situationfamiliale_index#1109 as double), 0) AS situationfamiliale_encoded#1127]\n                                    +- Project [age#1057, sexe#1058, taux#1059, situationfamiliale#1060, nbenfantacharge#1061, deuxiemevoiture#1062, taux_eligible#1063, sexe_index#1074, sexe_encoded#1090, UDF(cast(situationfamiliale#1060 as string)) AS situationfamiliale_index#1109]\n                                       +- Project [age#1057, sexe#1058, taux#1059, situationfamiliale#1060, nbenfantacharge#1061, deuxiemevoiture#1062, taux_eligible#1063, sexe_index#1074, UDF(cast(sexe_index#1074 as double), 0) AS sexe_encoded#1090]\n                                          +- Project [age#1057, sexe#1058, taux#1059, situationfamiliale#1060, nbenfantacharge#1061, deuxiemevoiture#1062, taux_eligible#1063, UDF(cast(sexe#1058 as string)) AS sexe_index#1074]\n                                             +- Project [age#1057, sexe#1058, taux#1059, situationfamiliale#1060, nbenfantacharge#1061, deuxiemevoiture#1062, taux_eligible#1063]\n                                                +- SubqueryAlias spark_catalog.concessionnaire.marketing\n                                                   +- Relation concessionnaire.marketing[age#1057,sexe#1058,taux#1059,situationfamiliale#1060,nbenfantacharge#1061,deuxiemevoiture#1062,taux_eligible#1063] parquet\n"
     ]
    }
   ],
   "source": [
    "# Assemble features using the same columns as in training\n",
    "feature_cols = ['age', 'taux', 'nbenfantacharge', 'deuxiemevoiture', 'taux_eligible', 'sexe', 'situationfamiliale']\n",
    "assembler = VectorAssembler(inputCols=feature_cols, outputCol=\"features\")\n",
    "prediction_data = assembler.transform(df_marketing).select(\"features\")\n",
    "\n",
    "# Generate predictions\n",
    "marketingPrediction = rf_model.transform(prediction_data)\n",
    "\n",
    "# Show results\n",
    "marketingPrediction.select(\"features\", \"prediction\").show()"
   ]
  },
  {
   "cell_type": "code",
   "execution_count": null,
   "id": "0c2959a5-8766-4fff-ac1d-6f444a0e9c9b",
   "metadata": {},
   "outputs": [],
   "source": []
  }
 ],
 "metadata": {
  "kernelspec": {
   "display_name": "Python 3 (ipykernel)",
   "language": "python",
   "name": "python3"
  },
  "language_info": {
   "codemirror_mode": {
    "name": "ipython",
    "version": 3
   },
   "file_extension": ".py",
   "mimetype": "text/x-python",
   "name": "python",
   "nbconvert_exporter": "python",
   "pygments_lexer": "ipython3",
   "version": "3.9.7"
  }
 },
 "nbformat": 4,
 "nbformat_minor": 5
}
