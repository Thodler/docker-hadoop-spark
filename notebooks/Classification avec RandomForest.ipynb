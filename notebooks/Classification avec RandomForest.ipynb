{
 "cells": [
  {
   "cell_type": "code",
   "execution_count": null,
   "id": "initial_id",
   "metadata": {
    "jupyter": {
     "is_executing": true
    }
   },
   "outputs": [],
   "source": [
    "from pyspark.sql import SparkSession\n",
    "from pyspark.sql.functions import col, when, count, floor\n",
    "from pyspark.ml.feature import StringIndexer, OneHotEncoder, VectorAssembler, IndexToString, StandardScaler\n",
    "from pyspark.ml.evaluation import MulticlassClassificationEvaluator\n",
    "from pyspark.ml.classification import RandomForestClassifier\n",
    "from pyspark.sql.types import DoubleType\n",
    "from itertools import product\n",
    "\n",
    "import seaborn as sns\n",
    "import matplotlib.pyplot as plt"
   ]
  },
  {
   "cell_type": "code",
   "execution_count": 2,
   "id": "ab0bc1ae-9658-433b-8e95-570503bfe684",
   "metadata": {},
   "outputs": [
    {
     "name": "stderr",
     "output_type": "stream",
     "text": [
      "WARNING: An illegal reflective access operation has occurred\n",
      "WARNING: Illegal reflective access by org.apache.spark.unsafe.Platform (file:/usr/local/spark-3.2.0-bin-hadoop3.2/jars/spark-unsafe_2.12-3.2.0.jar) to constructor java.nio.DirectByteBuffer(long,int)\n",
      "WARNING: Please consider reporting this to the maintainers of org.apache.spark.unsafe.Platform\n",
      "WARNING: Use --illegal-access=warn to enable warnings of further illegal reflective access operations\n",
      "WARNING: All illegal access operations will be denied in a future release\n",
      "Using Spark's default log4j profile: org/apache/spark/log4j-defaults.properties\n",
      "Setting default log level to \"WARN\".\n",
      "To adjust logging level use sc.setLogLevel(newLevel). For SparkR, use setLogLevel(newLevel).\n",
      "24/11/20 13:47:53 WARN NativeCodeLoader: Unable to load native-hadoop library for your platform... using builtin-java classes where applicable\n"
     ]
    },
    {
     "data": {
      "text/plain": [
       "DataFrame[]"
      ]
     },
     "execution_count": 2,
     "metadata": {},
     "output_type": "execute_result"
    }
   ],
   "source": [
    "spark = SparkSession.builder\\\n",
    "    .appName(\"Classification RandomForest\")\\\n",
    "    .config(\"spark.executor.memory\", \"4g\") \\\n",
    "    .config(\"spark.driver.memory\", \"4g\") \\\n",
    "    .config(\"spark.sql.shuffle.partitions\", \"200\") \\\n",
    "    .enableHiveSupport()\\\n",
    "    .getOrCreate()\n",
    "\n",
    "spark.sparkContext.setLogLevel(\"OFF\")\n",
    "spark.catalog.clearCache()\n",
    "spark.sql(\"USE concessionnaire\")"
   ]
  },
  {
   "cell_type": "code",
   "execution_count": 3,
   "id": "60f4b1ed-bdc8-4e9c-8f95-40586dd17b84",
   "metadata": {},
   "outputs": [
    {
     "name": "stdout",
     "output_type": "stream",
     "text": [
      "root\n",
      " |-- immatriculation: string (nullable = true)\n",
      " |-- age: double (nullable = true)\n",
      " |-- sexe: string (nullable = true)\n",
      " |-- taux: double (nullable = true)\n",
      " |-- situationfamiliale: string (nullable = true)\n",
      " |-- nbenfantacharge: integer (nullable = true)\n",
      " |-- deuxiemevoiture: boolean (nullable = true)\n",
      " |-- taux_eligible: boolean (nullable = true)\n",
      " |-- marque: string (nullable = true)\n",
      " |-- modele: string (nullable = true)\n",
      " |-- puissance: integer (nullable = true)\n",
      " |-- longueur: string (nullable = true)\n",
      " |-- nbplaces: integer (nullable = true)\n",
      " |-- nbportes: integer (nullable = true)\n",
      " |-- couleur: string (nullable = true)\n",
      " |-- occasion: boolean (nullable = true)\n",
      " |-- prix: integer (nullable = true)\n",
      " |-- categorie: string (nullable = true)\n",
      "\n"
     ]
    }
   ],
   "source": [
    "clients_immatriculations = spark.sql(\"SELECT * FROM clients_immatriculations\")\n",
    "clients_immatriculations.printSchema()"
   ]
  },
  {
   "cell_type": "markdown",
   "id": "9407675b-70b3-4f9c-9697-5692f69d1408",
   "metadata": {},
   "source": [
    "### Verification des doublons"
   ]
  },
  {
   "cell_type": "code",
   "execution_count": 4,
   "id": "8c56f420-ef98-4a2c-acce-87665cc20510",
   "metadata": {},
   "outputs": [
    {
     "name": "stderr",
     "output_type": "stream",
     "text": [
      "                                                                                \r"
     ]
    },
    {
     "name": "stdout",
     "output_type": "stream",
     "text": [
      "+---------------+---+----+----+------------------+---------------+---------------+-------------+------+------+---------+--------+--------+--------+-------+--------+----+---------+-----+\n",
      "|immatriculation|age|sexe|taux|situationfamiliale|nbenfantacharge|deuxiemevoiture|taux_eligible|marque|modele|puissance|longueur|nbplaces|nbportes|couleur|occasion|prix|categorie|count|\n",
      "+---------------+---+----+----+------------------+---------------+---------------+-------------+------+------+---------+--------+--------+--------+-------+--------+----+---------+-----+\n",
      "+---------------+---+----+----+------------------+---------------+---------------+-------------+------+------+---------+--------+--------+--------+-------+--------+----+---------+-----+\n",
      "\n"
     ]
    }
   ],
   "source": [
    "doublons = clients_immatriculations.groupBy(*clients_immatriculations.columns).agg(count(\"*\").alias(\"count\")).filter(\"count > 1\")\n",
    "doublons.show(truncate=False)"
   ]
  },
  {
   "cell_type": "markdown",
   "id": "38ba59e5-8312-46f6-ad8c-7dcaeaaff557",
   "metadata": {},
   "source": [
    "### Analyse des **null**"
   ]
  },
  {
   "cell_type": "code",
   "execution_count": 5,
   "id": "3e63acba-9679-4d7f-8b39-77945e1d9951",
   "metadata": {},
   "outputs": [
    {
     "name": "stderr",
     "output_type": "stream",
     "text": [
      "[Stage 7:===>                                                     (1 + 15) / 16]\r"
     ]
    },
    {
     "name": "stdout",
     "output_type": "stream",
     "text": [
      "+---------------+-----+\n",
      "|nbenfantacharge|count|\n",
      "+---------------+-----+\n",
      "|              1|16425|\n",
      "|              3|11451|\n",
      "|              4| 9960|\n",
      "|              2|16592|\n",
      "|              0|44973|\n",
      "+---------------+-----+\n",
      "\n"
     ]
    },
    {
     "name": "stderr",
     "output_type": "stream",
     "text": [
      "                                                                                \r"
     ]
    }
   ],
   "source": [
    "doublons = clients_immatriculations.groupBy('nbenfantacharge').count().show()"
   ]
  },
  {
   "cell_type": "markdown",
   "id": "4b2dbdd6-31ac-4a42-a66e-3cc563d97178",
   "metadata": {},
   "source": [
    "### Supprimer les colones inutiles"
   ]
  },
  {
   "cell_type": "code",
   "execution_count": 6,
   "id": "2c1b5453-dd53-4be0-be94-d9cca673f60c",
   "metadata": {},
   "outputs": [
    {
     "name": "stdout",
     "output_type": "stream",
     "text": [
      "+----+----+------+------------------+---------------+---------------+-------------+----------------+---------+-----------+--------+--------+--------+------+---------+\n",
      "| age|sexe|  taux|situationfamiliale|nbenfantacharge|deuxiemevoiture|taux_eligible|          modele|puissance|   longueur|nbplaces|nbportes|occasion|  prix|categorie|\n",
      "+----+----+------+------------------+---------------+---------------+-------------+----------------+---------+-----------+--------+--------+--------+------+---------+\n",
      "|61.0|   M| 188.0|       celibataire|              0|          false|        false|     picanto 1.1|       65|     courte|       5|       5|   false|  8990| citadine|\n",
      "|50.0|   F| 460.0|         en couple|              3|          false|        false|vel satis 3.5 v6|      245|tres longue|       5|       5|   false| 49200|      SUV|\n",
      "|54.0|   M| 403.0|       celibataire|              0|          false|        false|     polo 1.2 6v|       55|     courte|       5|       3|   false| 12200| citadine|\n",
      "|74.0|   M| 531.0|         en couple|              4|           true|        false|            s500|      306|tres longue|       5|       5|    true| 70910|      SUV|\n",
      "|35.0|   M| 208.0|       celibataire|              0|          false|        false|    golf 2.0 fsi|      150|    moyenne|       5|       5|    true| 16029| compacte|\n",
      "|66.0|   M| 960.0|         en couple|              1|          false|         true|        9.3 1.8t|      150|     longue|       5|       5|   false| 38600|  berline|\n",
      "|65.0|   F| 199.0|         en couple|              0|          false|        false|      toledo 1.6|      102|     longue|       5|       5|   false| 18880|    break|\n",
      "|67.0|   M|1072.0|         en couple|              0|          false|         true|            s500|      306|tres longue|       5|       5|   false|101300|      SUV|\n",
      "|34.0|   M| 411.0|         en couple|              4|          false|        false|vel satis 3.5 v6|      245|tres longue|       5|       5|   false| 49200|      SUV|\n",
      "|51.0|   M|1281.0|         en couple|              2|          false|         true|   x-type 2.5 v6|      197|     longue|       5|       5|   false| 37100|  berline|\n",
      "|81.0|   M|1091.0|         en couple|              1|          false|         true|        9.3 1.8t|      150|     longue|       5|       5|   false| 38600|  berline|\n",
      "|28.0|   M| 583.0|       celibataire|              0|          false|         true|    golf 2.0 fsi|      150|    moyenne|       5|       5|   false| 22900| compacte|\n",
      "|22.0|   F|1125.0|       celibataire|              3|          false|         true|   x-type 2.5 v6|      197|     longue|       5|       5|   false| 37100|  berline|\n",
      "|48.0|   M| 991.0|         en couple|              4|          false|         true|              m5|      507|tres longue|       5|       5|   false| 94800|      SUV|\n",
      "|32.0|   F| 156.0|         en couple|              2|          false|        false|          s80 t6|      272|tres longue|       5|       5|    true| 35350|      SUV|\n",
      "|41.0|   M| 429.0|         en couple|              1|          false|        false|       croma 2.2|      147|     longue|       5|       5|   false| 24780|    break|\n",
      "|20.0|   M|1120.0|       celibataire|              3|          false|         true|              m5|      507|tres longue|       5|       5|   false| 94800|      SUV|\n",
      "|52.0|   F| 847.0|       celibataire|              0|          false|         true|          a2 1.4|       75|     courte|       5|       5|   false| 18310| citadine|\n",
      "|66.0|   M| 236.0|         en couple|              4|          false|        false|   maxima 3.0 v6|      200|tres longue|       5|       5|   false| 30000| citadine|\n",
      "|23.0|   M| 493.0|       celibataire|              0|          false|        false|            120i|      150|    moyenne|       5|       5|    true| 25060| citadine|\n",
      "+----+----+------+------------------+---------------+---------------+-------------+----------------+---------+-----------+--------+--------+--------+------+---------+\n",
      "only showing top 20 rows\n",
      "\n"
     ]
    }
   ],
   "source": [
    "clients_immatriculations = clients_immatriculations.drop('immatriculation')\n",
    "clients_immatriculations = clients_immatriculations.drop('couleur')\n",
    "clients_immatriculations = clients_immatriculations.drop('marque')\n",
    "\n",
    "clients_immatriculations.show()"
   ]
  },
  {
   "cell_type": "code",
   "execution_count": 7,
   "id": "e0056371-2534-4dcc-9b5a-927bb79ae83f",
   "metadata": {},
   "outputs": [],
   "source": [
    "\n",
    "# clients_immatriculations = clients_immatriculations.withColumn(\n",
    "#     \"age_group\",\n",
    "#     when(col(\"age\") < 26, 0)\n",
    "#     .when((col(\"age\") >= 26) & (col(\"age\") <= 35), 1)\n",
    "#     .when((col(\"age\") >= 36) & (col(\"age\") <= 50), 2)\n",
    "#     .otherwise(3)\n",
    "# )\n",
    "\n",
    "\n",
    "# clients_immatriculations = clients_immatriculations.withColumn(\n",
    "#     \"nbenfantacharge_grouped\",\n",
    "#     when(col(\"nbenfantacharge\") >= 2, 1).otherwise(0)\n",
    "# )\n",
    "\n",
    "\n",
    "# clients_immatriculations = clients_immatriculations.withColumn(\"taux_par_enfant\", col(\"taux\") / (col(\"nbenfantacharge\") + 1))\n",
    "# clients_immatriculations = clients_immatriculations.withColumn(\"age_taux_ratio\", col(\"age\") / (col(\"taux\") + 1))\n",
    "# clients_immatriculations = clients_immatriculations.withColumn(\"deuxieme_voiture_taux\", col(\"deuxiemevoiture\") * col(\"taux\"))"
   ]
  },
  {
   "cell_type": "markdown",
   "id": "3c8b60cd-5374-46a8-9c79-d076d6116249",
   "metadata": {},
   "source": [
    "### OneHotEncoder"
   ]
  },
  {
   "cell_type": "code",
   "execution_count": 8,
   "id": "d3ddd877-5a4d-46f1-b09d-8817ae8c105f",
   "metadata": {},
   "outputs": [
    {
     "name": "stderr",
     "output_type": "stream",
     "text": [
      "                                                                                \r"
     ]
    }
   ],
   "source": [
    "indexer_sexe = StringIndexer(inputCol=\"sexe\", outputCol=\"sexe_index\").fit(clients_immatriculations)\n",
    "clients_immatriculations = indexer_sexe.transform(clients_immatriculations)\n",
    "\n",
    "encoder_sexe = OneHotEncoder(inputCol=\"sexe_index\", outputCol=\"sexe_encoded\").fit(clients_immatriculations)\n",
    "clients_immatriculations = encoder_sexe.transform(clients_immatriculations)"
   ]
  },
  {
   "cell_type": "code",
   "execution_count": 9,
   "id": "b09d7ca6-0af0-4d2c-9dc3-bc6bb6797749",
   "metadata": {},
   "outputs": [],
   "source": [
    "indexer_situationfamiliale = StringIndexer(inputCol=\"situationfamiliale\", outputCol=\"situationfamiliale_index\").fit(clients_immatriculations)\n",
    "clients_immatriculations = indexer_situationfamiliale.transform(clients_immatriculations)\n",
    "\n",
    "encoder_situationfamiliale = OneHotEncoder(inputCol=\"situationfamiliale_index\", outputCol=\"situationfamiliale_encoded\").fit(clients_immatriculations)\n",
    "clients_immatriculations = encoder_situationfamiliale.transform(clients_immatriculations)"
   ]
  },
  {
   "cell_type": "code",
   "execution_count": 10,
   "id": "2b2f949a-769a-4f30-b54e-e7c83769d91e",
   "metadata": {},
   "outputs": [],
   "source": [
    "clients_immatriculations = clients_immatriculations.drop('puissance')\n",
    "clients_immatriculations = clients_immatriculations.drop('nbportes')\n",
    "clients_immatriculations = clients_immatriculations.drop('occasion')\n",
    "clients_immatriculations = clients_immatriculations.drop('prix')\n",
    "clients_immatriculations = clients_immatriculations.drop('nbplaces') \n",
    "clients_immatriculations = clients_immatriculations.drop('modele') \n",
    "clients_immatriculations = clients_immatriculations.drop('longueur')"
   ]
  },
  {
   "cell_type": "markdown",
   "id": "8b60109f-41b4-47be-8a43-5fd09cc9a4cc",
   "metadata": {},
   "source": [
    "## Changer des Boolean en Int"
   ]
  },
  {
   "cell_type": "code",
   "execution_count": 11,
   "id": "ae7c2346-4801-4f04-8687-4c9840fc92f5",
   "metadata": {},
   "outputs": [
    {
     "name": "stdout",
     "output_type": "stream",
     "text": [
      "+----+----+-----+------------------+---------------+---------------+-------------+---------+----------+-------------+------------------------+--------------------------+\n",
      "| age|sexe| taux|situationfamiliale|nbenfantacharge|deuxiemevoiture|taux_eligible|categorie|sexe_index| sexe_encoded|situationfamiliale_index|situationfamiliale_encoded|\n",
      "+----+----+-----+------------------+---------------+---------------+-------------+---------+----------+-------------+------------------------+--------------------------+\n",
      "|61.0|   M|188.0|       celibataire|              0|              0|            0| citadine|       0.0|(1,[0],[1.0])|                     1.0|             (3,[1],[1.0])|\n",
      "|50.0|   F|460.0|         en couple|              3|              0|            0|      SUV|       1.0|    (1,[],[])|                     0.0|             (3,[0],[1.0])|\n",
      "|54.0|   M|403.0|       celibataire|              0|              0|            0| citadine|       0.0|(1,[0],[1.0])|                     1.0|             (3,[1],[1.0])|\n",
      "|74.0|   M|531.0|         en couple|              4|              1|            0|      SUV|       0.0|(1,[0],[1.0])|                     0.0|             (3,[0],[1.0])|\n",
      "+----+----+-----+------------------+---------------+---------------+-------------+---------+----------+-------------+------------------------+--------------------------+\n",
      "only showing top 4 rows\n",
      "\n"
     ]
    }
   ],
   "source": [
    "clients_immatriculations = clients_immatriculations.withColumn(\n",
    "    \"deuxiemevoiture\",\n",
    "    when(col(\"deuxiemevoiture\") == False, 0)\n",
    "    .when(col(\"deuxiemevoiture\") == True, 1)\n",
    "    .otherwise(col(\"deuxiemevoiture\").cast(\"int\"))\n",
    ")\n",
    "\n",
    "clients_immatriculations = clients_immatriculations.withColumn(\n",
    "    \"taux_eligible\",\n",
    "    when(col(\"taux_eligible\") == False, 0)\n",
    "    .when(col(\"taux_eligible\") == True, 1)\n",
    "    .otherwise(col(\"taux_eligible\").cast(\"int\"))\n",
    ")\n",
    "\n",
    "clients_immatriculations.show(4)"
   ]
  },
  {
   "cell_type": "markdown",
   "id": "cb6255f3-c5ba-40fe-80f6-e102ecca58ab",
   "metadata": {},
   "source": [
    "## Normalisation"
   ]
  },
  {
   "cell_type": "code",
   "execution_count": 12,
   "id": "56277c64-b994-4af0-b78f-6f35824725ef",
   "metadata": {},
   "outputs": [
    {
     "name": "stderr",
     "output_type": "stream",
     "text": [
      "[Stage 18:===>                                                    (1 + 15) / 16]\r"
     ]
    },
    {
     "name": "stdout",
     "output_type": "stream",
     "text": [
      "+---------+-----+\n",
      "|categorie|count|\n",
      "+---------+-----+\n",
      "| citadine|35715|\n",
      "|  berline| 8163|\n",
      "|      SUV|28314|\n",
      "| compacte| 8330|\n",
      "|    break|18879|\n",
      "+---------+-----+\n",
      "\n"
     ]
    },
    {
     "name": "stderr",
     "output_type": "stream",
     "text": [
      "                                                                                \r"
     ]
    }
   ],
   "source": [
    "clients_immatriculations.groupBy(\"categorie\").count().show()"
   ]
  },
  {
   "cell_type": "code",
   "execution_count": 13,
   "id": "d32c8ff4-6042-4155-a441-88c7b7c99e82",
   "metadata": {},
   "outputs": [
    {
     "name": "stdout",
     "output_type": "stream",
     "text": [
      "root\n",
      " |-- age: double (nullable = true)\n",
      " |-- sexe: string (nullable = true)\n",
      " |-- taux: double (nullable = true)\n",
      " |-- situationfamiliale: string (nullable = true)\n",
      " |-- nbenfantacharge: integer (nullable = true)\n",
      " |-- deuxiemevoiture: integer (nullable = true)\n",
      " |-- taux_eligible: integer (nullable = true)\n",
      " |-- categorie: string (nullable = true)\n",
      " |-- sexe_index: double (nullable = false)\n",
      " |-- sexe_encoded: vector (nullable = true)\n",
      " |-- situationfamiliale_index: double (nullable = false)\n",
      " |-- situationfamiliale_encoded: vector (nullable = true)\n",
      "\n",
      "+----+----+------+------------------+---------------+---------------+-------------+---------+----------+-------------+------------------------+--------------------------+\n",
      "| age|sexe|  taux|situationfamiliale|nbenfantacharge|deuxiemevoiture|taux_eligible|categorie|sexe_index| sexe_encoded|situationfamiliale_index|situationfamiliale_encoded|\n",
      "+----+----+------+------------------+---------------+---------------+-------------+---------+----------+-------------+------------------------+--------------------------+\n",
      "|61.0|   M| 188.0|       celibataire|              0|              0|            0| citadine|       0.0|(1,[0],[1.0])|                     1.0|             (3,[1],[1.0])|\n",
      "|50.0|   F| 460.0|         en couple|              3|              0|            0|      SUV|       1.0|    (1,[],[])|                     0.0|             (3,[0],[1.0])|\n",
      "|54.0|   M| 403.0|       celibataire|              0|              0|            0| citadine|       0.0|(1,[0],[1.0])|                     1.0|             (3,[1],[1.0])|\n",
      "|74.0|   M| 531.0|         en couple|              4|              1|            0|      SUV|       0.0|(1,[0],[1.0])|                     0.0|             (3,[0],[1.0])|\n",
      "|35.0|   M| 208.0|       celibataire|              0|              0|            0| compacte|       0.0|(1,[0],[1.0])|                     1.0|             (3,[1],[1.0])|\n",
      "|66.0|   M| 960.0|         en couple|              1|              0|            1|  berline|       0.0|(1,[0],[1.0])|                     0.0|             (3,[0],[1.0])|\n",
      "|65.0|   F| 199.0|         en couple|              0|              0|            0|    break|       1.0|    (1,[],[])|                     0.0|             (3,[0],[1.0])|\n",
      "|67.0|   M|1072.0|         en couple|              0|              0|            1|      SUV|       0.0|(1,[0],[1.0])|                     0.0|             (3,[0],[1.0])|\n",
      "|34.0|   M| 411.0|         en couple|              4|              0|            0|      SUV|       0.0|(1,[0],[1.0])|                     0.0|             (3,[0],[1.0])|\n",
      "|51.0|   M|1281.0|         en couple|              2|              0|            1|  berline|       0.0|(1,[0],[1.0])|                     0.0|             (3,[0],[1.0])|\n",
      "|81.0|   M|1091.0|         en couple|              1|              0|            1|  berline|       0.0|(1,[0],[1.0])|                     0.0|             (3,[0],[1.0])|\n",
      "|28.0|   M| 583.0|       celibataire|              0|              0|            1| compacte|       0.0|(1,[0],[1.0])|                     1.0|             (3,[1],[1.0])|\n",
      "|22.0|   F|1125.0|       celibataire|              3|              0|            1|  berline|       1.0|    (1,[],[])|                     1.0|             (3,[1],[1.0])|\n",
      "|48.0|   M| 991.0|         en couple|              4|              0|            1|      SUV|       0.0|(1,[0],[1.0])|                     0.0|             (3,[0],[1.0])|\n",
      "|32.0|   F| 156.0|         en couple|              2|              0|            0|      SUV|       1.0|    (1,[],[])|                     0.0|             (3,[0],[1.0])|\n",
      "|41.0|   M| 429.0|         en couple|              1|              0|            0|    break|       0.0|(1,[0],[1.0])|                     0.0|             (3,[0],[1.0])|\n",
      "|20.0|   M|1120.0|       celibataire|              3|              0|            1|      SUV|       0.0|(1,[0],[1.0])|                     1.0|             (3,[1],[1.0])|\n",
      "|52.0|   F| 847.0|       celibataire|              0|              0|            1| citadine|       1.0|    (1,[],[])|                     1.0|             (3,[1],[1.0])|\n",
      "|66.0|   M| 236.0|         en couple|              4|              0|            0| citadine|       0.0|(1,[0],[1.0])|                     0.0|             (3,[0],[1.0])|\n",
      "|23.0|   M| 493.0|       celibataire|              0|              0|            0| citadine|       0.0|(1,[0],[1.0])|                     1.0|             (3,[1],[1.0])|\n",
      "+----+----+------+------------------+---------------+---------------+-------------+---------+----------+-------------+------------------------+--------------------------+\n",
      "only showing top 20 rows\n",
      "\n"
     ]
    }
   ],
   "source": [
    "clients_immatriculations.printSchema()\n",
    "clients_immatriculations.show()"
   ]
  },
  {
   "cell_type": "markdown",
   "id": "85b53327-4841-467d-95f9-ace9e02d2258",
   "metadata": {
    "tags": []
   },
   "source": [
    "## Classificateur"
   ]
  },
  {
   "cell_type": "code",
   "execution_count": 15,
   "id": "2852a30d-3822-463d-bb84-5402c33e5afc",
   "metadata": {},
   "outputs": [
    {
     "name": "stderr",
     "output_type": "stream",
     "text": [
      "                                                                                \r"
     ]
    }
   ],
   "source": [
    "# Apprentissage des labels\n",
    "indexer_model = StringIndexer(inputCol=\"categorie\", outputCol=\"label\").fit(clients_immatriculations)\n",
    "\n",
    "clients_immatriculations = indexer_model.transform(clients_immatriculations)"
   ]
  },
  {
   "cell_type": "code",
   "execution_count": 16,
   "id": "8bf24337-fef1-4e47-a9c6-54da08193079",
   "metadata": {},
   "outputs": [],
   "source": [
    "feature_cols = [col for col in clients_immatriculations.columns if col not in [\"categorie\", \"label\", 'sexe', 'situationfamiliale']]\n",
    "assembler = VectorAssembler(inputCols=feature_cols, outputCol=\"features\")\n",
    "data = assembler.transform(clients_immatriculations).select(\"features\", \"label\")"
   ]
  },
  {
   "cell_type": "code",
   "execution_count": 17,
   "id": "5054b3df-b139-49d9-a83b-f810bec88f95",
   "metadata": {},
   "outputs": [
    {
     "name": "stderr",
     "output_type": "stream",
     "text": [
      "                                                                                \r"
     ]
    },
    {
     "name": "stdout",
     "output_type": "stream",
     "text": [
      "Index(['age', 'sexe', 'taux', 'situationfamiliale', 'nbenfantacharge',\n",
      "       'deuxiemevoiture', 'taux_eligible', 'categorie', 'sexe_index',\n",
      "       'sexe_encoded', 'situationfamiliale_index',\n",
      "       'situationfamiliale_encoded', 'label'],\n",
      "      dtype='object')\n"
     ]
    },
    {
     "data": {
      "image/png": "[encoded data removed]",
      "text/plain": [
       "<Figure size 720x576 with 2 Axes>"
      ]
     },
     "metadata": {
      "needs_background": "light"
     },
     "output_type": "display_data"
    }
   ],
   "source": [
    "# Convertir le DataFrame PySpark en DataFrame Pandas\n",
    "clients_pd = clients_immatriculations.toPandas()\n",
    "\n",
    "print(clients_pd.columns)\n",
    "\n",
    "# Garder uniquement les colonnes numériques pour la corrélation\n",
    "numeric_columns = clients_pd.columns\n",
    "numeric_data = clients_pd[numeric_columns]\n",
    "\n",
    "# Calcul de la matrice de corrélation\n",
    "correlation_matrix = numeric_data.corr()\n",
    "\n",
    "# Tracer la heatmap\n",
    "plt.figure(figsize=(10, 8))\n",
    "sns.heatmap(correlation_matrix, annot=True, fmt=\".2f\", cmap=\"coolwarm\", cbar=True)\n",
    "plt.title(\"Matrice de corrélation des colonnes numériques\")\n",
    "plt.show()"
   ]
  },
  {
   "cell_type": "code",
   "execution_count": 18,
   "id": "170e7b65-e632-4b4c-9854-98e3006de093",
   "metadata": {},
   "outputs": [
    {
     "name": "stderr",
     "output_type": "stream",
     "text": [
      "                                                                                \r"
     ]
    },
    {
     "name": "stdout",
     "output_type": "stream",
     "text": [
      "Taille de l'ensemble d'entraînement : 79795\n"
     ]
    },
    {
     "name": "stderr",
     "output_type": "stream",
     "text": [
      "[Stage 29:===>                                                    (1 + 15) / 16]\r"
     ]
    },
    {
     "name": "stdout",
     "output_type": "stream",
     "text": [
      "Taille de l'ensemble de test : 19606\n"
     ]
    },
    {
     "name": "stderr",
     "output_type": "stream",
     "text": [
      "                                                                                \r"
     ]
    }
   ],
   "source": [
    "# Diviser les données en 60% entraînement, 20% validation et 20% test\n",
    "(trainingData, testData) = data.randomSplit([0.8, 0.2], seed=42)\n",
    "\n",
    "print(f\"Taille de l'ensemble d'entraînement : {trainingData.count()}\")\n",
    "# print(f\"Taille de l'ensemble de validation : {validationData.count()}\")\n",
    "print(f\"Taille de l'ensemble de test : {testData.count()}\")\n"
   ]
  },
  {
   "cell_type": "code",
   "execution_count": 19,
   "id": "05328e62-6898-481d-bbec-1167a65b7ebc",
   "metadata": {},
   "outputs": [
    {
     "name": "stderr",
     "output_type": "stream",
     "text": [
      "[Stage 498:===>                                                   (1 + 15) / 16]\r"
     ]
    },
    {
     "name": "stdout",
     "output_type": "stream",
     "text": [
      "Meilleurs paramètres : numTrees=10, maxDepth=15, maxBins=64 avec précision=0.7370453737987723\n"
     ]
    },
    {
     "name": "stderr",
     "output_type": "stream",
     "text": [
      "                                                                                \r"
     ]
    }
   ],
   "source": [
    "# Définir les hyperparamètres à tester\n",
    "param_grid = {\n",
    "    'numTrees': [10, 20, 50],\n",
    "    'maxDepth': [5, 10, 15],\n",
    "    'maxBins': [32, 64]\n",
    "}\n",
    "\n",
    "# Liste pour enregistrer les résultats\n",
    "results = []\n",
    "\n",
    "# Générer toutes les combinaisons d'hyperparamètres\n",
    "for numTrees, maxDepth, maxBins in product(param_grid['numTrees'], param_grid['maxDepth'], param_grid['maxBins']):\n",
    "    # Configurer le modèle avec les hyperparamètres\n",
    "    rf = RandomForestClassifier(numTrees=numTrees, maxDepth=maxDepth, maxBins=maxBins, labelCol=\"label\", featuresCol=\"features\")\n",
    "    \n",
    "    # Entraîner le modèle\n",
    "    model = rf.fit(trainingData)\n",
    "    \n",
    "    # Prédire sur les données de test\n",
    "    predictions = model.transform(testData)\n",
    "    \n",
    "    # Évaluer la précision\n",
    "    evaluator = MulticlassClassificationEvaluator(labelCol=\"label\", predictionCol=\"prediction\", metricName=\"f1\")\n",
    "    f1_score = evaluator.evaluate(predictions)\n",
    "    \n",
    "    # Enregistrer les résultats\n",
    "    results.append((numTrees, maxDepth, maxBins, f1_score))\n",
    "\n",
    "# Trouver les meilleurs hyperparamètres\n",
    "best_params = max(results, key=lambda x: x[3])  # Trier par précision\n",
    "print(f\"Meilleurs paramètres : numTrees={best_params[0]}, maxDepth={best_params[1]}, maxBins={best_params[2]} avec précision={best_params[3]}\")"
   ]
  },
  {
   "cell_type": "markdown",
   "id": "2334e93b-eb79-4433-b24a-19659838a167",
   "metadata": {},
   "source": [
    "## Prediction de marketing"
   ]
  },
  {
   "cell_type": "code",
   "execution_count": 22,
   "id": "af151f1c-880f-423e-b28c-f76334522594",
   "metadata": {},
   "outputs": [
    {
     "name": "stdout",
     "output_type": "stream",
     "text": [
      "root\n",
      " |-- age: integer (nullable = true)\n",
      " |-- sexe: string (nullable = true)\n",
      " |-- taux: float (nullable = true)\n",
      " |-- situationfamiliale: string (nullable = true)\n",
      " |-- nbenfantacharge: integer (nullable = true)\n",
      " |-- deuxiemevoiture: boolean (nullable = true)\n",
      " |-- taux_eligible: boolean (nullable = true)\n",
      "\n",
      "+---+----+------+------------------+---------------+---------------+-------------+----------+-------------+\n",
      "|age|sexe|  taux|situationfamiliale|nbenfantacharge|deuxiemevoiture|taux_eligible|sexe_index| sexe_encoded|\n",
      "+---+----+------+------------------+---------------+---------------+-------------+----------+-------------+\n",
      "| 21|   F|1396.0|       celibataire|              0|          false|        false|       1.0|    (1,[],[])|\n",
      "| 35|   M| 223.0|       celibataire|              0|          false|         true|       0.0|(1,[0],[1.0])|\n",
      "| 48|   M| 401.0|       celibataire|              0|          false|         true|       0.0|(1,[0],[1.0])|\n",
      "| 26|   F| 420.0|         en couple|              3|           true|         true|       1.0|    (1,[],[])|\n",
      "| 80|   M| 530.0|         en couple|              3|          false|         true|       0.0|(1,[0],[1.0])|\n",
      "| 27|   F| 153.0|         en couple|              2|          false|         true|       1.0|    (1,[],[])|\n",
      "| 59|   F| 572.0|         en couple|              2|          false|        false|       1.0|    (1,[],[])|\n",
      "| 43|   F| 431.0|       celibataire|              0|          false|         true|       1.0|    (1,[],[])|\n",
      "| 64|   M| 559.0|       celibataire|              0|          false|        false|       0.0|(1,[0],[1.0])|\n",
      "| 22|   M| 154.0|         en couple|              1|          false|         true|       0.0|(1,[0],[1.0])|\n",
      "| 79|   F| 981.0|         en couple|              2|          false|        false|       1.0|    (1,[],[])|\n",
      "| 55|   M| 588.0|       celibataire|              0|          false|        false|       0.0|(1,[0],[1.0])|\n",
      "| 19|   F| 212.0|       celibataire|              0|          false|         true|       1.0|    (1,[],[])|\n",
      "| 34|   F|1112.0|         en couple|              0|          false|        false|       1.0|    (1,[],[])|\n",
      "| 60|   M| 524.0|         en couple|              0|           true|         true|       0.0|(1,[0],[1.0])|\n",
      "| 22|   M| 411.0|         en couple|              3|           true|         true|       0.0|(1,[0],[1.0])|\n",
      "| 58|   M|1192.0|         en couple|              0|          false|        false|       0.0|(1,[0],[1.0])|\n",
      "| 54|   F| 452.0|         en couple|              3|           true|         true|       1.0|    (1,[],[])|\n",
      "| 35|   M| 589.0|       celibataire|              0|          false|        false|       0.0|(1,[0],[1.0])|\n",
      "| 59|   M| 748.0|         en couple|              0|           true|        false|       0.0|(1,[0],[1.0])|\n",
      "+---+----+------+------------------+---------------+---------------+-------------+----------+-------------+\n",
      "\n",
      "+--------------------+--------------------+--------------------+----------+------------------+\n",
      "|            features|       rawPrediction|         probability|prediction|predicted_category|\n",
      "+--------------------+--------------------+--------------------+----------+------------------+\n",
      "|(11,[0,1,5,7,9],[...|[40.5210715386849...|[0.81042143077369...|       0.0|          citadine|\n",
      "|(11,[0,1,4,6,7,9]...|[31.8883815086412...|[0.63776763017282...|       0.0|          citadine|\n",
      "|(11,[0,1,4,6,7,9]...|[32.6499638150055...|[0.65299927630011...|       0.0|          citadine|\n",
      "|[26.0,420.0,3.0,1...|[0.01772808304339...|[3.54561660867929...|       1.0|               SUV|\n",
      "|(11,[0,1,2,4,6,8]...|[0.01919902824097...|[3.83980564819534...|       1.0|               SUV|\n",
      "|(11,[0,1,2,4,5,8]...|[3.07088197078524...|[0.06141763941570...|       2.0|             break|\n",
      "|(11,[0,1,2,5,8],[...|[1.01181261514291...|[0.02023625230285...|       2.0|             break|\n",
      "|(11,[0,1,4,5,7,9]...|[33.8840341770353...|[0.67768068354070...|       0.0|          citadine|\n",
      "|(11,[0,1,6,7,9],[...|[26.3094746304018...|[0.52618949260803...|       0.0|          citadine|\n",
      "|(11,[0,1,2,4,6,8]...|[4.24420682811912...|[0.08488413656238...|       2.0|             break|\n",
      "|(11,[0,1,2,5,8],[...|[0.72690129205153...|[0.01453802584103...|       4.0|           berline|\n",
      "|(11,[0,1,6,7,9],[...|[31.9857030815228...|[0.63971406163045...|       0.0|          citadine|\n",
      "|(11,[0,1,4,5,7,9]...|[33.1828050672919...|[0.66365610134583...|       0.0|          citadine|\n",
      "|(11,[0,1,5,8],[34...|[0.98560254732907...|[0.01971205094658...|       4.0|           berline|\n",
      "|(11,[0,1,3,4,6,8]...|[48.1474795316523...|[0.96294959063304...|       0.0|          citadine|\n",
      "|[22.0,411.0,3.0,1...|[1.51968934586524...|[0.03039378691730...|       1.0|               SUV|\n",
      "|(11,[0,1,6,8],[58...|[0.66602911004630...|[0.01332058220092...|       4.0|           berline|\n",
      "|[54.0,452.0,3.0,1...|[0.01111321130132...|[2.22264226026450...|       1.0|               SUV|\n",
      "|(11,[0,1,6,7,9],[...|[31.9876005395420...|[0.63975201079084...|       0.0|          citadine|\n",
      "|(11,[0,1,3,6,8],[...|[46.2535611754042...|[0.92507122350808...|       0.0|          citadine|\n",
      "+--------------------+--------------------+--------------------+----------+------------------+\n",
      "\n"
     ]
    }
   ],
   "source": [
    "df_marketing = spark.sql(\"SELECT * FROM marketing\")\n",
    "df_marketing.printSchema()\n",
    "\n",
    "\n",
    "df_marketing = indexer_sexe.transform(df_marketing)\n",
    "df_marketing = encoder_sexe.transform(df_marketing)\n",
    "df_marketing.show()\n",
    "\n",
    "\n",
    "df_marketing = indexer_situationfamiliale.transform(df_marketing)\n",
    "df_marketing = encoder_situationfamiliale.transform(df_marketing)\n",
    "df_marketing = df_marketing.withColumn(\n",
    "    \"deuxiemevoiture\",\n",
    "    when(col(\"deuxiemevoiture\") == False, 0)\n",
    "    .when(col(\"deuxiemevoiture\") == True, 1)\n",
    "    .otherwise(col(\"deuxiemevoiture\").cast(\"int\"))\n",
    ")\n",
    "\n",
    "df_marketing = df_marketing.withColumn(\n",
    "    \"taux_eligible\",\n",
    "    when(col(\"taux_eligible\") == False, 0)\n",
    "    .when(col(\"taux_eligible\") == True, 1)\n",
    "    .otherwise(col(\"taux_eligible\").cast(\"int\"))\n",
    ")\n",
    "df_marketing = df_marketing.select(feature_cols)\n",
    "\n",
    "# Assembler les caractéristiques\n",
    "assembler = VectorAssembler(inputCols=feature_cols, outputCol=\"features\")\n",
    "prediction_data = assembler.transform(df_marketing).select(\"features\")\n",
    "\n",
    "# Effectuer les prédictions\n",
    "marketingPrediction = model.transform(prediction_data)\n",
    "\n",
    "# Mapper les prédictions avec les labels\n",
    "label_to_category = IndexToString(\n",
    "    inputCol=\"prediction\",\n",
    "    outputCol=\"predicted_category\",\n",
    "    labels=indexer_model.labels\n",
    ")\n",
    "result = label_to_category.transform(marketingPrediction)\n",
    "\n",
    "# Afficher les résultats\n",
    "result.show()"
   ]
  },
  {
   "cell_type": "code",
   "execution_count": null,
   "id": "6e6546d6-ecab-4e16-9c10-24a021ef536d",
   "metadata": {},
   "outputs": [],
   "source": []
  }
 ],
 "metadata": {
  "kernelspec": {
   "display_name": "Python 3 (ipykernel)",
   "language": "python",
   "name": "python3"
  },
  "language_info": {
   "codemirror_mode": {
    "name": "ipython",
    "version": 3
   },
   "file_extension": ".py",
   "mimetype": "text/x-python",
   "name": "python",
   "nbconvert_exporter": "python",
   "pygments_lexer": "ipython3",
   "version": "3.9.7"
  }
 },
 "nbformat": 4,
 "nbformat_minor": 5
}
